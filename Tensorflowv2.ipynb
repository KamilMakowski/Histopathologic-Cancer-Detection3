{
 "cells": [
  {
   "cell_type": "markdown",
   "metadata": {},
   "source": [
    "# Importowanie bibliotek"
   ]
  },
  {
   "cell_type": "code",
   "execution_count": 1,
   "metadata": {},
   "outputs": [],
   "source": [
    "import tensorflow as tf\n",
    "from tensorflow.keras.models import Sequential\n",
    "from tensorflow.keras.layers import Dense, Conv2D, Flatten, Dropout, MaxPooling2D\n",
    "from tensorflow.keras.preprocessing.image import ImageDataGenerator\n",
    "\n",
    "import pandas as pd\n",
    "import os\n",
    "from glob import glob\n",
    "from sklearn.model_selection import train_test_split\n",
    "from sklearn import metrics\n",
    "from imgaug import augmenters as iaa\n",
    "import imgaug as ia\n",
    "from random import shuffle\n",
    "import cv2\n",
    "import numpy as np\n",
    "\n",
    "from DataService import DataService\n",
    "from EnvironmentSettings import EnvironmentSettings\n",
    "\n",
    "import matplotlib.pyplot as plt"
   ]
  },
  {
   "cell_type": "markdown",
   "metadata": {},
   "source": [
    "# Ustawianie ścieżek do zasobów\n",
    "\n",
    "W oddzielnej klasie *EnvironmentSettings* przypisuje do zmiennych ścieżki, które odnoszą się do takich zasobów jak zbiór testowy, treningowy, labelki itd"
   ]
  },
  {
   "cell_type": "code",
   "execution_count": 2,
   "metadata": {},
   "outputs": [],
   "source": [
    "ENV_SETTINGS = EnvironmentSettings(\"HOME\")"
   ]
  },
  {
   "cell_type": "markdown",
   "metadata": {},
   "source": [
    "# Wczytywanie danych"
   ]
  },
  {
   "cell_type": "code",
   "execution_count": 3,
   "metadata": {},
   "outputs": [
    {
     "name": "stdout",
     "output_type": "stream",
     "text": [
      "labeled files size : 220025\n",
      "training size : 198022\n",
      "testing size : 22003\n"
     ]
    }
   ],
   "source": [
    "train_files = glob(ENV_SETTINGS.train + '/*.' + ENV_SETTINGS.image_extension)\n",
    "print(\"labeled files size :\", len(train_files))\n",
    "\n",
    "df_train = pd.read_csv(ENV_SETTINGS.labels)\n",
    "df_train.head()\n",
    "FILE_LABELS = {k:v for k,v in zip(df_train.id.values, df_train.label.values)}\n",
    "\n",
    "TRAIN_SET, TEST_SET = train_test_split(train_files, test_size = 0.1, random_state = 42)\n",
    "print(\"training size :\", len(TRAIN_SET))\n",
    "print(\"testing size :\", len(TEST_SET))"
   ]
  },
  {
   "cell_type": "markdown",
   "metadata": {},
   "source": [
    "# Generowanie danych (w batch'ach)"
   ]
  },
  {
   "cell_type": "code",
   "execution_count": 4,
   "metadata": {},
   "outputs": [],
   "source": [
    "def chunker(seq, size):\n",
    "    return (seq[pos:pos + size] for pos in range(0, len(seq), size))\n",
    "\n",
    "def get_id_from_file_path(file_path):\n",
    "    #return os.path.basename(file_path)\n",
    "    return file_path.split(os.path.sep)[-1].replace('.' + ENV_SETTINGS.image_extension, '')\n",
    "\n",
    "def data_gen(list_files, id_label_map, batch_size):\n",
    "    while True:\n",
    "        #shuffle(list_files)\n",
    "        for batch in chunker(list_files, batch_size):\n",
    "            X = [cv2.imread(x) for x in batch]\n",
    "            Y = [id_label_map[get_id_from_file_path(x)] for x in batch]\n",
    "\n",
    "            yield np.array(X), np.array(Y)\n"
   ]
  },
  {
   "cell_type": "markdown",
   "metadata": {},
   "source": [
    "# Generowanie wykresów metryk"
   ]
  },
  {
   "cell_type": "code",
   "execution_count": 5,
   "metadata": {},
   "outputs": [],
   "source": [
    "def show_final_history(history):\n",
    "    fig, ax = plt.subplots(2, 2, figsize=(15,5))\n",
    "    ax[0][0].set_title('loss')\n",
    "    ax[0][0].plot(history.epoch, history.history[\"loss\"], label=\"Train loss\")\n",
    "    ax[0][0].plot(history.epoch, history.history[\"val_loss\"], label=\"Validation loss\")\n",
    "    ax[0][1].set_title('accuracy')\n",
    "    ax[0][1].plot(history.epoch, history.history[\"accuracy\"], label=\"Train acc\")\n",
    "    ax[0][1].plot(history.epoch, history.history[\"val_accuracy\"], label=\"Validation acc\")\n",
    "    ax[1][0].set_title('F1')\n",
    "    ax[1][0].plot(history.epoch, history.history[\"get_f1\"], label=\"Train F1\")\n",
    "    ax[1][0].plot(history.epoch, history.history[\"val_get_f1\"], label=\"Validation F1\")\n",
    "    ax[1][1].set_title('Auc')\n",
    "    ax[1][1].plot(history.epoch, history.history[\"get_auc\"], label=\"Train Auc\")\n",
    "    ax[1][1].plot(history.epoch, history.history[\"val_get_auc\"], label=\"Validation Auc\")\n",
    "    ax[0][0].legend()\n",
    "    ax[0][1].legend()\n",
    "    ax[1][0].legend()\n",
    "    ax[1][1].legend()\n",
    "    plt.show()"
   ]
  },
  {
   "cell_type": "markdown",
   "metadata": {},
   "source": [
    "# Metryki F1 oraz Auc"
   ]
  },
  {
   "cell_type": "code",
   "execution_count": 6,
   "metadata": {},
   "outputs": [],
   "source": [
    "from tensorflow.keras.callbacks import Callback,ModelCheckpoint\n",
    "from tensorflow.keras.models import Sequential,load_model\n",
    "from tensorflow.keras.layers import Dense, Dropout\n",
    "from tensorflow.keras.wrappers.scikit_learn import KerasClassifier\n",
    "import tensorflow.keras.backend as K\n",
    "def get_f1(y_true, y_pred): #taken from old keras source code\n",
    "    true_positives = K.sum(K.round(K.clip(y_true * y_pred, 0, 1)))\n",
    "    possible_positives = K.sum(K.round(K.clip(y_true, 0, 1)))\n",
    "    predicted_positives = K.sum(K.round(K.clip(y_pred, 0, 1)))\n",
    "    precision = true_positives / (predicted_positives + K.epsilon())\n",
    "    recall = true_positives / (possible_positives + K.epsilon())\n",
    "    f1_val = 2*(precision*recall)/(precision+recall+K.epsilon())\n",
    "    return f1_val\n",
    "\n",
    "\n",
    "from tensorflow.keras.callbacks import Callback\n",
    "from sklearn.metrics import roc_auc_score\n",
    "\n",
    "# AUC for a binary classifier (https://www.kaggle.com/c/porto-seguro-safe-driver-prediction/discussion/41015)\n",
    "def get_auc(y_true, y_pred):\n",
    "    ptas = tf.stack([binary_PTA(y_true,y_pred,k) for k in np.linspace(0, 1, 1000)],axis=0)\n",
    "    pfas = tf.stack([binary_PFA(y_true,y_pred,k) for k in np.linspace(0, 1, 1000)],axis=0)\n",
    "    pfas = tf.concat([tf.ones((1,)) ,pfas],axis=0)\n",
    "    binSizes = -(pfas[1:]-pfas[:-1])\n",
    "    s = ptas*binSizes\n",
    "    return K.sum(s, axis=0)\n",
    "    \n",
    "#---------------------\n",
    "# PFA, prob false alert for binary classifier\n",
    "def binary_PFA(y_true, y_pred, threshold=K.variable(value=0.5)):\n",
    "    y_pred = K.cast(y_pred >= threshold, 'float32')\n",
    "    # N = total number of negative labels\n",
    "    N = K.sum(1 - y_true)\n",
    "    # FP = total number of false alerts, alerts from the negative class labels\n",
    "    FP = K.sum(y_pred - y_pred * y_true)\n",
    "    return FP/N\n",
    "\n",
    "#----------------\n",
    "# P_TA prob true alerts for binary classifier\n",
    "def binary_PTA(y_true, y_pred, threshold=K.variable(value=0.5)):\n",
    "    y_pred = K.cast(y_pred >= threshold, 'float32')\n",
    "    # P = total number of positive labels\n",
    "    P = K.sum(y_true)\n",
    "    # TP = total number of correct alerts, alerts from the positive class labels\n",
    "    TP = K.sum(y_pred * y_true)\n",
    "    return TP/P\n",
    "    "
   ]
  },
  {
   "cell_type": "markdown",
   "metadata": {},
   "source": [
    "# Parametry uczenia"
   ]
  },
  {
   "cell_type": "code",
   "execution_count": 7,
   "metadata": {},
   "outputs": [],
   "source": [
    "HEIGHT = WIDTH = 96\n",
    "CHANNEL = 3\n",
    "BATCH_SIZE = 128\n",
    "EPOCHS = 1000"
   ]
  },
  {
   "cell_type": "markdown",
   "metadata": {},
   "source": [
    "# Zdefiniowanie modelu"
   ]
  },
  {
   "cell_type": "code",
   "execution_count": 8,
   "metadata": {},
   "outputs": [],
   "source": [
    "model = Sequential([\n",
    "    Conv2D(16, 3, padding='same', activation='relu', input_shape=(HEIGHT, WIDTH ,CHANNEL)),\n",
    "    MaxPooling2D(),\n",
    "    Conv2D(32, 3, padding='same', activation='relu'),\n",
    "    MaxPooling2D(),\n",
    "    Conv2D(64, 3, padding='same', activation='relu'),\n",
    "    MaxPooling2D(),\n",
    "    Flatten(),\n",
    "    Dense(512, activation='relu'),\n",
    "    Dense(1)\n",
    "])"
   ]
  },
  {
   "cell_type": "markdown",
   "metadata": {},
   "source": [
    "# Kompilacja modelu"
   ]
  },
  {
   "cell_type": "code",
   "execution_count": 9,
   "metadata": {},
   "outputs": [],
   "source": [
    "model.compile(optimizer='adam',\n",
    "              loss=tf.keras.losses.BinaryCrossentropy(from_logits=True),\n",
    "              metrics=['accuracy', get_f1, get_auc])"
   ]
  },
  {
   "cell_type": "code",
   "execution_count": 10,
   "metadata": {},
   "outputs": [
    {
     "name": "stdout",
     "output_type": "stream",
     "text": [
      "Model: \"sequential\"\n",
      "_________________________________________________________________\n",
      "Layer (type)                 Output Shape              Param #   \n",
      "=================================================================\n",
      "conv2d (Conv2D)              (None, 96, 96, 16)        448       \n",
      "_________________________________________________________________\n",
      "max_pooling2d (MaxPooling2D) (None, 48, 48, 16)        0         \n",
      "_________________________________________________________________\n",
      "conv2d_1 (Conv2D)            (None, 48, 48, 32)        4640      \n",
      "_________________________________________________________________\n",
      "max_pooling2d_1 (MaxPooling2 (None, 24, 24, 32)        0         \n",
      "_________________________________________________________________\n",
      "conv2d_2 (Conv2D)            (None, 24, 24, 64)        18496     \n",
      "_________________________________________________________________\n",
      "max_pooling2d_2 (MaxPooling2 (None, 12, 12, 64)        0         \n",
      "_________________________________________________________________\n",
      "flatten (Flatten)            (None, 9216)              0         \n",
      "_________________________________________________________________\n",
      "dense (Dense)                (None, 512)               4719104   \n",
      "_________________________________________________________________\n",
      "dense_1 (Dense)              (None, 1)                 513       \n",
      "=================================================================\n",
      "Total params: 4,743,201\n",
      "Trainable params: 4,743,201\n",
      "Non-trainable params: 0\n",
      "_________________________________________________________________\n"
     ]
    }
   ],
   "source": [
    "model.summary()"
   ]
  },
  {
   "cell_type": "markdown",
   "metadata": {},
   "source": [
    "# Start nauki modelu"
   ]
  },
  {
   "cell_type": "code",
   "execution_count": 11,
   "metadata": {
    "scrolled": true
   },
   "outputs": [
    {
     "name": "stdout",
     "output_type": "stream",
     "text": [
      "WARNING:tensorflow:From <ipython-input-11-80e72e74fcc1>:15: Model.fit_generator (from tensorflow.python.keras.engine.training) is deprecated and will be removed in a future version.\n",
      "Instructions for updating:\n",
      "Please use Model.fit, which supports generators.\n",
      "WARNING:tensorflow:sample_weight modes were coerced from\n",
      "  ...\n",
      "    to  \n",
      "  ['...']\n",
      "WARNING:tensorflow:sample_weight modes were coerced from\n",
      "  ...\n",
      "    to  \n",
      "  ['...']\n",
      "Train for 1547 steps, validate for 171 steps\n",
      "Epoch 1/1000\n",
      "1546/1547 [============================>.] - ETA: 0s - loss: 1.6005 - accuracy: 0.7655 - get_f1: 0.6431 - get_auc: 0.6248WARNING:tensorflow:From C:\\Users\\neeke\\anaconda3\\envs\\tensorflow2\\lib\\site-packages\\tensorflow_core\\python\\ops\\resource_variable_ops.py:1786: calling BaseResourceVariable.__init__ (from tensorflow.python.ops.resource_variable_ops) with constraint is deprecated and will be removed in a future version.\n",
      "Instructions for updating:\n",
      "If using Keras pass *_constraint arguments to layers.\n",
      "INFO:tensorflow:Assets written to: C:\\MyFiles\\Thesis\\Project\\outputs\\checkpoints\\assets\n",
      "1547/1547 [==============================] - 779s 503ms/step - loss: 1.5998 - accuracy: 0.7655 - get_f1: 0.6430 - get_auc: 0.6248 - val_loss: 0.4393 - val_accuracy: 0.7841 - val_get_f1: 0.6854 - val_get_auc: 0.6622\n",
      "Epoch 2/1000\n",
      "1546/1547 [============================>.] - ETA: 0s - loss: 0.4282 - accuracy: 0.7972 - get_f1: 0.7089 - get_auc: 0.6784INFO:tensorflow:Assets written to: C:\\MyFiles\\Thesis\\Project\\outputs\\checkpoints\\assets\n",
      "1547/1547 [==============================] - 983s 635ms/step - loss: 0.4282 - accuracy: 0.7971 - get_f1: 0.7088 - get_auc: 0.6783 - val_loss: 0.4188 - val_accuracy: 0.7893 - val_get_f1: 0.6852 - val_get_auc: 0.6527\n",
      "Epoch 3/1000\n",
      "1546/1547 [============================>.] - ETA: 0s - loss: 0.4025 - accuracy: 0.8119 - get_f1: 0.7328 - get_auc: 0.6989INFO:tensorflow:Assets written to: C:\\MyFiles\\Thesis\\Project\\outputs\\checkpoints\\assets\n",
      "1547/1547 [==============================] - 940s 607ms/step - loss: 0.4025 - accuracy: 0.8120 - get_f1: 0.7329 - get_auc: 0.6989 - val_loss: 0.3991 - val_accuracy: 0.8064 - val_get_f1: 0.7205 - val_get_auc: 0.6789\n",
      "Epoch 4/1000\n",
      "1546/1547 [============================>.] - ETA: 0s - loss: 0.3781 - accuracy: 0.8248 - get_f1: 0.7532 - get_auc: 0.7188INFO:tensorflow:Assets written to: C:\\MyFiles\\Thesis\\Project\\outputs\\checkpoints\\assets\n",
      "1547/1547 [==============================] - 181s 117ms/step - loss: 0.3781 - accuracy: 0.8248 - get_f1: 0.7532 - get_auc: 0.7189 - val_loss: 0.3878 - val_accuracy: 0.8273 - val_get_f1: 0.7742 - val_get_auc: 0.7426\n",
      "Epoch 5/1000\n",
      "1545/1547 [============================>.] - ETA: 0s - loss: 0.3542 - accuracy: 0.8380 - get_f1: 0.7751 - get_auc: 0.7407INFO:tensorflow:Assets written to: C:\\MyFiles\\Thesis\\Project\\outputs\\checkpoints\\assets\n",
      "1547/1547 [==============================] - 87s 56ms/step - loss: 0.3541 - accuracy: 0.8380 - get_f1: 0.7751 - get_auc: 0.7408 - val_loss: 0.3920 - val_accuracy: 0.8304 - val_get_f1: 0.7789 - val_get_auc: 0.7360\n",
      "Epoch 6/1000\n",
      "1547/1547 [==============================] - 86s 56ms/step - loss: 0.3276 - accuracy: 0.8522 - get_f1: 0.7973 - get_auc: 0.7647 - val_loss: 0.3888 - val_accuracy: 0.8244 - val_get_f1: 0.7629 - val_get_auc: 0.7221\n",
      "Epoch 7/1000\n",
      "1547/1547 [==============================] - 86s 56ms/step - loss: 0.3050 - accuracy: 0.8643 - get_f1: 0.8160 - get_auc: 0.7837 - val_loss: 0.4174 - val_accuracy: 0.8232 - val_get_f1: 0.7707 - val_get_auc: 0.7218\n",
      "Epoch 8/1000\n",
      "1547/1547 [==============================] - 86s 55ms/step - loss: 0.2826 - accuracy: 0.8766 - get_f1: 0.8337 - get_auc: 0.8016 - val_loss: 0.4458 - val_accuracy: 0.8122 - val_get_f1: 0.7501 - val_get_auc: 0.6966\n",
      "Epoch 9/1000\n",
      "1547/1547 [==============================] - 86s 56ms/step - loss: 0.2578 - accuracy: 0.8885 - get_f1: 0.8510 - get_auc: 0.8207 - val_loss: 0.5032 - val_accuracy: 0.8038 - val_get_f1: 0.7402 - val_get_auc: 0.6824\n"
     ]
    }
   ],
   "source": [
    "early_stopping_callback = tf.keras.callbacks.EarlyStopping(monitor='val_accuracy', patience=4)\n",
    "checkpoint_callback = tf.keras.callbacks.ModelCheckpoint(\n",
    "    filepath=ENV_SETTINGS.checkpoint,\n",
    "    save_weights_only=False,\n",
    "    monitor='val_accuracy',\n",
    "    mode='max',\n",
    "    save_best_only=True)\n",
    "\n",
    "history = model.fit_generator(\n",
    "    data_gen(TRAIN_SET, FILE_LABELS, BATCH_SIZE),\n",
    "    steps_per_epoch=len(TRAIN_SET) // BATCH_SIZE,\n",
    "    epochs=EPOCHS,\n",
    "    validation_data=data_gen(TEST_SET, FILE_LABELS, BATCH_SIZE),\n",
    "    validation_steps=len(TEST_SET) // BATCH_SIZE,\n",
    "    callbacks=[checkpoint_callback, early_stopping_callback]\n",
    ")"
   ]
  },
  {
   "cell_type": "code",
   "execution_count": 12,
   "metadata": {},
   "outputs": [
    {
     "data": {
      "image/png": "[encoded data removed]",
      "text/plain": [
       "<Figure size 1080x360 with 4 Axes>"
      ]
     },
     "metadata": {
      "needs_background": "light"
     },
     "output_type": "display_data"
    }
   ],
   "source": [
    "show_final_history(history)"
   ]
  },
  {
   "cell_type": "markdown",
   "metadata": {},
   "source": [
    "# Zbudowanie i nauka bardziej zaawansowanego modelu"
   ]
  },
  {
   "cell_type": "code",
   "execution_count": 13,
   "metadata": {},
   "outputs": [
    {
     "name": "stdout",
     "output_type": "stream",
     "text": [
      "Model: \"sequential_1\"\n",
      "_________________________________________________________________\n",
      "Layer (type)                 Output Shape              Param #   \n",
      "=================================================================\n",
      "conv2d_3 (Conv2D)            (None, 96, 96, 16)        448       \n",
      "_________________________________________________________________\n",
      "conv2d_4 (Conv2D)            (None, 96, 96, 16)        2320      \n",
      "_________________________________________________________________\n",
      "dropout (Dropout)            (None, 96, 96, 16)        0         \n",
      "_________________________________________________________________\n",
      "max_pooling2d_3 (MaxPooling2 (None, 48, 48, 16)        0         \n",
      "_________________________________________________________________\n",
      "conv2d_5 (Conv2D)            (None, 48, 48, 32)        4640      \n",
      "_________________________________________________________________\n",
      "conv2d_6 (Conv2D)            (None, 48, 48, 32)        9248      \n",
      "_________________________________________________________________\n",
      "dropout_1 (Dropout)          (None, 48, 48, 32)        0         \n",
      "_________________________________________________________________\n",
      "max_pooling2d_4 (MaxPooling2 (None, 24, 24, 32)        0         \n",
      "_________________________________________________________________\n",
      "conv2d_7 (Conv2D)            (None, 24, 24, 64)        18496     \n",
      "_________________________________________________________________\n",
      "conv2d_8 (Conv2D)            (None, 24, 24, 64)        36928     \n",
      "_________________________________________________________________\n",
      "dropout_2 (Dropout)          (None, 24, 24, 64)        0         \n",
      "_________________________________________________________________\n",
      "max_pooling2d_5 (MaxPooling2 (None, 12, 12, 64)        0         \n",
      "_________________________________________________________________\n",
      "flatten_1 (Flatten)          (None, 9216)              0         \n",
      "_________________________________________________________________\n",
      "dense_2 (Dense)              (None, 512)               4719104   \n",
      "_________________________________________________________________\n",
      "dropout_3 (Dropout)          (None, 512)               0         \n",
      "_________________________________________________________________\n",
      "dense_3 (Dense)              (None, 1)                 513       \n",
      "=================================================================\n",
      "Total params: 4,791,697\n",
      "Trainable params: 4,791,697\n",
      "Non-trainable params: 0\n",
      "_________________________________________________________________\n"
     ]
    }
   ],
   "source": [
    "model2 = Sequential([\n",
    "    Conv2D(16, 3, padding='same', activation='relu', input_shape=(HEIGHT, WIDTH ,CHANNEL)),\n",
    "    Conv2D(16, 3, padding='same', activation='relu'),\n",
    "    Dropout(0.5),\n",
    "    MaxPooling2D(),\n",
    "    Conv2D(32, 3, padding='same', activation='relu'),\n",
    "    Conv2D(32, 3, padding='same', activation='relu'),\n",
    "    Dropout(0.5),\n",
    "    MaxPooling2D(),\n",
    "    Conv2D(64, 3, padding='same', activation='relu'),\n",
    "    Conv2D(64, 3, padding='same', activation='relu'),\n",
    "    Dropout(0.5),\n",
    "    MaxPooling2D(),\n",
    "    Flatten(),\n",
    "    Dense(512, activation='relu'),\n",
    "    Dropout(0.5),\n",
    "    Dense(1)\n",
    "])\n",
    "\n",
    "model2.compile(optimizer='adam',\n",
    "              loss=tf.keras.losses.BinaryCrossentropy(from_logits=True),\n",
    "              metrics=['accuracy', get_f1, get_auc])\n",
    "\n",
    "model2.summary()"
   ]
  },
  {
   "cell_type": "code",
   "execution_count": 15,
   "metadata": {},
   "outputs": [
    {
     "name": "stdout",
     "output_type": "stream",
     "text": [
      "WARNING:tensorflow:sample_weight modes were coerced from\n",
      "  ...\n",
      "    to  \n",
      "  ['...']\n",
      "WARNING:tensorflow:sample_weight modes were coerced from\n",
      "  ...\n",
      "    to  \n",
      "  ['...']\n",
      "Train for 1547 steps, validate for 171 steps\n",
      "Epoch 1/1000\n",
      "1546/1547 [============================>.] - ETA: 0s - loss: 0.4415 - accuracy: 0.7902 - get_f1: 0.6975 - get_auc: 0.6759INFO:tensorflow:Assets written to: C:\\MyFiles\\Thesis\\Project\\outputs\\checkpoints\\assets\n",
      "1547/1547 [==============================] - 1020s 660ms/step - loss: 0.4415 - accuracy: 0.7902 - get_f1: 0.6974 - get_auc: 0.6758 - val_loss: 0.5232 - val_accuracy: 0.8050 - val_get_f1: 0.7421 - val_get_auc: 0.7966\n",
      "Epoch 2/1000\n",
      "1546/1547 [============================>.] - ETA: 0s - loss: 0.4186 - accuracy: 0.8026 - get_f1: 0.7185 - get_auc: 0.6929INFO:tensorflow:Assets written to: C:\\MyFiles\\Thesis\\Project\\outputs\\checkpoints\\assets\n",
      "1547/1547 [==============================] - 987s 638ms/step - loss: 0.4186 - accuracy: 0.8026 - get_f1: 0.7185 - get_auc: 0.6929 - val_loss: 0.4656 - val_accuracy: 0.8138 - val_get_f1: 0.7577 - val_get_auc: 0.7682\n",
      "Epoch 3/1000\n",
      "1547/1547 [==============================] - 965s 624ms/step - loss: 0.3904 - accuracy: 0.8186 - get_f1: 0.7448 - get_auc: 0.7188 - val_loss: 0.4485 - val_accuracy: 0.8119 - val_get_f1: 0.7433 - val_get_auc: 0.7303\n",
      "Epoch 4/1000\n",
      "1546/1547 [============================>.] - ETA: 0s - loss: 0.3491 - accuracy: 0.8423 - get_f1: 0.7813 - get_auc: 0.7608INFO:tensorflow:Assets written to: C:\\MyFiles\\Thesis\\Project\\outputs\\checkpoints\\assets\n",
      "1547/1547 [==============================] - 983s 635ms/step - loss: 0.3491 - accuracy: 0.8423 - get_f1: 0.7813 - get_auc: 0.7608 - val_loss: 0.3763 - val_accuracy: 0.8434 - val_get_f1: 0.7826 - val_get_auc: 0.7711\n",
      "Epoch 5/1000\n",
      "1546/1547 [============================>.] - ETA: 0s - loss: 0.3143 - accuracy: 0.8626 - get_f1: 0.8126 - get_auc: 0.7894INFO:tensorflow:Assets written to: C:\\MyFiles\\Thesis\\Project\\outputs\\checkpoints\\assets\n",
      "1547/1547 [==============================] - 975s 630ms/step - loss: 0.3143 - accuracy: 0.8626 - get_f1: 0.8126 - get_auc: 0.7893 - val_loss: 0.3686 - val_accuracy: 0.8548 - val_get_f1: 0.7971 - val_get_auc: 0.7958\n",
      "Epoch 6/1000\n",
      "1547/1547 [==============================] - 975s 631ms/step - loss: 0.2929 - accuracy: 0.8740 - get_f1: 0.8291 - get_auc: 0.8055 - val_loss: 0.3541 - val_accuracy: 0.8318 - val_get_f1: 0.7445 - val_get_auc: 0.7523\n",
      "Epoch 7/1000\n",
      "1547/1547 [==============================] - 998s 645ms/step - loss: 0.2770 - accuracy: 0.8823 - get_f1: 0.8415 - get_auc: 0.8166 - val_loss: 0.3393 - val_accuracy: 0.8229 - val_get_f1: 0.7237 - val_get_auc: 0.7653\n",
      "Epoch 8/1000\n",
      "1546/1547 [============================>.] - ETA: 0s - loss: 0.2652 - accuracy: 0.8879 - get_f1: 0.8497 - get_auc: 0.8251INFO:tensorflow:Assets written to: C:\\MyFiles\\Thesis\\Project\\outputs\\checkpoints\\assets\n",
      "1547/1547 [==============================] - 1057s 683ms/step - loss: 0.2652 - accuracy: 0.8879 - get_f1: 0.8497 - get_auc: 0.8251 - val_loss: 0.3075 - val_accuracy: 0.8604 - val_get_f1: 0.7955 - val_get_auc: 0.8057\n",
      "Epoch 9/1000\n",
      "1546/1547 [============================>.] - ETA: 0s - loss: 0.2597 - accuracy: 0.8905 - get_f1: 0.8531 - get_auc: 0.8299INFO:tensorflow:Assets written to: C:\\MyFiles\\Thesis\\Project\\outputs\\checkpoints\\assets\n",
      "1547/1547 [==============================] - 990s 640ms/step - loss: 0.2597 - accuracy: 0.8905 - get_f1: 0.8532 - get_auc: 0.8299 - val_loss: 0.2847 - val_accuracy: 0.8693 - val_get_f1: 0.8119 - val_get_auc: 0.8023\n",
      "Epoch 10/1000\n",
      "1547/1547 [==============================] - 989s 639ms/step - loss: 0.2562 - accuracy: 0.8926 - get_f1: 0.8563 - get_auc: 0.8324 - val_loss: 0.3306 - val_accuracy: 0.8117 - val_get_f1: 0.7010 - val_get_auc: 0.7390\n",
      "Epoch 11/1000\n",
      "1547/1547 [==============================] - 976s 631ms/step - loss: 0.2499 - accuracy: 0.8954 - get_f1: 0.8605 - get_auc: 0.8357 - val_loss: 0.3308 - val_accuracy: 0.8003 - val_get_f1: 0.6748 - val_get_auc: 0.6955\n",
      "Epoch 12/1000\n",
      "1547/1547 [==============================] - 976s 631ms/step - loss: 0.2461 - accuracy: 0.8971 - get_f1: 0.8627 - get_auc: 0.8383 - val_loss: 0.3363 - val_accuracy: 0.7930 - val_get_f1: 0.6587 - val_get_auc: 0.6847\n",
      "Epoch 13/1000\n",
      "1547/1547 [==============================] - 974s 630ms/step - loss: 0.2444 - accuracy: 0.8978 - get_f1: 0.8635 - get_auc: 0.8388 - val_loss: 0.3498 - val_accuracy: 0.7700 - val_get_f1: 0.6045 - val_get_auc: 0.6440\n"
     ]
    }
   ],
   "source": [
    "early_stopping_callback = tf.keras.callbacks.EarlyStopping(monitor='val_accuracy', patience=4)\n",
    "checkpoint_callback = tf.keras.callbacks.ModelCheckpoint(\n",
    "    filepath=ENV_SETTINGS.checkpoint,\n",
    "    save_weights_only=False,\n",
    "    monitor='val_accuracy',\n",
    "    mode='max',\n",
    "    save_best_only=True)\n",
    "\n",
    "history2 = model2.fit_generator(\n",
    "    data_gen(TRAIN_SET, FILE_LABELS, BATCH_SIZE),\n",
    "    steps_per_epoch=len(TRAIN_SET) // BATCH_SIZE,\n",
    "    epochs=EPOCHS,\n",
    "    validation_data=data_gen(TEST_SET, FILE_LABELS, BATCH_SIZE),\n",
    "    validation_steps=len(TEST_SET) // BATCH_SIZE,\n",
    "    callbacks=[checkpoint_callback, early_stopping_callback]\n",
    ")"
   ]
  },
  {
   "cell_type": "code",
   "execution_count": 16,
   "metadata": {},
   "outputs": [
    {
     "data": {
      "image/png": "[encoded data removed]",
      "text/plain": [
       "<Figure size 1080x360 with 4 Axes>"
      ]
     },
     "metadata": {
      "needs_background": "light"
     },
     "output_type": "display_data"
    }
   ],
   "source": [
    "show_final_history(history2)"
   ]
  },
  {
   "cell_type": "markdown",
   "metadata": {},
   "source": [
    "# Dostosowywanie parametrów"
   ]
  },
  {
   "cell_type": "code",
   "execution_count": 17,
   "metadata": {},
   "outputs": [],
   "source": [
    "from kerastuner import HyperModel"
   ]
  },
  {
   "cell_type": "code",
   "execution_count": 22,
   "metadata": {},
   "outputs": [],
   "source": [
    "class CNNHyperModel(HyperModel):\n",
    "    def __init__(self, input_shape):\n",
    "        self.input_shape = input_shape\n",
    "\n",
    "    def build(self, hp):\n",
    "        model = Sequential()\n",
    "        model.add(\n",
    "            Conv2D(\n",
    "                filters=16,\n",
    "                kernel_size=3,\n",
    "                activation='relu',\n",
    "                input_shape=self.input_shape\n",
    "            )\n",
    "        )\n",
    "        model.add(\n",
    "            Conv2D(\n",
    "                filters=hp.Choice(\n",
    "                    'conv_1',\n",
    "                    values=[16, 32],\n",
    "                    default=16,\n",
    "                ),\n",
    "                kernel_size=3,\n",
    "                activation='relu'\n",
    "            )\n",
    "        )\n",
    "        model.add(MaxPooling2D())\n",
    "        model.add(\n",
    "            Dropout(rate=hp.Float(\n",
    "                'dropout_1',\n",
    "                min_value=0.0,\n",
    "                max_value=0.5,\n",
    "                default=0.5,\n",
    "                step=0.1,\n",
    "            ))\n",
    "        )\n",
    "        model.add(\n",
    "            Conv2D(\n",
    "                filters=32,\n",
    "                kernel_size=3,\n",
    "                activation='relu'\n",
    "            )\n",
    "        )\n",
    "        model.add(\n",
    "            Conv2D(\n",
    "                filters=hp.Choice(\n",
    "                    'conv_2',\n",
    "                    values=[32, 64],\n",
    "                    default=32,\n",
    "                ),\n",
    "                activation='relu',\n",
    "                kernel_size=3\n",
    "            )\n",
    "        )\n",
    "        model.add(MaxPooling2D())\n",
    "        model.add(\n",
    "            Dropout(rate=hp.Float(\n",
    "                'dropout_2',\n",
    "                min_value=0.0,\n",
    "                max_value=0.5,\n",
    "                default=0.50,\n",
    "                step=0.1,\n",
    "            ))\n",
    "        )\n",
    "        model.add(\n",
    "            Conv2D(\n",
    "                filters=64,\n",
    "                kernel_size=3,\n",
    "                activation='relu'\n",
    "            )\n",
    "        )\n",
    "        model.add(\n",
    "            Conv2D(\n",
    "                filters=hp.Choice(\n",
    "                    'conv_3',\n",
    "                    values=[64, 128],\n",
    "                    default=64,\n",
    "                ),\n",
    "                activation='relu',\n",
    "                kernel_size=3\n",
    "            )\n",
    "        )\n",
    "        model.add(MaxPooling2D())\n",
    "        model.add(\n",
    "            Dropout(rate=hp.Float(\n",
    "                'dropout_3',\n",
    "                min_value=0.0,\n",
    "                max_value=0.5,\n",
    "                default=0.5,\n",
    "                step=0.1,\n",
    "            ))\n",
    "        )\n",
    "        model.add(Flatten())\n",
    "        model.add(\n",
    "            Dense(\n",
    "                units=hp.Int(\n",
    "                    'units',\n",
    "                    min_value=128,\n",
    "                    max_value=1024,\n",
    "                    step=128,\n",
    "                    default=512\n",
    "                ),\n",
    "                activation='relu'\n",
    "            )\n",
    "        )\n",
    "        model.add(\n",
    "            Dropout(\n",
    "                rate=hp.Float(\n",
    "                    'dropout_4',\n",
    "                    min_value=0.0,\n",
    "                    max_value=0.5,\n",
    "                    default=0.5,\n",
    "                    step=0.1\n",
    "                )\n",
    "            )\n",
    "        )\n",
    "        model.add(Dense(1))\n",
    "\n",
    "        model.compile(optimizer='adam',\n",
    "              loss=tf.keras.losses.BinaryCrossentropy(from_logits=True),\n",
    "              metrics=['accuracy'])\n",
    "        \n",
    "        return model\n",
    "\n",
    "hypermodel = CNNHyperModel(input_shape=(HEIGHT, WIDTH, CHANNEL))"
   ]
  },
  {
   "cell_type": "code",
   "execution_count": 23,
   "metadata": {},
   "outputs": [],
   "source": [
    "from kerastuner import RandomSearch\n",
    "\n",
    "tuner = RandomSearch(\n",
    "    hypermodel,\n",
    "    objective='val_accuracy',\n",
    "    max_trials=100,\n",
    "    executions_per_trial=1,\n",
    "    directory='my_dir',\n",
    "    project_name='hyperparameter-tuning1')"
   ]
  },
  {
   "cell_type": "code",
   "execution_count": 24,
   "metadata": {},
   "outputs": [
    {
     "data": {
      "text/html": [
       "<span style=\"color:#4527A0\"><h1 style=\"font-size:18px\">Search space summary</h1></span>"
      ],
      "text/plain": [
       "<IPython.core.display.HTML object>"
      ]
     },
     "metadata": {},
     "output_type": "display_data"
    },
    {
     "data": {
      "text/html": [
       "<span style=\"color:cyan\"> |-Default search space size: 8</span>"
      ],
      "text/plain": [
       "<IPython.core.display.HTML object>"
      ]
     },
     "metadata": {},
     "output_type": "display_data"
    },
    {
     "data": {
      "text/html": [
       "<span style=\"color:#7E57C2\"><h2 style=\"font-size:16px\">conv_1 (Choice)</h2></span>"
      ],
      "text/plain": [
       "<IPython.core.display.HTML object>"
      ]
     },
     "metadata": {},
     "output_type": "display_data"
    },
    {
     "data": {
      "text/html": [
       "<span style=\"color:cyan\"> |-default: 16</span>"
      ],
      "text/plain": [
       "<IPython.core.display.HTML object>"
      ]
     },
     "metadata": {},
     "output_type": "display_data"
    },
    {
     "data": {
      "text/html": [
       "<span style=\"color:blue\"> |-ordered: True</span>"
      ],
      "text/plain": [
       "<IPython.core.display.HTML object>"
      ]
     },
     "metadata": {},
     "output_type": "display_data"
    },
    {
     "data": {
      "text/html": [
       "<span style=\"color:cyan\"> |-values: [16, 32]</span>"
      ],
      "text/plain": [
       "<IPython.core.display.HTML object>"
      ]
     },
     "metadata": {},
     "output_type": "display_data"
    },
    {
     "data": {
      "text/html": [
       "<span style=\"color:#7E57C2\"><h2 style=\"font-size:16px\">dropout_1 (Float)</h2></span>"
      ],
      "text/plain": [
       "<IPython.core.display.HTML object>"
      ]
     },
     "metadata": {},
     "output_type": "display_data"
    },
    {
     "data": {
      "text/html": [
       "<span style=\"color:cyan\"> |-default: 0.5</span>"
      ],
      "text/plain": [
       "<IPython.core.display.HTML object>"
      ]
     },
     "metadata": {},
     "output_type": "display_data"
    },
    {
     "data": {
      "text/html": [
       "<span style=\"color:blue\"> |-max_value: 0.5</span>"
      ],
      "text/plain": [
       "<IPython.core.display.HTML object>"
      ]
     },
     "metadata": {},
     "output_type": "display_data"
    },
    {
     "data": {
      "text/html": [
       "<span style=\"color:cyan\"> |-min_value: 0.0</span>"
      ],
      "text/plain": [
       "<IPython.core.display.HTML object>"
      ]
     },
     "metadata": {},
     "output_type": "display_data"
    },
    {
     "data": {
      "text/html": [
       "<span style=\"color:blue\"> |-sampling: None</span>"
      ],
      "text/plain": [
       "<IPython.core.display.HTML object>"
      ]
     },
     "metadata": {},
     "output_type": "display_data"
    },
    {
     "data": {
      "text/html": [
       "<span style=\"color:cyan\"> |-step: 0.1</span>"
      ],
      "text/plain": [
       "<IPython.core.display.HTML object>"
      ]
     },
     "metadata": {},
     "output_type": "display_data"
    },
    {
     "data": {
      "text/html": [
       "<span style=\"color:#7E57C2\"><h2 style=\"font-size:16px\">conv_2 (Choice)</h2></span>"
      ],
      "text/plain": [
       "<IPython.core.display.HTML object>"
      ]
     },
     "metadata": {},
     "output_type": "display_data"
    },
    {
     "data": {
      "text/html": [
       "<span style=\"color:cyan\"> |-default: 32</span>"
      ],
      "text/plain": [
       "<IPython.core.display.HTML object>"
      ]
     },
     "metadata": {},
     "output_type": "display_data"
    },
    {
     "data": {
      "text/html": [
       "<span style=\"color:blue\"> |-ordered: True</span>"
      ],
      "text/plain": [
       "<IPython.core.display.HTML object>"
      ]
     },
     "metadata": {},
     "output_type": "display_data"
    },
    {
     "data": {
      "text/html": [
       "<span style=\"color:cyan\"> |-values: [32, 64]</span>"
      ],
      "text/plain": [
       "<IPython.core.display.HTML object>"
      ]
     },
     "metadata": {},
     "output_type": "display_data"
    },
    {
     "data": {
      "text/html": [
       "<span style=\"color:#7E57C2\"><h2 style=\"font-size:16px\">dropout_2 (Float)</h2></span>"
      ],
      "text/plain": [
       "<IPython.core.display.HTML object>"
      ]
     },
     "metadata": {},
     "output_type": "display_data"
    },
    {
     "data": {
      "text/html": [
       "<span style=\"color:cyan\"> |-default: 0.5</span>"
      ],
      "text/plain": [
       "<IPython.core.display.HTML object>"
      ]
     },
     "metadata": {},
     "output_type": "display_data"
    },
    {
     "data": {
      "text/html": [
       "<span style=\"color:blue\"> |-max_value: 0.5</span>"
      ],
      "text/plain": [
       "<IPython.core.display.HTML object>"
      ]
     },
     "metadata": {},
     "output_type": "display_data"
    },
    {
     "data": {
      "text/html": [
       "<span style=\"color:cyan\"> |-min_value: 0.0</span>"
      ],
      "text/plain": [
       "<IPython.core.display.HTML object>"
      ]
     },
     "metadata": {},
     "output_type": "display_data"
    },
    {
     "data": {
      "text/html": [
       "<span style=\"color:blue\"> |-sampling: None</span>"
      ],
      "text/plain": [
       "<IPython.core.display.HTML object>"
      ]
     },
     "metadata": {},
     "output_type": "display_data"
    },
    {
     "data": {
      "text/html": [
       "<span style=\"color:cyan\"> |-step: 0.1</span>"
      ],
      "text/plain": [
       "<IPython.core.display.HTML object>"
      ]
     },
     "metadata": {},
     "output_type": "display_data"
    },
    {
     "data": {
      "text/html": [
       "<span style=\"color:#7E57C2\"><h2 style=\"font-size:16px\">conv_3 (Choice)</h2></span>"
      ],
      "text/plain": [
       "<IPython.core.display.HTML object>"
      ]
     },
     "metadata": {},
     "output_type": "display_data"
    },
    {
     "data": {
      "text/html": [
       "<span style=\"color:cyan\"> |-default: 64</span>"
      ],
      "text/plain": [
       "<IPython.core.display.HTML object>"
      ]
     },
     "metadata": {},
     "output_type": "display_data"
    },
    {
     "data": {
      "text/html": [
       "<span style=\"color:blue\"> |-ordered: True</span>"
      ],
      "text/plain": [
       "<IPython.core.display.HTML object>"
      ]
     },
     "metadata": {},
     "output_type": "display_data"
    },
    {
     "data": {
      "text/html": [
       "<span style=\"color:cyan\"> |-values: [64, 128]</span>"
      ],
      "text/plain": [
       "<IPython.core.display.HTML object>"
      ]
     },
     "metadata": {},
     "output_type": "display_data"
    },
    {
     "data": {
      "text/html": [
       "<span style=\"color:#7E57C2\"><h2 style=\"font-size:16px\">dropout_3 (Float)</h2></span>"
      ],
      "text/plain": [
       "<IPython.core.display.HTML object>"
      ]
     },
     "metadata": {},
     "output_type": "display_data"
    },
    {
     "data": {
      "text/html": [
       "<span style=\"color:cyan\"> |-default: 0.5</span>"
      ],
      "text/plain": [
       "<IPython.core.display.HTML object>"
      ]
     },
     "metadata": {},
     "output_type": "display_data"
    },
    {
     "data": {
      "text/html": [
       "<span style=\"color:blue\"> |-max_value: 0.5</span>"
      ],
      "text/plain": [
       "<IPython.core.display.HTML object>"
      ]
     },
     "metadata": {},
     "output_type": "display_data"
    },
    {
     "data": {
      "text/html": [
       "<span style=\"color:cyan\"> |-min_value: 0.0</span>"
      ],
      "text/plain": [
       "<IPython.core.display.HTML object>"
      ]
     },
     "metadata": {},
     "output_type": "display_data"
    },
    {
     "data": {
      "text/html": [
       "<span style=\"color:blue\"> |-sampling: None</span>"
      ],
      "text/plain": [
       "<IPython.core.display.HTML object>"
      ]
     },
     "metadata": {},
     "output_type": "display_data"
    },
    {
     "data": {
      "text/html": [
       "<span style=\"color:cyan\"> |-step: 0.1</span>"
      ],
      "text/plain": [
       "<IPython.core.display.HTML object>"
      ]
     },
     "metadata": {},
     "output_type": "display_data"
    },
    {
     "data": {
      "text/html": [
       "<span style=\"color:#7E57C2\"><h2 style=\"font-size:16px\">units (Int)</h2></span>"
      ],
      "text/plain": [
       "<IPython.core.display.HTML object>"
      ]
     },
     "metadata": {},
     "output_type": "display_data"
    },
    {
     "data": {
      "text/html": [
       "<span style=\"color:cyan\"> |-default: 512</span>"
      ],
      "text/plain": [
       "<IPython.core.display.HTML object>"
      ]
     },
     "metadata": {},
     "output_type": "display_data"
    },
    {
     "data": {
      "text/html": [
       "<span style=\"color:blue\"> |-max_value: 1024</span>"
      ],
      "text/plain": [
       "<IPython.core.display.HTML object>"
      ]
     },
     "metadata": {},
     "output_type": "display_data"
    },
    {
     "data": {
      "text/html": [
       "<span style=\"color:cyan\"> |-min_value: 128</span>"
      ],
      "text/plain": [
       "<IPython.core.display.HTML object>"
      ]
     },
     "metadata": {},
     "output_type": "display_data"
    },
    {
     "data": {
      "text/html": [
       "<span style=\"color:blue\"> |-sampling: None</span>"
      ],
      "text/plain": [
       "<IPython.core.display.HTML object>"
      ]
     },
     "metadata": {},
     "output_type": "display_data"
    },
    {
     "data": {
      "text/html": [
       "<span style=\"color:cyan\"> |-step: 128</span>"
      ],
      "text/plain": [
       "<IPython.core.display.HTML object>"
      ]
     },
     "metadata": {},
     "output_type": "display_data"
    },
    {
     "data": {
      "text/html": [
       "<span style=\"color:#7E57C2\"><h2 style=\"font-size:16px\">dropout_4 (Float)</h2></span>"
      ],
      "text/plain": [
       "<IPython.core.display.HTML object>"
      ]
     },
     "metadata": {},
     "output_type": "display_data"
    },
    {
     "data": {
      "text/html": [
       "<span style=\"color:cyan\"> |-default: 0.5</span>"
      ],
      "text/plain": [
       "<IPython.core.display.HTML object>"
      ]
     },
     "metadata": {},
     "output_type": "display_data"
    },
    {
     "data": {
      "text/html": [
       "<span style=\"color:blue\"> |-max_value: 0.5</span>"
      ],
      "text/plain": [
       "<IPython.core.display.HTML object>"
      ]
     },
     "metadata": {},
     "output_type": "display_data"
    },
    {
     "data": {
      "text/html": [
       "<span style=\"color:cyan\"> |-min_value: 0.0</span>"
      ],
      "text/plain": [
       "<IPython.core.display.HTML object>"
      ]
     },
     "metadata": {},
     "output_type": "display_data"
    },
    {
     "data": {
      "text/html": [
       "<span style=\"color:blue\"> |-sampling: None</span>"
      ],
      "text/plain": [
       "<IPython.core.display.HTML object>"
      ]
     },
     "metadata": {},
     "output_type": "display_data"
    },
    {
     "data": {
      "text/html": [
       "<span style=\"color:cyan\"> |-step: 0.1</span>"
      ],
      "text/plain": [
       "<IPython.core.display.HTML object>"
      ]
     },
     "metadata": {},
     "output_type": "display_data"
    }
   ],
   "source": [
    "tuner.search_space_summary()"
   ]
  },
  {
   "cell_type": "code",
   "execution_count": 25,
   "metadata": {},
   "outputs": [
    {
     "name": "stdout",
     "output_type": "stream",
     "text": [
      "WARNING:tensorflow:sample_weight modes were coerced from\n",
      "  ...\n",
      "    to  \n",
      "  ['...']\n",
      "WARNING:tensorflow:sample_weight modes were coerced from\n",
      "  ...\n",
      "    to  \n",
      "  ['...']\n",
      "Train for 400 steps, validate for 171 steps\n",
      "Epoch 1/50\n",
      "400/400 - 24s - loss: 1.0424 - accuracy: 0.6990 - val_loss: 0.4812 - val_accuracy: 0.7877\n",
      "Epoch 2/50\n",
      "400/400 - 23s - loss: 0.4659 - accuracy: 0.7725 - val_loss: 0.4576 - val_accuracy: 0.7929\n",
      "Epoch 3/50\n",
      "400/400 - 22s - loss: 0.4546 - accuracy: 0.7794 - val_loss: 0.4332 - val_accuracy: 0.7921\n",
      "Epoch 4/50\n",
      "400/400 - 22s - loss: 0.4444 - accuracy: 0.7856 - val_loss: 0.4265 - val_accuracy: 0.8016\n",
      "Epoch 5/50\n",
      "400/400 - 23s - loss: 0.4373 - accuracy: 0.7912 - val_loss: 0.4314 - val_accuracy: 0.8044\n",
      "Epoch 6/50\n",
      "400/400 - 22s - loss: 0.4336 - accuracy: 0.7937 - val_loss: 0.4120 - val_accuracy: 0.7941\n",
      "Epoch 7/50\n",
      "400/400 - 22s - loss: 0.4245 - accuracy: 0.7979 - val_loss: 0.4057 - val_accuracy: 0.8013\n",
      "Epoch 8/50\n",
      "400/400 - 23s - loss: 0.4152 - accuracy: 0.8050 - val_loss: 0.3928 - val_accuracy: 0.8060\n",
      "Epoch 9/50\n",
      "400/400 - 23s - loss: 0.4034 - accuracy: 0.8121 - val_loss: 0.3841 - val_accuracy: 0.8247\n",
      "Epoch 10/50\n",
      "400/400 - 23s - loss: 0.3998 - accuracy: 0.8138 - val_loss: 0.3863 - val_accuracy: 0.8274\n",
      "Epoch 11/50\n",
      "400/400 - 22s - loss: 0.3818 - accuracy: 0.8256 - val_loss: 0.3639 - val_accuracy: 0.8455\n",
      "Epoch 12/50\n",
      "400/400 - 23s - loss: 0.3690 - accuracy: 0.8337 - val_loss: 0.3515 - val_accuracy: 0.8559\n",
      "Epoch 13/50\n",
      "400/400 - 23s - loss: 0.3552 - accuracy: 0.8424 - val_loss: 0.3494 - val_accuracy: 0.8607\n",
      "Epoch 14/50\n",
      "400/400 - 22s - loss: 0.3489 - accuracy: 0.8445 - val_loss: 0.3421 - val_accuracy: 0.8503\n",
      "Epoch 15/50\n",
      "400/400 - 22s - loss: 0.3413 - accuracy: 0.8465 - val_loss: 0.3288 - val_accuracy: 0.8470\n",
      "Epoch 16/50\n",
      "400/400 - 23s - loss: 0.3267 - accuracy: 0.8567 - val_loss: 0.3065 - val_accuracy: 0.8629\n",
      "Epoch 17/50\n",
      "400/400 - 23s - loss: 0.3181 - accuracy: 0.8586 - val_loss: 0.3125 - val_accuracy: 0.8645\n",
      "Epoch 18/50\n",
      "400/400 - 22s - loss: 0.3092 - accuracy: 0.8640 - val_loss: 0.3397 - val_accuracy: 0.8413\n",
      "Epoch 19/50\n",
      "400/400 - 22s - loss: 0.3081 - accuracy: 0.8648 - val_loss: 0.3092 - val_accuracy: 0.8538\n",
      "Epoch 20/50\n",
      "400/400 - 22s - loss: 0.2989 - accuracy: 0.8695 - val_loss: 0.3083 - val_accuracy: 0.8398\n",
      "Epoch 21/50\n",
      "400/400 - 23s - loss: 0.2889 - accuracy: 0.8744 - val_loss: 0.2983 - val_accuracy: 0.8728\n",
      "Epoch 22/50\n",
      "400/400 - 22s - loss: 0.2794 - accuracy: 0.8800 - val_loss: 0.2948 - val_accuracy: 0.8735\n",
      "Epoch 23/50\n",
      "400/400 - 22s - loss: 0.2759 - accuracy: 0.8812 - val_loss: 0.3087 - val_accuracy: 0.8491\n",
      "Epoch 24/50\n",
      "400/400 - 22s - loss: 0.2697 - accuracy: 0.8833 - val_loss: 0.2872 - val_accuracy: 0.8875\n",
      "Epoch 25/50\n",
      "400/400 - 22s - loss: 0.2643 - accuracy: 0.8858 - val_loss: 0.2908 - val_accuracy: 0.8784\n",
      "Epoch 26/50\n",
      "400/400 - 22s - loss: 0.2619 - accuracy: 0.8883 - val_loss: 0.2685 - val_accuracy: 0.8853\n",
      "Epoch 27/50\n",
      "400/400 - 22s - loss: 0.2574 - accuracy: 0.8898 - val_loss: 0.3464 - val_accuracy: 0.8075\n",
      "Epoch 28/50\n",
      "400/400 - 22s - loss: 0.2546 - accuracy: 0.8924 - val_loss: 0.2743 - val_accuracy: 0.8761\n",
      "Epoch 29/50\n",
      "400/400 - 22s - loss: 0.2479 - accuracy: 0.8955 - val_loss: 0.2731 - val_accuracy: 0.8721\n"
     ]
    },
    {
     "data": {
      "text/html": [
       "<span style=\"color:#4527A0\"><h1 style=\"font-size:18px\">Trial complete</h1></span>"
      ],
      "text/plain": [
       "<IPython.core.display.HTML object>"
      ]
     },
     "metadata": {},
     "output_type": "display_data"
    },
    {
     "data": {
      "text/html": [
       "<span style=\"color:#4527A0\"><h1 style=\"font-size:18px\">Trial summary</h1></span>"
      ],
      "text/plain": [
       "<IPython.core.display.HTML object>"
      ]
     },
     "metadata": {},
     "output_type": "display_data"
    },
    {
     "data": {
      "text/html": [
       "<span style=\"color:cyan\"> |-Trial ID: c8d97aade07eb7d049e894baba8a7942</span>"
      ],
      "text/plain": [
       "<IPython.core.display.HTML object>"
      ]
     },
     "metadata": {},
     "output_type": "display_data"
    },
    {
     "data": {
      "text/html": [
       "<span style=\"color:cyan\"> |-Score: 0.8874971270561218</span>"
      ],
      "text/plain": [
       "<IPython.core.display.HTML object>"
      ]
     },
     "metadata": {},
     "output_type": "display_data"
    },
    {
     "data": {
      "text/html": [
       "<span style=\"color:cyan\"> |-Best step: 0</span>"
      ],
      "text/plain": [
       "<IPython.core.display.HTML object>"
      ]
     },
     "metadata": {},
     "output_type": "display_data"
    },
    {
     "data": {
      "text/html": [
       "<span style=\"color:#7E57C2\"><h2 style=\"font-size:16px\">Hyperparameters:</h2></span>"
      ],
      "text/plain": [
       "<IPython.core.display.HTML object>"
      ]
     },
     "metadata": {},
     "output_type": "display_data"
    },
    {
     "data": {
      "text/html": [
       "<span style=\"color:cyan\"> |-conv_1: 16</span>"
      ],
      "text/plain": [
       "<IPython.core.display.HTML object>"
      ]
     },
     "metadata": {},
     "output_type": "display_data"
    },
    {
     "data": {
      "text/html": [
       "<span style=\"color:blue\"> |-conv_2: 64</span>"
      ],
      "text/plain": [
       "<IPython.core.display.HTML object>"
      ]
     },
     "metadata": {},
     "output_type": "display_data"
    },
    {
     "data": {
      "text/html": [
       "<span style=\"color:cyan\"> |-conv_3: 128</span>"
      ],
      "text/plain": [
       "<IPython.core.display.HTML object>"
      ]
     },
     "metadata": {},
     "output_type": "display_data"
    },
    {
     "data": {
      "text/html": [
       "<span style=\"color:blue\"> |-dropout_1: 0.2</span>"
      ],
      "text/plain": [
       "<IPython.core.display.HTML object>"
      ]
     },
     "metadata": {},
     "output_type": "display_data"
    },
    {
     "data": {
      "text/html": [
       "<span style=\"color:cyan\"> |-dropout_2: 0.4</span>"
      ],
      "text/plain": [
       "<IPython.core.display.HTML object>"
      ]
     },
     "metadata": {},
     "output_type": "display_data"
    },
    {
     "data": {
      "text/html": [
       "<span style=\"color:blue\"> |-dropout_3: 0.2</span>"
      ],
      "text/plain": [
       "<IPython.core.display.HTML object>"
      ]
     },
     "metadata": {},
     "output_type": "display_data"
    },
    {
     "data": {
      "text/html": [
       "<span style=\"color:cyan\"> |-dropout_4: 0.30000000000000004</span>"
      ],
      "text/plain": [
       "<IPython.core.display.HTML object>"
      ]
     },
     "metadata": {},
     "output_type": "display_data"
    },
    {
     "data": {
      "text/html": [
       "<span style=\"color:blue\"> |-units: 256</span>"
      ],
      "text/plain": [
       "<IPython.core.display.HTML object>"
      ]
     },
     "metadata": {},
     "output_type": "display_data"
    },
    {
     "name": "stdout",
     "output_type": "stream",
     "text": [
      "WARNING:tensorflow:sample_weight modes were coerced from\n",
      "  ...\n",
      "    to  \n",
      "  ['...']\n",
      "WARNING:tensorflow:sample_weight modes were coerced from\n",
      "  ...\n",
      "    to  \n",
      "  ['...']\n",
      "Train for 400 steps, validate for 171 steps\n",
      "Epoch 1/50\n",
      "400/400 - 27s - loss: 1.5656 - accuracy: 0.7185 - val_loss: 0.5198 - val_accuracy: 0.7699\n",
      "Epoch 2/50\n",
      "400/400 - 26s - loss: 0.4530 - accuracy: 0.7795 - val_loss: 0.4593 - val_accuracy: 0.8032\n",
      "Epoch 3/50\n",
      "400/400 - 26s - loss: 0.4375 - accuracy: 0.7884 - val_loss: 0.4269 - val_accuracy: 0.8221\n",
      "Epoch 4/50\n",
      "400/400 - 27s - loss: 0.4198 - accuracy: 0.8000 - val_loss: 0.4287 - val_accuracy: 0.8330\n",
      "Epoch 5/50\n",
      "400/400 - 25s - loss: 0.3988 - accuracy: 0.8151 - val_loss: 0.3924 - val_accuracy: 0.8425\n",
      "Epoch 6/50\n",
      "400/400 - 25s - loss: 0.3825 - accuracy: 0.8243 - val_loss: 0.3671 - val_accuracy: 0.8396\n",
      "Epoch 7/50\n",
      "400/400 - 25s - loss: 0.3703 - accuracy: 0.8302 - val_loss: 0.3692 - val_accuracy: 0.8554\n",
      "Epoch 8/50\n",
      "400/400 - 25s - loss: 0.3556 - accuracy: 0.8387 - val_loss: 0.3364 - val_accuracy: 0.8609\n",
      "Epoch 9/50\n",
      "400/400 - 25s - loss: 0.3426 - accuracy: 0.8448 - val_loss: 0.3356 - val_accuracy: 0.8662\n",
      "Epoch 10/50\n",
      "400/400 - 25s - loss: 0.3311 - accuracy: 0.8504 - val_loss: 0.3692 - val_accuracy: 0.8652\n",
      "Epoch 11/50\n",
      "400/400 - 25s - loss: 0.3204 - accuracy: 0.8558 - val_loss: 0.3352 - val_accuracy: 0.8749\n",
      "Epoch 12/50\n",
      "400/400 - 26s - loss: 0.3108 - accuracy: 0.8610 - val_loss: 0.3070 - val_accuracy: 0.8809\n",
      "Epoch 13/50\n",
      "400/400 - 26s - loss: 0.3028 - accuracy: 0.8652 - val_loss: 0.2951 - val_accuracy: 0.8762\n",
      "Epoch 14/50\n",
      "400/400 - 25s - loss: 0.2925 - accuracy: 0.8721 - val_loss: 0.2761 - val_accuracy: 0.8895\n",
      "Epoch 15/50\n",
      "400/400 - 25s - loss: 0.2835 - accuracy: 0.8743 - val_loss: 0.3016 - val_accuracy: 0.8772\n",
      "Epoch 16/50\n",
      "400/400 - 25s - loss: 0.2833 - accuracy: 0.8759 - val_loss: 0.3204 - val_accuracy: 0.8541\n",
      "Epoch 17/50\n",
      "400/400 - 26s - loss: 0.2810 - accuracy: 0.8768 - val_loss: 0.2828 - val_accuracy: 0.8896\n",
      "Epoch 18/50\n",
      "400/400 - 26s - loss: 0.2687 - accuracy: 0.8820 - val_loss: 0.2671 - val_accuracy: 0.8975\n",
      "Epoch 19/50\n",
      "400/400 - 24s - loss: 0.2616 - accuracy: 0.8876 - val_loss: 0.2624 - val_accuracy: 0.8893\n",
      "Epoch 20/50\n",
      "400/400 - 25s - loss: 0.2557 - accuracy: 0.8892 - val_loss: 0.2616 - val_accuracy: 0.8953\n",
      "Epoch 21/50\n",
      "400/400 - 25s - loss: 0.2468 - accuracy: 0.8939 - val_loss: 0.2633 - val_accuracy: 0.8981\n",
      "Epoch 22/50\n",
      "400/400 - 25s - loss: 0.2425 - accuracy: 0.8957 - val_loss: 0.2607 - val_accuracy: 0.8987\n",
      "Epoch 23/50\n",
      "400/400 - 25s - loss: 0.2459 - accuracy: 0.8938 - val_loss: 0.2780 - val_accuracy: 0.8918\n",
      "Epoch 24/50\n",
      "400/400 - 25s - loss: 0.2296 - accuracy: 0.9026 - val_loss: 0.2878 - val_accuracy: 0.8929\n",
      "Epoch 25/50\n",
      "400/400 - 25s - loss: 0.2311 - accuracy: 0.9021 - val_loss: 0.2625 - val_accuracy: 0.8997\n",
      "Epoch 26/50\n",
      "400/400 - 25s - loss: 0.2213 - accuracy: 0.9043 - val_loss: 0.2755 - val_accuracy: 0.8979\n",
      "Epoch 27/50\n",
      "400/400 - 25s - loss: 0.2171 - accuracy: 0.9082 - val_loss: 0.2636 - val_accuracy: 0.8905\n",
      "Epoch 28/50\n",
      "400/400 - 25s - loss: 0.2165 - accuracy: 0.9089 - val_loss: 0.2589 - val_accuracy: 0.8985\n",
      "Epoch 29/50\n",
      "400/400 - 25s - loss: 0.2109 - accuracy: 0.9108 - val_loss: 0.2682 - val_accuracy: 0.8954\n",
      "Epoch 30/50\n",
      "400/400 - 25s - loss: 0.2128 - accuracy: 0.9097 - val_loss: 0.2783 - val_accuracy: 0.8966\n"
     ]
    },
    {
     "data": {
      "text/html": [
       "<span style=\"color:#4527A0\"><h1 style=\"font-size:18px\">Trial complete</h1></span>"
      ],
      "text/plain": [
       "<IPython.core.display.HTML object>"
      ]
     },
     "metadata": {},
     "output_type": "display_data"
    },
    {
     "data": {
      "text/html": [
       "<span style=\"color:#4527A0\"><h1 style=\"font-size:18px\">Trial summary</h1></span>"
      ],
      "text/plain": [
       "<IPython.core.display.HTML object>"
      ]
     },
     "metadata": {},
     "output_type": "display_data"
    },
    {
     "data": {
      "text/html": [
       "<span style=\"color:cyan\"> |-Trial ID: 2080d2f2a64f00ddcb0ec4c5c62a7fb0</span>"
      ],
      "text/plain": [
       "<IPython.core.display.HTML object>"
      ]
     },
     "metadata": {},
     "output_type": "display_data"
    },
    {
     "data": {
      "text/html": [
       "<span style=\"color:cyan\"> |-Score: 0.8997485637664795</span>"
      ],
      "text/plain": [
       "<IPython.core.display.HTML object>"
      ]
     },
     "metadata": {},
     "output_type": "display_data"
    },
    {
     "data": {
      "text/html": [
       "<span style=\"color:cyan\"> |-Best step: 0</span>"
      ],
      "text/plain": [
       "<IPython.core.display.HTML object>"
      ]
     },
     "metadata": {},
     "output_type": "display_data"
    },
    {
     "data": {
      "text/html": [
       "<span style=\"color:#7E57C2\"><h2 style=\"font-size:16px\">Hyperparameters:</h2></span>"
      ],
      "text/plain": [
       "<IPython.core.display.HTML object>"
      ]
     },
     "metadata": {},
     "output_type": "display_data"
    },
    {
     "data": {
      "text/html": [
       "<span style=\"color:cyan\"> |-conv_1: 32</span>"
      ],
      "text/plain": [
       "<IPython.core.display.HTML object>"
      ]
     },
     "metadata": {},
     "output_type": "display_data"
    },
    {
     "data": {
      "text/html": [
       "<span style=\"color:blue\"> |-conv_2: 64</span>"
      ],
      "text/plain": [
       "<IPython.core.display.HTML object>"
      ]
     },
     "metadata": {},
     "output_type": "display_data"
    },
    {
     "data": {
      "text/html": [
       "<span style=\"color:cyan\"> |-conv_3: 128</span>"
      ],
      "text/plain": [
       "<IPython.core.display.HTML object>"
      ]
     },
     "metadata": {},
     "output_type": "display_data"
    },
    {
     "data": {
      "text/html": [
       "<span style=\"color:blue\"> |-dropout_1: 0.2</span>"
      ],
      "text/plain": [
       "<IPython.core.display.HTML object>"
      ]
     },
     "metadata": {},
     "output_type": "display_data"
    },
    {
     "data": {
      "text/html": [
       "<span style=\"color:cyan\"> |-dropout_2: 0.30000000000000004</span>"
      ],
      "text/plain": [
       "<IPython.core.display.HTML object>"
      ]
     },
     "metadata": {},
     "output_type": "display_data"
    },
    {
     "data": {
      "text/html": [
       "<span style=\"color:blue\"> |-dropout_3: 0.2</span>"
      ],
      "text/plain": [
       "<IPython.core.display.HTML object>"
      ]
     },
     "metadata": {},
     "output_type": "display_data"
    },
    {
     "data": {
      "text/html": [
       "<span style=\"color:cyan\"> |-dropout_4: 0.30000000000000004</span>"
      ],
      "text/plain": [
       "<IPython.core.display.HTML object>"
      ]
     },
     "metadata": {},
     "output_type": "display_data"
    },
    {
     "data": {
      "text/html": [
       "<span style=\"color:blue\"> |-units: 512</span>"
      ],
      "text/plain": [
       "<IPython.core.display.HTML object>"
      ]
     },
     "metadata": {},
     "output_type": "display_data"
    },
    {
     "name": "stdout",
     "output_type": "stream",
     "text": [
      "WARNING:tensorflow:sample_weight modes were coerced from\n",
      "  ...\n",
      "    to  \n",
      "  ['...']\n",
      "WARNING:tensorflow:sample_weight modes were coerced from\n",
      "  ...\n",
      "    to  \n",
      "  ['...']\n",
      "Train for 400 steps, validate for 171 steps\n",
      "Epoch 1/50\n",
      "400/400 - 26s - loss: 1.6964 - accuracy: 0.7173 - val_loss: 0.4907 - val_accuracy: 0.7704\n",
      "Epoch 2/50\n",
      "400/400 - 24s - loss: 0.4630 - accuracy: 0.7759 - val_loss: 0.4545 - val_accuracy: 0.7903\n",
      "Epoch 3/50\n",
      "400/400 - 23s - loss: 0.4441 - accuracy: 0.7881 - val_loss: 0.4432 - val_accuracy: 0.7703\n",
      "Epoch 4/50\n",
      "400/400 - 23s - loss: 0.4313 - accuracy: 0.7954 - val_loss: 0.4464 - val_accuracy: 0.7764\n",
      "Epoch 5/50\n",
      "400/400 - 24s - loss: 0.4182 - accuracy: 0.8025 - val_loss: 0.4029 - val_accuracy: 0.8206\n",
      "Epoch 6/50\n",
      "400/400 - 24s - loss: 0.4130 - accuracy: 0.8060 - val_loss: 0.3862 - val_accuracy: 0.8209\n",
      "Epoch 7/50\n",
      "400/400 - 24s - loss: 0.3861 - accuracy: 0.8213 - val_loss: 0.3946 - val_accuracy: 0.8230\n",
      "Epoch 8/50\n",
      "400/400 - 24s - loss: 0.3685 - accuracy: 0.8314 - val_loss: 0.3865 - val_accuracy: 0.8262\n",
      "Epoch 9/50\n",
      "400/400 - 24s - loss: 0.3594 - accuracy: 0.8355 - val_loss: 0.3561 - val_accuracy: 0.8506\n",
      "Epoch 10/50\n",
      "400/400 - 24s - loss: 0.3390 - accuracy: 0.8467 - val_loss: 0.3339 - val_accuracy: 0.8661\n",
      "Epoch 11/50\n",
      "400/400 - 23s - loss: 0.3207 - accuracy: 0.8560 - val_loss: 0.3255 - val_accuracy: 0.8574\n",
      "Epoch 12/50\n",
      "400/400 - 23s - loss: 0.3173 - accuracy: 0.8594 - val_loss: 0.3269 - val_accuracy: 0.8690\n",
      "Epoch 13/50\n",
      "400/400 - 23s - loss: 0.3064 - accuracy: 0.8650 - val_loss: 0.3219 - val_accuracy: 0.8686\n",
      "Epoch 14/50\n",
      "400/400 - 23s - loss: 0.2964 - accuracy: 0.8697 - val_loss: 0.2943 - val_accuracy: 0.8754\n",
      "Epoch 15/50\n",
      "400/400 - 23s - loss: 0.2844 - accuracy: 0.8767 - val_loss: 0.2989 - val_accuracy: 0.8807\n",
      "Epoch 16/50\n",
      "400/400 - 23s - loss: 0.2836 - accuracy: 0.8770 - val_loss: 0.2982 - val_accuracy: 0.8673\n",
      "Epoch 17/50\n",
      "400/400 - 23s - loss: 0.2729 - accuracy: 0.8815 - val_loss: 0.2955 - val_accuracy: 0.8731\n",
      "Epoch 18/50\n",
      "400/400 - 23s - loss: 0.2648 - accuracy: 0.8856 - val_loss: 0.3236 - val_accuracy: 0.8693\n",
      "Epoch 19/50\n",
      "400/400 - 23s - loss: 0.2602 - accuracy: 0.8877 - val_loss: 0.3084 - val_accuracy: 0.8496\n",
      "Epoch 20/50\n",
      "400/400 - 23s - loss: 0.2538 - accuracy: 0.8902 - val_loss: 0.3226 - val_accuracy: 0.8571\n"
     ]
    },
    {
     "data": {
      "text/html": [
       "<span style=\"color:#4527A0\"><h1 style=\"font-size:18px\">Trial complete</h1></span>"
      ],
      "text/plain": [
       "<IPython.core.display.HTML object>"
      ]
     },
     "metadata": {},
     "output_type": "display_data"
    },
    {
     "data": {
      "text/html": [
       "<span style=\"color:#4527A0\"><h1 style=\"font-size:18px\">Trial summary</h1></span>"
      ],
      "text/plain": [
       "<IPython.core.display.HTML object>"
      ]
     },
     "metadata": {},
     "output_type": "display_data"
    },
    {
     "data": {
      "text/html": [
       "<span style=\"color:cyan\"> |-Trial ID: affd77ef825c632045e5701196e3ab8c</span>"
      ],
      "text/plain": [
       "<IPython.core.display.HTML object>"
      ]
     },
     "metadata": {},
     "output_type": "display_data"
    },
    {
     "data": {
      "text/html": [
       "<span style=\"color:cyan\"> |-Score: 0.8806856870651245</span>"
      ],
      "text/plain": [
       "<IPython.core.display.HTML object>"
      ]
     },
     "metadata": {},
     "output_type": "display_data"
    },
    {
     "data": {
      "text/html": [
       "<span style=\"color:cyan\"> |-Best step: 0</span>"
      ],
      "text/plain": [
       "<IPython.core.display.HTML object>"
      ]
     },
     "metadata": {},
     "output_type": "display_data"
    },
    {
     "data": {
      "text/html": [
       "<span style=\"color:#7E57C2\"><h2 style=\"font-size:16px\">Hyperparameters:</h2></span>"
      ],
      "text/plain": [
       "<IPython.core.display.HTML object>"
      ]
     },
     "metadata": {},
     "output_type": "display_data"
    },
    {
     "data": {
      "text/html": [
       "<span style=\"color:cyan\"> |-conv_1: 32</span>"
      ],
      "text/plain": [
       "<IPython.core.display.HTML object>"
      ]
     },
     "metadata": {},
     "output_type": "display_data"
    },
    {
     "data": {
      "text/html": [
       "<span style=\"color:blue\"> |-conv_2: 32</span>"
      ],
      "text/plain": [
       "<IPython.core.display.HTML object>"
      ]
     },
     "metadata": {},
     "output_type": "display_data"
    },
    {
     "data": {
      "text/html": [
       "<span style=\"color:cyan\"> |-conv_3: 128</span>"
      ],
      "text/plain": [
       "<IPython.core.display.HTML object>"
      ]
     },
     "metadata": {},
     "output_type": "display_data"
    },
    {
     "data": {
      "text/html": [
       "<span style=\"color:blue\"> |-dropout_1: 0.30000000000000004</span>"
      ],
      "text/plain": [
       "<IPython.core.display.HTML object>"
      ]
     },
     "metadata": {},
     "output_type": "display_data"
    },
    {
     "data": {
      "text/html": [
       "<span style=\"color:cyan\"> |-dropout_2: 0.2</span>"
      ],
      "text/plain": [
       "<IPython.core.display.HTML object>"
      ]
     },
     "metadata": {},
     "output_type": "display_data"
    },
    {
     "data": {
      "text/html": [
       "<span style=\"color:blue\"> |-dropout_3: 0.1</span>"
      ],
      "text/plain": [
       "<IPython.core.display.HTML object>"
      ]
     },
     "metadata": {},
     "output_type": "display_data"
    },
    {
     "data": {
      "text/html": [
       "<span style=\"color:cyan\"> |-dropout_4: 0.1</span>"
      ],
      "text/plain": [
       "<IPython.core.display.HTML object>"
      ]
     },
     "metadata": {},
     "output_type": "display_data"
    },
    {
     "data": {
      "text/html": [
       "<span style=\"color:blue\"> |-units: 640</span>"
      ],
      "text/plain": [
       "<IPython.core.display.HTML object>"
      ]
     },
     "metadata": {},
     "output_type": "display_data"
    },
    {
     "name": "stdout",
     "output_type": "stream",
     "text": [
      "WARNING:tensorflow:sample_weight modes were coerced from\n",
      "  ...\n",
      "    to  \n",
      "  ['...']\n",
      "WARNING:tensorflow:sample_weight modes were coerced from\n",
      "  ...\n",
      "    to  \n",
      "  ['...']\n",
      "Train for 400 steps, validate for 171 steps\n",
      "Epoch 1/50\n",
      "400/400 - 22s - loss: 1.3732 - accuracy: 0.6738 - val_loss: 0.5722 - val_accuracy: 0.7593\n",
      "Epoch 2/50\n",
      "400/400 - 21s - loss: 0.4729 - accuracy: 0.7673 - val_loss: 0.5110 - val_accuracy: 0.7844\n",
      "Epoch 3/50\n",
      "400/400 - 21s - loss: 0.4617 - accuracy: 0.7756 - val_loss: 0.5327 - val_accuracy: 0.7831\n",
      "Epoch 4/50\n",
      "400/400 - 21s - loss: 0.4532 - accuracy: 0.7818 - val_loss: 0.6070 - val_accuracy: 0.7574\n",
      "Epoch 5/50\n",
      "400/400 - 21s - loss: 0.4467 - accuracy: 0.7865 - val_loss: 0.5486 - val_accuracy: 0.7824\n",
      "Epoch 6/50\n",
      "400/400 - 21s - loss: 0.4401 - accuracy: 0.7902 - val_loss: 0.5244 - val_accuracy: 0.7869\n",
      "Epoch 7/50\n",
      "400/400 - 21s - loss: 0.4296 - accuracy: 0.7944 - val_loss: 0.4635 - val_accuracy: 0.8085\n",
      "Epoch 8/50\n",
      "400/400 - 21s - loss: 0.4241 - accuracy: 0.7981 - val_loss: 0.5186 - val_accuracy: 0.7887\n",
      "Epoch 9/50\n",
      "400/400 - 21s - loss: 0.4192 - accuracy: 0.8013 - val_loss: 0.4843 - val_accuracy: 0.8126\n",
      "Epoch 10/50\n",
      "400/400 - 21s - loss: 0.4101 - accuracy: 0.8071 - val_loss: 0.4894 - val_accuracy: 0.8053\n",
      "Epoch 11/50\n",
      "400/400 - 21s - loss: 0.4000 - accuracy: 0.8128 - val_loss: 0.5017 - val_accuracy: 0.8087\n",
      "Epoch 12/50\n",
      "400/400 - 21s - loss: 0.3932 - accuracy: 0.8164 - val_loss: 0.5196 - val_accuracy: 0.7969\n",
      "Epoch 13/50\n",
      "400/400 - 21s - loss: 0.3794 - accuracy: 0.8257 - val_loss: 0.4084 - val_accuracy: 0.8367\n",
      "Epoch 14/50\n",
      "400/400 - 21s - loss: 0.3642 - accuracy: 0.8342 - val_loss: 0.3905 - val_accuracy: 0.8453\n",
      "Epoch 15/50\n",
      "400/400 - 21s - loss: 0.3600 - accuracy: 0.8389 - val_loss: 0.4217 - val_accuracy: 0.8336\n",
      "Epoch 16/50\n",
      "400/400 - 21s - loss: 0.3492 - accuracy: 0.8431 - val_loss: 0.3865 - val_accuracy: 0.8452\n",
      "Epoch 17/50\n",
      "400/400 - 21s - loss: 0.3343 - accuracy: 0.8510 - val_loss: 0.3719 - val_accuracy: 0.8522\n",
      "Epoch 18/50\n",
      "400/400 - 21s - loss: 0.3341 - accuracy: 0.8501 - val_loss: 0.4180 - val_accuracy: 0.8454\n",
      "Epoch 19/50\n",
      "400/400 - 21s - loss: 0.3229 - accuracy: 0.8558 - val_loss: 0.4680 - val_accuracy: 0.8325\n",
      "Epoch 20/50\n",
      "400/400 - 21s - loss: 0.3180 - accuracy: 0.8577 - val_loss: 0.4320 - val_accuracy: 0.8447\n",
      "Epoch 21/50\n",
      "400/400 - 21s - loss: 0.3114 - accuracy: 0.8608 - val_loss: 0.3518 - val_accuracy: 0.8579\n",
      "Epoch 22/50\n",
      "400/400 - 21s - loss: 0.3062 - accuracy: 0.8644 - val_loss: 0.3771 - val_accuracy: 0.8587\n",
      "Epoch 23/50\n",
      "400/400 - 21s - loss: 0.2993 - accuracy: 0.8680 - val_loss: 0.4162 - val_accuracy: 0.8492\n",
      "Epoch 24/50\n",
      "400/400 - 21s - loss: 0.2981 - accuracy: 0.8686 - val_loss: 0.3659 - val_accuracy: 0.8621\n",
      "Epoch 25/50\n",
      "400/400 - 21s - loss: 0.2916 - accuracy: 0.8730 - val_loss: 0.3788 - val_accuracy: 0.8621\n",
      "Epoch 26/50\n",
      "400/400 - 21s - loss: 0.2809 - accuracy: 0.8767 - val_loss: 0.3461 - val_accuracy: 0.8617\n",
      "Epoch 27/50\n",
      "400/400 - 21s - loss: 0.2763 - accuracy: 0.8801 - val_loss: 0.3667 - val_accuracy: 0.8564\n",
      "Epoch 28/50\n",
      "400/400 - 21s - loss: 0.2730 - accuracy: 0.8831 - val_loss: 0.3452 - val_accuracy: 0.8583\n",
      "Epoch 29/50\n",
      "400/400 - 21s - loss: 0.2650 - accuracy: 0.8857 - val_loss: 0.3772 - val_accuracy: 0.8530\n",
      "Epoch 30/50\n",
      "400/400 - 21s - loss: 0.2529 - accuracy: 0.8915 - val_loss: 0.3710 - val_accuracy: 0.8626\n",
      "Epoch 31/50\n",
      "400/400 - 21s - loss: 0.2479 - accuracy: 0.8952 - val_loss: 0.3554 - val_accuracy: 0.8691\n",
      "Epoch 32/50\n",
      "400/400 - 21s - loss: 0.2416 - accuracy: 0.8967 - val_loss: 0.3573 - val_accuracy: 0.8562\n",
      "Epoch 33/50\n",
      "400/400 - 21s - loss: 0.2297 - accuracy: 0.9040 - val_loss: 0.3974 - val_accuracy: 0.8587\n",
      "Epoch 34/50\n",
      "400/400 - 21s - loss: 0.2253 - accuracy: 0.9067 - val_loss: 0.4183 - val_accuracy: 0.8523\n",
      "Epoch 35/50\n",
      "400/400 - 21s - loss: 0.2296 - accuracy: 0.9051 - val_loss: 0.4015 - val_accuracy: 0.8527\n",
      "Epoch 36/50\n",
      "400/400 - 21s - loss: 0.2221 - accuracy: 0.9091 - val_loss: 0.4141 - val_accuracy: 0.8456\n"
     ]
    },
    {
     "data": {
      "text/html": [
       "<span style=\"color:#4527A0\"><h1 style=\"font-size:18px\">Trial complete</h1></span>"
      ],
      "text/plain": [
       "<IPython.core.display.HTML object>"
      ]
     },
     "metadata": {},
     "output_type": "display_data"
    },
    {
     "data": {
      "text/html": [
       "<span style=\"color:#4527A0\"><h1 style=\"font-size:18px\">Trial summary</h1></span>"
      ],
      "text/plain": [
       "<IPython.core.display.HTML object>"
      ]
     },
     "metadata": {},
     "output_type": "display_data"
    },
    {
     "data": {
      "text/html": [
       "<span style=\"color:cyan\"> |-Trial ID: 747c778ab8c154a88bade6080732f075</span>"
      ],
      "text/plain": [
       "<IPython.core.display.HTML object>"
      ]
     },
     "metadata": {},
     "output_type": "display_data"
    },
    {
     "data": {
      "text/html": [
       "<span style=\"color:cyan\"> |-Score: 0.869074285030365</span>"
      ],
      "text/plain": [
       "<IPython.core.display.HTML object>"
      ]
     },
     "metadata": {},
     "output_type": "display_data"
    },
    {
     "data": {
      "text/html": [
       "<span style=\"color:cyan\"> |-Best step: 0</span>"
      ],
      "text/plain": [
       "<IPython.core.display.HTML object>"
      ]
     },
     "metadata": {},
     "output_type": "display_data"
    },
    {
     "data": {
      "text/html": [
       "<span style=\"color:#7E57C2\"><h2 style=\"font-size:16px\">Hyperparameters:</h2></span>"
      ],
      "text/plain": [
       "<IPython.core.display.HTML object>"
      ]
     },
     "metadata": {},
     "output_type": "display_data"
    },
    {
     "data": {
      "text/html": [
       "<span style=\"color:cyan\"> |-conv_1: 16</span>"
      ],
      "text/plain": [
       "<IPython.core.display.HTML object>"
      ]
     },
     "metadata": {},
     "output_type": "display_data"
    },
    {
     "data": {
      "text/html": [
       "<span style=\"color:blue\"> |-conv_2: 64</span>"
      ],
      "text/plain": [
       "<IPython.core.display.HTML object>"
      ]
     },
     "metadata": {},
     "output_type": "display_data"
    },
    {
     "data": {
      "text/html": [
       "<span style=\"color:cyan\"> |-conv_3: 64</span>"
      ],
      "text/plain": [
       "<IPython.core.display.HTML object>"
      ]
     },
     "metadata": {},
     "output_type": "display_data"
    },
    {
     "data": {
      "text/html": [
       "<span style=\"color:blue\"> |-dropout_1: 0.30000000000000004</span>"
      ],
      "text/plain": [
       "<IPython.core.display.HTML object>"
      ]
     },
     "metadata": {},
     "output_type": "display_data"
    },
    {
     "data": {
      "text/html": [
       "<span style=\"color:cyan\"> |-dropout_2: 0.30000000000000004</span>"
      ],
      "text/plain": [
       "<IPython.core.display.HTML object>"
      ]
     },
     "metadata": {},
     "output_type": "display_data"
    },
    {
     "data": {
      "text/html": [
       "<span style=\"color:blue\"> |-dropout_3: 0.0</span>"
      ],
      "text/plain": [
       "<IPython.core.display.HTML object>"
      ]
     },
     "metadata": {},
     "output_type": "display_data"
    },
    {
     "data": {
      "text/html": [
       "<span style=\"color:cyan\"> |-dropout_4: 0.4</span>"
      ],
      "text/plain": [
       "<IPython.core.display.HTML object>"
      ]
     },
     "metadata": {},
     "output_type": "display_data"
    },
    {
     "data": {
      "text/html": [
       "<span style=\"color:blue\"> |-units: 512</span>"
      ],
      "text/plain": [
       "<IPython.core.display.HTML object>"
      ]
     },
     "metadata": {},
     "output_type": "display_data"
    },
    {
     "name": "stdout",
     "output_type": "stream",
     "text": [
      "WARNING:tensorflow:sample_weight modes were coerced from\n",
      "  ...\n",
      "    to  \n",
      "  ['...']\n",
      "WARNING:tensorflow:sample_weight modes were coerced from\n",
      "  ...\n",
      "    to  \n",
      "  ['...']\n",
      "Train for 400 steps, validate for 171 steps\n",
      "Epoch 1/50\n",
      "400/400 - 23s - loss: 1.5758 - accuracy: 0.6741 - val_loss: 0.4732 - val_accuracy: 0.7520\n",
      "Epoch 2/50\n",
      "400/400 - 21s - loss: 0.4799 - accuracy: 0.7638 - val_loss: 0.4975 - val_accuracy: 0.7856\n",
      "Epoch 3/50\n",
      "400/400 - 21s - loss: 0.4647 - accuracy: 0.7741 - val_loss: 0.5196 - val_accuracy: 0.7904\n",
      "Epoch 4/50\n",
      "400/400 - 21s - loss: 0.4551 - accuracy: 0.7797 - val_loss: 0.5034 - val_accuracy: 0.7948\n",
      "Epoch 5/50\n",
      "400/400 - 21s - loss: 0.4458 - accuracy: 0.7854 - val_loss: 0.4709 - val_accuracy: 0.8048\n",
      "Epoch 6/50\n",
      "400/400 - 21s - loss: 0.4413 - accuracy: 0.7874 - val_loss: 0.5339 - val_accuracy: 0.7947\n",
      "Epoch 7/50\n",
      "400/400 - 21s - loss: 0.4353 - accuracy: 0.7926 - val_loss: 0.4738 - val_accuracy: 0.8090\n",
      "Epoch 8/50\n",
      "400/400 - 21s - loss: 0.4283 - accuracy: 0.7955 - val_loss: 0.4665 - val_accuracy: 0.8119\n",
      "Epoch 9/50\n",
      "400/400 - 21s - loss: 0.4254 - accuracy: 0.7977 - val_loss: 0.4789 - val_accuracy: 0.8063\n",
      "Epoch 10/50\n",
      "400/400 - 21s - loss: 0.4157 - accuracy: 0.8040 - val_loss: 0.4756 - val_accuracy: 0.8086\n",
      "Epoch 11/50\n",
      "400/400 - 21s - loss: 0.4003 - accuracy: 0.8143 - val_loss: 0.4483 - val_accuracy: 0.8175\n",
      "Epoch 12/50\n",
      "400/400 - 21s - loss: 0.3980 - accuracy: 0.8167 - val_loss: 0.4351 - val_accuracy: 0.8166\n",
      "Epoch 13/50\n",
      "400/400 - 21s - loss: 0.3816 - accuracy: 0.8254 - val_loss: 0.4048 - val_accuracy: 0.8115\n",
      "Epoch 14/50\n",
      "400/400 - 21s - loss: 0.3649 - accuracy: 0.8370 - val_loss: 0.3741 - val_accuracy: 0.8435\n",
      "Epoch 15/50\n",
      "400/400 - 21s - loss: 0.3594 - accuracy: 0.8376 - val_loss: 0.3595 - val_accuracy: 0.8435\n",
      "Epoch 16/50\n",
      "400/400 - 21s - loss: 0.3495 - accuracy: 0.8442 - val_loss: 0.3588 - val_accuracy: 0.8361\n",
      "Epoch 17/50\n",
      "400/400 - 21s - loss: 0.3421 - accuracy: 0.8485 - val_loss: 0.3744 - val_accuracy: 0.8178\n",
      "Epoch 18/50\n",
      "400/400 - 21s - loss: 0.3366 - accuracy: 0.8495 - val_loss: 0.3264 - val_accuracy: 0.8519\n",
      "Epoch 19/50\n",
      "400/400 - 21s - loss: 0.3322 - accuracy: 0.8530 - val_loss: 0.3335 - val_accuracy: 0.8435\n",
      "Epoch 20/50\n",
      "400/400 - 21s - loss: 0.3271 - accuracy: 0.8554 - val_loss: 0.3334 - val_accuracy: 0.8368\n",
      "Epoch 21/50\n",
      "400/400 - 21s - loss: 0.3190 - accuracy: 0.8595 - val_loss: 0.3398 - val_accuracy: 0.8369\n",
      "Epoch 22/50\n",
      "400/400 - 21s - loss: 0.3208 - accuracy: 0.8596 - val_loss: 0.3266 - val_accuracy: 0.8451\n",
      "Epoch 23/50\n",
      "400/400 - 21s - loss: 0.3186 - accuracy: 0.8621 - val_loss: 0.3331 - val_accuracy: 0.8405\n"
     ]
    },
    {
     "data": {
      "text/html": [
       "<span style=\"color:#4527A0\"><h1 style=\"font-size:18px\">Trial complete</h1></span>"
      ],
      "text/plain": [
       "<IPython.core.display.HTML object>"
      ]
     },
     "metadata": {},
     "output_type": "display_data"
    },
    {
     "data": {
      "text/html": [
       "<span style=\"color:#4527A0\"><h1 style=\"font-size:18px\">Trial summary</h1></span>"
      ],
      "text/plain": [
       "<IPython.core.display.HTML object>"
      ]
     },
     "metadata": {},
     "output_type": "display_data"
    },
    {
     "data": {
      "text/html": [
       "<span style=\"color:cyan\"> |-Trial ID: 5571fcf57572b91426c17a8e75d98a5c</span>"
      ],
      "text/plain": [
       "<IPython.core.display.HTML object>"
      ]
     },
     "metadata": {},
     "output_type": "display_data"
    },
    {
     "data": {
      "text/html": [
       "<span style=\"color:cyan\"> |-Score: 0.8518857359886169</span>"
      ],
      "text/plain": [
       "<IPython.core.display.HTML object>"
      ]
     },
     "metadata": {},
     "output_type": "display_data"
    },
    {
     "data": {
      "text/html": [
       "<span style=\"color:cyan\"> |-Best step: 0</span>"
      ],
      "text/plain": [
       "<IPython.core.display.HTML object>"
      ]
     },
     "metadata": {},
     "output_type": "display_data"
    },
    {
     "data": {
      "text/html": [
       "<span style=\"color:#7E57C2\"><h2 style=\"font-size:16px\">Hyperparameters:</h2></span>"
      ],
      "text/plain": [
       "<IPython.core.display.HTML object>"
      ]
     },
     "metadata": {},
     "output_type": "display_data"
    },
    {
     "data": {
      "text/html": [
       "<span style=\"color:cyan\"> |-conv_1: 16</span>"
      ],
      "text/plain": [
       "<IPython.core.display.HTML object>"
      ]
     },
     "metadata": {},
     "output_type": "display_data"
    },
    {
     "data": {
      "text/html": [
       "<span style=\"color:blue\"> |-conv_2: 32</span>"
      ],
      "text/plain": [
       "<IPython.core.display.HTML object>"
      ]
     },
     "metadata": {},
     "output_type": "display_data"
    },
    {
     "data": {
      "text/html": [
       "<span style=\"color:cyan\"> |-conv_3: 64</span>"
      ],
      "text/plain": [
       "<IPython.core.display.HTML object>"
      ]
     },
     "metadata": {},
     "output_type": "display_data"
    },
    {
     "data": {
      "text/html": [
       "<span style=\"color:blue\"> |-dropout_1: 0.4</span>"
      ],
      "text/plain": [
       "<IPython.core.display.HTML object>"
      ]
     },
     "metadata": {},
     "output_type": "display_data"
    },
    {
     "data": {
      "text/html": [
       "<span style=\"color:cyan\"> |-dropout_2: 0.5</span>"
      ],
      "text/plain": [
       "<IPython.core.display.HTML object>"
      ]
     },
     "metadata": {},
     "output_type": "display_data"
    },
    {
     "data": {
      "text/html": [
       "<span style=\"color:blue\"> |-dropout_3: 0.1</span>"
      ],
      "text/plain": [
       "<IPython.core.display.HTML object>"
      ]
     },
     "metadata": {},
     "output_type": "display_data"
    },
    {
     "data": {
      "text/html": [
       "<span style=\"color:cyan\"> |-dropout_4: 0.4</span>"
      ],
      "text/plain": [
       "<IPython.core.display.HTML object>"
      ]
     },
     "metadata": {},
     "output_type": "display_data"
    },
    {
     "data": {
      "text/html": [
       "<span style=\"color:blue\"> |-units: 512</span>"
      ],
      "text/plain": [
       "<IPython.core.display.HTML object>"
      ]
     },
     "metadata": {},
     "output_type": "display_data"
    },
    {
     "name": "stdout",
     "output_type": "stream",
     "text": [
      "WARNING:tensorflow:sample_weight modes were coerced from\n",
      "  ...\n",
      "    to  \n",
      "  ['...']\n",
      "WARNING:tensorflow:sample_weight modes were coerced from\n",
      "  ...\n",
      "    to  \n",
      "  ['...']\n",
      "Train for 400 steps, validate for 171 steps\n",
      "Epoch 1/50\n",
      "400/400 - 23s - loss: 0.7765 - accuracy: 0.7385 - val_loss: 0.4907 - val_accuracy: 0.7668\n",
      "Epoch 2/50\n",
      "400/400 - 21s - loss: 0.4586 - accuracy: 0.7764 - val_loss: 0.4965 - val_accuracy: 0.7191\n",
      "Epoch 3/50\n",
      "400/400 - 22s - loss: 0.4379 - accuracy: 0.7912 - val_loss: 0.4127 - val_accuracy: 0.8002\n",
      "Epoch 4/50\n",
      "400/400 - 22s - loss: 0.4131 - accuracy: 0.8087 - val_loss: 0.4070 - val_accuracy: 0.8218\n",
      "Epoch 5/50\n",
      "400/400 - 22s - loss: 0.3820 - accuracy: 0.8252 - val_loss: 0.3506 - val_accuracy: 0.8390\n",
      "Epoch 6/50\n",
      "400/400 - 22s - loss: 0.3545 - accuracy: 0.8386 - val_loss: 0.3266 - val_accuracy: 0.8576\n",
      "Epoch 7/50\n",
      "400/400 - 22s - loss: 0.3372 - accuracy: 0.8477 - val_loss: 0.3334 - val_accuracy: 0.8626\n",
      "Epoch 8/50\n",
      "400/400 - 21s - loss: 0.3330 - accuracy: 0.8525 - val_loss: 0.3077 - val_accuracy: 0.8583\n",
      "Epoch 9/50\n",
      "400/400 - 22s - loss: 0.3195 - accuracy: 0.8584 - val_loss: 0.2828 - val_accuracy: 0.8751\n",
      "Epoch 10/50\n",
      "400/400 - 21s - loss: 0.3046 - accuracy: 0.8664 - val_loss: 0.2827 - val_accuracy: 0.8711\n",
      "Epoch 11/50\n",
      "400/400 - 21s - loss: 0.3045 - accuracy: 0.8677 - val_loss: 0.2961 - val_accuracy: 0.8605\n",
      "Epoch 12/50\n",
      "400/400 - 22s - loss: 0.2922 - accuracy: 0.8721 - val_loss: 0.2921 - val_accuracy: 0.8821\n",
      "Epoch 13/50\n",
      "400/400 - 21s - loss: 0.2856 - accuracy: 0.8747 - val_loss: 0.2825 - val_accuracy: 0.8672\n",
      "Epoch 14/50\n",
      "400/400 - 21s - loss: 0.2776 - accuracy: 0.8791 - val_loss: 0.3707 - val_accuracy: 0.7953\n",
      "Epoch 15/50\n",
      "400/400 - 21s - loss: 0.2752 - accuracy: 0.8797 - val_loss: 0.2990 - val_accuracy: 0.8490\n",
      "Epoch 16/50\n",
      "400/400 - 21s - loss: 0.2631 - accuracy: 0.8856 - val_loss: 0.3021 - val_accuracy: 0.8505\n",
      "Epoch 17/50\n",
      "400/400 - 22s - loss: 0.2568 - accuracy: 0.8890 - val_loss: 0.2870 - val_accuracy: 0.8740\n"
     ]
    },
    {
     "data": {
      "text/html": [
       "<span style=\"color:#4527A0\"><h1 style=\"font-size:18px\">Trial complete</h1></span>"
      ],
      "text/plain": [
       "<IPython.core.display.HTML object>"
      ]
     },
     "metadata": {},
     "output_type": "display_data"
    },
    {
     "data": {
      "text/html": [
       "<span style=\"color:#4527A0\"><h1 style=\"font-size:18px\">Trial summary</h1></span>"
      ],
      "text/plain": [
       "<IPython.core.display.HTML object>"
      ]
     },
     "metadata": {},
     "output_type": "display_data"
    },
    {
     "data": {
      "text/html": [
       "<span style=\"color:cyan\"> |-Trial ID: 3cdd437efa72f6e5767025a70d28f90e</span>"
      ],
      "text/plain": [
       "<IPython.core.display.HTML object>"
      ]
     },
     "metadata": {},
     "output_type": "display_data"
    },
    {
     "data": {
      "text/html": [
       "<span style=\"color:cyan\"> |-Score: 0.8821485638618469</span>"
      ],
      "text/plain": [
       "<IPython.core.display.HTML object>"
      ]
     },
     "metadata": {},
     "output_type": "display_data"
    },
    {
     "data": {
      "text/html": [
       "<span style=\"color:cyan\"> |-Best step: 0</span>"
      ],
      "text/plain": [
       "<IPython.core.display.HTML object>"
      ]
     },
     "metadata": {},
     "output_type": "display_data"
    },
    {
     "data": {
      "text/html": [
       "<span style=\"color:#7E57C2\"><h2 style=\"font-size:16px\">Hyperparameters:</h2></span>"
      ],
      "text/plain": [
       "<IPython.core.display.HTML object>"
      ]
     },
     "metadata": {},
     "output_type": "display_data"
    },
    {
     "data": {
      "text/html": [
       "<span style=\"color:cyan\"> |-conv_1: 16</span>"
      ],
      "text/plain": [
       "<IPython.core.display.HTML object>"
      ]
     },
     "metadata": {},
     "output_type": "display_data"
    },
    {
     "data": {
      "text/html": [
       "<span style=\"color:blue\"> |-conv_2: 64</span>"
      ],
      "text/plain": [
       "<IPython.core.display.HTML object>"
      ]
     },
     "metadata": {},
     "output_type": "display_data"
    },
    {
     "data": {
      "text/html": [
       "<span style=\"color:cyan\"> |-conv_3: 128</span>"
      ],
      "text/plain": [
       "<IPython.core.display.HTML object>"
      ]
     },
     "metadata": {},
     "output_type": "display_data"
    },
    {
     "data": {
      "text/html": [
       "<span style=\"color:blue\"> |-dropout_1: 0.2</span>"
      ],
      "text/plain": [
       "<IPython.core.display.HTML object>"
      ]
     },
     "metadata": {},
     "output_type": "display_data"
    },
    {
     "data": {
      "text/html": [
       "<span style=\"color:cyan\"> |-dropout_2: 0.1</span>"
      ],
      "text/plain": [
       "<IPython.core.display.HTML object>"
      ]
     },
     "metadata": {},
     "output_type": "display_data"
    },
    {
     "data": {
      "text/html": [
       "<span style=\"color:blue\"> |-dropout_3: 0.4</span>"
      ],
      "text/plain": [
       "<IPython.core.display.HTML object>"
      ]
     },
     "metadata": {},
     "output_type": "display_data"
    },
    {
     "data": {
      "text/html": [
       "<span style=\"color:cyan\"> |-dropout_4: 0.2</span>"
      ],
      "text/plain": [
       "<IPython.core.display.HTML object>"
      ]
     },
     "metadata": {},
     "output_type": "display_data"
    },
    {
     "data": {
      "text/html": [
       "<span style=\"color:blue\"> |-units: 512</span>"
      ],
      "text/plain": [
       "<IPython.core.display.HTML object>"
      ]
     },
     "metadata": {},
     "output_type": "display_data"
    },
    {
     "name": "stdout",
     "output_type": "stream",
     "text": [
      "WARNING:tensorflow:sample_weight modes were coerced from\n",
      "  ...\n",
      "    to  \n",
      "  ['...']\n",
      "WARNING:tensorflow:sample_weight modes were coerced from\n",
      "  ...\n",
      "    to  \n",
      "  ['...']\n",
      "Train for 400 steps, validate for 171 steps\n",
      "Epoch 1/50\n",
      "400/400 - 24s - loss: 0.8714 - accuracy: 0.6954 - val_loss: 0.4696 - val_accuracy: 0.7632\n",
      "Epoch 2/50\n",
      "400/400 - 23s - loss: 0.4691 - accuracy: 0.7723 - val_loss: 0.4495 - val_accuracy: 0.7744\n",
      "Epoch 3/50\n",
      "400/400 - 23s - loss: 0.4544 - accuracy: 0.7806 - val_loss: 0.4373 - val_accuracy: 0.7716\n",
      "Epoch 4/50\n",
      "400/400 - 23s - loss: 0.4461 - accuracy: 0.7850 - val_loss: 0.4310 - val_accuracy: 0.7862\n",
      "Epoch 5/50\n",
      "400/400 - 23s - loss: 0.4399 - accuracy: 0.7885 - val_loss: 0.4292 - val_accuracy: 0.7758\n",
      "Epoch 6/50\n",
      "400/400 - 23s - loss: 0.4280 - accuracy: 0.7966 - val_loss: 0.4157 - val_accuracy: 0.8035\n",
      "Epoch 7/50\n",
      "400/400 - 23s - loss: 0.4192 - accuracy: 0.8011 - val_loss: 0.4024 - val_accuracy: 0.7979\n",
      "Epoch 8/50\n",
      "400/400 - 23s - loss: 0.4127 - accuracy: 0.8069 - val_loss: 0.3885 - val_accuracy: 0.8177\n",
      "Epoch 9/50\n",
      "400/400 - 23s - loss: 0.3975 - accuracy: 0.8149 - val_loss: 0.3851 - val_accuracy: 0.8130\n",
      "Epoch 10/50\n",
      "400/400 - 23s - loss: 0.3937 - accuracy: 0.8158 - val_loss: 0.3897 - val_accuracy: 0.8126\n",
      "Epoch 11/50\n",
      "400/400 - 23s - loss: 0.3842 - accuracy: 0.8206 - val_loss: 0.3649 - val_accuracy: 0.8245\n",
      "Epoch 12/50\n",
      "400/400 - 23s - loss: 0.3762 - accuracy: 0.8258 - val_loss: 0.3498 - val_accuracy: 0.8389\n",
      "Epoch 13/50\n",
      "400/400 - 23s - loss: 0.3589 - accuracy: 0.8359 - val_loss: 0.3405 - val_accuracy: 0.8490\n",
      "Epoch 14/50\n",
      "400/400 - 22s - loss: 0.3536 - accuracy: 0.8401 - val_loss: 0.3406 - val_accuracy: 0.8475\n",
      "Epoch 15/50\n",
      "400/400 - 23s - loss: 0.3362 - accuracy: 0.8489 - val_loss: 0.3337 - val_accuracy: 0.8451\n",
      "Epoch 16/50\n",
      "400/400 - 23s - loss: 0.3347 - accuracy: 0.8495 - val_loss: 0.3132 - val_accuracy: 0.8570\n",
      "Epoch 17/50\n",
      "400/400 - 23s - loss: 0.3251 - accuracy: 0.8543 - val_loss: 0.3327 - val_accuracy: 0.8404\n",
      "Epoch 18/50\n",
      "400/400 - 24s - loss: 0.3181 - accuracy: 0.8569 - val_loss: 0.3341 - val_accuracy: 0.8328\n",
      "Epoch 19/50\n",
      "400/400 - 23s - loss: 0.3069 - accuracy: 0.8628 - val_loss: 0.2981 - val_accuracy: 0.8688\n",
      "Epoch 20/50\n",
      "400/400 - 23s - loss: 0.3069 - accuracy: 0.8621 - val_loss: 0.2981 - val_accuracy: 0.8612\n",
      "Epoch 21/50\n",
      "400/400 - 24s - loss: 0.2985 - accuracy: 0.8669 - val_loss: 0.2919 - val_accuracy: 0.8677\n",
      "Epoch 22/50\n",
      "400/400 - 24s - loss: 0.2902 - accuracy: 0.8724 - val_loss: 0.3014 - val_accuracy: 0.8510\n",
      "Epoch 23/50\n",
      "400/400 - 24s - loss: 0.2843 - accuracy: 0.8765 - val_loss: 0.2923 - val_accuracy: 0.8569\n",
      "Epoch 24/50\n",
      "400/400 - 24s - loss: 0.2822 - accuracy: 0.8764 - val_loss: 0.2801 - val_accuracy: 0.8707\n",
      "Epoch 25/50\n",
      "400/400 - 24s - loss: 0.2798 - accuracy: 0.8767 - val_loss: 0.2822 - val_accuracy: 0.8593\n",
      "Epoch 26/50\n",
      "400/400 - 24s - loss: 0.2731 - accuracy: 0.8809 - val_loss: 0.2850 - val_accuracy: 0.8744\n",
      "Epoch 27/50\n",
      "400/400 - 24s - loss: 0.2636 - accuracy: 0.8864 - val_loss: 0.2598 - val_accuracy: 0.8829\n",
      "Epoch 28/50\n",
      "400/400 - 24s - loss: 0.2569 - accuracy: 0.8888 - val_loss: 0.2660 - val_accuracy: 0.8732\n",
      "Epoch 29/50\n",
      "400/400 - 24s - loss: 0.2568 - accuracy: 0.8897 - val_loss: 0.3048 - val_accuracy: 0.8321\n",
      "Epoch 30/50\n",
      "400/400 - 24s - loss: 0.2502 - accuracy: 0.8925 - val_loss: 0.2455 - val_accuracy: 0.9001\n",
      "Epoch 31/50\n",
      "400/400 - 24s - loss: 0.2511 - accuracy: 0.8920 - val_loss: 0.2507 - val_accuracy: 0.8876\n",
      "Epoch 32/50\n",
      "400/400 - 24s - loss: 0.2460 - accuracy: 0.8941 - val_loss: 0.2498 - val_accuracy: 0.8848\n",
      "Epoch 33/50\n",
      "400/400 - 24s - loss: 0.2432 - accuracy: 0.8968 - val_loss: 0.2431 - val_accuracy: 0.9020\n",
      "Epoch 34/50\n",
      "400/400 - 24s - loss: 0.2359 - accuracy: 0.8996 - val_loss: 0.2409 - val_accuracy: 0.8942\n",
      "Epoch 35/50\n",
      "400/400 - 24s - loss: 0.2337 - accuracy: 0.9008 - val_loss: 0.2717 - val_accuracy: 0.8568\n",
      "Epoch 36/50\n",
      "400/400 - 24s - loss: 0.2383 - accuracy: 0.8965 - val_loss: 0.2599 - val_accuracy: 0.8761\n",
      "Epoch 37/50\n",
      "400/400 - 24s - loss: 0.2363 - accuracy: 0.8996 - val_loss: 0.2382 - val_accuracy: 0.8973\n",
      "Epoch 38/50\n",
      "400/400 - 24s - loss: 0.2329 - accuracy: 0.9009 - val_loss: 0.2693 - val_accuracy: 0.8546\n"
     ]
    },
    {
     "data": {
      "text/html": [
       "<span style=\"color:#4527A0\"><h1 style=\"font-size:18px\">Trial complete</h1></span>"
      ],
      "text/plain": [
       "<IPython.core.display.HTML object>"
      ]
     },
     "metadata": {},
     "output_type": "display_data"
    },
    {
     "data": {
      "text/html": [
       "<span style=\"color:#4527A0\"><h1 style=\"font-size:18px\">Trial summary</h1></span>"
      ],
      "text/plain": [
       "<IPython.core.display.HTML object>"
      ]
     },
     "metadata": {},
     "output_type": "display_data"
    },
    {
     "data": {
      "text/html": [
       "<span style=\"color:cyan\"> |-Trial ID: e7958f22a0170edef8f00d276941a87e</span>"
      ],
      "text/plain": [
       "<IPython.core.display.HTML object>"
      ]
     },
     "metadata": {},
     "output_type": "display_data"
    },
    {
     "data": {
      "text/html": [
       "<span style=\"color:cyan\"> |-Score: 0.9019885659217834</span>"
      ],
      "text/plain": [
       "<IPython.core.display.HTML object>"
      ]
     },
     "metadata": {},
     "output_type": "display_data"
    },
    {
     "data": {
      "text/html": [
       "<span style=\"color:cyan\"> |-Best step: 0</span>"
      ],
      "text/plain": [
       "<IPython.core.display.HTML object>"
      ]
     },
     "metadata": {},
     "output_type": "display_data"
    },
    {
     "data": {
      "text/html": [
       "<span style=\"color:#7E57C2\"><h2 style=\"font-size:16px\">Hyperparameters:</h2></span>"
      ],
      "text/plain": [
       "<IPython.core.display.HTML object>"
      ]
     },
     "metadata": {},
     "output_type": "display_data"
    },
    {
     "data": {
      "text/html": [
       "<span style=\"color:cyan\"> |-conv_1: 32</span>"
      ],
      "text/plain": [
       "<IPython.core.display.HTML object>"
      ]
     },
     "metadata": {},
     "output_type": "display_data"
    },
    {
     "data": {
      "text/html": [
       "<span style=\"color:blue\"> |-conv_2: 32</span>"
      ],
      "text/plain": [
       "<IPython.core.display.HTML object>"
      ]
     },
     "metadata": {},
     "output_type": "display_data"
    },
    {
     "data": {
      "text/html": [
       "<span style=\"color:cyan\"> |-conv_3: 128</span>"
      ],
      "text/plain": [
       "<IPython.core.display.HTML object>"
      ]
     },
     "metadata": {},
     "output_type": "display_data"
    },
    {
     "data": {
      "text/html": [
       "<span style=\"color:blue\"> |-dropout_1: 0.2</span>"
      ],
      "text/plain": [
       "<IPython.core.display.HTML object>"
      ]
     },
     "metadata": {},
     "output_type": "display_data"
    },
    {
     "data": {
      "text/html": [
       "<span style=\"color:cyan\"> |-dropout_2: 0.30000000000000004</span>"
      ],
      "text/plain": [
       "<IPython.core.display.HTML object>"
      ]
     },
     "metadata": {},
     "output_type": "display_data"
    },
    {
     "data": {
      "text/html": [
       "<span style=\"color:blue\"> |-dropout_3: 0.5</span>"
      ],
      "text/plain": [
       "<IPython.core.display.HTML object>"
      ]
     },
     "metadata": {},
     "output_type": "display_data"
    },
    {
     "data": {
      "text/html": [
       "<span style=\"color:cyan\"> |-dropout_4: 0.4</span>"
      ],
      "text/plain": [
       "<IPython.core.display.HTML object>"
      ]
     },
     "metadata": {},
     "output_type": "display_data"
    },
    {
     "data": {
      "text/html": [
       "<span style=\"color:blue\"> |-units: 512</span>"
      ],
      "text/plain": [
       "<IPython.core.display.HTML object>"
      ]
     },
     "metadata": {},
     "output_type": "display_data"
    },
    {
     "name": "stdout",
     "output_type": "stream",
     "text": [
      "WARNING:tensorflow:sample_weight modes were coerced from\n",
      "  ...\n",
      "    to  \n",
      "  ['...']\n",
      "WARNING:tensorflow:sample_weight modes were coerced from\n",
      "  ...\n",
      "    to  \n",
      "  ['...']\n",
      "Train for 400 steps, validate for 171 steps\n",
      "Epoch 1/50\n",
      "400/400 - 23s - loss: 1.9857 - accuracy: 0.5925 - val_loss: 0.5449 - val_accuracy: 0.5920\n",
      "Epoch 2/50\n",
      "400/400 - 21s - loss: 0.4923 - accuracy: 0.7447 - val_loss: 0.5041 - val_accuracy: 0.7852\n",
      "Epoch 3/50\n",
      "400/400 - 22s - loss: 0.4681 - accuracy: 0.7746 - val_loss: 0.5108 - val_accuracy: 0.7871\n",
      "Epoch 4/50\n",
      "400/400 - 22s - loss: 0.4601 - accuracy: 0.7787 - val_loss: 0.4848 - val_accuracy: 0.7923\n",
      "Epoch 5/50\n",
      "400/400 - 22s - loss: 0.4522 - accuracy: 0.7828 - val_loss: 0.4920 - val_accuracy: 0.7956\n",
      "Epoch 6/50\n",
      "400/400 - 22s - loss: 0.4424 - accuracy: 0.7868 - val_loss: 0.4522 - val_accuracy: 0.8033\n",
      "Epoch 7/50\n",
      "400/400 - 21s - loss: 0.4324 - accuracy: 0.7939 - val_loss: 0.4632 - val_accuracy: 0.7957\n",
      "Epoch 8/50\n",
      "400/400 - 21s - loss: 0.4227 - accuracy: 0.7983 - val_loss: 0.4396 - val_accuracy: 0.8117\n",
      "Epoch 9/50\n",
      "400/400 - 22s - loss: 0.4147 - accuracy: 0.8031 - val_loss: 0.4511 - val_accuracy: 0.8158\n",
      "Epoch 10/50\n",
      "400/400 - 22s - loss: 0.4045 - accuracy: 0.8104 - val_loss: 0.4301 - val_accuracy: 0.8169\n",
      "Epoch 11/50\n",
      "400/400 - 21s - loss: 0.3994 - accuracy: 0.8134 - val_loss: 0.4242 - val_accuracy: 0.8144\n",
      "Epoch 12/50\n",
      "400/400 - 22s - loss: 0.3910 - accuracy: 0.8178 - val_loss: 0.4272 - val_accuracy: 0.8220\n",
      "Epoch 13/50\n",
      "400/400 - 21s - loss: 0.3755 - accuracy: 0.8275 - val_loss: 0.4118 - val_accuracy: 0.8349\n",
      "Epoch 14/50\n",
      "400/400 - 22s - loss: 0.3708 - accuracy: 0.8319 - val_loss: 0.3817 - val_accuracy: 0.8460\n",
      "Epoch 15/50\n",
      "400/400 - 21s - loss: 0.3578 - accuracy: 0.8370 - val_loss: 0.3713 - val_accuracy: 0.8512\n",
      "Epoch 16/50\n",
      "400/400 - 21s - loss: 0.3442 - accuracy: 0.8460 - val_loss: 0.3640 - val_accuracy: 0.8552\n",
      "Epoch 17/50\n",
      "400/400 - 21s - loss: 0.3386 - accuracy: 0.8485 - val_loss: 0.3515 - val_accuracy: 0.8545\n",
      "Epoch 18/50\n",
      "400/400 - 21s - loss: 0.3300 - accuracy: 0.8525 - val_loss: 0.3610 - val_accuracy: 0.8600\n",
      "Epoch 19/50\n",
      "400/400 - 21s - loss: 0.3260 - accuracy: 0.8554 - val_loss: 0.3952 - val_accuracy: 0.8478\n",
      "Epoch 20/50\n",
      "400/400 - 22s - loss: 0.3190 - accuracy: 0.8601 - val_loss: 0.3297 - val_accuracy: 0.8694\n",
      "Epoch 21/50\n",
      "400/400 - 22s - loss: 0.3085 - accuracy: 0.8625 - val_loss: 0.3255 - val_accuracy: 0.8720\n",
      "Epoch 22/50\n",
      "400/400 - 22s - loss: 0.3092 - accuracy: 0.8635 - val_loss: 0.3003 - val_accuracy: 0.8743\n",
      "Epoch 23/50\n",
      "400/400 - 22s - loss: 0.2927 - accuracy: 0.8716 - val_loss: 0.2969 - val_accuracy: 0.8756\n",
      "Epoch 24/50\n",
      "400/400 - 22s - loss: 0.2937 - accuracy: 0.8698 - val_loss: 0.3270 - val_accuracy: 0.8773\n",
      "Epoch 25/50\n",
      "400/400 - 21s - loss: 0.2869 - accuracy: 0.8752 - val_loss: 0.3067 - val_accuracy: 0.8795\n",
      "Epoch 26/50\n",
      "400/400 - 21s - loss: 0.2776 - accuracy: 0.8804 - val_loss: 0.3046 - val_accuracy: 0.8829\n",
      "Epoch 27/50\n",
      "400/400 - 21s - loss: 0.2751 - accuracy: 0.8799 - val_loss: 0.3062 - val_accuracy: 0.8821\n",
      "Epoch 28/50\n",
      "400/400 - 21s - loss: 0.2666 - accuracy: 0.8859 - val_loss: 0.2923 - val_accuracy: 0.8740\n",
      "Epoch 29/50\n",
      "400/400 - 21s - loss: 0.2607 - accuracy: 0.8878 - val_loss: 0.3179 - val_accuracy: 0.8769\n",
      "Epoch 30/50\n",
      "400/400 - 21s - loss: 0.2592 - accuracy: 0.8880 - val_loss: 0.3070 - val_accuracy: 0.8804\n",
      "Epoch 31/50\n",
      "400/400 - 23s - loss: 0.2532 - accuracy: 0.8904 - val_loss: 0.3011 - val_accuracy: 0.8831\n",
      "Epoch 32/50\n",
      "400/400 - 22s - loss: 0.2544 - accuracy: 0.8907 - val_loss: 0.2932 - val_accuracy: 0.8837\n",
      "Epoch 33/50\n",
      "400/400 - 22s - loss: 0.2464 - accuracy: 0.8954 - val_loss: 0.2984 - val_accuracy: 0.8807\n",
      "Epoch 34/50\n",
      "400/400 - 21s - loss: 0.2403 - accuracy: 0.8989 - val_loss: 0.3289 - val_accuracy: 0.8791\n",
      "Epoch 35/50\n",
      "400/400 - 22s - loss: 0.2385 - accuracy: 0.8988 - val_loss: 0.2876 - val_accuracy: 0.8906\n",
      "Epoch 36/50\n",
      "400/400 - 21s - loss: 0.2382 - accuracy: 0.9004 - val_loss: 0.3016 - val_accuracy: 0.8858\n",
      "Epoch 37/50\n",
      "400/400 - 21s - loss: 0.2290 - accuracy: 0.9044 - val_loss: 0.3115 - val_accuracy: 0.8790\n",
      "Epoch 38/50\n",
      "400/400 - 22s - loss: 0.2272 - accuracy: 0.9038 - val_loss: 0.3002 - val_accuracy: 0.8917\n",
      "Epoch 39/50\n",
      "400/400 - 21s - loss: 0.2251 - accuracy: 0.9060 - val_loss: 0.2933 - val_accuracy: 0.8799\n",
      "Epoch 40/50\n",
      "400/400 - 21s - loss: 0.2194 - accuracy: 0.9081 - val_loss: 0.3068 - val_accuracy: 0.8896\n",
      "Epoch 41/50\n",
      "400/400 - 21s - loss: 0.2123 - accuracy: 0.9117 - val_loss: 0.3113 - val_accuracy: 0.8853\n",
      "Epoch 42/50\n",
      "400/400 - 21s - loss: 0.2106 - accuracy: 0.9115 - val_loss: 0.3075 - val_accuracy: 0.8737\n",
      "Epoch 43/50\n",
      "400/400 - 22s - loss: 0.2053 - accuracy: 0.9137 - val_loss: 0.3142 - val_accuracy: 0.8864\n"
     ]
    },
    {
     "data": {
      "text/html": [
       "<span style=\"color:#4527A0\"><h1 style=\"font-size:18px\">Trial complete</h1></span>"
      ],
      "text/plain": [
       "<IPython.core.display.HTML object>"
      ]
     },
     "metadata": {},
     "output_type": "display_data"
    },
    {
     "data": {
      "text/html": [
       "<span style=\"color:#4527A0\"><h1 style=\"font-size:18px\">Trial summary</h1></span>"
      ],
      "text/plain": [
       "<IPython.core.display.HTML object>"
      ]
     },
     "metadata": {},
     "output_type": "display_data"
    },
    {
     "data": {
      "text/html": [
       "<span style=\"color:cyan\"> |-Trial ID: f01afa8952a064fc67f8bb3c99b13b18</span>"
      ],
      "text/plain": [
       "<IPython.core.display.HTML object>"
      ]
     },
     "metadata": {},
     "output_type": "display_data"
    },
    {
     "data": {
      "text/html": [
       "<span style=\"color:cyan\"> |-Score: 0.8916571140289307</span>"
      ],
      "text/plain": [
       "<IPython.core.display.HTML object>"
      ]
     },
     "metadata": {},
     "output_type": "display_data"
    },
    {
     "data": {
      "text/html": [
       "<span style=\"color:cyan\"> |-Best step: 0</span>"
      ],
      "text/plain": [
       "<IPython.core.display.HTML object>"
      ]
     },
     "metadata": {},
     "output_type": "display_data"
    },
    {
     "data": {
      "text/html": [
       "<span style=\"color:#7E57C2\"><h2 style=\"font-size:16px\">Hyperparameters:</h2></span>"
      ],
      "text/plain": [
       "<IPython.core.display.HTML object>"
      ]
     },
     "metadata": {},
     "output_type": "display_data"
    },
    {
     "data": {
      "text/html": [
       "<span style=\"color:cyan\"> |-conv_1: 16</span>"
      ],
      "text/plain": [
       "<IPython.core.display.HTML object>"
      ]
     },
     "metadata": {},
     "output_type": "display_data"
    },
    {
     "data": {
      "text/html": [
       "<span style=\"color:blue\"> |-conv_2: 32</span>"
      ],
      "text/plain": [
       "<IPython.core.display.HTML object>"
      ]
     },
     "metadata": {},
     "output_type": "display_data"
    },
    {
     "data": {
      "text/html": [
       "<span style=\"color:cyan\"> |-conv_3: 128</span>"
      ],
      "text/plain": [
       "<IPython.core.display.HTML object>"
      ]
     },
     "metadata": {},
     "output_type": "display_data"
    },
    {
     "data": {
      "text/html": [
       "<span style=\"color:blue\"> |-dropout_1: 0.2</span>"
      ],
      "text/plain": [
       "<IPython.core.display.HTML object>"
      ]
     },
     "metadata": {},
     "output_type": "display_data"
    },
    {
     "data": {
      "text/html": [
       "<span style=\"color:cyan\"> |-dropout_2: 0.4</span>"
      ],
      "text/plain": [
       "<IPython.core.display.HTML object>"
      ]
     },
     "metadata": {},
     "output_type": "display_data"
    },
    {
     "data": {
      "text/html": [
       "<span style=\"color:blue\"> |-dropout_3: 0.2</span>"
      ],
      "text/plain": [
       "<IPython.core.display.HTML object>"
      ]
     },
     "metadata": {},
     "output_type": "display_data"
    },
    {
     "data": {
      "text/html": [
       "<span style=\"color:cyan\"> |-dropout_4: 0.4</span>"
      ],
      "text/plain": [
       "<IPython.core.display.HTML object>"
      ]
     },
     "metadata": {},
     "output_type": "display_data"
    },
    {
     "data": {
      "text/html": [
       "<span style=\"color:blue\"> |-units: 640</span>"
      ],
      "text/plain": [
       "<IPython.core.display.HTML object>"
      ]
     },
     "metadata": {},
     "output_type": "display_data"
    },
    {
     "name": "stdout",
     "output_type": "stream",
     "text": [
      "WARNING:tensorflow:sample_weight modes were coerced from\n",
      "  ...\n",
      "    to  \n",
      "  ['...']\n",
      "WARNING:tensorflow:sample_weight modes were coerced from\n",
      "  ...\n",
      "    to  \n",
      "  ['...']\n",
      "Train for 400 steps, validate for 171 steps\n",
      "Epoch 1/50\n",
      "400/400 - 24s - loss: 2.6777 - accuracy: 0.7035 - val_loss: 0.4760 - val_accuracy: 0.7688\n",
      "Epoch 2/50\n",
      "400/400 - 22s - loss: 0.4689 - accuracy: 0.7716 - val_loss: 0.4637 - val_accuracy: 0.7746\n",
      "Epoch 3/50\n",
      "400/400 - 22s - loss: 0.4579 - accuracy: 0.7762 - val_loss: 0.4368 - val_accuracy: 0.7899\n",
      "Epoch 4/50\n",
      "400/400 - 22s - loss: 0.4412 - accuracy: 0.7869 - val_loss: 0.4161 - val_accuracy: 0.8018\n",
      "Epoch 5/50\n",
      "400/400 - 23s - loss: 0.4246 - accuracy: 0.7969 - val_loss: 0.4084 - val_accuracy: 0.8050\n",
      "Epoch 6/50\n",
      "400/400 - 23s - loss: 0.4155 - accuracy: 0.8021 - val_loss: 0.3956 - val_accuracy: 0.8299\n",
      "Epoch 7/50\n",
      "400/400 - 23s - loss: 0.3972 - accuracy: 0.8128 - val_loss: 0.3700 - val_accuracy: 0.8187\n",
      "Epoch 8/50\n",
      "400/400 - 22s - loss: 0.3798 - accuracy: 0.8214 - val_loss: 0.3551 - val_accuracy: 0.8431\n",
      "Epoch 9/50\n",
      "400/400 - 23s - loss: 0.3677 - accuracy: 0.8296 - val_loss: 0.3484 - val_accuracy: 0.8474\n",
      "Epoch 10/50\n",
      "400/400 - 23s - loss: 0.3582 - accuracy: 0.8358 - val_loss: 0.3382 - val_accuracy: 0.8523\n",
      "Epoch 11/50\n",
      "400/400 - 21s - loss: 0.3470 - accuracy: 0.8417 - val_loss: 0.3390 - val_accuracy: 0.8367\n",
      "Epoch 12/50\n",
      "400/400 - 22s - loss: 0.3341 - accuracy: 0.8475 - val_loss: 0.3478 - val_accuracy: 0.8202\n",
      "Epoch 13/50\n",
      "400/400 - 22s - loss: 0.3306 - accuracy: 0.8493 - val_loss: 0.3336 - val_accuracy: 0.8371\n",
      "Epoch 14/50\n",
      "400/400 - 22s - loss: 0.3227 - accuracy: 0.8564 - val_loss: 0.3386 - val_accuracy: 0.8597\n",
      "Epoch 15/50\n",
      "400/400 - 22s - loss: 0.3081 - accuracy: 0.8611 - val_loss: 0.3368 - val_accuracy: 0.8421\n",
      "Epoch 16/50\n",
      "400/400 - 22s - loss: 0.3091 - accuracy: 0.8616 - val_loss: 0.3335 - val_accuracy: 0.8296\n",
      "Epoch 17/50\n",
      "400/400 - 22s - loss: 0.3035 - accuracy: 0.8645 - val_loss: 0.3226 - val_accuracy: 0.8467\n",
      "Epoch 18/50\n",
      "400/400 - 22s - loss: 0.2926 - accuracy: 0.8710 - val_loss: 0.3209 - val_accuracy: 0.8622\n",
      "Epoch 19/50\n",
      "400/400 - 22s - loss: 0.2839 - accuracy: 0.8759 - val_loss: 0.3552 - val_accuracy: 0.8724\n",
      "Epoch 20/50\n",
      "400/400 - 22s - loss: 0.2718 - accuracy: 0.8805 - val_loss: 0.2910 - val_accuracy: 0.8791\n",
      "Epoch 21/50\n",
      "400/400 - 21s - loss: 0.2669 - accuracy: 0.8827 - val_loss: 0.3215 - val_accuracy: 0.8692\n",
      "Epoch 22/50\n",
      "400/400 - 22s - loss: 0.2485 - accuracy: 0.8939 - val_loss: 0.3141 - val_accuracy: 0.8799\n",
      "Epoch 23/50\n",
      "400/400 - 22s - loss: 0.2471 - accuracy: 0.8932 - val_loss: 0.3284 - val_accuracy: 0.8688\n",
      "Epoch 24/50\n",
      "400/400 - 22s - loss: 0.2416 - accuracy: 0.8976 - val_loss: 0.3351 - val_accuracy: 0.8420\n",
      "Epoch 25/50\n",
      "400/400 - 22s - loss: 0.2442 - accuracy: 0.8956 - val_loss: 0.3305 - val_accuracy: 0.8753\n",
      "Epoch 26/50\n",
      "400/400 - 22s - loss: 0.2302 - accuracy: 0.9019 - val_loss: 0.3821 - val_accuracy: 0.8514\n",
      "Epoch 27/50\n",
      "400/400 - 22s - loss: 0.2310 - accuracy: 0.9000 - val_loss: 0.3823 - val_accuracy: 0.8642\n"
     ]
    },
    {
     "data": {
      "text/html": [
       "<span style=\"color:#4527A0\"><h1 style=\"font-size:18px\">Trial complete</h1></span>"
      ],
      "text/plain": [
       "<IPython.core.display.HTML object>"
      ]
     },
     "metadata": {},
     "output_type": "display_data"
    },
    {
     "data": {
      "text/html": [
       "<span style=\"color:#4527A0\"><h1 style=\"font-size:18px\">Trial summary</h1></span>"
      ],
      "text/plain": [
       "<IPython.core.display.HTML object>"
      ]
     },
     "metadata": {},
     "output_type": "display_data"
    },
    {
     "data": {
      "text/html": [
       "<span style=\"color:cyan\"> |-Trial ID: 70ea5529545c239701c8273226bbfde9</span>"
      ],
      "text/plain": [
       "<IPython.core.display.HTML object>"
      ]
     },
     "metadata": {},
     "output_type": "display_data"
    },
    {
     "data": {
      "text/html": [
       "<span style=\"color:cyan\"> |-Score: 0.879908561706543</span>"
      ],
      "text/plain": [
       "<IPython.core.display.HTML object>"
      ]
     },
     "metadata": {},
     "output_type": "display_data"
    },
    {
     "data": {
      "text/html": [
       "<span style=\"color:cyan\"> |-Best step: 0</span>"
      ],
      "text/plain": [
       "<IPython.core.display.HTML object>"
      ]
     },
     "metadata": {},
     "output_type": "display_data"
    },
    {
     "data": {
      "text/html": [
       "<span style=\"color:#7E57C2\"><h2 style=\"font-size:16px\">Hyperparameters:</h2></span>"
      ],
      "text/plain": [
       "<IPython.core.display.HTML object>"
      ]
     },
     "metadata": {},
     "output_type": "display_data"
    },
    {
     "data": {
      "text/html": [
       "<span style=\"color:cyan\"> |-conv_1: 16</span>"
      ],
      "text/plain": [
       "<IPython.core.display.HTML object>"
      ]
     },
     "metadata": {},
     "output_type": "display_data"
    },
    {
     "data": {
      "text/html": [
       "<span style=\"color:blue\"> |-conv_2: 64</span>"
      ],
      "text/plain": [
       "<IPython.core.display.HTML object>"
      ]
     },
     "metadata": {},
     "output_type": "display_data"
    },
    {
     "data": {
      "text/html": [
       "<span style=\"color:cyan\"> |-conv_3: 64</span>"
      ],
      "text/plain": [
       "<IPython.core.display.HTML object>"
      ]
     },
     "metadata": {},
     "output_type": "display_data"
    },
    {
     "data": {
      "text/html": [
       "<span style=\"color:blue\"> |-dropout_1: 0.2</span>"
      ],
      "text/plain": [
       "<IPython.core.display.HTML object>"
      ]
     },
     "metadata": {},
     "output_type": "display_data"
    },
    {
     "data": {
      "text/html": [
       "<span style=\"color:cyan\"> |-dropout_2: 0.2</span>"
      ],
      "text/plain": [
       "<IPython.core.display.HTML object>"
      ]
     },
     "metadata": {},
     "output_type": "display_data"
    },
    {
     "data": {
      "text/html": [
       "<span style=\"color:blue\"> |-dropout_3: 0.2</span>"
      ],
      "text/plain": [
       "<IPython.core.display.HTML object>"
      ]
     },
     "metadata": {},
     "output_type": "display_data"
    },
    {
     "data": {
      "text/html": [
       "<span style=\"color:cyan\"> |-dropout_4: 0.2</span>"
      ],
      "text/plain": [
       "<IPython.core.display.HTML object>"
      ]
     },
     "metadata": {},
     "output_type": "display_data"
    },
    {
     "data": {
      "text/html": [
       "<span style=\"color:blue\"> |-units: 640</span>"
      ],
      "text/plain": [
       "<IPython.core.display.HTML object>"
      ]
     },
     "metadata": {},
     "output_type": "display_data"
    },
    {
     "name": "stdout",
     "output_type": "stream",
     "text": [
      "WARNING:tensorflow:sample_weight modes were coerced from\n",
      "  ...\n",
      "    to  \n",
      "  ['...']\n",
      "WARNING:tensorflow:sample_weight modes were coerced from\n",
      "  ...\n",
      "    to  \n",
      "  ['...']\n",
      "Train for 400 steps, validate for 171 steps\n",
      "Epoch 1/50\n",
      "400/400 - 26s - loss: 1.1193 - accuracy: 0.6198 - val_loss: 0.5642 - val_accuracy: 0.6749\n",
      "Epoch 2/50\n",
      "400/400 - 26s - loss: 0.4788 - accuracy: 0.7661 - val_loss: 0.4598 - val_accuracy: 0.7741\n",
      "Epoch 3/50\n",
      "400/400 - 27s - loss: 0.4468 - accuracy: 0.7862 - val_loss: 0.4240 - val_accuracy: 0.8107\n",
      "Epoch 4/50\n",
      "400/400 - 26s - loss: 0.4346 - accuracy: 0.7914 - val_loss: 0.4316 - val_accuracy: 0.8078\n",
      "Epoch 5/50\n",
      "400/400 - 26s - loss: 0.4176 - accuracy: 0.8040 - val_loss: 0.3955 - val_accuracy: 0.8279\n",
      "Epoch 6/50\n",
      "400/400 - 26s - loss: 0.3974 - accuracy: 0.8161 - val_loss: 0.3801 - val_accuracy: 0.8466\n",
      "Epoch 7/50\n",
      "400/400 - 26s - loss: 0.3832 - accuracy: 0.8238 - val_loss: 0.3554 - val_accuracy: 0.8511\n",
      "Epoch 8/50\n",
      "400/400 - 26s - loss: 0.3693 - accuracy: 0.8289 - val_loss: 0.3435 - val_accuracy: 0.8545\n",
      "Epoch 9/50\n",
      "400/400 - 26s - loss: 0.3539 - accuracy: 0.8391 - val_loss: 0.3435 - val_accuracy: 0.8584\n",
      "Epoch 10/50\n",
      "400/400 - 25s - loss: 0.3401 - accuracy: 0.8462 - val_loss: 0.3050 - val_accuracy: 0.8683\n",
      "Epoch 11/50\n",
      "400/400 - 26s - loss: 0.3269 - accuracy: 0.8530 - val_loss: 0.3041 - val_accuracy: 0.8704\n",
      "Epoch 12/50\n",
      "400/400 - 25s - loss: 0.3221 - accuracy: 0.8554 - val_loss: 0.3012 - val_accuracy: 0.8702\n",
      "Epoch 13/50\n",
      "400/400 - 26s - loss: 0.3106 - accuracy: 0.8599 - val_loss: 0.3027 - val_accuracy: 0.8727\n",
      "Epoch 14/50\n",
      "400/400 - 26s - loss: 0.3032 - accuracy: 0.8635 - val_loss: 0.3058 - val_accuracy: 0.8747\n",
      "Epoch 15/50\n",
      "400/400 - 25s - loss: 0.2886 - accuracy: 0.8712 - val_loss: 0.2887 - val_accuracy: 0.8766\n",
      "Epoch 16/50\n",
      "400/400 - 25s - loss: 0.2865 - accuracy: 0.8724 - val_loss: 0.3092 - val_accuracy: 0.8773\n",
      "Epoch 17/50\n",
      "400/400 - 25s - loss: 0.2745 - accuracy: 0.8774 - val_loss: 0.2939 - val_accuracy: 0.8832\n",
      "Epoch 18/50\n",
      "400/400 - 25s - loss: 0.2636 - accuracy: 0.8838 - val_loss: 0.2832 - val_accuracy: 0.8838\n",
      "Epoch 19/50\n",
      "400/400 - 24s - loss: 0.2637 - accuracy: 0.8840 - val_loss: 0.2862 - val_accuracy: 0.8819\n",
      "Epoch 20/50\n",
      "400/400 - 24s - loss: 0.2507 - accuracy: 0.8882 - val_loss: 0.2911 - val_accuracy: 0.8855\n",
      "Epoch 21/50\n",
      "400/400 - 25s - loss: 0.2480 - accuracy: 0.8914 - val_loss: 0.2833 - val_accuracy: 0.8864\n",
      "Epoch 22/50\n",
      "400/400 - 24s - loss: 0.2416 - accuracy: 0.8930 - val_loss: 0.3243 - val_accuracy: 0.8768\n",
      "Epoch 23/50\n",
      "400/400 - 24s - loss: 0.2341 - accuracy: 0.8974 - val_loss: 0.2955 - val_accuracy: 0.8881\n",
      "Epoch 24/50\n",
      "400/400 - 24s - loss: 0.2291 - accuracy: 0.8983 - val_loss: 0.3174 - val_accuracy: 0.8823\n",
      "Epoch 25/50\n",
      "400/400 - 24s - loss: 0.2241 - accuracy: 0.9000 - val_loss: 0.3258 - val_accuracy: 0.8855\n",
      "Epoch 26/50\n",
      "400/400 - 24s - loss: 0.2180 - accuracy: 0.9046 - val_loss: 0.3151 - val_accuracy: 0.8803\n",
      "Epoch 27/50\n",
      "400/400 - 24s - loss: 0.2135 - accuracy: 0.9069 - val_loss: 0.3005 - val_accuracy: 0.8867\n",
      "Epoch 28/50\n",
      "400/400 - 24s - loss: 0.2019 - accuracy: 0.9121 - val_loss: 0.3346 - val_accuracy: 0.8853\n"
     ]
    },
    {
     "data": {
      "text/html": [
       "<span style=\"color:#4527A0\"><h1 style=\"font-size:18px\">Trial complete</h1></span>"
      ],
      "text/plain": [
       "<IPython.core.display.HTML object>"
      ]
     },
     "metadata": {},
     "output_type": "display_data"
    },
    {
     "data": {
      "text/html": [
       "<span style=\"color:#4527A0\"><h1 style=\"font-size:18px\">Trial summary</h1></span>"
      ],
      "text/plain": [
       "<IPython.core.display.HTML object>"
      ]
     },
     "metadata": {},
     "output_type": "display_data"
    },
    {
     "data": {
      "text/html": [
       "<span style=\"color:cyan\"> |-Trial ID: 1d6e912556999450c0fcb6115deab788</span>"
      ],
      "text/plain": [
       "<IPython.core.display.HTML object>"
      ]
     },
     "metadata": {},
     "output_type": "display_data"
    },
    {
     "data": {
      "text/html": [
       "<span style=\"color:cyan\"> |-Score: 0.8880914449691772</span>"
      ],
      "text/plain": [
       "<IPython.core.display.HTML object>"
      ]
     },
     "metadata": {},
     "output_type": "display_data"
    },
    {
     "data": {
      "text/html": [
       "<span style=\"color:cyan\"> |-Best step: 0</span>"
      ],
      "text/plain": [
       "<IPython.core.display.HTML object>"
      ]
     },
     "metadata": {},
     "output_type": "display_data"
    },
    {
     "data": {
      "text/html": [
       "<span style=\"color:#7E57C2\"><h2 style=\"font-size:16px\">Hyperparameters:</h2></span>"
      ],
      "text/plain": [
       "<IPython.core.display.HTML object>"
      ]
     },
     "metadata": {},
     "output_type": "display_data"
    },
    {
     "data": {
      "text/html": [
       "<span style=\"color:cyan\"> |-conv_1: 32</span>"
      ],
      "text/plain": [
       "<IPython.core.display.HTML object>"
      ]
     },
     "metadata": {},
     "output_type": "display_data"
    },
    {
     "data": {
      "text/html": [
       "<span style=\"color:blue\"> |-conv_2: 64</span>"
      ],
      "text/plain": [
       "<IPython.core.display.HTML object>"
      ]
     },
     "metadata": {},
     "output_type": "display_data"
    },
    {
     "data": {
      "text/html": [
       "<span style=\"color:cyan\"> |-conv_3: 128</span>"
      ],
      "text/plain": [
       "<IPython.core.display.HTML object>"
      ]
     },
     "metadata": {},
     "output_type": "display_data"
    },
    {
     "data": {
      "text/html": [
       "<span style=\"color:blue\"> |-dropout_1: 0.1</span>"
      ],
      "text/plain": [
       "<IPython.core.display.HTML object>"
      ]
     },
     "metadata": {},
     "output_type": "display_data"
    },
    {
     "data": {
      "text/html": [
       "<span style=\"color:cyan\"> |-dropout_2: 0.30000000000000004</span>"
      ],
      "text/plain": [
       "<IPython.core.display.HTML object>"
      ]
     },
     "metadata": {},
     "output_type": "display_data"
    },
    {
     "data": {
      "text/html": [
       "<span style=\"color:blue\"> |-dropout_3: 0.0</span>"
      ],
      "text/plain": [
       "<IPython.core.display.HTML object>"
      ]
     },
     "metadata": {},
     "output_type": "display_data"
    },
    {
     "data": {
      "text/html": [
       "<span style=\"color:cyan\"> |-dropout_4: 0.5</span>"
      ],
      "text/plain": [
       "<IPython.core.display.HTML object>"
      ]
     },
     "metadata": {},
     "output_type": "display_data"
    },
    {
     "data": {
      "text/html": [
       "<span style=\"color:blue\"> |-units: 256</span>"
      ],
      "text/plain": [
       "<IPython.core.display.HTML object>"
      ]
     },
     "metadata": {},
     "output_type": "display_data"
    },
    {
     "name": "stdout",
     "output_type": "stream",
     "text": [
      "WARNING:tensorflow:sample_weight modes were coerced from\n",
      "  ...\n",
      "    to  \n",
      "  ['...']\n",
      "WARNING:tensorflow:sample_weight modes were coerced from\n",
      "  ...\n",
      "    to  \n",
      "  ['...']\n",
      "Train for 400 steps, validate for 171 steps\n",
      "Epoch 1/50\n",
      "400/400 - 25s - loss: 1.3240 - accuracy: 0.7158 - val_loss: 0.5187 - val_accuracy: 0.7525\n",
      "Epoch 2/50\n",
      "400/400 - 24s - loss: 0.4648 - accuracy: 0.7719 - val_loss: 0.4664 - val_accuracy: 0.7617\n",
      "Epoch 3/50\n",
      "400/400 - 25s - loss: 0.4425 - accuracy: 0.7871 - val_loss: 0.4753 - val_accuracy: 0.7895\n",
      "Epoch 4/50\n",
      "400/400 - 25s - loss: 0.4333 - accuracy: 0.7913 - val_loss: 0.4369 - val_accuracy: 0.8078\n",
      "Epoch 5/50\n",
      "400/400 - 25s - loss: 0.4222 - accuracy: 0.7981 - val_loss: 0.4266 - val_accuracy: 0.8121\n",
      "Epoch 6/50\n",
      "400/400 - 25s - loss: 0.4054 - accuracy: 0.8093 - val_loss: 0.4077 - val_accuracy: 0.8326\n",
      "Epoch 7/50\n",
      "400/400 - 25s - loss: 0.4016 - accuracy: 0.8112 - val_loss: 0.4294 - val_accuracy: 0.8331\n",
      "Epoch 8/50\n",
      "400/400 - 24s - loss: 0.3921 - accuracy: 0.8180 - val_loss: 0.3825 - val_accuracy: 0.8286\n",
      "Epoch 9/50\n",
      "400/400 - 25s - loss: 0.3737 - accuracy: 0.8286 - val_loss: 0.3619 - val_accuracy: 0.8416\n",
      "Epoch 10/50\n",
      "400/400 - 25s - loss: 0.3661 - accuracy: 0.8342 - val_loss: 0.3538 - val_accuracy: 0.8599\n",
      "Epoch 11/50\n",
      "400/400 - 24s - loss: 0.3512 - accuracy: 0.8422 - val_loss: 0.3323 - val_accuracy: 0.8595\n",
      "Epoch 12/50\n",
      "400/400 - 24s - loss: 0.3323 - accuracy: 0.8509 - val_loss: 0.3084 - val_accuracy: 0.8598\n",
      "Epoch 13/50\n",
      "400/400 - 25s - loss: 0.3210 - accuracy: 0.8565 - val_loss: 0.2865 - val_accuracy: 0.8731\n",
      "Epoch 14/50\n",
      "400/400 - 24s - loss: 0.3097 - accuracy: 0.8626 - val_loss: 0.3084 - val_accuracy: 0.8726\n",
      "Epoch 15/50\n",
      "400/400 - 25s - loss: 0.3015 - accuracy: 0.8671 - val_loss: 0.3048 - val_accuracy: 0.8827\n",
      "Epoch 16/50\n",
      "400/400 - 25s - loss: 0.2946 - accuracy: 0.8679 - val_loss: 0.2874 - val_accuracy: 0.8853\n",
      "Epoch 17/50\n",
      "400/400 - 24s - loss: 0.2863 - accuracy: 0.8748 - val_loss: 0.3178 - val_accuracy: 0.8764\n",
      "Epoch 18/50\n",
      "400/400 - 24s - loss: 0.2764 - accuracy: 0.8806 - val_loss: 0.3100 - val_accuracy: 0.8785\n",
      "Epoch 19/50\n",
      "400/400 - 24s - loss: 0.2708 - accuracy: 0.8820 - val_loss: 0.3114 - val_accuracy: 0.8846\n",
      "Epoch 20/50\n",
      "400/400 - 24s - loss: 0.2673 - accuracy: 0.8825 - val_loss: 0.3143 - val_accuracy: 0.8751\n",
      "Epoch 21/50\n",
      "400/400 - 24s - loss: 0.2594 - accuracy: 0.8878 - val_loss: 0.2861 - val_accuracy: 0.8839\n"
     ]
    },
    {
     "data": {
      "text/html": [
       "<span style=\"color:#4527A0\"><h1 style=\"font-size:18px\">Trial complete</h1></span>"
      ],
      "text/plain": [
       "<IPython.core.display.HTML object>"
      ]
     },
     "metadata": {},
     "output_type": "display_data"
    },
    {
     "data": {
      "text/html": [
       "<span style=\"color:#4527A0\"><h1 style=\"font-size:18px\">Trial summary</h1></span>"
      ],
      "text/plain": [
       "<IPython.core.display.HTML object>"
      ]
     },
     "metadata": {},
     "output_type": "display_data"
    },
    {
     "data": {
      "text/html": [
       "<span style=\"color:cyan\"> |-Trial ID: 7ed082b77460d4c23c410cd1ce58fd67</span>"
      ],
      "text/plain": [
       "<IPython.core.display.HTML object>"
      ]
     },
     "metadata": {},
     "output_type": "display_data"
    },
    {
     "data": {
      "text/html": [
       "<span style=\"color:cyan\"> |-Score: 0.8852571249008179</span>"
      ],
      "text/plain": [
       "<IPython.core.display.HTML object>"
      ]
     },
     "metadata": {},
     "output_type": "display_data"
    },
    {
     "data": {
      "text/html": [
       "<span style=\"color:cyan\"> |-Best step: 0</span>"
      ],
      "text/plain": [
       "<IPython.core.display.HTML object>"
      ]
     },
     "metadata": {},
     "output_type": "display_data"
    },
    {
     "data": {
      "text/html": [
       "<span style=\"color:#7E57C2\"><h2 style=\"font-size:16px\">Hyperparameters:</h2></span>"
      ],
      "text/plain": [
       "<IPython.core.display.HTML object>"
      ]
     },
     "metadata": {},
     "output_type": "display_data"
    },
    {
     "data": {
      "text/html": [
       "<span style=\"color:cyan\"> |-conv_1: 32</span>"
      ],
      "text/plain": [
       "<IPython.core.display.HTML object>"
      ]
     },
     "metadata": {},
     "output_type": "display_data"
    },
    {
     "data": {
      "text/html": [
       "<span style=\"color:blue\"> |-conv_2: 64</span>"
      ],
      "text/plain": [
       "<IPython.core.display.HTML object>"
      ]
     },
     "metadata": {},
     "output_type": "display_data"
    },
    {
     "data": {
      "text/html": [
       "<span style=\"color:cyan\"> |-conv_3: 128</span>"
      ],
      "text/plain": [
       "<IPython.core.display.HTML object>"
      ]
     },
     "metadata": {},
     "output_type": "display_data"
    },
    {
     "data": {
      "text/html": [
       "<span style=\"color:blue\"> |-dropout_1: 0.30000000000000004</span>"
      ],
      "text/plain": [
       "<IPython.core.display.HTML object>"
      ]
     },
     "metadata": {},
     "output_type": "display_data"
    },
    {
     "data": {
      "text/html": [
       "<span style=\"color:cyan\"> |-dropout_2: 0.1</span>"
      ],
      "text/plain": [
       "<IPython.core.display.HTML object>"
      ]
     },
     "metadata": {},
     "output_type": "display_data"
    },
    {
     "data": {
      "text/html": [
       "<span style=\"color:blue\"> |-dropout_3: 0.2</span>"
      ],
      "text/plain": [
       "<IPython.core.display.HTML object>"
      ]
     },
     "metadata": {},
     "output_type": "display_data"
    },
    {
     "data": {
      "text/html": [
       "<span style=\"color:cyan\"> |-dropout_4: 0.4</span>"
      ],
      "text/plain": [
       "<IPython.core.display.HTML object>"
      ]
     },
     "metadata": {},
     "output_type": "display_data"
    },
    {
     "data": {
      "text/html": [
       "<span style=\"color:blue\"> |-units: 512</span>"
      ],
      "text/plain": [
       "<IPython.core.display.HTML object>"
      ]
     },
     "metadata": {},
     "output_type": "display_data"
    },
    {
     "name": "stdout",
     "output_type": "stream",
     "text": [
      "WARNING:tensorflow:sample_weight modes were coerced from\n",
      "  ...\n",
      "    to  \n",
      "  ['...']\n",
      "WARNING:tensorflow:sample_weight modes were coerced from\n",
      "  ...\n",
      "    to  \n",
      "  ['...']\n",
      "Train for 400 steps, validate for 171 steps\n",
      "Epoch 1/50\n",
      "400/400 - 24s - loss: 1.6362 - accuracy: 0.6802 - val_loss: 0.6029 - val_accuracy: 0.7183\n",
      "Epoch 2/50\n",
      "400/400 - 23s - loss: 0.4700 - accuracy: 0.7698 - val_loss: 0.5534 - val_accuracy: 0.7718\n",
      "Epoch 3/50\n",
      "400/400 - 23s - loss: 0.4504 - accuracy: 0.7836 - val_loss: 0.5543 - val_accuracy: 0.7662\n",
      "Epoch 4/50\n",
      "400/400 - 23s - loss: 0.4402 - accuracy: 0.7913 - val_loss: 0.5354 - val_accuracy: 0.7761\n",
      "Epoch 5/50\n",
      "400/400 - 23s - loss: 0.4285 - accuracy: 0.7986 - val_loss: 0.5182 - val_accuracy: 0.7908\n",
      "Epoch 6/50\n",
      "400/400 - 23s - loss: 0.4188 - accuracy: 0.8026 - val_loss: 0.5354 - val_accuracy: 0.7840\n",
      "Epoch 7/50\n",
      "400/400 - 23s - loss: 0.4171 - accuracy: 0.8037 - val_loss: 0.5114 - val_accuracy: 0.8005\n",
      "Epoch 8/50\n",
      "400/400 - 23s - loss: 0.4094 - accuracy: 0.8080 - val_loss: 0.5069 - val_accuracy: 0.7911\n",
      "Epoch 9/50\n",
      "400/400 - 23s - loss: 0.3975 - accuracy: 0.8147 - val_loss: 0.4550 - val_accuracy: 0.8084\n",
      "Epoch 10/50\n",
      "400/400 - 23s - loss: 0.3882 - accuracy: 0.8174 - val_loss: 0.5062 - val_accuracy: 0.7038\n",
      "Epoch 11/50\n",
      "400/400 - 23s - loss: 0.3811 - accuracy: 0.8220 - val_loss: 0.4239 - val_accuracy: 0.7965\n",
      "Epoch 12/50\n",
      "400/400 - 23s - loss: 0.3755 - accuracy: 0.8262 - val_loss: 0.4330 - val_accuracy: 0.8011\n",
      "Epoch 13/50\n",
      "400/400 - 24s - loss: 0.3637 - accuracy: 0.8335 - val_loss: 0.3754 - val_accuracy: 0.8105\n",
      "Epoch 14/50\n",
      "400/400 - 23s - loss: 0.3563 - accuracy: 0.8346 - val_loss: 0.3826 - val_accuracy: 0.8112\n",
      "Epoch 15/50\n",
      "400/400 - 23s - loss: 0.3522 - accuracy: 0.8386 - val_loss: 0.4408 - val_accuracy: 0.7558\n",
      "Epoch 16/50\n",
      "400/400 - 23s - loss: 0.3486 - accuracy: 0.8396 - val_loss: 0.4558 - val_accuracy: 0.7826\n",
      "Epoch 17/50\n",
      "400/400 - 23s - loss: 0.3399 - accuracy: 0.8456 - val_loss: 0.3834 - val_accuracy: 0.8053\n",
      "Epoch 18/50\n",
      "400/400 - 23s - loss: 0.3314 - accuracy: 0.8503 - val_loss: 0.3761 - val_accuracy: 0.8054\n",
      "Epoch 19/50\n",
      "400/400 - 23s - loss: 0.3347 - accuracy: 0.8490 - val_loss: 0.3900 - val_accuracy: 0.8063\n"
     ]
    },
    {
     "data": {
      "text/html": [
       "<span style=\"color:#4527A0\"><h1 style=\"font-size:18px\">Trial complete</h1></span>"
      ],
      "text/plain": [
       "<IPython.core.display.HTML object>"
      ]
     },
     "metadata": {},
     "output_type": "display_data"
    },
    {
     "data": {
      "text/html": [
       "<span style=\"color:#4527A0\"><h1 style=\"font-size:18px\">Trial summary</h1></span>"
      ],
      "text/plain": [
       "<IPython.core.display.HTML object>"
      ]
     },
     "metadata": {},
     "output_type": "display_data"
    },
    {
     "data": {
      "text/html": [
       "<span style=\"color:cyan\"> |-Trial ID: bd164a4ccb0dc08dff538918436f6939</span>"
      ],
      "text/plain": [
       "<IPython.core.display.HTML object>"
      ]
     },
     "metadata": {},
     "output_type": "display_data"
    },
    {
     "data": {
      "text/html": [
       "<span style=\"color:cyan\"> |-Score: 0.811154305934906</span>"
      ],
      "text/plain": [
       "<IPython.core.display.HTML object>"
      ]
     },
     "metadata": {},
     "output_type": "display_data"
    },
    {
     "data": {
      "text/html": [
       "<span style=\"color:cyan\"> |-Best step: 0</span>"
      ],
      "text/plain": [
       "<IPython.core.display.HTML object>"
      ]
     },
     "metadata": {},
     "output_type": "display_data"
    },
    {
     "data": {
      "text/html": [
       "<span style=\"color:#7E57C2\"><h2 style=\"font-size:16px\">Hyperparameters:</h2></span>"
      ],
      "text/plain": [
       "<IPython.core.display.HTML object>"
      ]
     },
     "metadata": {},
     "output_type": "display_data"
    },
    {
     "data": {
      "text/html": [
       "<span style=\"color:cyan\"> |-conv_1: 32</span>"
      ],
      "text/plain": [
       "<IPython.core.display.HTML object>"
      ]
     },
     "metadata": {},
     "output_type": "display_data"
    },
    {
     "data": {
      "text/html": [
       "<span style=\"color:blue\"> |-conv_2: 32</span>"
      ],
      "text/plain": [
       "<IPython.core.display.HTML object>"
      ]
     },
     "metadata": {},
     "output_type": "display_data"
    },
    {
     "data": {
      "text/html": [
       "<span style=\"color:cyan\"> |-conv_3: 128</span>"
      ],
      "text/plain": [
       "<IPython.core.display.HTML object>"
      ]
     },
     "metadata": {},
     "output_type": "display_data"
    },
    {
     "data": {
      "text/html": [
       "<span style=\"color:blue\"> |-dropout_1: 0.30000000000000004</span>"
      ],
      "text/plain": [
       "<IPython.core.display.HTML object>"
      ]
     },
     "metadata": {},
     "output_type": "display_data"
    },
    {
     "data": {
      "text/html": [
       "<span style=\"color:cyan\"> |-dropout_2: 0.5</span>"
      ],
      "text/plain": [
       "<IPython.core.display.HTML object>"
      ]
     },
     "metadata": {},
     "output_type": "display_data"
    },
    {
     "data": {
      "text/html": [
       "<span style=\"color:blue\"> |-dropout_3: 0.1</span>"
      ],
      "text/plain": [
       "<IPython.core.display.HTML object>"
      ]
     },
     "metadata": {},
     "output_type": "display_data"
    },
    {
     "data": {
      "text/html": [
       "<span style=\"color:cyan\"> |-dropout_4: 0.4</span>"
      ],
      "text/plain": [
       "<IPython.core.display.HTML object>"
      ]
     },
     "metadata": {},
     "output_type": "display_data"
    },
    {
     "data": {
      "text/html": [
       "<span style=\"color:blue\"> |-units: 256</span>"
      ],
      "text/plain": [
       "<IPython.core.display.HTML object>"
      ]
     },
     "metadata": {},
     "output_type": "display_data"
    },
    {
     "name": "stdout",
     "output_type": "stream",
     "text": [
      "WARNING:tensorflow:sample_weight modes were coerced from\n",
      "  ...\n",
      "    to  \n",
      "  ['...']\n",
      "WARNING:tensorflow:sample_weight modes were coerced from\n",
      "  ...\n",
      "    to  \n",
      "  ['...']\n",
      "Train for 400 steps, validate for 171 steps\n",
      "Epoch 1/50\n",
      "400/400 - 25s - loss: 2.8090 - accuracy: 0.7164 - val_loss: 0.5483 - val_accuracy: 0.7175\n",
      "Epoch 2/50\n",
      "400/400 - 24s - loss: 0.4697 - accuracy: 0.7724 - val_loss: 0.5576 - val_accuracy: 0.7320\n",
      "Epoch 3/50\n",
      "400/400 - 24s - loss: 0.4501 - accuracy: 0.7846 - val_loss: 0.5432 - val_accuracy: 0.7600\n",
      "Epoch 4/50\n",
      "400/400 - 24s - loss: 0.4320 - accuracy: 0.7977 - val_loss: 0.5275 - val_accuracy: 0.7931\n",
      "Epoch 5/50\n",
      "400/400 - 24s - loss: 0.4169 - accuracy: 0.8038 - val_loss: 0.4949 - val_accuracy: 0.7588\n",
      "Epoch 6/50\n",
      "400/400 - 25s - loss: 0.4054 - accuracy: 0.8091 - val_loss: 0.4209 - val_accuracy: 0.8227\n",
      "Epoch 7/50\n",
      "400/400 - 24s - loss: 0.3886 - accuracy: 0.8213 - val_loss: 0.3824 - val_accuracy: 0.8571\n",
      "Epoch 8/50\n",
      "400/400 - 23s - loss: 0.3746 - accuracy: 0.8282 - val_loss: 0.4006 - val_accuracy: 0.8363\n",
      "Epoch 9/50\n",
      "400/400 - 24s - loss: 0.3600 - accuracy: 0.8369 - val_loss: 0.3810 - val_accuracy: 0.8463\n",
      "Epoch 10/50\n",
      "400/400 - 24s - loss: 0.3531 - accuracy: 0.8391 - val_loss: 0.3889 - val_accuracy: 0.8471\n",
      "Epoch 11/50\n",
      "400/400 - 24s - loss: 0.3397 - accuracy: 0.8474 - val_loss: 0.3956 - val_accuracy: 0.8486\n",
      "Epoch 12/50\n",
      "400/400 - 25s - loss: 0.3384 - accuracy: 0.8477 - val_loss: 0.3758 - val_accuracy: 0.8617\n",
      "Epoch 13/50\n",
      "400/400 - 25s - loss: 0.3342 - accuracy: 0.8500 - val_loss: 0.3677 - val_accuracy: 0.8643\n",
      "Epoch 14/50\n",
      "400/400 - 24s - loss: 0.3235 - accuracy: 0.8569 - val_loss: 0.4228 - val_accuracy: 0.8404\n",
      "Epoch 15/50\n",
      "400/400 - 24s - loss: 0.3171 - accuracy: 0.8580 - val_loss: 0.3766 - val_accuracy: 0.8656\n",
      "Epoch 16/50\n",
      "400/400 - 23s - loss: 0.3134 - accuracy: 0.8620 - val_loss: 0.4082 - val_accuracy: 0.8392\n",
      "Epoch 17/50\n",
      "400/400 - 24s - loss: 0.3061 - accuracy: 0.8659 - val_loss: 0.3689 - val_accuracy: 0.8560\n",
      "Epoch 18/50\n",
      "400/400 - 25s - loss: 0.3051 - accuracy: 0.8646 - val_loss: 0.3685 - val_accuracy: 0.8607\n",
      "Epoch 19/50\n",
      "400/400 - 24s - loss: 0.2993 - accuracy: 0.8677 - val_loss: 0.3277 - val_accuracy: 0.8816\n",
      "Epoch 20/50\n",
      "400/400 - 23s - loss: 0.2926 - accuracy: 0.8722 - val_loss: 0.3950 - val_accuracy: 0.8545\n",
      "Epoch 21/50\n",
      "400/400 - 23s - loss: 0.2912 - accuracy: 0.8712 - val_loss: 0.3363 - val_accuracy: 0.8727\n",
      "Epoch 22/50\n",
      "400/400 - 23s - loss: 0.2841 - accuracy: 0.8754 - val_loss: 0.3467 - val_accuracy: 0.8759\n",
      "Epoch 23/50\n",
      "400/400 - 24s - loss: 0.2873 - accuracy: 0.8739 - val_loss: 0.3152 - val_accuracy: 0.8787\n",
      "Epoch 24/50\n",
      "400/400 - 24s - loss: 0.2859 - accuracy: 0.8730 - val_loss: 0.3137 - val_accuracy: 0.8826\n",
      "Epoch 25/50\n",
      "400/400 - 23s - loss: 0.2730 - accuracy: 0.8806 - val_loss: 0.2996 - val_accuracy: 0.8820\n",
      "Epoch 26/50\n",
      "400/400 - 24s - loss: 0.2749 - accuracy: 0.8807 - val_loss: 0.3045 - val_accuracy: 0.8837\n",
      "Epoch 27/50\n",
      "400/400 - 24s - loss: 0.2767 - accuracy: 0.8780 - val_loss: 0.2855 - val_accuracy: 0.8883\n",
      "Epoch 28/50\n",
      "400/400 - 23s - loss: 0.2716 - accuracy: 0.8811 - val_loss: 0.2839 - val_accuracy: 0.8827\n",
      "Epoch 29/50\n",
      "400/400 - 24s - loss: 0.2749 - accuracy: 0.8777 - val_loss: 0.2849 - val_accuracy: 0.8686\n",
      "Epoch 30/50\n",
      "400/400 - 23s - loss: 0.2689 - accuracy: 0.8821 - val_loss: 0.2927 - val_accuracy: 0.8857\n",
      "Epoch 31/50\n",
      "400/400 - 23s - loss: 0.2588 - accuracy: 0.8881 - val_loss: 0.2814 - val_accuracy: 0.8785\n",
      "Epoch 32/50\n",
      "400/400 - 24s - loss: 0.2540 - accuracy: 0.8893 - val_loss: 0.2773 - val_accuracy: 0.8894\n",
      "Epoch 33/50\n",
      "400/400 - 24s - loss: 0.2565 - accuracy: 0.8890 - val_loss: 0.2877 - val_accuracy: 0.8970\n",
      "Epoch 34/50\n",
      "400/400 - 23s - loss: 0.2531 - accuracy: 0.8910 - val_loss: 0.2963 - val_accuracy: 0.8880\n",
      "Epoch 35/50\n",
      "400/400 - 23s - loss: 0.2545 - accuracy: 0.8891 - val_loss: 0.2823 - val_accuracy: 0.8884\n",
      "Epoch 36/50\n",
      "400/400 - 23s - loss: 0.2432 - accuracy: 0.8973 - val_loss: 0.2573 - val_accuracy: 0.8865\n",
      "Epoch 37/50\n",
      "400/400 - 24s - loss: 0.2430 - accuracy: 0.8964 - val_loss: 0.2818 - val_accuracy: 0.8936\n",
      "Epoch 38/50\n",
      "400/400 - 23s - loss: 0.2448 - accuracy: 0.8946 - val_loss: 0.2577 - val_accuracy: 0.8917\n"
     ]
    },
    {
     "data": {
      "text/html": [
       "<span style=\"color:#4527A0\"><h1 style=\"font-size:18px\">Trial complete</h1></span>"
      ],
      "text/plain": [
       "<IPython.core.display.HTML object>"
      ]
     },
     "metadata": {},
     "output_type": "display_data"
    },
    {
     "data": {
      "text/html": [
       "<span style=\"color:#4527A0\"><h1 style=\"font-size:18px\">Trial summary</h1></span>"
      ],
      "text/plain": [
       "<IPython.core.display.HTML object>"
      ]
     },
     "metadata": {},
     "output_type": "display_data"
    },
    {
     "data": {
      "text/html": [
       "<span style=\"color:cyan\"> |-Trial ID: d9255cc3e7b3a307cfeb4ae29a96ad29</span>"
      ],
      "text/plain": [
       "<IPython.core.display.HTML object>"
      ]
     },
     "metadata": {},
     "output_type": "display_data"
    },
    {
     "data": {
      "text/html": [
       "<span style=\"color:cyan\"> |-Score: 0.8970057368278503</span>"
      ],
      "text/plain": [
       "<IPython.core.display.HTML object>"
      ]
     },
     "metadata": {},
     "output_type": "display_data"
    },
    {
     "data": {
      "text/html": [
       "<span style=\"color:cyan\"> |-Best step: 0</span>"
      ],
      "text/plain": [
       "<IPython.core.display.HTML object>"
      ]
     },
     "metadata": {},
     "output_type": "display_data"
    },
    {
     "data": {
      "text/html": [
       "<span style=\"color:#7E57C2\"><h2 style=\"font-size:16px\">Hyperparameters:</h2></span>"
      ],
      "text/plain": [
       "<IPython.core.display.HTML object>"
      ]
     },
     "metadata": {},
     "output_type": "display_data"
    },
    {
     "data": {
      "text/html": [
       "<span style=\"color:cyan\"> |-conv_1: 32</span>"
      ],
      "text/plain": [
       "<IPython.core.display.HTML object>"
      ]
     },
     "metadata": {},
     "output_type": "display_data"
    },
    {
     "data": {
      "text/html": [
       "<span style=\"color:blue\"> |-conv_2: 32</span>"
      ],
      "text/plain": [
       "<IPython.core.display.HTML object>"
      ]
     },
     "metadata": {},
     "output_type": "display_data"
    },
    {
     "data": {
      "text/html": [
       "<span style=\"color:cyan\"> |-conv_3: 128</span>"
      ],
      "text/plain": [
       "<IPython.core.display.HTML object>"
      ]
     },
     "metadata": {},
     "output_type": "display_data"
    },
    {
     "data": {
      "text/html": [
       "<span style=\"color:blue\"> |-dropout_1: 0.5</span>"
      ],
      "text/plain": [
       "<IPython.core.display.HTML object>"
      ]
     },
     "metadata": {},
     "output_type": "display_data"
    },
    {
     "data": {
      "text/html": [
       "<span style=\"color:cyan\"> |-dropout_2: 0.30000000000000004</span>"
      ],
      "text/plain": [
       "<IPython.core.display.HTML object>"
      ]
     },
     "metadata": {},
     "output_type": "display_data"
    },
    {
     "data": {
      "text/html": [
       "<span style=\"color:blue\"> |-dropout_3: 0.2</span>"
      ],
      "text/plain": [
       "<IPython.core.display.HTML object>"
      ]
     },
     "metadata": {},
     "output_type": "display_data"
    },
    {
     "data": {
      "text/html": [
       "<span style=\"color:cyan\"> |-dropout_4: 0.4</span>"
      ],
      "text/plain": [
       "<IPython.core.display.HTML object>"
      ]
     },
     "metadata": {},
     "output_type": "display_data"
    },
    {
     "data": {
      "text/html": [
       "<span style=\"color:blue\"> |-units: 768</span>"
      ],
      "text/plain": [
       "<IPython.core.display.HTML object>"
      ]
     },
     "metadata": {},
     "output_type": "display_data"
    },
    {
     "name": "stdout",
     "output_type": "stream",
     "text": [
      "WARNING:tensorflow:sample_weight modes were coerced from\n",
      "  ...\n",
      "    to  \n",
      "  ['...']\n",
      "WARNING:tensorflow:sample_weight modes were coerced from\n",
      "  ...\n",
      "    to  \n",
      "  ['...']\n",
      "Train for 400 steps, validate for 171 steps\n",
      "Epoch 1/50\n",
      "400/400 - 23s - loss: 2.1899 - accuracy: 0.5916 - val_loss: 0.6763 - val_accuracy: 0.5915\n",
      "Epoch 2/50\n",
      "400/400 - 22s - loss: 0.6753 - accuracy: 0.5946 - val_loss: 0.6763 - val_accuracy: 0.5915\n",
      "Epoch 3/50\n",
      "400/400 - 22s - loss: 0.6753 - accuracy: 0.5946 - val_loss: 0.6761 - val_accuracy: 0.5920\n",
      "Epoch 4/50\n",
      "400/400 - 21s - loss: 0.6753 - accuracy: 0.5946 - val_loss: 0.6764 - val_accuracy: 0.5913\n",
      "Epoch 5/50\n",
      "400/400 - 21s - loss: 0.6753 - accuracy: 0.5946 - val_loss: 0.6763 - val_accuracy: 0.5915\n",
      "Epoch 6/50\n",
      "400/400 - 21s - loss: 0.6753 - accuracy: 0.5946 - val_loss: 0.6762 - val_accuracy: 0.5918\n",
      "Epoch 7/50\n",
      "400/400 - 22s - loss: 0.6753 - accuracy: 0.5946 - val_loss: 0.6762 - val_accuracy: 0.5919\n",
      "Epoch 8/50\n",
      "400/400 - 22s - loss: 0.6752 - accuracy: 0.5946 - val_loss: 0.6762 - val_accuracy: 0.5920\n",
      "Epoch 9/50\n",
      "400/400 - 21s - loss: 0.6753 - accuracy: 0.5946 - val_loss: 0.6763 - val_accuracy: 0.5914\n",
      "Epoch 10/50\n",
      "400/400 - 21s - loss: 0.6752 - accuracy: 0.5946 - val_loss: 0.6762 - val_accuracy: 0.5919\n",
      "Epoch 11/50\n",
      "400/400 - 21s - loss: 0.6753 - accuracy: 0.5946 - val_loss: 0.6763 - val_accuracy: 0.5916\n",
      "Epoch 12/50\n",
      "400/400 - 21s - loss: 0.6754 - accuracy: 0.5946 - val_loss: 0.6763 - val_accuracy: 0.5915\n",
      "Epoch 13/50\n",
      "400/400 - 21s - loss: 0.6752 - accuracy: 0.5946 - val_loss: 0.6762 - val_accuracy: 0.5918\n"
     ]
    },
    {
     "data": {
      "text/html": [
       "<span style=\"color:#4527A0\"><h1 style=\"font-size:18px\">Trial complete</h1></span>"
      ],
      "text/plain": [
       "<IPython.core.display.HTML object>"
      ]
     },
     "metadata": {},
     "output_type": "display_data"
    },
    {
     "data": {
      "text/html": [
       "<span style=\"color:#4527A0\"><h1 style=\"font-size:18px\">Trial summary</h1></span>"
      ],
      "text/plain": [
       "<IPython.core.display.HTML object>"
      ]
     },
     "metadata": {},
     "output_type": "display_data"
    },
    {
     "data": {
      "text/html": [
       "<span style=\"color:cyan\"> |-Trial ID: 39c9896088f871cdb5da57a9222884ab</span>"
      ],
      "text/plain": [
       "<IPython.core.display.HTML object>"
      ]
     },
     "metadata": {},
     "output_type": "display_data"
    },
    {
     "data": {
      "text/html": [
       "<span style=\"color:cyan\"> |-Score: 0.5920457243919373</span>"
      ],
      "text/plain": [
       "<IPython.core.display.HTML object>"
      ]
     },
     "metadata": {},
     "output_type": "display_data"
    },
    {
     "data": {
      "text/html": [
       "<span style=\"color:cyan\"> |-Best step: 0</span>"
      ],
      "text/plain": [
       "<IPython.core.display.HTML object>"
      ]
     },
     "metadata": {},
     "output_type": "display_data"
    },
    {
     "data": {
      "text/html": [
       "<span style=\"color:#7E57C2\"><h2 style=\"font-size:16px\">Hyperparameters:</h2></span>"
      ],
      "text/plain": [
       "<IPython.core.display.HTML object>"
      ]
     },
     "metadata": {},
     "output_type": "display_data"
    },
    {
     "data": {
      "text/html": [
       "<span style=\"color:cyan\"> |-conv_1: 16</span>"
      ],
      "text/plain": [
       "<IPython.core.display.HTML object>"
      ]
     },
     "metadata": {},
     "output_type": "display_data"
    },
    {
     "data": {
      "text/html": [
       "<span style=\"color:blue\"> |-conv_2: 64</span>"
      ],
      "text/plain": [
       "<IPython.core.display.HTML object>"
      ]
     },
     "metadata": {},
     "output_type": "display_data"
    },
    {
     "data": {
      "text/html": [
       "<span style=\"color:cyan\"> |-conv_3: 64</span>"
      ],
      "text/plain": [
       "<IPython.core.display.HTML object>"
      ]
     },
     "metadata": {},
     "output_type": "display_data"
    },
    {
     "data": {
      "text/html": [
       "<span style=\"color:blue\"> |-dropout_1: 0.1</span>"
      ],
      "text/plain": [
       "<IPython.core.display.HTML object>"
      ]
     },
     "metadata": {},
     "output_type": "display_data"
    },
    {
     "data": {
      "text/html": [
       "<span style=\"color:cyan\"> |-dropout_2: 0.30000000000000004</span>"
      ],
      "text/plain": [
       "<IPython.core.display.HTML object>"
      ]
     },
     "metadata": {},
     "output_type": "display_data"
    },
    {
     "data": {
      "text/html": [
       "<span style=\"color:blue\"> |-dropout_3: 0.1</span>"
      ],
      "text/plain": [
       "<IPython.core.display.HTML object>"
      ]
     },
     "metadata": {},
     "output_type": "display_data"
    },
    {
     "data": {
      "text/html": [
       "<span style=\"color:cyan\"> |-dropout_4: 0.30000000000000004</span>"
      ],
      "text/plain": [
       "<IPython.core.display.HTML object>"
      ]
     },
     "metadata": {},
     "output_type": "display_data"
    },
    {
     "data": {
      "text/html": [
       "<span style=\"color:blue\"> |-units: 640</span>"
      ],
      "text/plain": [
       "<IPython.core.display.HTML object>"
      ]
     },
     "metadata": {},
     "output_type": "display_data"
    },
    {
     "name": "stdout",
     "output_type": "stream",
     "text": [
      "WARNING:tensorflow:sample_weight modes were coerced from\n",
      "  ...\n",
      "    to  \n",
      "  ['...']\n",
      "WARNING:tensorflow:sample_weight modes were coerced from\n",
      "  ...\n",
      "    to  \n",
      "  ['...']\n",
      "Train for 400 steps, validate for 171 steps\n",
      "Epoch 1/50\n",
      "400/400 - 25s - loss: 0.7650 - accuracy: 0.7179 - val_loss: 0.5023 - val_accuracy: 0.7867\n",
      "Epoch 2/50\n",
      "400/400 - 24s - loss: 0.4484 - accuracy: 0.7883 - val_loss: 0.5040 - val_accuracy: 0.7884\n",
      "Epoch 3/50\n",
      "400/400 - 24s - loss: 0.4308 - accuracy: 0.7950 - val_loss: 0.4397 - val_accuracy: 0.8216\n",
      "Epoch 4/50\n",
      "400/400 - 24s - loss: 0.4108 - accuracy: 0.8075 - val_loss: 0.4294 - val_accuracy: 0.8176\n",
      "Epoch 5/50\n",
      "400/400 - 24s - loss: 0.3967 - accuracy: 0.8154 - val_loss: 0.3857 - val_accuracy: 0.8378\n",
      "Epoch 6/50\n",
      "400/400 - 24s - loss: 0.3763 - accuracy: 0.8266 - val_loss: 0.3486 - val_accuracy: 0.8460\n",
      "Epoch 7/50\n",
      "400/400 - 24s - loss: 0.3594 - accuracy: 0.8364 - val_loss: 0.3532 - val_accuracy: 0.8527\n",
      "Epoch 8/50\n",
      "400/400 - 24s - loss: 0.3473 - accuracy: 0.8435 - val_loss: 0.3336 - val_accuracy: 0.8558\n",
      "Epoch 9/50\n",
      "400/400 - 24s - loss: 0.3347 - accuracy: 0.8502 - val_loss: 0.3483 - val_accuracy: 0.8549\n",
      "Epoch 10/50\n",
      "400/400 - 24s - loss: 0.3260 - accuracy: 0.8551 - val_loss: 0.3212 - val_accuracy: 0.8558\n",
      "Epoch 11/50\n",
      "400/400 - 24s - loss: 0.3139 - accuracy: 0.8609 - val_loss: 0.3233 - val_accuracy: 0.8733\n",
      "Epoch 12/50\n",
      "400/400 - 24s - loss: 0.3078 - accuracy: 0.8632 - val_loss: 0.3030 - val_accuracy: 0.8746\n",
      "Epoch 13/50\n",
      "400/400 - 24s - loss: 0.2927 - accuracy: 0.8714 - val_loss: 0.3067 - val_accuracy: 0.8741\n",
      "Epoch 14/50\n",
      "400/400 - 24s - loss: 0.2965 - accuracy: 0.8696 - val_loss: 0.2959 - val_accuracy: 0.8738\n",
      "Epoch 15/50\n",
      "400/400 - 24s - loss: 0.2847 - accuracy: 0.8749 - val_loss: 0.3066 - val_accuracy: 0.8805\n",
      "Epoch 16/50\n",
      "400/400 - 24s - loss: 0.2769 - accuracy: 0.8810 - val_loss: 0.2767 - val_accuracy: 0.8840\n",
      "Epoch 17/50\n",
      "400/400 - 24s - loss: 0.2671 - accuracy: 0.8860 - val_loss: 0.2820 - val_accuracy: 0.8866\n",
      "Epoch 18/50\n",
      "400/400 - 24s - loss: 0.2625 - accuracy: 0.8865 - val_loss: 0.2744 - val_accuracy: 0.8933\n",
      "Epoch 19/50\n",
      "400/400 - 24s - loss: 0.2532 - accuracy: 0.8908 - val_loss: 0.2769 - val_accuracy: 0.8834\n",
      "Epoch 20/50\n",
      "400/400 - 24s - loss: 0.2527 - accuracy: 0.8915 - val_loss: 0.2637 - val_accuracy: 0.8939\n",
      "Epoch 21/50\n",
      "400/400 - 24s - loss: 0.2473 - accuracy: 0.8937 - val_loss: 0.2954 - val_accuracy: 0.8835\n",
      "Epoch 22/50\n",
      "400/400 - 24s - loss: 0.2456 - accuracy: 0.8950 - val_loss: 0.2687 - val_accuracy: 0.8920\n",
      "Epoch 23/50\n",
      "400/400 - 25s - loss: 0.2364 - accuracy: 0.9005 - val_loss: 0.2884 - val_accuracy: 0.8897\n",
      "Epoch 24/50\n",
      "400/400 - 26s - loss: 0.2327 - accuracy: 0.9013 - val_loss: 0.2596 - val_accuracy: 0.8982\n",
      "Epoch 25/50\n",
      "400/400 - 24s - loss: 0.2327 - accuracy: 0.9004 - val_loss: 0.2911 - val_accuracy: 0.8824\n",
      "Epoch 26/50\n",
      "400/400 - 24s - loss: 0.2332 - accuracy: 0.9015 - val_loss: 0.2650 - val_accuracy: 0.8892\n",
      "Epoch 27/50\n",
      "400/400 - 24s - loss: 0.2252 - accuracy: 0.9043 - val_loss: 0.2668 - val_accuracy: 0.8899\n",
      "Epoch 28/50\n",
      "400/400 - 24s - loss: 0.2163 - accuracy: 0.9075 - val_loss: 0.2690 - val_accuracy: 0.8839\n",
      "Epoch 29/50\n",
      "400/400 - 24s - loss: 0.2157 - accuracy: 0.9083 - val_loss: 0.2703 - val_accuracy: 0.8901\n"
     ]
    },
    {
     "data": {
      "text/html": [
       "<span style=\"color:#4527A0\"><h1 style=\"font-size:18px\">Trial complete</h1></span>"
      ],
      "text/plain": [
       "<IPython.core.display.HTML object>"
      ]
     },
     "metadata": {},
     "output_type": "display_data"
    },
    {
     "data": {
      "text/html": [
       "<span style=\"color:#4527A0\"><h1 style=\"font-size:18px\">Trial summary</h1></span>"
      ],
      "text/plain": [
       "<IPython.core.display.HTML object>"
      ]
     },
     "metadata": {},
     "output_type": "display_data"
    },
    {
     "data": {
      "text/html": [
       "<span style=\"color:cyan\"> |-Trial ID: b17fe9e8a18b81c73d1eb743e26d3951</span>"
      ],
      "text/plain": [
       "<IPython.core.display.HTML object>"
      ]
     },
     "metadata": {},
     "output_type": "display_data"
    },
    {
     "data": {
      "text/html": [
       "<span style=\"color:cyan\"> |-Score: 0.8981943130493164</span>"
      ],
      "text/plain": [
       "<IPython.core.display.HTML object>"
      ]
     },
     "metadata": {},
     "output_type": "display_data"
    },
    {
     "data": {
      "text/html": [
       "<span style=\"color:cyan\"> |-Best step: 0</span>"
      ],
      "text/plain": [
       "<IPython.core.display.HTML object>"
      ]
     },
     "metadata": {},
     "output_type": "display_data"
    },
    {
     "data": {
      "text/html": [
       "<span style=\"color:#7E57C2\"><h2 style=\"font-size:16px\">Hyperparameters:</h2></span>"
      ],
      "text/plain": [
       "<IPython.core.display.HTML object>"
      ]
     },
     "metadata": {},
     "output_type": "display_data"
    },
    {
     "data": {
      "text/html": [
       "<span style=\"color:cyan\"> |-conv_1: 32</span>"
      ],
      "text/plain": [
       "<IPython.core.display.HTML object>"
      ]
     },
     "metadata": {},
     "output_type": "display_data"
    },
    {
     "data": {
      "text/html": [
       "<span style=\"color:blue\"> |-conv_2: 64</span>"
      ],
      "text/plain": [
       "<IPython.core.display.HTML object>"
      ]
     },
     "metadata": {},
     "output_type": "display_data"
    },
    {
     "data": {
      "text/html": [
       "<span style=\"color:cyan\"> |-conv_3: 64</span>"
      ],
      "text/plain": [
       "<IPython.core.display.HTML object>"
      ]
     },
     "metadata": {},
     "output_type": "display_data"
    },
    {
     "data": {
      "text/html": [
       "<span style=\"color:blue\"> |-dropout_1: 0.1</span>"
      ],
      "text/plain": [
       "<IPython.core.display.HTML object>"
      ]
     },
     "metadata": {},
     "output_type": "display_data"
    },
    {
     "data": {
      "text/html": [
       "<span style=\"color:cyan\"> |-dropout_2: 0.2</span>"
      ],
      "text/plain": [
       "<IPython.core.display.HTML object>"
      ]
     },
     "metadata": {},
     "output_type": "display_data"
    },
    {
     "data": {
      "text/html": [
       "<span style=\"color:blue\"> |-dropout_3: 0.4</span>"
      ],
      "text/plain": [
       "<IPython.core.display.HTML object>"
      ]
     },
     "metadata": {},
     "output_type": "display_data"
    },
    {
     "data": {
      "text/html": [
       "<span style=\"color:cyan\"> |-dropout_4: 0.5</span>"
      ],
      "text/plain": [
       "<IPython.core.display.HTML object>"
      ]
     },
     "metadata": {},
     "output_type": "display_data"
    },
    {
     "data": {
      "text/html": [
       "<span style=\"color:blue\"> |-units: 384</span>"
      ],
      "text/plain": [
       "<IPython.core.display.HTML object>"
      ]
     },
     "metadata": {},
     "output_type": "display_data"
    },
    {
     "name": "stdout",
     "output_type": "stream",
     "text": [
      "WARNING:tensorflow:sample_weight modes were coerced from\n",
      "  ...\n",
      "    to  \n",
      "  ['...']\n",
      "WARNING:tensorflow:sample_weight modes were coerced from\n",
      "  ...\n",
      "    to  \n",
      "  ['...']\n",
      "Train for 400 steps, validate for 171 steps\n",
      "Epoch 1/50\n",
      "400/400 - 23s - loss: 1.1148 - accuracy: 0.7375 - val_loss: 0.5188 - val_accuracy: 0.7914\n",
      "Epoch 2/50\n",
      "400/400 - 21s - loss: 0.4438 - accuracy: 0.7895 - val_loss: 0.4830 - val_accuracy: 0.8108\n",
      "Epoch 3/50\n",
      "400/400 - 21s - loss: 0.4218 - accuracy: 0.7991 - val_loss: 0.4595 - val_accuracy: 0.8019\n",
      "Epoch 4/50\n",
      "400/400 - 22s - loss: 0.4034 - accuracy: 0.8085 - val_loss: 0.4250 - val_accuracy: 0.8171\n",
      "Epoch 5/50\n",
      "400/400 - 21s - loss: 0.3876 - accuracy: 0.8173 - val_loss: 0.3930 - val_accuracy: 0.8260\n",
      "Epoch 6/50\n",
      "400/400 - 21s - loss: 0.3685 - accuracy: 0.8292 - val_loss: 0.3650 - val_accuracy: 0.8451\n",
      "Epoch 7/50\n",
      "400/400 - 22s - loss: 0.3496 - accuracy: 0.8397 - val_loss: 0.3538 - val_accuracy: 0.8476\n",
      "Epoch 8/50\n",
      "400/400 - 22s - loss: 0.3351 - accuracy: 0.8455 - val_loss: 0.3546 - val_accuracy: 0.8486\n",
      "Epoch 9/50\n",
      "400/400 - 21s - loss: 0.3107 - accuracy: 0.8595 - val_loss: 0.3404 - val_accuracy: 0.8555\n",
      "Epoch 10/50\n",
      "400/400 - 21s - loss: 0.3036 - accuracy: 0.8638 - val_loss: 0.3183 - val_accuracy: 0.8665\n",
      "Epoch 11/50\n",
      "400/400 - 21s - loss: 0.2864 - accuracy: 0.8721 - val_loss: 0.3237 - val_accuracy: 0.8601\n",
      "Epoch 12/50\n",
      "400/400 - 21s - loss: 0.2697 - accuracy: 0.8808 - val_loss: 0.3850 - val_accuracy: 0.8397\n",
      "Epoch 13/50\n",
      "400/400 - 21s - loss: 0.2609 - accuracy: 0.8833 - val_loss: 0.3954 - val_accuracy: 0.8429\n",
      "Epoch 14/50\n",
      "400/400 - 21s - loss: 0.2469 - accuracy: 0.8923 - val_loss: 0.4812 - val_accuracy: 0.8168\n",
      "Epoch 15/50\n",
      "400/400 - 21s - loss: 0.2356 - accuracy: 0.8991 - val_loss: 0.5003 - val_accuracy: 0.8098\n"
     ]
    },
    {
     "data": {
      "text/html": [
       "<span style=\"color:#4527A0\"><h1 style=\"font-size:18px\">Trial complete</h1></span>"
      ],
      "text/plain": [
       "<IPython.core.display.HTML object>"
      ]
     },
     "metadata": {},
     "output_type": "display_data"
    },
    {
     "data": {
      "text/html": [
       "<span style=\"color:#4527A0\"><h1 style=\"font-size:18px\">Trial summary</h1></span>"
      ],
      "text/plain": [
       "<IPython.core.display.HTML object>"
      ]
     },
     "metadata": {},
     "output_type": "display_data"
    },
    {
     "data": {
      "text/html": [
       "<span style=\"color:cyan\"> |-Trial ID: d1b9e6cb04d2a76bd9b0540c5fd7db94</span>"
      ],
      "text/plain": [
       "<IPython.core.display.HTML object>"
      ]
     },
     "metadata": {},
     "output_type": "display_data"
    },
    {
     "data": {
      "text/html": [
       "<span style=\"color:cyan\"> |-Score: 0.8664685487747192</span>"
      ],
      "text/plain": [
       "<IPython.core.display.HTML object>"
      ]
     },
     "metadata": {},
     "output_type": "display_data"
    },
    {
     "data": {
      "text/html": [
       "<span style=\"color:cyan\"> |-Best step: 0</span>"
      ],
      "text/plain": [
       "<IPython.core.display.HTML object>"
      ]
     },
     "metadata": {},
     "output_type": "display_data"
    },
    {
     "data": {
      "text/html": [
       "<span style=\"color:#7E57C2\"><h2 style=\"font-size:16px\">Hyperparameters:</h2></span>"
      ],
      "text/plain": [
       "<IPython.core.display.HTML object>"
      ]
     },
     "metadata": {},
     "output_type": "display_data"
    },
    {
     "data": {
      "text/html": [
       "<span style=\"color:cyan\"> |-conv_1: 16</span>"
      ],
      "text/plain": [
       "<IPython.core.display.HTML object>"
      ]
     },
     "metadata": {},
     "output_type": "display_data"
    },
    {
     "data": {
      "text/html": [
       "<span style=\"color:blue\"> |-conv_2: 32</span>"
      ],
      "text/plain": [
       "<IPython.core.display.HTML object>"
      ]
     },
     "metadata": {},
     "output_type": "display_data"
    },
    {
     "data": {
      "text/html": [
       "<span style=\"color:cyan\"> |-conv_3: 128</span>"
      ],
      "text/plain": [
       "<IPython.core.display.HTML object>"
      ]
     },
     "metadata": {},
     "output_type": "display_data"
    },
    {
     "data": {
      "text/html": [
       "<span style=\"color:blue\"> |-dropout_1: 0.1</span>"
      ],
      "text/plain": [
       "<IPython.core.display.HTML object>"
      ]
     },
     "metadata": {},
     "output_type": "display_data"
    },
    {
     "data": {
      "text/html": [
       "<span style=\"color:cyan\"> |-dropout_2: 0.0</span>"
      ],
      "text/plain": [
       "<IPython.core.display.HTML object>"
      ]
     },
     "metadata": {},
     "output_type": "display_data"
    },
    {
     "data": {
      "text/html": [
       "<span style=\"color:blue\"> |-dropout_3: 0.0</span>"
      ],
      "text/plain": [
       "<IPython.core.display.HTML object>"
      ]
     },
     "metadata": {},
     "output_type": "display_data"
    },
    {
     "data": {
      "text/html": [
       "<span style=\"color:cyan\"> |-dropout_4: 0.1</span>"
      ],
      "text/plain": [
       "<IPython.core.display.HTML object>"
      ]
     },
     "metadata": {},
     "output_type": "display_data"
    },
    {
     "data": {
      "text/html": [
       "<span style=\"color:blue\"> |-units: 640</span>"
      ],
      "text/plain": [
       "<IPython.core.display.HTML object>"
      ]
     },
     "metadata": {},
     "output_type": "display_data"
    },
    {
     "name": "stdout",
     "output_type": "stream",
     "text": [
      "WARNING:tensorflow:sample_weight modes were coerced from\n",
      "  ...\n",
      "    to  \n",
      "  ['...']\n",
      "WARNING:tensorflow:sample_weight modes were coerced from\n",
      "  ...\n",
      "    to  \n",
      "  ['...']\n",
      "Train for 400 steps, validate for 171 steps\n",
      "Epoch 1/50\n",
      "400/400 - 23s - loss: 0.7279 - accuracy: 0.7520 - val_loss: 0.4492 - val_accuracy: 0.7838\n",
      "Epoch 2/50\n",
      "400/400 - 23s - loss: 0.4415 - accuracy: 0.7882 - val_loss: 0.4157 - val_accuracy: 0.7989\n",
      "Epoch 3/50\n",
      "400/400 - 23s - loss: 0.3958 - accuracy: 0.8158 - val_loss: 0.3631 - val_accuracy: 0.8340\n",
      "Epoch 4/50\n",
      "400/400 - 23s - loss: 0.3625 - accuracy: 0.8361 - val_loss: 0.3423 - val_accuracy: 0.8369\n",
      "Epoch 5/50\n",
      "400/400 - 22s - loss: 0.3404 - accuracy: 0.8475 - val_loss: 0.3340 - val_accuracy: 0.8450\n",
      "Epoch 6/50\n",
      "400/400 - 22s - loss: 0.3216 - accuracy: 0.8567 - val_loss: 0.3063 - val_accuracy: 0.8712\n",
      "Epoch 7/50\n",
      "400/400 - 22s - loss: 0.3066 - accuracy: 0.8650 - val_loss: 0.3333 - val_accuracy: 0.8287\n",
      "Epoch 8/50\n",
      "400/400 - 22s - loss: 0.2906 - accuracy: 0.8730 - val_loss: 0.2919 - val_accuracy: 0.8728\n",
      "Epoch 9/50\n",
      "400/400 - 22s - loss: 0.2818 - accuracy: 0.8769 - val_loss: 0.2814 - val_accuracy: 0.8789\n",
      "Epoch 10/50\n",
      "400/400 - 22s - loss: 0.2706 - accuracy: 0.8826 - val_loss: 0.2801 - val_accuracy: 0.8864\n",
      "Epoch 11/50\n",
      "400/400 - 23s - loss: 0.2621 - accuracy: 0.8858 - val_loss: 0.3046 - val_accuracy: 0.8853\n",
      "Epoch 12/50\n",
      "400/400 - 23s - loss: 0.2565 - accuracy: 0.8902 - val_loss: 0.2722 - val_accuracy: 0.8943\n",
      "Epoch 13/50\n",
      "400/400 - 22s - loss: 0.2509 - accuracy: 0.8915 - val_loss: 0.2879 - val_accuracy: 0.8862\n",
      "Epoch 14/50\n",
      "400/400 - 22s - loss: 0.2301 - accuracy: 0.9002 - val_loss: 0.2718 - val_accuracy: 0.8917\n",
      "Epoch 15/50\n",
      "400/400 - 22s - loss: 0.2245 - accuracy: 0.9049 - val_loss: 0.3232 - val_accuracy: 0.8853\n",
      "Epoch 16/50\n",
      "400/400 - 22s - loss: 0.2214 - accuracy: 0.9057 - val_loss: 0.3395 - val_accuracy: 0.8831\n",
      "Epoch 17/50\n",
      "400/400 - 23s - loss: 0.2141 - accuracy: 0.9064 - val_loss: 0.3305 - val_accuracy: 0.8836\n"
     ]
    },
    {
     "data": {
      "text/html": [
       "<span style=\"color:#4527A0\"><h1 style=\"font-size:18px\">Trial complete</h1></span>"
      ],
      "text/plain": [
       "<IPython.core.display.HTML object>"
      ]
     },
     "metadata": {},
     "output_type": "display_data"
    },
    {
     "data": {
      "text/html": [
       "<span style=\"color:#4527A0\"><h1 style=\"font-size:18px\">Trial summary</h1></span>"
      ],
      "text/plain": [
       "<IPython.core.display.HTML object>"
      ]
     },
     "metadata": {},
     "output_type": "display_data"
    },
    {
     "data": {
      "text/html": [
       "<span style=\"color:cyan\"> |-Trial ID: bd0fe9b475f51507aa187c21d0e72115</span>"
      ],
      "text/plain": [
       "<IPython.core.display.HTML object>"
      ]
     },
     "metadata": {},
     "output_type": "display_data"
    },
    {
     "data": {
      "text/html": [
       "<span style=\"color:cyan\"> |-Score: 0.8943085670471191</span>"
      ],
      "text/plain": [
       "<IPython.core.display.HTML object>"
      ]
     },
     "metadata": {},
     "output_type": "display_data"
    },
    {
     "data": {
      "text/html": [
       "<span style=\"color:cyan\"> |-Best step: 0</span>"
      ],
      "text/plain": [
       "<IPython.core.display.HTML object>"
      ]
     },
     "metadata": {},
     "output_type": "display_data"
    },
    {
     "data": {
      "text/html": [
       "<span style=\"color:#7E57C2\"><h2 style=\"font-size:16px\">Hyperparameters:</h2></span>"
      ],
      "text/plain": [
       "<IPython.core.display.HTML object>"
      ]
     },
     "metadata": {},
     "output_type": "display_data"
    },
    {
     "data": {
      "text/html": [
       "<span style=\"color:cyan\"> |-conv_1: 32</span>"
      ],
      "text/plain": [
       "<IPython.core.display.HTML object>"
      ]
     },
     "metadata": {},
     "output_type": "display_data"
    },
    {
     "data": {
      "text/html": [
       "<span style=\"color:blue\"> |-conv_2: 32</span>"
      ],
      "text/plain": [
       "<IPython.core.display.HTML object>"
      ]
     },
     "metadata": {},
     "output_type": "display_data"
    },
    {
     "data": {
      "text/html": [
       "<span style=\"color:cyan\"> |-conv_3: 128</span>"
      ],
      "text/plain": [
       "<IPython.core.display.HTML object>"
      ]
     },
     "metadata": {},
     "output_type": "display_data"
    },
    {
     "data": {
      "text/html": [
       "<span style=\"color:blue\"> |-dropout_1: 0.0</span>"
      ],
      "text/plain": [
       "<IPython.core.display.HTML object>"
      ]
     },
     "metadata": {},
     "output_type": "display_data"
    },
    {
     "data": {
      "text/html": [
       "<span style=\"color:cyan\"> |-dropout_2: 0.1</span>"
      ],
      "text/plain": [
       "<IPython.core.display.HTML object>"
      ]
     },
     "metadata": {},
     "output_type": "display_data"
    },
    {
     "data": {
      "text/html": [
       "<span style=\"color:blue\"> |-dropout_3: 0.30000000000000004</span>"
      ],
      "text/plain": [
       "<IPython.core.display.HTML object>"
      ]
     },
     "metadata": {},
     "output_type": "display_data"
    },
    {
     "data": {
      "text/html": [
       "<span style=\"color:cyan\"> |-dropout_4: 0.2</span>"
      ],
      "text/plain": [
       "<IPython.core.display.HTML object>"
      ]
     },
     "metadata": {},
     "output_type": "display_data"
    },
    {
     "data": {
      "text/html": [
       "<span style=\"color:blue\"> |-units: 256</span>"
      ],
      "text/plain": [
       "<IPython.core.display.HTML object>"
      ]
     },
     "metadata": {},
     "output_type": "display_data"
    },
    {
     "name": "stdout",
     "output_type": "stream",
     "text": [
      "WARNING:tensorflow:sample_weight modes were coerced from\n",
      "  ...\n",
      "    to  \n",
      "  ['...']\n",
      "WARNING:tensorflow:sample_weight modes were coerced from\n",
      "  ...\n",
      "    to  \n",
      "  ['...']\n",
      "Train for 400 steps, validate for 171 steps\n",
      "Epoch 1/50\n",
      "400/400 - 24s - loss: 1.1694 - accuracy: 0.7123 - val_loss: 0.4908 - val_accuracy: 0.7771\n",
      "Epoch 2/50\n",
      "400/400 - 22s - loss: 0.4647 - accuracy: 0.7771 - val_loss: 0.4631 - val_accuracy: 0.7872\n",
      "Epoch 3/50\n",
      "400/400 - 22s - loss: 0.4515 - accuracy: 0.7853 - val_loss: 0.4495 - val_accuracy: 0.8042\n",
      "Epoch 4/50\n",
      "400/400 - 268s - loss: 0.4369 - accuracy: 0.7933 - val_loss: 0.4365 - val_accuracy: 0.8001\n",
      "Epoch 5/50\n",
      "400/400 - 22s - loss: 0.4264 - accuracy: 0.7995 - val_loss: 0.4125 - val_accuracy: 0.8173\n",
      "Epoch 6/50\n",
      "400/400 - 22s - loss: 0.4183 - accuracy: 0.8015 - val_loss: 0.4158 - val_accuracy: 0.8122\n",
      "Epoch 7/50\n",
      "400/400 - 22s - loss: 0.3991 - accuracy: 0.8136 - val_loss: 0.3890 - val_accuracy: 0.8281\n",
      "Epoch 8/50\n",
      "400/400 - 22s - loss: 0.3837 - accuracy: 0.8235 - val_loss: 0.3415 - val_accuracy: 0.8483\n",
      "Epoch 9/50\n",
      "400/400 - 22s - loss: 0.3697 - accuracy: 0.8294 - val_loss: 0.3434 - val_accuracy: 0.8566\n",
      "Epoch 10/50\n",
      "400/400 - 22s - loss: 0.3534 - accuracy: 0.8388 - val_loss: 0.3212 - val_accuracy: 0.8568\n",
      "Epoch 11/50\n",
      "400/400 - 22s - loss: 0.3466 - accuracy: 0.8418 - val_loss: 0.3052 - val_accuracy: 0.8741\n",
      "Epoch 12/50\n",
      "400/400 - 22s - loss: 0.3325 - accuracy: 0.8495 - val_loss: 0.2934 - val_accuracy: 0.8823\n",
      "Epoch 13/50\n",
      "400/400 - 22s - loss: 0.3200 - accuracy: 0.8574 - val_loss: 0.2727 - val_accuracy: 0.8812\n",
      "Epoch 14/50\n",
      "400/400 - 22s - loss: 0.3075 - accuracy: 0.8646 - val_loss: 0.2788 - val_accuracy: 0.8799\n",
      "Epoch 15/50\n",
      "400/400 - 22s - loss: 0.3085 - accuracy: 0.8653 - val_loss: 0.2641 - val_accuracy: 0.8940\n",
      "Epoch 16/50\n",
      "400/400 - 22s - loss: 0.2954 - accuracy: 0.8714 - val_loss: 0.2554 - val_accuracy: 0.8970\n",
      "Epoch 17/50\n",
      "400/400 - 22s - loss: 0.2866 - accuracy: 0.8750 - val_loss: 0.2587 - val_accuracy: 0.8986\n",
      "Epoch 18/50\n",
      "400/400 - 22s - loss: 0.2802 - accuracy: 0.8798 - val_loss: 0.2452 - val_accuracy: 0.8968\n",
      "Epoch 19/50\n",
      "400/400 - 22s - loss: 0.2758 - accuracy: 0.8807 - val_loss: 0.2601 - val_accuracy: 0.8917\n",
      "Epoch 20/50\n",
      "400/400 - 22s - loss: 0.2703 - accuracy: 0.8834 - val_loss: 0.2374 - val_accuracy: 0.9031\n",
      "Epoch 21/50\n",
      "400/400 - 22s - loss: 0.2662 - accuracy: 0.8858 - val_loss: 0.2482 - val_accuracy: 0.9069\n",
      "Epoch 22/50\n",
      "400/400 - 22s - loss: 0.2603 - accuracy: 0.8886 - val_loss: 0.2492 - val_accuracy: 0.9066\n",
      "Epoch 23/50\n",
      "400/400 - 22s - loss: 0.2620 - accuracy: 0.8871 - val_loss: 0.2441 - val_accuracy: 0.8933\n",
      "Epoch 24/50\n",
      "400/400 - 22s - loss: 0.2548 - accuracy: 0.8931 - val_loss: 0.2476 - val_accuracy: 0.9045\n",
      "Epoch 25/50\n",
      "400/400 - 22s - loss: 0.2565 - accuracy: 0.8894 - val_loss: 0.2403 - val_accuracy: 0.9009\n",
      "Epoch 26/50\n",
      "400/400 - 22s - loss: 0.2522 - accuracy: 0.8924 - val_loss: 0.2395 - val_accuracy: 0.8941\n"
     ]
    },
    {
     "data": {
      "text/html": [
       "<span style=\"color:#4527A0\"><h1 style=\"font-size:18px\">Trial complete</h1></span>"
      ],
      "text/plain": [
       "<IPython.core.display.HTML object>"
      ]
     },
     "metadata": {},
     "output_type": "display_data"
    },
    {
     "data": {
      "text/html": [
       "<span style=\"color:#4527A0\"><h1 style=\"font-size:18px\">Trial summary</h1></span>"
      ],
      "text/plain": [
       "<IPython.core.display.HTML object>"
      ]
     },
     "metadata": {},
     "output_type": "display_data"
    },
    {
     "data": {
      "text/html": [
       "<span style=\"color:cyan\"> |-Trial ID: 7b29f78fa49c727f9455f99fbc4ed0d0</span>"
      ],
      "text/plain": [
       "<IPython.core.display.HTML object>"
      ]
     },
     "metadata": {},
     "output_type": "display_data"
    },
    {
     "data": {
      "text/html": [
       "<span style=\"color:cyan\"> |-Score: 0.9068800210952759</span>"
      ],
      "text/plain": [
       "<IPython.core.display.HTML object>"
      ]
     },
     "metadata": {},
     "output_type": "display_data"
    },
    {
     "data": {
      "text/html": [
       "<span style=\"color:cyan\"> |-Best step: 0</span>"
      ],
      "text/plain": [
       "<IPython.core.display.HTML object>"
      ]
     },
     "metadata": {},
     "output_type": "display_data"
    },
    {
     "data": {
      "text/html": [
       "<span style=\"color:#7E57C2\"><h2 style=\"font-size:16px\">Hyperparameters:</h2></span>"
      ],
      "text/plain": [
       "<IPython.core.display.HTML object>"
      ]
     },
     "metadata": {},
     "output_type": "display_data"
    },
    {
     "data": {
      "text/html": [
       "<span style=\"color:cyan\"> |-conv_1: 32</span>"
      ],
      "text/plain": [
       "<IPython.core.display.HTML object>"
      ]
     },
     "metadata": {},
     "output_type": "display_data"
    },
    {
     "data": {
      "text/html": [
       "<span style=\"color:blue\"> |-conv_2: 32</span>"
      ],
      "text/plain": [
       "<IPython.core.display.HTML object>"
      ]
     },
     "metadata": {},
     "output_type": "display_data"
    },
    {
     "data": {
      "text/html": [
       "<span style=\"color:cyan\"> |-conv_3: 64</span>"
      ],
      "text/plain": [
       "<IPython.core.display.HTML object>"
      ]
     },
     "metadata": {},
     "output_type": "display_data"
    },
    {
     "data": {
      "text/html": [
       "<span style=\"color:blue\"> |-dropout_1: 0.2</span>"
      ],
      "text/plain": [
       "<IPython.core.display.HTML object>"
      ]
     },
     "metadata": {},
     "output_type": "display_data"
    },
    {
     "data": {
      "text/html": [
       "<span style=\"color:cyan\"> |-dropout_2: 0.2</span>"
      ],
      "text/plain": [
       "<IPython.core.display.HTML object>"
      ]
     },
     "metadata": {},
     "output_type": "display_data"
    },
    {
     "data": {
      "text/html": [
       "<span style=\"color:blue\"> |-dropout_3: 0.5</span>"
      ],
      "text/plain": [
       "<IPython.core.display.HTML object>"
      ]
     },
     "metadata": {},
     "output_type": "display_data"
    },
    {
     "data": {
      "text/html": [
       "<span style=\"color:cyan\"> |-dropout_4: 0.30000000000000004</span>"
      ],
      "text/plain": [
       "<IPython.core.display.HTML object>"
      ]
     },
     "metadata": {},
     "output_type": "display_data"
    },
    {
     "data": {
      "text/html": [
       "<span style=\"color:blue\"> |-units: 512</span>"
      ],
      "text/plain": [
       "<IPython.core.display.HTML object>"
      ]
     },
     "metadata": {},
     "output_type": "display_data"
    },
    {
     "name": "stdout",
     "output_type": "stream",
     "text": [
      "WARNING:tensorflow:sample_weight modes were coerced from\n",
      "  ...\n",
      "    to  \n",
      "  ['...']\n",
      "WARNING:tensorflow:sample_weight modes were coerced from\n",
      "  ...\n",
      "    to  \n",
      "  ['...']\n",
      "Train for 400 steps, validate for 171 steps\n",
      "Epoch 1/50\n",
      "400/400 - 22s - loss: 1.1204 - accuracy: 0.6282 - val_loss: 0.5078 - val_accuracy: 0.7508\n",
      "Epoch 2/50\n",
      "400/400 - 22s - loss: 0.4810 - accuracy: 0.7612 - val_loss: 0.4947 - val_accuracy: 0.7885\n",
      "Epoch 3/50\n",
      "400/400 - 22s - loss: 0.4674 - accuracy: 0.7713 - val_loss: 0.4628 - val_accuracy: 0.7920\n",
      "Epoch 4/50\n",
      "400/400 - 21s - loss: 0.4604 - accuracy: 0.7754 - val_loss: 0.4504 - val_accuracy: 0.7866\n",
      "Epoch 5/50\n",
      "400/400 - 22s - loss: 0.4477 - accuracy: 0.7840 - val_loss: 0.4349 - val_accuracy: 0.7963\n",
      "Epoch 6/50\n",
      "400/400 - 22s - loss: 0.4355 - accuracy: 0.7905 - val_loss: 0.4386 - val_accuracy: 0.8059\n",
      "Epoch 7/50\n",
      "400/400 - 22s - loss: 0.4254 - accuracy: 0.7965 - val_loss: 0.4517 - val_accuracy: 0.8080\n",
      "Epoch 8/50\n",
      "400/400 - 22s - loss: 0.4163 - accuracy: 0.8024 - val_loss: 0.4286 - val_accuracy: 0.8154\n",
      "Epoch 9/50\n",
      "400/400 - 21s - loss: 0.4102 - accuracy: 0.8053 - val_loss: 0.4316 - val_accuracy: 0.8090\n",
      "Epoch 10/50\n",
      "400/400 - 22s - loss: 0.3993 - accuracy: 0.8123 - val_loss: 0.4120 - val_accuracy: 0.8225\n",
      "Epoch 11/50\n",
      "400/400 - 22s - loss: 0.3872 - accuracy: 0.8196 - val_loss: 0.3935 - val_accuracy: 0.8261\n",
      "Epoch 12/50\n",
      "400/400 - 21s - loss: 0.3795 - accuracy: 0.8242 - val_loss: 0.4076 - val_accuracy: 0.8254\n",
      "Epoch 13/50\n",
      "400/400 - 21s - loss: 0.3672 - accuracy: 0.8305 - val_loss: 0.3733 - val_accuracy: 0.8365\n",
      "Epoch 14/50\n",
      "400/400 - 22s - loss: 0.3504 - accuracy: 0.8410 - val_loss: 0.3354 - val_accuracy: 0.8433\n",
      "Epoch 15/50\n",
      "400/400 - 21s - loss: 0.3479 - accuracy: 0.8433 - val_loss: 0.3496 - val_accuracy: 0.8358\n",
      "Epoch 16/50\n",
      "400/400 - 22s - loss: 0.3310 - accuracy: 0.8524 - val_loss: 0.3296 - val_accuracy: 0.8561\n",
      "Epoch 17/50\n",
      "400/400 - 22s - loss: 0.3261 - accuracy: 0.8569 - val_loss: 0.3201 - val_accuracy: 0.8624\n",
      "Epoch 18/50\n",
      "400/400 - 21s - loss: 0.3160 - accuracy: 0.8589 - val_loss: 0.3356 - val_accuracy: 0.8291\n",
      "Epoch 19/50\n",
      "400/400 - 21s - loss: 0.3048 - accuracy: 0.8657 - val_loss: 0.3272 - val_accuracy: 0.8440\n",
      "Epoch 20/50\n",
      "400/400 - 21s - loss: 0.3004 - accuracy: 0.8685 - val_loss: 0.3110 - val_accuracy: 0.8624\n",
      "Epoch 21/50\n",
      "400/400 - 21s - loss: 0.2921 - accuracy: 0.8721 - val_loss: 0.3076 - val_accuracy: 0.8620\n",
      "Epoch 22/50\n",
      "400/400 - 21s - loss: 0.2875 - accuracy: 0.8746 - val_loss: 0.3239 - val_accuracy: 0.8655\n",
      "Epoch 23/50\n",
      "400/400 - 22s - loss: 0.2775 - accuracy: 0.8804 - val_loss: 0.3070 - val_accuracy: 0.8685\n",
      "Epoch 24/50\n",
      "400/400 - 21s - loss: 0.2717 - accuracy: 0.8841 - val_loss: 0.3202 - val_accuracy: 0.8488\n",
      "Epoch 25/50\n",
      "400/400 - 21s - loss: 0.2697 - accuracy: 0.8826 - val_loss: 0.3271 - val_accuracy: 0.8437\n",
      "Epoch 26/50\n",
      "400/400 - 21s - loss: 0.2542 - accuracy: 0.8929 - val_loss: 0.3447 - val_accuracy: 0.8296\n",
      "Epoch 27/50\n",
      "400/400 - 21s - loss: 0.2526 - accuracy: 0.8932 - val_loss: 0.3432 - val_accuracy: 0.8434\n",
      "Epoch 28/50\n",
      "400/400 - 22s - loss: 0.2442 - accuracy: 0.8962 - val_loss: 0.3733 - val_accuracy: 0.8129\n"
     ]
    },
    {
     "data": {
      "text/html": [
       "<span style=\"color:#4527A0\"><h1 style=\"font-size:18px\">Trial complete</h1></span>"
      ],
      "text/plain": [
       "<IPython.core.display.HTML object>"
      ]
     },
     "metadata": {},
     "output_type": "display_data"
    },
    {
     "data": {
      "text/html": [
       "<span style=\"color:#4527A0\"><h1 style=\"font-size:18px\">Trial summary</h1></span>"
      ],
      "text/plain": [
       "<IPython.core.display.HTML object>"
      ]
     },
     "metadata": {},
     "output_type": "display_data"
    },
    {
     "data": {
      "text/html": [
       "<span style=\"color:cyan\"> |-Trial ID: 3beb408d058db946fb9071ff68dfa982</span>"
      ],
      "text/plain": [
       "<IPython.core.display.HTML object>"
      ]
     },
     "metadata": {},
     "output_type": "display_data"
    },
    {
     "data": {
      "text/html": [
       "<span style=\"color:cyan\"> |-Score: 0.8685124516487122</span>"
      ],
      "text/plain": [
       "<IPython.core.display.HTML object>"
      ]
     },
     "metadata": {},
     "output_type": "display_data"
    },
    {
     "data": {
      "text/html": [
       "<span style=\"color:cyan\"> |-Best step: 0</span>"
      ],
      "text/plain": [
       "<IPython.core.display.HTML object>"
      ]
     },
     "metadata": {},
     "output_type": "display_data"
    },
    {
     "data": {
      "text/html": [
       "<span style=\"color:#7E57C2\"><h2 style=\"font-size:16px\">Hyperparameters:</h2></span>"
      ],
      "text/plain": [
       "<IPython.core.display.HTML object>"
      ]
     },
     "metadata": {},
     "output_type": "display_data"
    },
    {
     "data": {
      "text/html": [
       "<span style=\"color:cyan\"> |-conv_1: 16</span>"
      ],
      "text/plain": [
       "<IPython.core.display.HTML object>"
      ]
     },
     "metadata": {},
     "output_type": "display_data"
    },
    {
     "data": {
      "text/html": [
       "<span style=\"color:blue\"> |-conv_2: 64</span>"
      ],
      "text/plain": [
       "<IPython.core.display.HTML object>"
      ]
     },
     "metadata": {},
     "output_type": "display_data"
    },
    {
     "data": {
      "text/html": [
       "<span style=\"color:cyan\"> |-conv_3: 128</span>"
      ],
      "text/plain": [
       "<IPython.core.display.HTML object>"
      ]
     },
     "metadata": {},
     "output_type": "display_data"
    },
    {
     "data": {
      "text/html": [
       "<span style=\"color:blue\"> |-dropout_1: 0.4</span>"
      ],
      "text/plain": [
       "<IPython.core.display.HTML object>"
      ]
     },
     "metadata": {},
     "output_type": "display_data"
    },
    {
     "data": {
      "text/html": [
       "<span style=\"color:cyan\"> |-dropout_2: 0.2</span>"
      ],
      "text/plain": [
       "<IPython.core.display.HTML object>"
      ]
     },
     "metadata": {},
     "output_type": "display_data"
    },
    {
     "data": {
      "text/html": [
       "<span style=\"color:blue\"> |-dropout_3: 0.30000000000000004</span>"
      ],
      "text/plain": [
       "<IPython.core.display.HTML object>"
      ]
     },
     "metadata": {},
     "output_type": "display_data"
    },
    {
     "data": {
      "text/html": [
       "<span style=\"color:cyan\"> |-dropout_4: 0.2</span>"
      ],
      "text/plain": [
       "<IPython.core.display.HTML object>"
      ]
     },
     "metadata": {},
     "output_type": "display_data"
    },
    {
     "data": {
      "text/html": [
       "<span style=\"color:blue\"> |-units: 384</span>"
      ],
      "text/plain": [
       "<IPython.core.display.HTML object>"
      ]
     },
     "metadata": {},
     "output_type": "display_data"
    },
    {
     "name": "stdout",
     "output_type": "stream",
     "text": [
      "WARNING:tensorflow:sample_weight modes were coerced from\n",
      "  ...\n",
      "    to  \n",
      "  ['...']\n",
      "WARNING:tensorflow:sample_weight modes were coerced from\n",
      "  ...\n",
      "    to  \n",
      "  ['...']\n",
      "Train for 400 steps, validate for 171 steps\n",
      "Epoch 1/50\n",
      "400/400 - 24s - loss: 1.8129 - accuracy: 0.6968 - val_loss: 0.5410 - val_accuracy: 0.7731\n",
      "Epoch 2/50\n",
      "400/400 - 23s - loss: 0.4644 - accuracy: 0.7726 - val_loss: 0.5226 - val_accuracy: 0.7850\n",
      "Epoch 3/50\n",
      "400/400 - 23s - loss: 0.4516 - accuracy: 0.7823 - val_loss: 0.4944 - val_accuracy: 0.7995\n",
      "Epoch 4/50\n",
      "400/400 - 23s - loss: 0.4406 - accuracy: 0.7911 - val_loss: 0.4831 - val_accuracy: 0.8142\n",
      "Epoch 5/50\n",
      "400/400 - 23s - loss: 0.4318 - accuracy: 0.7958 - val_loss: 0.4626 - val_accuracy: 0.8182\n",
      "Epoch 6/50\n",
      "400/400 - 22s - loss: 0.4233 - accuracy: 0.8000 - val_loss: 0.4591 - val_accuracy: 0.8282\n",
      "Epoch 7/50\n",
      "400/400 - 22s - loss: 0.4124 - accuracy: 0.8072 - val_loss: 0.4236 - val_accuracy: 0.8400\n",
      "Epoch 8/50\n",
      "400/400 - 22s - loss: 0.3966 - accuracy: 0.8140 - val_loss: 0.4247 - val_accuracy: 0.8338\n",
      "Epoch 9/50\n",
      "400/400 - 24s - loss: 0.3896 - accuracy: 0.8203 - val_loss: 0.3934 - val_accuracy: 0.8452\n",
      "Epoch 10/50\n",
      "400/400 - 24s - loss: 0.3821 - accuracy: 0.8211 - val_loss: 0.3803 - val_accuracy: 0.8464\n",
      "Epoch 11/50\n",
      "400/400 - 24s - loss: 0.3699 - accuracy: 0.8289 - val_loss: 0.3803 - val_accuracy: 0.8528\n",
      "Epoch 12/50\n",
      "400/400 - 24s - loss: 0.3619 - accuracy: 0.8338 - val_loss: 0.3487 - val_accuracy: 0.8571\n",
      "Epoch 13/50\n",
      "400/400 - 23s - loss: 0.3600 - accuracy: 0.8355 - val_loss: 0.3796 - val_accuracy: 0.8458\n",
      "Epoch 14/50\n",
      "400/400 - 23s - loss: 0.3506 - accuracy: 0.8402 - val_loss: 0.3347 - val_accuracy: 0.8553\n",
      "Epoch 15/50\n",
      "400/400 - 24s - loss: 0.3499 - accuracy: 0.8401 - val_loss: 0.3300 - val_accuracy: 0.8634\n",
      "Epoch 16/50\n",
      "400/400 - 23s - loss: 0.3375 - accuracy: 0.8476 - val_loss: 0.3126 - val_accuracy: 0.8631\n",
      "Epoch 17/50\n",
      "400/400 - 23s - loss: 0.3290 - accuracy: 0.8509 - val_loss: 0.3165 - val_accuracy: 0.8480\n",
      "Epoch 18/50\n",
      "400/400 - 23s - loss: 0.3266 - accuracy: 0.8549 - val_loss: 0.3128 - val_accuracy: 0.8577\n",
      "Epoch 19/50\n",
      "400/400 - 23s - loss: 0.3186 - accuracy: 0.8558 - val_loss: 0.3379 - val_accuracy: 0.8544\n",
      "Epoch 20/50\n",
      "400/400 - 23s - loss: 0.3162 - accuracy: 0.8595 - val_loss: 0.3198 - val_accuracy: 0.8628\n"
     ]
    },
    {
     "data": {
      "text/html": [
       "<span style=\"color:#4527A0\"><h1 style=\"font-size:18px\">Trial complete</h1></span>"
      ],
      "text/plain": [
       "<IPython.core.display.HTML object>"
      ]
     },
     "metadata": {},
     "output_type": "display_data"
    },
    {
     "data": {
      "text/html": [
       "<span style=\"color:#4527A0\"><h1 style=\"font-size:18px\">Trial summary</h1></span>"
      ],
      "text/plain": [
       "<IPython.core.display.HTML object>"
      ]
     },
     "metadata": {},
     "output_type": "display_data"
    },
    {
     "data": {
      "text/html": [
       "<span style=\"color:cyan\"> |-Trial ID: 26af1b7fabdfab978afc7370e2df7bf6</span>"
      ],
      "text/plain": [
       "<IPython.core.display.HTML object>"
      ]
     },
     "metadata": {},
     "output_type": "display_data"
    },
    {
     "data": {
      "text/html": [
       "<span style=\"color:cyan\"> |-Score: 0.863405704498291</span>"
      ],
      "text/plain": [
       "<IPython.core.display.HTML object>"
      ]
     },
     "metadata": {},
     "output_type": "display_data"
    },
    {
     "data": {
      "text/html": [
       "<span style=\"color:cyan\"> |-Best step: 0</span>"
      ],
      "text/plain": [
       "<IPython.core.display.HTML object>"
      ]
     },
     "metadata": {},
     "output_type": "display_data"
    },
    {
     "data": {
      "text/html": [
       "<span style=\"color:#7E57C2\"><h2 style=\"font-size:16px\">Hyperparameters:</h2></span>"
      ],
      "text/plain": [
       "<IPython.core.display.HTML object>"
      ]
     },
     "metadata": {},
     "output_type": "display_data"
    },
    {
     "data": {
      "text/html": [
       "<span style=\"color:cyan\"> |-conv_1: 16</span>"
      ],
      "text/plain": [
       "<IPython.core.display.HTML object>"
      ]
     },
     "metadata": {},
     "output_type": "display_data"
    },
    {
     "data": {
      "text/html": [
       "<span style=\"color:blue\"> |-conv_2: 64</span>"
      ],
      "text/plain": [
       "<IPython.core.display.HTML object>"
      ]
     },
     "metadata": {},
     "output_type": "display_data"
    },
    {
     "data": {
      "text/html": [
       "<span style=\"color:cyan\"> |-conv_3: 128</span>"
      ],
      "text/plain": [
       "<IPython.core.display.HTML object>"
      ]
     },
     "metadata": {},
     "output_type": "display_data"
    },
    {
     "data": {
      "text/html": [
       "<span style=\"color:blue\"> |-dropout_1: 0.30000000000000004</span>"
      ],
      "text/plain": [
       "<IPython.core.display.HTML object>"
      ]
     },
     "metadata": {},
     "output_type": "display_data"
    },
    {
     "data": {
      "text/html": [
       "<span style=\"color:cyan\"> |-dropout_2: 0.4</span>"
      ],
      "text/plain": [
       "<IPython.core.display.HTML object>"
      ]
     },
     "metadata": {},
     "output_type": "display_data"
    },
    {
     "data": {
      "text/html": [
       "<span style=\"color:blue\"> |-dropout_3: 0.30000000000000004</span>"
      ],
      "text/plain": [
       "<IPython.core.display.HTML object>"
      ]
     },
     "metadata": {},
     "output_type": "display_data"
    },
    {
     "data": {
      "text/html": [
       "<span style=\"color:cyan\"> |-dropout_4: 0.4</span>"
      ],
      "text/plain": [
       "<IPython.core.display.HTML object>"
      ]
     },
     "metadata": {},
     "output_type": "display_data"
    },
    {
     "data": {
      "text/html": [
       "<span style=\"color:blue\"> |-units: 768</span>"
      ],
      "text/plain": [
       "<IPython.core.display.HTML object>"
      ]
     },
     "metadata": {},
     "output_type": "display_data"
    },
    {
     "name": "stdout",
     "output_type": "stream",
     "text": [
      "WARNING:tensorflow:sample_weight modes were coerced from\n",
      "  ...\n",
      "    to  \n",
      "  ['...']\n",
      "WARNING:tensorflow:sample_weight modes were coerced from\n",
      "  ...\n",
      "    to  \n",
      "  ['...']\n",
      "Train for 400 steps, validate for 171 steps\n",
      "Epoch 1/50\n",
      "400/400 - 27s - loss: 1.0539 - accuracy: 0.7112 - val_loss: 0.4892 - val_accuracy: 0.7632\n",
      "Epoch 2/50\n",
      "400/400 - 26s - loss: 0.4721 - accuracy: 0.7733 - val_loss: 0.4665 - val_accuracy: 0.7798\n",
      "Epoch 3/50\n",
      "400/400 - 26s - loss: 0.4571 - accuracy: 0.7789 - val_loss: 0.4384 - val_accuracy: 0.7788\n",
      "Epoch 4/50\n",
      "400/400 - 26s - loss: 0.4395 - accuracy: 0.7899 - val_loss: 0.4217 - val_accuracy: 0.7864\n",
      "Epoch 5/50\n",
      "400/400 - 26s - loss: 0.4224 - accuracy: 0.7982 - val_loss: 0.4043 - val_accuracy: 0.7963\n",
      "Epoch 6/50\n",
      "400/400 - 26s - loss: 0.4072 - accuracy: 0.8076 - val_loss: 0.3856 - val_accuracy: 0.8144\n",
      "Epoch 7/50\n",
      "400/400 - 26s - loss: 0.3911 - accuracy: 0.8167 - val_loss: 0.3653 - val_accuracy: 0.8152\n",
      "Epoch 8/50\n",
      "400/400 - 26s - loss: 0.3734 - accuracy: 0.8281 - val_loss: 0.3438 - val_accuracy: 0.8509\n",
      "Epoch 9/50\n",
      "400/400 - 26s - loss: 0.3539 - accuracy: 0.8403 - val_loss: 0.3533 - val_accuracy: 0.8405\n",
      "Epoch 10/50\n",
      "400/400 - 26s - loss: 0.3437 - accuracy: 0.8460 - val_loss: 0.3118 - val_accuracy: 0.8655\n",
      "Epoch 11/50\n",
      "400/400 - 26s - loss: 0.3295 - accuracy: 0.8516 - val_loss: 0.3210 - val_accuracy: 0.8483\n",
      "Epoch 12/50\n",
      "400/400 - 26s - loss: 0.3184 - accuracy: 0.8579 - val_loss: 0.3146 - val_accuracy: 0.8641\n",
      "Epoch 13/50\n",
      "400/400 - 26s - loss: 0.3090 - accuracy: 0.8627 - val_loss: 0.3000 - val_accuracy: 0.8647\n",
      "Epoch 14/50\n",
      "400/400 - 25s - loss: 0.3000 - accuracy: 0.8674 - val_loss: 0.3293 - val_accuracy: 0.8399\n",
      "Epoch 15/50\n",
      "400/400 - 24s - loss: 0.2938 - accuracy: 0.8696 - val_loss: 0.3034 - val_accuracy: 0.8600\n"
     ]
    },
    {
     "data": {
      "text/html": [
       "<span style=\"color:#4527A0\"><h1 style=\"font-size:18px\">Trial complete</h1></span>"
      ],
      "text/plain": [
       "<IPython.core.display.HTML object>"
      ]
     },
     "metadata": {},
     "output_type": "display_data"
    },
    {
     "data": {
      "text/html": [
       "<span style=\"color:#4527A0\"><h1 style=\"font-size:18px\">Trial summary</h1></span>"
      ],
      "text/plain": [
       "<IPython.core.display.HTML object>"
      ]
     },
     "metadata": {},
     "output_type": "display_data"
    },
    {
     "data": {
      "text/html": [
       "<span style=\"color:cyan\"> |-Trial ID: c3d4fc8bb426707c6d8b376b7cc1a599</span>"
      ],
      "text/plain": [
       "<IPython.core.display.HTML object>"
      ]
     },
     "metadata": {},
     "output_type": "display_data"
    },
    {
     "data": {
      "text/html": [
       "<span style=\"color:cyan\"> |-Score: 0.8654628396034241</span>"
      ],
      "text/plain": [
       "<IPython.core.display.HTML object>"
      ]
     },
     "metadata": {},
     "output_type": "display_data"
    },
    {
     "data": {
      "text/html": [
       "<span style=\"color:cyan\"> |-Best step: 0</span>"
      ],
      "text/plain": [
       "<IPython.core.display.HTML object>"
      ]
     },
     "metadata": {},
     "output_type": "display_data"
    },
    {
     "data": {
      "text/html": [
       "<span style=\"color:#7E57C2\"><h2 style=\"font-size:16px\">Hyperparameters:</h2></span>"
      ],
      "text/plain": [
       "<IPython.core.display.HTML object>"
      ]
     },
     "metadata": {},
     "output_type": "display_data"
    },
    {
     "data": {
      "text/html": [
       "<span style=\"color:cyan\"> |-conv_1: 32</span>"
      ],
      "text/plain": [
       "<IPython.core.display.HTML object>"
      ]
     },
     "metadata": {},
     "output_type": "display_data"
    },
    {
     "data": {
      "text/html": [
       "<span style=\"color:blue\"> |-conv_2: 64</span>"
      ],
      "text/plain": [
       "<IPython.core.display.HTML object>"
      ]
     },
     "metadata": {},
     "output_type": "display_data"
    },
    {
     "data": {
      "text/html": [
       "<span style=\"color:cyan\"> |-conv_3: 128</span>"
      ],
      "text/plain": [
       "<IPython.core.display.HTML object>"
      ]
     },
     "metadata": {},
     "output_type": "display_data"
    },
    {
     "data": {
      "text/html": [
       "<span style=\"color:blue\"> |-dropout_1: 0.30000000000000004</span>"
      ],
      "text/plain": [
       "<IPython.core.display.HTML object>"
      ]
     },
     "metadata": {},
     "output_type": "display_data"
    },
    {
     "data": {
      "text/html": [
       "<span style=\"color:cyan\"> |-dropout_2: 0.1</span>"
      ],
      "text/plain": [
       "<IPython.core.display.HTML object>"
      ]
     },
     "metadata": {},
     "output_type": "display_data"
    },
    {
     "data": {
      "text/html": [
       "<span style=\"color:blue\"> |-dropout_3: 0.4</span>"
      ],
      "text/plain": [
       "<IPython.core.display.HTML object>"
      ]
     },
     "metadata": {},
     "output_type": "display_data"
    },
    {
     "data": {
      "text/html": [
       "<span style=\"color:cyan\"> |-dropout_4: 0.1</span>"
      ],
      "text/plain": [
       "<IPython.core.display.HTML object>"
      ]
     },
     "metadata": {},
     "output_type": "display_data"
    },
    {
     "data": {
      "text/html": [
       "<span style=\"color:blue\"> |-units: 512</span>"
      ],
      "text/plain": [
       "<IPython.core.display.HTML object>"
      ]
     },
     "metadata": {},
     "output_type": "display_data"
    },
    {
     "name": "stdout",
     "output_type": "stream",
     "text": [
      "WARNING:tensorflow:sample_weight modes were coerced from\n",
      "  ...\n",
      "    to  \n",
      "  ['...']\n",
      "WARNING:tensorflow:sample_weight modes were coerced from\n",
      "  ...\n",
      "    to  \n",
      "  ['...']\n",
      "Train for 400 steps, validate for 171 steps\n",
      "Epoch 1/50\n",
      "400/400 - 26s - loss: 1.1526 - accuracy: 0.7278 - val_loss: 0.4700 - val_accuracy: 0.7896\n",
      "Epoch 2/50\n",
      "400/400 - 25s - loss: 0.4590 - accuracy: 0.7778 - val_loss: 0.4862 - val_accuracy: 0.8013\n",
      "Epoch 3/50\n",
      "400/400 - 25s - loss: 0.4412 - accuracy: 0.7905 - val_loss: 0.4674 - val_accuracy: 0.8094\n",
      "Epoch 4/50\n",
      "400/400 - 25s - loss: 0.4273 - accuracy: 0.7983 - val_loss: 0.4304 - val_accuracy: 0.8165\n",
      "Epoch 5/50\n",
      "400/400 - 25s - loss: 0.4111 - accuracy: 0.8080 - val_loss: 0.4393 - val_accuracy: 0.8251\n",
      "Epoch 6/50\n",
      "400/400 - 25s - loss: 0.3949 - accuracy: 0.8168 - val_loss: 0.4025 - val_accuracy: 0.8379\n",
      "Epoch 7/50\n",
      "400/400 - 24s - loss: 0.3774 - accuracy: 0.8289 - val_loss: 0.4576 - val_accuracy: 0.8345\n",
      "Epoch 8/50\n",
      "400/400 - 25s - loss: 0.3609 - accuracy: 0.8363 - val_loss: 0.3839 - val_accuracy: 0.8533\n",
      "Epoch 9/50\n",
      "400/400 - 25s - loss: 0.3439 - accuracy: 0.8452 - val_loss: 0.3222 - val_accuracy: 0.8664\n",
      "Epoch 10/50\n",
      "400/400 - 25s - loss: 0.3337 - accuracy: 0.8508 - val_loss: 0.3288 - val_accuracy: 0.8733\n",
      "Epoch 11/50\n",
      "400/400 - 25s - loss: 0.3143 - accuracy: 0.8610 - val_loss: 0.3110 - val_accuracy: 0.8789\n",
      "Epoch 12/50\n",
      "400/400 - 24s - loss: 0.3041 - accuracy: 0.8661 - val_loss: 0.3600 - val_accuracy: 0.8640\n",
      "Epoch 13/50\n",
      "400/400 - 24s - loss: 0.2908 - accuracy: 0.8732 - val_loss: 0.3148 - val_accuracy: 0.8769\n",
      "Epoch 14/50\n",
      "400/400 - 24s - loss: 0.2784 - accuracy: 0.8784 - val_loss: 0.3569 - val_accuracy: 0.8721\n",
      "Epoch 15/50\n",
      "400/400 - 25s - loss: 0.2775 - accuracy: 0.8796 - val_loss: 0.2929 - val_accuracy: 0.8909\n",
      "Epoch 16/50\n",
      "400/400 - 25s - loss: 0.2713 - accuracy: 0.8820 - val_loss: 0.3283 - val_accuracy: 0.8834\n",
      "Epoch 17/50\n",
      "400/400 - 25s - loss: 0.2622 - accuracy: 0.8870 - val_loss: 0.3193 - val_accuracy: 0.8874\n",
      "Epoch 18/50\n",
      "400/400 - 24s - loss: 0.2513 - accuracy: 0.8934 - val_loss: 0.3210 - val_accuracy: 0.8797\n",
      "Epoch 19/50\n",
      "400/400 - 22s - loss: 0.2436 - accuracy: 0.8972 - val_loss: 0.3570 - val_accuracy: 0.8763\n",
      "Epoch 20/50\n",
      "400/400 - 22s - loss: 0.2360 - accuracy: 0.9017 - val_loss: 0.3023 - val_accuracy: 0.8847\n"
     ]
    },
    {
     "data": {
      "text/html": [
       "<span style=\"color:#4527A0\"><h1 style=\"font-size:18px\">Trial complete</h1></span>"
      ],
      "text/plain": [
       "<IPython.core.display.HTML object>"
      ]
     },
     "metadata": {},
     "output_type": "display_data"
    },
    {
     "data": {
      "text/html": [
       "<span style=\"color:#4527A0\"><h1 style=\"font-size:18px\">Trial summary</h1></span>"
      ],
      "text/plain": [
       "<IPython.core.display.HTML object>"
      ]
     },
     "metadata": {},
     "output_type": "display_data"
    },
    {
     "data": {
      "text/html": [
       "<span style=\"color:cyan\"> |-Trial ID: a3340e4077d96417715b1c0afaaaa4b5</span>"
      ],
      "text/plain": [
       "<IPython.core.display.HTML object>"
      ]
     },
     "metadata": {},
     "output_type": "display_data"
    },
    {
     "data": {
      "text/html": [
       "<span style=\"color:cyan\"> |-Score: 0.8909257054328918</span>"
      ],
      "text/plain": [
       "<IPython.core.display.HTML object>"
      ]
     },
     "metadata": {},
     "output_type": "display_data"
    },
    {
     "data": {
      "text/html": [
       "<span style=\"color:cyan\"> |-Best step: 0</span>"
      ],
      "text/plain": [
       "<IPython.core.display.HTML object>"
      ]
     },
     "metadata": {},
     "output_type": "display_data"
    },
    {
     "data": {
      "text/html": [
       "<span style=\"color:#7E57C2\"><h2 style=\"font-size:16px\">Hyperparameters:</h2></span>"
      ],
      "text/plain": [
       "<IPython.core.display.HTML object>"
      ]
     },
     "metadata": {},
     "output_type": "display_data"
    },
    {
     "data": {
      "text/html": [
       "<span style=\"color:cyan\"> |-conv_1: 32</span>"
      ],
      "text/plain": [
       "<IPython.core.display.HTML object>"
      ]
     },
     "metadata": {},
     "output_type": "display_data"
    },
    {
     "data": {
      "text/html": [
       "<span style=\"color:blue\"> |-conv_2: 64</span>"
      ],
      "text/plain": [
       "<IPython.core.display.HTML object>"
      ]
     },
     "metadata": {},
     "output_type": "display_data"
    },
    {
     "data": {
      "text/html": [
       "<span style=\"color:cyan\"> |-conv_3: 128</span>"
      ],
      "text/plain": [
       "<IPython.core.display.HTML object>"
      ]
     },
     "metadata": {},
     "output_type": "display_data"
    },
    {
     "data": {
      "text/html": [
       "<span style=\"color:blue\"> |-dropout_1: 0.2</span>"
      ],
      "text/plain": [
       "<IPython.core.display.HTML object>"
      ]
     },
     "metadata": {},
     "output_type": "display_data"
    },
    {
     "data": {
      "text/html": [
       "<span style=\"color:cyan\"> |-dropout_2: 0.1</span>"
      ],
      "text/plain": [
       "<IPython.core.display.HTML object>"
      ]
     },
     "metadata": {},
     "output_type": "display_data"
    },
    {
     "data": {
      "text/html": [
       "<span style=\"color:blue\"> |-dropout_3: 0.1</span>"
      ],
      "text/plain": [
       "<IPython.core.display.HTML object>"
      ]
     },
     "metadata": {},
     "output_type": "display_data"
    },
    {
     "data": {
      "text/html": [
       "<span style=\"color:cyan\"> |-dropout_4: 0.5</span>"
      ],
      "text/plain": [
       "<IPython.core.display.HTML object>"
      ]
     },
     "metadata": {},
     "output_type": "display_data"
    },
    {
     "data": {
      "text/html": [
       "<span style=\"color:blue\"> |-units: 1024</span>"
      ],
      "text/plain": [
       "<IPython.core.display.HTML object>"
      ]
     },
     "metadata": {},
     "output_type": "display_data"
    },
    {
     "name": "stdout",
     "output_type": "stream",
     "text": [
      "WARNING:tensorflow:sample_weight modes were coerced from\n",
      "  ...\n",
      "    to  \n",
      "  ['...']\n",
      "WARNING:tensorflow:sample_weight modes were coerced from\n",
      "  ...\n",
      "    to  \n",
      "  ['...']\n",
      "Train for 400 steps, validate for 171 steps\n",
      "Epoch 1/50\n",
      "400/400 - 23s - loss: 1.3174 - accuracy: 0.7266 - val_loss: 0.4624 - val_accuracy: 0.7956\n",
      "Epoch 2/50\n",
      "400/400 - 21s - loss: 0.4565 - accuracy: 0.7765 - val_loss: 0.4418 - val_accuracy: 0.8121\n",
      "Epoch 3/50\n",
      "400/400 - 21s - loss: 0.4388 - accuracy: 0.7891 - val_loss: 0.4106 - val_accuracy: 0.8002\n",
      "Epoch 4/50\n",
      "400/400 - 21s - loss: 0.4089 - accuracy: 0.8089 - val_loss: 0.3903 - val_accuracy: 0.8248\n",
      "Epoch 5/50\n",
      "400/400 - 21s - loss: 0.3972 - accuracy: 0.8141 - val_loss: 0.3819 - val_accuracy: 0.8100\n",
      "Epoch 6/50\n",
      "400/400 - 21s - loss: 0.3812 - accuracy: 0.8228 - val_loss: 0.3847 - val_accuracy: 0.8252\n",
      "Epoch 7/50\n",
      "400/400 - 21s - loss: 0.3683 - accuracy: 0.8316 - val_loss: 0.3368 - val_accuracy: 0.8348\n",
      "Epoch 8/50\n",
      "400/400 - 21s - loss: 0.3550 - accuracy: 0.8387 - val_loss: 0.3733 - val_accuracy: 0.7813\n",
      "Epoch 9/50\n",
      "400/400 - 21s - loss: 0.3426 - accuracy: 0.8444 - val_loss: 0.3503 - val_accuracy: 0.8182\n",
      "Epoch 10/50\n",
      "400/400 - 21s - loss: 0.3437 - accuracy: 0.8419 - val_loss: 0.3393 - val_accuracy: 0.8643\n",
      "Epoch 11/50\n",
      "400/400 - 21s - loss: 0.3329 - accuracy: 0.8492 - val_loss: 0.3234 - val_accuracy: 0.8363\n",
      "Epoch 12/50\n",
      "400/400 - 21s - loss: 0.3142 - accuracy: 0.8586 - val_loss: 0.2970 - val_accuracy: 0.8731\n",
      "Epoch 13/50\n",
      "400/400 - 21s - loss: 0.3088 - accuracy: 0.8610 - val_loss: 0.2839 - val_accuracy: 0.8786\n",
      "Epoch 14/50\n",
      "400/400 - 21s - loss: 0.3033 - accuracy: 0.8654 - val_loss: 0.2875 - val_accuracy: 0.8689\n",
      "Epoch 15/50\n",
      "400/400 - 21s - loss: 0.2891 - accuracy: 0.8723 - val_loss: 0.2826 - val_accuracy: 0.8778\n",
      "Epoch 16/50\n",
      "400/400 - 21s - loss: 0.2818 - accuracy: 0.8756 - val_loss: 0.2812 - val_accuracy: 0.8811\n",
      "Epoch 17/50\n",
      "400/400 - 21s - loss: 0.2830 - accuracy: 0.8752 - val_loss: 0.2873 - val_accuracy: 0.8572\n",
      "Epoch 18/50\n",
      "400/400 - 21s - loss: 0.2755 - accuracy: 0.8772 - val_loss: 0.2637 - val_accuracy: 0.8853\n",
      "Epoch 19/50\n",
      "400/400 - 21s - loss: 0.2590 - accuracy: 0.8844 - val_loss: 0.3000 - val_accuracy: 0.8573\n",
      "Epoch 20/50\n",
      "400/400 - 21s - loss: 0.2594 - accuracy: 0.8865 - val_loss: 0.3133 - val_accuracy: 0.8899\n",
      "Epoch 21/50\n",
      "400/400 - 21s - loss: 0.2520 - accuracy: 0.8878 - val_loss: 0.3499 - val_accuracy: 0.8736\n",
      "Epoch 22/50\n",
      "400/400 - 21s - loss: 0.2403 - accuracy: 0.8948 - val_loss: 0.3167 - val_accuracy: 0.8898\n",
      "Epoch 23/50\n",
      "400/400 - 21s - loss: 0.2397 - accuracy: 0.8940 - val_loss: 0.3425 - val_accuracy: 0.8800\n",
      "Epoch 24/50\n",
      "400/400 - 21s - loss: 0.2395 - accuracy: 0.8927 - val_loss: 0.3033 - val_accuracy: 0.8807\n",
      "Epoch 25/50\n",
      "400/400 - 21s - loss: 0.2294 - accuracy: 0.8995 - val_loss: 0.3062 - val_accuracy: 0.8923\n",
      "Epoch 26/50\n",
      "400/400 - 21s - loss: 0.2382 - accuracy: 0.8926 - val_loss: 0.2892 - val_accuracy: 0.8956\n",
      "Epoch 27/50\n",
      "400/400 - 21s - loss: 0.2214 - accuracy: 0.9031 - val_loss: 0.3055 - val_accuracy: 0.8869\n",
      "Epoch 28/50\n",
      "400/400 - 21s - loss: 0.2267 - accuracy: 0.9011 - val_loss: 0.2874 - val_accuracy: 0.8948\n",
      "Epoch 29/50\n",
      "400/400 - 21s - loss: 0.2133 - accuracy: 0.9049 - val_loss: 0.2957 - val_accuracy: 0.8933\n",
      "Epoch 30/50\n",
      "400/400 - 21s - loss: 0.2158 - accuracy: 0.9062 - val_loss: 0.3330 - val_accuracy: 0.8864\n",
      "Epoch 31/50\n",
      "400/400 - 21s - loss: 0.2062 - accuracy: 0.9099 - val_loss: 0.2792 - val_accuracy: 0.8961\n",
      "Epoch 32/50\n",
      "400/400 - 21s - loss: 0.2039 - accuracy: 0.9108 - val_loss: 0.3128 - val_accuracy: 0.8896\n",
      "Epoch 33/50\n",
      "400/400 - 21s - loss: 0.1933 - accuracy: 0.9168 - val_loss: 0.2940 - val_accuracy: 0.8883\n",
      "Epoch 34/50\n",
      "400/400 - 21s - loss: 0.1888 - accuracy: 0.9193 - val_loss: 0.2932 - val_accuracy: 0.8888\n",
      "Epoch 35/50\n",
      "400/400 - 21s - loss: 0.2024 - accuracy: 0.9129 - val_loss: 0.3151 - val_accuracy: 0.8856\n",
      "Epoch 36/50\n",
      "400/400 - 21s - loss: 0.1971 - accuracy: 0.9154 - val_loss: 0.3119 - val_accuracy: 0.8731\n"
     ]
    },
    {
     "data": {
      "text/html": [
       "<span style=\"color:#4527A0\"><h1 style=\"font-size:18px\">Trial complete</h1></span>"
      ],
      "text/plain": [
       "<IPython.core.display.HTML object>"
      ]
     },
     "metadata": {},
     "output_type": "display_data"
    },
    {
     "data": {
      "text/html": [
       "<span style=\"color:#4527A0\"><h1 style=\"font-size:18px\">Trial summary</h1></span>"
      ],
      "text/plain": [
       "<IPython.core.display.HTML object>"
      ]
     },
     "metadata": {},
     "output_type": "display_data"
    },
    {
     "data": {
      "text/html": [
       "<span style=\"color:cyan\"> |-Trial ID: 530b1c0158a0ab2a661281a129847f20</span>"
      ],
      "text/plain": [
       "<IPython.core.display.HTML object>"
      ]
     },
     "metadata": {},
     "output_type": "display_data"
    },
    {
     "data": {
      "text/html": [
       "<span style=\"color:cyan\"> |-Score: 0.8961371183395386</span>"
      ],
      "text/plain": [
       "<IPython.core.display.HTML object>"
      ]
     },
     "metadata": {},
     "output_type": "display_data"
    },
    {
     "data": {
      "text/html": [
       "<span style=\"color:cyan\"> |-Best step: 0</span>"
      ],
      "text/plain": [
       "<IPython.core.display.HTML object>"
      ]
     },
     "metadata": {},
     "output_type": "display_data"
    },
    {
     "data": {
      "text/html": [
       "<span style=\"color:#7E57C2\"><h2 style=\"font-size:16px\">Hyperparameters:</h2></span>"
      ],
      "text/plain": [
       "<IPython.core.display.HTML object>"
      ]
     },
     "metadata": {},
     "output_type": "display_data"
    },
    {
     "data": {
      "text/html": [
       "<span style=\"color:cyan\"> |-conv_1: 16</span>"
      ],
      "text/plain": [
       "<IPython.core.display.HTML object>"
      ]
     },
     "metadata": {},
     "output_type": "display_data"
    },
    {
     "data": {
      "text/html": [
       "<span style=\"color:blue\"> |-conv_2: 64</span>"
      ],
      "text/plain": [
       "<IPython.core.display.HTML object>"
      ]
     },
     "metadata": {},
     "output_type": "display_data"
    },
    {
     "data": {
      "text/html": [
       "<span style=\"color:cyan\"> |-conv_3: 128</span>"
      ],
      "text/plain": [
       "<IPython.core.display.HTML object>"
      ]
     },
     "metadata": {},
     "output_type": "display_data"
    },
    {
     "data": {
      "text/html": [
       "<span style=\"color:blue\"> |-dropout_1: 0.1</span>"
      ],
      "text/plain": [
       "<IPython.core.display.HTML object>"
      ]
     },
     "metadata": {},
     "output_type": "display_data"
    },
    {
     "data": {
      "text/html": [
       "<span style=\"color:cyan\"> |-dropout_2: 0.1</span>"
      ],
      "text/plain": [
       "<IPython.core.display.HTML object>"
      ]
     },
     "metadata": {},
     "output_type": "display_data"
    },
    {
     "data": {
      "text/html": [
       "<span style=\"color:blue\"> |-dropout_3: 0.30000000000000004</span>"
      ],
      "text/plain": [
       "<IPython.core.display.HTML object>"
      ]
     },
     "metadata": {},
     "output_type": "display_data"
    },
    {
     "data": {
      "text/html": [
       "<span style=\"color:cyan\"> |-dropout_4: 0.30000000000000004</span>"
      ],
      "text/plain": [
       "<IPython.core.display.HTML object>"
      ]
     },
     "metadata": {},
     "output_type": "display_data"
    },
    {
     "data": {
      "text/html": [
       "<span style=\"color:blue\"> |-units: 256</span>"
      ],
      "text/plain": [
       "<IPython.core.display.HTML object>"
      ]
     },
     "metadata": {},
     "output_type": "display_data"
    },
    {
     "name": "stdout",
     "output_type": "stream",
     "text": [
      "WARNING:tensorflow:sample_weight modes were coerced from\n",
      "  ...\n",
      "    to  \n",
      "  ['...']\n",
      "WARNING:tensorflow:sample_weight modes were coerced from\n",
      "  ...\n",
      "    to  \n",
      "  ['...']\n",
      "Train for 400 steps, validate for 171 steps\n",
      "Epoch 1/50\n",
      "400/400 - 22s - loss: 2.2036 - accuracy: 0.6563 - val_loss: 0.7237 - val_accuracy: 0.6352\n",
      "Epoch 2/50\n",
      "400/400 - 21s - loss: 0.4797 - accuracy: 0.7665 - val_loss: 0.5634 - val_accuracy: 0.7473\n",
      "Epoch 3/50\n",
      "400/400 - 21s - loss: 0.4598 - accuracy: 0.7792 - val_loss: 0.5086 - val_accuracy: 0.7813\n",
      "Epoch 4/50\n",
      "400/400 - 21s - loss: 0.4541 - accuracy: 0.7818 - val_loss: 0.5012 - val_accuracy: 0.7911\n",
      "Epoch 5/50\n",
      "400/400 - 21s - loss: 0.4447 - accuracy: 0.7896 - val_loss: 0.4628 - val_accuracy: 0.8045\n",
      "Epoch 6/50\n",
      "400/400 - 21s - loss: 0.4373 - accuracy: 0.7954 - val_loss: 0.4594 - val_accuracy: 0.8177\n",
      "Epoch 7/50\n",
      "400/400 - 21s - loss: 0.4308 - accuracy: 0.7996 - val_loss: 0.4663 - val_accuracy: 0.8203\n",
      "Epoch 8/50\n",
      "400/400 - 21s - loss: 0.4179 - accuracy: 0.8050 - val_loss: 0.4649 - val_accuracy: 0.8206\n",
      "Epoch 9/50\n",
      "400/400 - 21s - loss: 0.4043 - accuracy: 0.8130 - val_loss: 0.4001 - val_accuracy: 0.8419\n",
      "Epoch 10/50\n",
      "400/400 - 21s - loss: 0.3955 - accuracy: 0.8172 - val_loss: 0.3964 - val_accuracy: 0.8457\n",
      "Epoch 11/50\n",
      "400/400 - 21s - loss: 0.3820 - accuracy: 0.8280 - val_loss: 0.4007 - val_accuracy: 0.8540\n",
      "Epoch 12/50\n",
      "400/400 - 21s - loss: 0.3722 - accuracy: 0.8303 - val_loss: 0.3813 - val_accuracy: 0.8573\n",
      "Epoch 13/50\n",
      "400/400 - 21s - loss: 0.3600 - accuracy: 0.8367 - val_loss: 0.3427 - val_accuracy: 0.8659\n",
      "Epoch 14/50\n",
      "400/400 - 21s - loss: 0.3480 - accuracy: 0.8452 - val_loss: 0.3197 - val_accuracy: 0.8746\n",
      "Epoch 15/50\n",
      "400/400 - 21s - loss: 0.3461 - accuracy: 0.8457 - val_loss: 0.3352 - val_accuracy: 0.8736\n",
      "Epoch 16/50\n",
      "400/400 - 21s - loss: 0.3338 - accuracy: 0.8512 - val_loss: 0.3076 - val_accuracy: 0.8778\n",
      "Epoch 17/50\n",
      "400/400 - 21s - loss: 0.3207 - accuracy: 0.8574 - val_loss: 0.3300 - val_accuracy: 0.8692\n",
      "Epoch 18/50\n",
      "400/400 - 21s - loss: 0.3199 - accuracy: 0.8576 - val_loss: 0.3174 - val_accuracy: 0.8740\n",
      "Epoch 19/50\n",
      "400/400 - 21s - loss: 0.3094 - accuracy: 0.8641 - val_loss: 0.3030 - val_accuracy: 0.8861\n",
      "Epoch 20/50\n",
      "400/400 - 21s - loss: 0.3048 - accuracy: 0.8647 - val_loss: 0.2746 - val_accuracy: 0.8860\n",
      "Epoch 21/50\n",
      "400/400 - 21s - loss: 0.2998 - accuracy: 0.8697 - val_loss: 0.3444 - val_accuracy: 0.8751\n",
      "Epoch 22/50\n",
      "400/400 - 21s - loss: 0.2894 - accuracy: 0.8726 - val_loss: 0.2742 - val_accuracy: 0.8861\n",
      "Epoch 23/50\n",
      "400/400 - 21s - loss: 0.2913 - accuracy: 0.8719 - val_loss: 0.2791 - val_accuracy: 0.8931\n",
      "Epoch 24/50\n",
      "400/400 - 21s - loss: 0.2873 - accuracy: 0.8746 - val_loss: 0.3267 - val_accuracy: 0.8827\n",
      "Epoch 25/50\n",
      "400/400 - 21s - loss: 0.2857 - accuracy: 0.8750 - val_loss: 0.3400 - val_accuracy: 0.8779\n",
      "Epoch 26/50\n",
      "400/400 - 21s - loss: 0.2894 - accuracy: 0.8722 - val_loss: 0.2922 - val_accuracy: 0.8885\n",
      "Epoch 27/50\n",
      "400/400 - 21s - loss: 0.2775 - accuracy: 0.8816 - val_loss: 0.2884 - val_accuracy: 0.8955\n",
      "Epoch 28/50\n",
      "400/400 - 21s - loss: 0.2702 - accuracy: 0.8832 - val_loss: 0.2631 - val_accuracy: 0.8912\n",
      "Epoch 29/50\n",
      "400/400 - 21s - loss: 0.2678 - accuracy: 0.8866 - val_loss: 0.2741 - val_accuracy: 0.8914\n",
      "Epoch 30/50\n",
      "400/400 - 21s - loss: 0.2645 - accuracy: 0.8859 - val_loss: 0.2597 - val_accuracy: 0.9001\n",
      "Epoch 31/50\n",
      "400/400 - 21s - loss: 0.2632 - accuracy: 0.8887 - val_loss: 0.2712 - val_accuracy: 0.9011\n",
      "Epoch 32/50\n",
      "400/400 - 21s - loss: 0.2608 - accuracy: 0.8887 - val_loss: 0.2863 - val_accuracy: 0.8937\n",
      "Epoch 33/50\n",
      "400/400 - 21s - loss: 0.2574 - accuracy: 0.8903 - val_loss: 0.2647 - val_accuracy: 0.9012\n",
      "Epoch 34/50\n",
      "400/400 - 21s - loss: 0.2603 - accuracy: 0.8905 - val_loss: 0.3053 - val_accuracy: 0.8903\n",
      "Epoch 35/50\n",
      "400/400 - 21s - loss: 0.2490 - accuracy: 0.8936 - val_loss: 0.2954 - val_accuracy: 0.8931\n",
      "Epoch 36/50\n",
      "400/400 - 21s - loss: 0.2519 - accuracy: 0.8923 - val_loss: 0.2610 - val_accuracy: 0.8936\n",
      "Epoch 37/50\n",
      "400/400 - 21s - loss: 0.2390 - accuracy: 0.8971 - val_loss: 0.2644 - val_accuracy: 0.8959\n",
      "Epoch 38/50\n",
      "400/400 - 21s - loss: 0.2428 - accuracy: 0.8960 - val_loss: 0.2598 - val_accuracy: 0.8965\n"
     ]
    },
    {
     "data": {
      "text/html": [
       "<span style=\"color:#4527A0\"><h1 style=\"font-size:18px\">Trial complete</h1></span>"
      ],
      "text/plain": [
       "<IPython.core.display.HTML object>"
      ]
     },
     "metadata": {},
     "output_type": "display_data"
    },
    {
     "data": {
      "text/html": [
       "<span style=\"color:#4527A0\"><h1 style=\"font-size:18px\">Trial summary</h1></span>"
      ],
      "text/plain": [
       "<IPython.core.display.HTML object>"
      ]
     },
     "metadata": {},
     "output_type": "display_data"
    },
    {
     "data": {
      "text/html": [
       "<span style=\"color:cyan\"> |-Trial ID: edd3c9ec467f23a1839749cb369f72b7</span>"
      ],
      "text/plain": [
       "<IPython.core.display.HTML object>"
      ]
     },
     "metadata": {},
     "output_type": "display_data"
    },
    {
     "data": {
      "text/html": [
       "<span style=\"color:cyan\"> |-Score: 0.9012114405632019</span>"
      ],
      "text/plain": [
       "<IPython.core.display.HTML object>"
      ]
     },
     "metadata": {},
     "output_type": "display_data"
    },
    {
     "data": {
      "text/html": [
       "<span style=\"color:cyan\"> |-Best step: 0</span>"
      ],
      "text/plain": [
       "<IPython.core.display.HTML object>"
      ]
     },
     "metadata": {},
     "output_type": "display_data"
    },
    {
     "data": {
      "text/html": [
       "<span style=\"color:#7E57C2\"><h2 style=\"font-size:16px\">Hyperparameters:</h2></span>"
      ],
      "text/plain": [
       "<IPython.core.display.HTML object>"
      ]
     },
     "metadata": {},
     "output_type": "display_data"
    },
    {
     "data": {
      "text/html": [
       "<span style=\"color:cyan\"> |-conv_1: 16</span>"
      ],
      "text/plain": [
       "<IPython.core.display.HTML object>"
      ]
     },
     "metadata": {},
     "output_type": "display_data"
    },
    {
     "data": {
      "text/html": [
       "<span style=\"color:blue\"> |-conv_2: 32</span>"
      ],
      "text/plain": [
       "<IPython.core.display.HTML object>"
      ]
     },
     "metadata": {},
     "output_type": "display_data"
    },
    {
     "data": {
      "text/html": [
       "<span style=\"color:cyan\"> |-conv_3: 64</span>"
      ],
      "text/plain": [
       "<IPython.core.display.HTML object>"
      ]
     },
     "metadata": {},
     "output_type": "display_data"
    },
    {
     "data": {
      "text/html": [
       "<span style=\"color:blue\"> |-dropout_1: 0.30000000000000004</span>"
      ],
      "text/plain": [
       "<IPython.core.display.HTML object>"
      ]
     },
     "metadata": {},
     "output_type": "display_data"
    },
    {
     "data": {
      "text/html": [
       "<span style=\"color:cyan\"> |-dropout_2: 0.2</span>"
      ],
      "text/plain": [
       "<IPython.core.display.HTML object>"
      ]
     },
     "metadata": {},
     "output_type": "display_data"
    },
    {
     "data": {
      "text/html": [
       "<span style=\"color:blue\"> |-dropout_3: 0.30000000000000004</span>"
      ],
      "text/plain": [
       "<IPython.core.display.HTML object>"
      ]
     },
     "metadata": {},
     "output_type": "display_data"
    },
    {
     "data": {
      "text/html": [
       "<span style=\"color:cyan\"> |-dropout_4: 0.2</span>"
      ],
      "text/plain": [
       "<IPython.core.display.HTML object>"
      ]
     },
     "metadata": {},
     "output_type": "display_data"
    },
    {
     "data": {
      "text/html": [
       "<span style=\"color:blue\"> |-units: 896</span>"
      ],
      "text/plain": [
       "<IPython.core.display.HTML object>"
      ]
     },
     "metadata": {},
     "output_type": "display_data"
    },
    {
     "name": "stdout",
     "output_type": "stream",
     "text": [
      "WARNING:tensorflow:sample_weight modes were coerced from\n",
      "  ...\n",
      "    to  \n",
      "  ['...']\n",
      "WARNING:tensorflow:sample_weight modes were coerced from\n",
      "  ...\n",
      "    to  \n",
      "  ['...']\n",
      "Train for 400 steps, validate for 171 steps\n",
      "Epoch 1/50\n",
      "400/400 - 22s - loss: 1.1341 - accuracy: 0.7239 - val_loss: 0.4764 - val_accuracy: 0.7812\n",
      "Epoch 2/50\n",
      "400/400 - 21s - loss: 0.4628 - accuracy: 0.7790 - val_loss: 0.4696 - val_accuracy: 0.7869\n",
      "Epoch 3/50\n",
      "400/400 - 21s - loss: 0.4466 - accuracy: 0.7881 - val_loss: 0.4599 - val_accuracy: 0.8084\n",
      "Epoch 4/50\n",
      "400/400 - 21s - loss: 0.4282 - accuracy: 0.7982 - val_loss: 0.4259 - val_accuracy: 0.8175\n",
      "Epoch 5/50\n",
      "400/400 - 21s - loss: 0.4177 - accuracy: 0.8046 - val_loss: 0.4089 - val_accuracy: 0.8012\n",
      "Epoch 6/50\n",
      "400/400 - 21s - loss: 0.4035 - accuracy: 0.8101 - val_loss: 0.3981 - val_accuracy: 0.8102\n",
      "Epoch 7/50\n",
      "400/400 - 21s - loss: 0.3898 - accuracy: 0.8186 - val_loss: 0.3638 - val_accuracy: 0.8358\n",
      "Epoch 8/50\n",
      "400/400 - 21s - loss: 0.3768 - accuracy: 0.8270 - val_loss: 0.3605 - val_accuracy: 0.8497\n",
      "Epoch 9/50\n",
      "400/400 - 21s - loss: 0.3612 - accuracy: 0.8372 - val_loss: 0.3386 - val_accuracy: 0.8617\n",
      "Epoch 10/50\n",
      "400/400 - 21s - loss: 0.3505 - accuracy: 0.8395 - val_loss: 0.3392 - val_accuracy: 0.8469\n",
      "Epoch 11/50\n",
      "400/400 - 21s - loss: 0.3372 - accuracy: 0.8459 - val_loss: 0.3249 - val_accuracy: 0.8707\n",
      "Epoch 12/50\n",
      "400/400 - 21s - loss: 0.3354 - accuracy: 0.8498 - val_loss: 0.2992 - val_accuracy: 0.8715\n",
      "Epoch 13/50\n",
      "400/400 - 21s - loss: 0.3165 - accuracy: 0.8583 - val_loss: 0.3212 - val_accuracy: 0.8560\n",
      "Epoch 14/50\n",
      "400/400 - 21s - loss: 0.3135 - accuracy: 0.8592 - val_loss: 0.2862 - val_accuracy: 0.8700\n",
      "Epoch 15/50\n",
      "400/400 - 21s - loss: 0.3119 - accuracy: 0.8613 - val_loss: 0.2806 - val_accuracy: 0.8709\n",
      "Epoch 16/50\n",
      "400/400 - 21s - loss: 0.2967 - accuracy: 0.8678 - val_loss: 0.2849 - val_accuracy: 0.8773\n",
      "Epoch 17/50\n",
      "400/400 - 21s - loss: 0.2924 - accuracy: 0.8722 - val_loss: 0.3004 - val_accuracy: 0.8789\n",
      "Epoch 18/50\n",
      "400/400 - 21s - loss: 0.2865 - accuracy: 0.8735 - val_loss: 0.2728 - val_accuracy: 0.8758\n",
      "Epoch 19/50\n",
      "400/400 - 21s - loss: 0.2789 - accuracy: 0.8772 - val_loss: 0.2631 - val_accuracy: 0.8840\n",
      "Epoch 20/50\n",
      "400/400 - 21s - loss: 0.2841 - accuracy: 0.8742 - val_loss: 0.2691 - val_accuracy: 0.8741\n",
      "Epoch 21/50\n",
      "400/400 - 21s - loss: 0.2700 - accuracy: 0.8823 - val_loss: 0.2840 - val_accuracy: 0.8805\n",
      "Epoch 22/50\n",
      "400/400 - 21s - loss: 0.2598 - accuracy: 0.8877 - val_loss: 0.2673 - val_accuracy: 0.8780\n",
      "Epoch 23/50\n",
      "400/400 - 21s - loss: 0.2593 - accuracy: 0.8883 - val_loss: 0.2466 - val_accuracy: 0.8970\n",
      "Epoch 24/50\n",
      "400/400 - 21s - loss: 0.2544 - accuracy: 0.8909 - val_loss: 0.2629 - val_accuracy: 0.8729\n",
      "Epoch 25/50\n",
      "400/400 - 21s - loss: 0.2569 - accuracy: 0.8894 - val_loss: 0.2511 - val_accuracy: 0.8903\n",
      "Epoch 26/50\n",
      "400/400 - 21s - loss: 0.2532 - accuracy: 0.8908 - val_loss: 0.2445 - val_accuracy: 0.8942\n",
      "Epoch 27/50\n",
      "400/400 - 21s - loss: 0.2486 - accuracy: 0.8903 - val_loss: 0.2440 - val_accuracy: 0.8988\n",
      "Epoch 28/50\n",
      "400/400 - 21s - loss: 0.2428 - accuracy: 0.8962 - val_loss: 0.2532 - val_accuracy: 0.8917\n",
      "Epoch 29/50\n",
      "400/400 - 21s - loss: 0.2363 - accuracy: 0.8987 - val_loss: 0.2585 - val_accuracy: 0.8848\n",
      "Epoch 30/50\n",
      "400/400 - 21s - loss: 0.2372 - accuracy: 0.8977 - val_loss: 0.2478 - val_accuracy: 0.8984\n",
      "Epoch 31/50\n",
      "400/400 - 21s - loss: 0.2338 - accuracy: 0.9006 - val_loss: 0.2487 - val_accuracy: 0.8970\n",
      "Epoch 32/50\n",
      "400/400 - 21s - loss: 0.2277 - accuracy: 0.9040 - val_loss: 0.2625 - val_accuracy: 0.8830\n"
     ]
    },
    {
     "data": {
      "text/html": [
       "<span style=\"color:#4527A0\"><h1 style=\"font-size:18px\">Trial complete</h1></span>"
      ],
      "text/plain": [
       "<IPython.core.display.HTML object>"
      ]
     },
     "metadata": {},
     "output_type": "display_data"
    },
    {
     "data": {
      "text/html": [
       "<span style=\"color:#4527A0\"><h1 style=\"font-size:18px\">Trial summary</h1></span>"
      ],
      "text/plain": [
       "<IPython.core.display.HTML object>"
      ]
     },
     "metadata": {},
     "output_type": "display_data"
    },
    {
     "data": {
      "text/html": [
       "<span style=\"color:cyan\"> |-Trial ID: c60a570f37aa48f0c87c8ea5aa7788f5</span>"
      ],
      "text/plain": [
       "<IPython.core.display.HTML object>"
      ]
     },
     "metadata": {},
     "output_type": "display_data"
    },
    {
     "data": {
      "text/html": [
       "<span style=\"color:cyan\"> |-Score: 0.898788571357727</span>"
      ],
      "text/plain": [
       "<IPython.core.display.HTML object>"
      ]
     },
     "metadata": {},
     "output_type": "display_data"
    },
    {
     "data": {
      "text/html": [
       "<span style=\"color:cyan\"> |-Best step: 0</span>"
      ],
      "text/plain": [
       "<IPython.core.display.HTML object>"
      ]
     },
     "metadata": {},
     "output_type": "display_data"
    },
    {
     "data": {
      "text/html": [
       "<span style=\"color:#7E57C2\"><h2 style=\"font-size:16px\">Hyperparameters:</h2></span>"
      ],
      "text/plain": [
       "<IPython.core.display.HTML object>"
      ]
     },
     "metadata": {},
     "output_type": "display_data"
    },
    {
     "data": {
      "text/html": [
       "<span style=\"color:cyan\"> |-conv_1: 16</span>"
      ],
      "text/plain": [
       "<IPython.core.display.HTML object>"
      ]
     },
     "metadata": {},
     "output_type": "display_data"
    },
    {
     "data": {
      "text/html": [
       "<span style=\"color:blue\"> |-conv_2: 64</span>"
      ],
      "text/plain": [
       "<IPython.core.display.HTML object>"
      ]
     },
     "metadata": {},
     "output_type": "display_data"
    },
    {
     "data": {
      "text/html": [
       "<span style=\"color:cyan\"> |-conv_3: 128</span>"
      ],
      "text/plain": [
       "<IPython.core.display.HTML object>"
      ]
     },
     "metadata": {},
     "output_type": "display_data"
    },
    {
     "data": {
      "text/html": [
       "<span style=\"color:blue\"> |-dropout_1: 0.2</span>"
      ],
      "text/plain": [
       "<IPython.core.display.HTML object>"
      ]
     },
     "metadata": {},
     "output_type": "display_data"
    },
    {
     "data": {
      "text/html": [
       "<span style=\"color:cyan\"> |-dropout_2: 0.2</span>"
      ],
      "text/plain": [
       "<IPython.core.display.HTML object>"
      ]
     },
     "metadata": {},
     "output_type": "display_data"
    },
    {
     "data": {
      "text/html": [
       "<span style=\"color:blue\"> |-dropout_3: 0.4</span>"
      ],
      "text/plain": [
       "<IPython.core.display.HTML object>"
      ]
     },
     "metadata": {},
     "output_type": "display_data"
    },
    {
     "data": {
      "text/html": [
       "<span style=\"color:cyan\"> |-dropout_4: 0.5</span>"
      ],
      "text/plain": [
       "<IPython.core.display.HTML object>"
      ]
     },
     "metadata": {},
     "output_type": "display_data"
    },
    {
     "data": {
      "text/html": [
       "<span style=\"color:blue\"> |-units: 512</span>"
      ],
      "text/plain": [
       "<IPython.core.display.HTML object>"
      ]
     },
     "metadata": {},
     "output_type": "display_data"
    },
    {
     "name": "stdout",
     "output_type": "stream",
     "text": [
      "WARNING:tensorflow:sample_weight modes were coerced from\n",
      "  ...\n",
      "    to  \n",
      "  ['...']\n",
      "WARNING:tensorflow:sample_weight modes were coerced from\n",
      "  ...\n",
      "    to  \n",
      "  ['...']\n",
      "Train for 400 steps, validate for 171 steps\n",
      "Epoch 1/50\n",
      "400/400 - 22s - loss: 2.0307 - accuracy: 0.5916 - val_loss: 0.6762 - val_accuracy: 0.5919\n",
      "Epoch 2/50\n",
      "400/400 - 21s - loss: 0.6754 - accuracy: 0.5946 - val_loss: 0.6763 - val_accuracy: 0.5916\n",
      "Epoch 3/50\n",
      "400/400 - 21s - loss: 0.6752 - accuracy: 0.5946 - val_loss: 0.6762 - val_accuracy: 0.5918\n",
      "Epoch 4/50\n",
      "400/400 - 21s - loss: 0.6753 - accuracy: 0.5946 - val_loss: 0.6763 - val_accuracy: 0.5916\n",
      "Epoch 5/50\n",
      "400/400 - 21s - loss: 0.6753 - accuracy: 0.5946 - val_loss: 0.6763 - val_accuracy: 0.5915\n",
      "Epoch 6/50\n",
      "400/400 - 21s - loss: 0.6753 - accuracy: 0.5946 - val_loss: 0.6760 - val_accuracy: 0.5923\n",
      "Epoch 7/50\n",
      "400/400 - 21s - loss: 0.6752 - accuracy: 0.5946 - val_loss: 0.6762 - val_accuracy: 0.5918\n",
      "Epoch 8/50\n",
      "400/400 - 21s - loss: 0.6754 - accuracy: 0.5946 - val_loss: 0.6762 - val_accuracy: 0.5916\n",
      "Epoch 9/50\n",
      "400/400 - 21s - loss: 0.6753 - accuracy: 0.5946 - val_loss: 0.6762 - val_accuracy: 0.5918\n",
      "Epoch 10/50\n",
      "400/400 - 21s - loss: 0.6753 - accuracy: 0.5946 - val_loss: 0.6762 - val_accuracy: 0.5918\n",
      "Epoch 11/50\n",
      "400/400 - 21s - loss: 0.6754 - accuracy: 0.5946 - val_loss: 0.6764 - val_accuracy: 0.5914\n"
     ]
    },
    {
     "data": {
      "text/html": [
       "<span style=\"color:#4527A0\"><h1 style=\"font-size:18px\">Trial complete</h1></span>"
      ],
      "text/plain": [
       "<IPython.core.display.HTML object>"
      ]
     },
     "metadata": {},
     "output_type": "display_data"
    },
    {
     "data": {
      "text/html": [
       "<span style=\"color:#4527A0\"><h1 style=\"font-size:18px\">Trial summary</h1></span>"
      ],
      "text/plain": [
       "<IPython.core.display.HTML object>"
      ]
     },
     "metadata": {},
     "output_type": "display_data"
    },
    {
     "data": {
      "text/html": [
       "<span style=\"color:cyan\"> |-Trial ID: 62a1764aea045639ac5b8b94a94ef556</span>"
      ],
      "text/plain": [
       "<IPython.core.display.HTML object>"
      ]
     },
     "metadata": {},
     "output_type": "display_data"
    },
    {
     "data": {
      "text/html": [
       "<span style=\"color:cyan\"> |-Score: 0.5923200249671936</span>"
      ],
      "text/plain": [
       "<IPython.core.display.HTML object>"
      ]
     },
     "metadata": {},
     "output_type": "display_data"
    },
    {
     "data": {
      "text/html": [
       "<span style=\"color:cyan\"> |-Best step: 0</span>"
      ],
      "text/plain": [
       "<IPython.core.display.HTML object>"
      ]
     },
     "metadata": {},
     "output_type": "display_data"
    },
    {
     "data": {
      "text/html": [
       "<span style=\"color:#7E57C2\"><h2 style=\"font-size:16px\">Hyperparameters:</h2></span>"
      ],
      "text/plain": [
       "<IPython.core.display.HTML object>"
      ]
     },
     "metadata": {},
     "output_type": "display_data"
    },
    {
     "data": {
      "text/html": [
       "<span style=\"color:cyan\"> |-conv_1: 16</span>"
      ],
      "text/plain": [
       "<IPython.core.display.HTML object>"
      ]
     },
     "metadata": {},
     "output_type": "display_data"
    },
    {
     "data": {
      "text/html": [
       "<span style=\"color:blue\"> |-conv_2: 32</span>"
      ],
      "text/plain": [
       "<IPython.core.display.HTML object>"
      ]
     },
     "metadata": {},
     "output_type": "display_data"
    },
    {
     "data": {
      "text/html": [
       "<span style=\"color:cyan\"> |-conv_3: 64</span>"
      ],
      "text/plain": [
       "<IPython.core.display.HTML object>"
      ]
     },
     "metadata": {},
     "output_type": "display_data"
    },
    {
     "data": {
      "text/html": [
       "<span style=\"color:blue\"> |-dropout_1: 0.5</span>"
      ],
      "text/plain": [
       "<IPython.core.display.HTML object>"
      ]
     },
     "metadata": {},
     "output_type": "display_data"
    },
    {
     "data": {
      "text/html": [
       "<span style=\"color:cyan\"> |-dropout_2: 0.2</span>"
      ],
      "text/plain": [
       "<IPython.core.display.HTML object>"
      ]
     },
     "metadata": {},
     "output_type": "display_data"
    },
    {
     "data": {
      "text/html": [
       "<span style=\"color:blue\"> |-dropout_3: 0.0</span>"
      ],
      "text/plain": [
       "<IPython.core.display.HTML object>"
      ]
     },
     "metadata": {},
     "output_type": "display_data"
    },
    {
     "data": {
      "text/html": [
       "<span style=\"color:cyan\"> |-dropout_4: 0.4</span>"
      ],
      "text/plain": [
       "<IPython.core.display.HTML object>"
      ]
     },
     "metadata": {},
     "output_type": "display_data"
    },
    {
     "data": {
      "text/html": [
       "<span style=\"color:blue\"> |-units: 896</span>"
      ],
      "text/plain": [
       "<IPython.core.display.HTML object>"
      ]
     },
     "metadata": {},
     "output_type": "display_data"
    },
    {
     "name": "stdout",
     "output_type": "stream",
     "text": [
      "WARNING:tensorflow:sample_weight modes were coerced from\n",
      "  ...\n",
      "    to  \n",
      "  ['...']\n",
      "WARNING:tensorflow:sample_weight modes were coerced from\n",
      "  ...\n",
      "    to  \n",
      "  ['...']\n",
      "Train for 400 steps, validate for 171 steps\n",
      "Epoch 1/50\n",
      "400/400 - 22s - loss: 3.1611 - accuracy: 0.6603 - val_loss: 0.5119 - val_accuracy: 0.7093\n",
      "Epoch 2/50\n",
      "400/400 - 21s - loss: 0.4841 - accuracy: 0.7635 - val_loss: 0.4996 - val_accuracy: 0.7609\n",
      "Epoch 3/50\n",
      "400/400 - 21s - loss: 0.4669 - accuracy: 0.7723 - val_loss: 0.4928 - val_accuracy: 0.7686\n",
      "Epoch 4/50\n",
      "400/400 - 21s - loss: 0.4572 - accuracy: 0.7772 - val_loss: 0.4840 - val_accuracy: 0.7756\n",
      "Epoch 5/50\n",
      "400/400 - 21s - loss: 0.4526 - accuracy: 0.7818 - val_loss: 0.5048 - val_accuracy: 0.7912\n",
      "Epoch 6/50\n",
      "400/400 - 21s - loss: 0.4481 - accuracy: 0.7832 - val_loss: 0.5027 - val_accuracy: 0.7989\n",
      "Epoch 7/50\n",
      "400/400 - 21s - loss: 0.4413 - accuracy: 0.7869 - val_loss: 0.4768 - val_accuracy: 0.7781\n",
      "Epoch 8/50\n",
      "400/400 - 21s - loss: 0.4378 - accuracy: 0.7890 - val_loss: 0.4969 - val_accuracy: 0.7995\n",
      "Epoch 9/50\n",
      "400/400 - 21s - loss: 0.4286 - accuracy: 0.7966 - val_loss: 0.4764 - val_accuracy: 0.7892\n",
      "Epoch 10/50\n",
      "400/400 - 21s - loss: 0.4279 - accuracy: 0.7971 - val_loss: 0.4893 - val_accuracy: 0.7887\n",
      "Epoch 11/50\n",
      "400/400 - 21s - loss: 0.4231 - accuracy: 0.8011 - val_loss: 0.4762 - val_accuracy: 0.7969\n",
      "Epoch 12/50\n",
      "400/400 - 21s - loss: 0.4139 - accuracy: 0.8057 - val_loss: 0.4479 - val_accuracy: 0.7957\n",
      "Epoch 13/50\n",
      "400/400 - 21s - loss: 0.4089 - accuracy: 0.8098 - val_loss: 0.4312 - val_accuracy: 0.8137\n",
      "Epoch 14/50\n",
      "400/400 - 21s - loss: 0.4040 - accuracy: 0.8119 - val_loss: 0.4365 - val_accuracy: 0.8209\n",
      "Epoch 15/50\n",
      "400/400 - 21s - loss: 0.3922 - accuracy: 0.8185 - val_loss: 0.4350 - val_accuracy: 0.7580\n",
      "Epoch 16/50\n",
      "400/400 - 21s - loss: 0.3846 - accuracy: 0.8227 - val_loss: 0.3878 - val_accuracy: 0.8085\n",
      "Epoch 17/50\n",
      "400/400 - 21s - loss: 0.3706 - accuracy: 0.8320 - val_loss: 0.3942 - val_accuracy: 0.8144\n",
      "Epoch 18/50\n",
      "400/400 - 21s - loss: 0.3590 - accuracy: 0.8377 - val_loss: 0.4232 - val_accuracy: 0.7713\n",
      "Epoch 19/50\n",
      "400/400 - 21s - loss: 0.3520 - accuracy: 0.8425 - val_loss: 0.4217 - val_accuracy: 0.7659\n"
     ]
    },
    {
     "data": {
      "text/html": [
       "<span style=\"color:#4527A0\"><h1 style=\"font-size:18px\">Trial complete</h1></span>"
      ],
      "text/plain": [
       "<IPython.core.display.HTML object>"
      ]
     },
     "metadata": {},
     "output_type": "display_data"
    },
    {
     "data": {
      "text/html": [
       "<span style=\"color:#4527A0\"><h1 style=\"font-size:18px\">Trial summary</h1></span>"
      ],
      "text/plain": [
       "<IPython.core.display.HTML object>"
      ]
     },
     "metadata": {},
     "output_type": "display_data"
    },
    {
     "data": {
      "text/html": [
       "<span style=\"color:cyan\"> |-Trial ID: 68eb01125e5e4ce094b873f56a8579df</span>"
      ],
      "text/plain": [
       "<IPython.core.display.HTML object>"
      ]
     },
     "metadata": {},
     "output_type": "display_data"
    },
    {
     "data": {
      "text/html": [
       "<span style=\"color:cyan\"> |-Score: 0.8208914399147034</span>"
      ],
      "text/plain": [
       "<IPython.core.display.HTML object>"
      ]
     },
     "metadata": {},
     "output_type": "display_data"
    },
    {
     "data": {
      "text/html": [
       "<span style=\"color:cyan\"> |-Best step: 0</span>"
      ],
      "text/plain": [
       "<IPython.core.display.HTML object>"
      ]
     },
     "metadata": {},
     "output_type": "display_data"
    },
    {
     "data": {
      "text/html": [
       "<span style=\"color:#7E57C2\"><h2 style=\"font-size:16px\">Hyperparameters:</h2></span>"
      ],
      "text/plain": [
       "<IPython.core.display.HTML object>"
      ]
     },
     "metadata": {},
     "output_type": "display_data"
    },
    {
     "data": {
      "text/html": [
       "<span style=\"color:cyan\"> |-conv_1: 16</span>"
      ],
      "text/plain": [
       "<IPython.core.display.HTML object>"
      ]
     },
     "metadata": {},
     "output_type": "display_data"
    },
    {
     "data": {
      "text/html": [
       "<span style=\"color:blue\"> |-conv_2: 32</span>"
      ],
      "text/plain": [
       "<IPython.core.display.HTML object>"
      ]
     },
     "metadata": {},
     "output_type": "display_data"
    },
    {
     "data": {
      "text/html": [
       "<span style=\"color:cyan\"> |-conv_3: 64</span>"
      ],
      "text/plain": [
       "<IPython.core.display.HTML object>"
      ]
     },
     "metadata": {},
     "output_type": "display_data"
    },
    {
     "data": {
      "text/html": [
       "<span style=\"color:blue\"> |-dropout_1: 0.4</span>"
      ],
      "text/plain": [
       "<IPython.core.display.HTML object>"
      ]
     },
     "metadata": {},
     "output_type": "display_data"
    },
    {
     "data": {
      "text/html": [
       "<span style=\"color:cyan\"> |-dropout_2: 0.5</span>"
      ],
      "text/plain": [
       "<IPython.core.display.HTML object>"
      ]
     },
     "metadata": {},
     "output_type": "display_data"
    },
    {
     "data": {
      "text/html": [
       "<span style=\"color:blue\"> |-dropout_3: 0.30000000000000004</span>"
      ],
      "text/plain": [
       "<IPython.core.display.HTML object>"
      ]
     },
     "metadata": {},
     "output_type": "display_data"
    },
    {
     "data": {
      "text/html": [
       "<span style=\"color:cyan\"> |-dropout_4: 0.0</span>"
      ],
      "text/plain": [
       "<IPython.core.display.HTML object>"
      ]
     },
     "metadata": {},
     "output_type": "display_data"
    },
    {
     "data": {
      "text/html": [
       "<span style=\"color:blue\"> |-units: 896</span>"
      ],
      "text/plain": [
       "<IPython.core.display.HTML object>"
      ]
     },
     "metadata": {},
     "output_type": "display_data"
    },
    {
     "name": "stdout",
     "output_type": "stream",
     "text": [
      "WARNING:tensorflow:sample_weight modes were coerced from\n",
      "  ...\n",
      "    to  \n",
      "  ['...']\n",
      "WARNING:tensorflow:sample_weight modes were coerced from\n",
      "  ...\n",
      "    to  \n",
      "  ['...']\n",
      "Train for 400 steps, validate for 171 steps\n",
      "Epoch 1/50\n",
      "400/400 - 22s - loss: 1.4601 - accuracy: 0.7180 - val_loss: 0.5208 - val_accuracy: 0.7809\n",
      "Epoch 2/50\n",
      "400/400 - 21s - loss: 0.4671 - accuracy: 0.7766 - val_loss: 0.4718 - val_accuracy: 0.7896\n",
      "Epoch 3/50\n",
      "400/400 - 21s - loss: 0.4506 - accuracy: 0.7829 - val_loss: 0.4542 - val_accuracy: 0.7842\n",
      "Epoch 4/50\n",
      "400/400 - 21s - loss: 0.4297 - accuracy: 0.7941 - val_loss: 0.4293 - val_accuracy: 0.7954\n",
      "Epoch 5/50\n",
      "400/400 - 21s - loss: 0.4078 - accuracy: 0.8082 - val_loss: 0.4081 - val_accuracy: 0.8307\n",
      "Epoch 6/50\n",
      "400/400 - 21s - loss: 0.3890 - accuracy: 0.8174 - val_loss: 0.3948 - val_accuracy: 0.8295\n",
      "Epoch 7/50\n",
      "400/400 - 21s - loss: 0.3718 - accuracy: 0.8276 - val_loss: 0.3532 - val_accuracy: 0.8525\n",
      "Epoch 8/50\n",
      "400/400 - 21s - loss: 0.3587 - accuracy: 0.8348 - val_loss: 0.3599 - val_accuracy: 0.8539\n",
      "Epoch 9/50\n",
      "400/400 - 21s - loss: 0.3460 - accuracy: 0.8408 - val_loss: 0.3270 - val_accuracy: 0.8628\n",
      "Epoch 10/50\n",
      "400/400 - 21s - loss: 0.3344 - accuracy: 0.8483 - val_loss: 0.3460 - val_accuracy: 0.8603\n",
      "Epoch 11/50\n",
      "400/400 - 21s - loss: 0.3256 - accuracy: 0.8537 - val_loss: 0.3364 - val_accuracy: 0.8660\n",
      "Epoch 12/50\n",
      "400/400 - 21s - loss: 0.3203 - accuracy: 0.8578 - val_loss: 0.3182 - val_accuracy: 0.8731\n",
      "Epoch 13/50\n",
      "400/400 - 21s - loss: 0.3087 - accuracy: 0.8632 - val_loss: 0.3017 - val_accuracy: 0.8789\n",
      "Epoch 14/50\n",
      "400/400 - 21s - loss: 0.3030 - accuracy: 0.8669 - val_loss: 0.3303 - val_accuracy: 0.8700\n",
      "Epoch 15/50\n",
      "400/400 - 21s - loss: 0.2938 - accuracy: 0.8705 - val_loss: 0.2862 - val_accuracy: 0.8816\n",
      "Epoch 16/50\n",
      "400/400 - 21s - loss: 0.2865 - accuracy: 0.8740 - val_loss: 0.2844 - val_accuracy: 0.8866\n",
      "Epoch 17/50\n",
      "400/400 - 21s - loss: 0.2804 - accuracy: 0.8778 - val_loss: 0.3619 - val_accuracy: 0.8736\n",
      "Epoch 18/50\n",
      "400/400 - 21s - loss: 0.2731 - accuracy: 0.8814 - val_loss: 0.2814 - val_accuracy: 0.8832\n",
      "Epoch 19/50\n",
      "400/400 - 21s - loss: 0.2681 - accuracy: 0.8846 - val_loss: 0.2737 - val_accuracy: 0.8906\n",
      "Epoch 20/50\n",
      "400/400 - 21s - loss: 0.2579 - accuracy: 0.8894 - val_loss: 0.2800 - val_accuracy: 0.8895\n",
      "Epoch 21/50\n",
      "400/400 - 21s - loss: 0.2596 - accuracy: 0.8884 - val_loss: 0.3265 - val_accuracy: 0.8837\n",
      "Epoch 22/50\n",
      "400/400 - 21s - loss: 0.2483 - accuracy: 0.8925 - val_loss: 0.2962 - val_accuracy: 0.8877\n",
      "Epoch 23/50\n",
      "400/400 - 21s - loss: 0.2407 - accuracy: 0.8977 - val_loss: 0.2912 - val_accuracy: 0.8926\n",
      "Epoch 24/50\n",
      "400/400 - 21s - loss: 0.2448 - accuracy: 0.8963 - val_loss: 0.2959 - val_accuracy: 0.8918\n",
      "Epoch 25/50\n",
      "400/400 - 21s - loss: 0.2387 - accuracy: 0.8983 - val_loss: 0.3015 - val_accuracy: 0.8865\n",
      "Epoch 26/50\n",
      "400/400 - 21s - loss: 0.2262 - accuracy: 0.9045 - val_loss: 0.2803 - val_accuracy: 0.8879\n",
      "Epoch 27/50\n",
      "400/400 - 21s - loss: 0.2189 - accuracy: 0.9083 - val_loss: 0.2703 - val_accuracy: 0.8892\n",
      "Epoch 28/50\n",
      "400/400 - 21s - loss: 0.2093 - accuracy: 0.9125 - val_loss: 0.2971 - val_accuracy: 0.8947\n",
      "Epoch 29/50\n",
      "400/400 - 21s - loss: 0.2085 - accuracy: 0.9138 - val_loss: 0.3098 - val_accuracy: 0.8852\n",
      "Epoch 30/50\n",
      "400/400 - 21s - loss: 0.1984 - accuracy: 0.9181 - val_loss: 0.3154 - val_accuracy: 0.8882\n",
      "Epoch 31/50\n",
      "400/400 - 21s - loss: 0.1983 - accuracy: 0.9163 - val_loss: 0.3301 - val_accuracy: 0.8910\n",
      "Epoch 32/50\n",
      "400/400 - 21s - loss: 0.2009 - accuracy: 0.9170 - val_loss: 0.3084 - val_accuracy: 0.8919\n",
      "Epoch 33/50\n",
      "400/400 - 21s - loss: 0.1887 - accuracy: 0.9219 - val_loss: 0.3075 - val_accuracy: 0.8866\n"
     ]
    },
    {
     "data": {
      "text/html": [
       "<span style=\"color:#4527A0\"><h1 style=\"font-size:18px\">Trial complete</h1></span>"
      ],
      "text/plain": [
       "<IPython.core.display.HTML object>"
      ]
     },
     "metadata": {},
     "output_type": "display_data"
    },
    {
     "data": {
      "text/html": [
       "<span style=\"color:#4527A0\"><h1 style=\"font-size:18px\">Trial summary</h1></span>"
      ],
      "text/plain": [
       "<IPython.core.display.HTML object>"
      ]
     },
     "metadata": {},
     "output_type": "display_data"
    },
    {
     "data": {
      "text/html": [
       "<span style=\"color:cyan\"> |-Trial ID: 05b2a7c75e6a1edaca3842463c563616</span>"
      ],
      "text/plain": [
       "<IPython.core.display.HTML object>"
      ]
     },
     "metadata": {},
     "output_type": "display_data"
    },
    {
     "data": {
      "text/html": [
       "<span style=\"color:cyan\"> |-Score: 0.8947368264198303</span>"
      ],
      "text/plain": [
       "<IPython.core.display.HTML object>"
      ]
     },
     "metadata": {},
     "output_type": "display_data"
    },
    {
     "data": {
      "text/html": [
       "<span style=\"color:cyan\"> |-Best step: 0</span>"
      ],
      "text/plain": [
       "<IPython.core.display.HTML object>"
      ]
     },
     "metadata": {},
     "output_type": "display_data"
    },
    {
     "data": {
      "text/html": [
       "<span style=\"color:#7E57C2\"><h2 style=\"font-size:16px\">Hyperparameters:</h2></span>"
      ],
      "text/plain": [
       "<IPython.core.display.HTML object>"
      ]
     },
     "metadata": {},
     "output_type": "display_data"
    },
    {
     "data": {
      "text/html": [
       "<span style=\"color:cyan\"> |-conv_1: 16</span>"
      ],
      "text/plain": [
       "<IPython.core.display.HTML object>"
      ]
     },
     "metadata": {},
     "output_type": "display_data"
    },
    {
     "data": {
      "text/html": [
       "<span style=\"color:blue\"> |-conv_2: 64</span>"
      ],
      "text/plain": [
       "<IPython.core.display.HTML object>"
      ]
     },
     "metadata": {},
     "output_type": "display_data"
    },
    {
     "data": {
      "text/html": [
       "<span style=\"color:cyan\"> |-conv_3: 128</span>"
      ],
      "text/plain": [
       "<IPython.core.display.HTML object>"
      ]
     },
     "metadata": {},
     "output_type": "display_data"
    },
    {
     "data": {
      "text/html": [
       "<span style=\"color:blue\"> |-dropout_1: 0.30000000000000004</span>"
      ],
      "text/plain": [
       "<IPython.core.display.HTML object>"
      ]
     },
     "metadata": {},
     "output_type": "display_data"
    },
    {
     "data": {
      "text/html": [
       "<span style=\"color:cyan\"> |-dropout_2: 0.1</span>"
      ],
      "text/plain": [
       "<IPython.core.display.HTML object>"
      ]
     },
     "metadata": {},
     "output_type": "display_data"
    },
    {
     "data": {
      "text/html": [
       "<span style=\"color:blue\"> |-dropout_3: 0.4</span>"
      ],
      "text/plain": [
       "<IPython.core.display.HTML object>"
      ]
     },
     "metadata": {},
     "output_type": "display_data"
    },
    {
     "data": {
      "text/html": [
       "<span style=\"color:cyan\"> |-dropout_4: 0.2</span>"
      ],
      "text/plain": [
       "<IPython.core.display.HTML object>"
      ]
     },
     "metadata": {},
     "output_type": "display_data"
    },
    {
     "data": {
      "text/html": [
       "<span style=\"color:blue\"> |-units: 768</span>"
      ],
      "text/plain": [
       "<IPython.core.display.HTML object>"
      ]
     },
     "metadata": {},
     "output_type": "display_data"
    },
    {
     "name": "stdout",
     "output_type": "stream",
     "text": [
      "WARNING:tensorflow:sample_weight modes were coerced from\n",
      "  ...\n",
      "    to  \n",
      "  ['...']\n",
      "WARNING:tensorflow:sample_weight modes were coerced from\n",
      "  ...\n",
      "    to  \n",
      "  ['...']\n",
      "Train for 400 steps, validate for 171 steps\n",
      "Epoch 1/50\n",
      "400/400 - 22s - loss: 1.3768 - accuracy: 0.6920 - val_loss: 0.5659 - val_accuracy: 0.7509\n",
      "Epoch 2/50\n",
      "400/400 - 21s - loss: 0.4878 - accuracy: 0.7460 - val_loss: 0.4819 - val_accuracy: 0.7886\n",
      "Epoch 3/50\n",
      "400/400 - 21s - loss: 0.4687 - accuracy: 0.7562 - val_loss: 0.4407 - val_accuracy: 0.7918\n",
      "Epoch 4/50\n",
      "400/400 - 21s - loss: 0.4525 - accuracy: 0.7641 - val_loss: 0.4236 - val_accuracy: 0.8057\n",
      "Epoch 5/50\n",
      "400/400 - 21s - loss: 0.4403 - accuracy: 0.7758 - val_loss: 0.4062 - val_accuracy: 0.8159\n",
      "Epoch 6/50\n",
      "400/400 - 21s - loss: 0.4214 - accuracy: 0.7984 - val_loss: 0.4126 - val_accuracy: 0.8269\n",
      "Epoch 7/50\n",
      "400/400 - 21s - loss: 0.4054 - accuracy: 0.8065 - val_loss: 0.3799 - val_accuracy: 0.8335\n",
      "Epoch 8/50\n",
      "400/400 - 21s - loss: 0.3908 - accuracy: 0.8170 - val_loss: 0.3653 - val_accuracy: 0.8357\n",
      "Epoch 9/50\n",
      "400/400 - 21s - loss: 0.3749 - accuracy: 0.8266 - val_loss: 0.3448 - val_accuracy: 0.8444\n",
      "Epoch 10/50\n",
      "400/400 - 21s - loss: 0.3633 - accuracy: 0.8338 - val_loss: 0.3270 - val_accuracy: 0.8603\n",
      "Epoch 11/50\n",
      "400/400 - 21s - loss: 0.3533 - accuracy: 0.8388 - val_loss: 0.3223 - val_accuracy: 0.8517\n",
      "Epoch 12/50\n",
      "400/400 - 21s - loss: 0.3356 - accuracy: 0.8471 - val_loss: 0.3128 - val_accuracy: 0.8621\n",
      "Epoch 13/50\n",
      "400/400 - 21s - loss: 0.3286 - accuracy: 0.8513 - val_loss: 0.3022 - val_accuracy: 0.8575\n",
      "Epoch 14/50\n",
      "400/400 - 21s - loss: 0.3264 - accuracy: 0.8540 - val_loss: 0.3105 - val_accuracy: 0.8548\n",
      "Epoch 15/50\n",
      "400/400 - 21s - loss: 0.3092 - accuracy: 0.8625 - val_loss: 0.3000 - val_accuracy: 0.8481\n",
      "Epoch 16/50\n",
      "400/400 - 21s - loss: 0.3056 - accuracy: 0.8630 - val_loss: 0.2831 - val_accuracy: 0.8735\n",
      "Epoch 17/50\n",
      "400/400 - 21s - loss: 0.2972 - accuracy: 0.8688 - val_loss: 0.2816 - val_accuracy: 0.8798\n",
      "Epoch 18/50\n",
      "400/400 - 21s - loss: 0.2898 - accuracy: 0.8724 - val_loss: 0.2810 - val_accuracy: 0.8732\n",
      "Epoch 19/50\n",
      "400/400 - 21s - loss: 0.2819 - accuracy: 0.8769 - val_loss: 0.2713 - val_accuracy: 0.8896\n",
      "Epoch 20/50\n",
      "400/400 - 21s - loss: 0.2734 - accuracy: 0.8830 - val_loss: 0.2528 - val_accuracy: 0.8882\n",
      "Epoch 21/50\n",
      "400/400 - 21s - loss: 0.2697 - accuracy: 0.8850 - val_loss: 0.2733 - val_accuracy: 0.8866\n",
      "Epoch 22/50\n",
      "400/400 - 21s - loss: 0.2649 - accuracy: 0.8848 - val_loss: 0.2527 - val_accuracy: 0.8994\n",
      "Epoch 23/50\n",
      "400/400 - 21s - loss: 0.2609 - accuracy: 0.8885 - val_loss: 0.2557 - val_accuracy: 0.8928\n",
      "Epoch 24/50\n",
      "400/400 - 21s - loss: 0.2559 - accuracy: 0.8926 - val_loss: 0.2969 - val_accuracy: 0.8827\n",
      "Epoch 25/50\n",
      "400/400 - 21s - loss: 0.2547 - accuracy: 0.8899 - val_loss: 0.2793 - val_accuracy: 0.8899\n",
      "Epoch 26/50\n",
      "400/400 - 21s - loss: 0.2459 - accuracy: 0.8962 - val_loss: 0.2716 - val_accuracy: 0.8944\n",
      "Epoch 27/50\n",
      "400/400 - 21s - loss: 0.2423 - accuracy: 0.8968 - val_loss: 0.2584 - val_accuracy: 0.9001\n",
      "Epoch 28/50\n",
      "400/400 - 21s - loss: 0.2374 - accuracy: 0.8993 - val_loss: 0.2565 - val_accuracy: 0.8959\n",
      "Epoch 29/50\n",
      "400/400 - 21s - loss: 0.2369 - accuracy: 0.8978 - val_loss: 0.2612 - val_accuracy: 0.8980\n",
      "Epoch 30/50\n",
      "400/400 - 21s - loss: 0.2316 - accuracy: 0.9030 - val_loss: 0.2440 - val_accuracy: 0.8971\n",
      "Epoch 31/50\n",
      "400/400 - 21s - loss: 0.2300 - accuracy: 0.9029 - val_loss: 0.2684 - val_accuracy: 0.9025\n",
      "Epoch 32/50\n",
      "400/400 - 21s - loss: 0.2263 - accuracy: 0.9029 - val_loss: 0.2555 - val_accuracy: 0.9070\n",
      "Epoch 33/50\n",
      "400/400 - 21s - loss: 0.2171 - accuracy: 0.9099 - val_loss: 0.2557 - val_accuracy: 0.9040\n",
      "Epoch 34/50\n",
      "400/400 - 21s - loss: 0.2232 - accuracy: 0.9064 - val_loss: 0.2469 - val_accuracy: 0.9034\n",
      "Epoch 35/50\n",
      "400/400 - 21s - loss: 0.2183 - accuracy: 0.9087 - val_loss: 0.2538 - val_accuracy: 0.8877\n",
      "Epoch 36/50\n",
      "400/400 - 21s - loss: 0.2131 - accuracy: 0.9104 - val_loss: 0.2400 - val_accuracy: 0.9106\n",
      "Epoch 37/50\n",
      "400/400 - 21s - loss: 0.2158 - accuracy: 0.9103 - val_loss: 0.2848 - val_accuracy: 0.8949\n",
      "Epoch 38/50\n",
      "400/400 - 21s - loss: 0.2116 - accuracy: 0.9130 - val_loss: 0.2395 - val_accuracy: 0.9113\n",
      "Epoch 39/50\n",
      "400/400 - 21s - loss: 0.2106 - accuracy: 0.9130 - val_loss: 0.2319 - val_accuracy: 0.9123\n",
      "Epoch 40/50\n",
      "400/400 - 21s - loss: 0.2085 - accuracy: 0.9134 - val_loss: 0.2379 - val_accuracy: 0.9131\n",
      "Epoch 41/50\n",
      "400/400 - 21s - loss: 0.2026 - accuracy: 0.9175 - val_loss: 0.2463 - val_accuracy: 0.9057\n",
      "Epoch 42/50\n",
      "400/400 - 21s - loss: 0.1983 - accuracy: 0.9184 - val_loss: 0.2579 - val_accuracy: 0.9057\n",
      "Epoch 43/50\n",
      "400/400 - 21s - loss: 0.1918 - accuracy: 0.9206 - val_loss: 0.2451 - val_accuracy: 0.8996\n",
      "Epoch 44/50\n",
      "400/400 - 21s - loss: 0.1934 - accuracy: 0.9197 - val_loss: 0.2335 - val_accuracy: 0.9109\n",
      "Epoch 45/50\n",
      "400/400 - 21s - loss: 0.1910 - accuracy: 0.9219 - val_loss: 0.2537 - val_accuracy: 0.9003\n"
     ]
    },
    {
     "data": {
      "text/html": [
       "<span style=\"color:#4527A0\"><h1 style=\"font-size:18px\">Trial complete</h1></span>"
      ],
      "text/plain": [
       "<IPython.core.display.HTML object>"
      ]
     },
     "metadata": {},
     "output_type": "display_data"
    },
    {
     "data": {
      "text/html": [
       "<span style=\"color:#4527A0\"><h1 style=\"font-size:18px\">Trial summary</h1></span>"
      ],
      "text/plain": [
       "<IPython.core.display.HTML object>"
      ]
     },
     "metadata": {},
     "output_type": "display_data"
    },
    {
     "data": {
      "text/html": [
       "<span style=\"color:cyan\"> |-Trial ID: 98882507f2441a26bb00f3afcbbe299e</span>"
      ],
      "text/plain": [
       "<IPython.core.display.HTML object>"
      ]
     },
     "metadata": {},
     "output_type": "display_data"
    },
    {
     "data": {
      "text/html": [
       "<span style=\"color:cyan\"> |-Score: 0.9131428599357605</span>"
      ],
      "text/plain": [
       "<IPython.core.display.HTML object>"
      ]
     },
     "metadata": {},
     "output_type": "display_data"
    },
    {
     "data": {
      "text/html": [
       "<span style=\"color:cyan\"> |-Best step: 0</span>"
      ],
      "text/plain": [
       "<IPython.core.display.HTML object>"
      ]
     },
     "metadata": {},
     "output_type": "display_data"
    },
    {
     "data": {
      "text/html": [
       "<span style=\"color:#7E57C2\"><h2 style=\"font-size:16px\">Hyperparameters:</h2></span>"
      ],
      "text/plain": [
       "<IPython.core.display.HTML object>"
      ]
     },
     "metadata": {},
     "output_type": "display_data"
    },
    {
     "data": {
      "text/html": [
       "<span style=\"color:cyan\"> |-conv_1: 32</span>"
      ],
      "text/plain": [
       "<IPython.core.display.HTML object>"
      ]
     },
     "metadata": {},
     "output_type": "display_data"
    },
    {
     "data": {
      "text/html": [
       "<span style=\"color:blue\"> |-conv_2: 32</span>"
      ],
      "text/plain": [
       "<IPython.core.display.HTML object>"
      ]
     },
     "metadata": {},
     "output_type": "display_data"
    },
    {
     "data": {
      "text/html": [
       "<span style=\"color:cyan\"> |-conv_3: 128</span>"
      ],
      "text/plain": [
       "<IPython.core.display.HTML object>"
      ]
     },
     "metadata": {},
     "output_type": "display_data"
    },
    {
     "data": {
      "text/html": [
       "<span style=\"color:blue\"> |-dropout_1: 0.2</span>"
      ],
      "text/plain": [
       "<IPython.core.display.HTML object>"
      ]
     },
     "metadata": {},
     "output_type": "display_data"
    },
    {
     "data": {
      "text/html": [
       "<span style=\"color:cyan\"> |-dropout_2: 0.2</span>"
      ],
      "text/plain": [
       "<IPython.core.display.HTML object>"
      ]
     },
     "metadata": {},
     "output_type": "display_data"
    },
    {
     "data": {
      "text/html": [
       "<span style=\"color:blue\"> |-dropout_3: 0.4</span>"
      ],
      "text/plain": [
       "<IPython.core.display.HTML object>"
      ]
     },
     "metadata": {},
     "output_type": "display_data"
    },
    {
     "data": {
      "text/html": [
       "<span style=\"color:cyan\"> |-dropout_4: 0.30000000000000004</span>"
      ],
      "text/plain": [
       "<IPython.core.display.HTML object>"
      ]
     },
     "metadata": {},
     "output_type": "display_data"
    },
    {
     "data": {
      "text/html": [
       "<span style=\"color:blue\"> |-units: 384</span>"
      ],
      "text/plain": [
       "<IPython.core.display.HTML object>"
      ]
     },
     "metadata": {},
     "output_type": "display_data"
    },
    {
     "name": "stdout",
     "output_type": "stream",
     "text": [
      "WARNING:tensorflow:sample_weight modes were coerced from\n",
      "  ...\n",
      "    to  \n",
      "  ['...']\n",
      "WARNING:tensorflow:sample_weight modes were coerced from\n",
      "  ...\n",
      "    to  \n",
      "  ['...']\n",
      "Train for 400 steps, validate for 171 steps\n",
      "Epoch 1/50\n",
      "400/400 - 22s - loss: 2.1283 - accuracy: 0.7020 - val_loss: 0.5114 - val_accuracy: 0.7576\n",
      "Epoch 2/50\n",
      "400/400 - 21s - loss: 0.4734 - accuracy: 0.7675 - val_loss: 0.5178 - val_accuracy: 0.7823\n",
      "Epoch 3/50\n",
      "400/400 - 21s - loss: 0.4480 - accuracy: 0.7828 - val_loss: 0.4393 - val_accuracy: 0.7970\n",
      "Epoch 4/50\n",
      "400/400 - 21s - loss: 0.4347 - accuracy: 0.7910 - val_loss: 0.4323 - val_accuracy: 0.7797\n",
      "Epoch 5/50\n",
      "400/400 - 21s - loss: 0.4179 - accuracy: 0.8013 - val_loss: 0.4000 - val_accuracy: 0.8175\n",
      "Epoch 6/50\n",
      "400/400 - 21s - loss: 0.4026 - accuracy: 0.8104 - val_loss: 0.3816 - val_accuracy: 0.8255\n",
      "Epoch 7/50\n",
      "400/400 - 21s - loss: 0.3877 - accuracy: 0.8183 - val_loss: 0.3813 - val_accuracy: 0.8373\n",
      "Epoch 8/50\n",
      "400/400 - 21s - loss: 0.3745 - accuracy: 0.8267 - val_loss: 0.3656 - val_accuracy: 0.8481\n",
      "Epoch 9/50\n",
      "400/400 - 21s - loss: 0.3570 - accuracy: 0.8369 - val_loss: 0.3362 - val_accuracy: 0.8530\n",
      "Epoch 10/50\n",
      "400/400 - 21s - loss: 0.3488 - accuracy: 0.8420 - val_loss: 0.3265 - val_accuracy: 0.8690\n",
      "Epoch 11/50\n",
      "400/400 - 21s - loss: 0.3408 - accuracy: 0.8442 - val_loss: 0.3196 - val_accuracy: 0.8633\n",
      "Epoch 12/50\n",
      "400/400 - 21s - loss: 0.3240 - accuracy: 0.8554 - val_loss: 0.3136 - val_accuracy: 0.8740\n",
      "Epoch 13/50\n",
      "400/400 - 21s - loss: 0.3105 - accuracy: 0.8616 - val_loss: 0.3083 - val_accuracy: 0.8757\n",
      "Epoch 14/50\n",
      "400/400 - 21s - loss: 0.3050 - accuracy: 0.8662 - val_loss: 0.3053 - val_accuracy: 0.8723\n",
      "Epoch 15/50\n",
      "400/400 - 21s - loss: 0.2978 - accuracy: 0.8694 - val_loss: 0.3066 - val_accuracy: 0.8720\n",
      "Epoch 16/50\n",
      "400/400 - 21s - loss: 0.2860 - accuracy: 0.8743 - val_loss: 0.2933 - val_accuracy: 0.8728\n",
      "Epoch 17/50\n",
      "400/400 - 21s - loss: 0.2807 - accuracy: 0.8768 - val_loss: 0.2852 - val_accuracy: 0.8701\n",
      "Epoch 18/50\n",
      "400/400 - 21s - loss: 0.2763 - accuracy: 0.8796 - val_loss: 0.3564 - val_accuracy: 0.8647\n"
     ]
    },
    {
     "data": {
      "text/html": [
       "<span style=\"color:#4527A0\"><h1 style=\"font-size:18px\">Trial complete</h1></span>"
      ],
      "text/plain": [
       "<IPython.core.display.HTML object>"
      ]
     },
     "metadata": {},
     "output_type": "display_data"
    },
    {
     "data": {
      "text/html": [
       "<span style=\"color:#4527A0\"><h1 style=\"font-size:18px\">Trial summary</h1></span>"
      ],
      "text/plain": [
       "<IPython.core.display.HTML object>"
      ]
     },
     "metadata": {},
     "output_type": "display_data"
    },
    {
     "data": {
      "text/html": [
       "<span style=\"color:cyan\"> |-Trial ID: 1d7b7912a23ba86da817e68ff8bcbacc</span>"
      ],
      "text/plain": [
       "<IPython.core.display.HTML object>"
      ]
     },
     "metadata": {},
     "output_type": "display_data"
    },
    {
     "data": {
      "text/html": [
       "<span style=\"color:cyan\"> |-Score: 0.8757485747337341</span>"
      ],
      "text/plain": [
       "<IPython.core.display.HTML object>"
      ]
     },
     "metadata": {},
     "output_type": "display_data"
    },
    {
     "data": {
      "text/html": [
       "<span style=\"color:cyan\"> |-Best step: 0</span>"
      ],
      "text/plain": [
       "<IPython.core.display.HTML object>"
      ]
     },
     "metadata": {},
     "output_type": "display_data"
    },
    {
     "data": {
      "text/html": [
       "<span style=\"color:#7E57C2\"><h2 style=\"font-size:16px\">Hyperparameters:</h2></span>"
      ],
      "text/plain": [
       "<IPython.core.display.HTML object>"
      ]
     },
     "metadata": {},
     "output_type": "display_data"
    },
    {
     "data": {
      "text/html": [
       "<span style=\"color:cyan\"> |-conv_1: 16</span>"
      ],
      "text/plain": [
       "<IPython.core.display.HTML object>"
      ]
     },
     "metadata": {},
     "output_type": "display_data"
    },
    {
     "data": {
      "text/html": [
       "<span style=\"color:blue\"> |-conv_2: 64</span>"
      ],
      "text/plain": [
       "<IPython.core.display.HTML object>"
      ]
     },
     "metadata": {},
     "output_type": "display_data"
    },
    {
     "data": {
      "text/html": [
       "<span style=\"color:cyan\"> |-conv_3: 64</span>"
      ],
      "text/plain": [
       "<IPython.core.display.HTML object>"
      ]
     },
     "metadata": {},
     "output_type": "display_data"
    },
    {
     "data": {
      "text/html": [
       "<span style=\"color:blue\"> |-dropout_1: 0.2</span>"
      ],
      "text/plain": [
       "<IPython.core.display.HTML object>"
      ]
     },
     "metadata": {},
     "output_type": "display_data"
    },
    {
     "data": {
      "text/html": [
       "<span style=\"color:cyan\"> |-dropout_2: 0.30000000000000004</span>"
      ],
      "text/plain": [
       "<IPython.core.display.HTML object>"
      ]
     },
     "metadata": {},
     "output_type": "display_data"
    },
    {
     "data": {
      "text/html": [
       "<span style=\"color:blue\"> |-dropout_3: 0.0</span>"
      ],
      "text/plain": [
       "<IPython.core.display.HTML object>"
      ]
     },
     "metadata": {},
     "output_type": "display_data"
    },
    {
     "data": {
      "text/html": [
       "<span style=\"color:cyan\"> |-dropout_4: 0.30000000000000004</span>"
      ],
      "text/plain": [
       "<IPython.core.display.HTML object>"
      ]
     },
     "metadata": {},
     "output_type": "display_data"
    },
    {
     "data": {
      "text/html": [
       "<span style=\"color:blue\"> |-units: 640</span>"
      ],
      "text/plain": [
       "<IPython.core.display.HTML object>"
      ]
     },
     "metadata": {},
     "output_type": "display_data"
    },
    {
     "name": "stdout",
     "output_type": "stream",
     "text": [
      "WARNING:tensorflow:sample_weight modes were coerced from\n",
      "  ...\n",
      "    to  \n",
      "  ['...']\n",
      "WARNING:tensorflow:sample_weight modes were coerced from\n",
      "  ...\n",
      "    to  \n",
      "  ['...']\n",
      "Train for 400 steps, validate for 171 steps\n",
      "Epoch 1/50\n",
      "400/400 - 22s - loss: 1.3542 - accuracy: 0.7194 - val_loss: 0.5081 - val_accuracy: 0.7852\n",
      "Epoch 2/50\n",
      "400/400 - 21s - loss: 0.4722 - accuracy: 0.7718 - val_loss: 0.4707 - val_accuracy: 0.7831\n",
      "Epoch 3/50\n",
      "400/400 - 21s - loss: 0.4578 - accuracy: 0.7788 - val_loss: 0.4546 - val_accuracy: 0.7893\n",
      "Epoch 4/50\n",
      "400/400 - 21s - loss: 0.4416 - accuracy: 0.7874 - val_loss: 0.4337 - val_accuracy: 0.8023\n",
      "Epoch 5/50\n",
      "400/400 - 21s - loss: 0.4236 - accuracy: 0.7998 - val_loss: 0.4271 - val_accuracy: 0.8063\n",
      "Epoch 6/50\n",
      "400/400 - 21s - loss: 0.4034 - accuracy: 0.8126 - val_loss: 0.3879 - val_accuracy: 0.8156\n",
      "Epoch 7/50\n",
      "400/400 - 21s - loss: 0.3836 - accuracy: 0.8257 - val_loss: 0.3898 - val_accuracy: 0.8450\n",
      "Epoch 8/50\n",
      "400/400 - 21s - loss: 0.3598 - accuracy: 0.8375 - val_loss: 0.3610 - val_accuracy: 0.8210\n",
      "Epoch 9/50\n",
      "400/400 - 21s - loss: 0.3447 - accuracy: 0.8448 - val_loss: 0.3444 - val_accuracy: 0.8576\n",
      "Epoch 10/50\n",
      "400/400 - 21s - loss: 0.3295 - accuracy: 0.8546 - val_loss: 0.3421 - val_accuracy: 0.8496\n",
      "Epoch 11/50\n",
      "400/400 - 21s - loss: 0.3151 - accuracy: 0.8615 - val_loss: 0.3287 - val_accuracy: 0.8672\n",
      "Epoch 12/50\n",
      "400/400 - 21s - loss: 0.3029 - accuracy: 0.8665 - val_loss: 0.3482 - val_accuracy: 0.8715\n",
      "Epoch 13/50\n",
      "400/400 - 21s - loss: 0.2981 - accuracy: 0.8702 - val_loss: 0.3418 - val_accuracy: 0.8713\n",
      "Epoch 14/50\n",
      "400/400 - 21s - loss: 0.2925 - accuracy: 0.8723 - val_loss: 0.3122 - val_accuracy: 0.8820\n",
      "Epoch 15/50\n",
      "400/400 - 21s - loss: 0.2757 - accuracy: 0.8815 - val_loss: 0.3576 - val_accuracy: 0.8693\n",
      "Epoch 16/50\n",
      "400/400 - 21s - loss: 0.2787 - accuracy: 0.8790 - val_loss: 0.3236 - val_accuracy: 0.8795\n",
      "Epoch 17/50\n",
      "400/400 - 21s - loss: 0.2635 - accuracy: 0.8872 - val_loss: 0.3533 - val_accuracy: 0.8628\n",
      "Epoch 18/50\n",
      "400/400 - 21s - loss: 0.2548 - accuracy: 0.8919 - val_loss: 0.3436 - val_accuracy: 0.8712\n",
      "Epoch 19/50\n",
      "400/400 - 21s - loss: 0.2507 - accuracy: 0.8936 - val_loss: 0.3518 - val_accuracy: 0.8669\n"
     ]
    },
    {
     "data": {
      "text/html": [
       "<span style=\"color:#4527A0\"><h1 style=\"font-size:18px\">Trial complete</h1></span>"
      ],
      "text/plain": [
       "<IPython.core.display.HTML object>"
      ]
     },
     "metadata": {},
     "output_type": "display_data"
    },
    {
     "data": {
      "text/html": [
       "<span style=\"color:#4527A0\"><h1 style=\"font-size:18px\">Trial summary</h1></span>"
      ],
      "text/plain": [
       "<IPython.core.display.HTML object>"
      ]
     },
     "metadata": {},
     "output_type": "display_data"
    },
    {
     "data": {
      "text/html": [
       "<span style=\"color:cyan\"> |-Trial ID: 5f12eeb21caa02e3721f18b54c7af571</span>"
      ],
      "text/plain": [
       "<IPython.core.display.HTML object>"
      ]
     },
     "metadata": {},
     "output_type": "display_data"
    },
    {
     "data": {
      "text/html": [
       "<span style=\"color:cyan\"> |-Score: 0.881965696811676</span>"
      ],
      "text/plain": [
       "<IPython.core.display.HTML object>"
      ]
     },
     "metadata": {},
     "output_type": "display_data"
    },
    {
     "data": {
      "text/html": [
       "<span style=\"color:cyan\"> |-Best step: 0</span>"
      ],
      "text/plain": [
       "<IPython.core.display.HTML object>"
      ]
     },
     "metadata": {},
     "output_type": "display_data"
    },
    {
     "data": {
      "text/html": [
       "<span style=\"color:#7E57C2\"><h2 style=\"font-size:16px\">Hyperparameters:</h2></span>"
      ],
      "text/plain": [
       "<IPython.core.display.HTML object>"
      ]
     },
     "metadata": {},
     "output_type": "display_data"
    },
    {
     "data": {
      "text/html": [
       "<span style=\"color:cyan\"> |-conv_1: 16</span>"
      ],
      "text/plain": [
       "<IPython.core.display.HTML object>"
      ]
     },
     "metadata": {},
     "output_type": "display_data"
    },
    {
     "data": {
      "text/html": [
       "<span style=\"color:blue\"> |-conv_2: 64</span>"
      ],
      "text/plain": [
       "<IPython.core.display.HTML object>"
      ]
     },
     "metadata": {},
     "output_type": "display_data"
    },
    {
     "data": {
      "text/html": [
       "<span style=\"color:cyan\"> |-conv_3: 64</span>"
      ],
      "text/plain": [
       "<IPython.core.display.HTML object>"
      ]
     },
     "metadata": {},
     "output_type": "display_data"
    },
    {
     "data": {
      "text/html": [
       "<span style=\"color:blue\"> |-dropout_1: 0.2</span>"
      ],
      "text/plain": [
       "<IPython.core.display.HTML object>"
      ]
     },
     "metadata": {},
     "output_type": "display_data"
    },
    {
     "data": {
      "text/html": [
       "<span style=\"color:cyan\"> |-dropout_2: 0.2</span>"
      ],
      "text/plain": [
       "<IPython.core.display.HTML object>"
      ]
     },
     "metadata": {},
     "output_type": "display_data"
    },
    {
     "data": {
      "text/html": [
       "<span style=\"color:blue\"> |-dropout_3: 0.0</span>"
      ],
      "text/plain": [
       "<IPython.core.display.HTML object>"
      ]
     },
     "metadata": {},
     "output_type": "display_data"
    },
    {
     "data": {
      "text/html": [
       "<span style=\"color:cyan\"> |-dropout_4: 0.0</span>"
      ],
      "text/plain": [
       "<IPython.core.display.HTML object>"
      ]
     },
     "metadata": {},
     "output_type": "display_data"
    },
    {
     "data": {
      "text/html": [
       "<span style=\"color:blue\"> |-units: 128</span>"
      ],
      "text/plain": [
       "<IPython.core.display.HTML object>"
      ]
     },
     "metadata": {},
     "output_type": "display_data"
    },
    {
     "name": "stdout",
     "output_type": "stream",
     "text": [
      "WARNING:tensorflow:sample_weight modes were coerced from\n",
      "  ...\n",
      "    to  \n",
      "  ['...']\n",
      "WARNING:tensorflow:sample_weight modes were coerced from\n",
      "  ...\n",
      "    to  \n",
      "  ['...']\n",
      "Train for 400 steps, validate for 171 steps\n",
      "Epoch 1/50\n",
      "400/400 - 22s - loss: 2.0743 - accuracy: 0.7335 - val_loss: 0.5690 - val_accuracy: 0.6597\n",
      "Epoch 2/50\n",
      "400/400 - 21s - loss: 0.4678 - accuracy: 0.7725 - val_loss: 0.4972 - val_accuracy: 0.7754\n",
      "Epoch 3/50\n",
      "400/400 - 21s - loss: 0.4606 - accuracy: 0.7774 - val_loss: 0.4949 - val_accuracy: 0.7813\n",
      "Epoch 4/50\n",
      "400/400 - 21s - loss: 0.4512 - accuracy: 0.7819 - val_loss: 0.4870 - val_accuracy: 0.7901\n",
      "Epoch 5/50\n",
      "400/400 - 21s - loss: 0.4451 - accuracy: 0.7852 - val_loss: 0.4474 - val_accuracy: 0.8118\n",
      "Epoch 6/50\n",
      "400/400 - 21s - loss: 0.4342 - accuracy: 0.7910 - val_loss: 0.4235 - val_accuracy: 0.8171\n",
      "Epoch 7/50\n",
      "400/400 - 21s - loss: 0.4198 - accuracy: 0.7977 - val_loss: 0.4408 - val_accuracy: 0.8162\n",
      "Epoch 8/50\n",
      "400/400 - 21s - loss: 0.4052 - accuracy: 0.8032 - val_loss: 0.3941 - val_accuracy: 0.8238\n",
      "Epoch 9/50\n",
      "400/400 - 21s - loss: 0.3931 - accuracy: 0.8119 - val_loss: 0.3967 - val_accuracy: 0.8285\n",
      "Epoch 10/50\n",
      "400/400 - 21s - loss: 0.3796 - accuracy: 0.8204 - val_loss: 0.3730 - val_accuracy: 0.8325\n",
      "Epoch 11/50\n",
      "400/400 - 21s - loss: 0.3721 - accuracy: 0.8226 - val_loss: 0.3911 - val_accuracy: 0.8320\n",
      "Epoch 12/50\n",
      "400/400 - 21s - loss: 0.3625 - accuracy: 0.8301 - val_loss: 0.3771 - val_accuracy: 0.8334\n",
      "Epoch 13/50\n",
      "400/400 - 21s - loss: 0.3506 - accuracy: 0.8358 - val_loss: 0.3669 - val_accuracy: 0.8465\n",
      "Epoch 14/50\n",
      "400/400 - 21s - loss: 0.3385 - accuracy: 0.8434 - val_loss: 0.3752 - val_accuracy: 0.8248\n",
      "Epoch 15/50\n",
      "400/400 - 21s - loss: 0.3291 - accuracy: 0.8499 - val_loss: 0.3485 - val_accuracy: 0.8329\n",
      "Epoch 16/50\n",
      "400/400 - 21s - loss: 0.3255 - accuracy: 0.8512 - val_loss: 0.3504 - val_accuracy: 0.8506\n",
      "Epoch 17/50\n",
      "400/400 - 21s - loss: 0.3128 - accuracy: 0.8595 - val_loss: 0.3432 - val_accuracy: 0.8549\n",
      "Epoch 18/50\n",
      "400/400 - 21s - loss: 0.3042 - accuracy: 0.8650 - val_loss: 0.3637 - val_accuracy: 0.8524\n",
      "Epoch 19/50\n",
      "400/400 - 21s - loss: 0.2950 - accuracy: 0.8676 - val_loss: 0.3575 - val_accuracy: 0.8558\n",
      "Epoch 20/50\n",
      "400/400 - 21s - loss: 0.2786 - accuracy: 0.8778 - val_loss: 0.3629 - val_accuracy: 0.8526\n",
      "Epoch 21/50\n",
      "400/400 - 21s - loss: 0.2794 - accuracy: 0.8779 - val_loss: 0.3406 - val_accuracy: 0.8579\n",
      "Epoch 22/50\n",
      "400/400 - 21s - loss: 0.2735 - accuracy: 0.8807 - val_loss: 0.3536 - val_accuracy: 0.8535\n",
      "Epoch 23/50\n",
      "400/400 - 21s - loss: 0.2658 - accuracy: 0.8844 - val_loss: 0.3378 - val_accuracy: 0.8513\n",
      "Epoch 24/50\n",
      "400/400 - 21s - loss: 0.2528 - accuracy: 0.8918 - val_loss: 0.3688 - val_accuracy: 0.8328\n",
      "Epoch 25/50\n",
      "400/400 - 21s - loss: 0.2455 - accuracy: 0.8958 - val_loss: 0.3654 - val_accuracy: 0.8465\n",
      "Epoch 26/50\n",
      "400/400 - 21s - loss: 0.2385 - accuracy: 0.8997 - val_loss: 0.3822 - val_accuracy: 0.8449\n"
     ]
    },
    {
     "data": {
      "text/html": [
       "<span style=\"color:#4527A0\"><h1 style=\"font-size:18px\">Trial complete</h1></span>"
      ],
      "text/plain": [
       "<IPython.core.display.HTML object>"
      ]
     },
     "metadata": {},
     "output_type": "display_data"
    },
    {
     "data": {
      "text/html": [
       "<span style=\"color:#4527A0\"><h1 style=\"font-size:18px\">Trial summary</h1></span>"
      ],
      "text/plain": [
       "<IPython.core.display.HTML object>"
      ]
     },
     "metadata": {},
     "output_type": "display_data"
    },
    {
     "data": {
      "text/html": [
       "<span style=\"color:cyan\"> |-Trial ID: 00516ce3a2a6fd8fc24ce35fb928381b</span>"
      ],
      "text/plain": [
       "<IPython.core.display.HTML object>"
      ]
     },
     "metadata": {},
     "output_type": "display_data"
    },
    {
     "data": {
      "text/html": [
       "<span style=\"color:cyan\"> |-Score: 0.8579199910163879</span>"
      ],
      "text/plain": [
       "<IPython.core.display.HTML object>"
      ]
     },
     "metadata": {},
     "output_type": "display_data"
    },
    {
     "data": {
      "text/html": [
       "<span style=\"color:cyan\"> |-Best step: 0</span>"
      ],
      "text/plain": [
       "<IPython.core.display.HTML object>"
      ]
     },
     "metadata": {},
     "output_type": "display_data"
    },
    {
     "data": {
      "text/html": [
       "<span style=\"color:#7E57C2\"><h2 style=\"font-size:16px\">Hyperparameters:</h2></span>"
      ],
      "text/plain": [
       "<IPython.core.display.HTML object>"
      ]
     },
     "metadata": {},
     "output_type": "display_data"
    },
    {
     "data": {
      "text/html": [
       "<span style=\"color:cyan\"> |-conv_1: 32</span>"
      ],
      "text/plain": [
       "<IPython.core.display.HTML object>"
      ]
     },
     "metadata": {},
     "output_type": "display_data"
    },
    {
     "data": {
      "text/html": [
       "<span style=\"color:blue\"> |-conv_2: 32</span>"
      ],
      "text/plain": [
       "<IPython.core.display.HTML object>"
      ]
     },
     "metadata": {},
     "output_type": "display_data"
    },
    {
     "data": {
      "text/html": [
       "<span style=\"color:cyan\"> |-conv_3: 64</span>"
      ],
      "text/plain": [
       "<IPython.core.display.HTML object>"
      ]
     },
     "metadata": {},
     "output_type": "display_data"
    },
    {
     "data": {
      "text/html": [
       "<span style=\"color:blue\"> |-dropout_1: 0.30000000000000004</span>"
      ],
      "text/plain": [
       "<IPython.core.display.HTML object>"
      ]
     },
     "metadata": {},
     "output_type": "display_data"
    },
    {
     "data": {
      "text/html": [
       "<span style=\"color:cyan\"> |-dropout_2: 0.0</span>"
      ],
      "text/plain": [
       "<IPython.core.display.HTML object>"
      ]
     },
     "metadata": {},
     "output_type": "display_data"
    },
    {
     "data": {
      "text/html": [
       "<span style=\"color:blue\"> |-dropout_3: 0.30000000000000004</span>"
      ],
      "text/plain": [
       "<IPython.core.display.HTML object>"
      ]
     },
     "metadata": {},
     "output_type": "display_data"
    },
    {
     "data": {
      "text/html": [
       "<span style=\"color:cyan\"> |-dropout_4: 0.30000000000000004</span>"
      ],
      "text/plain": [
       "<IPython.core.display.HTML object>"
      ]
     },
     "metadata": {},
     "output_type": "display_data"
    },
    {
     "data": {
      "text/html": [
       "<span style=\"color:blue\"> |-units: 768</span>"
      ],
      "text/plain": [
       "<IPython.core.display.HTML object>"
      ]
     },
     "metadata": {},
     "output_type": "display_data"
    },
    {
     "name": "stdout",
     "output_type": "stream",
     "text": [
      "WARNING:tensorflow:sample_weight modes were coerced from\n",
      "  ...\n",
      "    to  \n",
      "  ['...']\n",
      "WARNING:tensorflow:sample_weight modes were coerced from\n",
      "  ...\n",
      "    to  \n",
      "  ['...']\n",
      "Train for 400 steps, validate for 171 steps\n",
      "Epoch 1/50\n",
      "400/400 - 22s - loss: 0.9146 - accuracy: 0.6821 - val_loss: 0.4715 - val_accuracy: 0.7877\n",
      "Epoch 2/50\n",
      "400/400 - 21s - loss: 0.4684 - accuracy: 0.7740 - val_loss: 0.4427 - val_accuracy: 0.7883\n",
      "Epoch 3/50\n",
      "400/400 - 21s - loss: 0.4541 - accuracy: 0.7815 - val_loss: 0.4334 - val_accuracy: 0.7852\n",
      "Epoch 4/50\n",
      "400/400 - 21s - loss: 0.4430 - accuracy: 0.7892 - val_loss: 0.4286 - val_accuracy: 0.7890\n",
      "Epoch 5/50\n",
      "400/400 - 21s - loss: 0.4354 - accuracy: 0.7945 - val_loss: 0.4110 - val_accuracy: 0.7924\n",
      "Epoch 6/50\n",
      "400/400 - 21s - loss: 0.4241 - accuracy: 0.8012 - val_loss: 0.4064 - val_accuracy: 0.7998\n",
      "Epoch 7/50\n",
      "400/400 - 21s - loss: 0.4037 - accuracy: 0.8121 - val_loss: 0.3806 - val_accuracy: 0.8217\n",
      "Epoch 8/50\n",
      "400/400 - 21s - loss: 0.3923 - accuracy: 0.8208 - val_loss: 0.3404 - val_accuracy: 0.8455\n",
      "Epoch 9/50\n",
      "400/400 - 21s - loss: 0.3667 - accuracy: 0.8339 - val_loss: 0.3231 - val_accuracy: 0.8533\n",
      "Epoch 10/50\n",
      "400/400 - 21s - loss: 0.3430 - accuracy: 0.8478 - val_loss: 0.3166 - val_accuracy: 0.8483\n",
      "Epoch 11/50\n",
      "400/400 - 21s - loss: 0.3311 - accuracy: 0.8514 - val_loss: 0.3016 - val_accuracy: 0.8641\n",
      "Epoch 12/50\n",
      "400/400 - 21s - loss: 0.3179 - accuracy: 0.8598 - val_loss: 0.3298 - val_accuracy: 0.8751\n",
      "Epoch 13/50\n",
      "400/400 - 21s - loss: 0.2984 - accuracy: 0.8697 - val_loss: 0.2758 - val_accuracy: 0.8860\n",
      "Epoch 14/50\n",
      "400/400 - 21s - loss: 0.2951 - accuracy: 0.8724 - val_loss: 0.2933 - val_accuracy: 0.8754\n",
      "Epoch 15/50\n",
      "400/400 - 21s - loss: 0.2864 - accuracy: 0.8746 - val_loss: 0.2613 - val_accuracy: 0.8903\n",
      "Epoch 16/50\n",
      "400/400 - 21s - loss: 0.2779 - accuracy: 0.8811 - val_loss: 0.2712 - val_accuracy: 0.8874\n",
      "Epoch 17/50\n",
      "400/400 - 21s - loss: 0.2776 - accuracy: 0.8814 - val_loss: 0.2622 - val_accuracy: 0.8907\n",
      "Epoch 18/50\n",
      "400/400 - 21s - loss: 0.2604 - accuracy: 0.8902 - val_loss: 0.2477 - val_accuracy: 0.8971\n",
      "Epoch 19/50\n",
      "400/400 - 21s - loss: 0.2602 - accuracy: 0.8896 - val_loss: 0.2619 - val_accuracy: 0.8941\n",
      "Epoch 20/50\n",
      "400/400 - 21s - loss: 0.2482 - accuracy: 0.8948 - val_loss: 0.2570 - val_accuracy: 0.8891\n",
      "Epoch 21/50\n",
      "400/400 - 21s - loss: 0.2452 - accuracy: 0.8966 - val_loss: 0.2573 - val_accuracy: 0.8882\n",
      "Epoch 22/50\n",
      "400/400 - 21s - loss: 0.2414 - accuracy: 0.8981 - val_loss: 0.2580 - val_accuracy: 0.8880\n",
      "Epoch 23/50\n",
      "400/400 - 21s - loss: 0.2424 - accuracy: 0.8982 - val_loss: 0.2836 - val_accuracy: 0.8823\n"
     ]
    },
    {
     "data": {
      "text/html": [
       "<span style=\"color:#4527A0\"><h1 style=\"font-size:18px\">Trial complete</h1></span>"
      ],
      "text/plain": [
       "<IPython.core.display.HTML object>"
      ]
     },
     "metadata": {},
     "output_type": "display_data"
    },
    {
     "data": {
      "text/html": [
       "<span style=\"color:#4527A0\"><h1 style=\"font-size:18px\">Trial summary</h1></span>"
      ],
      "text/plain": [
       "<IPython.core.display.HTML object>"
      ]
     },
     "metadata": {},
     "output_type": "display_data"
    },
    {
     "data": {
      "text/html": [
       "<span style=\"color:cyan\"> |-Trial ID: 6944e9197609f42313af9896b5417dbd</span>"
      ],
      "text/plain": [
       "<IPython.core.display.HTML object>"
      ]
     },
     "metadata": {},
     "output_type": "display_data"
    },
    {
     "data": {
      "text/html": [
       "<span style=\"color:cyan\"> |-Score: 0.8970514535903931</span>"
      ],
      "text/plain": [
       "<IPython.core.display.HTML object>"
      ]
     },
     "metadata": {},
     "output_type": "display_data"
    },
    {
     "data": {
      "text/html": [
       "<span style=\"color:cyan\"> |-Best step: 0</span>"
      ],
      "text/plain": [
       "<IPython.core.display.HTML object>"
      ]
     },
     "metadata": {},
     "output_type": "display_data"
    },
    {
     "data": {
      "text/html": [
       "<span style=\"color:#7E57C2\"><h2 style=\"font-size:16px\">Hyperparameters:</h2></span>"
      ],
      "text/plain": [
       "<IPython.core.display.HTML object>"
      ]
     },
     "metadata": {},
     "output_type": "display_data"
    },
    {
     "data": {
      "text/html": [
       "<span style=\"color:cyan\"> |-conv_1: 32</span>"
      ],
      "text/plain": [
       "<IPython.core.display.HTML object>"
      ]
     },
     "metadata": {},
     "output_type": "display_data"
    },
    {
     "data": {
      "text/html": [
       "<span style=\"color:blue\"> |-conv_2: 64</span>"
      ],
      "text/plain": [
       "<IPython.core.display.HTML object>"
      ]
     },
     "metadata": {},
     "output_type": "display_data"
    },
    {
     "data": {
      "text/html": [
       "<span style=\"color:cyan\"> |-conv_3: 64</span>"
      ],
      "text/plain": [
       "<IPython.core.display.HTML object>"
      ]
     },
     "metadata": {},
     "output_type": "display_data"
    },
    {
     "data": {
      "text/html": [
       "<span style=\"color:blue\"> |-dropout_1: 0.1</span>"
      ],
      "text/plain": [
       "<IPython.core.display.HTML object>"
      ]
     },
     "metadata": {},
     "output_type": "display_data"
    },
    {
     "data": {
      "text/html": [
       "<span style=\"color:cyan\"> |-dropout_2: 0.1</span>"
      ],
      "text/plain": [
       "<IPython.core.display.HTML object>"
      ]
     },
     "metadata": {},
     "output_type": "display_data"
    },
    {
     "data": {
      "text/html": [
       "<span style=\"color:blue\"> |-dropout_3: 0.4</span>"
      ],
      "text/plain": [
       "<IPython.core.display.HTML object>"
      ]
     },
     "metadata": {},
     "output_type": "display_data"
    },
    {
     "data": {
      "text/html": [
       "<span style=\"color:cyan\"> |-dropout_4: 0.4</span>"
      ],
      "text/plain": [
       "<IPython.core.display.HTML object>"
      ]
     },
     "metadata": {},
     "output_type": "display_data"
    },
    {
     "data": {
      "text/html": [
       "<span style=\"color:blue\"> |-units: 896</span>"
      ],
      "text/plain": [
       "<IPython.core.display.HTML object>"
      ]
     },
     "metadata": {},
     "output_type": "display_data"
    },
    {
     "name": "stdout",
     "output_type": "stream",
     "text": [
      "WARNING:tensorflow:sample_weight modes were coerced from\n",
      "  ...\n",
      "    to  \n",
      "  ['...']\n",
      "WARNING:tensorflow:sample_weight modes were coerced from\n",
      "  ...\n",
      "    to  \n",
      "  ['...']\n",
      "Train for 400 steps, validate for 171 steps\n",
      "Epoch 1/50\n",
      "400/400 - 22s - loss: 1.3838 - accuracy: 0.5929 - val_loss: 0.6418 - val_accuracy: 0.5919\n",
      "Epoch 2/50\n",
      "400/400 - 21s - loss: 0.6186 - accuracy: 0.5988 - val_loss: 0.6124 - val_accuracy: 0.5913\n",
      "Epoch 3/50\n",
      "400/400 - 21s - loss: 0.6123 - accuracy: 0.5959 - val_loss: 0.6034 - val_accuracy: 0.5915\n",
      "Epoch 4/50\n",
      "400/400 - 21s - loss: 0.5576 - accuracy: 0.6806 - val_loss: 0.4581 - val_accuracy: 0.7776\n",
      "Epoch 5/50\n",
      "400/400 - 21s - loss: 0.4565 - accuracy: 0.7775 - val_loss: 0.4613 - val_accuracy: 0.7534\n",
      "Epoch 6/50\n",
      "400/400 - 21s - loss: 0.4370 - accuracy: 0.7912 - val_loss: 0.3995 - val_accuracy: 0.8109\n",
      "Epoch 7/50\n",
      "400/400 - 21s - loss: 0.4155 - accuracy: 0.8040 - val_loss: 0.3997 - val_accuracy: 0.8034\n",
      "Epoch 8/50\n",
      "400/400 - 21s - loss: 0.3916 - accuracy: 0.8185 - val_loss: 0.3928 - val_accuracy: 0.8086\n",
      "Epoch 9/50\n",
      "400/400 - 21s - loss: 0.3739 - accuracy: 0.8257 - val_loss: 0.3745 - val_accuracy: 0.8237\n",
      "Epoch 10/50\n",
      "400/400 - 21s - loss: 0.3589 - accuracy: 0.8366 - val_loss: 0.3490 - val_accuracy: 0.8407\n",
      "Epoch 11/50\n",
      "400/400 - 21s - loss: 0.3447 - accuracy: 0.8433 - val_loss: 0.3320 - val_accuracy: 0.8595\n",
      "Epoch 12/50\n",
      "400/400 - 21s - loss: 0.3293 - accuracy: 0.8507 - val_loss: 0.3153 - val_accuracy: 0.8617\n",
      "Epoch 13/50\n",
      "400/400 - 21s - loss: 0.3197 - accuracy: 0.8556 - val_loss: 0.3007 - val_accuracy: 0.8684\n",
      "Epoch 14/50\n",
      "400/400 - 21s - loss: 0.3090 - accuracy: 0.8617 - val_loss: 0.2923 - val_accuracy: 0.8779\n",
      "Epoch 15/50\n",
      "400/400 - 21s - loss: 0.3006 - accuracy: 0.8678 - val_loss: 0.2869 - val_accuracy: 0.8732\n",
      "Epoch 16/50\n",
      "400/400 - 21s - loss: 0.2985 - accuracy: 0.8676 - val_loss: 0.2912 - val_accuracy: 0.8822\n",
      "Epoch 17/50\n",
      "400/400 - 21s - loss: 0.2909 - accuracy: 0.8713 - val_loss: 0.2799 - val_accuracy: 0.8907\n",
      "Epoch 18/50\n",
      "400/400 - 21s - loss: 0.2821 - accuracy: 0.8752 - val_loss: 0.2799 - val_accuracy: 0.8935\n",
      "Epoch 19/50\n",
      "400/400 - 21s - loss: 0.2740 - accuracy: 0.8798 - val_loss: 0.2833 - val_accuracy: 0.8858\n",
      "Epoch 20/50\n",
      "400/400 - 21s - loss: 0.2701 - accuracy: 0.8838 - val_loss: 0.2660 - val_accuracy: 0.8931\n",
      "Epoch 21/50\n",
      "400/400 - 21s - loss: 0.2627 - accuracy: 0.8862 - val_loss: 0.2694 - val_accuracy: 0.8886\n",
      "Epoch 22/50\n",
      "400/400 - 21s - loss: 0.2611 - accuracy: 0.8881 - val_loss: 0.2978 - val_accuracy: 0.8901\n",
      "Epoch 23/50\n",
      "400/400 - 21s - loss: 0.2553 - accuracy: 0.8897 - val_loss: 0.2562 - val_accuracy: 0.8836\n"
     ]
    },
    {
     "data": {
      "text/html": [
       "<span style=\"color:#4527A0\"><h1 style=\"font-size:18px\">Trial complete</h1></span>"
      ],
      "text/plain": [
       "<IPython.core.display.HTML object>"
      ]
     },
     "metadata": {},
     "output_type": "display_data"
    },
    {
     "data": {
      "text/html": [
       "<span style=\"color:#4527A0\"><h1 style=\"font-size:18px\">Trial summary</h1></span>"
      ],
      "text/plain": [
       "<IPython.core.display.HTML object>"
      ]
     },
     "metadata": {},
     "output_type": "display_data"
    },
    {
     "data": {
      "text/html": [
       "<span style=\"color:cyan\"> |-Trial ID: 6ba02a8d79ed4e97bf1a6a7d1c571cb2</span>"
      ],
      "text/plain": [
       "<IPython.core.display.HTML object>"
      ]
     },
     "metadata": {},
     "output_type": "display_data"
    },
    {
     "data": {
      "text/html": [
       "<span style=\"color:cyan\"> |-Score: 0.8935314416885376</span>"
      ],
      "text/plain": [
       "<IPython.core.display.HTML object>"
      ]
     },
     "metadata": {},
     "output_type": "display_data"
    },
    {
     "data": {
      "text/html": [
       "<span style=\"color:cyan\"> |-Best step: 0</span>"
      ],
      "text/plain": [
       "<IPython.core.display.HTML object>"
      ]
     },
     "metadata": {},
     "output_type": "display_data"
    },
    {
     "data": {
      "text/html": [
       "<span style=\"color:#7E57C2\"><h2 style=\"font-size:16px\">Hyperparameters:</h2></span>"
      ],
      "text/plain": [
       "<IPython.core.display.HTML object>"
      ]
     },
     "metadata": {},
     "output_type": "display_data"
    },
    {
     "data": {
      "text/html": [
       "<span style=\"color:cyan\"> |-conv_1: 16</span>"
      ],
      "text/plain": [
       "<IPython.core.display.HTML object>"
      ]
     },
     "metadata": {},
     "output_type": "display_data"
    },
    {
     "data": {
      "text/html": [
       "<span style=\"color:blue\"> |-conv_2: 64</span>"
      ],
      "text/plain": [
       "<IPython.core.display.HTML object>"
      ]
     },
     "metadata": {},
     "output_type": "display_data"
    },
    {
     "data": {
      "text/html": [
       "<span style=\"color:cyan\"> |-conv_3: 64</span>"
      ],
      "text/plain": [
       "<IPython.core.display.HTML object>"
      ]
     },
     "metadata": {},
     "output_type": "display_data"
    },
    {
     "data": {
      "text/html": [
       "<span style=\"color:blue\"> |-dropout_1: 0.1</span>"
      ],
      "text/plain": [
       "<IPython.core.display.HTML object>"
      ]
     },
     "metadata": {},
     "output_type": "display_data"
    },
    {
     "data": {
      "text/html": [
       "<span style=\"color:cyan\"> |-dropout_2: 0.2</span>"
      ],
      "text/plain": [
       "<IPython.core.display.HTML object>"
      ]
     },
     "metadata": {},
     "output_type": "display_data"
    },
    {
     "data": {
      "text/html": [
       "<span style=\"color:blue\"> |-dropout_3: 0.4</span>"
      ],
      "text/plain": [
       "<IPython.core.display.HTML object>"
      ]
     },
     "metadata": {},
     "output_type": "display_data"
    },
    {
     "data": {
      "text/html": [
       "<span style=\"color:cyan\"> |-dropout_4: 0.4</span>"
      ],
      "text/plain": [
       "<IPython.core.display.HTML object>"
      ]
     },
     "metadata": {},
     "output_type": "display_data"
    },
    {
     "data": {
      "text/html": [
       "<span style=\"color:blue\"> |-units: 512</span>"
      ],
      "text/plain": [
       "<IPython.core.display.HTML object>"
      ]
     },
     "metadata": {},
     "output_type": "display_data"
    },
    {
     "name": "stdout",
     "output_type": "stream",
     "text": [
      "WARNING:tensorflow:sample_weight modes were coerced from\n",
      "  ...\n",
      "    to  \n",
      "  ['...']\n",
      "WARNING:tensorflow:sample_weight modes were coerced from\n",
      "  ...\n",
      "    to  \n",
      "  ['...']\n",
      "Train for 400 steps, validate for 171 steps\n",
      "Epoch 1/50\n",
      "400/400 - 22s - loss: 0.8792 - accuracy: 0.5930 - val_loss: 0.6762 - val_accuracy: 0.5918\n",
      "Epoch 2/50\n",
      "400/400 - 21s - loss: 0.6754 - accuracy: 0.5946 - val_loss: 0.6762 - val_accuracy: 0.5918\n",
      "Epoch 3/50\n",
      "400/400 - 21s - loss: 0.6753 - accuracy: 0.5946 - val_loss: 0.6764 - val_accuracy: 0.5912\n",
      "Epoch 4/50\n",
      "400/400 - 21s - loss: 0.6753 - accuracy: 0.5946 - val_loss: 0.6763 - val_accuracy: 0.5916\n",
      "Epoch 5/50\n",
      "400/400 - 21s - loss: 0.6753 - accuracy: 0.5946 - val_loss: 0.6765 - val_accuracy: 0.5911\n",
      "Epoch 6/50\n",
      "400/400 - 21s - loss: 0.6752 - accuracy: 0.5946 - val_loss: 0.6761 - val_accuracy: 0.5920\n",
      "Epoch 7/50\n",
      "400/400 - 21s - loss: 0.6753 - accuracy: 0.5946 - val_loss: 0.6764 - val_accuracy: 0.5914\n",
      "Epoch 8/50\n",
      "400/400 - 21s - loss: 0.6753 - accuracy: 0.5946 - val_loss: 0.6762 - val_accuracy: 0.5919\n",
      "Epoch 9/50\n",
      "400/400 - 21s - loss: 0.6755 - accuracy: 0.5947 - val_loss: 0.6763 - val_accuracy: 0.5916\n",
      "Epoch 10/50\n",
      "400/400 - 21s - loss: 0.6754 - accuracy: 0.5946 - val_loss: 0.6762 - val_accuracy: 0.5918\n",
      "Epoch 11/50\n",
      "400/400 - 21s - loss: 0.6754 - accuracy: 0.5946 - val_loss: 0.6763 - val_accuracy: 0.5916\n"
     ]
    },
    {
     "data": {
      "text/html": [
       "<span style=\"color:#4527A0\"><h1 style=\"font-size:18px\">Trial complete</h1></span>"
      ],
      "text/plain": [
       "<IPython.core.display.HTML object>"
      ]
     },
     "metadata": {},
     "output_type": "display_data"
    },
    {
     "data": {
      "text/html": [
       "<span style=\"color:#4527A0\"><h1 style=\"font-size:18px\">Trial summary</h1></span>"
      ],
      "text/plain": [
       "<IPython.core.display.HTML object>"
      ]
     },
     "metadata": {},
     "output_type": "display_data"
    },
    {
     "data": {
      "text/html": [
       "<span style=\"color:cyan\"> |-Trial ID: 366b5a953b80ac8c54dfc0f4c2a89066</span>"
      ],
      "text/plain": [
       "<IPython.core.display.HTML object>"
      ]
     },
     "metadata": {},
     "output_type": "display_data"
    },
    {
     "data": {
      "text/html": [
       "<span style=\"color:cyan\"> |-Score: 0.5920000076293945</span>"
      ],
      "text/plain": [
       "<IPython.core.display.HTML object>"
      ]
     },
     "metadata": {},
     "output_type": "display_data"
    },
    {
     "data": {
      "text/html": [
       "<span style=\"color:cyan\"> |-Best step: 0</span>"
      ],
      "text/plain": [
       "<IPython.core.display.HTML object>"
      ]
     },
     "metadata": {},
     "output_type": "display_data"
    },
    {
     "data": {
      "text/html": [
       "<span style=\"color:#7E57C2\"><h2 style=\"font-size:16px\">Hyperparameters:</h2></span>"
      ],
      "text/plain": [
       "<IPython.core.display.HTML object>"
      ]
     },
     "metadata": {},
     "output_type": "display_data"
    },
    {
     "data": {
      "text/html": [
       "<span style=\"color:cyan\"> |-conv_1: 16</span>"
      ],
      "text/plain": [
       "<IPython.core.display.HTML object>"
      ]
     },
     "metadata": {},
     "output_type": "display_data"
    },
    {
     "data": {
      "text/html": [
       "<span style=\"color:blue\"> |-conv_2: 32</span>"
      ],
      "text/plain": [
       "<IPython.core.display.HTML object>"
      ]
     },
     "metadata": {},
     "output_type": "display_data"
    },
    {
     "data": {
      "text/html": [
       "<span style=\"color:cyan\"> |-conv_3: 64</span>"
      ],
      "text/plain": [
       "<IPython.core.display.HTML object>"
      ]
     },
     "metadata": {},
     "output_type": "display_data"
    },
    {
     "data": {
      "text/html": [
       "<span style=\"color:blue\"> |-dropout_1: 0.2</span>"
      ],
      "text/plain": [
       "<IPython.core.display.HTML object>"
      ]
     },
     "metadata": {},
     "output_type": "display_data"
    },
    {
     "data": {
      "text/html": [
       "<span style=\"color:cyan\"> |-dropout_2: 0.1</span>"
      ],
      "text/plain": [
       "<IPython.core.display.HTML object>"
      ]
     },
     "metadata": {},
     "output_type": "display_data"
    },
    {
     "data": {
      "text/html": [
       "<span style=\"color:blue\"> |-dropout_3: 0.2</span>"
      ],
      "text/plain": [
       "<IPython.core.display.HTML object>"
      ]
     },
     "metadata": {},
     "output_type": "display_data"
    },
    {
     "data": {
      "text/html": [
       "<span style=\"color:cyan\"> |-dropout_4: 0.4</span>"
      ],
      "text/plain": [
       "<IPython.core.display.HTML object>"
      ]
     },
     "metadata": {},
     "output_type": "display_data"
    },
    {
     "data": {
      "text/html": [
       "<span style=\"color:blue\"> |-units: 640</span>"
      ],
      "text/plain": [
       "<IPython.core.display.HTML object>"
      ]
     },
     "metadata": {},
     "output_type": "display_data"
    },
    {
     "name": "stdout",
     "output_type": "stream",
     "text": [
      "WARNING:tensorflow:sample_weight modes were coerced from\n",
      "  ...\n",
      "    to  \n",
      "  ['...']\n",
      "WARNING:tensorflow:sample_weight modes were coerced from\n",
      "  ...\n",
      "    to  \n",
      "  ['...']\n",
      "Train for 400 steps, validate for 171 steps\n",
      "Epoch 1/50\n",
      "400/400 - 22s - loss: 1.1171 - accuracy: 0.5948 - val_loss: 0.6763 - val_accuracy: 0.5916\n",
      "Epoch 2/50\n",
      "400/400 - 21s - loss: 0.6753 - accuracy: 0.5946 - val_loss: 0.6763 - val_accuracy: 0.5915\n",
      "Epoch 3/50\n",
      "400/400 - 21s - loss: 0.6753 - accuracy: 0.5946 - val_loss: 0.6760 - val_accuracy: 0.5923\n",
      "Epoch 4/50\n",
      "400/400 - 21s - loss: 0.6753 - accuracy: 0.5946 - val_loss: 0.6762 - val_accuracy: 0.5918\n",
      "Epoch 5/50\n",
      "400/400 - 21s - loss: 0.6745 - accuracy: 0.5962 - val_loss: 0.6763 - val_accuracy: 0.5916\n",
      "Epoch 6/50\n",
      "400/400 - 21s - loss: 0.6753 - accuracy: 0.5946 - val_loss: 0.6762 - val_accuracy: 0.5918\n",
      "Epoch 7/50\n",
      "400/400 - 21s - loss: 0.6752 - accuracy: 0.5946 - val_loss: 0.6762 - val_accuracy: 0.5918\n",
      "Epoch 8/50\n",
      "400/400 - 21s - loss: 0.6752 - accuracy: 0.5946 - val_loss: 0.6764 - val_accuracy: 0.5914\n"
     ]
    },
    {
     "data": {
      "text/html": [
       "<span style=\"color:#4527A0\"><h1 style=\"font-size:18px\">Trial complete</h1></span>"
      ],
      "text/plain": [
       "<IPython.core.display.HTML object>"
      ]
     },
     "metadata": {},
     "output_type": "display_data"
    },
    {
     "data": {
      "text/html": [
       "<span style=\"color:#4527A0\"><h1 style=\"font-size:18px\">Trial summary</h1></span>"
      ],
      "text/plain": [
       "<IPython.core.display.HTML object>"
      ]
     },
     "metadata": {},
     "output_type": "display_data"
    },
    {
     "data": {
      "text/html": [
       "<span style=\"color:cyan\"> |-Trial ID: 79dcdc07b1e198034309abfb92e59506</span>"
      ],
      "text/plain": [
       "<IPython.core.display.HTML object>"
      ]
     },
     "metadata": {},
     "output_type": "display_data"
    },
    {
     "data": {
      "text/html": [
       "<span style=\"color:cyan\"> |-Score: 0.5923200249671936</span>"
      ],
      "text/plain": [
       "<IPython.core.display.HTML object>"
      ]
     },
     "metadata": {},
     "output_type": "display_data"
    },
    {
     "data": {
      "text/html": [
       "<span style=\"color:cyan\"> |-Best step: 0</span>"
      ],
      "text/plain": [
       "<IPython.core.display.HTML object>"
      ]
     },
     "metadata": {},
     "output_type": "display_data"
    },
    {
     "data": {
      "text/html": [
       "<span style=\"color:#7E57C2\"><h2 style=\"font-size:16px\">Hyperparameters:</h2></span>"
      ],
      "text/plain": [
       "<IPython.core.display.HTML object>"
      ]
     },
     "metadata": {},
     "output_type": "display_data"
    },
    {
     "data": {
      "text/html": [
       "<span style=\"color:cyan\"> |-conv_1: 32</span>"
      ],
      "text/plain": [
       "<IPython.core.display.HTML object>"
      ]
     },
     "metadata": {},
     "output_type": "display_data"
    },
    {
     "data": {
      "text/html": [
       "<span style=\"color:blue\"> |-conv_2: 32</span>"
      ],
      "text/plain": [
       "<IPython.core.display.HTML object>"
      ]
     },
     "metadata": {},
     "output_type": "display_data"
    },
    {
     "data": {
      "text/html": [
       "<span style=\"color:cyan\"> |-conv_3: 64</span>"
      ],
      "text/plain": [
       "<IPython.core.display.HTML object>"
      ]
     },
     "metadata": {},
     "output_type": "display_data"
    },
    {
     "data": {
      "text/html": [
       "<span style=\"color:blue\"> |-dropout_1: 0.2</span>"
      ],
      "text/plain": [
       "<IPython.core.display.HTML object>"
      ]
     },
     "metadata": {},
     "output_type": "display_data"
    },
    {
     "data": {
      "text/html": [
       "<span style=\"color:cyan\"> |-dropout_2: 0.1</span>"
      ],
      "text/plain": [
       "<IPython.core.display.HTML object>"
      ]
     },
     "metadata": {},
     "output_type": "display_data"
    },
    {
     "data": {
      "text/html": [
       "<span style=\"color:blue\"> |-dropout_3: 0.4</span>"
      ],
      "text/plain": [
       "<IPython.core.display.HTML object>"
      ]
     },
     "metadata": {},
     "output_type": "display_data"
    },
    {
     "data": {
      "text/html": [
       "<span style=\"color:cyan\"> |-dropout_4: 0.2</span>"
      ],
      "text/plain": [
       "<IPython.core.display.HTML object>"
      ]
     },
     "metadata": {},
     "output_type": "display_data"
    },
    {
     "data": {
      "text/html": [
       "<span style=\"color:blue\"> |-units: 896</span>"
      ],
      "text/plain": [
       "<IPython.core.display.HTML object>"
      ]
     },
     "metadata": {},
     "output_type": "display_data"
    },
    {
     "name": "stdout",
     "output_type": "stream",
     "text": [
      "WARNING:tensorflow:sample_weight modes were coerced from\n",
      "  ...\n",
      "    to  \n",
      "  ['...']\n",
      "WARNING:tensorflow:sample_weight modes were coerced from\n",
      "  ...\n",
      "    to  \n",
      "  ['...']\n",
      "Train for 400 steps, validate for 171 steps\n",
      "Epoch 1/50\n",
      "400/400 - 22s - loss: 0.7305 - accuracy: 0.6789 - val_loss: 0.4720 - val_accuracy: 0.7576\n",
      "Epoch 2/50\n",
      "400/400 - 21s - loss: 0.4683 - accuracy: 0.7735 - val_loss: 0.4745 - val_accuracy: 0.7442\n",
      "Epoch 3/50\n",
      "400/400 - 21s - loss: 0.4541 - accuracy: 0.7823 - val_loss: 0.4482 - val_accuracy: 0.7718\n",
      "Epoch 4/50\n",
      "400/400 - 21s - loss: 0.4485 - accuracy: 0.7841 - val_loss: 0.4499 - val_accuracy: 0.7600\n",
      "Epoch 5/50\n",
      "400/400 - 21s - loss: 0.4387 - accuracy: 0.7898 - val_loss: 0.4323 - val_accuracy: 0.7997\n",
      "Epoch 6/50\n",
      "400/400 - 21s - loss: 0.4348 - accuracy: 0.7922 - val_loss: 0.4316 - val_accuracy: 0.7818\n",
      "Epoch 7/50\n",
      "400/400 - 21s - loss: 0.4276 - accuracy: 0.7966 - val_loss: 0.4169 - val_accuracy: 0.8126\n",
      "Epoch 8/50\n",
      "400/400 - 21s - loss: 0.4219 - accuracy: 0.8001 - val_loss: 0.4223 - val_accuracy: 0.8092\n",
      "Epoch 9/50\n",
      "400/400 - 21s - loss: 0.4182 - accuracy: 0.8031 - val_loss: 0.4311 - val_accuracy: 0.8127\n",
      "Epoch 10/50\n",
      "400/400 - 21s - loss: 0.4127 - accuracy: 0.8068 - val_loss: 0.4132 - val_accuracy: 0.8158\n",
      "Epoch 11/50\n",
      "400/400 - 21s - loss: 0.4081 - accuracy: 0.8079 - val_loss: 0.4021 - val_accuracy: 0.8106\n",
      "Epoch 12/50\n",
      "400/400 - 21s - loss: 0.4067 - accuracy: 0.8093 - val_loss: 0.3969 - val_accuracy: 0.8116\n",
      "Epoch 13/50\n",
      "400/400 - 21s - loss: 0.3991 - accuracy: 0.8120 - val_loss: 0.4346 - val_accuracy: 0.8143\n",
      "Epoch 14/50\n",
      "400/400 - 21s - loss: 0.3975 - accuracy: 0.8157 - val_loss: 0.3990 - val_accuracy: 0.8205\n",
      "Epoch 15/50\n",
      "400/400 - 21s - loss: 0.3897 - accuracy: 0.8180 - val_loss: 0.3958 - val_accuracy: 0.8122\n",
      "Epoch 16/50\n",
      "400/400 - 115s - loss: 0.3845 - accuracy: 0.8214 - val_loss: 0.3961 - val_accuracy: 0.8205\n",
      "Epoch 17/50\n",
      "400/400 - 174s - loss: 0.3808 - accuracy: 0.8230 - val_loss: 0.4168 - val_accuracy: 0.8308\n",
      "Epoch 18/50\n",
      "400/400 - 21s - loss: 0.3747 - accuracy: 0.8263 - val_loss: 0.3835 - val_accuracy: 0.8322\n",
      "Epoch 19/50\n",
      "400/400 - 21s - loss: 0.3727 - accuracy: 0.8272 - val_loss: 0.4087 - val_accuracy: 0.8278\n",
      "Epoch 20/50\n",
      "400/400 - 21s - loss: 0.3707 - accuracy: 0.8294 - val_loss: 0.4098 - val_accuracy: 0.8123\n",
      "Epoch 21/50\n",
      "400/400 - 21s - loss: 0.3641 - accuracy: 0.8326 - val_loss: 0.3785 - val_accuracy: 0.8216\n",
      "Epoch 22/50\n",
      "400/400 - 21s - loss: 0.3579 - accuracy: 0.8339 - val_loss: 0.3779 - val_accuracy: 0.8373\n",
      "Epoch 23/50\n",
      "400/400 - 21s - loss: 0.3541 - accuracy: 0.8384 - val_loss: 0.3891 - val_accuracy: 0.8325\n",
      "Epoch 24/50\n",
      "400/400 - 21s - loss: 0.3550 - accuracy: 0.8383 - val_loss: 0.3863 - val_accuracy: 0.8475\n",
      "Epoch 25/50\n",
      "400/400 - 21s - loss: 0.3375 - accuracy: 0.8491 - val_loss: 0.3505 - val_accuracy: 0.8488\n",
      "Epoch 26/50\n",
      "400/400 - 21s - loss: 0.3329 - accuracy: 0.8517 - val_loss: 0.3392 - val_accuracy: 0.8599\n",
      "Epoch 27/50\n",
      "400/400 - 21s - loss: 0.3276 - accuracy: 0.8539 - val_loss: 0.3442 - val_accuracy: 0.8535\n",
      "Epoch 28/50\n",
      "400/400 - 21s - loss: 0.3249 - accuracy: 0.8555 - val_loss: 0.3965 - val_accuracy: 0.8411\n",
      "Epoch 29/50\n",
      "400/400 - 21s - loss: 0.3206 - accuracy: 0.8599 - val_loss: 0.3524 - val_accuracy: 0.8537\n",
      "Epoch 30/50\n",
      "400/400 - 21s - loss: 0.3148 - accuracy: 0.8596 - val_loss: 0.3323 - val_accuracy: 0.8565\n",
      "Epoch 31/50\n",
      "400/400 - 21s - loss: 0.3070 - accuracy: 0.8641 - val_loss: 0.3457 - val_accuracy: 0.8404\n"
     ]
    },
    {
     "data": {
      "text/html": [
       "<span style=\"color:#4527A0\"><h1 style=\"font-size:18px\">Trial complete</h1></span>"
      ],
      "text/plain": [
       "<IPython.core.display.HTML object>"
      ]
     },
     "metadata": {},
     "output_type": "display_data"
    },
    {
     "data": {
      "text/html": [
       "<span style=\"color:#4527A0\"><h1 style=\"font-size:18px\">Trial summary</h1></span>"
      ],
      "text/plain": [
       "<IPython.core.display.HTML object>"
      ]
     },
     "metadata": {},
     "output_type": "display_data"
    },
    {
     "data": {
      "text/html": [
       "<span style=\"color:cyan\"> |-Trial ID: b0aaf7973db174bb564846509426b959</span>"
      ],
      "text/plain": [
       "<IPython.core.display.HTML object>"
      ]
     },
     "metadata": {},
     "output_type": "display_data"
    },
    {
     "data": {
      "text/html": [
       "<span style=\"color:cyan\"> |-Score: 0.8599314093589783</span>"
      ],
      "text/plain": [
       "<IPython.core.display.HTML object>"
      ]
     },
     "metadata": {},
     "output_type": "display_data"
    },
    {
     "data": {
      "text/html": [
       "<span style=\"color:cyan\"> |-Best step: 0</span>"
      ],
      "text/plain": [
       "<IPython.core.display.HTML object>"
      ]
     },
     "metadata": {},
     "output_type": "display_data"
    },
    {
     "data": {
      "text/html": [
       "<span style=\"color:#7E57C2\"><h2 style=\"font-size:16px\">Hyperparameters:</h2></span>"
      ],
      "text/plain": [
       "<IPython.core.display.HTML object>"
      ]
     },
     "metadata": {},
     "output_type": "display_data"
    },
    {
     "data": {
      "text/html": [
       "<span style=\"color:cyan\"> |-conv_1: 16</span>"
      ],
      "text/plain": [
       "<IPython.core.display.HTML object>"
      ]
     },
     "metadata": {},
     "output_type": "display_data"
    },
    {
     "data": {
      "text/html": [
       "<span style=\"color:blue\"> |-conv_2: 64</span>"
      ],
      "text/plain": [
       "<IPython.core.display.HTML object>"
      ]
     },
     "metadata": {},
     "output_type": "display_data"
    },
    {
     "data": {
      "text/html": [
       "<span style=\"color:cyan\"> |-conv_3: 64</span>"
      ],
      "text/plain": [
       "<IPython.core.display.HTML object>"
      ]
     },
     "metadata": {},
     "output_type": "display_data"
    },
    {
     "data": {
      "text/html": [
       "<span style=\"color:blue\"> |-dropout_1: 0.4</span>"
      ],
      "text/plain": [
       "<IPython.core.display.HTML object>"
      ]
     },
     "metadata": {},
     "output_type": "display_data"
    },
    {
     "data": {
      "text/html": [
       "<span style=\"color:cyan\"> |-dropout_2: 0.4</span>"
      ],
      "text/plain": [
       "<IPython.core.display.HTML object>"
      ]
     },
     "metadata": {},
     "output_type": "display_data"
    },
    {
     "data": {
      "text/html": [
       "<span style=\"color:blue\"> |-dropout_3: 0.30000000000000004</span>"
      ],
      "text/plain": [
       "<IPython.core.display.HTML object>"
      ]
     },
     "metadata": {},
     "output_type": "display_data"
    },
    {
     "data": {
      "text/html": [
       "<span style=\"color:cyan\"> |-dropout_4: 0.4</span>"
      ],
      "text/plain": [
       "<IPython.core.display.HTML object>"
      ]
     },
     "metadata": {},
     "output_type": "display_data"
    },
    {
     "data": {
      "text/html": [
       "<span style=\"color:blue\"> |-units: 512</span>"
      ],
      "text/plain": [
       "<IPython.core.display.HTML object>"
      ]
     },
     "metadata": {},
     "output_type": "display_data"
    },
    {
     "name": "stdout",
     "output_type": "stream",
     "text": [
      "WARNING:tensorflow:sample_weight modes were coerced from\n",
      "  ...\n",
      "    to  \n",
      "  ['...']\n",
      "WARNING:tensorflow:sample_weight modes were coerced from\n",
      "  ...\n",
      "    to  \n",
      "  ['...']\n",
      "Train for 400 steps, validate for 171 steps\n",
      "Epoch 1/50\n",
      "400/400 - 22s - loss: 1.9664 - accuracy: 0.6849 - val_loss: 0.5851 - val_accuracy: 0.7479\n",
      "Epoch 2/50\n",
      "400/400 - 21s - loss: 0.4791 - accuracy: 0.7669 - val_loss: 0.4850 - val_accuracy: 0.7887\n",
      "Epoch 3/50\n",
      "400/400 - 21s - loss: 0.4626 - accuracy: 0.7764 - val_loss: 0.4694 - val_accuracy: 0.7671\n",
      "Epoch 4/50\n",
      "400/400 - 21s - loss: 0.4552 - accuracy: 0.7789 - val_loss: 0.4733 - val_accuracy: 0.7663\n",
      "Epoch 5/50\n",
      "400/400 - 21s - loss: 0.4489 - accuracy: 0.7834 - val_loss: 0.4623 - val_accuracy: 0.7669\n",
      "Epoch 6/50\n",
      "400/400 - 21s - loss: 0.4371 - accuracy: 0.7905 - val_loss: 0.4568 - val_accuracy: 0.7763\n",
      "Epoch 7/50\n",
      "400/400 - 21s - loss: 0.4270 - accuracy: 0.7954 - val_loss: 0.4376 - val_accuracy: 0.7799\n"
     ]
    },
    {
     "data": {
      "text/html": [
       "<span style=\"color:#4527A0\"><h1 style=\"font-size:18px\">Trial complete</h1></span>"
      ],
      "text/plain": [
       "<IPython.core.display.HTML object>"
      ]
     },
     "metadata": {},
     "output_type": "display_data"
    },
    {
     "data": {
      "text/html": [
       "<span style=\"color:#4527A0\"><h1 style=\"font-size:18px\">Trial summary</h1></span>"
      ],
      "text/plain": [
       "<IPython.core.display.HTML object>"
      ]
     },
     "metadata": {},
     "output_type": "display_data"
    },
    {
     "data": {
      "text/html": [
       "<span style=\"color:cyan\"> |-Trial ID: c2457c6a64d254aadfd8d7205a2146c7</span>"
      ],
      "text/plain": [
       "<IPython.core.display.HTML object>"
      ]
     },
     "metadata": {},
     "output_type": "display_data"
    },
    {
     "data": {
      "text/html": [
       "<span style=\"color:cyan\"> |-Score: 0.788662850856781</span>"
      ],
      "text/plain": [
       "<IPython.core.display.HTML object>"
      ]
     },
     "metadata": {},
     "output_type": "display_data"
    },
    {
     "data": {
      "text/html": [
       "<span style=\"color:cyan\"> |-Best step: 0</span>"
      ],
      "text/plain": [
       "<IPython.core.display.HTML object>"
      ]
     },
     "metadata": {},
     "output_type": "display_data"
    },
    {
     "data": {
      "text/html": [
       "<span style=\"color:#7E57C2\"><h2 style=\"font-size:16px\">Hyperparameters:</h2></span>"
      ],
      "text/plain": [
       "<IPython.core.display.HTML object>"
      ]
     },
     "metadata": {},
     "output_type": "display_data"
    },
    {
     "data": {
      "text/html": [
       "<span style=\"color:cyan\"> |-conv_1: 16</span>"
      ],
      "text/plain": [
       "<IPython.core.display.HTML object>"
      ]
     },
     "metadata": {},
     "output_type": "display_data"
    },
    {
     "data": {
      "text/html": [
       "<span style=\"color:blue\"> |-conv_2: 32</span>"
      ],
      "text/plain": [
       "<IPython.core.display.HTML object>"
      ]
     },
     "metadata": {},
     "output_type": "display_data"
    },
    {
     "data": {
      "text/html": [
       "<span style=\"color:cyan\"> |-conv_3: 128</span>"
      ],
      "text/plain": [
       "<IPython.core.display.HTML object>"
      ]
     },
     "metadata": {},
     "output_type": "display_data"
    },
    {
     "data": {
      "text/html": [
       "<span style=\"color:blue\"> |-dropout_1: 0.4</span>"
      ],
      "text/plain": [
       "<IPython.core.display.HTML object>"
      ]
     },
     "metadata": {},
     "output_type": "display_data"
    },
    {
     "data": {
      "text/html": [
       "<span style=\"color:cyan\"> |-dropout_2: 0.0</span>"
      ],
      "text/plain": [
       "<IPython.core.display.HTML object>"
      ]
     },
     "metadata": {},
     "output_type": "display_data"
    },
    {
     "data": {
      "text/html": [
       "<span style=\"color:blue\"> |-dropout_3: 0.30000000000000004</span>"
      ],
      "text/plain": [
       "<IPython.core.display.HTML object>"
      ]
     },
     "metadata": {},
     "output_type": "display_data"
    },
    {
     "data": {
      "text/html": [
       "<span style=\"color:cyan\"> |-dropout_4: 0.1</span>"
      ],
      "text/plain": [
       "<IPython.core.display.HTML object>"
      ]
     },
     "metadata": {},
     "output_type": "display_data"
    },
    {
     "data": {
      "text/html": [
       "<span style=\"color:blue\"> |-units: 768</span>"
      ],
      "text/plain": [
       "<IPython.core.display.HTML object>"
      ]
     },
     "metadata": {},
     "output_type": "display_data"
    },
    {
     "name": "stdout",
     "output_type": "stream",
     "text": [
      "WARNING:tensorflow:sample_weight modes were coerced from\n",
      "  ...\n",
      "    to  \n",
      "  ['...']\n",
      "WARNING:tensorflow:sample_weight modes were coerced from\n",
      "  ...\n",
      "    to  \n",
      "  ['...']\n",
      "Train for 400 steps, validate for 171 steps\n",
      "Epoch 1/50\n",
      "400/400 - 22s - loss: 3.4238 - accuracy: 0.6980 - val_loss: 0.4792 - val_accuracy: 0.7349\n",
      "Epoch 2/50\n",
      "400/400 - 21s - loss: 0.4646 - accuracy: 0.7741 - val_loss: 0.4664 - val_accuracy: 0.7520\n",
      "Epoch 3/50\n",
      "400/400 - 21s - loss: 0.4541 - accuracy: 0.7806 - val_loss: 0.4579 - val_accuracy: 0.7482\n",
      "Epoch 4/50\n",
      "400/400 - 21s - loss: 0.4443 - accuracy: 0.7854 - val_loss: 0.4380 - val_accuracy: 0.7808\n",
      "Epoch 5/50\n",
      "400/400 - 21s - loss: 0.4299 - accuracy: 0.7969 - val_loss: 0.4397 - val_accuracy: 0.7574\n",
      "Epoch 6/50\n",
      "400/400 - 21s - loss: 0.4213 - accuracy: 0.8036 - val_loss: 0.4264 - val_accuracy: 0.7821\n",
      "Epoch 7/50\n",
      "400/400 - 21s - loss: 0.4122 - accuracy: 0.8083 - val_loss: 0.4399 - val_accuracy: 0.7577\n",
      "Epoch 8/50\n",
      "400/400 - 21s - loss: 0.3962 - accuracy: 0.8169 - val_loss: 0.4039 - val_accuracy: 0.7853\n",
      "Epoch 9/50\n",
      "400/400 - 21s - loss: 0.3832 - accuracy: 0.8236 - val_loss: 0.3797 - val_accuracy: 0.8008\n",
      "Epoch 10/50\n",
      "400/400 - 21s - loss: 0.3700 - accuracy: 0.8314 - val_loss: 0.3610 - val_accuracy: 0.8201\n",
      "Epoch 11/50\n",
      "400/400 - 21s - loss: 0.3611 - accuracy: 0.8375 - val_loss: 0.4114 - val_accuracy: 0.7805\n",
      "Epoch 12/50\n",
      "400/400 - 21s - loss: 0.3528 - accuracy: 0.8396 - val_loss: 0.3841 - val_accuracy: 0.8051\n",
      "Epoch 13/50\n",
      "400/400 - 21s - loss: 0.3471 - accuracy: 0.8443 - val_loss: 0.4060 - val_accuracy: 0.7955\n",
      "Epoch 14/50\n",
      "400/400 - 21s - loss: 0.3334 - accuracy: 0.8503 - val_loss: 0.3860 - val_accuracy: 0.8013\n",
      "Epoch 15/50\n",
      "400/400 - 21s - loss: 0.3331 - accuracy: 0.8508 - val_loss: 0.3371 - val_accuracy: 0.8377\n",
      "Epoch 16/50\n",
      "400/400 - 21s - loss: 0.3238 - accuracy: 0.8549 - val_loss: 0.4203 - val_accuracy: 0.7669\n",
      "Epoch 17/50\n",
      "400/400 - 21s - loss: 0.3171 - accuracy: 0.8593 - val_loss: 0.3613 - val_accuracy: 0.8241\n",
      "Epoch 18/50\n",
      "400/400 - 21s - loss: 0.3169 - accuracy: 0.8615 - val_loss: 0.3309 - val_accuracy: 0.8429\n",
      "Epoch 19/50\n",
      "400/400 - 21s - loss: 0.3111 - accuracy: 0.8637 - val_loss: 0.3361 - val_accuracy: 0.8391\n",
      "Epoch 20/50\n",
      "400/400 - 21s - loss: 0.3037 - accuracy: 0.8653 - val_loss: 0.3220 - val_accuracy: 0.8469\n",
      "Epoch 21/50\n",
      "400/400 - 21s - loss: 0.3025 - accuracy: 0.8657 - val_loss: 0.3223 - val_accuracy: 0.8510\n",
      "Epoch 22/50\n",
      "400/400 - 21s - loss: 0.3010 - accuracy: 0.8685 - val_loss: 0.3160 - val_accuracy: 0.8446\n",
      "Epoch 23/50\n",
      "400/400 - 21s - loss: 0.2918 - accuracy: 0.8725 - val_loss: 0.3346 - val_accuracy: 0.8331\n",
      "Epoch 24/50\n",
      "400/400 - 21s - loss: 0.2895 - accuracy: 0.8749 - val_loss: 0.2981 - val_accuracy: 0.8567\n",
      "Epoch 25/50\n",
      "400/400 - 21s - loss: 0.2838 - accuracy: 0.8777 - val_loss: 0.3338 - val_accuracy: 0.8292\n",
      "Epoch 26/50\n",
      "400/400 - 21s - loss: 0.2808 - accuracy: 0.8788 - val_loss: 0.3235 - val_accuracy: 0.8499\n",
      "Epoch 27/50\n",
      "400/400 - 21s - loss: 0.2738 - accuracy: 0.8797 - val_loss: 0.3184 - val_accuracy: 0.8404\n",
      "Epoch 28/50\n",
      "400/400 - 21s - loss: 0.2722 - accuracy: 0.8842 - val_loss: 0.3260 - val_accuracy: 0.8377\n",
      "Epoch 29/50\n",
      "400/400 - 21s - loss: 0.2689 - accuracy: 0.8848 - val_loss: 0.3068 - val_accuracy: 0.8436\n"
     ]
    },
    {
     "data": {
      "text/html": [
       "<span style=\"color:#4527A0\"><h1 style=\"font-size:18px\">Trial complete</h1></span>"
      ],
      "text/plain": [
       "<IPython.core.display.HTML object>"
      ]
     },
     "metadata": {},
     "output_type": "display_data"
    },
    {
     "data": {
      "text/html": [
       "<span style=\"color:#4527A0\"><h1 style=\"font-size:18px\">Trial summary</h1></span>"
      ],
      "text/plain": [
       "<IPython.core.display.HTML object>"
      ]
     },
     "metadata": {},
     "output_type": "display_data"
    },
    {
     "data": {
      "text/html": [
       "<span style=\"color:cyan\"> |-Trial ID: bcbcab85ad161911a44f5f3ee9d555c4</span>"
      ],
      "text/plain": [
       "<IPython.core.display.HTML object>"
      ]
     },
     "metadata": {},
     "output_type": "display_data"
    },
    {
     "data": {
      "text/html": [
       "<span style=\"color:cyan\"> |-Score: 0.8567314147949219</span>"
      ],
      "text/plain": [
       "<IPython.core.display.HTML object>"
      ]
     },
     "metadata": {},
     "output_type": "display_data"
    },
    {
     "data": {
      "text/html": [
       "<span style=\"color:cyan\"> |-Best step: 0</span>"
      ],
      "text/plain": [
       "<IPython.core.display.HTML object>"
      ]
     },
     "metadata": {},
     "output_type": "display_data"
    },
    {
     "data": {
      "text/html": [
       "<span style=\"color:#7E57C2\"><h2 style=\"font-size:16px\">Hyperparameters:</h2></span>"
      ],
      "text/plain": [
       "<IPython.core.display.HTML object>"
      ]
     },
     "metadata": {},
     "output_type": "display_data"
    },
    {
     "data": {
      "text/html": [
       "<span style=\"color:cyan\"> |-conv_1: 16</span>"
      ],
      "text/plain": [
       "<IPython.core.display.HTML object>"
      ]
     },
     "metadata": {},
     "output_type": "display_data"
    },
    {
     "data": {
      "text/html": [
       "<span style=\"color:blue\"> |-conv_2: 32</span>"
      ],
      "text/plain": [
       "<IPython.core.display.HTML object>"
      ]
     },
     "metadata": {},
     "output_type": "display_data"
    },
    {
     "data": {
      "text/html": [
       "<span style=\"color:cyan\"> |-conv_3: 128</span>"
      ],
      "text/plain": [
       "<IPython.core.display.HTML object>"
      ]
     },
     "metadata": {},
     "output_type": "display_data"
    },
    {
     "data": {
      "text/html": [
       "<span style=\"color:blue\"> |-dropout_1: 0.2</span>"
      ],
      "text/plain": [
       "<IPython.core.display.HTML object>"
      ]
     },
     "metadata": {},
     "output_type": "display_data"
    },
    {
     "data": {
      "text/html": [
       "<span style=\"color:cyan\"> |-dropout_2: 0.5</span>"
      ],
      "text/plain": [
       "<IPython.core.display.HTML object>"
      ]
     },
     "metadata": {},
     "output_type": "display_data"
    },
    {
     "data": {
      "text/html": [
       "<span style=\"color:blue\"> |-dropout_3: 0.2</span>"
      ],
      "text/plain": [
       "<IPython.core.display.HTML object>"
      ]
     },
     "metadata": {},
     "output_type": "display_data"
    },
    {
     "data": {
      "text/html": [
       "<span style=\"color:cyan\"> |-dropout_4: 0.1</span>"
      ],
      "text/plain": [
       "<IPython.core.display.HTML object>"
      ]
     },
     "metadata": {},
     "output_type": "display_data"
    },
    {
     "data": {
      "text/html": [
       "<span style=\"color:blue\"> |-units: 512</span>"
      ],
      "text/plain": [
       "<IPython.core.display.HTML object>"
      ]
     },
     "metadata": {},
     "output_type": "display_data"
    },
    {
     "name": "stdout",
     "output_type": "stream",
     "text": [
      "WARNING:tensorflow:sample_weight modes were coerced from\n",
      "  ...\n",
      "    to  \n",
      "  ['...']\n",
      "WARNING:tensorflow:sample_weight modes were coerced from\n",
      "  ...\n",
      "    to  \n",
      "  ['...']\n",
      "Train for 400 steps, validate for 171 steps\n",
      "Epoch 1/50\n",
      "400/400 - 22s - loss: 2.2932 - accuracy: 0.6217 - val_loss: 0.5775 - val_accuracy: 0.7733\n",
      "Epoch 2/50\n",
      "400/400 - 21s - loss: 0.4886 - accuracy: 0.7500 - val_loss: 0.5742 - val_accuracy: 0.7685\n",
      "Epoch 3/50\n",
      "400/400 - 21s - loss: 0.4712 - accuracy: 0.7647 - val_loss: 0.5121 - val_accuracy: 0.7907\n",
      "Epoch 4/50\n",
      "400/400 - 21s - loss: 0.4628 - accuracy: 0.7724 - val_loss: 0.4863 - val_accuracy: 0.7988\n",
      "Epoch 5/50\n",
      "400/400 - 21s - loss: 0.4531 - accuracy: 0.7812 - val_loss: 0.4717 - val_accuracy: 0.8064\n",
      "Epoch 6/50\n",
      "400/400 - 21s - loss: 0.4459 - accuracy: 0.7854 - val_loss: 0.4469 - val_accuracy: 0.8053\n",
      "Epoch 7/50\n",
      "400/400 - 21s - loss: 0.4387 - accuracy: 0.7910 - val_loss: 0.4505 - val_accuracy: 0.8007\n",
      "Epoch 8/50\n",
      "400/400 - 21s - loss: 0.4278 - accuracy: 0.7963 - val_loss: 0.4323 - val_accuracy: 0.8182\n",
      "Epoch 9/50\n",
      "400/400 - 21s - loss: 0.4241 - accuracy: 0.7997 - val_loss: 0.4226 - val_accuracy: 0.8139\n",
      "Epoch 10/50\n",
      "400/400 - 21s - loss: 0.4148 - accuracy: 0.8048 - val_loss: 0.4111 - val_accuracy: 0.8189\n",
      "Epoch 11/50\n",
      "400/400 - 21s - loss: 0.4120 - accuracy: 0.8041 - val_loss: 0.4141 - val_accuracy: 0.8253\n",
      "Epoch 12/50\n",
      "400/400 - 21s - loss: 0.3990 - accuracy: 0.8107 - val_loss: 0.3834 - val_accuracy: 0.8285\n",
      "Epoch 13/50\n",
      "400/400 - 21s - loss: 0.3918 - accuracy: 0.8182 - val_loss: 0.3982 - val_accuracy: 0.8090\n",
      "Epoch 14/50\n",
      "400/400 - 21s - loss: 0.3834 - accuracy: 0.8220 - val_loss: 0.3815 - val_accuracy: 0.8295\n",
      "Epoch 15/50\n",
      "400/400 - 21s - loss: 0.3764 - accuracy: 0.8270 - val_loss: 0.3914 - val_accuracy: 0.8131\n",
      "Epoch 16/50\n",
      "400/400 - 21s - loss: 0.3693 - accuracy: 0.8296 - val_loss: 0.3699 - val_accuracy: 0.8185\n",
      "Epoch 17/50\n",
      "400/400 - 21s - loss: 0.3625 - accuracy: 0.8340 - val_loss: 0.3612 - val_accuracy: 0.8330\n",
      "Epoch 18/50\n",
      "400/400 - 21s - loss: 0.3563 - accuracy: 0.8348 - val_loss: 0.3527 - val_accuracy: 0.8341\n",
      "Epoch 19/50\n",
      "400/400 - 21s - loss: 0.3491 - accuracy: 0.8397 - val_loss: 0.3471 - val_accuracy: 0.8411\n",
      "Epoch 20/50\n",
      "400/400 - 21s - loss: 0.3445 - accuracy: 0.8417 - val_loss: 0.3346 - val_accuracy: 0.8458\n",
      "Epoch 21/50\n",
      "400/400 - 21s - loss: 0.3349 - accuracy: 0.8455 - val_loss: 0.3319 - val_accuracy: 0.8378\n",
      "Epoch 22/50\n",
      "400/400 - 21s - loss: 0.3324 - accuracy: 0.8479 - val_loss: 0.3456 - val_accuracy: 0.8416\n",
      "Epoch 23/50\n",
      "400/400 - 21s - loss: 0.3291 - accuracy: 0.8509 - val_loss: 0.3504 - val_accuracy: 0.8299\n",
      "Epoch 24/50\n",
      "400/400 - 21s - loss: 0.3230 - accuracy: 0.8539 - val_loss: 0.3171 - val_accuracy: 0.8568\n",
      "Epoch 25/50\n",
      "400/400 - 21s - loss: 0.3158 - accuracy: 0.8550 - val_loss: 0.3244 - val_accuracy: 0.8415\n",
      "Epoch 26/50\n",
      "400/400 - 21s - loss: 0.3171 - accuracy: 0.8568 - val_loss: 0.3094 - val_accuracy: 0.8569\n",
      "Epoch 27/50\n",
      "400/400 - 21s - loss: 0.3098 - accuracy: 0.8609 - val_loss: 0.3082 - val_accuracy: 0.8457\n",
      "Epoch 28/50\n",
      "400/400 - 21s - loss: 0.3079 - accuracy: 0.8615 - val_loss: 0.3226 - val_accuracy: 0.8358\n",
      "Epoch 29/50\n",
      "400/400 - 21s - loss: 0.2992 - accuracy: 0.8657 - val_loss: 0.3251 - val_accuracy: 0.8488\n",
      "Epoch 30/50\n",
      "400/400 - 21s - loss: 0.2979 - accuracy: 0.8660 - val_loss: 0.3019 - val_accuracy: 0.8476\n",
      "Epoch 31/50\n",
      "400/400 - 21s - loss: 0.2953 - accuracy: 0.8662 - val_loss: 0.2775 - val_accuracy: 0.8782\n",
      "Epoch 32/50\n",
      "400/400 - 21s - loss: 0.2906 - accuracy: 0.8714 - val_loss: 0.3101 - val_accuracy: 0.8466\n",
      "Epoch 33/50\n",
      "400/400 - 21s - loss: 0.2889 - accuracy: 0.8694 - val_loss: 0.3000 - val_accuracy: 0.8602\n",
      "Epoch 34/50\n",
      "400/400 - 21s - loss: 0.2899 - accuracy: 0.8692 - val_loss: 0.2992 - val_accuracy: 0.8509\n",
      "Epoch 35/50\n",
      "400/400 - 21s - loss: 0.2876 - accuracy: 0.8713 - val_loss: 0.2915 - val_accuracy: 0.8596\n",
      "Epoch 36/50\n",
      "400/400 - 21s - loss: 0.2854 - accuracy: 0.8726 - val_loss: 0.2814 - val_accuracy: 0.8644\n"
     ]
    },
    {
     "data": {
      "text/html": [
       "<span style=\"color:#4527A0\"><h1 style=\"font-size:18px\">Trial complete</h1></span>"
      ],
      "text/plain": [
       "<IPython.core.display.HTML object>"
      ]
     },
     "metadata": {},
     "output_type": "display_data"
    },
    {
     "data": {
      "text/html": [
       "<span style=\"color:#4527A0\"><h1 style=\"font-size:18px\">Trial summary</h1></span>"
      ],
      "text/plain": [
       "<IPython.core.display.HTML object>"
      ]
     },
     "metadata": {},
     "output_type": "display_data"
    },
    {
     "data": {
      "text/html": [
       "<span style=\"color:cyan\"> |-Trial ID: a87f88f043ae2d241ae0ba411969f259</span>"
      ],
      "text/plain": [
       "<IPython.core.display.HTML object>"
      ]
     },
     "metadata": {},
     "output_type": "display_data"
    },
    {
     "data": {
      "text/html": [
       "<span style=\"color:cyan\"> |-Score: 0.8782171607017517</span>"
      ],
      "text/plain": [
       "<IPython.core.display.HTML object>"
      ]
     },
     "metadata": {},
     "output_type": "display_data"
    },
    {
     "data": {
      "text/html": [
       "<span style=\"color:cyan\"> |-Best step: 0</span>"
      ],
      "text/plain": [
       "<IPython.core.display.HTML object>"
      ]
     },
     "metadata": {},
     "output_type": "display_data"
    },
    {
     "data": {
      "text/html": [
       "<span style=\"color:#7E57C2\"><h2 style=\"font-size:16px\">Hyperparameters:</h2></span>"
      ],
      "text/plain": [
       "<IPython.core.display.HTML object>"
      ]
     },
     "metadata": {},
     "output_type": "display_data"
    },
    {
     "data": {
      "text/html": [
       "<span style=\"color:cyan\"> |-conv_1: 16</span>"
      ],
      "text/plain": [
       "<IPython.core.display.HTML object>"
      ]
     },
     "metadata": {},
     "output_type": "display_data"
    },
    {
     "data": {
      "text/html": [
       "<span style=\"color:blue\"> |-conv_2: 64</span>"
      ],
      "text/plain": [
       "<IPython.core.display.HTML object>"
      ]
     },
     "metadata": {},
     "output_type": "display_data"
    },
    {
     "data": {
      "text/html": [
       "<span style=\"color:cyan\"> |-conv_3: 128</span>"
      ],
      "text/plain": [
       "<IPython.core.display.HTML object>"
      ]
     },
     "metadata": {},
     "output_type": "display_data"
    },
    {
     "data": {
      "text/html": [
       "<span style=\"color:blue\"> |-dropout_1: 0.5</span>"
      ],
      "text/plain": [
       "<IPython.core.display.HTML object>"
      ]
     },
     "metadata": {},
     "output_type": "display_data"
    },
    {
     "data": {
      "text/html": [
       "<span style=\"color:cyan\"> |-dropout_2: 0.2</span>"
      ],
      "text/plain": [
       "<IPython.core.display.HTML object>"
      ]
     },
     "metadata": {},
     "output_type": "display_data"
    },
    {
     "data": {
      "text/html": [
       "<span style=\"color:blue\"> |-dropout_3: 0.4</span>"
      ],
      "text/plain": [
       "<IPython.core.display.HTML object>"
      ]
     },
     "metadata": {},
     "output_type": "display_data"
    },
    {
     "data": {
      "text/html": [
       "<span style=\"color:cyan\"> |-dropout_4: 0.30000000000000004</span>"
      ],
      "text/plain": [
       "<IPython.core.display.HTML object>"
      ]
     },
     "metadata": {},
     "output_type": "display_data"
    },
    {
     "data": {
      "text/html": [
       "<span style=\"color:blue\"> |-units: 640</span>"
      ],
      "text/plain": [
       "<IPython.core.display.HTML object>"
      ]
     },
     "metadata": {},
     "output_type": "display_data"
    },
    {
     "name": "stdout",
     "output_type": "stream",
     "text": [
      "WARNING:tensorflow:sample_weight modes were coerced from\n",
      "  ...\n",
      "    to  \n",
      "  ['...']\n",
      "WARNING:tensorflow:sample_weight modes were coerced from\n",
      "  ...\n",
      "    to  \n",
      "  ['...']\n",
      "Train for 400 steps, validate for 171 steps\n",
      "Epoch 1/50\n",
      "400/400 - 22s - loss: 0.6944 - accuracy: 0.7107 - val_loss: 0.4979 - val_accuracy: 0.7447\n",
      "Epoch 2/50\n",
      "400/400 - 21s - loss: 0.4585 - accuracy: 0.7773 - val_loss: 0.4757 - val_accuracy: 0.7556\n",
      "Epoch 3/50\n",
      "400/400 - 21s - loss: 0.4468 - accuracy: 0.7846 - val_loss: 0.4738 - val_accuracy: 0.7502\n",
      "Epoch 4/50\n",
      "400/400 - 21s - loss: 0.4311 - accuracy: 0.7955 - val_loss: 0.4222 - val_accuracy: 0.7901\n",
      "Epoch 5/50\n",
      "400/400 - 21s - loss: 0.4095 - accuracy: 0.8093 - val_loss: 0.4363 - val_accuracy: 0.8045\n",
      "Epoch 6/50\n",
      "400/400 - 21s - loss: 0.3887 - accuracy: 0.8199 - val_loss: 0.3826 - val_accuracy: 0.8462\n",
      "Epoch 7/50\n",
      "400/400 - 21s - loss: 0.3660 - accuracy: 0.8325 - val_loss: 0.3608 - val_accuracy: 0.8342\n",
      "Epoch 8/50\n",
      "400/400 - 21s - loss: 0.3438 - accuracy: 0.8478 - val_loss: 0.3171 - val_accuracy: 0.8725\n",
      "Epoch 9/50\n",
      "400/400 - 21s - loss: 0.3288 - accuracy: 0.8549 - val_loss: 0.3328 - val_accuracy: 0.8574\n",
      "Epoch 10/50\n",
      "400/400 - 21s - loss: 0.3162 - accuracy: 0.8622 - val_loss: 0.3098 - val_accuracy: 0.8757\n",
      "Epoch 11/50\n",
      "400/400 - 21s - loss: 0.3086 - accuracy: 0.8635 - val_loss: 0.3060 - val_accuracy: 0.8703\n",
      "Epoch 12/50\n",
      "400/400 - 21s - loss: 0.2986 - accuracy: 0.8697 - val_loss: 0.2986 - val_accuracy: 0.8869\n",
      "Epoch 13/50\n",
      "400/400 - 21s - loss: 0.2876 - accuracy: 0.8751 - val_loss: 0.2705 - val_accuracy: 0.8853\n",
      "Epoch 14/50\n",
      "400/400 - 21s - loss: 0.2833 - accuracy: 0.8783 - val_loss: 0.3089 - val_accuracy: 0.8781\n",
      "Epoch 15/50\n",
      "400/400 - 21s - loss: 0.2766 - accuracy: 0.8804 - val_loss: 0.2864 - val_accuracy: 0.8906\n",
      "Epoch 16/50\n",
      "400/400 - 21s - loss: 0.2708 - accuracy: 0.8823 - val_loss: 0.2567 - val_accuracy: 0.8915\n",
      "Epoch 17/50\n",
      "400/400 - 21s - loss: 0.2614 - accuracy: 0.8876 - val_loss: 0.2662 - val_accuracy: 0.8901\n",
      "Epoch 18/50\n",
      "400/400 - 21s - loss: 0.2633 - accuracy: 0.8859 - val_loss: 0.2662 - val_accuracy: 0.8744\n",
      "Epoch 19/50\n",
      "400/400 - 21s - loss: 0.2953 - accuracy: 0.8671 - val_loss: 0.2817 - val_accuracy: 0.8875\n",
      "Epoch 20/50\n",
      "400/400 - 21s - loss: 0.2700 - accuracy: 0.8831 - val_loss: 0.2658 - val_accuracy: 0.8894\n",
      "Epoch 21/50\n",
      "400/400 - 21s - loss: 0.2557 - accuracy: 0.8890 - val_loss: 0.2592 - val_accuracy: 0.8863\n"
     ]
    },
    {
     "data": {
      "text/html": [
       "<span style=\"color:#4527A0\"><h1 style=\"font-size:18px\">Trial complete</h1></span>"
      ],
      "text/plain": [
       "<IPython.core.display.HTML object>"
      ]
     },
     "metadata": {},
     "output_type": "display_data"
    },
    {
     "data": {
      "text/html": [
       "<span style=\"color:#4527A0\"><h1 style=\"font-size:18px\">Trial summary</h1></span>"
      ],
      "text/plain": [
       "<IPython.core.display.HTML object>"
      ]
     },
     "metadata": {},
     "output_type": "display_data"
    },
    {
     "data": {
      "text/html": [
       "<span style=\"color:cyan\"> |-Trial ID: 47859bfb95d0e421f120b14535633e7d</span>"
      ],
      "text/plain": [
       "<IPython.core.display.HTML object>"
      ]
     },
     "metadata": {},
     "output_type": "display_data"
    },
    {
     "data": {
      "text/html": [
       "<span style=\"color:cyan\"> |-Score: 0.8915200233459473</span>"
      ],
      "text/plain": [
       "<IPython.core.display.HTML object>"
      ]
     },
     "metadata": {},
     "output_type": "display_data"
    },
    {
     "data": {
      "text/html": [
       "<span style=\"color:cyan\"> |-Best step: 0</span>"
      ],
      "text/plain": [
       "<IPython.core.display.HTML object>"
      ]
     },
     "metadata": {},
     "output_type": "display_data"
    },
    {
     "data": {
      "text/html": [
       "<span style=\"color:#7E57C2\"><h2 style=\"font-size:16px\">Hyperparameters:</h2></span>"
      ],
      "text/plain": [
       "<IPython.core.display.HTML object>"
      ]
     },
     "metadata": {},
     "output_type": "display_data"
    },
    {
     "data": {
      "text/html": [
       "<span style=\"color:cyan\"> |-conv_1: 16</span>"
      ],
      "text/plain": [
       "<IPython.core.display.HTML object>"
      ]
     },
     "metadata": {},
     "output_type": "display_data"
    },
    {
     "data": {
      "text/html": [
       "<span style=\"color:blue\"> |-conv_2: 32</span>"
      ],
      "text/plain": [
       "<IPython.core.display.HTML object>"
      ]
     },
     "metadata": {},
     "output_type": "display_data"
    },
    {
     "data": {
      "text/html": [
       "<span style=\"color:cyan\"> |-conv_3: 64</span>"
      ],
      "text/plain": [
       "<IPython.core.display.HTML object>"
      ]
     },
     "metadata": {},
     "output_type": "display_data"
    },
    {
     "data": {
      "text/html": [
       "<span style=\"color:blue\"> |-dropout_1: 0.2</span>"
      ],
      "text/plain": [
       "<IPython.core.display.HTML object>"
      ]
     },
     "metadata": {},
     "output_type": "display_data"
    },
    {
     "data": {
      "text/html": [
       "<span style=\"color:cyan\"> |-dropout_2: 0.1</span>"
      ],
      "text/plain": [
       "<IPython.core.display.HTML object>"
      ]
     },
     "metadata": {},
     "output_type": "display_data"
    },
    {
     "data": {
      "text/html": [
       "<span style=\"color:blue\"> |-dropout_3: 0.4</span>"
      ],
      "text/plain": [
       "<IPython.core.display.HTML object>"
      ]
     },
     "metadata": {},
     "output_type": "display_data"
    },
    {
     "data": {
      "text/html": [
       "<span style=\"color:cyan\"> |-dropout_4: 0.2</span>"
      ],
      "text/plain": [
       "<IPython.core.display.HTML object>"
      ]
     },
     "metadata": {},
     "output_type": "display_data"
    },
    {
     "data": {
      "text/html": [
       "<span style=\"color:blue\"> |-units: 128</span>"
      ],
      "text/plain": [
       "<IPython.core.display.HTML object>"
      ]
     },
     "metadata": {},
     "output_type": "display_data"
    },
    {
     "name": "stdout",
     "output_type": "stream",
     "text": [
      "WARNING:tensorflow:sample_weight modes were coerced from\n",
      "  ...\n",
      "    to  \n",
      "  ['...']\n",
      "WARNING:tensorflow:sample_weight modes were coerced from\n",
      "  ...\n",
      "    to  \n",
      "  ['...']\n",
      "Train for 400 steps, validate for 171 steps\n",
      "Epoch 1/50\n",
      "400/400 - 23s - loss: 1.4911 - accuracy: 0.6871 - val_loss: 0.6717 - val_accuracy: 0.7175\n",
      "Epoch 2/50\n",
      "400/400 - 23s - loss: 0.4601 - accuracy: 0.7771 - val_loss: 0.5730 - val_accuracy: 0.7777\n",
      "Epoch 3/50\n",
      "400/400 - 23s - loss: 0.4471 - accuracy: 0.7859 - val_loss: 0.4973 - val_accuracy: 0.8015\n",
      "Epoch 4/50\n",
      "400/400 - 23s - loss: 0.4363 - accuracy: 0.7941 - val_loss: 0.4906 - val_accuracy: 0.8054\n",
      "Epoch 5/50\n",
      "400/400 - 23s - loss: 0.4296 - accuracy: 0.7961 - val_loss: 0.4279 - val_accuracy: 0.8179\n",
      "Epoch 6/50\n",
      "400/400 - 23s - loss: 0.4185 - accuracy: 0.8039 - val_loss: 0.4250 - val_accuracy: 0.8278\n",
      "Epoch 7/50\n",
      "400/400 - 22s - loss: 0.4055 - accuracy: 0.8117 - val_loss: 0.4328 - val_accuracy: 0.8213\n",
      "Epoch 8/50\n",
      "400/400 - 23s - loss: 0.3914 - accuracy: 0.8218 - val_loss: 0.3883 - val_accuracy: 0.8431\n",
      "Epoch 9/50\n",
      "400/400 - 23s - loss: 0.3783 - accuracy: 0.8296 - val_loss: 0.3782 - val_accuracy: 0.8431\n",
      "Epoch 10/50\n",
      "400/400 - 22s - loss: 0.3727 - accuracy: 0.8324 - val_loss: 0.3699 - val_accuracy: 0.8421\n",
      "Epoch 11/50\n",
      "400/400 - 23s - loss: 0.3702 - accuracy: 0.8310 - val_loss: 0.3424 - val_accuracy: 0.8550\n",
      "Epoch 12/50\n",
      "400/400 - 23s - loss: 0.3476 - accuracy: 0.8439 - val_loss: 0.3245 - val_accuracy: 0.8685\n",
      "Epoch 13/50\n",
      "400/400 - 22s - loss: 0.3361 - accuracy: 0.8508 - val_loss: 0.3049 - val_accuracy: 0.8651\n",
      "Epoch 14/50\n",
      "400/400 - 22s - loss: 0.3243 - accuracy: 0.8564 - val_loss: 0.3088 - val_accuracy: 0.8592\n",
      "Epoch 15/50\n",
      "400/400 - 22s - loss: 0.3173 - accuracy: 0.8599 - val_loss: 0.2767 - val_accuracy: 0.8805\n",
      "Epoch 16/50\n",
      "400/400 - 22s - loss: 0.3194 - accuracy: 0.8588 - val_loss: 0.2820 - val_accuracy: 0.8747\n",
      "Epoch 17/50\n",
      "400/400 - 22s - loss: 0.3099 - accuracy: 0.8638 - val_loss: 0.3036 - val_accuracy: 0.8621\n",
      "Epoch 18/50\n",
      "400/400 - 22s - loss: 0.2985 - accuracy: 0.8701 - val_loss: 0.2859 - val_accuracy: 0.8730\n",
      "Epoch 19/50\n",
      "400/400 - 22s - loss: 0.2927 - accuracy: 0.8724 - val_loss: 0.2958 - val_accuracy: 0.8659\n",
      "Epoch 20/50\n",
      "400/400 - 22s - loss: 0.2866 - accuracy: 0.8768 - val_loss: 0.3043 - val_accuracy: 0.8625\n"
     ]
    },
    {
     "data": {
      "text/html": [
       "<span style=\"color:#4527A0\"><h1 style=\"font-size:18px\">Trial complete</h1></span>"
      ],
      "text/plain": [
       "<IPython.core.display.HTML object>"
      ]
     },
     "metadata": {},
     "output_type": "display_data"
    },
    {
     "data": {
      "text/html": [
       "<span style=\"color:#4527A0\"><h1 style=\"font-size:18px\">Trial summary</h1></span>"
      ],
      "text/plain": [
       "<IPython.core.display.HTML object>"
      ]
     },
     "metadata": {},
     "output_type": "display_data"
    },
    {
     "data": {
      "text/html": [
       "<span style=\"color:cyan\"> |-Trial ID: f2ec928fa129b474d82b2f494ca1668d</span>"
      ],
      "text/plain": [
       "<IPython.core.display.HTML object>"
      ]
     },
     "metadata": {},
     "output_type": "display_data"
    },
    {
     "data": {
      "text/html": [
       "<span style=\"color:cyan\"> |-Score: 0.8805028796195984</span>"
      ],
      "text/plain": [
       "<IPython.core.display.HTML object>"
      ]
     },
     "metadata": {},
     "output_type": "display_data"
    },
    {
     "data": {
      "text/html": [
       "<span style=\"color:cyan\"> |-Best step: 0</span>"
      ],
      "text/plain": [
       "<IPython.core.display.HTML object>"
      ]
     },
     "metadata": {},
     "output_type": "display_data"
    },
    {
     "data": {
      "text/html": [
       "<span style=\"color:#7E57C2\"><h2 style=\"font-size:16px\">Hyperparameters:</h2></span>"
      ],
      "text/plain": [
       "<IPython.core.display.HTML object>"
      ]
     },
     "metadata": {},
     "output_type": "display_data"
    },
    {
     "data": {
      "text/html": [
       "<span style=\"color:cyan\"> |-conv_1: 32</span>"
      ],
      "text/plain": [
       "<IPython.core.display.HTML object>"
      ]
     },
     "metadata": {},
     "output_type": "display_data"
    },
    {
     "data": {
      "text/html": [
       "<span style=\"color:blue\"> |-conv_2: 64</span>"
      ],
      "text/plain": [
       "<IPython.core.display.HTML object>"
      ]
     },
     "metadata": {},
     "output_type": "display_data"
    },
    {
     "data": {
      "text/html": [
       "<span style=\"color:cyan\"> |-conv_3: 128</span>"
      ],
      "text/plain": [
       "<IPython.core.display.HTML object>"
      ]
     },
     "metadata": {},
     "output_type": "display_data"
    },
    {
     "data": {
      "text/html": [
       "<span style=\"color:blue\"> |-dropout_1: 0.4</span>"
      ],
      "text/plain": [
       "<IPython.core.display.HTML object>"
      ]
     },
     "metadata": {},
     "output_type": "display_data"
    },
    {
     "data": {
      "text/html": [
       "<span style=\"color:cyan\"> |-dropout_2: 0.1</span>"
      ],
      "text/plain": [
       "<IPython.core.display.HTML object>"
      ]
     },
     "metadata": {},
     "output_type": "display_data"
    },
    {
     "data": {
      "text/html": [
       "<span style=\"color:blue\"> |-dropout_3: 0.2</span>"
      ],
      "text/plain": [
       "<IPython.core.display.HTML object>"
      ]
     },
     "metadata": {},
     "output_type": "display_data"
    },
    {
     "data": {
      "text/html": [
       "<span style=\"color:cyan\"> |-dropout_4: 0.2</span>"
      ],
      "text/plain": [
       "<IPython.core.display.HTML object>"
      ]
     },
     "metadata": {},
     "output_type": "display_data"
    },
    {
     "data": {
      "text/html": [
       "<span style=\"color:blue\"> |-units: 1024</span>"
      ],
      "text/plain": [
       "<IPython.core.display.HTML object>"
      ]
     },
     "metadata": {},
     "output_type": "display_data"
    },
    {
     "name": "stdout",
     "output_type": "stream",
     "text": [
      "WARNING:tensorflow:sample_weight modes were coerced from\n",
      "  ...\n",
      "    to  \n",
      "  ['...']\n",
      "WARNING:tensorflow:sample_weight modes were coerced from\n",
      "  ...\n",
      "    to  \n",
      "  ['...']\n",
      "Train for 400 steps, validate for 171 steps\n",
      "Epoch 1/50\n",
      "400/400 - 22s - loss: 1.6488 - accuracy: 0.5930 - val_loss: 0.6762 - val_accuracy: 0.5919\n",
      "Epoch 2/50\n",
      "400/400 - 21s - loss: 0.6754 - accuracy: 0.5946 - val_loss: 0.6763 - val_accuracy: 0.5916\n",
      "Epoch 3/50\n",
      "400/400 - 21s - loss: 0.6752 - accuracy: 0.5946 - val_loss: 0.6763 - val_accuracy: 0.5917\n",
      "Epoch 4/50\n",
      "400/400 - 21s - loss: 0.6769 - accuracy: 0.5946 - val_loss: 0.6763 - val_accuracy: 0.5918\n",
      "Epoch 5/50\n",
      "400/400 - 21s - loss: 0.6753 - accuracy: 0.5946 - val_loss: 0.6765 - val_accuracy: 0.5911\n",
      "Epoch 6/50\n",
      "400/400 - 21s - loss: 0.6753 - accuracy: 0.5946 - val_loss: 0.6764 - val_accuracy: 0.5915\n"
     ]
    },
    {
     "data": {
      "text/html": [
       "<span style=\"color:#4527A0\"><h1 style=\"font-size:18px\">Trial complete</h1></span>"
      ],
      "text/plain": [
       "<IPython.core.display.HTML object>"
      ]
     },
     "metadata": {},
     "output_type": "display_data"
    },
    {
     "data": {
      "text/html": [
       "<span style=\"color:#4527A0\"><h1 style=\"font-size:18px\">Trial summary</h1></span>"
      ],
      "text/plain": [
       "<IPython.core.display.HTML object>"
      ]
     },
     "metadata": {},
     "output_type": "display_data"
    },
    {
     "data": {
      "text/html": [
       "<span style=\"color:cyan\"> |-Trial ID: 34d835493a82964f7fc0e58de33293fc</span>"
      ],
      "text/plain": [
       "<IPython.core.display.HTML object>"
      ]
     },
     "metadata": {},
     "output_type": "display_data"
    },
    {
     "data": {
      "text/html": [
       "<span style=\"color:cyan\"> |-Score: 0.5918628573417664</span>"
      ],
      "text/plain": [
       "<IPython.core.display.HTML object>"
      ]
     },
     "metadata": {},
     "output_type": "display_data"
    },
    {
     "data": {
      "text/html": [
       "<span style=\"color:cyan\"> |-Best step: 0</span>"
      ],
      "text/plain": [
       "<IPython.core.display.HTML object>"
      ]
     },
     "metadata": {},
     "output_type": "display_data"
    },
    {
     "data": {
      "text/html": [
       "<span style=\"color:#7E57C2\"><h2 style=\"font-size:16px\">Hyperparameters:</h2></span>"
      ],
      "text/plain": [
       "<IPython.core.display.HTML object>"
      ]
     },
     "metadata": {},
     "output_type": "display_data"
    },
    {
     "data": {
      "text/html": [
       "<span style=\"color:cyan\"> |-conv_1: 16</span>"
      ],
      "text/plain": [
       "<IPython.core.display.HTML object>"
      ]
     },
     "metadata": {},
     "output_type": "display_data"
    },
    {
     "data": {
      "text/html": [
       "<span style=\"color:blue\"> |-conv_2: 32</span>"
      ],
      "text/plain": [
       "<IPython.core.display.HTML object>"
      ]
     },
     "metadata": {},
     "output_type": "display_data"
    },
    {
     "data": {
      "text/html": [
       "<span style=\"color:cyan\"> |-conv_3: 128</span>"
      ],
      "text/plain": [
       "<IPython.core.display.HTML object>"
      ]
     },
     "metadata": {},
     "output_type": "display_data"
    },
    {
     "data": {
      "text/html": [
       "<span style=\"color:blue\"> |-dropout_1: 0.4</span>"
      ],
      "text/plain": [
       "<IPython.core.display.HTML object>"
      ]
     },
     "metadata": {},
     "output_type": "display_data"
    },
    {
     "data": {
      "text/html": [
       "<span style=\"color:cyan\"> |-dropout_2: 0.1</span>"
      ],
      "text/plain": [
       "<IPython.core.display.HTML object>"
      ]
     },
     "metadata": {},
     "output_type": "display_data"
    },
    {
     "data": {
      "text/html": [
       "<span style=\"color:blue\"> |-dropout_3: 0.0</span>"
      ],
      "text/plain": [
       "<IPython.core.display.HTML object>"
      ]
     },
     "metadata": {},
     "output_type": "display_data"
    },
    {
     "data": {
      "text/html": [
       "<span style=\"color:cyan\"> |-dropout_4: 0.2</span>"
      ],
      "text/plain": [
       "<IPython.core.display.HTML object>"
      ]
     },
     "metadata": {},
     "output_type": "display_data"
    },
    {
     "data": {
      "text/html": [
       "<span style=\"color:blue\"> |-units: 512</span>"
      ],
      "text/plain": [
       "<IPython.core.display.HTML object>"
      ]
     },
     "metadata": {},
     "output_type": "display_data"
    },
    {
     "name": "stdout",
     "output_type": "stream",
     "text": [
      "WARNING:tensorflow:sample_weight modes were coerced from\n",
      "  ...\n",
      "    to  \n",
      "  ['...']\n",
      "WARNING:tensorflow:sample_weight modes were coerced from\n",
      "  ...\n",
      "    to  \n",
      "  ['...']\n",
      "Train for 400 steps, validate for 171 steps\n",
      "Epoch 1/50\n",
      "400/400 - 22s - loss: 2.3998 - accuracy: 0.5948 - val_loss: 0.5862 - val_accuracy: 0.6916\n",
      "Epoch 2/50\n",
      "400/400 - 21s - loss: 0.5236 - accuracy: 0.7278 - val_loss: 0.5225 - val_accuracy: 0.5918\n",
      "Epoch 3/50\n",
      "400/400 - 21s - loss: 0.4840 - accuracy: 0.7600 - val_loss: 0.4918 - val_accuracy: 0.6706\n",
      "Epoch 4/50\n",
      "400/400 - 21s - loss: 0.4700 - accuracy: 0.7704 - val_loss: 0.5078 - val_accuracy: 0.6074\n",
      "Epoch 5/50\n",
      "400/400 - 21s - loss: 0.4616 - accuracy: 0.7737 - val_loss: 0.4780 - val_accuracy: 0.7469\n",
      "Epoch 6/50\n",
      "400/400 - 21s - loss: 0.4531 - accuracy: 0.7808 - val_loss: 0.4724 - val_accuracy: 0.7031\n",
      "Epoch 7/50\n",
      "400/400 - 21s - loss: 0.4359 - accuracy: 0.7922 - val_loss: 0.4422 - val_accuracy: 0.7760\n",
      "Epoch 8/50\n",
      "400/400 - 21s - loss: 0.4265 - accuracy: 0.7987 - val_loss: 0.4165 - val_accuracy: 0.7893\n",
      "Epoch 9/50\n",
      "400/400 - 21s - loss: 0.4035 - accuracy: 0.8141 - val_loss: 0.4204 - val_accuracy: 0.7797\n",
      "Epoch 10/50\n",
      "400/400 - 21s - loss: 0.3876 - accuracy: 0.8215 - val_loss: 0.3754 - val_accuracy: 0.8259\n",
      "Epoch 11/50\n",
      "400/400 - 21s - loss: 0.3749 - accuracy: 0.8297 - val_loss: 0.3699 - val_accuracy: 0.8325\n",
      "Epoch 12/50\n",
      "400/400 - 21s - loss: 0.3646 - accuracy: 0.8367 - val_loss: 0.3672 - val_accuracy: 0.8251\n",
      "Epoch 13/50\n",
      "400/400 - 21s - loss: 0.3560 - accuracy: 0.8400 - val_loss: 0.3989 - val_accuracy: 0.7959\n",
      "Epoch 14/50\n",
      "400/400 - 21s - loss: 0.3462 - accuracy: 0.8445 - val_loss: 0.3628 - val_accuracy: 0.8207\n",
      "Epoch 15/50\n",
      "400/400 - 21s - loss: 0.3425 - accuracy: 0.8472 - val_loss: 0.3138 - val_accuracy: 0.8645\n",
      "Epoch 16/50\n",
      "400/400 - 21s - loss: 0.3308 - accuracy: 0.8519 - val_loss: 0.3537 - val_accuracy: 0.8325\n",
      "Epoch 17/50\n",
      "400/400 - 21s - loss: 0.3248 - accuracy: 0.8569 - val_loss: 0.3898 - val_accuracy: 0.8180\n",
      "Epoch 18/50\n",
      "400/400 - 21s - loss: 0.3219 - accuracy: 0.8582 - val_loss: 0.3281 - val_accuracy: 0.8510\n",
      "Epoch 19/50\n",
      "400/400 - 21s - loss: 0.3178 - accuracy: 0.8605 - val_loss: 0.3423 - val_accuracy: 0.8393\n",
      "Epoch 20/50\n",
      "400/400 - 21s - loss: 0.3086 - accuracy: 0.8646 - val_loss: 0.3350 - val_accuracy: 0.8469\n"
     ]
    },
    {
     "data": {
      "text/html": [
       "<span style=\"color:#4527A0\"><h1 style=\"font-size:18px\">Trial complete</h1></span>"
      ],
      "text/plain": [
       "<IPython.core.display.HTML object>"
      ]
     },
     "metadata": {},
     "output_type": "display_data"
    },
    {
     "data": {
      "text/html": [
       "<span style=\"color:#4527A0\"><h1 style=\"font-size:18px\">Trial summary</h1></span>"
      ],
      "text/plain": [
       "<IPython.core.display.HTML object>"
      ]
     },
     "metadata": {},
     "output_type": "display_data"
    },
    {
     "data": {
      "text/html": [
       "<span style=\"color:cyan\"> |-Trial ID: 11716d048a1a2e30ea2aea1cd1ace974</span>"
      ],
      "text/plain": [
       "<IPython.core.display.HTML object>"
      ]
     },
     "metadata": {},
     "output_type": "display_data"
    },
    {
     "data": {
      "text/html": [
       "<span style=\"color:cyan\"> |-Score: 0.8645028471946716</span>"
      ],
      "text/plain": [
       "<IPython.core.display.HTML object>"
      ]
     },
     "metadata": {},
     "output_type": "display_data"
    },
    {
     "data": {
      "text/html": [
       "<span style=\"color:cyan\"> |-Best step: 0</span>"
      ],
      "text/plain": [
       "<IPython.core.display.HTML object>"
      ]
     },
     "metadata": {},
     "output_type": "display_data"
    },
    {
     "data": {
      "text/html": [
       "<span style=\"color:#7E57C2\"><h2 style=\"font-size:16px\">Hyperparameters:</h2></span>"
      ],
      "text/plain": [
       "<IPython.core.display.HTML object>"
      ]
     },
     "metadata": {},
     "output_type": "display_data"
    },
    {
     "data": {
      "text/html": [
       "<span style=\"color:cyan\"> |-conv_1: 32</span>"
      ],
      "text/plain": [
       "<IPython.core.display.HTML object>"
      ]
     },
     "metadata": {},
     "output_type": "display_data"
    },
    {
     "data": {
      "text/html": [
       "<span style=\"color:blue\"> |-conv_2: 32</span>"
      ],
      "text/plain": [
       "<IPython.core.display.HTML object>"
      ]
     },
     "metadata": {},
     "output_type": "display_data"
    },
    {
     "data": {
      "text/html": [
       "<span style=\"color:cyan\"> |-conv_3: 64</span>"
      ],
      "text/plain": [
       "<IPython.core.display.HTML object>"
      ]
     },
     "metadata": {},
     "output_type": "display_data"
    },
    {
     "data": {
      "text/html": [
       "<span style=\"color:blue\"> |-dropout_1: 0.30000000000000004</span>"
      ],
      "text/plain": [
       "<IPython.core.display.HTML object>"
      ]
     },
     "metadata": {},
     "output_type": "display_data"
    },
    {
     "data": {
      "text/html": [
       "<span style=\"color:cyan\"> |-dropout_2: 0.4</span>"
      ],
      "text/plain": [
       "<IPython.core.display.HTML object>"
      ]
     },
     "metadata": {},
     "output_type": "display_data"
    },
    {
     "data": {
      "text/html": [
       "<span style=\"color:blue\"> |-dropout_3: 0.2</span>"
      ],
      "text/plain": [
       "<IPython.core.display.HTML object>"
      ]
     },
     "metadata": {},
     "output_type": "display_data"
    },
    {
     "data": {
      "text/html": [
       "<span style=\"color:cyan\"> |-dropout_4: 0.4</span>"
      ],
      "text/plain": [
       "<IPython.core.display.HTML object>"
      ]
     },
     "metadata": {},
     "output_type": "display_data"
    },
    {
     "data": {
      "text/html": [
       "<span style=\"color:blue\"> |-units: 512</span>"
      ],
      "text/plain": [
       "<IPython.core.display.HTML object>"
      ]
     },
     "metadata": {},
     "output_type": "display_data"
    },
    {
     "name": "stdout",
     "output_type": "stream",
     "text": [
      "WARNING:tensorflow:sample_weight modes were coerced from\n",
      "  ...\n",
      "    to  \n",
      "  ['...']\n",
      "WARNING:tensorflow:sample_weight modes were coerced from\n",
      "  ...\n",
      "    to  \n",
      "  ['...']\n",
      "Train for 400 steps, validate for 171 steps\n",
      "Epoch 1/50\n",
      "400/400 - 22s - loss: 1.1988 - accuracy: 0.6991 - val_loss: 0.5677 - val_accuracy: 0.7758\n",
      "Epoch 2/50\n",
      "400/400 - 21s - loss: 0.4719 - accuracy: 0.7687 - val_loss: 0.5510 - val_accuracy: 0.7884\n",
      "Epoch 3/50\n",
      "400/400 - 21s - loss: 0.4592 - accuracy: 0.7768 - val_loss: 0.5306 - val_accuracy: 0.7867\n",
      "Epoch 4/50\n",
      "400/400 - 21s - loss: 0.4534 - accuracy: 0.7804 - val_loss: 0.4722 - val_accuracy: 0.8001\n",
      "Epoch 5/50\n",
      "400/400 - 21s - loss: 0.4458 - accuracy: 0.7865 - val_loss: 0.5394 - val_accuracy: 0.7830\n",
      "Epoch 6/50\n",
      "400/400 - 21s - loss: 0.4365 - accuracy: 0.7910 - val_loss: 0.4569 - val_accuracy: 0.8028\n",
      "Epoch 7/50\n",
      "400/400 - 21s - loss: 0.4299 - accuracy: 0.7957 - val_loss: 0.5036 - val_accuracy: 0.7996\n",
      "Epoch 8/50\n",
      "400/400 - 21s - loss: 0.4211 - accuracy: 0.7992 - val_loss: 0.4472 - val_accuracy: 0.8091\n",
      "Epoch 9/50\n",
      "400/400 - 21s - loss: 0.4113 - accuracy: 0.8059 - val_loss: 0.4388 - val_accuracy: 0.8055\n",
      "Epoch 10/50\n",
      "400/400 - 21s - loss: 0.4020 - accuracy: 0.8140 - val_loss: 0.4236 - val_accuracy: 0.8251\n",
      "Epoch 11/50\n",
      "400/400 - 21s - loss: 0.3942 - accuracy: 0.8160 - val_loss: 0.4845 - val_accuracy: 0.8105\n",
      "Epoch 12/50\n",
      "400/400 - 21s - loss: 0.3825 - accuracy: 0.8228 - val_loss: 0.4213 - val_accuracy: 0.8142\n",
      "Epoch 13/50\n",
      "400/400 - 21s - loss: 0.3717 - accuracy: 0.8291 - val_loss: 0.3862 - val_accuracy: 0.8348\n",
      "Epoch 14/50\n",
      "400/400 - 21s - loss: 0.3605 - accuracy: 0.8360 - val_loss: 0.3838 - val_accuracy: 0.8272\n",
      "Epoch 15/50\n",
      "400/400 - 21s - loss: 0.3498 - accuracy: 0.8403 - val_loss: 0.3768 - val_accuracy: 0.8466\n",
      "Epoch 16/50\n",
      "400/400 - 21s - loss: 0.3347 - accuracy: 0.8528 - val_loss: 0.3979 - val_accuracy: 0.8389\n",
      "Epoch 17/50\n",
      "400/400 - 21s - loss: 0.3294 - accuracy: 0.8543 - val_loss: 0.4169 - val_accuracy: 0.8349\n",
      "Epoch 18/50\n",
      "400/400 - 21s - loss: 0.3065 - accuracy: 0.8661 - val_loss: 0.3879 - val_accuracy: 0.8479\n",
      "Epoch 19/50\n",
      "400/400 - 21s - loss: 0.2882 - accuracy: 0.8738 - val_loss: 0.4017 - val_accuracy: 0.8391\n",
      "Epoch 20/50\n",
      "400/400 - 21s - loss: 0.2806 - accuracy: 0.8809 - val_loss: 0.3851 - val_accuracy: 0.8432\n",
      "Epoch 21/50\n",
      "400/400 - 21s - loss: 0.2612 - accuracy: 0.8906 - val_loss: 0.3595 - val_accuracy: 0.8453\n",
      "Epoch 22/50\n",
      "400/400 - 21s - loss: 0.2480 - accuracy: 0.8966 - val_loss: 0.4068 - val_accuracy: 0.8497\n",
      "Epoch 23/50\n",
      "400/400 - 21s - loss: 0.2359 - accuracy: 0.9032 - val_loss: 0.3886 - val_accuracy: 0.8500\n",
      "Epoch 24/50\n",
      "400/400 - 21s - loss: 0.2257 - accuracy: 0.9072 - val_loss: 0.4095 - val_accuracy: 0.8495\n",
      "Epoch 25/50\n",
      "400/400 - 21s - loss: 0.2167 - accuracy: 0.9140 - val_loss: 0.3867 - val_accuracy: 0.8507\n",
      "Epoch 26/50\n",
      "400/400 - 21s - loss: 0.2031 - accuracy: 0.9189 - val_loss: 0.3802 - val_accuracy: 0.8536\n",
      "Epoch 27/50\n",
      "400/400 - 21s - loss: 0.1934 - accuracy: 0.9235 - val_loss: 0.4210 - val_accuracy: 0.8416\n",
      "Epoch 28/50\n",
      "400/400 - 21s - loss: 0.2005 - accuracy: 0.9199 - val_loss: 0.4097 - val_accuracy: 0.8394\n",
      "Epoch 29/50\n",
      "400/400 - 21s - loss: 0.1737 - accuracy: 0.9319 - val_loss: 0.4458 - val_accuracy: 0.8255\n",
      "Epoch 30/50\n",
      "400/400 - 21s - loss: 0.1745 - accuracy: 0.9336 - val_loss: 0.4344 - val_accuracy: 0.8261\n",
      "Epoch 31/50\n",
      "400/400 - 21s - loss: 0.1649 - accuracy: 0.9368 - val_loss: 0.4264 - val_accuracy: 0.8268\n"
     ]
    },
    {
     "data": {
      "text/html": [
       "<span style=\"color:#4527A0\"><h1 style=\"font-size:18px\">Trial complete</h1></span>"
      ],
      "text/plain": [
       "<IPython.core.display.HTML object>"
      ]
     },
     "metadata": {},
     "output_type": "display_data"
    },
    {
     "data": {
      "text/html": [
       "<span style=\"color:#4527A0\"><h1 style=\"font-size:18px\">Trial summary</h1></span>"
      ],
      "text/plain": [
       "<IPython.core.display.HTML object>"
      ]
     },
     "metadata": {},
     "output_type": "display_data"
    },
    {
     "data": {
      "text/html": [
       "<span style=\"color:cyan\"> |-Trial ID: c2bf6ba6e6172096bc6c6406923ef4d5</span>"
      ],
      "text/plain": [
       "<IPython.core.display.HTML object>"
      ]
     },
     "metadata": {},
     "output_type": "display_data"
    },
    {
     "data": {
      "text/html": [
       "<span style=\"color:cyan\"> |-Score: 0.8535771369934082</span>"
      ],
      "text/plain": [
       "<IPython.core.display.HTML object>"
      ]
     },
     "metadata": {},
     "output_type": "display_data"
    },
    {
     "data": {
      "text/html": [
       "<span style=\"color:cyan\"> |-Best step: 0</span>"
      ],
      "text/plain": [
       "<IPython.core.display.HTML object>"
      ]
     },
     "metadata": {},
     "output_type": "display_data"
    },
    {
     "data": {
      "text/html": [
       "<span style=\"color:#7E57C2\"><h2 style=\"font-size:16px\">Hyperparameters:</h2></span>"
      ],
      "text/plain": [
       "<IPython.core.display.HTML object>"
      ]
     },
     "metadata": {},
     "output_type": "display_data"
    },
    {
     "data": {
      "text/html": [
       "<span style=\"color:cyan\"> |-conv_1: 32</span>"
      ],
      "text/plain": [
       "<IPython.core.display.HTML object>"
      ]
     },
     "metadata": {},
     "output_type": "display_data"
    },
    {
     "data": {
      "text/html": [
       "<span style=\"color:blue\"> |-conv_2: 32</span>"
      ],
      "text/plain": [
       "<IPython.core.display.HTML object>"
      ]
     },
     "metadata": {},
     "output_type": "display_data"
    },
    {
     "data": {
      "text/html": [
       "<span style=\"color:cyan\"> |-conv_3: 64</span>"
      ],
      "text/plain": [
       "<IPython.core.display.HTML object>"
      ]
     },
     "metadata": {},
     "output_type": "display_data"
    },
    {
     "data": {
      "text/html": [
       "<span style=\"color:blue\"> |-dropout_1: 0.4</span>"
      ],
      "text/plain": [
       "<IPython.core.display.HTML object>"
      ]
     },
     "metadata": {},
     "output_type": "display_data"
    },
    {
     "data": {
      "text/html": [
       "<span style=\"color:cyan\"> |-dropout_2: 0.1</span>"
      ],
      "text/plain": [
       "<IPython.core.display.HTML object>"
      ]
     },
     "metadata": {},
     "output_type": "display_data"
    },
    {
     "data": {
      "text/html": [
       "<span style=\"color:blue\"> |-dropout_3: 0.2</span>"
      ],
      "text/plain": [
       "<IPython.core.display.HTML object>"
      ]
     },
     "metadata": {},
     "output_type": "display_data"
    },
    {
     "data": {
      "text/html": [
       "<span style=\"color:cyan\"> |-dropout_4: 0.1</span>"
      ],
      "text/plain": [
       "<IPython.core.display.HTML object>"
      ]
     },
     "metadata": {},
     "output_type": "display_data"
    },
    {
     "data": {
      "text/html": [
       "<span style=\"color:blue\"> |-units: 768</span>"
      ],
      "text/plain": [
       "<IPython.core.display.HTML object>"
      ]
     },
     "metadata": {},
     "output_type": "display_data"
    },
    {
     "name": "stdout",
     "output_type": "stream",
     "text": [
      "WARNING:tensorflow:sample_weight modes were coerced from\n",
      "  ...\n",
      "    to  \n",
      "  ['...']\n",
      "WARNING:tensorflow:sample_weight modes were coerced from\n",
      "  ...\n",
      "    to  \n",
      "  ['...']\n",
      "Train for 400 steps, validate for 171 steps\n",
      "Epoch 1/50\n",
      "400/400 - 22s - loss: 1.8887 - accuracy: 0.6657 - val_loss: 0.4736 - val_accuracy: 0.7677\n",
      "Epoch 2/50\n",
      "400/400 - 21s - loss: 0.4694 - accuracy: 0.7678 - val_loss: 0.4519 - val_accuracy: 0.7736\n",
      "Epoch 3/50\n",
      "400/400 - 21s - loss: 0.4530 - accuracy: 0.7805 - val_loss: 0.4343 - val_accuracy: 0.7970\n",
      "Epoch 4/50\n",
      "400/400 - 21s - loss: 0.4367 - accuracy: 0.7886 - val_loss: 0.4094 - val_accuracy: 0.8155\n",
      "Epoch 5/50\n",
      "400/400 - 21s - loss: 0.4215 - accuracy: 0.8005 - val_loss: 0.4004 - val_accuracy: 0.8115\n",
      "Epoch 6/50\n",
      "400/400 - 21s - loss: 0.4068 - accuracy: 0.8107 - val_loss: 0.4082 - val_accuracy: 0.8116\n",
      "Epoch 7/50\n",
      "400/400 - 21s - loss: 0.3955 - accuracy: 0.8150 - val_loss: 0.3956 - val_accuracy: 0.8285\n",
      "Epoch 8/50\n",
      "400/400 - 21s - loss: 0.3867 - accuracy: 0.8225 - val_loss: 0.3965 - val_accuracy: 0.8240\n",
      "Epoch 9/50\n",
      "400/400 - 21s - loss: 0.3742 - accuracy: 0.8284 - val_loss: 0.3804 - val_accuracy: 0.8416\n",
      "Epoch 10/50\n",
      "400/400 - 21s - loss: 0.3653 - accuracy: 0.8335 - val_loss: 0.4330 - val_accuracy: 0.8005\n",
      "Epoch 11/50\n",
      "400/400 - 21s - loss: 0.3607 - accuracy: 0.8357 - val_loss: 0.3662 - val_accuracy: 0.8412\n",
      "Epoch 12/50\n",
      "400/400 - 21s - loss: 0.3512 - accuracy: 0.8405 - val_loss: 0.3501 - val_accuracy: 0.8468\n",
      "Epoch 13/50\n",
      "400/400 - 21s - loss: 0.3373 - accuracy: 0.8490 - val_loss: 0.3467 - val_accuracy: 0.8580\n",
      "Epoch 14/50\n",
      "400/400 - 21s - loss: 0.3298 - accuracy: 0.8532 - val_loss: 0.3415 - val_accuracy: 0.8598\n",
      "Epoch 15/50\n",
      "400/400 - 21s - loss: 0.3221 - accuracy: 0.8587 - val_loss: 0.3380 - val_accuracy: 0.8561\n",
      "Epoch 16/50\n",
      "400/400 - 21s - loss: 0.3148 - accuracy: 0.8609 - val_loss: 0.3132 - val_accuracy: 0.8683\n",
      "Epoch 17/50\n",
      "400/400 - 21s - loss: 0.3121 - accuracy: 0.8627 - val_loss: 0.3384 - val_accuracy: 0.8568\n",
      "Epoch 18/50\n",
      "400/400 - 21s - loss: 0.2973 - accuracy: 0.8705 - val_loss: 0.3215 - val_accuracy: 0.8666\n",
      "Epoch 19/50\n",
      "400/400 - 21s - loss: 0.2948 - accuracy: 0.8708 - val_loss: 0.2901 - val_accuracy: 0.8811\n",
      "Epoch 20/50\n",
      "400/400 - 21s - loss: 0.2917 - accuracy: 0.8739 - val_loss: 0.3100 - val_accuracy: 0.8785\n",
      "Epoch 21/50\n",
      "400/400 - 21s - loss: 0.2865 - accuracy: 0.8772 - val_loss: 0.2950 - val_accuracy: 0.8779\n",
      "Epoch 22/50\n",
      "400/400 - 21s - loss: 0.2762 - accuracy: 0.8800 - val_loss: 0.3160 - val_accuracy: 0.8742\n",
      "Epoch 23/50\n",
      "400/400 - 21s - loss: 0.2712 - accuracy: 0.8841 - val_loss: 0.3381 - val_accuracy: 0.8613\n",
      "Epoch 24/50\n",
      "400/400 - 21s - loss: 0.2652 - accuracy: 0.8864 - val_loss: 0.2738 - val_accuracy: 0.8924\n",
      "Epoch 25/50\n",
      "400/400 - 21s - loss: 0.2598 - accuracy: 0.8883 - val_loss: 0.2731 - val_accuracy: 0.8874\n",
      "Epoch 26/50\n",
      "400/400 - 21s - loss: 0.2530 - accuracy: 0.8925 - val_loss: 0.2974 - val_accuracy: 0.8868\n",
      "Epoch 27/50\n",
      "400/400 - 21s - loss: 0.2519 - accuracy: 0.8924 - val_loss: 0.2541 - val_accuracy: 0.8997\n",
      "Epoch 28/50\n",
      "400/400 - 21s - loss: 0.2481 - accuracy: 0.8945 - val_loss: 0.2627 - val_accuracy: 0.8920\n",
      "Epoch 29/50\n",
      "400/400 - 21s - loss: 0.2443 - accuracy: 0.8958 - val_loss: 0.2590 - val_accuracy: 0.8900\n",
      "Epoch 30/50\n",
      "400/400 - 21s - loss: 0.2377 - accuracy: 0.9004 - val_loss: 0.2441 - val_accuracy: 0.8933\n",
      "Epoch 31/50\n",
      "400/400 - 21s - loss: 0.2342 - accuracy: 0.9014 - val_loss: 0.2457 - val_accuracy: 0.8965\n",
      "Epoch 32/50\n",
      "400/400 - 21s - loss: 0.2333 - accuracy: 0.9017 - val_loss: 0.3142 - val_accuracy: 0.8859\n"
     ]
    },
    {
     "data": {
      "text/html": [
       "<span style=\"color:#4527A0\"><h1 style=\"font-size:18px\">Trial complete</h1></span>"
      ],
      "text/plain": [
       "<IPython.core.display.HTML object>"
      ]
     },
     "metadata": {},
     "output_type": "display_data"
    },
    {
     "data": {
      "text/html": [
       "<span style=\"color:#4527A0\"><h1 style=\"font-size:18px\">Trial summary</h1></span>"
      ],
      "text/plain": [
       "<IPython.core.display.HTML object>"
      ]
     },
     "metadata": {},
     "output_type": "display_data"
    },
    {
     "data": {
      "text/html": [
       "<span style=\"color:cyan\"> |-Trial ID: a9bf8936894d76ff1882b142c94470ed</span>"
      ],
      "text/plain": [
       "<IPython.core.display.HTML object>"
      ]
     },
     "metadata": {},
     "output_type": "display_data"
    },
    {
     "data": {
      "text/html": [
       "<span style=\"color:cyan\"> |-Score: 0.8997028470039368</span>"
      ],
      "text/plain": [
       "<IPython.core.display.HTML object>"
      ]
     },
     "metadata": {},
     "output_type": "display_data"
    },
    {
     "data": {
      "text/html": [
       "<span style=\"color:cyan\"> |-Best step: 0</span>"
      ],
      "text/plain": [
       "<IPython.core.display.HTML object>"
      ]
     },
     "metadata": {},
     "output_type": "display_data"
    },
    {
     "data": {
      "text/html": [
       "<span style=\"color:#7E57C2\"><h2 style=\"font-size:16px\">Hyperparameters:</h2></span>"
      ],
      "text/plain": [
       "<IPython.core.display.HTML object>"
      ]
     },
     "metadata": {},
     "output_type": "display_data"
    },
    {
     "data": {
      "text/html": [
       "<span style=\"color:cyan\"> |-conv_1: 32</span>"
      ],
      "text/plain": [
       "<IPython.core.display.HTML object>"
      ]
     },
     "metadata": {},
     "output_type": "display_data"
    },
    {
     "data": {
      "text/html": [
       "<span style=\"color:blue\"> |-conv_2: 32</span>"
      ],
      "text/plain": [
       "<IPython.core.display.HTML object>"
      ]
     },
     "metadata": {},
     "output_type": "display_data"
    },
    {
     "data": {
      "text/html": [
       "<span style=\"color:cyan\"> |-conv_3: 128</span>"
      ],
      "text/plain": [
       "<IPython.core.display.HTML object>"
      ]
     },
     "metadata": {},
     "output_type": "display_data"
    },
    {
     "data": {
      "text/html": [
       "<span style=\"color:blue\"> |-dropout_1: 0.4</span>"
      ],
      "text/plain": [
       "<IPython.core.display.HTML object>"
      ]
     },
     "metadata": {},
     "output_type": "display_data"
    },
    {
     "data": {
      "text/html": [
       "<span style=\"color:cyan\"> |-dropout_2: 0.30000000000000004</span>"
      ],
      "text/plain": [
       "<IPython.core.display.HTML object>"
      ]
     },
     "metadata": {},
     "output_type": "display_data"
    },
    {
     "data": {
      "text/html": [
       "<span style=\"color:blue\"> |-dropout_3: 0.1</span>"
      ],
      "text/plain": [
       "<IPython.core.display.HTML object>"
      ]
     },
     "metadata": {},
     "output_type": "display_data"
    },
    {
     "data": {
      "text/html": [
       "<span style=\"color:cyan\"> |-dropout_4: 0.30000000000000004</span>"
      ],
      "text/plain": [
       "<IPython.core.display.HTML object>"
      ]
     },
     "metadata": {},
     "output_type": "display_data"
    },
    {
     "data": {
      "text/html": [
       "<span style=\"color:blue\"> |-units: 256</span>"
      ],
      "text/plain": [
       "<IPython.core.display.HTML object>"
      ]
     },
     "metadata": {},
     "output_type": "display_data"
    },
    {
     "name": "stdout",
     "output_type": "stream",
     "text": [
      "WARNING:tensorflow:sample_weight modes were coerced from\n",
      "  ...\n",
      "    to  \n",
      "  ['...']\n",
      "WARNING:tensorflow:sample_weight modes were coerced from\n",
      "  ...\n",
      "    to  \n",
      "  ['...']\n",
      "Train for 400 steps, validate for 171 steps\n",
      "Epoch 1/50\n",
      "400/400 - 23s - loss: 1.9951 - accuracy: 0.7173 - val_loss: 0.5193 - val_accuracy: 0.7769\n",
      "Epoch 2/50\n",
      "400/400 - 22s - loss: 0.4676 - accuracy: 0.7738 - val_loss: 0.4902 - val_accuracy: 0.7905\n",
      "Epoch 3/50\n",
      "400/400 - 22s - loss: 0.4534 - accuracy: 0.7794 - val_loss: 0.4838 - val_accuracy: 0.7886\n",
      "Epoch 4/50\n",
      "400/400 - 22s - loss: 0.4438 - accuracy: 0.7868 - val_loss: 0.4610 - val_accuracy: 0.7911\n",
      "Epoch 5/50\n",
      "400/400 - 22s - loss: 0.4313 - accuracy: 0.7941 - val_loss: 0.4320 - val_accuracy: 0.7903\n",
      "Epoch 6/50\n",
      "400/400 - 22s - loss: 0.4198 - accuracy: 0.8030 - val_loss: 0.4104 - val_accuracy: 0.8075\n",
      "Epoch 7/50\n",
      "400/400 - 22s - loss: 0.3966 - accuracy: 0.8164 - val_loss: 0.3697 - val_accuracy: 0.8295\n",
      "Epoch 8/50\n",
      "400/400 - 22s - loss: 0.3788 - accuracy: 0.8263 - val_loss: 0.3607 - val_accuracy: 0.8392\n",
      "Epoch 9/50\n",
      "400/400 - 22s - loss: 0.3648 - accuracy: 0.8325 - val_loss: 0.3478 - val_accuracy: 0.8529\n",
      "Epoch 10/50\n",
      "400/400 - 22s - loss: 0.3489 - accuracy: 0.8420 - val_loss: 0.3167 - val_accuracy: 0.8538\n",
      "Epoch 11/50\n",
      "400/400 - 22s - loss: 0.3385 - accuracy: 0.8471 - val_loss: 0.3188 - val_accuracy: 0.8490\n",
      "Epoch 12/50\n",
      "400/400 - 22s - loss: 0.3268 - accuracy: 0.8544 - val_loss: 0.3039 - val_accuracy: 0.8612\n",
      "Epoch 13/50\n",
      "400/400 - 22s - loss: 0.3137 - accuracy: 0.8586 - val_loss: 0.2892 - val_accuracy: 0.8701\n",
      "Epoch 14/50\n",
      "400/400 - 22s - loss: 0.3067 - accuracy: 0.8637 - val_loss: 0.3055 - val_accuracy: 0.8746\n",
      "Epoch 15/50\n",
      "400/400 - 22s - loss: 0.2927 - accuracy: 0.8725 - val_loss: 0.2853 - val_accuracy: 0.8757\n",
      "Epoch 16/50\n",
      "400/400 - 22s - loss: 0.2864 - accuracy: 0.8763 - val_loss: 0.2817 - val_accuracy: 0.8784\n",
      "Epoch 17/50\n",
      "400/400 - 22s - loss: 0.2853 - accuracy: 0.8728 - val_loss: 0.3034 - val_accuracy: 0.8809\n",
      "Epoch 18/50\n",
      "400/400 - 22s - loss: 0.2785 - accuracy: 0.8801 - val_loss: 0.2935 - val_accuracy: 0.8858\n",
      "Epoch 19/50\n",
      "400/400 - 22s - loss: 0.2658 - accuracy: 0.8858 - val_loss: 0.2704 - val_accuracy: 0.8981\n",
      "Epoch 20/50\n",
      "400/400 - 22s - loss: 0.2586 - accuracy: 0.8877 - val_loss: 0.2888 - val_accuracy: 0.8931\n",
      "Epoch 21/50\n",
      "400/400 - 22s - loss: 0.2502 - accuracy: 0.8928 - val_loss: 0.2704 - val_accuracy: 0.8911\n",
      "Epoch 22/50\n",
      "400/400 - 22s - loss: 0.2434 - accuracy: 0.8959 - val_loss: 0.2797 - val_accuracy: 0.8904\n",
      "Epoch 23/50\n",
      "400/400 - 22s - loss: 0.2363 - accuracy: 0.8988 - val_loss: 0.3137 - val_accuracy: 0.8857\n",
      "Epoch 24/50\n",
      "400/400 - 22s - loss: 0.2371 - accuracy: 0.8991 - val_loss: 0.2798 - val_accuracy: 0.8867\n"
     ]
    },
    {
     "data": {
      "text/html": [
       "<span style=\"color:#4527A0\"><h1 style=\"font-size:18px\">Trial complete</h1></span>"
      ],
      "text/plain": [
       "<IPython.core.display.HTML object>"
      ]
     },
     "metadata": {},
     "output_type": "display_data"
    },
    {
     "data": {
      "text/html": [
       "<span style=\"color:#4527A0\"><h1 style=\"font-size:18px\">Trial summary</h1></span>"
      ],
      "text/plain": [
       "<IPython.core.display.HTML object>"
      ]
     },
     "metadata": {},
     "output_type": "display_data"
    },
    {
     "data": {
      "text/html": [
       "<span style=\"color:cyan\"> |-Trial ID: ea794de7320c48474348ca53baae7821</span>"
      ],
      "text/plain": [
       "<IPython.core.display.HTML object>"
      ]
     },
     "metadata": {},
     "output_type": "display_data"
    },
    {
     "data": {
      "text/html": [
       "<span style=\"color:cyan\"> |-Score: 0.8980571627616882</span>"
      ],
      "text/plain": [
       "<IPython.core.display.HTML object>"
      ]
     },
     "metadata": {},
     "output_type": "display_data"
    },
    {
     "data": {
      "text/html": [
       "<span style=\"color:cyan\"> |-Best step: 0</span>"
      ],
      "text/plain": [
       "<IPython.core.display.HTML object>"
      ]
     },
     "metadata": {},
     "output_type": "display_data"
    },
    {
     "data": {
      "text/html": [
       "<span style=\"color:#7E57C2\"><h2 style=\"font-size:16px\">Hyperparameters:</h2></span>"
      ],
      "text/plain": [
       "<IPython.core.display.HTML object>"
      ]
     },
     "metadata": {},
     "output_type": "display_data"
    },
    {
     "data": {
      "text/html": [
       "<span style=\"color:cyan\"> |-conv_1: 32</span>"
      ],
      "text/plain": [
       "<IPython.core.display.HTML object>"
      ]
     },
     "metadata": {},
     "output_type": "display_data"
    },
    {
     "data": {
      "text/html": [
       "<span style=\"color:blue\"> |-conv_2: 64</span>"
      ],
      "text/plain": [
       "<IPython.core.display.HTML object>"
      ]
     },
     "metadata": {},
     "output_type": "display_data"
    },
    {
     "data": {
      "text/html": [
       "<span style=\"color:cyan\"> |-conv_3: 128</span>"
      ],
      "text/plain": [
       "<IPython.core.display.HTML object>"
      ]
     },
     "metadata": {},
     "output_type": "display_data"
    },
    {
     "data": {
      "text/html": [
       "<span style=\"color:blue\"> |-dropout_1: 0.30000000000000004</span>"
      ],
      "text/plain": [
       "<IPython.core.display.HTML object>"
      ]
     },
     "metadata": {},
     "output_type": "display_data"
    },
    {
     "data": {
      "text/html": [
       "<span style=\"color:cyan\"> |-dropout_2: 0.1</span>"
      ],
      "text/plain": [
       "<IPython.core.display.HTML object>"
      ]
     },
     "metadata": {},
     "output_type": "display_data"
    },
    {
     "data": {
      "text/html": [
       "<span style=\"color:blue\"> |-dropout_3: 0.30000000000000004</span>"
      ],
      "text/plain": [
       "<IPython.core.display.HTML object>"
      ]
     },
     "metadata": {},
     "output_type": "display_data"
    },
    {
     "data": {
      "text/html": [
       "<span style=\"color:cyan\"> |-dropout_4: 0.1</span>"
      ],
      "text/plain": [
       "<IPython.core.display.HTML object>"
      ]
     },
     "metadata": {},
     "output_type": "display_data"
    },
    {
     "data": {
      "text/html": [
       "<span style=\"color:blue\"> |-units: 384</span>"
      ],
      "text/plain": [
       "<IPython.core.display.HTML object>"
      ]
     },
     "metadata": {},
     "output_type": "display_data"
    },
    {
     "name": "stdout",
     "output_type": "stream",
     "text": [
      "WARNING:tensorflow:sample_weight modes were coerced from\n",
      "  ...\n",
      "    to  \n",
      "  ['...']\n",
      "WARNING:tensorflow:sample_weight modes were coerced from\n",
      "  ...\n",
      "    to  \n",
      "  ['...']\n",
      "Train for 400 steps, validate for 171 steps\n",
      "Epoch 1/50\n",
      "400/400 - 22s - loss: 0.9750 - accuracy: 0.7178 - val_loss: 0.4601 - val_accuracy: 0.7828\n",
      "Epoch 2/50\n",
      "400/400 - 21s - loss: 0.4691 - accuracy: 0.7735 - val_loss: 0.4766 - val_accuracy: 0.7556\n",
      "Epoch 3/50\n",
      "400/400 - 21s - loss: 0.4586 - accuracy: 0.7778 - val_loss: 0.4874 - val_accuracy: 0.7405\n",
      "Epoch 4/50\n",
      "400/400 - 21s - loss: 0.4514 - accuracy: 0.7818 - val_loss: 0.4579 - val_accuracy: 0.7648\n",
      "Epoch 5/50\n",
      "400/400 - 21s - loss: 0.4363 - accuracy: 0.7925 - val_loss: 0.4444 - val_accuracy: 0.7657\n",
      "Epoch 6/50\n",
      "400/400 - 21s - loss: 0.4261 - accuracy: 0.7985 - val_loss: 0.4060 - val_accuracy: 0.8029\n",
      "Epoch 7/50\n",
      "400/400 - 21s - loss: 0.4054 - accuracy: 0.8107 - val_loss: 0.3911 - val_accuracy: 0.8103\n",
      "Epoch 8/50\n",
      "400/400 - 21s - loss: 0.3905 - accuracy: 0.8190 - val_loss: 0.3912 - val_accuracy: 0.8111\n",
      "Epoch 9/50\n",
      "400/400 - 21s - loss: 0.3751 - accuracy: 0.8281 - val_loss: 0.3739 - val_accuracy: 0.8215\n",
      "Epoch 10/50\n",
      "400/400 - 21s - loss: 0.3618 - accuracy: 0.8372 - val_loss: 0.3564 - val_accuracy: 0.8330\n",
      "Epoch 11/50\n",
      "400/400 - 21s - loss: 0.3529 - accuracy: 0.8419 - val_loss: 0.3642 - val_accuracy: 0.8063\n",
      "Epoch 12/50\n",
      "400/400 - 21s - loss: 0.3370 - accuracy: 0.8494 - val_loss: 0.3409 - val_accuracy: 0.8320\n",
      "Epoch 13/50\n",
      "400/400 - 21s - loss: 0.3285 - accuracy: 0.8531 - val_loss: 0.3468 - val_accuracy: 0.8223\n",
      "Epoch 14/50\n",
      "400/400 - 21s - loss: 0.3249 - accuracy: 0.8569 - val_loss: 0.3458 - val_accuracy: 0.8319\n",
      "Epoch 15/50\n",
      "400/400 - 21s - loss: 0.3121 - accuracy: 0.8610 - val_loss: 0.3540 - val_accuracy: 0.8323\n"
     ]
    },
    {
     "data": {
      "text/html": [
       "<span style=\"color:#4527A0\"><h1 style=\"font-size:18px\">Trial complete</h1></span>"
      ],
      "text/plain": [
       "<IPython.core.display.HTML object>"
      ]
     },
     "metadata": {},
     "output_type": "display_data"
    },
    {
     "data": {
      "text/html": [
       "<span style=\"color:#4527A0\"><h1 style=\"font-size:18px\">Trial summary</h1></span>"
      ],
      "text/plain": [
       "<IPython.core.display.HTML object>"
      ]
     },
     "metadata": {},
     "output_type": "display_data"
    },
    {
     "data": {
      "text/html": [
       "<span style=\"color:cyan\"> |-Trial ID: 74000d9178d878a644d3b7ac141c415b</span>"
      ],
      "text/plain": [
       "<IPython.core.display.HTML object>"
      ]
     },
     "metadata": {},
     "output_type": "display_data"
    },
    {
     "data": {
      "text/html": [
       "<span style=\"color:cyan\"> |-Score: 0.8330057263374329</span>"
      ],
      "text/plain": [
       "<IPython.core.display.HTML object>"
      ]
     },
     "metadata": {},
     "output_type": "display_data"
    },
    {
     "data": {
      "text/html": [
       "<span style=\"color:cyan\"> |-Best step: 0</span>"
      ],
      "text/plain": [
       "<IPython.core.display.HTML object>"
      ]
     },
     "metadata": {},
     "output_type": "display_data"
    },
    {
     "data": {
      "text/html": [
       "<span style=\"color:#7E57C2\"><h2 style=\"font-size:16px\">Hyperparameters:</h2></span>"
      ],
      "text/plain": [
       "<IPython.core.display.HTML object>"
      ]
     },
     "metadata": {},
     "output_type": "display_data"
    },
    {
     "data": {
      "text/html": [
       "<span style=\"color:cyan\"> |-conv_1: 32</span>"
      ],
      "text/plain": [
       "<IPython.core.display.HTML object>"
      ]
     },
     "metadata": {},
     "output_type": "display_data"
    },
    {
     "data": {
      "text/html": [
       "<span style=\"color:blue\"> |-conv_2: 64</span>"
      ],
      "text/plain": [
       "<IPython.core.display.HTML object>"
      ]
     },
     "metadata": {},
     "output_type": "display_data"
    },
    {
     "data": {
      "text/html": [
       "<span style=\"color:cyan\"> |-conv_3: 64</span>"
      ],
      "text/plain": [
       "<IPython.core.display.HTML object>"
      ]
     },
     "metadata": {},
     "output_type": "display_data"
    },
    {
     "data": {
      "text/html": [
       "<span style=\"color:blue\"> |-dropout_1: 0.0</span>"
      ],
      "text/plain": [
       "<IPython.core.display.HTML object>"
      ]
     },
     "metadata": {},
     "output_type": "display_data"
    },
    {
     "data": {
      "text/html": [
       "<span style=\"color:cyan\"> |-dropout_2: 0.5</span>"
      ],
      "text/plain": [
       "<IPython.core.display.HTML object>"
      ]
     },
     "metadata": {},
     "output_type": "display_data"
    },
    {
     "data": {
      "text/html": [
       "<span style=\"color:blue\"> |-dropout_3: 0.4</span>"
      ],
      "text/plain": [
       "<IPython.core.display.HTML object>"
      ]
     },
     "metadata": {},
     "output_type": "display_data"
    },
    {
     "data": {
      "text/html": [
       "<span style=\"color:cyan\"> |-dropout_4: 0.0</span>"
      ],
      "text/plain": [
       "<IPython.core.display.HTML object>"
      ]
     },
     "metadata": {},
     "output_type": "display_data"
    },
    {
     "data": {
      "text/html": [
       "<span style=\"color:blue\"> |-units: 256</span>"
      ],
      "text/plain": [
       "<IPython.core.display.HTML object>"
      ]
     },
     "metadata": {},
     "output_type": "display_data"
    },
    {
     "name": "stdout",
     "output_type": "stream",
     "text": [
      "WARNING:tensorflow:sample_weight modes were coerced from\n",
      "  ...\n",
      "    to  \n",
      "  ['...']\n",
      "WARNING:tensorflow:sample_weight modes were coerced from\n",
      "  ...\n",
      "    to  \n",
      "  ['...']\n",
      "Train for 400 steps, validate for 171 steps\n",
      "Epoch 1/50\n",
      "400/400 - 22s - loss: 2.0578 - accuracy: 0.7151 - val_loss: 0.5537 - val_accuracy: 0.7656\n",
      "Epoch 2/50\n",
      "400/400 - 21s - loss: 0.4784 - accuracy: 0.7637 - val_loss: 0.5078 - val_accuracy: 0.7849\n",
      "Epoch 3/50\n",
      "400/400 - 21s - loss: 0.4636 - accuracy: 0.7743 - val_loss: 0.4621 - val_accuracy: 0.7931\n",
      "Epoch 4/50\n",
      "400/400 - 21s - loss: 0.4518 - accuracy: 0.7822 - val_loss: 0.4611 - val_accuracy: 0.8065\n",
      "Epoch 5/50\n",
      "400/400 - 21s - loss: 0.4442 - accuracy: 0.7870 - val_loss: 0.4350 - val_accuracy: 0.8054\n",
      "Epoch 6/50\n",
      "400/400 - 21s - loss: 0.4324 - accuracy: 0.7951 - val_loss: 0.4316 - val_accuracy: 0.8089\n",
      "Epoch 7/50\n",
      "400/400 - 21s - loss: 0.4244 - accuracy: 0.7988 - val_loss: 0.4136 - val_accuracy: 0.8137\n",
      "Epoch 8/50\n",
      "400/400 - 21s - loss: 0.4105 - accuracy: 0.8071 - val_loss: 0.4029 - val_accuracy: 0.8240\n",
      "Epoch 9/50\n",
      "400/400 - 21s - loss: 0.4014 - accuracy: 0.8125 - val_loss: 0.3993 - val_accuracy: 0.8328\n",
      "Epoch 10/50\n",
      "400/400 - 21s - loss: 0.3950 - accuracy: 0.8138 - val_loss: 0.3976 - val_accuracy: 0.8174\n",
      "Epoch 11/50\n",
      "400/400 - 21s - loss: 0.3835 - accuracy: 0.8194 - val_loss: 0.3775 - val_accuracy: 0.8405\n",
      "Epoch 12/50\n",
      "400/400 - 21s - loss: 0.3788 - accuracy: 0.8226 - val_loss: 0.3543 - val_accuracy: 0.8290\n",
      "Epoch 13/50\n",
      "400/400 - 21s - loss: 0.3643 - accuracy: 0.8309 - val_loss: 0.3681 - val_accuracy: 0.8359\n",
      "Epoch 14/50\n",
      "400/400 - 21s - loss: 0.3588 - accuracy: 0.8363 - val_loss: 0.3409 - val_accuracy: 0.8362\n",
      "Epoch 15/50\n",
      "400/400 - 21s - loss: 0.3418 - accuracy: 0.8446 - val_loss: 0.3236 - val_accuracy: 0.8491\n",
      "Epoch 16/50\n",
      "400/400 - 21s - loss: 0.3379 - accuracy: 0.8451 - val_loss: 0.3041 - val_accuracy: 0.8658\n",
      "Epoch 17/50\n",
      "400/400 - 21s - loss: 0.3275 - accuracy: 0.8513 - val_loss: 0.2947 - val_accuracy: 0.8768\n",
      "Epoch 18/50\n",
      "400/400 - 21s - loss: 0.3177 - accuracy: 0.8572 - val_loss: 0.2924 - val_accuracy: 0.8743\n",
      "Epoch 19/50\n",
      "400/400 - 21s - loss: 0.3122 - accuracy: 0.8604 - val_loss: 0.3045 - val_accuracy: 0.8719\n",
      "Epoch 20/50\n",
      "400/400 - 21s - loss: 0.3071 - accuracy: 0.8632 - val_loss: 0.3048 - val_accuracy: 0.8631\n",
      "Epoch 21/50\n",
      "400/400 - 21s - loss: 0.2973 - accuracy: 0.8703 - val_loss: 0.3265 - val_accuracy: 0.8638\n",
      "Epoch 22/50\n",
      "400/400 - 21s - loss: 0.2977 - accuracy: 0.8683 - val_loss: 0.2916 - val_accuracy: 0.8724\n"
     ]
    },
    {
     "data": {
      "text/html": [
       "<span style=\"color:#4527A0\"><h1 style=\"font-size:18px\">Trial complete</h1></span>"
      ],
      "text/plain": [
       "<IPython.core.display.HTML object>"
      ]
     },
     "metadata": {},
     "output_type": "display_data"
    },
    {
     "data": {
      "text/html": [
       "<span style=\"color:#4527A0\"><h1 style=\"font-size:18px\">Trial summary</h1></span>"
      ],
      "text/plain": [
       "<IPython.core.display.HTML object>"
      ]
     },
     "metadata": {},
     "output_type": "display_data"
    },
    {
     "data": {
      "text/html": [
       "<span style=\"color:cyan\"> |-Trial ID: 1b1d3005f954ebc13f6b0b7f01872f15</span>"
      ],
      "text/plain": [
       "<IPython.core.display.HTML object>"
      ]
     },
     "metadata": {},
     "output_type": "display_data"
    },
    {
     "data": {
      "text/html": [
       "<span style=\"color:cyan\"> |-Score: 0.8767542839050293</span>"
      ],
      "text/plain": [
       "<IPython.core.display.HTML object>"
      ]
     },
     "metadata": {},
     "output_type": "display_data"
    },
    {
     "data": {
      "text/html": [
       "<span style=\"color:cyan\"> |-Best step: 0</span>"
      ],
      "text/plain": [
       "<IPython.core.display.HTML object>"
      ]
     },
     "metadata": {},
     "output_type": "display_data"
    },
    {
     "data": {
      "text/html": [
       "<span style=\"color:#7E57C2\"><h2 style=\"font-size:16px\">Hyperparameters:</h2></span>"
      ],
      "text/plain": [
       "<IPython.core.display.HTML object>"
      ]
     },
     "metadata": {},
     "output_type": "display_data"
    },
    {
     "data": {
      "text/html": [
       "<span style=\"color:cyan\"> |-conv_1: 16</span>"
      ],
      "text/plain": [
       "<IPython.core.display.HTML object>"
      ]
     },
     "metadata": {},
     "output_type": "display_data"
    },
    {
     "data": {
      "text/html": [
       "<span style=\"color:blue\"> |-conv_2: 32</span>"
      ],
      "text/plain": [
       "<IPython.core.display.HTML object>"
      ]
     },
     "metadata": {},
     "output_type": "display_data"
    },
    {
     "data": {
      "text/html": [
       "<span style=\"color:cyan\"> |-conv_3: 64</span>"
      ],
      "text/plain": [
       "<IPython.core.display.HTML object>"
      ]
     },
     "metadata": {},
     "output_type": "display_data"
    },
    {
     "data": {
      "text/html": [
       "<span style=\"color:blue\"> |-dropout_1: 0.30000000000000004</span>"
      ],
      "text/plain": [
       "<IPython.core.display.HTML object>"
      ]
     },
     "metadata": {},
     "output_type": "display_data"
    },
    {
     "data": {
      "text/html": [
       "<span style=\"color:cyan\"> |-dropout_2: 0.1</span>"
      ],
      "text/plain": [
       "<IPython.core.display.HTML object>"
      ]
     },
     "metadata": {},
     "output_type": "display_data"
    },
    {
     "data": {
      "text/html": [
       "<span style=\"color:blue\"> |-dropout_3: 0.30000000000000004</span>"
      ],
      "text/plain": [
       "<IPython.core.display.HTML object>"
      ]
     },
     "metadata": {},
     "output_type": "display_data"
    },
    {
     "data": {
      "text/html": [
       "<span style=\"color:cyan\"> |-dropout_4: 0.2</span>"
      ],
      "text/plain": [
       "<IPython.core.display.HTML object>"
      ]
     },
     "metadata": {},
     "output_type": "display_data"
    },
    {
     "data": {
      "text/html": [
       "<span style=\"color:blue\"> |-units: 512</span>"
      ],
      "text/plain": [
       "<IPython.core.display.HTML object>"
      ]
     },
     "metadata": {},
     "output_type": "display_data"
    },
    {
     "name": "stdout",
     "output_type": "stream",
     "text": [
      "WARNING:tensorflow:sample_weight modes were coerced from\n",
      "  ...\n",
      "    to  \n",
      "  ['...']\n",
      "WARNING:tensorflow:sample_weight modes were coerced from\n",
      "  ...\n",
      "    to  \n",
      "  ['...']\n",
      "Train for 400 steps, validate for 171 steps\n",
      "Epoch 1/50\n",
      "400/400 - 22s - loss: 0.8316 - accuracy: 0.7293 - val_loss: 0.4921 - val_accuracy: 0.7927\n",
      "Epoch 2/50\n",
      "400/400 - 21s - loss: 0.4712 - accuracy: 0.7738 - val_loss: 0.4636 - val_accuracy: 0.7813\n",
      "Epoch 3/50\n",
      "400/400 - 21s - loss: 0.4550 - accuracy: 0.7829 - val_loss: 0.4433 - val_accuracy: 0.7758\n",
      "Epoch 4/50\n",
      "400/400 - 21s - loss: 0.4376 - accuracy: 0.7933 - val_loss: 0.4130 - val_accuracy: 0.8101\n",
      "Epoch 5/50\n",
      "400/400 - 21s - loss: 0.4194 - accuracy: 0.8031 - val_loss: 0.4335 - val_accuracy: 0.7983\n",
      "Epoch 6/50\n",
      "400/400 - 21s - loss: 0.3964 - accuracy: 0.8170 - val_loss: 0.3893 - val_accuracy: 0.8270\n",
      "Epoch 7/50\n",
      "400/400 - 21s - loss: 0.3747 - accuracy: 0.8269 - val_loss: 0.3622 - val_accuracy: 0.8246\n",
      "Epoch 8/50\n",
      "400/400 - 21s - loss: 0.3614 - accuracy: 0.8341 - val_loss: 0.3370 - val_accuracy: 0.8539\n",
      "Epoch 9/50\n",
      "400/400 - 21s - loss: 0.3441 - accuracy: 0.8435 - val_loss: 0.3187 - val_accuracy: 0.8562\n",
      "Epoch 10/50\n",
      "400/400 - 21s - loss: 0.3355 - accuracy: 0.8482 - val_loss: 0.3428 - val_accuracy: 0.8501\n",
      "Epoch 11/50\n",
      "400/400 - 21s - loss: 0.3234 - accuracy: 0.8540 - val_loss: 0.3276 - val_accuracy: 0.8629\n",
      "Epoch 12/50\n",
      "400/400 - 21s - loss: 0.3160 - accuracy: 0.8607 - val_loss: 0.3327 - val_accuracy: 0.8594\n",
      "Epoch 13/50\n",
      "400/400 - 21s - loss: 0.3058 - accuracy: 0.8637 - val_loss: 0.3051 - val_accuracy: 0.8639\n",
      "Epoch 14/50\n",
      "400/400 - 21s - loss: 0.2976 - accuracy: 0.8683 - val_loss: 0.3247 - val_accuracy: 0.8582\n",
      "Epoch 15/50\n",
      "400/400 - 21s - loss: 0.2906 - accuracy: 0.8740 - val_loss: 0.3156 - val_accuracy: 0.8679\n",
      "Epoch 16/50\n",
      "400/400 - 21s - loss: 0.2850 - accuracy: 0.8756 - val_loss: 0.3062 - val_accuracy: 0.8663\n",
      "Epoch 17/50\n",
      "400/400 - 21s - loss: 0.2773 - accuracy: 0.8808 - val_loss: 0.2835 - val_accuracy: 0.8768\n",
      "Epoch 18/50\n",
      "400/400 - 21s - loss: 0.2718 - accuracy: 0.8819 - val_loss: 0.3122 - val_accuracy: 0.8680\n",
      "Epoch 19/50\n",
      "400/400 - 21s - loss: 0.2683 - accuracy: 0.8835 - val_loss: 0.3081 - val_accuracy: 0.8776\n",
      "Epoch 20/50\n",
      "400/400 - 21s - loss: 0.2632 - accuracy: 0.8871 - val_loss: 0.3250 - val_accuracy: 0.8672\n",
      "Epoch 21/50\n",
      "400/400 - 21s - loss: 0.2602 - accuracy: 0.8880 - val_loss: 0.2948 - val_accuracy: 0.8710\n",
      "Epoch 22/50\n",
      "400/400 - 21s - loss: 0.2453 - accuracy: 0.8965 - val_loss: 0.2877 - val_accuracy: 0.8709\n",
      "Epoch 23/50\n",
      "400/400 - 21s - loss: 0.2416 - accuracy: 0.8980 - val_loss: 0.3087 - val_accuracy: 0.8615\n",
      "Epoch 24/50\n",
      "400/400 - 21s - loss: 0.2367 - accuracy: 0.9012 - val_loss: 0.2994 - val_accuracy: 0.8772\n"
     ]
    },
    {
     "data": {
      "text/html": [
       "<span style=\"color:#4527A0\"><h1 style=\"font-size:18px\">Trial complete</h1></span>"
      ],
      "text/plain": [
       "<IPython.core.display.HTML object>"
      ]
     },
     "metadata": {},
     "output_type": "display_data"
    },
    {
     "data": {
      "text/html": [
       "<span style=\"color:#4527A0\"><h1 style=\"font-size:18px\">Trial summary</h1></span>"
      ],
      "text/plain": [
       "<IPython.core.display.HTML object>"
      ]
     },
     "metadata": {},
     "output_type": "display_data"
    },
    {
     "data": {
      "text/html": [
       "<span style=\"color:cyan\"> |-Trial ID: 89a1bdc2ed765674d247a3e0633428c4</span>"
      ],
      "text/plain": [
       "<IPython.core.display.HTML object>"
      ]
     },
     "metadata": {},
     "output_type": "display_data"
    },
    {
     "data": {
      "text/html": [
       "<span style=\"color:cyan\"> |-Score: 0.8775771260261536</span>"
      ],
      "text/plain": [
       "<IPython.core.display.HTML object>"
      ]
     },
     "metadata": {},
     "output_type": "display_data"
    },
    {
     "data": {
      "text/html": [
       "<span style=\"color:cyan\"> |-Best step: 0</span>"
      ],
      "text/plain": [
       "<IPython.core.display.HTML object>"
      ]
     },
     "metadata": {},
     "output_type": "display_data"
    },
    {
     "data": {
      "text/html": [
       "<span style=\"color:#7E57C2\"><h2 style=\"font-size:16px\">Hyperparameters:</h2></span>"
      ],
      "text/plain": [
       "<IPython.core.display.HTML object>"
      ]
     },
     "metadata": {},
     "output_type": "display_data"
    },
    {
     "data": {
      "text/html": [
       "<span style=\"color:cyan\"> |-conv_1: 16</span>"
      ],
      "text/plain": [
       "<IPython.core.display.HTML object>"
      ]
     },
     "metadata": {},
     "output_type": "display_data"
    },
    {
     "data": {
      "text/html": [
       "<span style=\"color:blue\"> |-conv_2: 64</span>"
      ],
      "text/plain": [
       "<IPython.core.display.HTML object>"
      ]
     },
     "metadata": {},
     "output_type": "display_data"
    },
    {
     "data": {
      "text/html": [
       "<span style=\"color:cyan\"> |-conv_3: 64</span>"
      ],
      "text/plain": [
       "<IPython.core.display.HTML object>"
      ]
     },
     "metadata": {},
     "output_type": "display_data"
    },
    {
     "data": {
      "text/html": [
       "<span style=\"color:blue\"> |-dropout_1: 0.1</span>"
      ],
      "text/plain": [
       "<IPython.core.display.HTML object>"
      ]
     },
     "metadata": {},
     "output_type": "display_data"
    },
    {
     "data": {
      "text/html": [
       "<span style=\"color:cyan\"> |-dropout_2: 0.30000000000000004</span>"
      ],
      "text/plain": [
       "<IPython.core.display.HTML object>"
      ]
     },
     "metadata": {},
     "output_type": "display_data"
    },
    {
     "data": {
      "text/html": [
       "<span style=\"color:blue\"> |-dropout_3: 0.30000000000000004</span>"
      ],
      "text/plain": [
       "<IPython.core.display.HTML object>"
      ]
     },
     "metadata": {},
     "output_type": "display_data"
    },
    {
     "data": {
      "text/html": [
       "<span style=\"color:cyan\"> |-dropout_4: 0.1</span>"
      ],
      "text/plain": [
       "<IPython.core.display.HTML object>"
      ]
     },
     "metadata": {},
     "output_type": "display_data"
    },
    {
     "data": {
      "text/html": [
       "<span style=\"color:blue\"> |-units: 768</span>"
      ],
      "text/plain": [
       "<IPython.core.display.HTML object>"
      ]
     },
     "metadata": {},
     "output_type": "display_data"
    },
    {
     "name": "stdout",
     "output_type": "stream",
     "text": [
      "WARNING:tensorflow:sample_weight modes were coerced from\n",
      "  ...\n",
      "    to  \n",
      "  ['...']\n",
      "WARNING:tensorflow:sample_weight modes were coerced from\n",
      "  ...\n",
      "    to  \n",
      "  ['...']\n",
      "Train for 400 steps, validate for 171 steps\n",
      "Epoch 1/50\n",
      "400/400 - 22s - loss: 2.5560 - accuracy: 0.5925 - val_loss: 0.6617 - val_accuracy: 0.5918\n",
      "Epoch 2/50\n",
      "400/400 - 21s - loss: 0.5185 - accuracy: 0.7161 - val_loss: 0.5612 - val_accuracy: 0.7534\n",
      "Epoch 3/50\n",
      "400/400 - 21s - loss: 0.4741 - accuracy: 0.7694 - val_loss: 0.4860 - val_accuracy: 0.7830\n",
      "Epoch 4/50\n",
      "400/400 - 21s - loss: 0.4597 - accuracy: 0.7750 - val_loss: 0.4557 - val_accuracy: 0.7893\n",
      "Epoch 5/50\n",
      "400/400 - 21s - loss: 0.4528 - accuracy: 0.7797 - val_loss: 0.4690 - val_accuracy: 0.7912\n",
      "Epoch 6/50\n",
      "400/400 - 21s - loss: 0.4407 - accuracy: 0.7878 - val_loss: 0.4825 - val_accuracy: 0.7948\n",
      "Epoch 7/50\n",
      "400/400 - 21s - loss: 0.4339 - accuracy: 0.7904 - val_loss: 0.4495 - val_accuracy: 0.7891\n",
      "Epoch 8/50\n",
      "400/400 - 21s - loss: 0.4291 - accuracy: 0.7947 - val_loss: 0.4438 - val_accuracy: 0.7962\n",
      "Epoch 9/50\n",
      "400/400 - 21s - loss: 0.4239 - accuracy: 0.7979 - val_loss: 0.4749 - val_accuracy: 0.7574\n",
      "Epoch 10/50\n",
      "400/400 - 21s - loss: 0.4199 - accuracy: 0.8012 - val_loss: 0.4901 - val_accuracy: 0.7695\n",
      "Epoch 11/50\n",
      "400/400 - 21s - loss: 0.4104 - accuracy: 0.8067 - val_loss: 0.4171 - val_accuracy: 0.8018\n",
      "Epoch 12/50\n",
      "400/400 - 21s - loss: 0.3997 - accuracy: 0.8125 - val_loss: 0.4186 - val_accuracy: 0.8014\n",
      "Epoch 13/50\n",
      "400/400 - 21s - loss: 0.3976 - accuracy: 0.8138 - val_loss: 0.4037 - val_accuracy: 0.8038\n",
      "Epoch 14/50\n",
      "400/400 - 21s - loss: 0.3882 - accuracy: 0.8201 - val_loss: 0.3756 - val_accuracy: 0.8359\n",
      "Epoch 15/50\n",
      "400/400 - 21s - loss: 0.3714 - accuracy: 0.8295 - val_loss: 0.3901 - val_accuracy: 0.8274\n",
      "Epoch 16/50\n",
      "400/400 - 21s - loss: 0.3562 - accuracy: 0.8409 - val_loss: 0.3520 - val_accuracy: 0.8318\n",
      "Epoch 17/50\n",
      "400/400 - 21s - loss: 0.3435 - accuracy: 0.8482 - val_loss: 0.3302 - val_accuracy: 0.8489\n",
      "Epoch 18/50\n",
      "400/400 - 21s - loss: 0.3265 - accuracy: 0.8568 - val_loss: 0.3179 - val_accuracy: 0.8587\n",
      "Epoch 19/50\n",
      "400/400 - 21s - loss: 0.3190 - accuracy: 0.8605 - val_loss: 0.3087 - val_accuracy: 0.8549\n",
      "Epoch 20/50\n",
      "400/400 - 21s - loss: 0.3043 - accuracy: 0.8673 - val_loss: 0.2824 - val_accuracy: 0.8686\n",
      "Epoch 21/50\n",
      "400/400 - 21s - loss: 0.3017 - accuracy: 0.8692 - val_loss: 0.2909 - val_accuracy: 0.8735\n",
      "Epoch 22/50\n",
      "400/400 - 21s - loss: 0.2837 - accuracy: 0.8775 - val_loss: 0.2851 - val_accuracy: 0.8718\n",
      "Epoch 23/50\n",
      "400/400 - 21s - loss: 0.2816 - accuracy: 0.8794 - val_loss: 0.3189 - val_accuracy: 0.8341\n",
      "Epoch 24/50\n",
      "400/400 - 21s - loss: 0.2780 - accuracy: 0.8810 - val_loss: 0.2888 - val_accuracy: 0.8647\n",
      "Epoch 25/50\n",
      "400/400 - 21s - loss: 0.2633 - accuracy: 0.8877 - val_loss: 0.2775 - val_accuracy: 0.8713\n",
      "Epoch 26/50\n",
      "400/400 - 21s - loss: 0.2516 - accuracy: 0.8935 - val_loss: 0.2802 - val_accuracy: 0.8640\n"
     ]
    },
    {
     "data": {
      "text/html": [
       "<span style=\"color:#4527A0\"><h1 style=\"font-size:18px\">Trial complete</h1></span>"
      ],
      "text/plain": [
       "<IPython.core.display.HTML object>"
      ]
     },
     "metadata": {},
     "output_type": "display_data"
    },
    {
     "data": {
      "text/html": [
       "<span style=\"color:#4527A0\"><h1 style=\"font-size:18px\">Trial summary</h1></span>"
      ],
      "text/plain": [
       "<IPython.core.display.HTML object>"
      ]
     },
     "metadata": {},
     "output_type": "display_data"
    },
    {
     "data": {
      "text/html": [
       "<span style=\"color:cyan\"> |-Trial ID: 525064d025625101fad802bd6ec19749</span>"
      ],
      "text/plain": [
       "<IPython.core.display.HTML object>"
      ]
     },
     "metadata": {},
     "output_type": "display_data"
    },
    {
     "data": {
      "text/html": [
       "<span style=\"color:cyan\"> |-Score: 0.8735085725784302</span>"
      ],
      "text/plain": [
       "<IPython.core.display.HTML object>"
      ]
     },
     "metadata": {},
     "output_type": "display_data"
    },
    {
     "data": {
      "text/html": [
       "<span style=\"color:cyan\"> |-Best step: 0</span>"
      ],
      "text/plain": [
       "<IPython.core.display.HTML object>"
      ]
     },
     "metadata": {},
     "output_type": "display_data"
    },
    {
     "data": {
      "text/html": [
       "<span style=\"color:#7E57C2\"><h2 style=\"font-size:16px\">Hyperparameters:</h2></span>"
      ],
      "text/plain": [
       "<IPython.core.display.HTML object>"
      ]
     },
     "metadata": {},
     "output_type": "display_data"
    },
    {
     "data": {
      "text/html": [
       "<span style=\"color:cyan\"> |-conv_1: 32</span>"
      ],
      "text/plain": [
       "<IPython.core.display.HTML object>"
      ]
     },
     "metadata": {},
     "output_type": "display_data"
    },
    {
     "data": {
      "text/html": [
       "<span style=\"color:blue\"> |-conv_2: 32</span>"
      ],
      "text/plain": [
       "<IPython.core.display.HTML object>"
      ]
     },
     "metadata": {},
     "output_type": "display_data"
    },
    {
     "data": {
      "text/html": [
       "<span style=\"color:cyan\"> |-conv_3: 128</span>"
      ],
      "text/plain": [
       "<IPython.core.display.HTML object>"
      ]
     },
     "metadata": {},
     "output_type": "display_data"
    },
    {
     "data": {
      "text/html": [
       "<span style=\"color:blue\"> |-dropout_1: 0.30000000000000004</span>"
      ],
      "text/plain": [
       "<IPython.core.display.HTML object>"
      ]
     },
     "metadata": {},
     "output_type": "display_data"
    },
    {
     "data": {
      "text/html": [
       "<span style=\"color:cyan\"> |-dropout_2: 0.30000000000000004</span>"
      ],
      "text/plain": [
       "<IPython.core.display.HTML object>"
      ]
     },
     "metadata": {},
     "output_type": "display_data"
    },
    {
     "data": {
      "text/html": [
       "<span style=\"color:blue\"> |-dropout_3: 0.1</span>"
      ],
      "text/plain": [
       "<IPython.core.display.HTML object>"
      ]
     },
     "metadata": {},
     "output_type": "display_data"
    },
    {
     "data": {
      "text/html": [
       "<span style=\"color:cyan\"> |-dropout_4: 0.2</span>"
      ],
      "text/plain": [
       "<IPython.core.display.HTML object>"
      ]
     },
     "metadata": {},
     "output_type": "display_data"
    },
    {
     "data": {
      "text/html": [
       "<span style=\"color:blue\"> |-units: 640</span>"
      ],
      "text/plain": [
       "<IPython.core.display.HTML object>"
      ]
     },
     "metadata": {},
     "output_type": "display_data"
    },
    {
     "name": "stdout",
     "output_type": "stream",
     "text": [
      "WARNING:tensorflow:sample_weight modes were coerced from\n",
      "  ...\n",
      "    to  \n",
      "  ['...']\n",
      "WARNING:tensorflow:sample_weight modes were coerced from\n",
      "  ...\n",
      "    to  \n",
      "  ['...']\n",
      "Train for 400 steps, validate for 171 steps\n",
      "Epoch 1/50\n",
      "400/400 - 22s - loss: 1.0558 - accuracy: 0.7073 - val_loss: 0.5476 - val_accuracy: 0.7803\n",
      "Epoch 2/50\n",
      "400/400 - 21s - loss: 0.4587 - accuracy: 0.7785 - val_loss: 0.4892 - val_accuracy: 0.7958\n",
      "Epoch 3/50\n",
      "400/400 - 21s - loss: 0.4505 - accuracy: 0.7828 - val_loss: 0.5227 - val_accuracy: 0.7933\n",
      "Epoch 4/50\n",
      "400/400 - 21s - loss: 0.4438 - accuracy: 0.7871 - val_loss: 0.4860 - val_accuracy: 0.8038\n",
      "Epoch 5/50\n",
      "400/400 - 21s - loss: 0.4338 - accuracy: 0.7916 - val_loss: 0.5046 - val_accuracy: 0.8011\n",
      "Epoch 6/50\n",
      "400/400 - 21s - loss: 0.4285 - accuracy: 0.7941 - val_loss: 0.5037 - val_accuracy: 0.7962\n",
      "Epoch 7/50\n",
      "400/400 - 21s - loss: 0.4273 - accuracy: 0.7968 - val_loss: 0.4555 - val_accuracy: 0.8109\n",
      "Epoch 8/50\n",
      "400/400 - 21s - loss: 0.4146 - accuracy: 0.8048 - val_loss: 0.4529 - val_accuracy: 0.8208\n",
      "Epoch 9/50\n",
      "400/400 - 21s - loss: 0.4110 - accuracy: 0.8082 - val_loss: 0.4095 - val_accuracy: 0.8239\n",
      "Epoch 10/50\n",
      "400/400 - 21s - loss: 0.3927 - accuracy: 0.8183 - val_loss: 0.4020 - val_accuracy: 0.8377\n",
      "Epoch 11/50\n",
      "400/400 - 21s - loss: 0.3919 - accuracy: 0.8198 - val_loss: 0.3920 - val_accuracy: 0.8343\n",
      "Epoch 12/50\n",
      "400/400 - 21s - loss: 0.3807 - accuracy: 0.8259 - val_loss: 0.3830 - val_accuracy: 0.8360\n",
      "Epoch 13/50\n",
      "400/400 - 21s - loss: 0.3700 - accuracy: 0.8309 - val_loss: 0.4500 - val_accuracy: 0.8066\n",
      "Epoch 14/50\n",
      "400/400 - 21s - loss: 0.3908 - accuracy: 0.8179 - val_loss: 0.3582 - val_accuracy: 0.8528\n",
      "Epoch 15/50\n",
      "400/400 - 21s - loss: 0.3539 - accuracy: 0.8410 - val_loss: 0.3611 - val_accuracy: 0.8580\n",
      "Epoch 16/50\n",
      "400/400 - 21s - loss: 0.3429 - accuracy: 0.8461 - val_loss: 0.3608 - val_accuracy: 0.8599\n",
      "Epoch 17/50\n",
      "400/400 - 21s - loss: 0.3322 - accuracy: 0.8509 - val_loss: 0.3026 - val_accuracy: 0.8764\n",
      "Epoch 18/50\n",
      "400/400 - 21s - loss: 0.3232 - accuracy: 0.8560 - val_loss: 0.2964 - val_accuracy: 0.8843\n",
      "Epoch 19/50\n",
      "400/400 - 21s - loss: 0.3171 - accuracy: 0.8597 - val_loss: 0.2812 - val_accuracy: 0.8869\n",
      "Epoch 20/50\n",
      "400/400 - 21s - loss: 0.3126 - accuracy: 0.8636 - val_loss: 0.3066 - val_accuracy: 0.8800\n",
      "Epoch 21/50\n",
      "400/400 - 21s - loss: 0.2977 - accuracy: 0.8713 - val_loss: 0.2856 - val_accuracy: 0.8887\n",
      "Epoch 22/50\n",
      "400/400 - 21s - loss: 0.2953 - accuracy: 0.8709 - val_loss: 0.3090 - val_accuracy: 0.8835\n",
      "Epoch 23/50\n",
      "400/400 - 21s - loss: 0.2884 - accuracy: 0.8763 - val_loss: 0.2660 - val_accuracy: 0.8945\n",
      "Epoch 24/50\n",
      "400/400 - 21s - loss: 0.2887 - accuracy: 0.8755 - val_loss: 0.2641 - val_accuracy: 0.8963\n",
      "Epoch 25/50\n",
      "400/400 - 21s - loss: 0.2824 - accuracy: 0.8782 - val_loss: 0.2705 - val_accuracy: 0.8848\n",
      "Epoch 26/50\n",
      "400/400 - 21s - loss: 0.2778 - accuracy: 0.8810 - val_loss: 0.2704 - val_accuracy: 0.8984\n",
      "Epoch 27/50\n",
      "400/400 - 21s - loss: 0.2775 - accuracy: 0.8797 - val_loss: 0.2703 - val_accuracy: 0.8883\n",
      "Epoch 28/50\n",
      "400/400 - 21s - loss: 0.2705 - accuracy: 0.8838 - val_loss: 0.2652 - val_accuracy: 0.8924\n",
      "Epoch 29/50\n",
      "400/400 - 21s - loss: 0.2634 - accuracy: 0.8879 - val_loss: 0.2589 - val_accuracy: 0.9027\n",
      "Epoch 30/50\n",
      "400/400 - 21s - loss: 0.2581 - accuracy: 0.8902 - val_loss: 0.2730 - val_accuracy: 0.8947\n",
      "Epoch 31/50\n",
      "400/400 - 21s - loss: 0.2536 - accuracy: 0.8915 - val_loss: 0.2551 - val_accuracy: 0.8914\n",
      "Epoch 32/50\n",
      "400/400 - 21s - loss: 0.2587 - accuracy: 0.8898 - val_loss: 0.2879 - val_accuracy: 0.8920\n",
      "Epoch 33/50\n",
      "400/400 - 21s - loss: 0.2548 - accuracy: 0.8925 - val_loss: 0.2488 - val_accuracy: 0.8960\n",
      "Epoch 34/50\n",
      "400/400 - 21s - loss: 0.2542 - accuracy: 0.8917 - val_loss: 0.2707 - val_accuracy: 0.8974\n"
     ]
    },
    {
     "data": {
      "text/html": [
       "<span style=\"color:#4527A0\"><h1 style=\"font-size:18px\">Trial complete</h1></span>"
      ],
      "text/plain": [
       "<IPython.core.display.HTML object>"
      ]
     },
     "metadata": {},
     "output_type": "display_data"
    },
    {
     "data": {
      "text/html": [
       "<span style=\"color:#4527A0\"><h1 style=\"font-size:18px\">Trial summary</h1></span>"
      ],
      "text/plain": [
       "<IPython.core.display.HTML object>"
      ]
     },
     "metadata": {},
     "output_type": "display_data"
    },
    {
     "data": {
      "text/html": [
       "<span style=\"color:cyan\"> |-Trial ID: 059e69e59e8c15ddf9c2e3cfa5b8cf70</span>"
      ],
      "text/plain": [
       "<IPython.core.display.HTML object>"
      ]
     },
     "metadata": {},
     "output_type": "display_data"
    },
    {
     "data": {
      "text/html": [
       "<span style=\"color:cyan\"> |-Score: 0.9026742577552795</span>"
      ],
      "text/plain": [
       "<IPython.core.display.HTML object>"
      ]
     },
     "metadata": {},
     "output_type": "display_data"
    },
    {
     "data": {
      "text/html": [
       "<span style=\"color:cyan\"> |-Best step: 0</span>"
      ],
      "text/plain": [
       "<IPython.core.display.HTML object>"
      ]
     },
     "metadata": {},
     "output_type": "display_data"
    },
    {
     "data": {
      "text/html": [
       "<span style=\"color:#7E57C2\"><h2 style=\"font-size:16px\">Hyperparameters:</h2></span>"
      ],
      "text/plain": [
       "<IPython.core.display.HTML object>"
      ]
     },
     "metadata": {},
     "output_type": "display_data"
    },
    {
     "data": {
      "text/html": [
       "<span style=\"color:cyan\"> |-conv_1: 32</span>"
      ],
      "text/plain": [
       "<IPython.core.display.HTML object>"
      ]
     },
     "metadata": {},
     "output_type": "display_data"
    },
    {
     "data": {
      "text/html": [
       "<span style=\"color:blue\"> |-conv_2: 64</span>"
      ],
      "text/plain": [
       "<IPython.core.display.HTML object>"
      ]
     },
     "metadata": {},
     "output_type": "display_data"
    },
    {
     "data": {
      "text/html": [
       "<span style=\"color:cyan\"> |-conv_3: 64</span>"
      ],
      "text/plain": [
       "<IPython.core.display.HTML object>"
      ]
     },
     "metadata": {},
     "output_type": "display_data"
    },
    {
     "data": {
      "text/html": [
       "<span style=\"color:blue\"> |-dropout_1: 0.4</span>"
      ],
      "text/plain": [
       "<IPython.core.display.HTML object>"
      ]
     },
     "metadata": {},
     "output_type": "display_data"
    },
    {
     "data": {
      "text/html": [
       "<span style=\"color:cyan\"> |-dropout_2: 0.4</span>"
      ],
      "text/plain": [
       "<IPython.core.display.HTML object>"
      ]
     },
     "metadata": {},
     "output_type": "display_data"
    },
    {
     "data": {
      "text/html": [
       "<span style=\"color:blue\"> |-dropout_3: 0.4</span>"
      ],
      "text/plain": [
       "<IPython.core.display.HTML object>"
      ]
     },
     "metadata": {},
     "output_type": "display_data"
    },
    {
     "data": {
      "text/html": [
       "<span style=\"color:cyan\"> |-dropout_4: 0.2</span>"
      ],
      "text/plain": [
       "<IPython.core.display.HTML object>"
      ]
     },
     "metadata": {},
     "output_type": "display_data"
    },
    {
     "data": {
      "text/html": [
       "<span style=\"color:blue\"> |-units: 896</span>"
      ],
      "text/plain": [
       "<IPython.core.display.HTML object>"
      ]
     },
     "metadata": {},
     "output_type": "display_data"
    },
    {
     "name": "stdout",
     "output_type": "stream",
     "text": [
      "WARNING:tensorflow:sample_weight modes were coerced from\n",
      "  ...\n",
      "    to  \n",
      "  ['...']\n",
      "WARNING:tensorflow:sample_weight modes were coerced from\n",
      "  ...\n",
      "    to  \n",
      "  ['...']\n",
      "Train for 400 steps, validate for 171 steps\n",
      "Epoch 1/50\n",
      "400/400 - 22s - loss: 1.4013 - accuracy: 0.7149 - val_loss: 0.4493 - val_accuracy: 0.7894\n",
      "Epoch 2/50\n",
      "400/400 - 21s - loss: 0.4584 - accuracy: 0.7757 - val_loss: 0.4292 - val_accuracy: 0.7952\n",
      "Epoch 3/50\n",
      "400/400 - 21s - loss: 0.4335 - accuracy: 0.7934 - val_loss: 0.4122 - val_accuracy: 0.7888\n",
      "Epoch 4/50\n",
      "400/400 - 21s - loss: 0.4169 - accuracy: 0.8042 - val_loss: 0.3873 - val_accuracy: 0.8258\n",
      "Epoch 5/50\n",
      "400/400 - 21s - loss: 0.3920 - accuracy: 0.8197 - val_loss: 0.3721 - val_accuracy: 0.8368\n",
      "Epoch 6/50\n",
      "400/400 - 21s - loss: 0.3705 - accuracy: 0.8340 - val_loss: 0.3405 - val_accuracy: 0.8463\n",
      "Epoch 7/50\n",
      "400/400 - 21s - loss: 0.3616 - accuracy: 0.8366 - val_loss: 0.3321 - val_accuracy: 0.8534\n",
      "Epoch 8/50\n",
      "400/400 - 21s - loss: 0.3494 - accuracy: 0.8437 - val_loss: 0.3403 - val_accuracy: 0.8500\n",
      "Epoch 9/50\n",
      "400/400 - 21s - loss: 0.3396 - accuracy: 0.8480 - val_loss: 0.3317 - val_accuracy: 0.8550\n",
      "Epoch 10/50\n",
      "400/400 - 21s - loss: 0.3297 - accuracy: 0.8542 - val_loss: 0.3212 - val_accuracy: 0.8661\n",
      "Epoch 11/50\n",
      "400/400 - 21s - loss: 0.3255 - accuracy: 0.8538 - val_loss: 0.3085 - val_accuracy: 0.8776\n",
      "Epoch 12/50\n",
      "400/400 - 21s - loss: 0.3127 - accuracy: 0.8604 - val_loss: 0.3146 - val_accuracy: 0.8756\n",
      "Epoch 13/50\n",
      "400/400 - 21s - loss: 0.3075 - accuracy: 0.8638 - val_loss: 0.3220 - val_accuracy: 0.8625\n",
      "Epoch 14/50\n",
      "400/400 - 21s - loss: 0.3010 - accuracy: 0.8682 - val_loss: 0.2884 - val_accuracy: 0.8773\n",
      "Epoch 15/50\n",
      "400/400 - 21s - loss: 0.2978 - accuracy: 0.8680 - val_loss: 0.2870 - val_accuracy: 0.8841\n",
      "Epoch 16/50\n",
      "400/400 - 21s - loss: 0.2911 - accuracy: 0.8718 - val_loss: 0.2966 - val_accuracy: 0.8874\n",
      "Epoch 17/50\n",
      "400/400 - 21s - loss: 0.2833 - accuracy: 0.8772 - val_loss: 0.3085 - val_accuracy: 0.8869\n",
      "Epoch 18/50\n",
      "400/400 - 21s - loss: 0.2798 - accuracy: 0.8780 - val_loss: 0.2885 - val_accuracy: 0.8867\n",
      "Epoch 19/50\n",
      "400/400 - 21s - loss: 0.2750 - accuracy: 0.8805 - val_loss: 0.2939 - val_accuracy: 0.8829\n",
      "Epoch 20/50\n",
      "400/400 - 21s - loss: 0.2718 - accuracy: 0.8800 - val_loss: 0.2838 - val_accuracy: 0.8906\n",
      "Epoch 21/50\n",
      "400/400 - 21s - loss: 0.2676 - accuracy: 0.8829 - val_loss: 0.2899 - val_accuracy: 0.8958\n",
      "Epoch 22/50\n",
      "400/400 - 21s - loss: 0.2616 - accuracy: 0.8876 - val_loss: 0.2684 - val_accuracy: 0.8928\n",
      "Epoch 23/50\n",
      "400/400 - 21s - loss: 0.2578 - accuracy: 0.8879 - val_loss: 0.2651 - val_accuracy: 0.8923\n",
      "Epoch 24/50\n",
      "400/400 - 21s - loss: 0.2526 - accuracy: 0.8915 - val_loss: 0.2797 - val_accuracy: 0.8928\n",
      "Epoch 25/50\n",
      "400/400 - 21s - loss: 0.2473 - accuracy: 0.8922 - val_loss: 0.2875 - val_accuracy: 0.8865\n",
      "Epoch 26/50\n",
      "400/400 - 21s - loss: 0.2515 - accuracy: 0.8924 - val_loss: 0.2665 - val_accuracy: 0.8946\n"
     ]
    },
    {
     "data": {
      "text/html": [
       "<span style=\"color:#4527A0\"><h1 style=\"font-size:18px\">Trial complete</h1></span>"
      ],
      "text/plain": [
       "<IPython.core.display.HTML object>"
      ]
     },
     "metadata": {},
     "output_type": "display_data"
    },
    {
     "data": {
      "text/html": [
       "<span style=\"color:#4527A0\"><h1 style=\"font-size:18px\">Trial summary</h1></span>"
      ],
      "text/plain": [
       "<IPython.core.display.HTML object>"
      ]
     },
     "metadata": {},
     "output_type": "display_data"
    },
    {
     "data": {
      "text/html": [
       "<span style=\"color:cyan\"> |-Trial ID: 571369cbb756a1e51e63b9d0a43834b7</span>"
      ],
      "text/plain": [
       "<IPython.core.display.HTML object>"
      ]
     },
     "metadata": {},
     "output_type": "display_data"
    },
    {
     "data": {
      "text/html": [
       "<span style=\"color:cyan\"> |-Score: 0.8957714438438416</span>"
      ],
      "text/plain": [
       "<IPython.core.display.HTML object>"
      ]
     },
     "metadata": {},
     "output_type": "display_data"
    },
    {
     "data": {
      "text/html": [
       "<span style=\"color:cyan\"> |-Best step: 0</span>"
      ],
      "text/plain": [
       "<IPython.core.display.HTML object>"
      ]
     },
     "metadata": {},
     "output_type": "display_data"
    },
    {
     "data": {
      "text/html": [
       "<span style=\"color:#7E57C2\"><h2 style=\"font-size:16px\">Hyperparameters:</h2></span>"
      ],
      "text/plain": [
       "<IPython.core.display.HTML object>"
      ]
     },
     "metadata": {},
     "output_type": "display_data"
    },
    {
     "data": {
      "text/html": [
       "<span style=\"color:cyan\"> |-conv_1: 16</span>"
      ],
      "text/plain": [
       "<IPython.core.display.HTML object>"
      ]
     },
     "metadata": {},
     "output_type": "display_data"
    },
    {
     "data": {
      "text/html": [
       "<span style=\"color:blue\"> |-conv_2: 64</span>"
      ],
      "text/plain": [
       "<IPython.core.display.HTML object>"
      ]
     },
     "metadata": {},
     "output_type": "display_data"
    },
    {
     "data": {
      "text/html": [
       "<span style=\"color:cyan\"> |-conv_3: 128</span>"
      ],
      "text/plain": [
       "<IPython.core.display.HTML object>"
      ]
     },
     "metadata": {},
     "output_type": "display_data"
    },
    {
     "data": {
      "text/html": [
       "<span style=\"color:blue\"> |-dropout_1: 0.1</span>"
      ],
      "text/plain": [
       "<IPython.core.display.HTML object>"
      ]
     },
     "metadata": {},
     "output_type": "display_data"
    },
    {
     "data": {
      "text/html": [
       "<span style=\"color:cyan\"> |-dropout_2: 0.30000000000000004</span>"
      ],
      "text/plain": [
       "<IPython.core.display.HTML object>"
      ]
     },
     "metadata": {},
     "output_type": "display_data"
    },
    {
     "data": {
      "text/html": [
       "<span style=\"color:blue\"> |-dropout_3: 0.30000000000000004</span>"
      ],
      "text/plain": [
       "<IPython.core.display.HTML object>"
      ]
     },
     "metadata": {},
     "output_type": "display_data"
    },
    {
     "data": {
      "text/html": [
       "<span style=\"color:cyan\"> |-dropout_4: 0.30000000000000004</span>"
      ],
      "text/plain": [
       "<IPython.core.display.HTML object>"
      ]
     },
     "metadata": {},
     "output_type": "display_data"
    },
    {
     "data": {
      "text/html": [
       "<span style=\"color:blue\"> |-units: 128</span>"
      ],
      "text/plain": [
       "<IPython.core.display.HTML object>"
      ]
     },
     "metadata": {},
     "output_type": "display_data"
    },
    {
     "name": "stdout",
     "output_type": "stream",
     "text": [
      "WARNING:tensorflow:sample_weight modes were coerced from\n",
      "  ...\n",
      "    to  \n",
      "  ['...']\n",
      "WARNING:tensorflow:sample_weight modes were coerced from\n",
      "  ...\n",
      "    to  \n",
      "  ['...']\n",
      "Train for 400 steps, validate for 171 steps\n",
      "Epoch 1/50\n",
      "400/400 - 22s - loss: 5.8930 - accuracy: 0.6042 - val_loss: 0.7355 - val_accuracy: 0.6332\n",
      "Epoch 2/50\n",
      "400/400 - 21s - loss: 0.4904 - accuracy: 0.7644 - val_loss: 0.6211 - val_accuracy: 0.7347\n",
      "Epoch 3/50\n",
      "400/400 - 21s - loss: 0.4751 - accuracy: 0.7711 - val_loss: 0.5487 - val_accuracy: 0.7847\n",
      "Epoch 4/50\n",
      "400/400 - 21s - loss: 0.4625 - accuracy: 0.7779 - val_loss: 0.5251 - val_accuracy: 0.7737\n",
      "Epoch 5/50\n",
      "400/400 - 21s - loss: 0.4513 - accuracy: 0.7823 - val_loss: 0.5152 - val_accuracy: 0.7972\n",
      "Epoch 6/50\n",
      "400/400 - 21s - loss: 0.4412 - accuracy: 0.7885 - val_loss: 0.5056 - val_accuracy: 0.7756\n",
      "Epoch 7/50\n",
      "400/400 - 21s - loss: 0.4365 - accuracy: 0.7929 - val_loss: 0.4905 - val_accuracy: 0.7235\n",
      "Epoch 8/50\n",
      "400/400 - 21s - loss: 0.4236 - accuracy: 0.7990 - val_loss: 0.5297 - val_accuracy: 0.7249\n",
      "Epoch 9/50\n",
      "400/400 - 21s - loss: 0.4153 - accuracy: 0.8067 - val_loss: 0.4634 - val_accuracy: 0.8053\n",
      "Epoch 10/50\n",
      "400/400 - 21s - loss: 0.4013 - accuracy: 0.8133 - val_loss: 0.4488 - val_accuracy: 0.8289\n",
      "Epoch 11/50\n",
      "400/400 - 21s - loss: 0.3953 - accuracy: 0.8190 - val_loss: 0.3948 - val_accuracy: 0.8276\n",
      "Epoch 12/50\n",
      "400/400 - 21s - loss: 0.3819 - accuracy: 0.8250 - val_loss: 0.4700 - val_accuracy: 0.8213\n",
      "Epoch 13/50\n",
      "400/400 - 21s - loss: 0.3748 - accuracy: 0.8272 - val_loss: 0.4498 - val_accuracy: 0.8349\n",
      "Epoch 14/50\n",
      "400/400 - 21s - loss: 0.3671 - accuracy: 0.8316 - val_loss: 0.3841 - val_accuracy: 0.8480\n",
      "Epoch 15/50\n",
      "400/400 - 21s - loss: 0.3587 - accuracy: 0.8364 - val_loss: 0.3684 - val_accuracy: 0.8531\n",
      "Epoch 16/50\n",
      "400/400 - 21s - loss: 0.3555 - accuracy: 0.8379 - val_loss: 0.3958 - val_accuracy: 0.8555\n",
      "Epoch 17/50\n",
      "400/400 - 21s - loss: 0.3505 - accuracy: 0.8425 - val_loss: 0.3763 - val_accuracy: 0.8629\n",
      "Epoch 18/50\n",
      "400/400 - 21s - loss: 0.3485 - accuracy: 0.8427 - val_loss: 0.3843 - val_accuracy: 0.8602\n",
      "Epoch 19/50\n",
      "400/400 - 21s - loss: 0.3384 - accuracy: 0.8465 - val_loss: 0.3606 - val_accuracy: 0.8686\n",
      "Epoch 20/50\n",
      "400/400 - 21s - loss: 0.3376 - accuracy: 0.8475 - val_loss: 0.4036 - val_accuracy: 0.8495\n",
      "Epoch 21/50\n",
      "400/400 - 21s - loss: 0.3282 - accuracy: 0.8526 - val_loss: 0.3395 - val_accuracy: 0.8711\n",
      "Epoch 22/50\n",
      "400/400 - 21s - loss: 0.3255 - accuracy: 0.8538 - val_loss: 0.3302 - val_accuracy: 0.8698\n",
      "Epoch 23/50\n",
      "400/400 - 21s - loss: 0.3196 - accuracy: 0.8586 - val_loss: 0.3410 - val_accuracy: 0.8706\n",
      "Epoch 24/50\n",
      "400/400 - 21s - loss: 0.3145 - accuracy: 0.8612 - val_loss: 0.3592 - val_accuracy: 0.8697\n",
      "Epoch 25/50\n",
      "400/400 - 21s - loss: 0.3179 - accuracy: 0.8591 - val_loss: 0.3218 - val_accuracy: 0.8751\n",
      "Epoch 26/50\n",
      "400/400 - 21s - loss: 0.3073 - accuracy: 0.8649 - val_loss: 0.3324 - val_accuracy: 0.8556\n",
      "Epoch 27/50\n",
      "400/400 - 21s - loss: 0.3069 - accuracy: 0.8645 - val_loss: 0.3144 - val_accuracy: 0.8801\n",
      "Epoch 28/50\n",
      "400/400 - 21s - loss: 0.2979 - accuracy: 0.8692 - val_loss: 0.3124 - val_accuracy: 0.8839\n",
      "Epoch 29/50\n",
      "400/400 - 21s - loss: 0.3003 - accuracy: 0.8679 - val_loss: 0.3228 - val_accuracy: 0.8801\n",
      "Epoch 30/50\n",
      "400/400 - 21s - loss: 0.2948 - accuracy: 0.8715 - val_loss: 0.3470 - val_accuracy: 0.8813\n",
      "Epoch 31/50\n",
      "400/400 - 21s - loss: 0.2900 - accuracy: 0.8741 - val_loss: 0.2964 - val_accuracy: 0.8837\n",
      "Epoch 32/50\n",
      "400/400 - 21s - loss: 0.2929 - accuracy: 0.8715 - val_loss: 0.3329 - val_accuracy: 0.8755\n",
      "Epoch 33/50\n",
      "400/400 - 21s - loss: 0.2839 - accuracy: 0.8768 - val_loss: 0.2885 - val_accuracy: 0.8812\n"
     ]
    },
    {
     "data": {
      "text/html": [
       "<span style=\"color:#4527A0\"><h1 style=\"font-size:18px\">Trial complete</h1></span>"
      ],
      "text/plain": [
       "<IPython.core.display.HTML object>"
      ]
     },
     "metadata": {},
     "output_type": "display_data"
    },
    {
     "data": {
      "text/html": [
       "<span style=\"color:#4527A0\"><h1 style=\"font-size:18px\">Trial summary</h1></span>"
      ],
      "text/plain": [
       "<IPython.core.display.HTML object>"
      ]
     },
     "metadata": {},
     "output_type": "display_data"
    },
    {
     "data": {
      "text/html": [
       "<span style=\"color:cyan\"> |-Trial ID: 9c400c013a3d5e0cb93ce8c390f988c8</span>"
      ],
      "text/plain": [
       "<IPython.core.display.HTML object>"
      ]
     },
     "metadata": {},
     "output_type": "display_data"
    },
    {
     "data": {
      "text/html": [
       "<span style=\"color:cyan\"> |-Score: 0.8839314579963684</span>"
      ],
      "text/plain": [
       "<IPython.core.display.HTML object>"
      ]
     },
     "metadata": {},
     "output_type": "display_data"
    },
    {
     "data": {
      "text/html": [
       "<span style=\"color:cyan\"> |-Best step: 0</span>"
      ],
      "text/plain": [
       "<IPython.core.display.HTML object>"
      ]
     },
     "metadata": {},
     "output_type": "display_data"
    },
    {
     "data": {
      "text/html": [
       "<span style=\"color:#7E57C2\"><h2 style=\"font-size:16px\">Hyperparameters:</h2></span>"
      ],
      "text/plain": [
       "<IPython.core.display.HTML object>"
      ]
     },
     "metadata": {},
     "output_type": "display_data"
    },
    {
     "data": {
      "text/html": [
       "<span style=\"color:cyan\"> |-conv_1: 16</span>"
      ],
      "text/plain": [
       "<IPython.core.display.HTML object>"
      ]
     },
     "metadata": {},
     "output_type": "display_data"
    },
    {
     "data": {
      "text/html": [
       "<span style=\"color:blue\"> |-conv_2: 64</span>"
      ],
      "text/plain": [
       "<IPython.core.display.HTML object>"
      ]
     },
     "metadata": {},
     "output_type": "display_data"
    },
    {
     "data": {
      "text/html": [
       "<span style=\"color:cyan\"> |-conv_3: 128</span>"
      ],
      "text/plain": [
       "<IPython.core.display.HTML object>"
      ]
     },
     "metadata": {},
     "output_type": "display_data"
    },
    {
     "data": {
      "text/html": [
       "<span style=\"color:blue\"> |-dropout_1: 0.5</span>"
      ],
      "text/plain": [
       "<IPython.core.display.HTML object>"
      ]
     },
     "metadata": {},
     "output_type": "display_data"
    },
    {
     "data": {
      "text/html": [
       "<span style=\"color:cyan\"> |-dropout_2: 0.30000000000000004</span>"
      ],
      "text/plain": [
       "<IPython.core.display.HTML object>"
      ]
     },
     "metadata": {},
     "output_type": "display_data"
    },
    {
     "data": {
      "text/html": [
       "<span style=\"color:blue\"> |-dropout_3: 0.5</span>"
      ],
      "text/plain": [
       "<IPython.core.display.HTML object>"
      ]
     },
     "metadata": {},
     "output_type": "display_data"
    },
    {
     "data": {
      "text/html": [
       "<span style=\"color:cyan\"> |-dropout_4: 0.0</span>"
      ],
      "text/plain": [
       "<IPython.core.display.HTML object>"
      ]
     },
     "metadata": {},
     "output_type": "display_data"
    },
    {
     "data": {
      "text/html": [
       "<span style=\"color:blue\"> |-units: 640</span>"
      ],
      "text/plain": [
       "<IPython.core.display.HTML object>"
      ]
     },
     "metadata": {},
     "output_type": "display_data"
    },
    {
     "name": "stdout",
     "output_type": "stream",
     "text": [
      "WARNING:tensorflow:sample_weight modes were coerced from\n",
      "  ...\n",
      "    to  \n",
      "  ['...']\n",
      "WARNING:tensorflow:sample_weight modes were coerced from\n",
      "  ...\n",
      "    to  \n",
      "  ['...']\n",
      "Train for 400 steps, validate for 171 steps\n",
      "Epoch 1/50\n",
      "400/400 - 22s - loss: 1.3114 - accuracy: 0.7087 - val_loss: 0.5004 - val_accuracy: 0.7520\n",
      "Epoch 2/50\n",
      "400/400 - 21s - loss: 0.4687 - accuracy: 0.7733 - val_loss: 0.4634 - val_accuracy: 0.7672\n",
      "Epoch 3/50\n",
      "400/400 - 21s - loss: 0.4430 - accuracy: 0.7865 - val_loss: 0.4440 - val_accuracy: 0.7759\n",
      "Epoch 4/50\n",
      "400/400 - 21s - loss: 0.4307 - accuracy: 0.7931 - val_loss: 0.4241 - val_accuracy: 0.7855\n",
      "Epoch 5/50\n",
      "400/400 - 21s - loss: 0.4174 - accuracy: 0.8014 - val_loss: 0.4057 - val_accuracy: 0.8044\n",
      "Epoch 6/50\n",
      "400/400 - 21s - loss: 0.4046 - accuracy: 0.8097 - val_loss: 0.4010 - val_accuracy: 0.7889\n",
      "Epoch 7/50\n",
      "400/400 - 21s - loss: 0.3936 - accuracy: 0.8158 - val_loss: 0.3800 - val_accuracy: 0.8151\n",
      "Epoch 8/50\n",
      "400/400 - 21s - loss: 0.3774 - accuracy: 0.8261 - val_loss: 0.3714 - val_accuracy: 0.8194\n",
      "Epoch 9/50\n",
      "400/400 - 21s - loss: 0.3619 - accuracy: 0.8334 - val_loss: 0.3470 - val_accuracy: 0.8489\n",
      "Epoch 10/50\n",
      "400/400 - 21s - loss: 0.3485 - accuracy: 0.8421 - val_loss: 0.3327 - val_accuracy: 0.8411\n",
      "Epoch 11/50\n",
      "400/400 - 21s - loss: 0.3384 - accuracy: 0.8482 - val_loss: 0.3200 - val_accuracy: 0.8554\n",
      "Epoch 12/50\n",
      "400/400 - 21s - loss: 0.3311 - accuracy: 0.8519 - val_loss: 0.2952 - val_accuracy: 0.8702\n",
      "Epoch 13/50\n",
      "400/400 - 21s - loss: 0.3192 - accuracy: 0.8570 - val_loss: 0.2977 - val_accuracy: 0.8699\n",
      "Epoch 14/50\n",
      "400/400 - 21s - loss: 0.3092 - accuracy: 0.8625 - val_loss: 0.2882 - val_accuracy: 0.8713\n",
      "Epoch 15/50\n",
      "400/400 - 21s - loss: 0.3039 - accuracy: 0.8659 - val_loss: 0.3010 - val_accuracy: 0.8541\n",
      "Epoch 16/50\n",
      "400/400 - 21s - loss: 0.3022 - accuracy: 0.8672 - val_loss: 0.3036 - val_accuracy: 0.8487\n",
      "Epoch 17/50\n",
      "400/400 - 21s - loss: 0.2908 - accuracy: 0.8733 - val_loss: 0.3050 - val_accuracy: 0.8592\n",
      "Epoch 18/50\n",
      "400/400 - 21s - loss: 0.2779 - accuracy: 0.8796 - val_loss: 0.3037 - val_accuracy: 0.8497\n",
      "Epoch 19/50\n",
      "400/400 - 21s - loss: 0.2765 - accuracy: 0.8814 - val_loss: 0.3597 - val_accuracy: 0.8282\n"
     ]
    },
    {
     "data": {
      "text/html": [
       "<span style=\"color:#4527A0\"><h1 style=\"font-size:18px\">Trial complete</h1></span>"
      ],
      "text/plain": [
       "<IPython.core.display.HTML object>"
      ]
     },
     "metadata": {},
     "output_type": "display_data"
    },
    {
     "data": {
      "text/html": [
       "<span style=\"color:#4527A0\"><h1 style=\"font-size:18px\">Trial summary</h1></span>"
      ],
      "text/plain": [
       "<IPython.core.display.HTML object>"
      ]
     },
     "metadata": {},
     "output_type": "display_data"
    },
    {
     "data": {
      "text/html": [
       "<span style=\"color:cyan\"> |-Trial ID: 029c2a3188e017e6e074bf0322da5031</span>"
      ],
      "text/plain": [
       "<IPython.core.display.HTML object>"
      ]
     },
     "metadata": {},
     "output_type": "display_data"
    },
    {
     "data": {
      "text/html": [
       "<span style=\"color:cyan\"> |-Score: 0.8712993264198303</span>"
      ],
      "text/plain": [
       "<IPython.core.display.HTML object>"
      ]
     },
     "metadata": {},
     "output_type": "display_data"
    },
    {
     "data": {
      "text/html": [
       "<span style=\"color:cyan\"> |-Best step: 0</span>"
      ],
      "text/plain": [
       "<IPython.core.display.HTML object>"
      ]
     },
     "metadata": {},
     "output_type": "display_data"
    },
    {
     "data": {
      "text/html": [
       "<span style=\"color:#7E57C2\"><h2 style=\"font-size:16px\">Hyperparameters:</h2></span>"
      ],
      "text/plain": [
       "<IPython.core.display.HTML object>"
      ]
     },
     "metadata": {},
     "output_type": "display_data"
    },
    {
     "data": {
      "text/html": [
       "<span style=\"color:cyan\"> |-conv_1: 32</span>"
      ],
      "text/plain": [
       "<IPython.core.display.HTML object>"
      ]
     },
     "metadata": {},
     "output_type": "display_data"
    },
    {
     "data": {
      "text/html": [
       "<span style=\"color:blue\"> |-conv_2: 32</span>"
      ],
      "text/plain": [
       "<IPython.core.display.HTML object>"
      ]
     },
     "metadata": {},
     "output_type": "display_data"
    },
    {
     "data": {
      "text/html": [
       "<span style=\"color:cyan\"> |-conv_3: 64</span>"
      ],
      "text/plain": [
       "<IPython.core.display.HTML object>"
      ]
     },
     "metadata": {},
     "output_type": "display_data"
    },
    {
     "data": {
      "text/html": [
       "<span style=\"color:blue\"> |-dropout_1: 0.4</span>"
      ],
      "text/plain": [
       "<IPython.core.display.HTML object>"
      ]
     },
     "metadata": {},
     "output_type": "display_data"
    },
    {
     "data": {
      "text/html": [
       "<span style=\"color:cyan\"> |-dropout_2: 0.4</span>"
      ],
      "text/plain": [
       "<IPython.core.display.HTML object>"
      ]
     },
     "metadata": {},
     "output_type": "display_data"
    },
    {
     "data": {
      "text/html": [
       "<span style=\"color:blue\"> |-dropout_3: 0.2</span>"
      ],
      "text/plain": [
       "<IPython.core.display.HTML object>"
      ]
     },
     "metadata": {},
     "output_type": "display_data"
    },
    {
     "data": {
      "text/html": [
       "<span style=\"color:cyan\"> |-dropout_4: 0.0</span>"
      ],
      "text/plain": [
       "<IPython.core.display.HTML object>"
      ]
     },
     "metadata": {},
     "output_type": "display_data"
    },
    {
     "data": {
      "text/html": [
       "<span style=\"color:blue\"> |-units: 384</span>"
      ],
      "text/plain": [
       "<IPython.core.display.HTML object>"
      ]
     },
     "metadata": {},
     "output_type": "display_data"
    },
    {
     "name": "stdout",
     "output_type": "stream",
     "text": [
      "WARNING:tensorflow:sample_weight modes were coerced from\n",
      "  ...\n",
      "    to  \n",
      "  ['...']\n",
      "WARNING:tensorflow:sample_weight modes were coerced from\n",
      "  ...\n",
      "    to  \n",
      "  ['...']\n",
      "Train for 400 steps, validate for 171 steps\n",
      "Epoch 1/50\n",
      "400/400 - 22s - loss: 1.1205 - accuracy: 0.7393 - val_loss: 0.4867 - val_accuracy: 0.7917\n",
      "Epoch 2/50\n",
      "400/400 - 21s - loss: 0.4576 - accuracy: 0.7766 - val_loss: 0.4664 - val_accuracy: 0.7993\n",
      "Epoch 3/50\n",
      "400/400 - 21s - loss: 0.4454 - accuracy: 0.7842 - val_loss: 0.4529 - val_accuracy: 0.8036\n",
      "Epoch 4/50\n",
      "400/400 - 21s - loss: 0.4332 - accuracy: 0.7927 - val_loss: 0.4406 - val_accuracy: 0.8171\n",
      "Epoch 5/50\n",
      "400/400 - 21s - loss: 0.4199 - accuracy: 0.8025 - val_loss: 0.4500 - val_accuracy: 0.8113\n",
      "Epoch 6/50\n",
      "400/400 - 21s - loss: 0.3994 - accuracy: 0.8109 - val_loss: 0.3899 - val_accuracy: 0.8309\n",
      "Epoch 7/50\n",
      "400/400 - 21s - loss: 0.3873 - accuracy: 0.8168 - val_loss: 0.3762 - val_accuracy: 0.8358\n",
      "Epoch 8/50\n",
      "400/400 - 21s - loss: 0.3722 - accuracy: 0.8269 - val_loss: 0.3688 - val_accuracy: 0.8459\n",
      "Epoch 9/50\n",
      "400/400 - 21s - loss: 0.3573 - accuracy: 0.8359 - val_loss: 0.3571 - val_accuracy: 0.8467\n",
      "Epoch 10/50\n",
      "400/400 - 21s - loss: 0.3338 - accuracy: 0.8471 - val_loss: 0.3601 - val_accuracy: 0.8582\n",
      "Epoch 11/50\n",
      "400/400 - 21s - loss: 0.3276 - accuracy: 0.8511 - val_loss: 0.3492 - val_accuracy: 0.8643\n",
      "Epoch 12/50\n",
      "400/400 - 21s - loss: 0.3082 - accuracy: 0.8639 - val_loss: 0.3461 - val_accuracy: 0.8657\n",
      "Epoch 13/50\n",
      "400/400 - 21s - loss: 0.2979 - accuracy: 0.8685 - val_loss: 0.3454 - val_accuracy: 0.8603\n",
      "Epoch 14/50\n",
      "400/400 - 21s - loss: 0.2808 - accuracy: 0.8754 - val_loss: 0.3120 - val_accuracy: 0.8781\n",
      "Epoch 15/50\n",
      "400/400 - 21s - loss: 0.2767 - accuracy: 0.8761 - val_loss: 0.3235 - val_accuracy: 0.8718\n",
      "Epoch 16/50\n",
      "400/400 - 21s - loss: 0.2625 - accuracy: 0.8848 - val_loss: 0.3797 - val_accuracy: 0.8470\n",
      "Epoch 17/50\n",
      "400/400 - 21s - loss: 0.2581 - accuracy: 0.8886 - val_loss: 0.3021 - val_accuracy: 0.8784\n",
      "Epoch 18/50\n",
      "400/400 - 21s - loss: 0.2528 - accuracy: 0.8884 - val_loss: 0.3193 - val_accuracy: 0.8629\n",
      "Epoch 19/50\n",
      "400/400 - 21s - loss: 0.2365 - accuracy: 0.8977 - val_loss: 0.3038 - val_accuracy: 0.8784\n",
      "Epoch 20/50\n",
      "400/400 - 21s - loss: 0.2362 - accuracy: 0.8968 - val_loss: 0.3024 - val_accuracy: 0.8755\n",
      "Epoch 21/50\n",
      "400/400 - 21s - loss: 0.2279 - accuracy: 0.9014 - val_loss: 0.3226 - val_accuracy: 0.8726\n",
      "Epoch 22/50\n",
      "400/400 - 21s - loss: 0.2292 - accuracy: 0.8995 - val_loss: 0.2951 - val_accuracy: 0.8851\n",
      "Epoch 23/50\n",
      "400/400 - 21s - loss: 0.2122 - accuracy: 0.9077 - val_loss: 0.3140 - val_accuracy: 0.8549\n",
      "Epoch 24/50\n",
      "400/400 - 21s - loss: 0.2101 - accuracy: 0.9096 - val_loss: 0.3263 - val_accuracy: 0.8692\n",
      "Epoch 25/50\n",
      "400/400 - 21s - loss: 0.1991 - accuracy: 0.9150 - val_loss: 0.3011 - val_accuracy: 0.8844\n",
      "Epoch 26/50\n",
      "400/400 - 21s - loss: 0.1911 - accuracy: 0.9180 - val_loss: 0.3013 - val_accuracy: 0.8715\n",
      "Epoch 27/50\n",
      "400/400 - 21s - loss: 0.1816 - accuracy: 0.9237 - val_loss: 0.3405 - val_accuracy: 0.8718\n"
     ]
    },
    {
     "data": {
      "text/html": [
       "<span style=\"color:#4527A0\"><h1 style=\"font-size:18px\">Trial complete</h1></span>"
      ],
      "text/plain": [
       "<IPython.core.display.HTML object>"
      ]
     },
     "metadata": {},
     "output_type": "display_data"
    },
    {
     "data": {
      "text/html": [
       "<span style=\"color:#4527A0\"><h1 style=\"font-size:18px\">Trial summary</h1></span>"
      ],
      "text/plain": [
       "<IPython.core.display.HTML object>"
      ]
     },
     "metadata": {},
     "output_type": "display_data"
    },
    {
     "data": {
      "text/html": [
       "<span style=\"color:cyan\"> |-Trial ID: 09006ef29f6cf90c8f2e16431be984d6</span>"
      ],
      "text/plain": [
       "<IPython.core.display.HTML object>"
      ]
     },
     "metadata": {},
     "output_type": "display_data"
    },
    {
     "data": {
      "text/html": [
       "<span style=\"color:cyan\"> |-Score: 0.885074257850647</span>"
      ],
      "text/plain": [
       "<IPython.core.display.HTML object>"
      ]
     },
     "metadata": {},
     "output_type": "display_data"
    },
    {
     "data": {
      "text/html": [
       "<span style=\"color:cyan\"> |-Best step: 0</span>"
      ],
      "text/plain": [
       "<IPython.core.display.HTML object>"
      ]
     },
     "metadata": {},
     "output_type": "display_data"
    },
    {
     "data": {
      "text/html": [
       "<span style=\"color:#7E57C2\"><h2 style=\"font-size:16px\">Hyperparameters:</h2></span>"
      ],
      "text/plain": [
       "<IPython.core.display.HTML object>"
      ]
     },
     "metadata": {},
     "output_type": "display_data"
    },
    {
     "data": {
      "text/html": [
       "<span style=\"color:cyan\"> |-conv_1: 16</span>"
      ],
      "text/plain": [
       "<IPython.core.display.HTML object>"
      ]
     },
     "metadata": {},
     "output_type": "display_data"
    },
    {
     "data": {
      "text/html": [
       "<span style=\"color:blue\"> |-conv_2: 64</span>"
      ],
      "text/plain": [
       "<IPython.core.display.HTML object>"
      ]
     },
     "metadata": {},
     "output_type": "display_data"
    },
    {
     "data": {
      "text/html": [
       "<span style=\"color:cyan\"> |-conv_3: 64</span>"
      ],
      "text/plain": [
       "<IPython.core.display.HTML object>"
      ]
     },
     "metadata": {},
     "output_type": "display_data"
    },
    {
     "data": {
      "text/html": [
       "<span style=\"color:blue\"> |-dropout_1: 0.1</span>"
      ],
      "text/plain": [
       "<IPython.core.display.HTML object>"
      ]
     },
     "metadata": {},
     "output_type": "display_data"
    },
    {
     "data": {
      "text/html": [
       "<span style=\"color:cyan\"> |-dropout_2: 0.0</span>"
      ],
      "text/plain": [
       "<IPython.core.display.HTML object>"
      ]
     },
     "metadata": {},
     "output_type": "display_data"
    },
    {
     "data": {
      "text/html": [
       "<span style=\"color:blue\"> |-dropout_3: 0.30000000000000004</span>"
      ],
      "text/plain": [
       "<IPython.core.display.HTML object>"
      ]
     },
     "metadata": {},
     "output_type": "display_data"
    },
    {
     "data": {
      "text/html": [
       "<span style=\"color:cyan\"> |-dropout_4: 0.2</span>"
      ],
      "text/plain": [
       "<IPython.core.display.HTML object>"
      ]
     },
     "metadata": {},
     "output_type": "display_data"
    },
    {
     "data": {
      "text/html": [
       "<span style=\"color:blue\"> |-units: 384</span>"
      ],
      "text/plain": [
       "<IPython.core.display.HTML object>"
      ]
     },
     "metadata": {},
     "output_type": "display_data"
    },
    {
     "name": "stdout",
     "output_type": "stream",
     "text": [
      "WARNING:tensorflow:sample_weight modes were coerced from\n",
      "  ...\n",
      "    to  \n",
      "  ['...']\n",
      "WARNING:tensorflow:sample_weight modes were coerced from\n",
      "  ...\n",
      "    to  \n",
      "  ['...']\n",
      "Train for 400 steps, validate for 171 steps\n",
      "Epoch 1/50\n",
      "400/400 - 22s - loss: 0.8385 - accuracy: 0.7385 - val_loss: 0.4633 - val_accuracy: 0.7823\n",
      "Epoch 2/50\n",
      "400/400 - 21s - loss: 0.4626 - accuracy: 0.7759 - val_loss: 0.4782 - val_accuracy: 0.7865\n",
      "Epoch 3/50\n",
      "400/400 - 21s - loss: 0.4480 - accuracy: 0.7837 - val_loss: 0.4612 - val_accuracy: 0.7872\n",
      "Epoch 4/50\n",
      "400/400 - 21s - loss: 0.4403 - accuracy: 0.7868 - val_loss: 0.4672 - val_accuracy: 0.8011\n",
      "Epoch 5/50\n",
      "400/400 - 21s - loss: 0.4245 - accuracy: 0.7962 - val_loss: 0.4316 - val_accuracy: 0.8134\n",
      "Epoch 6/50\n",
      "400/400 - 21s - loss: 0.4163 - accuracy: 0.8019 - val_loss: 0.5499 - val_accuracy: 0.7974\n",
      "Epoch 7/50\n",
      "400/400 - 21s - loss: 0.4016 - accuracy: 0.8099 - val_loss: 0.4283 - val_accuracy: 0.8366\n",
      "Epoch 8/50\n",
      "400/400 - 21s - loss: 0.3776 - accuracy: 0.8234 - val_loss: 0.3857 - val_accuracy: 0.8463\n",
      "Epoch 9/50\n",
      "400/400 - 21s - loss: 0.3564 - accuracy: 0.8366 - val_loss: 0.4045 - val_accuracy: 0.7993\n",
      "Epoch 10/50\n",
      "400/400 - 21s - loss: 0.3430 - accuracy: 0.8433 - val_loss: 0.3735 - val_accuracy: 0.8422\n",
      "Epoch 11/50\n",
      "400/400 - 21s - loss: 0.3266 - accuracy: 0.8528 - val_loss: 0.3631 - val_accuracy: 0.8517\n",
      "Epoch 12/50\n",
      "400/400 - 21s - loss: 0.3191 - accuracy: 0.8575 - val_loss: 0.3441 - val_accuracy: 0.8565\n",
      "Epoch 13/50\n",
      "400/400 - 21s - loss: 0.3098 - accuracy: 0.8590 - val_loss: 0.3106 - val_accuracy: 0.8686\n",
      "Epoch 14/50\n",
      "400/400 - 21s - loss: 0.2973 - accuracy: 0.8666 - val_loss: 0.3301 - val_accuracy: 0.8700\n",
      "Epoch 15/50\n",
      "400/400 - 21s - loss: 0.2877 - accuracy: 0.8717 - val_loss: 0.3030 - val_accuracy: 0.8754\n",
      "Epoch 16/50\n",
      "400/400 - 21s - loss: 0.2771 - accuracy: 0.8760 - val_loss: 0.3400 - val_accuracy: 0.8711\n",
      "Epoch 17/50\n",
      "400/400 - 21s - loss: 0.2739 - accuracy: 0.8782 - val_loss: 0.3289 - val_accuracy: 0.8731\n",
      "Epoch 18/50\n",
      "400/400 - 21s - loss: 0.2611 - accuracy: 0.8841 - val_loss: 0.2982 - val_accuracy: 0.8773\n",
      "Epoch 19/50\n",
      "400/400 - 21s - loss: 0.2544 - accuracy: 0.8883 - val_loss: 0.3043 - val_accuracy: 0.8656\n",
      "Epoch 20/50\n",
      "400/400 - 21s - loss: 0.2489 - accuracy: 0.8908 - val_loss: 0.3224 - val_accuracy: 0.8724\n",
      "Epoch 21/50\n",
      "400/400 - 21s - loss: 0.2390 - accuracy: 0.8938 - val_loss: 0.3275 - val_accuracy: 0.8687\n",
      "Epoch 22/50\n",
      "400/400 - 21s - loss: 0.2305 - accuracy: 0.9003 - val_loss: 0.3393 - val_accuracy: 0.8624\n",
      "Epoch 23/50\n",
      "400/400 - 21s - loss: 0.2239 - accuracy: 0.9032 - val_loss: 0.3261 - val_accuracy: 0.8766\n"
     ]
    },
    {
     "data": {
      "text/html": [
       "<span style=\"color:#4527A0\"><h1 style=\"font-size:18px\">Trial complete</h1></span>"
      ],
      "text/plain": [
       "<IPython.core.display.HTML object>"
      ]
     },
     "metadata": {},
     "output_type": "display_data"
    },
    {
     "data": {
      "text/html": [
       "<span style=\"color:#4527A0\"><h1 style=\"font-size:18px\">Trial summary</h1></span>"
      ],
      "text/plain": [
       "<IPython.core.display.HTML object>"
      ]
     },
     "metadata": {},
     "output_type": "display_data"
    },
    {
     "data": {
      "text/html": [
       "<span style=\"color:cyan\"> |-Trial ID: 8bcef6f25a9d9948654e244c80a1c32c</span>"
      ],
      "text/plain": [
       "<IPython.core.display.HTML object>"
      ]
     },
     "metadata": {},
     "output_type": "display_data"
    },
    {
     "data": {
      "text/html": [
       "<span style=\"color:cyan\"> |-Score: 0.8772571682929993</span>"
      ],
      "text/plain": [
       "<IPython.core.display.HTML object>"
      ]
     },
     "metadata": {},
     "output_type": "display_data"
    },
    {
     "data": {
      "text/html": [
       "<span style=\"color:cyan\"> |-Best step: 0</span>"
      ],
      "text/plain": [
       "<IPython.core.display.HTML object>"
      ]
     },
     "metadata": {},
     "output_type": "display_data"
    },
    {
     "data": {
      "text/html": [
       "<span style=\"color:#7E57C2\"><h2 style=\"font-size:16px\">Hyperparameters:</h2></span>"
      ],
      "text/plain": [
       "<IPython.core.display.HTML object>"
      ]
     },
     "metadata": {},
     "output_type": "display_data"
    },
    {
     "data": {
      "text/html": [
       "<span style=\"color:cyan\"> |-conv_1: 16</span>"
      ],
      "text/plain": [
       "<IPython.core.display.HTML object>"
      ]
     },
     "metadata": {},
     "output_type": "display_data"
    },
    {
     "data": {
      "text/html": [
       "<span style=\"color:blue\"> |-conv_2: 64</span>"
      ],
      "text/plain": [
       "<IPython.core.display.HTML object>"
      ]
     },
     "metadata": {},
     "output_type": "display_data"
    },
    {
     "data": {
      "text/html": [
       "<span style=\"color:cyan\"> |-conv_3: 128</span>"
      ],
      "text/plain": [
       "<IPython.core.display.HTML object>"
      ]
     },
     "metadata": {},
     "output_type": "display_data"
    },
    {
     "data": {
      "text/html": [
       "<span style=\"color:blue\"> |-dropout_1: 0.30000000000000004</span>"
      ],
      "text/plain": [
       "<IPython.core.display.HTML object>"
      ]
     },
     "metadata": {},
     "output_type": "display_data"
    },
    {
     "data": {
      "text/html": [
       "<span style=\"color:cyan\"> |-dropout_2: 0.1</span>"
      ],
      "text/plain": [
       "<IPython.core.display.HTML object>"
      ]
     },
     "metadata": {},
     "output_type": "display_data"
    },
    {
     "data": {
      "text/html": [
       "<span style=\"color:blue\"> |-dropout_3: 0.1</span>"
      ],
      "text/plain": [
       "<IPython.core.display.HTML object>"
      ]
     },
     "metadata": {},
     "output_type": "display_data"
    },
    {
     "data": {
      "text/html": [
       "<span style=\"color:cyan\"> |-dropout_4: 0.30000000000000004</span>"
      ],
      "text/plain": [
       "<IPython.core.display.HTML object>"
      ]
     },
     "metadata": {},
     "output_type": "display_data"
    },
    {
     "data": {
      "text/html": [
       "<span style=\"color:blue\"> |-units: 384</span>"
      ],
      "text/plain": [
       "<IPython.core.display.HTML object>"
      ]
     },
     "metadata": {},
     "output_type": "display_data"
    },
    {
     "name": "stdout",
     "output_type": "stream",
     "text": [
      "WARNING:tensorflow:sample_weight modes were coerced from\n",
      "  ...\n",
      "    to  \n",
      "  ['...']\n",
      "WARNING:tensorflow:sample_weight modes were coerced from\n",
      "  ...\n",
      "    to  \n",
      "  ['...']\n",
      "Train for 400 steps, validate for 171 steps\n",
      "Epoch 1/50\n",
      "400/400 - 22s - loss: 1.5077 - accuracy: 0.7333 - val_loss: 0.4608 - val_accuracy: 0.7997\n",
      "Epoch 2/50\n",
      "400/400 - 21s - loss: 0.4509 - accuracy: 0.7844 - val_loss: 0.4396 - val_accuracy: 0.8007\n",
      "Epoch 3/50\n",
      "400/400 - 21s - loss: 0.4387 - accuracy: 0.7912 - val_loss: 0.4685 - val_accuracy: 0.8019\n",
      "Epoch 4/50\n",
      "400/400 - 21s - loss: 0.4293 - accuracy: 0.7958 - val_loss: 0.4364 - val_accuracy: 0.8021\n",
      "Epoch 5/50\n",
      "400/400 - 21s - loss: 0.4198 - accuracy: 0.8036 - val_loss: 0.4382 - val_accuracy: 0.7920\n",
      "Epoch 6/50\n",
      "400/400 - 21s - loss: 0.4068 - accuracy: 0.8079 - val_loss: 0.4142 - val_accuracy: 0.8244\n",
      "Epoch 7/50\n",
      "400/400 - 21s - loss: 0.3939 - accuracy: 0.8142 - val_loss: 0.4591 - val_accuracy: 0.8047\n",
      "Epoch 8/50\n",
      "400/400 - 21s - loss: 0.3854 - accuracy: 0.8212 - val_loss: 0.3702 - val_accuracy: 0.8186\n",
      "Epoch 9/50\n",
      "400/400 - 21s - loss: 0.3698 - accuracy: 0.8303 - val_loss: 0.4396 - val_accuracy: 0.8176\n",
      "Epoch 10/50\n",
      "400/400 - 21s - loss: 0.3624 - accuracy: 0.8339 - val_loss: 0.4246 - val_accuracy: 0.8211\n",
      "Epoch 11/50\n",
      "400/400 - 21s - loss: 0.3495 - accuracy: 0.8400 - val_loss: 0.3469 - val_accuracy: 0.8589\n",
      "Epoch 12/50\n",
      "400/400 - 21s - loss: 0.3388 - accuracy: 0.8467 - val_loss: 0.3460 - val_accuracy: 0.8458\n",
      "Epoch 13/50\n",
      "400/400 - 21s - loss: 0.3247 - accuracy: 0.8563 - val_loss: 0.3315 - val_accuracy: 0.8663\n",
      "Epoch 14/50\n",
      "400/400 - 21s - loss: 0.3174 - accuracy: 0.8580 - val_loss: 0.4641 - val_accuracy: 0.8348\n",
      "Epoch 15/50\n",
      "400/400 - 21s - loss: 0.3095 - accuracy: 0.8624 - val_loss: 0.3652 - val_accuracy: 0.8605\n",
      "Epoch 16/50\n",
      "400/400 - 21s - loss: 0.2991 - accuracy: 0.8682 - val_loss: 0.3583 - val_accuracy: 0.8635\n",
      "Epoch 17/50\n",
      "400/400 - 21s - loss: 0.2909 - accuracy: 0.8722 - val_loss: 0.3892 - val_accuracy: 0.8467\n",
      "Epoch 18/50\n",
      "400/400 - 21s - loss: 0.2865 - accuracy: 0.8754 - val_loss: 0.4350 - val_accuracy: 0.8375\n"
     ]
    },
    {
     "data": {
      "text/html": [
       "<span style=\"color:#4527A0\"><h1 style=\"font-size:18px\">Trial complete</h1></span>"
      ],
      "text/plain": [
       "<IPython.core.display.HTML object>"
      ]
     },
     "metadata": {},
     "output_type": "display_data"
    },
    {
     "data": {
      "text/html": [
       "<span style=\"color:#4527A0\"><h1 style=\"font-size:18px\">Trial summary</h1></span>"
      ],
      "text/plain": [
       "<IPython.core.display.HTML object>"
      ]
     },
     "metadata": {},
     "output_type": "display_data"
    },
    {
     "data": {
      "text/html": [
       "<span style=\"color:cyan\"> |-Trial ID: 609445440b371e492a0641091d6dc402</span>"
      ],
      "text/plain": [
       "<IPython.core.display.HTML object>"
      ]
     },
     "metadata": {},
     "output_type": "display_data"
    },
    {
     "data": {
      "text/html": [
       "<span style=\"color:cyan\"> |-Score: 0.8662857413291931</span>"
      ],
      "text/plain": [
       "<IPython.core.display.HTML object>"
      ]
     },
     "metadata": {},
     "output_type": "display_data"
    },
    {
     "data": {
      "text/html": [
       "<span style=\"color:cyan\"> |-Best step: 0</span>"
      ],
      "text/plain": [
       "<IPython.core.display.HTML object>"
      ]
     },
     "metadata": {},
     "output_type": "display_data"
    },
    {
     "data": {
      "text/html": [
       "<span style=\"color:#7E57C2\"><h2 style=\"font-size:16px\">Hyperparameters:</h2></span>"
      ],
      "text/plain": [
       "<IPython.core.display.HTML object>"
      ]
     },
     "metadata": {},
     "output_type": "display_data"
    },
    {
     "data": {
      "text/html": [
       "<span style=\"color:cyan\"> |-conv_1: 16</span>"
      ],
      "text/plain": [
       "<IPython.core.display.HTML object>"
      ]
     },
     "metadata": {},
     "output_type": "display_data"
    },
    {
     "data": {
      "text/html": [
       "<span style=\"color:blue\"> |-conv_2: 64</span>"
      ],
      "text/plain": [
       "<IPython.core.display.HTML object>"
      ]
     },
     "metadata": {},
     "output_type": "display_data"
    },
    {
     "data": {
      "text/html": [
       "<span style=\"color:cyan\"> |-conv_3: 64</span>"
      ],
      "text/plain": [
       "<IPython.core.display.HTML object>"
      ]
     },
     "metadata": {},
     "output_type": "display_data"
    },
    {
     "data": {
      "text/html": [
       "<span style=\"color:blue\"> |-dropout_1: 0.2</span>"
      ],
      "text/plain": [
       "<IPython.core.display.HTML object>"
      ]
     },
     "metadata": {},
     "output_type": "display_data"
    },
    {
     "data": {
      "text/html": [
       "<span style=\"color:cyan\"> |-dropout_2: 0.2</span>"
      ],
      "text/plain": [
       "<IPython.core.display.HTML object>"
      ]
     },
     "metadata": {},
     "output_type": "display_data"
    },
    {
     "data": {
      "text/html": [
       "<span style=\"color:blue\"> |-dropout_3: 0.2</span>"
      ],
      "text/plain": [
       "<IPython.core.display.HTML object>"
      ]
     },
     "metadata": {},
     "output_type": "display_data"
    },
    {
     "data": {
      "text/html": [
       "<span style=\"color:cyan\"> |-dropout_4: 0.30000000000000004</span>"
      ],
      "text/plain": [
       "<IPython.core.display.HTML object>"
      ]
     },
     "metadata": {},
     "output_type": "display_data"
    },
    {
     "data": {
      "text/html": [
       "<span style=\"color:blue\"> |-units: 640</span>"
      ],
      "text/plain": [
       "<IPython.core.display.HTML object>"
      ]
     },
     "metadata": {},
     "output_type": "display_data"
    },
    {
     "name": "stdout",
     "output_type": "stream",
     "text": [
      "WARNING:tensorflow:sample_weight modes were coerced from\n",
      "  ...\n",
      "    to  \n",
      "  ['...']\n",
      "WARNING:tensorflow:sample_weight modes were coerced from\n",
      "  ...\n",
      "    to  \n",
      "  ['...']\n",
      "Train for 400 steps, validate for 171 steps\n",
      "Epoch 1/50\n",
      "400/400 - 22s - loss: 1.0332 - accuracy: 0.6977 - val_loss: 0.5246 - val_accuracy: 0.7911\n",
      "Epoch 2/50\n",
      "400/400 - 21s - loss: 0.4578 - accuracy: 0.7784 - val_loss: 0.5562 - val_accuracy: 0.7902\n",
      "Epoch 3/50\n",
      "400/400 - 21s - loss: 0.4422 - accuracy: 0.7866 - val_loss: 0.6086 - val_accuracy: 0.7781\n",
      "Epoch 4/50\n",
      "400/400 - 21s - loss: 0.4323 - accuracy: 0.7918 - val_loss: 0.5214 - val_accuracy: 0.8057\n",
      "Epoch 5/50\n",
      "400/400 - 21s - loss: 0.4240 - accuracy: 0.7989 - val_loss: 0.4885 - val_accuracy: 0.8137\n",
      "Epoch 6/50\n",
      "400/400 - 21s - loss: 0.4173 - accuracy: 0.8041 - val_loss: 0.4422 - val_accuracy: 0.8299\n",
      "Epoch 7/50\n",
      "400/400 - 21s - loss: 0.4067 - accuracy: 0.8111 - val_loss: 0.4250 - val_accuracy: 0.8314\n",
      "Epoch 8/50\n",
      "400/400 - 21s - loss: 0.3962 - accuracy: 0.8173 - val_loss: 0.3850 - val_accuracy: 0.8383\n",
      "Epoch 9/50\n",
      "400/400 - 21s - loss: 0.3869 - accuracy: 0.8220 - val_loss: 0.3921 - val_accuracy: 0.8340\n",
      "Epoch 10/50\n",
      "400/400 - 21s - loss: 0.3754 - accuracy: 0.8290 - val_loss: 0.3533 - val_accuracy: 0.8485\n",
      "Epoch 11/50\n",
      "400/400 - 21s - loss: 0.3609 - accuracy: 0.8367 - val_loss: 0.3432 - val_accuracy: 0.8527\n",
      "Epoch 12/50\n",
      "400/400 - 21s - loss: 0.3511 - accuracy: 0.8411 - val_loss: 0.3451 - val_accuracy: 0.8488\n",
      "Epoch 13/50\n",
      "400/400 - 21s - loss: 0.3391 - accuracy: 0.8493 - val_loss: 0.3116 - val_accuracy: 0.8682\n",
      "Epoch 14/50\n",
      "400/400 - 21s - loss: 0.3257 - accuracy: 0.8547 - val_loss: 0.2971 - val_accuracy: 0.8770\n",
      "Epoch 15/50\n",
      "400/400 - 21s - loss: 0.3170 - accuracy: 0.8609 - val_loss: 0.2929 - val_accuracy: 0.8631\n",
      "Epoch 16/50\n",
      "400/400 - 21s - loss: 0.3122 - accuracy: 0.8617 - val_loss: 0.2953 - val_accuracy: 0.8685\n",
      "Epoch 17/50\n",
      "400/400 - 21s - loss: 0.3059 - accuracy: 0.8635 - val_loss: 0.2897 - val_accuracy: 0.8708\n",
      "Epoch 18/50\n",
      "400/400 - 21s - loss: 0.3002 - accuracy: 0.8678 - val_loss: 0.2798 - val_accuracy: 0.8818\n",
      "Epoch 19/50\n",
      "400/400 - 21s - loss: 0.2944 - accuracy: 0.8722 - val_loss: 0.2857 - val_accuracy: 0.8852\n",
      "Epoch 20/50\n",
      "400/400 - 21s - loss: 0.2799 - accuracy: 0.8778 - val_loss: 0.2627 - val_accuracy: 0.8862\n",
      "Epoch 21/50\n",
      "400/400 - 21s - loss: 0.2791 - accuracy: 0.8774 - val_loss: 0.2778 - val_accuracy: 0.8793\n",
      "Epoch 22/50\n",
      "400/400 - 21s - loss: 0.2740 - accuracy: 0.8808 - val_loss: 0.2959 - val_accuracy: 0.8784\n",
      "Epoch 23/50\n",
      "400/400 - 21s - loss: 0.2682 - accuracy: 0.8843 - val_loss: 0.2786 - val_accuracy: 0.8909\n",
      "Epoch 24/50\n",
      "400/400 - 21s - loss: 0.2657 - accuracy: 0.8861 - val_loss: 0.2883 - val_accuracy: 0.8834\n",
      "Epoch 25/50\n",
      "400/400 - 21s - loss: 0.2664 - accuracy: 0.8850 - val_loss: 0.2796 - val_accuracy: 0.8955\n",
      "Epoch 26/50\n",
      "400/400 - 21s - loss: 0.2588 - accuracy: 0.8892 - val_loss: 0.2730 - val_accuracy: 0.8854\n",
      "Epoch 27/50\n",
      "400/400 - 21s - loss: 0.2537 - accuracy: 0.8921 - val_loss: 0.2760 - val_accuracy: 0.8910\n",
      "Epoch 28/50\n",
      "400/400 - 21s - loss: 0.2500 - accuracy: 0.8935 - val_loss: 0.2614 - val_accuracy: 0.8955\n",
      "Epoch 29/50\n",
      "400/400 - 21s - loss: 0.2458 - accuracy: 0.8970 - val_loss: 0.2581 - val_accuracy: 0.8915\n",
      "Epoch 30/50\n",
      "400/400 - 21s - loss: 0.2380 - accuracy: 0.9001 - val_loss: 0.2564 - val_accuracy: 0.8959\n",
      "Epoch 31/50\n",
      "400/400 - 21s - loss: 0.2288 - accuracy: 0.9057 - val_loss: 0.2607 - val_accuracy: 0.8829\n",
      "Epoch 32/50\n",
      "400/400 - 21s - loss: 0.2292 - accuracy: 0.9042 - val_loss: 0.2768 - val_accuracy: 0.8884\n",
      "Epoch 33/50\n",
      "400/400 - 21s - loss: 0.2277 - accuracy: 0.9035 - val_loss: 0.2614 - val_accuracy: 0.8835\n",
      "Epoch 34/50\n",
      "400/400 - 21s - loss: 0.2151 - accuracy: 0.9105 - val_loss: 0.2529 - val_accuracy: 0.8987\n",
      "Epoch 35/50\n",
      "400/400 - 21s - loss: 0.2201 - accuracy: 0.9090 - val_loss: 0.2716 - val_accuracy: 0.8941\n",
      "Epoch 36/50\n",
      "400/400 - 21s - loss: 0.2072 - accuracy: 0.9142 - val_loss: 0.2942 - val_accuracy: 0.8910\n",
      "Epoch 37/50\n",
      "400/400 - 21s - loss: 0.2126 - accuracy: 0.9127 - val_loss: 0.3084 - val_accuracy: 0.8880\n",
      "Epoch 38/50\n",
      "400/400 - 21s - loss: 0.2041 - accuracy: 0.9157 - val_loss: 0.2977 - val_accuracy: 0.8958\n",
      "Epoch 39/50\n",
      "400/400 - 21s - loss: 0.2046 - accuracy: 0.9153 - val_loss: 0.3048 - val_accuracy: 0.8928\n"
     ]
    },
    {
     "data": {
      "text/html": [
       "<span style=\"color:#4527A0\"><h1 style=\"font-size:18px\">Trial complete</h1></span>"
      ],
      "text/plain": [
       "<IPython.core.display.HTML object>"
      ]
     },
     "metadata": {},
     "output_type": "display_data"
    },
    {
     "data": {
      "text/html": [
       "<span style=\"color:#4527A0\"><h1 style=\"font-size:18px\">Trial summary</h1></span>"
      ],
      "text/plain": [
       "<IPython.core.display.HTML object>"
      ]
     },
     "metadata": {},
     "output_type": "display_data"
    },
    {
     "data": {
      "text/html": [
       "<span style=\"color:cyan\"> |-Trial ID: 56efdc9335df1fa20375ad1966b8397b</span>"
      ],
      "text/plain": [
       "<IPython.core.display.HTML object>"
      ]
     },
     "metadata": {},
     "output_type": "display_data"
    },
    {
     "data": {
      "text/html": [
       "<span style=\"color:cyan\"> |-Score: 0.8987428545951843</span>"
      ],
      "text/plain": [
       "<IPython.core.display.HTML object>"
      ]
     },
     "metadata": {},
     "output_type": "display_data"
    },
    {
     "data": {
      "text/html": [
       "<span style=\"color:cyan\"> |-Best step: 0</span>"
      ],
      "text/plain": [
       "<IPython.core.display.HTML object>"
      ]
     },
     "metadata": {},
     "output_type": "display_data"
    },
    {
     "data": {
      "text/html": [
       "<span style=\"color:#7E57C2\"><h2 style=\"font-size:16px\">Hyperparameters:</h2></span>"
      ],
      "text/plain": [
       "<IPython.core.display.HTML object>"
      ]
     },
     "metadata": {},
     "output_type": "display_data"
    },
    {
     "data": {
      "text/html": [
       "<span style=\"color:cyan\"> |-conv_1: 32</span>"
      ],
      "text/plain": [
       "<IPython.core.display.HTML object>"
      ]
     },
     "metadata": {},
     "output_type": "display_data"
    },
    {
     "data": {
      "text/html": [
       "<span style=\"color:blue\"> |-conv_2: 64</span>"
      ],
      "text/plain": [
       "<IPython.core.display.HTML object>"
      ]
     },
     "metadata": {},
     "output_type": "display_data"
    },
    {
     "data": {
      "text/html": [
       "<span style=\"color:cyan\"> |-conv_3: 64</span>"
      ],
      "text/plain": [
       "<IPython.core.display.HTML object>"
      ]
     },
     "metadata": {},
     "output_type": "display_data"
    },
    {
     "data": {
      "text/html": [
       "<span style=\"color:blue\"> |-dropout_1: 0.4</span>"
      ],
      "text/plain": [
       "<IPython.core.display.HTML object>"
      ]
     },
     "metadata": {},
     "output_type": "display_data"
    },
    {
     "data": {
      "text/html": [
       "<span style=\"color:cyan\"> |-dropout_2: 0.4</span>"
      ],
      "text/plain": [
       "<IPython.core.display.HTML object>"
      ]
     },
     "metadata": {},
     "output_type": "display_data"
    },
    {
     "data": {
      "text/html": [
       "<span style=\"color:blue\"> |-dropout_3: 0.1</span>"
      ],
      "text/plain": [
       "<IPython.core.display.HTML object>"
      ]
     },
     "metadata": {},
     "output_type": "display_data"
    },
    {
     "data": {
      "text/html": [
       "<span style=\"color:cyan\"> |-dropout_4: 0.30000000000000004</span>"
      ],
      "text/plain": [
       "<IPython.core.display.HTML object>"
      ]
     },
     "metadata": {},
     "output_type": "display_data"
    },
    {
     "data": {
      "text/html": [
       "<span style=\"color:blue\"> |-units: 512</span>"
      ],
      "text/plain": [
       "<IPython.core.display.HTML object>"
      ]
     },
     "metadata": {},
     "output_type": "display_data"
    },
    {
     "name": "stdout",
     "output_type": "stream",
     "text": [
      "WARNING:tensorflow:sample_weight modes were coerced from\n",
      "  ...\n",
      "    to  \n",
      "  ['...']\n",
      "WARNING:tensorflow:sample_weight modes were coerced from\n",
      "  ...\n",
      "    to  \n",
      "  ['...']\n",
      "Train for 400 steps, validate for 171 steps\n",
      "Epoch 1/50\n",
      "400/400 - 22s - loss: 1.6424 - accuracy: 0.7143 - val_loss: 0.4776 - val_accuracy: 0.7387\n",
      "Epoch 2/50\n",
      "400/400 - 21s - loss: 0.4585 - accuracy: 0.7739 - val_loss: 0.4530 - val_accuracy: 0.7597\n",
      "Epoch 3/50\n",
      "400/400 - 21s - loss: 0.4372 - accuracy: 0.7919 - val_loss: 0.4148 - val_accuracy: 0.7941\n",
      "Epoch 4/50\n",
      "400/400 - 21s - loss: 0.4207 - accuracy: 0.8029 - val_loss: 0.3980 - val_accuracy: 0.8031\n",
      "Epoch 5/50\n",
      "400/400 - 21s - loss: 0.4012 - accuracy: 0.8134 - val_loss: 0.3962 - val_accuracy: 0.7724\n",
      "Epoch 6/50\n",
      "400/400 - 21s - loss: 0.3811 - accuracy: 0.8220 - val_loss: 0.3651 - val_accuracy: 0.8053\n",
      "Epoch 7/50\n",
      "400/400 - 21s - loss: 0.3596 - accuracy: 0.8362 - val_loss: 0.3290 - val_accuracy: 0.8536\n",
      "Epoch 8/50\n",
      "400/400 - 21s - loss: 0.3495 - accuracy: 0.8407 - val_loss: 0.3235 - val_accuracy: 0.8621\n",
      "Epoch 9/50\n",
      "400/400 - 21s - loss: 0.3408 - accuracy: 0.8450 - val_loss: 0.3049 - val_accuracy: 0.8671\n",
      "Epoch 10/50\n",
      "400/400 - 21s - loss: 0.3250 - accuracy: 0.8548 - val_loss: 0.3026 - val_accuracy: 0.8769\n",
      "Epoch 11/50\n",
      "400/400 - 21s - loss: 0.3176 - accuracy: 0.8579 - val_loss: 0.2833 - val_accuracy: 0.8721\n",
      "Epoch 12/50\n",
      "400/400 - 21s - loss: 0.3128 - accuracy: 0.8610 - val_loss: 0.2912 - val_accuracy: 0.8693\n",
      "Epoch 13/50\n",
      "400/400 - 21s - loss: 0.3029 - accuracy: 0.8654 - val_loss: 0.2968 - val_accuracy: 0.8759\n",
      "Epoch 14/50\n",
      "400/400 - 21s - loss: 0.2978 - accuracy: 0.8676 - val_loss: 0.2882 - val_accuracy: 0.8629\n",
      "Epoch 15/50\n",
      "400/400 - 21s - loss: 0.2886 - accuracy: 0.8729 - val_loss: 0.3089 - val_accuracy: 0.8475\n"
     ]
    },
    {
     "data": {
      "text/html": [
       "<span style=\"color:#4527A0\"><h1 style=\"font-size:18px\">Trial complete</h1></span>"
      ],
      "text/plain": [
       "<IPython.core.display.HTML object>"
      ]
     },
     "metadata": {},
     "output_type": "display_data"
    },
    {
     "data": {
      "text/html": [
       "<span style=\"color:#4527A0\"><h1 style=\"font-size:18px\">Trial summary</h1></span>"
      ],
      "text/plain": [
       "<IPython.core.display.HTML object>"
      ]
     },
     "metadata": {},
     "output_type": "display_data"
    },
    {
     "data": {
      "text/html": [
       "<span style=\"color:cyan\"> |-Trial ID: 0977354641d7b3597e6c864a08878c0f</span>"
      ],
      "text/plain": [
       "<IPython.core.display.HTML object>"
      ]
     },
     "metadata": {},
     "output_type": "display_data"
    },
    {
     "data": {
      "text/html": [
       "<span style=\"color:cyan\"> |-Score: 0.8768914341926575</span>"
      ],
      "text/plain": [
       "<IPython.core.display.HTML object>"
      ]
     },
     "metadata": {},
     "output_type": "display_data"
    },
    {
     "data": {
      "text/html": [
       "<span style=\"color:cyan\"> |-Best step: 0</span>"
      ],
      "text/plain": [
       "<IPython.core.display.HTML object>"
      ]
     },
     "metadata": {},
     "output_type": "display_data"
    },
    {
     "data": {
      "text/html": [
       "<span style=\"color:#7E57C2\"><h2 style=\"font-size:16px\">Hyperparameters:</h2></span>"
      ],
      "text/plain": [
       "<IPython.core.display.HTML object>"
      ]
     },
     "metadata": {},
     "output_type": "display_data"
    },
    {
     "data": {
      "text/html": [
       "<span style=\"color:cyan\"> |-conv_1: 16</span>"
      ],
      "text/plain": [
       "<IPython.core.display.HTML object>"
      ]
     },
     "metadata": {},
     "output_type": "display_data"
    },
    {
     "data": {
      "text/html": [
       "<span style=\"color:blue\"> |-conv_2: 32</span>"
      ],
      "text/plain": [
       "<IPython.core.display.HTML object>"
      ]
     },
     "metadata": {},
     "output_type": "display_data"
    },
    {
     "data": {
      "text/html": [
       "<span style=\"color:cyan\"> |-conv_3: 128</span>"
      ],
      "text/plain": [
       "<IPython.core.display.HTML object>"
      ]
     },
     "metadata": {},
     "output_type": "display_data"
    },
    {
     "data": {
      "text/html": [
       "<span style=\"color:blue\"> |-dropout_1: 0.2</span>"
      ],
      "text/plain": [
       "<IPython.core.display.HTML object>"
      ]
     },
     "metadata": {},
     "output_type": "display_data"
    },
    {
     "data": {
      "text/html": [
       "<span style=\"color:cyan\"> |-dropout_2: 0.30000000000000004</span>"
      ],
      "text/plain": [
       "<IPython.core.display.HTML object>"
      ]
     },
     "metadata": {},
     "output_type": "display_data"
    },
    {
     "data": {
      "text/html": [
       "<span style=\"color:blue\"> |-dropout_3: 0.0</span>"
      ],
      "text/plain": [
       "<IPython.core.display.HTML object>"
      ]
     },
     "metadata": {},
     "output_type": "display_data"
    },
    {
     "data": {
      "text/html": [
       "<span style=\"color:cyan\"> |-dropout_4: 0.30000000000000004</span>"
      ],
      "text/plain": [
       "<IPython.core.display.HTML object>"
      ]
     },
     "metadata": {},
     "output_type": "display_data"
    },
    {
     "data": {
      "text/html": [
       "<span style=\"color:blue\"> |-units: 640</span>"
      ],
      "text/plain": [
       "<IPython.core.display.HTML object>"
      ]
     },
     "metadata": {},
     "output_type": "display_data"
    },
    {
     "name": "stdout",
     "output_type": "stream",
     "text": [
      "WARNING:tensorflow:sample_weight modes were coerced from\n",
      "  ...\n",
      "    to  \n",
      "  ['...']\n",
      "WARNING:tensorflow:sample_weight modes were coerced from\n",
      "  ...\n",
      "    to  \n",
      "  ['...']\n",
      "Train for 400 steps, validate for 171 steps\n",
      "Epoch 1/50\n",
      "400/400 - 22s - loss: 1.1861 - accuracy: 0.7257 - val_loss: 0.4791 - val_accuracy: 0.7700\n",
      "Epoch 2/50\n",
      "400/400 - 21s - loss: 0.4620 - accuracy: 0.7782 - val_loss: 0.4601 - val_accuracy: 0.7944\n",
      "Epoch 3/50\n",
      "400/400 - 21s - loss: 0.4392 - accuracy: 0.7917 - val_loss: 0.4217 - val_accuracy: 0.8163\n",
      "Epoch 4/50\n",
      "400/400 - 21s - loss: 0.4242 - accuracy: 0.7997 - val_loss: 0.4234 - val_accuracy: 0.8136\n",
      "Epoch 5/50\n",
      "400/400 - 21s - loss: 0.4059 - accuracy: 0.8084 - val_loss: 0.3856 - val_accuracy: 0.8268\n",
      "Epoch 6/50\n",
      "400/400 - 21s - loss: 0.3908 - accuracy: 0.8178 - val_loss: 0.3820 - val_accuracy: 0.8229\n",
      "Epoch 7/50\n",
      "400/400 - 21s - loss: 0.3732 - accuracy: 0.8262 - val_loss: 0.3662 - val_accuracy: 0.8403\n",
      "Epoch 8/50\n",
      "400/400 - 21s - loss: 0.3558 - accuracy: 0.8361 - val_loss: 0.3924 - val_accuracy: 0.8409\n",
      "Epoch 9/50\n",
      "400/400 - 21s - loss: 0.3485 - accuracy: 0.8404 - val_loss: 0.3508 - val_accuracy: 0.8516\n",
      "Epoch 10/50\n",
      "400/400 - 21s - loss: 0.3304 - accuracy: 0.8518 - val_loss: 0.3463 - val_accuracy: 0.8560\n",
      "Epoch 11/50\n",
      "400/400 - 21s - loss: 0.3228 - accuracy: 0.8554 - val_loss: 0.3607 - val_accuracy: 0.8592\n",
      "Epoch 12/50\n",
      "400/400 - 21s - loss: 0.3122 - accuracy: 0.8596 - val_loss: 0.3303 - val_accuracy: 0.8700\n",
      "Epoch 13/50\n",
      "400/400 - 21s - loss: 0.3035 - accuracy: 0.8663 - val_loss: 0.3077 - val_accuracy: 0.8807\n",
      "Epoch 14/50\n",
      "400/400 - 21s - loss: 0.2964 - accuracy: 0.8684 - val_loss: 0.3095 - val_accuracy: 0.8776\n",
      "Epoch 15/50\n",
      "400/400 - 21s - loss: 0.2962 - accuracy: 0.8707 - val_loss: 0.3240 - val_accuracy: 0.8651\n",
      "Epoch 16/50\n",
      "400/400 - 21s - loss: 0.2828 - accuracy: 0.8752 - val_loss: 0.3126 - val_accuracy: 0.8779\n",
      "Epoch 17/50\n",
      "400/400 - 21s - loss: 0.2807 - accuracy: 0.8784 - val_loss: 0.2878 - val_accuracy: 0.8729\n",
      "Epoch 18/50\n",
      "400/400 - 21s - loss: 0.2749 - accuracy: 0.8814 - val_loss: 0.2998 - val_accuracy: 0.8790\n"
     ]
    },
    {
     "data": {
      "text/html": [
       "<span style=\"color:#4527A0\"><h1 style=\"font-size:18px\">Trial complete</h1></span>"
      ],
      "text/plain": [
       "<IPython.core.display.HTML object>"
      ]
     },
     "metadata": {},
     "output_type": "display_data"
    },
    {
     "data": {
      "text/html": [
       "<span style=\"color:#4527A0\"><h1 style=\"font-size:18px\">Trial summary</h1></span>"
      ],
      "text/plain": [
       "<IPython.core.display.HTML object>"
      ]
     },
     "metadata": {},
     "output_type": "display_data"
    },
    {
     "data": {
      "text/html": [
       "<span style=\"color:cyan\"> |-Trial ID: 0e43f9912f8e544b99b60b6251398336</span>"
      ],
      "text/plain": [
       "<IPython.core.display.HTML object>"
      ]
     },
     "metadata": {},
     "output_type": "display_data"
    },
    {
     "data": {
      "text/html": [
       "<span style=\"color:cyan\"> |-Score: 0.8807314038276672</span>"
      ],
      "text/plain": [
       "<IPython.core.display.HTML object>"
      ]
     },
     "metadata": {},
     "output_type": "display_data"
    },
    {
     "data": {
      "text/html": [
       "<span style=\"color:cyan\"> |-Best step: 0</span>"
      ],
      "text/plain": [
       "<IPython.core.display.HTML object>"
      ]
     },
     "metadata": {},
     "output_type": "display_data"
    },
    {
     "data": {
      "text/html": [
       "<span style=\"color:#7E57C2\"><h2 style=\"font-size:16px\">Hyperparameters:</h2></span>"
      ],
      "text/plain": [
       "<IPython.core.display.HTML object>"
      ]
     },
     "metadata": {},
     "output_type": "display_data"
    },
    {
     "data": {
      "text/html": [
       "<span style=\"color:cyan\"> |-conv_1: 16</span>"
      ],
      "text/plain": [
       "<IPython.core.display.HTML object>"
      ]
     },
     "metadata": {},
     "output_type": "display_data"
    },
    {
     "data": {
      "text/html": [
       "<span style=\"color:blue\"> |-conv_2: 32</span>"
      ],
      "text/plain": [
       "<IPython.core.display.HTML object>"
      ]
     },
     "metadata": {},
     "output_type": "display_data"
    },
    {
     "data": {
      "text/html": [
       "<span style=\"color:cyan\"> |-conv_3: 64</span>"
      ],
      "text/plain": [
       "<IPython.core.display.HTML object>"
      ]
     },
     "metadata": {},
     "output_type": "display_data"
    },
    {
     "data": {
      "text/html": [
       "<span style=\"color:blue\"> |-dropout_1: 0.2</span>"
      ],
      "text/plain": [
       "<IPython.core.display.HTML object>"
      ]
     },
     "metadata": {},
     "output_type": "display_data"
    },
    {
     "data": {
      "text/html": [
       "<span style=\"color:cyan\"> |-dropout_2: 0.0</span>"
      ],
      "text/plain": [
       "<IPython.core.display.HTML object>"
      ]
     },
     "metadata": {},
     "output_type": "display_data"
    },
    {
     "data": {
      "text/html": [
       "<span style=\"color:blue\"> |-dropout_3: 0.4</span>"
      ],
      "text/plain": [
       "<IPython.core.display.HTML object>"
      ]
     },
     "metadata": {},
     "output_type": "display_data"
    },
    {
     "data": {
      "text/html": [
       "<span style=\"color:cyan\"> |-dropout_4: 0.2</span>"
      ],
      "text/plain": [
       "<IPython.core.display.HTML object>"
      ]
     },
     "metadata": {},
     "output_type": "display_data"
    },
    {
     "data": {
      "text/html": [
       "<span style=\"color:blue\"> |-units: 896</span>"
      ],
      "text/plain": [
       "<IPython.core.display.HTML object>"
      ]
     },
     "metadata": {},
     "output_type": "display_data"
    },
    {
     "name": "stdout",
     "output_type": "stream",
     "text": [
      "WARNING:tensorflow:sample_weight modes were coerced from\n",
      "  ...\n",
      "    to  \n",
      "  ['...']\n",
      "WARNING:tensorflow:sample_weight modes were coerced from\n",
      "  ...\n",
      "    to  \n",
      "  ['...']\n",
      "Train for 400 steps, validate for 171 steps\n",
      "Epoch 1/50\n",
      "400/400 - 22s - loss: 0.6212 - accuracy: 0.7385 - val_loss: 0.4649 - val_accuracy: 0.7929\n",
      "Epoch 2/50\n",
      "400/400 - 21s - loss: 0.4597 - accuracy: 0.7777 - val_loss: 0.4545 - val_accuracy: 0.7841\n",
      "Epoch 3/50\n",
      "400/400 - 21s - loss: 0.4310 - accuracy: 0.7957 - val_loss: 0.4301 - val_accuracy: 0.8227\n",
      "Epoch 4/50\n",
      "400/400 - 21s - loss: 0.4055 - accuracy: 0.8121 - val_loss: 0.4065 - val_accuracy: 0.8407\n",
      "Epoch 5/50\n",
      "400/400 - 21s - loss: 0.3984 - accuracy: 0.8179 - val_loss: 0.3788 - val_accuracy: 0.8449\n",
      "Epoch 6/50\n",
      "400/400 - 21s - loss: 0.3778 - accuracy: 0.8285 - val_loss: 0.3737 - val_accuracy: 0.8498\n",
      "Epoch 7/50\n",
      "400/400 - 21s - loss: 0.3673 - accuracy: 0.8334 - val_loss: 0.3458 - val_accuracy: 0.8505\n",
      "Epoch 8/50\n",
      "400/400 - 21s - loss: 0.3580 - accuracy: 0.8371 - val_loss: 0.3465 - val_accuracy: 0.8497\n",
      "Epoch 9/50\n",
      "400/400 - 21s - loss: 0.3466 - accuracy: 0.8436 - val_loss: 0.3282 - val_accuracy: 0.8481\n",
      "Epoch 10/50\n",
      "400/400 - 21s - loss: 0.3349 - accuracy: 0.8491 - val_loss: 0.3311 - val_accuracy: 0.8622\n",
      "Epoch 11/50\n",
      "400/400 - 21s - loss: 0.3225 - accuracy: 0.8559 - val_loss: 0.3332 - val_accuracy: 0.8603\n",
      "Epoch 12/50\n",
      "400/400 - 21s - loss: 0.3119 - accuracy: 0.8612 - val_loss: 0.3442 - val_accuracy: 0.8613\n",
      "Epoch 13/50\n",
      "400/400 - 21s - loss: 0.3034 - accuracy: 0.8654 - val_loss: 0.3506 - val_accuracy: 0.8576\n",
      "Epoch 14/50\n",
      "400/400 - 21s - loss: 0.2962 - accuracy: 0.8696 - val_loss: 0.3470 - val_accuracy: 0.8602\n",
      "Epoch 15/50\n",
      "400/400 - 21s - loss: 0.3015 - accuracy: 0.8642 - val_loss: 0.3375 - val_accuracy: 0.8616\n"
     ]
    },
    {
     "data": {
      "text/html": [
       "<span style=\"color:#4527A0\"><h1 style=\"font-size:18px\">Trial complete</h1></span>"
      ],
      "text/plain": [
       "<IPython.core.display.HTML object>"
      ]
     },
     "metadata": {},
     "output_type": "display_data"
    },
    {
     "data": {
      "text/html": [
       "<span style=\"color:#4527A0\"><h1 style=\"font-size:18px\">Trial summary</h1></span>"
      ],
      "text/plain": [
       "<IPython.core.display.HTML object>"
      ]
     },
     "metadata": {},
     "output_type": "display_data"
    },
    {
     "data": {
      "text/html": [
       "<span style=\"color:cyan\"> |-Trial ID: 483746393b66980ec89014098137fc03</span>"
      ],
      "text/plain": [
       "<IPython.core.display.HTML object>"
      ]
     },
     "metadata": {},
     "output_type": "display_data"
    },
    {
     "data": {
      "text/html": [
       "<span style=\"color:cyan\"> |-Score: 0.8621714115142822</span>"
      ],
      "text/plain": [
       "<IPython.core.display.HTML object>"
      ]
     },
     "metadata": {},
     "output_type": "display_data"
    },
    {
     "data": {
      "text/html": [
       "<span style=\"color:cyan\"> |-Best step: 0</span>"
      ],
      "text/plain": [
       "<IPython.core.display.HTML object>"
      ]
     },
     "metadata": {},
     "output_type": "display_data"
    },
    {
     "data": {
      "text/html": [
       "<span style=\"color:#7E57C2\"><h2 style=\"font-size:16px\">Hyperparameters:</h2></span>"
      ],
      "text/plain": [
       "<IPython.core.display.HTML object>"
      ]
     },
     "metadata": {},
     "output_type": "display_data"
    },
    {
     "data": {
      "text/html": [
       "<span style=\"color:cyan\"> |-conv_1: 16</span>"
      ],
      "text/plain": [
       "<IPython.core.display.HTML object>"
      ]
     },
     "metadata": {},
     "output_type": "display_data"
    },
    {
     "data": {
      "text/html": [
       "<span style=\"color:blue\"> |-conv_2: 64</span>"
      ],
      "text/plain": [
       "<IPython.core.display.HTML object>"
      ]
     },
     "metadata": {},
     "output_type": "display_data"
    },
    {
     "data": {
      "text/html": [
       "<span style=\"color:cyan\"> |-conv_3: 128</span>"
      ],
      "text/plain": [
       "<IPython.core.display.HTML object>"
      ]
     },
     "metadata": {},
     "output_type": "display_data"
    },
    {
     "data": {
      "text/html": [
       "<span style=\"color:blue\"> |-dropout_1: 0.1</span>"
      ],
      "text/plain": [
       "<IPython.core.display.HTML object>"
      ]
     },
     "metadata": {},
     "output_type": "display_data"
    },
    {
     "data": {
      "text/html": [
       "<span style=\"color:cyan\"> |-dropout_2: 0.2</span>"
      ],
      "text/plain": [
       "<IPython.core.display.HTML object>"
      ]
     },
     "metadata": {},
     "output_type": "display_data"
    },
    {
     "data": {
      "text/html": [
       "<span style=\"color:blue\"> |-dropout_3: 0.30000000000000004</span>"
      ],
      "text/plain": [
       "<IPython.core.display.HTML object>"
      ]
     },
     "metadata": {},
     "output_type": "display_data"
    },
    {
     "data": {
      "text/html": [
       "<span style=\"color:cyan\"> |-dropout_4: 0.1</span>"
      ],
      "text/plain": [
       "<IPython.core.display.HTML object>"
      ]
     },
     "metadata": {},
     "output_type": "display_data"
    },
    {
     "data": {
      "text/html": [
       "<span style=\"color:blue\"> |-units: 128</span>"
      ],
      "text/plain": [
       "<IPython.core.display.HTML object>"
      ]
     },
     "metadata": {},
     "output_type": "display_data"
    },
    {
     "name": "stdout",
     "output_type": "stream",
     "text": [
      "WARNING:tensorflow:sample_weight modes were coerced from\n",
      "  ...\n",
      "    to  \n",
      "  ['...']\n",
      "WARNING:tensorflow:sample_weight modes were coerced from\n",
      "  ...\n",
      "    to  \n",
      "  ['...']\n",
      "Train for 400 steps, validate for 171 steps\n",
      "Epoch 1/50\n",
      "400/400 - 22s - loss: 0.9816 - accuracy: 0.5930 - val_loss: 0.5638 - val_accuracy: 0.5918\n",
      "Epoch 2/50\n",
      "400/400 - 22s - loss: 0.4843 - accuracy: 0.6636 - val_loss: 0.4729 - val_accuracy: 0.7947\n",
      "Epoch 3/50\n",
      "400/400 - 22s - loss: 0.4415 - accuracy: 0.7816 - val_loss: 0.4448 - val_accuracy: 0.8102\n",
      "Epoch 4/50\n",
      "400/400 - 22s - loss: 0.4173 - accuracy: 0.8022 - val_loss: 0.4373 - val_accuracy: 0.8170\n",
      "Epoch 5/50\n",
      "400/400 - 22s - loss: 0.4037 - accuracy: 0.8112 - val_loss: 0.4118 - val_accuracy: 0.8260\n",
      "Epoch 6/50\n",
      "400/400 - 22s - loss: 0.3916 - accuracy: 0.8153 - val_loss: 0.3885 - val_accuracy: 0.8333\n",
      "Epoch 7/50\n",
      "400/400 - 22s - loss: 0.3771 - accuracy: 0.8265 - val_loss: 0.3952 - val_accuracy: 0.8420\n",
      "Epoch 8/50\n",
      "400/400 - 22s - loss: 0.3552 - accuracy: 0.8381 - val_loss: 0.3271 - val_accuracy: 0.8686\n",
      "Epoch 9/50\n",
      "400/400 - 21s - loss: 0.3373 - accuracy: 0.8487 - val_loss: 0.4034 - val_accuracy: 0.8470\n",
      "Epoch 10/50\n",
      "400/400 - 22s - loss: 0.3328 - accuracy: 0.8516 - val_loss: 0.3151 - val_accuracy: 0.8799\n",
      "Epoch 11/50\n",
      "400/400 - 22s - loss: 0.3157 - accuracy: 0.8609 - val_loss: 0.3022 - val_accuracy: 0.8844\n",
      "Epoch 12/50\n",
      "400/400 - 22s - loss: 0.3129 - accuracy: 0.8624 - val_loss: 0.3052 - val_accuracy: 0.8847\n",
      "Epoch 13/50\n",
      "400/400 - 21s - loss: 0.2998 - accuracy: 0.8680 - val_loss: 0.2993 - val_accuracy: 0.8699\n",
      "Epoch 14/50\n",
      "400/400 - 22s - loss: 0.2952 - accuracy: 0.8692 - val_loss: 0.2661 - val_accuracy: 0.8906\n",
      "Epoch 15/50\n",
      "400/400 - 21s - loss: 0.2880 - accuracy: 0.8759 - val_loss: 0.2740 - val_accuracy: 0.8867\n",
      "Epoch 16/50\n",
      "400/400 - 21s - loss: 0.2786 - accuracy: 0.8789 - val_loss: 0.2652 - val_accuracy: 0.8903\n",
      "Epoch 17/50\n",
      "400/400 - 21s - loss: 0.2790 - accuracy: 0.8801 - val_loss: 0.2679 - val_accuracy: 0.8862\n",
      "Epoch 18/50\n",
      "400/400 - 22s - loss: 0.2710 - accuracy: 0.8838 - val_loss: 0.2619 - val_accuracy: 0.9009\n",
      "Epoch 19/50\n",
      "400/400 - 21s - loss: 0.2692 - accuracy: 0.8836 - val_loss: 0.2533 - val_accuracy: 0.9004\n",
      "Epoch 20/50\n",
      "400/400 - 21s - loss: 0.2616 - accuracy: 0.8902 - val_loss: 0.2816 - val_accuracy: 0.8961\n",
      "Epoch 21/50\n",
      "400/400 - 22s - loss: 0.2576 - accuracy: 0.8899 - val_loss: 0.2590 - val_accuracy: 0.8971\n",
      "Epoch 22/50\n",
      "400/400 - 21s - loss: 0.2638 - accuracy: 0.8861 - val_loss: 0.2514 - val_accuracy: 0.8934\n",
      "Epoch 23/50\n",
      "400/400 - 22s - loss: 0.2539 - accuracy: 0.8929 - val_loss: 0.2462 - val_accuracy: 0.9056\n",
      "Epoch 24/50\n",
      "400/400 - 22s - loss: 0.2485 - accuracy: 0.8951 - val_loss: 0.2671 - val_accuracy: 0.8747\n",
      "Epoch 25/50\n",
      "400/400 - 21s - loss: 0.2501 - accuracy: 0.8922 - val_loss: 0.2465 - val_accuracy: 0.8954\n",
      "Epoch 26/50\n",
      "400/400 - 21s - loss: 0.2477 - accuracy: 0.8948 - val_loss: 0.2544 - val_accuracy: 0.9036\n",
      "Epoch 27/50\n",
      "400/400 - 21s - loss: 0.2429 - accuracy: 0.8971 - val_loss: 0.2739 - val_accuracy: 0.8744\n",
      "Epoch 28/50\n",
      "400/400 - 21s - loss: 0.2390 - accuracy: 0.8986 - val_loss: 0.2434 - val_accuracy: 0.8970\n"
     ]
    },
    {
     "data": {
      "text/html": [
       "<span style=\"color:#4527A0\"><h1 style=\"font-size:18px\">Trial complete</h1></span>"
      ],
      "text/plain": [
       "<IPython.core.display.HTML object>"
      ]
     },
     "metadata": {},
     "output_type": "display_data"
    },
    {
     "data": {
      "text/html": [
       "<span style=\"color:#4527A0\"><h1 style=\"font-size:18px\">Trial summary</h1></span>"
      ],
      "text/plain": [
       "<IPython.core.display.HTML object>"
      ]
     },
     "metadata": {},
     "output_type": "display_data"
    },
    {
     "data": {
      "text/html": [
       "<span style=\"color:cyan\"> |-Trial ID: 9c9700c7da20abf6b300fece888daef7</span>"
      ],
      "text/plain": [
       "<IPython.core.display.HTML object>"
      ]
     },
     "metadata": {},
     "output_type": "display_data"
    },
    {
     "data": {
      "text/html": [
       "<span style=\"color:cyan\"> |-Score: 0.9055542945861816</span>"
      ],
      "text/plain": [
       "<IPython.core.display.HTML object>"
      ]
     },
     "metadata": {},
     "output_type": "display_data"
    },
    {
     "data": {
      "text/html": [
       "<span style=\"color:cyan\"> |-Best step: 0</span>"
      ],
      "text/plain": [
       "<IPython.core.display.HTML object>"
      ]
     },
     "metadata": {},
     "output_type": "display_data"
    },
    {
     "data": {
      "text/html": [
       "<span style=\"color:#7E57C2\"><h2 style=\"font-size:16px\">Hyperparameters:</h2></span>"
      ],
      "text/plain": [
       "<IPython.core.display.HTML object>"
      ]
     },
     "metadata": {},
     "output_type": "display_data"
    },
    {
     "data": {
      "text/html": [
       "<span style=\"color:cyan\"> |-conv_1: 32</span>"
      ],
      "text/plain": [
       "<IPython.core.display.HTML object>"
      ]
     },
     "metadata": {},
     "output_type": "display_data"
    },
    {
     "data": {
      "text/html": [
       "<span style=\"color:blue\"> |-conv_2: 64</span>"
      ],
      "text/plain": [
       "<IPython.core.display.HTML object>"
      ]
     },
     "metadata": {},
     "output_type": "display_data"
    },
    {
     "data": {
      "text/html": [
       "<span style=\"color:cyan\"> |-conv_3: 128</span>"
      ],
      "text/plain": [
       "<IPython.core.display.HTML object>"
      ]
     },
     "metadata": {},
     "output_type": "display_data"
    },
    {
     "data": {
      "text/html": [
       "<span style=\"color:blue\"> |-dropout_1: 0.2</span>"
      ],
      "text/plain": [
       "<IPython.core.display.HTML object>"
      ]
     },
     "metadata": {},
     "output_type": "display_data"
    },
    {
     "data": {
      "text/html": [
       "<span style=\"color:cyan\"> |-dropout_2: 0.4</span>"
      ],
      "text/plain": [
       "<IPython.core.display.HTML object>"
      ]
     },
     "metadata": {},
     "output_type": "display_data"
    },
    {
     "data": {
      "text/html": [
       "<span style=\"color:blue\"> |-dropout_3: 0.5</span>"
      ],
      "text/plain": [
       "<IPython.core.display.HTML object>"
      ]
     },
     "metadata": {},
     "output_type": "display_data"
    },
    {
     "data": {
      "text/html": [
       "<span style=\"color:cyan\"> |-dropout_4: 0.1</span>"
      ],
      "text/plain": [
       "<IPython.core.display.HTML object>"
      ]
     },
     "metadata": {},
     "output_type": "display_data"
    },
    {
     "data": {
      "text/html": [
       "<span style=\"color:blue\"> |-units: 128</span>"
      ],
      "text/plain": [
       "<IPython.core.display.HTML object>"
      ]
     },
     "metadata": {},
     "output_type": "display_data"
    },
    {
     "name": "stdout",
     "output_type": "stream",
     "text": [
      "WARNING:tensorflow:sample_weight modes were coerced from\n",
      "  ...\n",
      "    to  \n",
      "  ['...']\n",
      "WARNING:tensorflow:sample_weight modes were coerced from\n",
      "  ...\n",
      "    to  \n",
      "  ['...']\n",
      "Train for 400 steps, validate for 171 steps\n",
      "Epoch 1/50\n",
      "400/400 - 22s - loss: 1.0323 - accuracy: 0.7112 - val_loss: 0.5321 - val_accuracy: 0.7752\n",
      "Epoch 2/50\n",
      "400/400 - 21s - loss: 0.4703 - accuracy: 0.7716 - val_loss: 0.4862 - val_accuracy: 0.7880\n",
      "Epoch 3/50\n",
      "400/400 - 21s - loss: 0.4587 - accuracy: 0.7784 - val_loss: 0.4977 - val_accuracy: 0.7929\n",
      "Epoch 4/50\n",
      "400/400 - 21s - loss: 0.4487 - accuracy: 0.7857 - val_loss: 0.4357 - val_accuracy: 0.7954\n",
      "Epoch 5/50\n",
      "400/400 - 21s - loss: 0.4359 - accuracy: 0.7932 - val_loss: 0.4410 - val_accuracy: 0.7824\n",
      "Epoch 6/50\n",
      "400/400 - 21s - loss: 0.4273 - accuracy: 0.7963 - val_loss: 0.4191 - val_accuracy: 0.8032\n",
      "Epoch 7/50\n",
      "400/400 - 21s - loss: 0.4178 - accuracy: 0.8015 - val_loss: 0.4052 - val_accuracy: 0.8124\n",
      "Epoch 8/50\n",
      "400/400 - 21s - loss: 0.4079 - accuracy: 0.8092 - val_loss: 0.3969 - val_accuracy: 0.8162\n",
      "Epoch 9/50\n",
      "400/400 - 21s - loss: 0.3973 - accuracy: 0.8161 - val_loss: 0.3773 - val_accuracy: 0.8402\n",
      "Epoch 10/50\n",
      "400/400 - 21s - loss: 0.3877 - accuracy: 0.8210 - val_loss: 0.3664 - val_accuracy: 0.8230\n",
      "Epoch 11/50\n",
      "400/400 - 21s - loss: 0.3669 - accuracy: 0.8339 - val_loss: 0.3440 - val_accuracy: 0.8371\n",
      "Epoch 12/50\n",
      "400/400 - 22s - loss: 0.3492 - accuracy: 0.8432 - val_loss: 0.3159 - val_accuracy: 0.8630\n",
      "Epoch 13/50\n",
      "400/400 - 21s - loss: 0.3357 - accuracy: 0.8487 - val_loss: 0.3139 - val_accuracy: 0.8573\n",
      "Epoch 14/50\n",
      "400/400 - 21s - loss: 0.3262 - accuracy: 0.8545 - val_loss: 0.2973 - val_accuracy: 0.8588\n",
      "Epoch 15/50\n",
      "400/400 - 21s - loss: 0.3082 - accuracy: 0.8623 - val_loss: 0.2962 - val_accuracy: 0.8631\n",
      "Epoch 16/50\n",
      "400/400 - 21s - loss: 0.3044 - accuracy: 0.8636 - val_loss: 0.2918 - val_accuracy: 0.8635\n",
      "Epoch 17/50\n",
      "400/400 - 21s - loss: 0.2993 - accuracy: 0.8667 - val_loss: 0.2862 - val_accuracy: 0.8651\n",
      "Epoch 18/50\n",
      "400/400 - 21s - loss: 0.2888 - accuracy: 0.8733 - val_loss: 0.2657 - val_accuracy: 0.8877\n",
      "Epoch 19/50\n",
      "400/400 - 21s - loss: 0.2841 - accuracy: 0.8763 - val_loss: 0.2701 - val_accuracy: 0.8852\n",
      "Epoch 20/50\n",
      "400/400 - 21s - loss: 0.2781 - accuracy: 0.8773 - val_loss: 0.2659 - val_accuracy: 0.8881\n",
      "Epoch 21/50\n",
      "400/400 - 21s - loss: 0.2740 - accuracy: 0.8799 - val_loss: 0.2577 - val_accuracy: 0.8923\n",
      "Epoch 22/50\n",
      "400/400 - 21s - loss: 0.2649 - accuracy: 0.8865 - val_loss: 0.2492 - val_accuracy: 0.8898\n",
      "Epoch 23/50\n",
      "400/400 - 21s - loss: 0.2594 - accuracy: 0.8877 - val_loss: 0.2576 - val_accuracy: 0.8981\n",
      "Epoch 24/50\n",
      "400/400 - 21s - loss: 0.2568 - accuracy: 0.8898 - val_loss: 0.2700 - val_accuracy: 0.8941\n",
      "Epoch 25/50\n",
      "400/400 - 21s - loss: 0.2550 - accuracy: 0.8900 - val_loss: 0.2494 - val_accuracy: 0.8941\n",
      "Epoch 26/50\n",
      "400/400 - 21s - loss: 0.2516 - accuracy: 0.8929 - val_loss: 0.2508 - val_accuracy: 0.8853\n",
      "Epoch 27/50\n",
      "400/400 - 21s - loss: 0.2425 - accuracy: 0.8964 - val_loss: 0.2449 - val_accuracy: 0.8999\n",
      "Epoch 28/50\n",
      "400/400 - 21s - loss: 0.2408 - accuracy: 0.8982 - val_loss: 0.2372 - val_accuracy: 0.8986\n",
      "Epoch 29/50\n",
      "400/400 - 21s - loss: 0.2340 - accuracy: 0.9007 - val_loss: 0.2335 - val_accuracy: 0.9052\n",
      "Epoch 30/50\n",
      "400/400 - 21s - loss: 0.2300 - accuracy: 0.9034 - val_loss: 0.2612 - val_accuracy: 0.8900\n",
      "Epoch 31/50\n",
      "400/400 - 21s - loss: 0.2291 - accuracy: 0.9043 - val_loss: 0.2664 - val_accuracy: 0.8859\n",
      "Epoch 32/50\n",
      "400/400 - 21s - loss: 0.2249 - accuracy: 0.9062 - val_loss: 0.2431 - val_accuracy: 0.8969\n",
      "Epoch 33/50\n",
      "400/400 - 21s - loss: 0.2240 - accuracy: 0.9065 - val_loss: 0.2315 - val_accuracy: 0.8978\n",
      "Epoch 34/50\n",
      "400/400 - 21s - loss: 0.2258 - accuracy: 0.9061 - val_loss: 0.2370 - val_accuracy: 0.9065\n",
      "Epoch 35/50\n",
      "400/400 - 21s - loss: 0.2177 - accuracy: 0.9079 - val_loss: 0.2540 - val_accuracy: 0.8868\n",
      "Epoch 36/50\n",
      "400/400 - 21s - loss: 0.2160 - accuracy: 0.9094 - val_loss: 0.2277 - val_accuracy: 0.9010\n",
      "Epoch 37/50\n",
      "400/400 - 21s - loss: 0.2123 - accuracy: 0.9120 - val_loss: 0.2296 - val_accuracy: 0.9148\n",
      "Epoch 38/50\n",
      "400/400 - 21s - loss: 0.2148 - accuracy: 0.9104 - val_loss: 0.2442 - val_accuracy: 0.9083\n",
      "Epoch 39/50\n",
      "400/400 - 21s - loss: 0.2135 - accuracy: 0.9112 - val_loss: 0.2578 - val_accuracy: 0.8832\n",
      "Epoch 40/50\n",
      "400/400 - 21s - loss: 0.2086 - accuracy: 0.9132 - val_loss: 0.2647 - val_accuracy: 0.8635\n",
      "Epoch 41/50\n",
      "400/400 - 21s - loss: 0.1994 - accuracy: 0.9186 - val_loss: 0.2456 - val_accuracy: 0.9067\n",
      "Epoch 42/50\n",
      "400/400 - 21s - loss: 0.2070 - accuracy: 0.9138 - val_loss: 0.2254 - val_accuracy: 0.9060\n"
     ]
    },
    {
     "data": {
      "text/html": [
       "<span style=\"color:#4527A0\"><h1 style=\"font-size:18px\">Trial complete</h1></span>"
      ],
      "text/plain": [
       "<IPython.core.display.HTML object>"
      ]
     },
     "metadata": {},
     "output_type": "display_data"
    },
    {
     "data": {
      "text/html": [
       "<span style=\"color:#4527A0\"><h1 style=\"font-size:18px\">Trial summary</h1></span>"
      ],
      "text/plain": [
       "<IPython.core.display.HTML object>"
      ]
     },
     "metadata": {},
     "output_type": "display_data"
    },
    {
     "data": {
      "text/html": [
       "<span style=\"color:cyan\"> |-Trial ID: ee20308d228abd5233fd90bc29432527</span>"
      ],
      "text/plain": [
       "<IPython.core.display.HTML object>"
      ]
     },
     "metadata": {},
     "output_type": "display_data"
    },
    {
     "data": {
      "text/html": [
       "<span style=\"color:cyan\"> |-Score: 0.9148342609405518</span>"
      ],
      "text/plain": [
       "<IPython.core.display.HTML object>"
      ]
     },
     "metadata": {},
     "output_type": "display_data"
    },
    {
     "data": {
      "text/html": [
       "<span style=\"color:cyan\"> |-Best step: 0</span>"
      ],
      "text/plain": [
       "<IPython.core.display.HTML object>"
      ]
     },
     "metadata": {},
     "output_type": "display_data"
    },
    {
     "data": {
      "text/html": [
       "<span style=\"color:#7E57C2\"><h2 style=\"font-size:16px\">Hyperparameters:</h2></span>"
      ],
      "text/plain": [
       "<IPython.core.display.HTML object>"
      ]
     },
     "metadata": {},
     "output_type": "display_data"
    },
    {
     "data": {
      "text/html": [
       "<span style=\"color:cyan\"> |-conv_1: 32</span>"
      ],
      "text/plain": [
       "<IPython.core.display.HTML object>"
      ]
     },
     "metadata": {},
     "output_type": "display_data"
    },
    {
     "data": {
      "text/html": [
       "<span style=\"color:blue\"> |-conv_2: 64</span>"
      ],
      "text/plain": [
       "<IPython.core.display.HTML object>"
      ]
     },
     "metadata": {},
     "output_type": "display_data"
    },
    {
     "data": {
      "text/html": [
       "<span style=\"color:cyan\"> |-conv_3: 64</span>"
      ],
      "text/plain": [
       "<IPython.core.display.HTML object>"
      ]
     },
     "metadata": {},
     "output_type": "display_data"
    },
    {
     "data": {
      "text/html": [
       "<span style=\"color:blue\"> |-dropout_1: 0.2</span>"
      ],
      "text/plain": [
       "<IPython.core.display.HTML object>"
      ]
     },
     "metadata": {},
     "output_type": "display_data"
    },
    {
     "data": {
      "text/html": [
       "<span style=\"color:cyan\"> |-dropout_2: 0.2</span>"
      ],
      "text/plain": [
       "<IPython.core.display.HTML object>"
      ]
     },
     "metadata": {},
     "output_type": "display_data"
    },
    {
     "data": {
      "text/html": [
       "<span style=\"color:blue\"> |-dropout_3: 0.5</span>"
      ],
      "text/plain": [
       "<IPython.core.display.HTML object>"
      ]
     },
     "metadata": {},
     "output_type": "display_data"
    },
    {
     "data": {
      "text/html": [
       "<span style=\"color:cyan\"> |-dropout_4: 0.2</span>"
      ],
      "text/plain": [
       "<IPython.core.display.HTML object>"
      ]
     },
     "metadata": {},
     "output_type": "display_data"
    },
    {
     "data": {
      "text/html": [
       "<span style=\"color:blue\"> |-units: 896</span>"
      ],
      "text/plain": [
       "<IPython.core.display.HTML object>"
      ]
     },
     "metadata": {},
     "output_type": "display_data"
    },
    {
     "name": "stdout",
     "output_type": "stream",
     "text": [
      "WARNING:tensorflow:sample_weight modes were coerced from\n",
      "  ...\n",
      "    to  \n",
      "  ['...']\n",
      "WARNING:tensorflow:sample_weight modes were coerced from\n",
      "  ...\n",
      "    to  \n",
      "  ['...']\n",
      "Train for 400 steps, validate for 171 steps\n",
      "Epoch 1/50\n",
      "400/400 - 22s - loss: 2.1367 - accuracy: 0.5926 - val_loss: 0.5987 - val_accuracy: 0.5915\n",
      "Epoch 2/50\n",
      "400/400 - 21s - loss: 0.5519 - accuracy: 0.6979 - val_loss: 0.4894 - val_accuracy: 0.7451\n",
      "Epoch 3/50\n",
      "400/400 - 21s - loss: 0.4829 - accuracy: 0.7592 - val_loss: 0.4570 - val_accuracy: 0.7908\n",
      "Epoch 4/50\n",
      "400/400 - 21s - loss: 0.4587 - accuracy: 0.7746 - val_loss: 0.4587 - val_accuracy: 0.8018\n",
      "Epoch 5/50\n",
      "400/400 - 21s - loss: 0.4415 - accuracy: 0.7848 - val_loss: 0.4343 - val_accuracy: 0.7919\n",
      "Epoch 6/50\n",
      "400/400 - 21s - loss: 0.4167 - accuracy: 0.8016 - val_loss: 0.4117 - val_accuracy: 0.8031\n",
      "Epoch 7/50\n",
      "400/400 - 21s - loss: 0.4016 - accuracy: 0.8098 - val_loss: 0.3863 - val_accuracy: 0.8209\n",
      "Epoch 8/50\n",
      "400/400 - 21s - loss: 0.3820 - accuracy: 0.8219 - val_loss: 0.3882 - val_accuracy: 0.8123\n",
      "Epoch 9/50\n",
      "400/400 - 21s - loss: 0.3667 - accuracy: 0.8288 - val_loss: 0.3504 - val_accuracy: 0.8318\n",
      "Epoch 10/50\n",
      "400/400 - 21s - loss: 0.3490 - accuracy: 0.8402 - val_loss: 0.3527 - val_accuracy: 0.8291\n",
      "Epoch 11/50\n",
      "400/400 - 21s - loss: 0.3420 - accuracy: 0.8441 - val_loss: 0.3223 - val_accuracy: 0.8461\n",
      "Epoch 12/50\n",
      "400/400 - 21s - loss: 0.3281 - accuracy: 0.8509 - val_loss: 0.3166 - val_accuracy: 0.8482\n",
      "Epoch 13/50\n",
      "400/400 - 21s - loss: 0.3206 - accuracy: 0.8560 - val_loss: 0.3166 - val_accuracy: 0.8524\n",
      "Epoch 14/50\n",
      "400/400 - 21s - loss: 0.3080 - accuracy: 0.8618 - val_loss: 0.3176 - val_accuracy: 0.8625\n",
      "Epoch 15/50\n",
      "400/400 - 21s - loss: 0.3017 - accuracy: 0.8668 - val_loss: 0.3150 - val_accuracy: 0.8684\n",
      "Epoch 16/50\n",
      "400/400 - 21s - loss: 0.2975 - accuracy: 0.8684 - val_loss: 0.3142 - val_accuracy: 0.8752\n",
      "Epoch 17/50\n",
      "400/400 - 21s - loss: 0.2797 - accuracy: 0.8766 - val_loss: 0.2759 - val_accuracy: 0.8923\n",
      "Epoch 18/50\n",
      "400/400 - 21s - loss: 0.2736 - accuracy: 0.8789 - val_loss: 0.2971 - val_accuracy: 0.8807\n",
      "Epoch 19/50\n",
      "400/400 - 21s - loss: 0.2712 - accuracy: 0.8817 - val_loss: 0.3224 - val_accuracy: 0.8795\n",
      "Epoch 20/50\n",
      "400/400 - 21s - loss: 0.2606 - accuracy: 0.8855 - val_loss: 0.3055 - val_accuracy: 0.8873\n",
      "Epoch 21/50\n",
      "400/400 - 21s - loss: 0.2556 - accuracy: 0.8884 - val_loss: 0.2758 - val_accuracy: 0.8920\n",
      "Epoch 22/50\n",
      "400/400 - 21s - loss: 0.2513 - accuracy: 0.8918 - val_loss: 0.2737 - val_accuracy: 0.8912\n"
     ]
    },
    {
     "data": {
      "text/html": [
       "<span style=\"color:#4527A0\"><h1 style=\"font-size:18px\">Trial complete</h1></span>"
      ],
      "text/plain": [
       "<IPython.core.display.HTML object>"
      ]
     },
     "metadata": {},
     "output_type": "display_data"
    },
    {
     "data": {
      "text/html": [
       "<span style=\"color:#4527A0\"><h1 style=\"font-size:18px\">Trial summary</h1></span>"
      ],
      "text/plain": [
       "<IPython.core.display.HTML object>"
      ]
     },
     "metadata": {},
     "output_type": "display_data"
    },
    {
     "data": {
      "text/html": [
       "<span style=\"color:cyan\"> |-Trial ID: df9c00d8d047458059f7f5a1c159ea24</span>"
      ],
      "text/plain": [
       "<IPython.core.display.HTML object>"
      ]
     },
     "metadata": {},
     "output_type": "display_data"
    },
    {
     "data": {
      "text/html": [
       "<span style=\"color:cyan\"> |-Score: 0.8922514319419861</span>"
      ],
      "text/plain": [
       "<IPython.core.display.HTML object>"
      ]
     },
     "metadata": {},
     "output_type": "display_data"
    },
    {
     "data": {
      "text/html": [
       "<span style=\"color:cyan\"> |-Best step: 0</span>"
      ],
      "text/plain": [
       "<IPython.core.display.HTML object>"
      ]
     },
     "metadata": {},
     "output_type": "display_data"
    },
    {
     "data": {
      "text/html": [
       "<span style=\"color:#7E57C2\"><h2 style=\"font-size:16px\">Hyperparameters:</h2></span>"
      ],
      "text/plain": [
       "<IPython.core.display.HTML object>"
      ]
     },
     "metadata": {},
     "output_type": "display_data"
    },
    {
     "data": {
      "text/html": [
       "<span style=\"color:cyan\"> |-conv_1: 32</span>"
      ],
      "text/plain": [
       "<IPython.core.display.HTML object>"
      ]
     },
     "metadata": {},
     "output_type": "display_data"
    },
    {
     "data": {
      "text/html": [
       "<span style=\"color:blue\"> |-conv_2: 64</span>"
      ],
      "text/plain": [
       "<IPython.core.display.HTML object>"
      ]
     },
     "metadata": {},
     "output_type": "display_data"
    },
    {
     "data": {
      "text/html": [
       "<span style=\"color:cyan\"> |-conv_3: 64</span>"
      ],
      "text/plain": [
       "<IPython.core.display.HTML object>"
      ]
     },
     "metadata": {},
     "output_type": "display_data"
    },
    {
     "data": {
      "text/html": [
       "<span style=\"color:blue\"> |-dropout_1: 0.0</span>"
      ],
      "text/plain": [
       "<IPython.core.display.HTML object>"
      ]
     },
     "metadata": {},
     "output_type": "display_data"
    },
    {
     "data": {
      "text/html": [
       "<span style=\"color:cyan\"> |-dropout_2: 0.4</span>"
      ],
      "text/plain": [
       "<IPython.core.display.HTML object>"
      ]
     },
     "metadata": {},
     "output_type": "display_data"
    },
    {
     "data": {
      "text/html": [
       "<span style=\"color:blue\"> |-dropout_3: 0.4</span>"
      ],
      "text/plain": [
       "<IPython.core.display.HTML object>"
      ]
     },
     "metadata": {},
     "output_type": "display_data"
    },
    {
     "data": {
      "text/html": [
       "<span style=\"color:cyan\"> |-dropout_4: 0.0</span>"
      ],
      "text/plain": [
       "<IPython.core.display.HTML object>"
      ]
     },
     "metadata": {},
     "output_type": "display_data"
    },
    {
     "data": {
      "text/html": [
       "<span style=\"color:blue\"> |-units: 1024</span>"
      ],
      "text/plain": [
       "<IPython.core.display.HTML object>"
      ]
     },
     "metadata": {},
     "output_type": "display_data"
    },
    {
     "name": "stdout",
     "output_type": "stream",
     "text": [
      "WARNING:tensorflow:sample_weight modes were coerced from\n",
      "  ...\n",
      "    to  \n",
      "  ['...']\n",
      "WARNING:tensorflow:sample_weight modes were coerced from\n",
      "  ...\n",
      "    to  \n",
      "  ['...']\n",
      "Train for 400 steps, validate for 171 steps\n",
      "Epoch 1/50\n",
      "400/400 - 22s - loss: 3.2511 - accuracy: 0.6508 - val_loss: 0.5043 - val_accuracy: 0.7214\n",
      "Epoch 2/50\n",
      "400/400 - 21s - loss: 0.4900 - accuracy: 0.7634 - val_loss: 0.4906 - val_accuracy: 0.7860\n",
      "Epoch 3/50\n",
      "400/400 - 21s - loss: 0.4753 - accuracy: 0.7747 - val_loss: 0.5002 - val_accuracy: 0.7669\n",
      "Epoch 4/50\n",
      "400/400 - 21s - loss: 0.4686 - accuracy: 0.7754 - val_loss: 0.5098 - val_accuracy: 0.7589\n",
      "Epoch 5/50\n",
      "400/400 - 21s - loss: 0.4610 - accuracy: 0.7789 - val_loss: 0.5221 - val_accuracy: 0.7418\n",
      "Epoch 6/50\n",
      "400/400 - 21s - loss: 0.4528 - accuracy: 0.7803 - val_loss: 0.5125 - val_accuracy: 0.7784\n",
      "Epoch 7/50\n",
      "400/400 - 21s - loss: 0.4365 - accuracy: 0.7908 - val_loss: 0.4608 - val_accuracy: 0.8008\n",
      "Epoch 8/50\n",
      "400/400 - 21s - loss: 0.4289 - accuracy: 0.7950 - val_loss: 0.4749 - val_accuracy: 0.8166\n",
      "Epoch 9/50\n",
      "400/400 - 21s - loss: 0.4078 - accuracy: 0.8102 - val_loss: 0.5281 - val_accuracy: 0.8216\n",
      "Epoch 10/50\n",
      "400/400 - 21s - loss: 0.4019 - accuracy: 0.8104 - val_loss: 0.4905 - val_accuracy: 0.8309\n",
      "Epoch 11/50\n",
      "400/400 - 21s - loss: 0.3798 - accuracy: 0.8261 - val_loss: 0.4460 - val_accuracy: 0.8443\n",
      "Epoch 12/50\n",
      "400/400 - 21s - loss: 0.3690 - accuracy: 0.8309 - val_loss: 0.4261 - val_accuracy: 0.8409\n",
      "Epoch 13/50\n",
      "400/400 - 21s - loss: 0.3568 - accuracy: 0.8375 - val_loss: 0.4792 - val_accuracy: 0.8363\n",
      "Epoch 14/50\n",
      "400/400 - 21s - loss: 0.3492 - accuracy: 0.8404 - val_loss: 0.3675 - val_accuracy: 0.8635\n",
      "Epoch 15/50\n",
      "400/400 - 21s - loss: 0.3393 - accuracy: 0.8443 - val_loss: 0.4227 - val_accuracy: 0.8505\n",
      "Epoch 16/50\n",
      "400/400 - 21s - loss: 0.3390 - accuracy: 0.8452 - val_loss: 0.4240 - val_accuracy: 0.8551\n",
      "Epoch 17/50\n",
      "400/400 - 21s - loss: 0.3325 - accuracy: 0.8496 - val_loss: 0.3981 - val_accuracy: 0.8598\n",
      "Epoch 18/50\n",
      "400/400 - 21s - loss: 0.3247 - accuracy: 0.8539 - val_loss: 0.4327 - val_accuracy: 0.8383\n",
      "Epoch 19/50\n",
      "400/400 - 21s - loss: 0.3190 - accuracy: 0.8578 - val_loss: 0.3607 - val_accuracy: 0.8762\n",
      "Epoch 20/50\n",
      "400/400 - 21s - loss: 0.3170 - accuracy: 0.8582 - val_loss: 0.4149 - val_accuracy: 0.8521\n",
      "Epoch 21/50\n",
      "400/400 - 21s - loss: 0.3114 - accuracy: 0.8603 - val_loss: 0.4087 - val_accuracy: 0.8489\n",
      "Epoch 22/50\n",
      "400/400 - 21s - loss: 0.3024 - accuracy: 0.8657 - val_loss: 0.3915 - val_accuracy: 0.8582\n",
      "Epoch 23/50\n",
      "400/400 - 21s - loss: 0.3038 - accuracy: 0.8648 - val_loss: 0.3154 - val_accuracy: 0.8821\n",
      "Epoch 24/50\n",
      "400/400 - 21s - loss: 0.2972 - accuracy: 0.8712 - val_loss: 0.3881 - val_accuracy: 0.8591\n",
      "Epoch 25/50\n",
      "400/400 - 21s - loss: 0.2937 - accuracy: 0.8697 - val_loss: 0.3629 - val_accuracy: 0.8711\n",
      "Epoch 26/50\n",
      "400/400 - 21s - loss: 0.2859 - accuracy: 0.8740 - val_loss: 0.3655 - val_accuracy: 0.8675\n",
      "Epoch 27/50\n",
      "400/400 - 21s - loss: 0.2791 - accuracy: 0.8787 - val_loss: 0.3276 - val_accuracy: 0.8821\n",
      "Epoch 28/50\n",
      "400/400 - 21s - loss: 0.2784 - accuracy: 0.8797 - val_loss: 0.3502 - val_accuracy: 0.8718\n"
     ]
    },
    {
     "data": {
      "text/html": [
       "<span style=\"color:#4527A0\"><h1 style=\"font-size:18px\">Trial complete</h1></span>"
      ],
      "text/plain": [
       "<IPython.core.display.HTML object>"
      ]
     },
     "metadata": {},
     "output_type": "display_data"
    },
    {
     "data": {
      "text/html": [
       "<span style=\"color:#4527A0\"><h1 style=\"font-size:18px\">Trial summary</h1></span>"
      ],
      "text/plain": [
       "<IPython.core.display.HTML object>"
      ]
     },
     "metadata": {},
     "output_type": "display_data"
    },
    {
     "data": {
      "text/html": [
       "<span style=\"color:cyan\"> |-Trial ID: cc7879d17229af6363643314c63fcde9</span>"
      ],
      "text/plain": [
       "<IPython.core.display.HTML object>"
      ]
     },
     "metadata": {},
     "output_type": "display_data"
    },
    {
     "data": {
      "text/html": [
       "<span style=\"color:cyan\"> |-Score: 0.8821485638618469</span>"
      ],
      "text/plain": [
       "<IPython.core.display.HTML object>"
      ]
     },
     "metadata": {},
     "output_type": "display_data"
    },
    {
     "data": {
      "text/html": [
       "<span style=\"color:cyan\"> |-Best step: 0</span>"
      ],
      "text/plain": [
       "<IPython.core.display.HTML object>"
      ]
     },
     "metadata": {},
     "output_type": "display_data"
    },
    {
     "data": {
      "text/html": [
       "<span style=\"color:#7E57C2\"><h2 style=\"font-size:16px\">Hyperparameters:</h2></span>"
      ],
      "text/plain": [
       "<IPython.core.display.HTML object>"
      ]
     },
     "metadata": {},
     "output_type": "display_data"
    },
    {
     "data": {
      "text/html": [
       "<span style=\"color:cyan\"> |-conv_1: 32</span>"
      ],
      "text/plain": [
       "<IPython.core.display.HTML object>"
      ]
     },
     "metadata": {},
     "output_type": "display_data"
    },
    {
     "data": {
      "text/html": [
       "<span style=\"color:blue\"> |-conv_2: 32</span>"
      ],
      "text/plain": [
       "<IPython.core.display.HTML object>"
      ]
     },
     "metadata": {},
     "output_type": "display_data"
    },
    {
     "data": {
      "text/html": [
       "<span style=\"color:cyan\"> |-conv_3: 128</span>"
      ],
      "text/plain": [
       "<IPython.core.display.HTML object>"
      ]
     },
     "metadata": {},
     "output_type": "display_data"
    },
    {
     "data": {
      "text/html": [
       "<span style=\"color:blue\"> |-dropout_1: 0.4</span>"
      ],
      "text/plain": [
       "<IPython.core.display.HTML object>"
      ]
     },
     "metadata": {},
     "output_type": "display_data"
    },
    {
     "data": {
      "text/html": [
       "<span style=\"color:cyan\"> |-dropout_2: 0.5</span>"
      ],
      "text/plain": [
       "<IPython.core.display.HTML object>"
      ]
     },
     "metadata": {},
     "output_type": "display_data"
    },
    {
     "data": {
      "text/html": [
       "<span style=\"color:blue\"> |-dropout_3: 0.4</span>"
      ],
      "text/plain": [
       "<IPython.core.display.HTML object>"
      ]
     },
     "metadata": {},
     "output_type": "display_data"
    },
    {
     "data": {
      "text/html": [
       "<span style=\"color:cyan\"> |-dropout_4: 0.0</span>"
      ],
      "text/plain": [
       "<IPython.core.display.HTML object>"
      ]
     },
     "metadata": {},
     "output_type": "display_data"
    },
    {
     "data": {
      "text/html": [
       "<span style=\"color:blue\"> |-units: 256</span>"
      ],
      "text/plain": [
       "<IPython.core.display.HTML object>"
      ]
     },
     "metadata": {},
     "output_type": "display_data"
    },
    {
     "name": "stdout",
     "output_type": "stream",
     "text": [
      "WARNING:tensorflow:sample_weight modes were coerced from\n",
      "  ...\n",
      "    to  \n",
      "  ['...']\n",
      "WARNING:tensorflow:sample_weight modes were coerced from\n",
      "  ...\n",
      "    to  \n",
      "  ['...']\n",
      "Train for 400 steps, validate for 171 steps\n",
      "Epoch 1/50\n",
      "400/400 - 22s - loss: 2.1855 - accuracy: 0.6632 - val_loss: 0.4988 - val_accuracy: 0.7727\n",
      "Epoch 2/50\n",
      "400/400 - 21s - loss: 0.4719 - accuracy: 0.7670 - val_loss: 0.4800 - val_accuracy: 0.7733\n",
      "Epoch 3/50\n",
      "400/400 - 21s - loss: 0.4578 - accuracy: 0.7779 - val_loss: 0.4515 - val_accuracy: 0.7772\n",
      "Epoch 4/50\n",
      "400/400 - 21s - loss: 0.4449 - accuracy: 0.7872 - val_loss: 0.4319 - val_accuracy: 0.7881\n",
      "Epoch 5/50\n",
      "400/400 - 21s - loss: 0.4322 - accuracy: 0.7945 - val_loss: 0.4271 - val_accuracy: 0.7868\n",
      "Epoch 6/50\n",
      "400/400 - 21s - loss: 0.4196 - accuracy: 0.8022 - val_loss: 0.4282 - val_accuracy: 0.7831\n",
      "Epoch 7/50\n",
      "400/400 - 21s - loss: 0.4063 - accuracy: 0.8097 - val_loss: 0.4169 - val_accuracy: 0.8127\n",
      "Epoch 8/50\n",
      "400/400 - 21s - loss: 0.3925 - accuracy: 0.8171 - val_loss: 0.4141 - val_accuracy: 0.7782\n",
      "Epoch 9/50\n",
      "400/400 - 21s - loss: 0.3841 - accuracy: 0.8239 - val_loss: 0.3845 - val_accuracy: 0.8069\n",
      "Epoch 10/50\n",
      "400/400 - 21s - loss: 0.3737 - accuracy: 0.8290 - val_loss: 0.3586 - val_accuracy: 0.8379\n",
      "Epoch 11/50\n",
      "400/400 - 21s - loss: 0.3640 - accuracy: 0.8341 - val_loss: 0.3348 - val_accuracy: 0.8479\n",
      "Epoch 12/50\n",
      "400/400 - 21s - loss: 0.3584 - accuracy: 0.8369 - val_loss: 0.3578 - val_accuracy: 0.8396\n",
      "Epoch 13/50\n",
      "400/400 - 21s - loss: 0.3329 - accuracy: 0.8506 - val_loss: 0.3518 - val_accuracy: 0.8317\n",
      "Epoch 14/50\n",
      "400/400 - 21s - loss: 0.3252 - accuracy: 0.8551 - val_loss: 0.3432 - val_accuracy: 0.8354\n",
      "Epoch 15/50\n",
      "400/400 - 21s - loss: 0.3192 - accuracy: 0.8589 - val_loss: 0.3696 - val_accuracy: 0.8230\n",
      "Epoch 16/50\n",
      "400/400 - 21s - loss: 0.2988 - accuracy: 0.8692 - val_loss: 0.3814 - val_accuracy: 0.8381\n"
     ]
    },
    {
     "data": {
      "text/html": [
       "<span style=\"color:#4527A0\"><h1 style=\"font-size:18px\">Trial complete</h1></span>"
      ],
      "text/plain": [
       "<IPython.core.display.HTML object>"
      ]
     },
     "metadata": {},
     "output_type": "display_data"
    },
    {
     "data": {
      "text/html": [
       "<span style=\"color:#4527A0\"><h1 style=\"font-size:18px\">Trial summary</h1></span>"
      ],
      "text/plain": [
       "<IPython.core.display.HTML object>"
      ]
     },
     "metadata": {},
     "output_type": "display_data"
    },
    {
     "data": {
      "text/html": [
       "<span style=\"color:cyan\"> |-Trial ID: 61b3c7d62caac230095897e562afdbec</span>"
      ],
      "text/plain": [
       "<IPython.core.display.HTML object>"
      ]
     },
     "metadata": {},
     "output_type": "display_data"
    },
    {
     "data": {
      "text/html": [
       "<span style=\"color:cyan\"> |-Score: 0.8478628396987915</span>"
      ],
      "text/plain": [
       "<IPython.core.display.HTML object>"
      ]
     },
     "metadata": {},
     "output_type": "display_data"
    },
    {
     "data": {
      "text/html": [
       "<span style=\"color:cyan\"> |-Best step: 0</span>"
      ],
      "text/plain": [
       "<IPython.core.display.HTML object>"
      ]
     },
     "metadata": {},
     "output_type": "display_data"
    },
    {
     "data": {
      "text/html": [
       "<span style=\"color:#7E57C2\"><h2 style=\"font-size:16px\">Hyperparameters:</h2></span>"
      ],
      "text/plain": [
       "<IPython.core.display.HTML object>"
      ]
     },
     "metadata": {},
     "output_type": "display_data"
    },
    {
     "data": {
      "text/html": [
       "<span style=\"color:cyan\"> |-conv_1: 32</span>"
      ],
      "text/plain": [
       "<IPython.core.display.HTML object>"
      ]
     },
     "metadata": {},
     "output_type": "display_data"
    },
    {
     "data": {
      "text/html": [
       "<span style=\"color:blue\"> |-conv_2: 32</span>"
      ],
      "text/plain": [
       "<IPython.core.display.HTML object>"
      ]
     },
     "metadata": {},
     "output_type": "display_data"
    },
    {
     "data": {
      "text/html": [
       "<span style=\"color:cyan\"> |-conv_3: 64</span>"
      ],
      "text/plain": [
       "<IPython.core.display.HTML object>"
      ]
     },
     "metadata": {},
     "output_type": "display_data"
    },
    {
     "data": {
      "text/html": [
       "<span style=\"color:blue\"> |-dropout_1: 0.30000000000000004</span>"
      ],
      "text/plain": [
       "<IPython.core.display.HTML object>"
      ]
     },
     "metadata": {},
     "output_type": "display_data"
    },
    {
     "data": {
      "text/html": [
       "<span style=\"color:cyan\"> |-dropout_2: 0.0</span>"
      ],
      "text/plain": [
       "<IPython.core.display.HTML object>"
      ]
     },
     "metadata": {},
     "output_type": "display_data"
    },
    {
     "data": {
      "text/html": [
       "<span style=\"color:blue\"> |-dropout_3: 0.0</span>"
      ],
      "text/plain": [
       "<IPython.core.display.HTML object>"
      ]
     },
     "metadata": {},
     "output_type": "display_data"
    },
    {
     "data": {
      "text/html": [
       "<span style=\"color:cyan\"> |-dropout_4: 0.4</span>"
      ],
      "text/plain": [
       "<IPython.core.display.HTML object>"
      ]
     },
     "metadata": {},
     "output_type": "display_data"
    },
    {
     "data": {
      "text/html": [
       "<span style=\"color:blue\"> |-units: 896</span>"
      ],
      "text/plain": [
       "<IPython.core.display.HTML object>"
      ]
     },
     "metadata": {},
     "output_type": "display_data"
    },
    {
     "name": "stdout",
     "output_type": "stream",
     "text": [
      "WARNING:tensorflow:sample_weight modes were coerced from\n",
      "  ...\n",
      "    to  \n",
      "  ['...']\n",
      "WARNING:tensorflow:sample_weight modes were coerced from\n",
      "  ...\n",
      "    to  \n",
      "  ['...']\n",
      "Train for 400 steps, validate for 171 steps\n",
      "Epoch 1/50\n",
      "400/400 - 22s - loss: 1.0067 - accuracy: 0.6421 - val_loss: 0.5328 - val_accuracy: 0.7424\n",
      "Epoch 2/50\n",
      "400/400 - 21s - loss: 0.4788 - accuracy: 0.7644 - val_loss: 0.4683 - val_accuracy: 0.7833\n",
      "Epoch 3/50\n",
      "400/400 - 21s - loss: 0.4567 - accuracy: 0.7799 - val_loss: 0.4470 - val_accuracy: 0.7864\n",
      "Epoch 4/50\n",
      "400/400 - 21s - loss: 0.4376 - accuracy: 0.7912 - val_loss: 0.4190 - val_accuracy: 0.7979\n",
      "Epoch 5/50\n",
      "400/400 - 21s - loss: 0.4189 - accuracy: 0.8035 - val_loss: 0.4119 - val_accuracy: 0.8109\n",
      "Epoch 6/50\n",
      "400/400 - 21s - loss: 0.3955 - accuracy: 0.8167 - val_loss: 0.3826 - val_accuracy: 0.8181\n",
      "Epoch 7/50\n",
      "400/400 - 21s - loss: 0.3748 - accuracy: 0.8320 - val_loss: 0.3398 - val_accuracy: 0.8495\n",
      "Epoch 8/50\n",
      "400/400 - 21s - loss: 0.3562 - accuracy: 0.8398 - val_loss: 0.3468 - val_accuracy: 0.8224\n",
      "Epoch 9/50\n",
      "400/400 - 21s - loss: 0.3421 - accuracy: 0.8487 - val_loss: 0.3461 - val_accuracy: 0.8391\n",
      "Epoch 10/50\n",
      "400/400 - 21s - loss: 0.3321 - accuracy: 0.8522 - val_loss: 0.3427 - val_accuracy: 0.8256\n",
      "Epoch 11/50\n",
      "400/400 - 21s - loss: 0.3186 - accuracy: 0.8614 - val_loss: 0.3449 - val_accuracy: 0.8303\n",
      "Epoch 12/50\n",
      "400/400 - 21s - loss: 0.3154 - accuracy: 0.8605 - val_loss: 0.3156 - val_accuracy: 0.8729\n",
      "Epoch 13/50\n",
      "400/400 - 21s - loss: 0.3019 - accuracy: 0.8658 - val_loss: 0.2853 - val_accuracy: 0.8732\n",
      "Epoch 14/50\n",
      "400/400 - 21s - loss: 0.2972 - accuracy: 0.8714 - val_loss: 0.3035 - val_accuracy: 0.8759\n",
      "Epoch 15/50\n",
      "400/400 - 21s - loss: 0.2909 - accuracy: 0.8744 - val_loss: 0.2973 - val_accuracy: 0.8794\n",
      "Epoch 16/50\n",
      "400/400 - 21s - loss: 0.2890 - accuracy: 0.8739 - val_loss: 0.2662 - val_accuracy: 0.8873\n",
      "Epoch 17/50\n",
      "400/400 - 21s - loss: 0.2777 - accuracy: 0.8811 - val_loss: 0.2676 - val_accuracy: 0.8789\n",
      "Epoch 18/50\n",
      "400/400 - 21s - loss: 0.2707 - accuracy: 0.8819 - val_loss: 0.2788 - val_accuracy: 0.8693\n",
      "Epoch 19/50\n",
      "400/400 - 21s - loss: 0.2674 - accuracy: 0.8851 - val_loss: 0.2539 - val_accuracy: 0.8913\n",
      "Epoch 20/50\n",
      "400/400 - 21s - loss: 0.2684 - accuracy: 0.8840 - val_loss: 0.2569 - val_accuracy: 0.8775\n",
      "Epoch 21/50\n",
      "400/400 - 21s - loss: 0.2615 - accuracy: 0.8873 - val_loss: 0.2822 - val_accuracy: 0.8602\n",
      "Epoch 22/50\n",
      "400/400 - 21s - loss: 0.2594 - accuracy: 0.8884 - val_loss: 0.2632 - val_accuracy: 0.8749\n",
      "Epoch 23/50\n",
      "400/400 - 21s - loss: 0.2510 - accuracy: 0.8919 - val_loss: 0.2574 - val_accuracy: 0.8827\n",
      "Epoch 24/50\n",
      "400/400 - 21s - loss: 0.2567 - accuracy: 0.8897 - val_loss: 0.2618 - val_accuracy: 0.8793\n"
     ]
    },
    {
     "data": {
      "text/html": [
       "<span style=\"color:#4527A0\"><h1 style=\"font-size:18px\">Trial complete</h1></span>"
      ],
      "text/plain": [
       "<IPython.core.display.HTML object>"
      ]
     },
     "metadata": {},
     "output_type": "display_data"
    },
    {
     "data": {
      "text/html": [
       "<span style=\"color:#4527A0\"><h1 style=\"font-size:18px\">Trial summary</h1></span>"
      ],
      "text/plain": [
       "<IPython.core.display.HTML object>"
      ]
     },
     "metadata": {},
     "output_type": "display_data"
    },
    {
     "data": {
      "text/html": [
       "<span style=\"color:cyan\"> |-Trial ID: 0614e5b8973c79508005a315c85cfcc2</span>"
      ],
      "text/plain": [
       "<IPython.core.display.HTML object>"
      ]
     },
     "metadata": {},
     "output_type": "display_data"
    },
    {
     "data": {
      "text/html": [
       "<span style=\"color:cyan\"> |-Score: 0.8913371562957764</span>"
      ],
      "text/plain": [
       "<IPython.core.display.HTML object>"
      ]
     },
     "metadata": {},
     "output_type": "display_data"
    },
    {
     "data": {
      "text/html": [
       "<span style=\"color:cyan\"> |-Best step: 0</span>"
      ],
      "text/plain": [
       "<IPython.core.display.HTML object>"
      ]
     },
     "metadata": {},
     "output_type": "display_data"
    },
    {
     "data": {
      "text/html": [
       "<span style=\"color:#7E57C2\"><h2 style=\"font-size:16px\">Hyperparameters:</h2></span>"
      ],
      "text/plain": [
       "<IPython.core.display.HTML object>"
      ]
     },
     "metadata": {},
     "output_type": "display_data"
    },
    {
     "data": {
      "text/html": [
       "<span style=\"color:cyan\"> |-conv_1: 32</span>"
      ],
      "text/plain": [
       "<IPython.core.display.HTML object>"
      ]
     },
     "metadata": {},
     "output_type": "display_data"
    },
    {
     "data": {
      "text/html": [
       "<span style=\"color:blue\"> |-conv_2: 32</span>"
      ],
      "text/plain": [
       "<IPython.core.display.HTML object>"
      ]
     },
     "metadata": {},
     "output_type": "display_data"
    },
    {
     "data": {
      "text/html": [
       "<span style=\"color:cyan\"> |-conv_3: 64</span>"
      ],
      "text/plain": [
       "<IPython.core.display.HTML object>"
      ]
     },
     "metadata": {},
     "output_type": "display_data"
    },
    {
     "data": {
      "text/html": [
       "<span style=\"color:blue\"> |-dropout_1: 0.2</span>"
      ],
      "text/plain": [
       "<IPython.core.display.HTML object>"
      ]
     },
     "metadata": {},
     "output_type": "display_data"
    },
    {
     "data": {
      "text/html": [
       "<span style=\"color:cyan\"> |-dropout_2: 0.4</span>"
      ],
      "text/plain": [
       "<IPython.core.display.HTML object>"
      ]
     },
     "metadata": {},
     "output_type": "display_data"
    },
    {
     "data": {
      "text/html": [
       "<span style=\"color:blue\"> |-dropout_3: 0.2</span>"
      ],
      "text/plain": [
       "<IPython.core.display.HTML object>"
      ]
     },
     "metadata": {},
     "output_type": "display_data"
    },
    {
     "data": {
      "text/html": [
       "<span style=\"color:cyan\"> |-dropout_4: 0.4</span>"
      ],
      "text/plain": [
       "<IPython.core.display.HTML object>"
      ]
     },
     "metadata": {},
     "output_type": "display_data"
    },
    {
     "data": {
      "text/html": [
       "<span style=\"color:blue\"> |-units: 128</span>"
      ],
      "text/plain": [
       "<IPython.core.display.HTML object>"
      ]
     },
     "metadata": {},
     "output_type": "display_data"
    },
    {
     "name": "stdout",
     "output_type": "stream",
     "text": [
      "WARNING:tensorflow:sample_weight modes were coerced from\n",
      "  ...\n",
      "    to  \n",
      "  ['...']\n",
      "WARNING:tensorflow:sample_weight modes were coerced from\n",
      "  ...\n",
      "    to  \n",
      "  ['...']\n",
      "Train for 400 steps, validate for 171 steps\n",
      "Epoch 1/50\n",
      "400/400 - 22s - loss: 1.0658 - accuracy: 0.7218 - val_loss: 0.4629 - val_accuracy: 0.7871\n",
      "Epoch 2/50\n",
      "400/400 - 21s - loss: 0.4597 - accuracy: 0.7754 - val_loss: 0.4521 - val_accuracy: 0.8001\n",
      "Epoch 3/50\n",
      "400/400 - 21s - loss: 0.4429 - accuracy: 0.7870 - val_loss: 0.4395 - val_accuracy: 0.7979\n",
      "Epoch 4/50\n",
      "400/400 - 21s - loss: 0.4278 - accuracy: 0.7967 - val_loss: 0.4010 - val_accuracy: 0.8062\n",
      "Epoch 5/50\n",
      "400/400 - 21s - loss: 0.4050 - accuracy: 0.8104 - val_loss: 0.3733 - val_accuracy: 0.8274\n",
      "Epoch 6/50\n",
      "400/400 - 21s - loss: 0.3861 - accuracy: 0.8208 - val_loss: 0.3755 - val_accuracy: 0.8253\n",
      "Epoch 7/50\n",
      "400/400 - 21s - loss: 0.3708 - accuracy: 0.8288 - val_loss: 0.3591 - val_accuracy: 0.8149\n",
      "Epoch 8/50\n",
      "400/400 - 21s - loss: 0.3611 - accuracy: 0.8345 - val_loss: 0.3153 - val_accuracy: 0.8502\n",
      "Epoch 9/50\n",
      "400/400 - 21s - loss: 0.3434 - accuracy: 0.8431 - val_loss: 0.3177 - val_accuracy: 0.8472\n",
      "Epoch 10/50\n",
      "400/400 - 21s - loss: 0.3331 - accuracy: 0.8506 - val_loss: 0.3160 - val_accuracy: 0.8417\n",
      "Epoch 11/50\n",
      "400/400 - 21s - loss: 0.3271 - accuracy: 0.8532 - val_loss: 0.3009 - val_accuracy: 0.8602\n",
      "Epoch 12/50\n",
      "400/400 - 21s - loss: 0.3202 - accuracy: 0.8564 - val_loss: 0.3000 - val_accuracy: 0.8605\n",
      "Epoch 13/50\n",
      "400/400 - 21s - loss: 0.3077 - accuracy: 0.8642 - val_loss: 0.2951 - val_accuracy: 0.8597\n",
      "Epoch 14/50\n",
      "400/400 - 21s - loss: 0.3029 - accuracy: 0.8656 - val_loss: 0.2886 - val_accuracy: 0.8615\n",
      "Epoch 15/50\n",
      "400/400 - 21s - loss: 0.2968 - accuracy: 0.8692 - val_loss: 0.2920 - val_accuracy: 0.8623\n",
      "Epoch 16/50\n",
      "400/400 - 21s - loss: 0.2886 - accuracy: 0.8729 - val_loss: 0.2908 - val_accuracy: 0.8587\n",
      "Epoch 17/50\n",
      "400/400 - 21s - loss: 0.2863 - accuracy: 0.8733 - val_loss: 0.2981 - val_accuracy: 0.8558\n",
      "Epoch 18/50\n",
      "400/400 - 21s - loss: 0.2842 - accuracy: 0.8764 - val_loss: 0.2854 - val_accuracy: 0.8614\n",
      "Epoch 19/50\n",
      "400/400 - 21s - loss: 0.2801 - accuracy: 0.8788 - val_loss: 0.2722 - val_accuracy: 0.8738\n",
      "Epoch 20/50\n",
      "400/400 - 21s - loss: 0.2758 - accuracy: 0.8808 - val_loss: 0.2533 - val_accuracy: 0.8884\n",
      "Epoch 21/50\n",
      "400/400 - 21s - loss: 0.2688 - accuracy: 0.8853 - val_loss: 0.2759 - val_accuracy: 0.8689\n",
      "Epoch 22/50\n",
      "400/400 - 21s - loss: 0.2687 - accuracy: 0.8843 - val_loss: 0.2821 - val_accuracy: 0.8645\n",
      "Epoch 23/50\n",
      "400/400 - 21s - loss: 0.2621 - accuracy: 0.8876 - val_loss: 0.3140 - val_accuracy: 0.8433\n",
      "Epoch 24/50\n",
      "400/400 - 21s - loss: 0.2548 - accuracy: 0.8905 - val_loss: 0.2742 - val_accuracy: 0.8784\n",
      "Epoch 25/50\n",
      "400/400 - 21s - loss: 0.2473 - accuracy: 0.8938 - val_loss: 0.2493 - val_accuracy: 0.8949\n",
      "Epoch 26/50\n",
      "400/400 - 21s - loss: 0.2464 - accuracy: 0.8970 - val_loss: 0.2940 - val_accuracy: 0.8635\n",
      "Epoch 27/50\n",
      "400/400 - 21s - loss: 0.2427 - accuracy: 0.8970 - val_loss: 0.2776 - val_accuracy: 0.8698\n",
      "Epoch 28/50\n",
      "400/400 - 21s - loss: 0.2452 - accuracy: 0.8961 - val_loss: 0.2852 - val_accuracy: 0.8676\n",
      "Epoch 29/50\n",
      "400/400 - 21s - loss: 0.2371 - accuracy: 0.8999 - val_loss: 0.2755 - val_accuracy: 0.8831\n",
      "Epoch 30/50\n",
      "400/400 - 21s - loss: 0.2373 - accuracy: 0.8994 - val_loss: 0.3134 - val_accuracy: 0.8476\n"
     ]
    },
    {
     "data": {
      "text/html": [
       "<span style=\"color:#4527A0\"><h1 style=\"font-size:18px\">Trial complete</h1></span>"
      ],
      "text/plain": [
       "<IPython.core.display.HTML object>"
      ]
     },
     "metadata": {},
     "output_type": "display_data"
    },
    {
     "data": {
      "text/html": [
       "<span style=\"color:#4527A0\"><h1 style=\"font-size:18px\">Trial summary</h1></span>"
      ],
      "text/plain": [
       "<IPython.core.display.HTML object>"
      ]
     },
     "metadata": {},
     "output_type": "display_data"
    },
    {
     "data": {
      "text/html": [
       "<span style=\"color:cyan\"> |-Trial ID: b41555b3ef389464a3d93e898a9497b2</span>"
      ],
      "text/plain": [
       "<IPython.core.display.HTML object>"
      ]
     },
     "metadata": {},
     "output_type": "display_data"
    },
    {
     "data": {
      "text/html": [
       "<span style=\"color:cyan\"> |-Score: 0.8948571681976318</span>"
      ],
      "text/plain": [
       "<IPython.core.display.HTML object>"
      ]
     },
     "metadata": {},
     "output_type": "display_data"
    },
    {
     "data": {
      "text/html": [
       "<span style=\"color:cyan\"> |-Best step: 0</span>"
      ],
      "text/plain": [
       "<IPython.core.display.HTML object>"
      ]
     },
     "metadata": {},
     "output_type": "display_data"
    },
    {
     "data": {
      "text/html": [
       "<span style=\"color:#7E57C2\"><h2 style=\"font-size:16px\">Hyperparameters:</h2></span>"
      ],
      "text/plain": [
       "<IPython.core.display.HTML object>"
      ]
     },
     "metadata": {},
     "output_type": "display_data"
    },
    {
     "data": {
      "text/html": [
       "<span style=\"color:cyan\"> |-conv_1: 32</span>"
      ],
      "text/plain": [
       "<IPython.core.display.HTML object>"
      ]
     },
     "metadata": {},
     "output_type": "display_data"
    },
    {
     "data": {
      "text/html": [
       "<span style=\"color:blue\"> |-conv_2: 32</span>"
      ],
      "text/plain": [
       "<IPython.core.display.HTML object>"
      ]
     },
     "metadata": {},
     "output_type": "display_data"
    },
    {
     "data": {
      "text/html": [
       "<span style=\"color:cyan\"> |-conv_3: 128</span>"
      ],
      "text/plain": [
       "<IPython.core.display.HTML object>"
      ]
     },
     "metadata": {},
     "output_type": "display_data"
    },
    {
     "data": {
      "text/html": [
       "<span style=\"color:blue\"> |-dropout_1: 0.4</span>"
      ],
      "text/plain": [
       "<IPython.core.display.HTML object>"
      ]
     },
     "metadata": {},
     "output_type": "display_data"
    },
    {
     "data": {
      "text/html": [
       "<span style=\"color:cyan\"> |-dropout_2: 0.30000000000000004</span>"
      ],
      "text/plain": [
       "<IPython.core.display.HTML object>"
      ]
     },
     "metadata": {},
     "output_type": "display_data"
    },
    {
     "data": {
      "text/html": [
       "<span style=\"color:blue\"> |-dropout_3: 0.30000000000000004</span>"
      ],
      "text/plain": [
       "<IPython.core.display.HTML object>"
      ]
     },
     "metadata": {},
     "output_type": "display_data"
    },
    {
     "data": {
      "text/html": [
       "<span style=\"color:cyan\"> |-dropout_4: 0.1</span>"
      ],
      "text/plain": [
       "<IPython.core.display.HTML object>"
      ]
     },
     "metadata": {},
     "output_type": "display_data"
    },
    {
     "data": {
      "text/html": [
       "<span style=\"color:blue\"> |-units: 256</span>"
      ],
      "text/plain": [
       "<IPython.core.display.HTML object>"
      ]
     },
     "metadata": {},
     "output_type": "display_data"
    },
    {
     "name": "stdout",
     "output_type": "stream",
     "text": [
      "WARNING:tensorflow:sample_weight modes were coerced from\n",
      "  ...\n",
      "    to  \n",
      "  ['...']\n",
      "WARNING:tensorflow:sample_weight modes were coerced from\n",
      "  ...\n",
      "    to  \n",
      "  ['...']\n",
      "Train for 400 steps, validate for 171 steps\n",
      "Epoch 1/50\n",
      "400/400 - 22s - loss: 3.1962 - accuracy: 0.6673 - val_loss: 0.5639 - val_accuracy: 0.7723\n",
      "Epoch 2/50\n",
      "400/400 - 21s - loss: 0.4735 - accuracy: 0.7735 - val_loss: 0.4848 - val_accuracy: 0.7916\n",
      "Epoch 3/50\n",
      "400/400 - 21s - loss: 0.4567 - accuracy: 0.7821 - val_loss: 0.4673 - val_accuracy: 0.7988\n",
      "Epoch 4/50\n",
      "400/400 - 21s - loss: 0.4433 - accuracy: 0.7862 - val_loss: 0.4670 - val_accuracy: 0.7789\n",
      "Epoch 5/50\n",
      "400/400 - 21s - loss: 0.4301 - accuracy: 0.7921 - val_loss: 0.4351 - val_accuracy: 0.7944\n",
      "Epoch 6/50\n",
      "400/400 - 21s - loss: 0.4168 - accuracy: 0.7990 - val_loss: 0.4146 - val_accuracy: 0.8148\n",
      "Epoch 7/50\n",
      "400/400 - 21s - loss: 0.4018 - accuracy: 0.8083 - val_loss: 0.4030 - val_accuracy: 0.8269\n",
      "Epoch 8/50\n",
      "400/400 - 21s - loss: 0.3912 - accuracy: 0.8141 - val_loss: 0.3886 - val_accuracy: 0.8327\n",
      "Epoch 9/50\n",
      "400/400 - 21s - loss: 0.3846 - accuracy: 0.8176 - val_loss: 0.4059 - val_accuracy: 0.8295\n",
      "Epoch 10/50\n",
      "400/400 - 21s - loss: 0.3717 - accuracy: 0.8263 - val_loss: 0.3882 - val_accuracy: 0.8350\n",
      "Epoch 11/50\n",
      "400/400 - 21s - loss: 0.3592 - accuracy: 0.8347 - val_loss: 0.3754 - val_accuracy: 0.8411\n",
      "Epoch 12/50\n",
      "400/400 - 21s - loss: 0.3512 - accuracy: 0.8389 - val_loss: 0.3924 - val_accuracy: 0.8292\n",
      "Epoch 13/50\n",
      "400/400 - 21s - loss: 0.3412 - accuracy: 0.8431 - val_loss: 0.4487 - val_accuracy: 0.8188\n",
      "Epoch 14/50\n",
      "400/400 - 21s - loss: 0.3327 - accuracy: 0.8479 - val_loss: 0.3722 - val_accuracy: 0.8256\n",
      "Epoch 15/50\n",
      "400/400 - 21s - loss: 0.3233 - accuracy: 0.8535 - val_loss: 0.4173 - val_accuracy: 0.8142\n",
      "Epoch 16/50\n",
      "400/400 - 21s - loss: 0.3264 - accuracy: 0.8524 - val_loss: 0.3625 - val_accuracy: 0.8312\n"
     ]
    },
    {
     "data": {
      "text/html": [
       "<span style=\"color:#4527A0\"><h1 style=\"font-size:18px\">Trial complete</h1></span>"
      ],
      "text/plain": [
       "<IPython.core.display.HTML object>"
      ]
     },
     "metadata": {},
     "output_type": "display_data"
    },
    {
     "data": {
      "text/html": [
       "<span style=\"color:#4527A0\"><h1 style=\"font-size:18px\">Trial summary</h1></span>"
      ],
      "text/plain": [
       "<IPython.core.display.HTML object>"
      ]
     },
     "metadata": {},
     "output_type": "display_data"
    },
    {
     "data": {
      "text/html": [
       "<span style=\"color:cyan\"> |-Trial ID: 1b3921c8cec931aa6184bf385dac6df8</span>"
      ],
      "text/plain": [
       "<IPython.core.display.HTML object>"
      ]
     },
     "metadata": {},
     "output_type": "display_data"
    },
    {
     "data": {
      "text/html": [
       "<span style=\"color:cyan\"> |-Score: 0.8410513997077942</span>"
      ],
      "text/plain": [
       "<IPython.core.display.HTML object>"
      ]
     },
     "metadata": {},
     "output_type": "display_data"
    },
    {
     "data": {
      "text/html": [
       "<span style=\"color:cyan\"> |-Best step: 0</span>"
      ],
      "text/plain": [
       "<IPython.core.display.HTML object>"
      ]
     },
     "metadata": {},
     "output_type": "display_data"
    },
    {
     "data": {
      "text/html": [
       "<span style=\"color:#7E57C2\"><h2 style=\"font-size:16px\">Hyperparameters:</h2></span>"
      ],
      "text/plain": [
       "<IPython.core.display.HTML object>"
      ]
     },
     "metadata": {},
     "output_type": "display_data"
    },
    {
     "data": {
      "text/html": [
       "<span style=\"color:cyan\"> |-conv_1: 16</span>"
      ],
      "text/plain": [
       "<IPython.core.display.HTML object>"
      ]
     },
     "metadata": {},
     "output_type": "display_data"
    },
    {
     "data": {
      "text/html": [
       "<span style=\"color:blue\"> |-conv_2: 64</span>"
      ],
      "text/plain": [
       "<IPython.core.display.HTML object>"
      ]
     },
     "metadata": {},
     "output_type": "display_data"
    },
    {
     "data": {
      "text/html": [
       "<span style=\"color:cyan\"> |-conv_3: 64</span>"
      ],
      "text/plain": [
       "<IPython.core.display.HTML object>"
      ]
     },
     "metadata": {},
     "output_type": "display_data"
    },
    {
     "data": {
      "text/html": [
       "<span style=\"color:blue\"> |-dropout_1: 0.30000000000000004</span>"
      ],
      "text/plain": [
       "<IPython.core.display.HTML object>"
      ]
     },
     "metadata": {},
     "output_type": "display_data"
    },
    {
     "data": {
      "text/html": [
       "<span style=\"color:cyan\"> |-dropout_2: 0.2</span>"
      ],
      "text/plain": [
       "<IPython.core.display.HTML object>"
      ]
     },
     "metadata": {},
     "output_type": "display_data"
    },
    {
     "data": {
      "text/html": [
       "<span style=\"color:blue\"> |-dropout_3: 0.1</span>"
      ],
      "text/plain": [
       "<IPython.core.display.HTML object>"
      ]
     },
     "metadata": {},
     "output_type": "display_data"
    },
    {
     "data": {
      "text/html": [
       "<span style=\"color:cyan\"> |-dropout_4: 0.0</span>"
      ],
      "text/plain": [
       "<IPython.core.display.HTML object>"
      ]
     },
     "metadata": {},
     "output_type": "display_data"
    },
    {
     "data": {
      "text/html": [
       "<span style=\"color:blue\"> |-units: 768</span>"
      ],
      "text/plain": [
       "<IPython.core.display.HTML object>"
      ]
     },
     "metadata": {},
     "output_type": "display_data"
    },
    {
     "name": "stdout",
     "output_type": "stream",
     "text": [
      "WARNING:tensorflow:sample_weight modes were coerced from\n",
      "  ...\n",
      "    to  \n",
      "  ['...']\n",
      "WARNING:tensorflow:sample_weight modes were coerced from\n",
      "  ...\n",
      "    to  \n",
      "  ['...']\n",
      "Train for 400 steps, validate for 171 steps\n",
      "Epoch 1/50\n",
      "400/400 - 22s - loss: 0.9887 - accuracy: 0.7154 - val_loss: 0.4581 - val_accuracy: 0.7648\n",
      "Epoch 2/50\n",
      "400/400 - 21s - loss: 0.4631 - accuracy: 0.7786 - val_loss: 0.4320 - val_accuracy: 0.7896\n",
      "Epoch 3/50\n",
      "400/400 - 21s - loss: 0.4440 - accuracy: 0.7869 - val_loss: 0.4185 - val_accuracy: 0.7899\n",
      "Epoch 4/50\n",
      "400/400 - 21s - loss: 0.4323 - accuracy: 0.7936 - val_loss: 0.4097 - val_accuracy: 0.7909\n",
      "Epoch 5/50\n",
      "400/400 - 21s - loss: 0.4218 - accuracy: 0.8008 - val_loss: 0.3931 - val_accuracy: 0.8129\n",
      "Epoch 6/50\n",
      "400/400 - 21s - loss: 0.4102 - accuracy: 0.8047 - val_loss: 0.3792 - val_accuracy: 0.8158\n",
      "Epoch 7/50\n",
      "400/400 - 21s - loss: 0.3983 - accuracy: 0.8115 - val_loss: 0.3762 - val_accuracy: 0.8174\n",
      "Epoch 8/50\n",
      "400/400 - 21s - loss: 0.3894 - accuracy: 0.8191 - val_loss: 0.3557 - val_accuracy: 0.8336\n",
      "Epoch 9/50\n",
      "400/400 - 21s - loss: 0.3723 - accuracy: 0.8283 - val_loss: 0.3411 - val_accuracy: 0.8551\n",
      "Epoch 10/50\n",
      "400/400 - 21s - loss: 0.3566 - accuracy: 0.8377 - val_loss: 0.3136 - val_accuracy: 0.8616\n",
      "Epoch 11/50\n",
      "400/400 - 21s - loss: 0.3507 - accuracy: 0.8400 - val_loss: 0.3173 - val_accuracy: 0.8614\n",
      "Epoch 12/50\n",
      "400/400 - 21s - loss: 0.3421 - accuracy: 0.8438 - val_loss: 0.3450 - val_accuracy: 0.8289\n",
      "Epoch 13/50\n",
      "400/400 - 21s - loss: 0.3410 - accuracy: 0.8444 - val_loss: 0.3199 - val_accuracy: 0.8548\n",
      "Epoch 14/50\n",
      "400/400 - 21s - loss: 0.3295 - accuracy: 0.8526 - val_loss: 0.3007 - val_accuracy: 0.8627\n",
      "Epoch 15/50\n",
      "400/400 - 21s - loss: 0.3258 - accuracy: 0.8529 - val_loss: 0.3054 - val_accuracy: 0.8644\n",
      "Epoch 16/50\n",
      "400/400 - 21s - loss: 0.3212 - accuracy: 0.8557 - val_loss: 0.3057 - val_accuracy: 0.8634\n",
      "Epoch 17/50\n",
      "400/400 - 21s - loss: 0.3166 - accuracy: 0.8582 - val_loss: 0.3177 - val_accuracy: 0.8411\n",
      "Epoch 18/50\n",
      "400/400 - 21s - loss: 0.3096 - accuracy: 0.8637 - val_loss: 0.3014 - val_accuracy: 0.8567\n",
      "Epoch 19/50\n",
      "400/400 - 21s - loss: 0.3104 - accuracy: 0.8623 - val_loss: 0.2936 - val_accuracy: 0.8768\n",
      "Epoch 20/50\n",
      "400/400 - 21s - loss: 0.2986 - accuracy: 0.8673 - val_loss: 0.2868 - val_accuracy: 0.8770\n",
      "Epoch 21/50\n",
      "400/400 - 21s - loss: 0.3025 - accuracy: 0.8657 - val_loss: 0.2890 - val_accuracy: 0.8693\n",
      "Epoch 22/50\n",
      "400/400 - 21s - loss: 0.2988 - accuracy: 0.8668 - val_loss: 0.2938 - val_accuracy: 0.8638\n",
      "Epoch 23/50\n",
      "400/400 - 21s - loss: 0.2938 - accuracy: 0.8673 - val_loss: 0.2767 - val_accuracy: 0.8843\n",
      "Epoch 24/50\n",
      "400/400 - 21s - loss: 0.2906 - accuracy: 0.8724 - val_loss: 0.2778 - val_accuracy: 0.8769\n",
      "Epoch 25/50\n",
      "400/400 - 21s - loss: 0.2895 - accuracy: 0.8728 - val_loss: 0.3019 - val_accuracy: 0.8555\n",
      "Epoch 26/50\n",
      "400/400 - 21s - loss: 0.2860 - accuracy: 0.8739 - val_loss: 0.3083 - val_accuracy: 0.8517\n",
      "Epoch 27/50\n",
      "400/400 - 21s - loss: 0.2814 - accuracy: 0.8767 - val_loss: 0.2991 - val_accuracy: 0.8510\n",
      "Epoch 28/50\n",
      "400/400 - 21s - loss: 0.2813 - accuracy: 0.8753 - val_loss: 0.2788 - val_accuracy: 0.8816\n"
     ]
    },
    {
     "data": {
      "text/html": [
       "<span style=\"color:#4527A0\"><h1 style=\"font-size:18px\">Trial complete</h1></span>"
      ],
      "text/plain": [
       "<IPython.core.display.HTML object>"
      ]
     },
     "metadata": {},
     "output_type": "display_data"
    },
    {
     "data": {
      "text/html": [
       "<span style=\"color:#4527A0\"><h1 style=\"font-size:18px\">Trial summary</h1></span>"
      ],
      "text/plain": [
       "<IPython.core.display.HTML object>"
      ]
     },
     "metadata": {},
     "output_type": "display_data"
    },
    {
     "data": {
      "text/html": [
       "<span style=\"color:cyan\"> |-Trial ID: b686259d9e00962c445fa49dead205e3</span>"
      ],
      "text/plain": [
       "<IPython.core.display.HTML object>"
      ]
     },
     "metadata": {},
     "output_type": "display_data"
    },
    {
     "data": {
      "text/html": [
       "<span style=\"color:cyan\"> |-Score: 0.8842971324920654</span>"
      ],
      "text/plain": [
       "<IPython.core.display.HTML object>"
      ]
     },
     "metadata": {},
     "output_type": "display_data"
    },
    {
     "data": {
      "text/html": [
       "<span style=\"color:cyan\"> |-Best step: 0</span>"
      ],
      "text/plain": [
       "<IPython.core.display.HTML object>"
      ]
     },
     "metadata": {},
     "output_type": "display_data"
    },
    {
     "data": {
      "text/html": [
       "<span style=\"color:#7E57C2\"><h2 style=\"font-size:16px\">Hyperparameters:</h2></span>"
      ],
      "text/plain": [
       "<IPython.core.display.HTML object>"
      ]
     },
     "metadata": {},
     "output_type": "display_data"
    },
    {
     "data": {
      "text/html": [
       "<span style=\"color:cyan\"> |-conv_1: 16</span>"
      ],
      "text/plain": [
       "<IPython.core.display.HTML object>"
      ]
     },
     "metadata": {},
     "output_type": "display_data"
    },
    {
     "data": {
      "text/html": [
       "<span style=\"color:blue\"> |-conv_2: 64</span>"
      ],
      "text/plain": [
       "<IPython.core.display.HTML object>"
      ]
     },
     "metadata": {},
     "output_type": "display_data"
    },
    {
     "data": {
      "text/html": [
       "<span style=\"color:cyan\"> |-conv_3: 128</span>"
      ],
      "text/plain": [
       "<IPython.core.display.HTML object>"
      ]
     },
     "metadata": {},
     "output_type": "display_data"
    },
    {
     "data": {
      "text/html": [
       "<span style=\"color:blue\"> |-dropout_1: 0.4</span>"
      ],
      "text/plain": [
       "<IPython.core.display.HTML object>"
      ]
     },
     "metadata": {},
     "output_type": "display_data"
    },
    {
     "data": {
      "text/html": [
       "<span style=\"color:cyan\"> |-dropout_2: 0.2</span>"
      ],
      "text/plain": [
       "<IPython.core.display.HTML object>"
      ]
     },
     "metadata": {},
     "output_type": "display_data"
    },
    {
     "data": {
      "text/html": [
       "<span style=\"color:blue\"> |-dropout_3: 0.5</span>"
      ],
      "text/plain": [
       "<IPython.core.display.HTML object>"
      ]
     },
     "metadata": {},
     "output_type": "display_data"
    },
    {
     "data": {
      "text/html": [
       "<span style=\"color:cyan\"> |-dropout_4: 0.4</span>"
      ],
      "text/plain": [
       "<IPython.core.display.HTML object>"
      ]
     },
     "metadata": {},
     "output_type": "display_data"
    },
    {
     "data": {
      "text/html": [
       "<span style=\"color:blue\"> |-units: 640</span>"
      ],
      "text/plain": [
       "<IPython.core.display.HTML object>"
      ]
     },
     "metadata": {},
     "output_type": "display_data"
    },
    {
     "name": "stdout",
     "output_type": "stream",
     "text": [
      "WARNING:tensorflow:sample_weight modes were coerced from\n",
      "  ...\n",
      "    to  \n",
      "  ['...']\n",
      "WARNING:tensorflow:sample_weight modes were coerced from\n",
      "  ...\n",
      "    to  \n",
      "  ['...']\n",
      "Train for 400 steps, validate for 171 steps\n",
      "Epoch 1/50\n",
      "400/400 - 22s - loss: 0.8318 - accuracy: 0.6493 - val_loss: 0.4668 - val_accuracy: 0.7754\n",
      "Epoch 2/50\n",
      "400/400 - 21s - loss: 0.4707 - accuracy: 0.7735 - val_loss: 0.4592 - val_accuracy: 0.7877\n",
      "Epoch 3/50\n",
      "400/400 - 21s - loss: 0.4554 - accuracy: 0.7835 - val_loss: 0.4481 - val_accuracy: 0.7986\n",
      "Epoch 4/50\n",
      "400/400 - 21s - loss: 0.4402 - accuracy: 0.7897 - val_loss: 0.4318 - val_accuracy: 0.7924\n",
      "Epoch 5/50\n",
      "400/400 - 21s - loss: 0.4235 - accuracy: 0.7987 - val_loss: 0.4152 - val_accuracy: 0.8086\n",
      "Epoch 6/50\n",
      "400/400 - 21s - loss: 0.4150 - accuracy: 0.8047 - val_loss: 0.4000 - val_accuracy: 0.8034\n",
      "Epoch 7/50\n",
      "400/400 - 21s - loss: 0.3974 - accuracy: 0.8143 - val_loss: 0.3751 - val_accuracy: 0.8123\n",
      "Epoch 8/50\n",
      "400/400 - 21s - loss: 0.3911 - accuracy: 0.8172 - val_loss: 0.3890 - val_accuracy: 0.8192\n",
      "Epoch 9/50\n",
      "400/400 - 21s - loss: 0.3791 - accuracy: 0.8266 - val_loss: 0.3607 - val_accuracy: 0.8308\n",
      "Epoch 10/50\n",
      "400/400 - 21s - loss: 0.3610 - accuracy: 0.8370 - val_loss: 0.3407 - val_accuracy: 0.8437\n",
      "Epoch 11/50\n",
      "400/400 - 21s - loss: 0.3445 - accuracy: 0.8463 - val_loss: 0.3270 - val_accuracy: 0.8420\n",
      "Epoch 12/50\n",
      "400/400 - 21s - loss: 0.3473 - accuracy: 0.8433 - val_loss: 0.3269 - val_accuracy: 0.8629\n",
      "Epoch 13/50\n",
      "400/400 - 21s - loss: 0.3176 - accuracy: 0.8596 - val_loss: 0.3080 - val_accuracy: 0.8698\n",
      "Epoch 14/50\n",
      "400/400 - 21s - loss: 0.3048 - accuracy: 0.8666 - val_loss: 0.3054 - val_accuracy: 0.8738\n",
      "Epoch 15/50\n",
      "400/400 - 21s - loss: 0.2940 - accuracy: 0.8715 - val_loss: 0.3144 - val_accuracy: 0.8537\n",
      "Epoch 16/50\n",
      "400/400 - 21s - loss: 0.2852 - accuracy: 0.8766 - val_loss: 0.3189 - val_accuracy: 0.8671\n",
      "Epoch 17/50\n",
      "400/400 - 21s - loss: 0.2722 - accuracy: 0.8830 - val_loss: 0.3113 - val_accuracy: 0.8770\n",
      "Epoch 18/50\n",
      "400/400 - 21s - loss: 0.2647 - accuracy: 0.8875 - val_loss: 0.3005 - val_accuracy: 0.8725\n",
      "Epoch 19/50\n",
      "400/400 - 21s - loss: 0.2514 - accuracy: 0.8937 - val_loss: 0.3289 - val_accuracy: 0.8608\n",
      "Epoch 20/50\n",
      "400/400 - 21s - loss: 0.2561 - accuracy: 0.8901 - val_loss: 0.3231 - val_accuracy: 0.8688\n",
      "Epoch 21/50\n",
      "400/400 - 21s - loss: 0.2500 - accuracy: 0.8934 - val_loss: 0.3323 - val_accuracy: 0.8549\n",
      "Epoch 22/50\n",
      "400/400 - 21s - loss: 0.2376 - accuracy: 0.8997 - val_loss: 0.3421 - val_accuracy: 0.8240\n"
     ]
    },
    {
     "data": {
      "text/html": [
       "<span style=\"color:#4527A0\"><h1 style=\"font-size:18px\">Trial complete</h1></span>"
      ],
      "text/plain": [
       "<IPython.core.display.HTML object>"
      ]
     },
     "metadata": {},
     "output_type": "display_data"
    },
    {
     "data": {
      "text/html": [
       "<span style=\"color:#4527A0\"><h1 style=\"font-size:18px\">Trial summary</h1></span>"
      ],
      "text/plain": [
       "<IPython.core.display.HTML object>"
      ]
     },
     "metadata": {},
     "output_type": "display_data"
    },
    {
     "data": {
      "text/html": [
       "<span style=\"color:cyan\"> |-Trial ID: 704e62c2fa217d4fb8efabb4e2e8f03f</span>"
      ],
      "text/plain": [
       "<IPython.core.display.HTML object>"
      ]
     },
     "metadata": {},
     "output_type": "display_data"
    },
    {
     "data": {
      "text/html": [
       "<span style=\"color:cyan\"> |-Score: 0.8769828677177429</span>"
      ],
      "text/plain": [
       "<IPython.core.display.HTML object>"
      ]
     },
     "metadata": {},
     "output_type": "display_data"
    },
    {
     "data": {
      "text/html": [
       "<span style=\"color:cyan\"> |-Best step: 0</span>"
      ],
      "text/plain": [
       "<IPython.core.display.HTML object>"
      ]
     },
     "metadata": {},
     "output_type": "display_data"
    },
    {
     "data": {
      "text/html": [
       "<span style=\"color:#7E57C2\"><h2 style=\"font-size:16px\">Hyperparameters:</h2></span>"
      ],
      "text/plain": [
       "<IPython.core.display.HTML object>"
      ]
     },
     "metadata": {},
     "output_type": "display_data"
    },
    {
     "data": {
      "text/html": [
       "<span style=\"color:cyan\"> |-conv_1: 32</span>"
      ],
      "text/plain": [
       "<IPython.core.display.HTML object>"
      ]
     },
     "metadata": {},
     "output_type": "display_data"
    },
    {
     "data": {
      "text/html": [
       "<span style=\"color:blue\"> |-conv_2: 64</span>"
      ],
      "text/plain": [
       "<IPython.core.display.HTML object>"
      ]
     },
     "metadata": {},
     "output_type": "display_data"
    },
    {
     "data": {
      "text/html": [
       "<span style=\"color:cyan\"> |-conv_3: 64</span>"
      ],
      "text/plain": [
       "<IPython.core.display.HTML object>"
      ]
     },
     "metadata": {},
     "output_type": "display_data"
    },
    {
     "data": {
      "text/html": [
       "<span style=\"color:blue\"> |-dropout_1: 0.0</span>"
      ],
      "text/plain": [
       "<IPython.core.display.HTML object>"
      ]
     },
     "metadata": {},
     "output_type": "display_data"
    },
    {
     "data": {
      "text/html": [
       "<span style=\"color:cyan\"> |-dropout_2: 0.2</span>"
      ],
      "text/plain": [
       "<IPython.core.display.HTML object>"
      ]
     },
     "metadata": {},
     "output_type": "display_data"
    },
    {
     "data": {
      "text/html": [
       "<span style=\"color:blue\"> |-dropout_3: 0.30000000000000004</span>"
      ],
      "text/plain": [
       "<IPython.core.display.HTML object>"
      ]
     },
     "metadata": {},
     "output_type": "display_data"
    },
    {
     "data": {
      "text/html": [
       "<span style=\"color:cyan\"> |-dropout_4: 0.4</span>"
      ],
      "text/plain": [
       "<IPython.core.display.HTML object>"
      ]
     },
     "metadata": {},
     "output_type": "display_data"
    },
    {
     "data": {
      "text/html": [
       "<span style=\"color:blue\"> |-units: 768</span>"
      ],
      "text/plain": [
       "<IPython.core.display.HTML object>"
      ]
     },
     "metadata": {},
     "output_type": "display_data"
    },
    {
     "name": "stdout",
     "output_type": "stream",
     "text": [
      "WARNING:tensorflow:sample_weight modes were coerced from\n",
      "  ...\n",
      "    to  \n",
      "  ['...']\n",
      "WARNING:tensorflow:sample_weight modes were coerced from\n",
      "  ...\n",
      "    to  \n",
      "  ['...']\n",
      "Train for 400 steps, validate for 171 steps\n",
      "Epoch 1/50\n",
      "400/400 - 23s - loss: 1.0538 - accuracy: 0.7342 - val_loss: 0.4747 - val_accuracy: 0.7426\n",
      "Epoch 2/50\n",
      "400/400 - 22s - loss: 0.4619 - accuracy: 0.7781 - val_loss: 0.4664 - val_accuracy: 0.7625\n",
      "Epoch 3/50\n",
      "400/400 - 22s - loss: 0.4507 - accuracy: 0.7824 - val_loss: 0.4522 - val_accuracy: 0.7745\n",
      "Epoch 4/50\n",
      "400/400 - 22s - loss: 0.4373 - accuracy: 0.7877 - val_loss: 0.4259 - val_accuracy: 0.7859\n",
      "Epoch 5/50\n",
      "400/400 - 22s - loss: 0.4183 - accuracy: 0.8004 - val_loss: 0.3947 - val_accuracy: 0.8091\n",
      "Epoch 6/50\n",
      "400/400 - 22s - loss: 0.4016 - accuracy: 0.8088 - val_loss: 0.3882 - val_accuracy: 0.8283\n",
      "Epoch 7/50\n",
      "400/400 - 22s - loss: 0.3898 - accuracy: 0.8154 - val_loss: 0.4058 - val_accuracy: 0.8332\n",
      "Epoch 8/50\n",
      "400/400 - 22s - loss: 0.3799 - accuracy: 0.8215 - val_loss: 0.3946 - val_accuracy: 0.8341\n",
      "Epoch 9/50\n",
      "400/400 - 22s - loss: 0.3698 - accuracy: 0.8270 - val_loss: 0.3864 - val_accuracy: 0.8367\n",
      "Epoch 10/50\n",
      "400/400 - 22s - loss: 0.3620 - accuracy: 0.8316 - val_loss: 0.3558 - val_accuracy: 0.8538\n",
      "Epoch 11/50\n",
      "400/400 - 22s - loss: 0.3542 - accuracy: 0.8371 - val_loss: 0.3868 - val_accuracy: 0.8475\n",
      "Epoch 12/50\n",
      "400/400 - 22s - loss: 0.3445 - accuracy: 0.8429 - val_loss: 0.3773 - val_accuracy: 0.8491\n",
      "Epoch 13/50\n",
      "400/400 - 22s - loss: 0.3356 - accuracy: 0.8488 - val_loss: 0.3775 - val_accuracy: 0.8502\n",
      "Epoch 14/50\n",
      "400/400 - 22s - loss: 0.3318 - accuracy: 0.8503 - val_loss: 0.3598 - val_accuracy: 0.8552\n",
      "Epoch 15/50\n",
      "400/400 - 22s - loss: 0.3204 - accuracy: 0.8556 - val_loss: 0.3622 - val_accuracy: 0.8548\n",
      "Epoch 16/50\n",
      "400/400 - 22s - loss: 0.3157 - accuracy: 0.8577 - val_loss: 0.3070 - val_accuracy: 0.8769\n",
      "Epoch 17/50\n",
      "400/400 - 22s - loss: 0.3133 - accuracy: 0.8583 - val_loss: 0.3418 - val_accuracy: 0.8640\n",
      "Epoch 18/50\n",
      "400/400 - 22s - loss: 0.3052 - accuracy: 0.8650 - val_loss: 0.3632 - val_accuracy: 0.8624\n",
      "Epoch 19/50\n",
      "400/400 - 22s - loss: 0.3011 - accuracy: 0.8660 - val_loss: 0.3390 - val_accuracy: 0.8579\n",
      "Epoch 20/50\n",
      "400/400 - 22s - loss: 0.2999 - accuracy: 0.8668 - val_loss: 0.2942 - val_accuracy: 0.8818\n",
      "Epoch 21/50\n",
      "400/400 - 22s - loss: 0.2931 - accuracy: 0.8696 - val_loss: 0.3046 - val_accuracy: 0.8666\n",
      "Epoch 22/50\n",
      "400/400 - 22s - loss: 0.2830 - accuracy: 0.8760 - val_loss: 0.3368 - val_accuracy: 0.8769\n",
      "Epoch 23/50\n",
      "400/400 - 22s - loss: 0.2744 - accuracy: 0.8794 - val_loss: 0.3111 - val_accuracy: 0.8790\n",
      "Epoch 24/50\n",
      "400/400 - 22s - loss: 0.2736 - accuracy: 0.8797 - val_loss: 0.3507 - val_accuracy: 0.8675\n",
      "Epoch 25/50\n",
      "400/400 - 22s - loss: 0.2759 - accuracy: 0.8779 - val_loss: 0.2858 - val_accuracy: 0.8923\n",
      "Epoch 26/50\n",
      "400/400 - 22s - loss: 0.2653 - accuracy: 0.8820 - val_loss: 0.2854 - val_accuracy: 0.8734\n",
      "Epoch 27/50\n",
      "400/400 - 22s - loss: 0.2625 - accuracy: 0.8842 - val_loss: 0.2870 - val_accuracy: 0.8729\n",
      "Epoch 28/50\n",
      "400/400 - 22s - loss: 0.2621 - accuracy: 0.8849 - val_loss: 0.3165 - val_accuracy: 0.8859\n",
      "Epoch 29/50\n",
      "400/400 - 22s - loss: 0.2494 - accuracy: 0.8909 - val_loss: 0.2780 - val_accuracy: 0.8924\n",
      "Epoch 30/50\n",
      "400/400 - 22s - loss: 0.2542 - accuracy: 0.8900 - val_loss: 0.2826 - val_accuracy: 0.8791\n",
      "Epoch 31/50\n",
      "400/400 - 22s - loss: 0.2456 - accuracy: 0.8926 - val_loss: 0.2890 - val_accuracy: 0.8873\n",
      "Epoch 32/50\n",
      "400/400 - 22s - loss: 0.2402 - accuracy: 0.8965 - val_loss: 0.2927 - val_accuracy: 0.8851\n",
      "Epoch 33/50\n",
      "400/400 - 22s - loss: 0.2405 - accuracy: 0.8953 - val_loss: 0.2918 - val_accuracy: 0.8827\n",
      "Epoch 34/50\n",
      "400/400 - 22s - loss: 0.2268 - accuracy: 0.9034 - val_loss: 0.2733 - val_accuracy: 0.8896\n"
     ]
    },
    {
     "data": {
      "text/html": [
       "<span style=\"color:#4527A0\"><h1 style=\"font-size:18px\">Trial complete</h1></span>"
      ],
      "text/plain": [
       "<IPython.core.display.HTML object>"
      ]
     },
     "metadata": {},
     "output_type": "display_data"
    },
    {
     "data": {
      "text/html": [
       "<span style=\"color:#4527A0\"><h1 style=\"font-size:18px\">Trial summary</h1></span>"
      ],
      "text/plain": [
       "<IPython.core.display.HTML object>"
      ]
     },
     "metadata": {},
     "output_type": "display_data"
    },
    {
     "data": {
      "text/html": [
       "<span style=\"color:cyan\"> |-Trial ID: 2c7566832ff360f67fe8b817185628c9</span>"
      ],
      "text/plain": [
       "<IPython.core.display.HTML object>"
      ]
     },
     "metadata": {},
     "output_type": "display_data"
    },
    {
     "data": {
      "text/html": [
       "<span style=\"color:cyan\"> |-Score: 0.892434298992157</span>"
      ],
      "text/plain": [
       "<IPython.core.display.HTML object>"
      ]
     },
     "metadata": {},
     "output_type": "display_data"
    },
    {
     "data": {
      "text/html": [
       "<span style=\"color:cyan\"> |-Best step: 0</span>"
      ],
      "text/plain": [
       "<IPython.core.display.HTML object>"
      ]
     },
     "metadata": {},
     "output_type": "display_data"
    },
    {
     "data": {
      "text/html": [
       "<span style=\"color:#7E57C2\"><h2 style=\"font-size:16px\">Hyperparameters:</h2></span>"
      ],
      "text/plain": [
       "<IPython.core.display.HTML object>"
      ]
     },
     "metadata": {},
     "output_type": "display_data"
    },
    {
     "data": {
      "text/html": [
       "<span style=\"color:cyan\"> |-conv_1: 32</span>"
      ],
      "text/plain": [
       "<IPython.core.display.HTML object>"
      ]
     },
     "metadata": {},
     "output_type": "display_data"
    },
    {
     "data": {
      "text/html": [
       "<span style=\"color:blue\"> |-conv_2: 64</span>"
      ],
      "text/plain": [
       "<IPython.core.display.HTML object>"
      ]
     },
     "metadata": {},
     "output_type": "display_data"
    },
    {
     "data": {
      "text/html": [
       "<span style=\"color:cyan\"> |-conv_3: 128</span>"
      ],
      "text/plain": [
       "<IPython.core.display.HTML object>"
      ]
     },
     "metadata": {},
     "output_type": "display_data"
    },
    {
     "data": {
      "text/html": [
       "<span style=\"color:blue\"> |-dropout_1: 0.5</span>"
      ],
      "text/plain": [
       "<IPython.core.display.HTML object>"
      ]
     },
     "metadata": {},
     "output_type": "display_data"
    },
    {
     "data": {
      "text/html": [
       "<span style=\"color:cyan\"> |-dropout_2: 0.1</span>"
      ],
      "text/plain": [
       "<IPython.core.display.HTML object>"
      ]
     },
     "metadata": {},
     "output_type": "display_data"
    },
    {
     "data": {
      "text/html": [
       "<span style=\"color:blue\"> |-dropout_3: 0.30000000000000004</span>"
      ],
      "text/plain": [
       "<IPython.core.display.HTML object>"
      ]
     },
     "metadata": {},
     "output_type": "display_data"
    },
    {
     "data": {
      "text/html": [
       "<span style=\"color:cyan\"> |-dropout_4: 0.2</span>"
      ],
      "text/plain": [
       "<IPython.core.display.HTML object>"
      ]
     },
     "metadata": {},
     "output_type": "display_data"
    },
    {
     "data": {
      "text/html": [
       "<span style=\"color:blue\"> |-units: 384</span>"
      ],
      "text/plain": [
       "<IPython.core.display.HTML object>"
      ]
     },
     "metadata": {},
     "output_type": "display_data"
    },
    {
     "name": "stdout",
     "output_type": "stream",
     "text": [
      "WARNING:tensorflow:sample_weight modes were coerced from\n",
      "  ...\n",
      "    to  \n",
      "  ['...']\n",
      "WARNING:tensorflow:sample_weight modes were coerced from\n",
      "  ...\n",
      "    to  \n",
      "  ['...']\n",
      "Train for 400 steps, validate for 171 steps\n",
      "Epoch 1/50\n",
      "400/400 - 22s - loss: 2.5852 - accuracy: 0.5923 - val_loss: 0.6762 - val_accuracy: 0.5919\n",
      "Epoch 2/50\n",
      "400/400 - 21s - loss: 0.6754 - accuracy: 0.5946 - val_loss: 0.6764 - val_accuracy: 0.5913\n",
      "Epoch 3/50\n",
      "400/400 - 21s - loss: 0.6754 - accuracy: 0.5946 - val_loss: 0.6763 - val_accuracy: 0.5915\n",
      "Epoch 4/50\n",
      "400/400 - 21s - loss: 0.6753 - accuracy: 0.5946 - val_loss: 0.6761 - val_accuracy: 0.5920\n",
      "Epoch 5/50\n",
      "400/400 - 21s - loss: 0.6754 - accuracy: 0.5946 - val_loss: 0.6763 - val_accuracy: 0.5915\n",
      "Epoch 6/50\n",
      "400/400 - 21s - loss: 0.6753 - accuracy: 0.5946 - val_loss: 0.6762 - val_accuracy: 0.5919\n",
      "Epoch 7/50\n",
      "400/400 - 21s - loss: 0.6753 - accuracy: 0.5946 - val_loss: 0.6763 - val_accuracy: 0.5916\n",
      "Epoch 8/50\n",
      "400/400 - 21s - loss: 0.6754 - accuracy: 0.5946 - val_loss: 0.6762 - val_accuracy: 0.5917\n",
      "Epoch 9/50\n",
      "400/400 - 21s - loss: 0.6753 - accuracy: 0.5946 - val_loss: 0.6762 - val_accuracy: 0.5918\n"
     ]
    },
    {
     "data": {
      "text/html": [
       "<span style=\"color:#4527A0\"><h1 style=\"font-size:18px\">Trial complete</h1></span>"
      ],
      "text/plain": [
       "<IPython.core.display.HTML object>"
      ]
     },
     "metadata": {},
     "output_type": "display_data"
    },
    {
     "data": {
      "text/html": [
       "<span style=\"color:#4527A0\"><h1 style=\"font-size:18px\">Trial summary</h1></span>"
      ],
      "text/plain": [
       "<IPython.core.display.HTML object>"
      ]
     },
     "metadata": {},
     "output_type": "display_data"
    },
    {
     "data": {
      "text/html": [
       "<span style=\"color:cyan\"> |-Trial ID: 011efdc83cf8ea231be1ac90ac102be5</span>"
      ],
      "text/plain": [
       "<IPython.core.display.HTML object>"
      ]
     },
     "metadata": {},
     "output_type": "display_data"
    },
    {
     "data": {
      "text/html": [
       "<span style=\"color:cyan\"> |-Score: 0.5920000076293945</span>"
      ],
      "text/plain": [
       "<IPython.core.display.HTML object>"
      ]
     },
     "metadata": {},
     "output_type": "display_data"
    },
    {
     "data": {
      "text/html": [
       "<span style=\"color:cyan\"> |-Best step: 0</span>"
      ],
      "text/plain": [
       "<IPython.core.display.HTML object>"
      ]
     },
     "metadata": {},
     "output_type": "display_data"
    },
    {
     "data": {
      "text/html": [
       "<span style=\"color:#7E57C2\"><h2 style=\"font-size:16px\">Hyperparameters:</h2></span>"
      ],
      "text/plain": [
       "<IPython.core.display.HTML object>"
      ]
     },
     "metadata": {},
     "output_type": "display_data"
    },
    {
     "data": {
      "text/html": [
       "<span style=\"color:cyan\"> |-conv_1: 16</span>"
      ],
      "text/plain": [
       "<IPython.core.display.HTML object>"
      ]
     },
     "metadata": {},
     "output_type": "display_data"
    },
    {
     "data": {
      "text/html": [
       "<span style=\"color:blue\"> |-conv_2: 64</span>"
      ],
      "text/plain": [
       "<IPython.core.display.HTML object>"
      ]
     },
     "metadata": {},
     "output_type": "display_data"
    },
    {
     "data": {
      "text/html": [
       "<span style=\"color:cyan\"> |-conv_3: 64</span>"
      ],
      "text/plain": [
       "<IPython.core.display.HTML object>"
      ]
     },
     "metadata": {},
     "output_type": "display_data"
    },
    {
     "data": {
      "text/html": [
       "<span style=\"color:blue\"> |-dropout_1: 0.2</span>"
      ],
      "text/plain": [
       "<IPython.core.display.HTML object>"
      ]
     },
     "metadata": {},
     "output_type": "display_data"
    },
    {
     "data": {
      "text/html": [
       "<span style=\"color:cyan\"> |-dropout_2: 0.5</span>"
      ],
      "text/plain": [
       "<IPython.core.display.HTML object>"
      ]
     },
     "metadata": {},
     "output_type": "display_data"
    },
    {
     "data": {
      "text/html": [
       "<span style=\"color:blue\"> |-dropout_3: 0.2</span>"
      ],
      "text/plain": [
       "<IPython.core.display.HTML object>"
      ]
     },
     "metadata": {},
     "output_type": "display_data"
    },
    {
     "data": {
      "text/html": [
       "<span style=\"color:cyan\"> |-dropout_4: 0.5</span>"
      ],
      "text/plain": [
       "<IPython.core.display.HTML object>"
      ]
     },
     "metadata": {},
     "output_type": "display_data"
    },
    {
     "data": {
      "text/html": [
       "<span style=\"color:blue\"> |-units: 896</span>"
      ],
      "text/plain": [
       "<IPython.core.display.HTML object>"
      ]
     },
     "metadata": {},
     "output_type": "display_data"
    },
    {
     "name": "stdout",
     "output_type": "stream",
     "text": [
      "WARNING:tensorflow:sample_weight modes were coerced from\n",
      "  ...\n",
      "    to  \n",
      "  ['...']\n",
      "WARNING:tensorflow:sample_weight modes were coerced from\n",
      "  ...\n",
      "    to  \n",
      "  ['...']\n",
      "Train for 400 steps, validate for 171 steps\n",
      "Epoch 1/50\n",
      "400/400 - 22s - loss: 0.6885 - accuracy: 0.7438 - val_loss: 0.4603 - val_accuracy: 0.7913\n",
      "Epoch 2/50\n",
      "400/400 - 21s - loss: 0.4569 - accuracy: 0.7752 - val_loss: 0.4391 - val_accuracy: 0.8029\n",
      "Epoch 3/50\n",
      "400/400 - 21s - loss: 0.4378 - accuracy: 0.7846 - val_loss: 0.4280 - val_accuracy: 0.8145\n",
      "Epoch 4/50\n",
      "400/400 - 21s - loss: 0.4260 - accuracy: 0.7949 - val_loss: 0.4305 - val_accuracy: 0.8214\n",
      "Epoch 5/50\n",
      "400/400 - 21s - loss: 0.4126 - accuracy: 0.8049 - val_loss: 0.4044 - val_accuracy: 0.8269\n",
      "Epoch 6/50\n",
      "400/400 - 21s - loss: 0.3903 - accuracy: 0.8205 - val_loss: 0.3836 - val_accuracy: 0.8477\n",
      "Epoch 7/50\n",
      "400/400 - 21s - loss: 0.3658 - accuracy: 0.8324 - val_loss: 0.3730 - val_accuracy: 0.8576\n",
      "Epoch 8/50\n",
      "400/400 - 21s - loss: 0.3454 - accuracy: 0.8445 - val_loss: 0.3574 - val_accuracy: 0.8615\n",
      "Epoch 9/50\n",
      "400/400 - 21s - loss: 0.3259 - accuracy: 0.8554 - val_loss: 0.3434 - val_accuracy: 0.8579\n",
      "Epoch 10/50\n",
      "400/400 - 21s - loss: 0.3150 - accuracy: 0.8594 - val_loss: 0.3459 - val_accuracy: 0.8619\n",
      "Epoch 11/50\n",
      "400/400 - 21s - loss: 0.3015 - accuracy: 0.8648 - val_loss: 0.2980 - val_accuracy: 0.8774\n",
      "Epoch 12/50\n",
      "400/400 - 21s - loss: 0.2879 - accuracy: 0.8723 - val_loss: 0.2921 - val_accuracy: 0.8750\n",
      "Epoch 13/50\n",
      "400/400 - 21s - loss: 0.2785 - accuracy: 0.8771 - val_loss: 0.2996 - val_accuracy: 0.8818\n",
      "Epoch 14/50\n",
      "400/400 - 21s - loss: 0.2667 - accuracy: 0.8834 - val_loss: 0.3100 - val_accuracy: 0.8781\n",
      "Epoch 15/50\n",
      "400/400 - 21s - loss: 0.2573 - accuracy: 0.8884 - val_loss: 0.3101 - val_accuracy: 0.8827\n",
      "Epoch 16/50\n",
      "400/400 - 21s - loss: 0.2531 - accuracy: 0.8893 - val_loss: 0.3424 - val_accuracy: 0.8625\n",
      "Epoch 17/50\n",
      "400/400 - 21s - loss: 0.2430 - accuracy: 0.8952 - val_loss: 0.2792 - val_accuracy: 0.8879\n",
      "Epoch 18/50\n",
      "400/400 - 21s - loss: 0.2289 - accuracy: 0.9007 - val_loss: 0.3099 - val_accuracy: 0.8727\n",
      "Epoch 19/50\n",
      "400/400 - 21s - loss: 0.2247 - accuracy: 0.9035 - val_loss: 0.3155 - val_accuracy: 0.8725\n",
      "Epoch 20/50\n",
      "400/400 - 21s - loss: 0.2244 - accuracy: 0.9029 - val_loss: 0.2845 - val_accuracy: 0.8813\n",
      "Epoch 21/50\n",
      "400/400 - 21s - loss: 0.2093 - accuracy: 0.9098 - val_loss: 0.2999 - val_accuracy: 0.8832\n",
      "Epoch 22/50\n",
      "400/400 - 21s - loss: 0.2011 - accuracy: 0.9145 - val_loss: 0.2794 - val_accuracy: 0.8860\n"
     ]
    },
    {
     "data": {
      "text/html": [
       "<span style=\"color:#4527A0\"><h1 style=\"font-size:18px\">Trial complete</h1></span>"
      ],
      "text/plain": [
       "<IPython.core.display.HTML object>"
      ]
     },
     "metadata": {},
     "output_type": "display_data"
    },
    {
     "data": {
      "text/html": [
       "<span style=\"color:#4527A0\"><h1 style=\"font-size:18px\">Trial summary</h1></span>"
      ],
      "text/plain": [
       "<IPython.core.display.HTML object>"
      ]
     },
     "metadata": {},
     "output_type": "display_data"
    },
    {
     "data": {
      "text/html": [
       "<span style=\"color:cyan\"> |-Trial ID: ee1ed428b3e4236359b70ebbf73df5fa</span>"
      ],
      "text/plain": [
       "<IPython.core.display.HTML object>"
      ]
     },
     "metadata": {},
     "output_type": "display_data"
    },
    {
     "data": {
      "text/html": [
       "<span style=\"color:cyan\"> |-Score: 0.8879085779190063</span>"
      ],
      "text/plain": [
       "<IPython.core.display.HTML object>"
      ]
     },
     "metadata": {},
     "output_type": "display_data"
    },
    {
     "data": {
      "text/html": [
       "<span style=\"color:cyan\"> |-Best step: 0</span>"
      ],
      "text/plain": [
       "<IPython.core.display.HTML object>"
      ]
     },
     "metadata": {},
     "output_type": "display_data"
    },
    {
     "data": {
      "text/html": [
       "<span style=\"color:#7E57C2\"><h2 style=\"font-size:16px\">Hyperparameters:</h2></span>"
      ],
      "text/plain": [
       "<IPython.core.display.HTML object>"
      ]
     },
     "metadata": {},
     "output_type": "display_data"
    },
    {
     "data": {
      "text/html": [
       "<span style=\"color:cyan\"> |-conv_1: 32</span>"
      ],
      "text/plain": [
       "<IPython.core.display.HTML object>"
      ]
     },
     "metadata": {},
     "output_type": "display_data"
    },
    {
     "data": {
      "text/html": [
       "<span style=\"color:blue\"> |-conv_2: 64</span>"
      ],
      "text/plain": [
       "<IPython.core.display.HTML object>"
      ]
     },
     "metadata": {},
     "output_type": "display_data"
    },
    {
     "data": {
      "text/html": [
       "<span style=\"color:cyan\"> |-conv_3: 64</span>"
      ],
      "text/plain": [
       "<IPython.core.display.HTML object>"
      ]
     },
     "metadata": {},
     "output_type": "display_data"
    },
    {
     "data": {
      "text/html": [
       "<span style=\"color:blue\"> |-dropout_1: 0.1</span>"
      ],
      "text/plain": [
       "<IPython.core.display.HTML object>"
      ]
     },
     "metadata": {},
     "output_type": "display_data"
    },
    {
     "data": {
      "text/html": [
       "<span style=\"color:cyan\"> |-dropout_2: 0.2</span>"
      ],
      "text/plain": [
       "<IPython.core.display.HTML object>"
      ]
     },
     "metadata": {},
     "output_type": "display_data"
    },
    {
     "data": {
      "text/html": [
       "<span style=\"color:blue\"> |-dropout_3: 0.0</span>"
      ],
      "text/plain": [
       "<IPython.core.display.HTML object>"
      ]
     },
     "metadata": {},
     "output_type": "display_data"
    },
    {
     "data": {
      "text/html": [
       "<span style=\"color:cyan\"> |-dropout_4: 0.2</span>"
      ],
      "text/plain": [
       "<IPython.core.display.HTML object>"
      ]
     },
     "metadata": {},
     "output_type": "display_data"
    },
    {
     "data": {
      "text/html": [
       "<span style=\"color:blue\"> |-units: 128</span>"
      ],
      "text/plain": [
       "<IPython.core.display.HTML object>"
      ]
     },
     "metadata": {},
     "output_type": "display_data"
    },
    {
     "name": "stdout",
     "output_type": "stream",
     "text": [
      "WARNING:tensorflow:sample_weight modes were coerced from\n",
      "  ...\n",
      "    to  \n",
      "  ['...']\n",
      "WARNING:tensorflow:sample_weight modes were coerced from\n",
      "  ...\n",
      "    to  \n",
      "  ['...']\n",
      "Train for 400 steps, validate for 171 steps\n",
      "Epoch 1/50\n",
      "400/400 - 22s - loss: 1.0877 - accuracy: 0.6670 - val_loss: 0.5081 - val_accuracy: 0.7081\n",
      "Epoch 2/50\n",
      "400/400 - 21s - loss: 0.4764 - accuracy: 0.7670 - val_loss: 0.4998 - val_accuracy: 0.7426\n",
      "Epoch 3/50\n",
      "400/400 - 21s - loss: 0.4579 - accuracy: 0.7798 - val_loss: 0.4665 - val_accuracy: 0.7916\n",
      "Epoch 4/50\n",
      "400/400 - 21s - loss: 0.4416 - accuracy: 0.7896 - val_loss: 0.4643 - val_accuracy: 0.8001\n",
      "Epoch 5/50\n",
      "400/400 - 21s - loss: 0.4303 - accuracy: 0.7958 - val_loss: 0.5118 - val_accuracy: 0.8196\n",
      "Epoch 6/50\n",
      "400/400 - 21s - loss: 0.4195 - accuracy: 0.8024 - val_loss: 0.4451 - val_accuracy: 0.7563\n",
      "Epoch 7/50\n",
      "400/400 - 21s - loss: 0.3987 - accuracy: 0.8137 - val_loss: 0.4108 - val_accuracy: 0.8154\n",
      "Epoch 8/50\n",
      "400/400 - 21s - loss: 0.3880 - accuracy: 0.8203 - val_loss: 0.4077 - val_accuracy: 0.8027\n",
      "Epoch 9/50\n",
      "400/400 - 21s - loss: 0.3724 - accuracy: 0.8287 - val_loss: 0.3863 - val_accuracy: 0.8180\n",
      "Epoch 10/50\n",
      "400/400 - 21s - loss: 0.3622 - accuracy: 0.8329 - val_loss: 0.3611 - val_accuracy: 0.8459\n",
      "Epoch 11/50\n",
      "400/400 - 21s - loss: 0.3559 - accuracy: 0.8387 - val_loss: 0.3337 - val_accuracy: 0.8576\n",
      "Epoch 12/50\n",
      "400/400 - 21s - loss: 0.3429 - accuracy: 0.8451 - val_loss: 0.3444 - val_accuracy: 0.8619\n",
      "Epoch 13/50\n",
      "400/400 - 21s - loss: 0.3337 - accuracy: 0.8506 - val_loss: 0.3689 - val_accuracy: 0.8315\n",
      "Epoch 14/50\n",
      "400/400 - 21s - loss: 0.3290 - accuracy: 0.8521 - val_loss: 0.3621 - val_accuracy: 0.8513\n",
      "Epoch 15/50\n",
      "400/400 - 21s - loss: 0.3264 - accuracy: 0.8533 - val_loss: 0.3313 - val_accuracy: 0.8681\n",
      "Epoch 16/50\n",
      "400/400 - 21s - loss: 0.3153 - accuracy: 0.8587 - val_loss: 0.3086 - val_accuracy: 0.8698\n",
      "Epoch 17/50\n",
      "400/400 - 21s - loss: 0.3122 - accuracy: 0.8598 - val_loss: 0.3058 - val_accuracy: 0.8762\n",
      "Epoch 18/50\n",
      "400/400 - 21s - loss: 0.3106 - accuracy: 0.8608 - val_loss: 0.3095 - val_accuracy: 0.8725\n",
      "Epoch 19/50\n",
      "400/400 - 21s - loss: 0.3068 - accuracy: 0.8643 - val_loss: 0.3653 - val_accuracy: 0.8418\n",
      "Epoch 20/50\n",
      "400/400 - 21s - loss: 0.2987 - accuracy: 0.8679 - val_loss: 0.3246 - val_accuracy: 0.8477\n",
      "Epoch 21/50\n",
      "400/400 - 21s - loss: 0.2923 - accuracy: 0.8730 - val_loss: 0.3307 - val_accuracy: 0.8753\n",
      "Epoch 22/50\n",
      "400/400 - 21s - loss: 0.2826 - accuracy: 0.8761 - val_loss: 0.2964 - val_accuracy: 0.8706\n"
     ]
    },
    {
     "data": {
      "text/html": [
       "<span style=\"color:#4527A0\"><h1 style=\"font-size:18px\">Trial complete</h1></span>"
      ],
      "text/plain": [
       "<IPython.core.display.HTML object>"
      ]
     },
     "metadata": {},
     "output_type": "display_data"
    },
    {
     "data": {
      "text/html": [
       "<span style=\"color:#4527A0\"><h1 style=\"font-size:18px\">Trial summary</h1></span>"
      ],
      "text/plain": [
       "<IPython.core.display.HTML object>"
      ]
     },
     "metadata": {},
     "output_type": "display_data"
    },
    {
     "data": {
      "text/html": [
       "<span style=\"color:cyan\"> |-Trial ID: 013fc73c8f2a0aa7ca8e590ab1dc8dcc</span>"
      ],
      "text/plain": [
       "<IPython.core.display.HTML object>"
      ]
     },
     "metadata": {},
     "output_type": "display_data"
    },
    {
     "data": {
      "text/html": [
       "<span style=\"color:cyan\"> |-Score: 0.8762057423591614</span>"
      ],
      "text/plain": [
       "<IPython.core.display.HTML object>"
      ]
     },
     "metadata": {},
     "output_type": "display_data"
    },
    {
     "data": {
      "text/html": [
       "<span style=\"color:cyan\"> |-Best step: 0</span>"
      ],
      "text/plain": [
       "<IPython.core.display.HTML object>"
      ]
     },
     "metadata": {},
     "output_type": "display_data"
    },
    {
     "data": {
      "text/html": [
       "<span style=\"color:#7E57C2\"><h2 style=\"font-size:16px\">Hyperparameters:</h2></span>"
      ],
      "text/plain": [
       "<IPython.core.display.HTML object>"
      ]
     },
     "metadata": {},
     "output_type": "display_data"
    },
    {
     "data": {
      "text/html": [
       "<span style=\"color:cyan\"> |-conv_1: 16</span>"
      ],
      "text/plain": [
       "<IPython.core.display.HTML object>"
      ]
     },
     "metadata": {},
     "output_type": "display_data"
    },
    {
     "data": {
      "text/html": [
       "<span style=\"color:blue\"> |-conv_2: 64</span>"
      ],
      "text/plain": [
       "<IPython.core.display.HTML object>"
      ]
     },
     "metadata": {},
     "output_type": "display_data"
    },
    {
     "data": {
      "text/html": [
       "<span style=\"color:cyan\"> |-conv_3: 64</span>"
      ],
      "text/plain": [
       "<IPython.core.display.HTML object>"
      ]
     },
     "metadata": {},
     "output_type": "display_data"
    },
    {
     "data": {
      "text/html": [
       "<span style=\"color:blue\"> |-dropout_1: 0.4</span>"
      ],
      "text/plain": [
       "<IPython.core.display.HTML object>"
      ]
     },
     "metadata": {},
     "output_type": "display_data"
    },
    {
     "data": {
      "text/html": [
       "<span style=\"color:cyan\"> |-dropout_2: 0.0</span>"
      ],
      "text/plain": [
       "<IPython.core.display.HTML object>"
      ]
     },
     "metadata": {},
     "output_type": "display_data"
    },
    {
     "data": {
      "text/html": [
       "<span style=\"color:blue\"> |-dropout_3: 0.2</span>"
      ],
      "text/plain": [
       "<IPython.core.display.HTML object>"
      ]
     },
     "metadata": {},
     "output_type": "display_data"
    },
    {
     "data": {
      "text/html": [
       "<span style=\"color:cyan\"> |-dropout_4: 0.5</span>"
      ],
      "text/plain": [
       "<IPython.core.display.HTML object>"
      ]
     },
     "metadata": {},
     "output_type": "display_data"
    },
    {
     "data": {
      "text/html": [
       "<span style=\"color:blue\"> |-units: 896</span>"
      ],
      "text/plain": [
       "<IPython.core.display.HTML object>"
      ]
     },
     "metadata": {},
     "output_type": "display_data"
    },
    {
     "name": "stdout",
     "output_type": "stream",
     "text": [
      "WARNING:tensorflow:sample_weight modes were coerced from\n",
      "  ...\n",
      "    to  \n",
      "  ['...']\n",
      "WARNING:tensorflow:sample_weight modes were coerced from\n",
      "  ...\n",
      "    to  \n",
      "  ['...']\n",
      "Train for 400 steps, validate for 171 steps\n",
      "Epoch 1/50\n",
      "400/400 - 22s - loss: 1.6182 - accuracy: 0.7045 - val_loss: 0.4477 - val_accuracy: 0.7852\n",
      "Epoch 2/50\n",
      "400/400 - 21s - loss: 0.4594 - accuracy: 0.7768 - val_loss: 0.4310 - val_accuracy: 0.7930\n",
      "Epoch 3/50\n",
      "400/400 - 21s - loss: 0.4462 - accuracy: 0.7835 - val_loss: 0.4347 - val_accuracy: 0.7744\n",
      "Epoch 4/50\n",
      "400/400 - 21s - loss: 0.4401 - accuracy: 0.7898 - val_loss: 0.4338 - val_accuracy: 0.8007\n",
      "Epoch 5/50\n",
      "400/400 - 21s - loss: 0.4261 - accuracy: 0.7970 - val_loss: 0.4121 - val_accuracy: 0.8043\n",
      "Epoch 6/50\n",
      "400/400 - 21s - loss: 0.4183 - accuracy: 0.8045 - val_loss: 0.3968 - val_accuracy: 0.8116\n",
      "Epoch 7/50\n",
      "400/400 - 21s - loss: 0.4104 - accuracy: 0.8077 - val_loss: 0.3893 - val_accuracy: 0.8279\n",
      "Epoch 8/50\n",
      "400/400 - 21s - loss: 0.3968 - accuracy: 0.8178 - val_loss: 0.3832 - val_accuracy: 0.8206\n",
      "Epoch 9/50\n",
      "400/400 - 21s - loss: 0.3790 - accuracy: 0.8279 - val_loss: 0.3703 - val_accuracy: 0.8211\n",
      "Epoch 10/50\n",
      "400/400 - 21s - loss: 0.3640 - accuracy: 0.8363 - val_loss: 0.3539 - val_accuracy: 0.8360\n",
      "Epoch 11/50\n",
      "400/400 - 21s - loss: 0.3532 - accuracy: 0.8412 - val_loss: 0.3617 - val_accuracy: 0.8581\n",
      "Epoch 12/50\n",
      "400/400 - 21s - loss: 0.3390 - accuracy: 0.8489 - val_loss: 0.3260 - val_accuracy: 0.8579\n",
      "Epoch 13/50\n",
      "400/400 - 21s - loss: 0.3311 - accuracy: 0.8533 - val_loss: 0.3324 - val_accuracy: 0.8532\n",
      "Epoch 14/50\n",
      "400/400 - 21s - loss: 0.3185 - accuracy: 0.8597 - val_loss: 0.3303 - val_accuracy: 0.8436\n",
      "Epoch 15/50\n",
      "400/400 - 21s - loss: 0.3117 - accuracy: 0.8629 - val_loss: 0.3284 - val_accuracy: 0.8429\n",
      "Epoch 16/50\n",
      "400/400 - 21s - loss: 0.3056 - accuracy: 0.8672 - val_loss: 0.3262 - val_accuracy: 0.8453\n"
     ]
    },
    {
     "data": {
      "text/html": [
       "<span style=\"color:#4527A0\"><h1 style=\"font-size:18px\">Trial complete</h1></span>"
      ],
      "text/plain": [
       "<IPython.core.display.HTML object>"
      ]
     },
     "metadata": {},
     "output_type": "display_data"
    },
    {
     "data": {
      "text/html": [
       "<span style=\"color:#4527A0\"><h1 style=\"font-size:18px\">Trial summary</h1></span>"
      ],
      "text/plain": [
       "<IPython.core.display.HTML object>"
      ]
     },
     "metadata": {},
     "output_type": "display_data"
    },
    {
     "data": {
      "text/html": [
       "<span style=\"color:cyan\"> |-Trial ID: 77af0788e9e3bc0433230ba67d951081</span>"
      ],
      "text/plain": [
       "<IPython.core.display.HTML object>"
      ]
     },
     "metadata": {},
     "output_type": "display_data"
    },
    {
     "data": {
      "text/html": [
       "<span style=\"color:cyan\"> |-Score: 0.8580571413040161</span>"
      ],
      "text/plain": [
       "<IPython.core.display.HTML object>"
      ]
     },
     "metadata": {},
     "output_type": "display_data"
    },
    {
     "data": {
      "text/html": [
       "<span style=\"color:cyan\"> |-Best step: 0</span>"
      ],
      "text/plain": [
       "<IPython.core.display.HTML object>"
      ]
     },
     "metadata": {},
     "output_type": "display_data"
    },
    {
     "data": {
      "text/html": [
       "<span style=\"color:#7E57C2\"><h2 style=\"font-size:16px\">Hyperparameters:</h2></span>"
      ],
      "text/plain": [
       "<IPython.core.display.HTML object>"
      ]
     },
     "metadata": {},
     "output_type": "display_data"
    },
    {
     "data": {
      "text/html": [
       "<span style=\"color:cyan\"> |-conv_1: 16</span>"
      ],
      "text/plain": [
       "<IPython.core.display.HTML object>"
      ]
     },
     "metadata": {},
     "output_type": "display_data"
    },
    {
     "data": {
      "text/html": [
       "<span style=\"color:blue\"> |-conv_2: 64</span>"
      ],
      "text/plain": [
       "<IPython.core.display.HTML object>"
      ]
     },
     "metadata": {},
     "output_type": "display_data"
    },
    {
     "data": {
      "text/html": [
       "<span style=\"color:cyan\"> |-conv_3: 64</span>"
      ],
      "text/plain": [
       "<IPython.core.display.HTML object>"
      ]
     },
     "metadata": {},
     "output_type": "display_data"
    },
    {
     "data": {
      "text/html": [
       "<span style=\"color:blue\"> |-dropout_1: 0.0</span>"
      ],
      "text/plain": [
       "<IPython.core.display.HTML object>"
      ]
     },
     "metadata": {},
     "output_type": "display_data"
    },
    {
     "data": {
      "text/html": [
       "<span style=\"color:cyan\"> |-dropout_2: 0.5</span>"
      ],
      "text/plain": [
       "<IPython.core.display.HTML object>"
      ]
     },
     "metadata": {},
     "output_type": "display_data"
    },
    {
     "data": {
      "text/html": [
       "<span style=\"color:blue\"> |-dropout_3: 0.2</span>"
      ],
      "text/plain": [
       "<IPython.core.display.HTML object>"
      ]
     },
     "metadata": {},
     "output_type": "display_data"
    },
    {
     "data": {
      "text/html": [
       "<span style=\"color:cyan\"> |-dropout_4: 0.4</span>"
      ],
      "text/plain": [
       "<IPython.core.display.HTML object>"
      ]
     },
     "metadata": {},
     "output_type": "display_data"
    },
    {
     "data": {
      "text/html": [
       "<span style=\"color:blue\"> |-units: 1024</span>"
      ],
      "text/plain": [
       "<IPython.core.display.HTML object>"
      ]
     },
     "metadata": {},
     "output_type": "display_data"
    },
    {
     "name": "stdout",
     "output_type": "stream",
     "text": [
      "WARNING:tensorflow:sample_weight modes were coerced from\n",
      "  ...\n",
      "    to  \n",
      "  ['...']\n",
      "WARNING:tensorflow:sample_weight modes were coerced from\n",
      "  ...\n",
      "    to  \n",
      "  ['...']\n",
      "Train for 400 steps, validate for 171 steps\n",
      "Epoch 1/50\n",
      "400/400 - 22s - loss: 1.3837 - accuracy: 0.7422 - val_loss: 0.4845 - val_accuracy: 0.7668\n",
      "Epoch 2/50\n",
      "400/400 - 21s - loss: 0.4586 - accuracy: 0.7779 - val_loss: 0.4555 - val_accuracy: 0.7710\n",
      "Epoch 3/50\n",
      "400/400 - 21s - loss: 0.4414 - accuracy: 0.7879 - val_loss: 0.4461 - val_accuracy: 0.7771\n",
      "Epoch 4/50\n",
      "400/400 - 21s - loss: 0.4260 - accuracy: 0.7988 - val_loss: 0.4476 - val_accuracy: 0.7727\n",
      "Epoch 5/50\n",
      "400/400 - 21s - loss: 0.4069 - accuracy: 0.8090 - val_loss: 0.4318 - val_accuracy: 0.8169\n",
      "Epoch 6/50\n",
      "400/400 - 21s - loss: 0.3916 - accuracy: 0.8179 - val_loss: 0.3956 - val_accuracy: 0.8342\n",
      "Epoch 7/50\n",
      "400/400 - 21s - loss: 0.3757 - accuracy: 0.8288 - val_loss: 0.4050 - val_accuracy: 0.8107\n",
      "Epoch 8/50\n",
      "400/400 - 21s - loss: 0.3617 - accuracy: 0.8354 - val_loss: 0.3509 - val_accuracy: 0.8488\n",
      "Epoch 9/50\n",
      "400/400 - 21s - loss: 0.3443 - accuracy: 0.8451 - val_loss: 0.3476 - val_accuracy: 0.8353\n",
      "Epoch 10/50\n",
      "400/400 - 21s - loss: 0.3357 - accuracy: 0.8503 - val_loss: 0.3452 - val_accuracy: 0.8471\n",
      "Epoch 11/50\n",
      "400/400 - 21s - loss: 0.3295 - accuracy: 0.8526 - val_loss: 0.3417 - val_accuracy: 0.8355\n",
      "Epoch 12/50\n",
      "400/400 - 21s - loss: 0.3132 - accuracy: 0.8608 - val_loss: 0.3359 - val_accuracy: 0.8516\n",
      "Epoch 13/50\n",
      "400/400 - 21s - loss: 0.3039 - accuracy: 0.8655 - val_loss: 0.3716 - val_accuracy: 0.8266\n",
      "Epoch 14/50\n",
      "400/400 - 21s - loss: 0.2947 - accuracy: 0.8703 - val_loss: 0.3171 - val_accuracy: 0.8677\n",
      "Epoch 15/50\n",
      "400/400 - 21s - loss: 0.2794 - accuracy: 0.8761 - val_loss: 0.3399 - val_accuracy: 0.8586\n",
      "Epoch 16/50\n",
      "400/400 - 21s - loss: 0.2730 - accuracy: 0.8798 - val_loss: 0.3504 - val_accuracy: 0.8364\n",
      "Epoch 17/50\n",
      "400/400 - 21s - loss: 0.2627 - accuracy: 0.8863 - val_loss: 0.3275 - val_accuracy: 0.8573\n",
      "Epoch 18/50\n",
      "400/400 - 21s - loss: 0.2478 - accuracy: 0.8934 - val_loss: 0.3445 - val_accuracy: 0.8492\n",
      "Epoch 19/50\n",
      "400/400 - 21s - loss: 0.2332 - accuracy: 0.9004 - val_loss: 0.3656 - val_accuracy: 0.8536\n"
     ]
    },
    {
     "data": {
      "text/html": [
       "<span style=\"color:#4527A0\"><h1 style=\"font-size:18px\">Trial complete</h1></span>"
      ],
      "text/plain": [
       "<IPython.core.display.HTML object>"
      ]
     },
     "metadata": {},
     "output_type": "display_data"
    },
    {
     "data": {
      "text/html": [
       "<span style=\"color:#4527A0\"><h1 style=\"font-size:18px\">Trial summary</h1></span>"
      ],
      "text/plain": [
       "<IPython.core.display.HTML object>"
      ]
     },
     "metadata": {},
     "output_type": "display_data"
    },
    {
     "data": {
      "text/html": [
       "<span style=\"color:cyan\"> |-Trial ID: c30efc37a45687cdb05a0da00fa1719f</span>"
      ],
      "text/plain": [
       "<IPython.core.display.HTML object>"
      ]
     },
     "metadata": {},
     "output_type": "display_data"
    },
    {
     "data": {
      "text/html": [
       "<span style=\"color:cyan\"> |-Score: 0.8677485585212708</span>"
      ],
      "text/plain": [
       "<IPython.core.display.HTML object>"
      ]
     },
     "metadata": {},
     "output_type": "display_data"
    },
    {
     "data": {
      "text/html": [
       "<span style=\"color:cyan\"> |-Best step: 0</span>"
      ],
      "text/plain": [
       "<IPython.core.display.HTML object>"
      ]
     },
     "metadata": {},
     "output_type": "display_data"
    },
    {
     "data": {
      "text/html": [
       "<span style=\"color:#7E57C2\"><h2 style=\"font-size:16px\">Hyperparameters:</h2></span>"
      ],
      "text/plain": [
       "<IPython.core.display.HTML object>"
      ]
     },
     "metadata": {},
     "output_type": "display_data"
    },
    {
     "data": {
      "text/html": [
       "<span style=\"color:cyan\"> |-conv_1: 32</span>"
      ],
      "text/plain": [
       "<IPython.core.display.HTML object>"
      ]
     },
     "metadata": {},
     "output_type": "display_data"
    },
    {
     "data": {
      "text/html": [
       "<span style=\"color:blue\"> |-conv_2: 64</span>"
      ],
      "text/plain": [
       "<IPython.core.display.HTML object>"
      ]
     },
     "metadata": {},
     "output_type": "display_data"
    },
    {
     "data": {
      "text/html": [
       "<span style=\"color:cyan\"> |-conv_3: 64</span>"
      ],
      "text/plain": [
       "<IPython.core.display.HTML object>"
      ]
     },
     "metadata": {},
     "output_type": "display_data"
    },
    {
     "data": {
      "text/html": [
       "<span style=\"color:blue\"> |-dropout_1: 0.2</span>"
      ],
      "text/plain": [
       "<IPython.core.display.HTML object>"
      ]
     },
     "metadata": {},
     "output_type": "display_data"
    },
    {
     "data": {
      "text/html": [
       "<span style=\"color:cyan\"> |-dropout_2: 0.0</span>"
      ],
      "text/plain": [
       "<IPython.core.display.HTML object>"
      ]
     },
     "metadata": {},
     "output_type": "display_data"
    },
    {
     "data": {
      "text/html": [
       "<span style=\"color:blue\"> |-dropout_3: 0.2</span>"
      ],
      "text/plain": [
       "<IPython.core.display.HTML object>"
      ]
     },
     "metadata": {},
     "output_type": "display_data"
    },
    {
     "data": {
      "text/html": [
       "<span style=\"color:cyan\"> |-dropout_4: 0.0</span>"
      ],
      "text/plain": [
       "<IPython.core.display.HTML object>"
      ]
     },
     "metadata": {},
     "output_type": "display_data"
    },
    {
     "data": {
      "text/html": [
       "<span style=\"color:blue\"> |-units: 640</span>"
      ],
      "text/plain": [
       "<IPython.core.display.HTML object>"
      ]
     },
     "metadata": {},
     "output_type": "display_data"
    },
    {
     "name": "stdout",
     "output_type": "stream",
     "text": [
      "WARNING:tensorflow:sample_weight modes were coerced from\n",
      "  ...\n",
      "    to  \n",
      "  ['...']\n",
      "WARNING:tensorflow:sample_weight modes were coerced from\n",
      "  ...\n",
      "    to  \n",
      "  ['...']\n",
      "Train for 400 steps, validate for 171 steps\n",
      "Epoch 1/50\n",
      "400/400 - 22s - loss: 2.6218 - accuracy: 0.5938 - val_loss: 0.6762 - val_accuracy: 0.5916\n",
      "Epoch 2/50\n",
      "400/400 - 21s - loss: 0.6753 - accuracy: 0.5946 - val_loss: 0.6764 - val_accuracy: 0.5913\n",
      "Epoch 3/50\n",
      "400/400 - 21s - loss: 0.6753 - accuracy: 0.5946 - val_loss: 0.6762 - val_accuracy: 0.5918\n",
      "Epoch 4/50\n",
      "400/400 - 21s - loss: 0.6753 - accuracy: 0.5946 - val_loss: 0.6762 - val_accuracy: 0.5919\n",
      "Epoch 5/50\n",
      "400/400 - 21s - loss: 0.6753 - accuracy: 0.5946 - val_loss: 0.6764 - val_accuracy: 0.5913\n",
      "Epoch 6/50\n",
      "400/400 - 21s - loss: 0.6753 - accuracy: 0.5946 - val_loss: 0.6763 - val_accuracy: 0.5915\n",
      "Epoch 7/50\n",
      "400/400 - 21s - loss: 0.6752 - accuracy: 0.5946 - val_loss: 0.6761 - val_accuracy: 0.5920\n",
      "Epoch 8/50\n",
      "400/400 - 21s - loss: 0.6752 - accuracy: 0.5946 - val_loss: 0.6763 - val_accuracy: 0.5915\n",
      "Epoch 9/50\n",
      "400/400 - 21s - loss: 0.6753 - accuracy: 0.5946 - val_loss: 0.6762 - val_accuracy: 0.5919\n",
      "Epoch 10/50\n",
      "400/400 - 21s - loss: 0.6754 - accuracy: 0.5946 - val_loss: 0.6763 - val_accuracy: 0.5916\n",
      "Epoch 11/50\n",
      "400/400 - 21s - loss: 0.6753 - accuracy: 0.5946 - val_loss: 0.6762 - val_accuracy: 0.5917\n",
      "Epoch 12/50\n",
      "400/400 - 21s - loss: 0.6752 - accuracy: 0.5946 - val_loss: 0.6762 - val_accuracy: 0.5918\n"
     ]
    },
    {
     "data": {
      "text/html": [
       "<span style=\"color:#4527A0\"><h1 style=\"font-size:18px\">Trial complete</h1></span>"
      ],
      "text/plain": [
       "<IPython.core.display.HTML object>"
      ]
     },
     "metadata": {},
     "output_type": "display_data"
    },
    {
     "data": {
      "text/html": [
       "<span style=\"color:#4527A0\"><h1 style=\"font-size:18px\">Trial summary</h1></span>"
      ],
      "text/plain": [
       "<IPython.core.display.HTML object>"
      ]
     },
     "metadata": {},
     "output_type": "display_data"
    },
    {
     "data": {
      "text/html": [
       "<span style=\"color:cyan\"> |-Trial ID: cb28c0af4d92fd9810af46f4b5dc734d</span>"
      ],
      "text/plain": [
       "<IPython.core.display.HTML object>"
      ]
     },
     "metadata": {},
     "output_type": "display_data"
    },
    {
     "data": {
      "text/html": [
       "<span style=\"color:cyan\"> |-Score: 0.5920000076293945</span>"
      ],
      "text/plain": [
       "<IPython.core.display.HTML object>"
      ]
     },
     "metadata": {},
     "output_type": "display_data"
    },
    {
     "data": {
      "text/html": [
       "<span style=\"color:cyan\"> |-Best step: 0</span>"
      ],
      "text/plain": [
       "<IPython.core.display.HTML object>"
      ]
     },
     "metadata": {},
     "output_type": "display_data"
    },
    {
     "data": {
      "text/html": [
       "<span style=\"color:#7E57C2\"><h2 style=\"font-size:16px\">Hyperparameters:</h2></span>"
      ],
      "text/plain": [
       "<IPython.core.display.HTML object>"
      ]
     },
     "metadata": {},
     "output_type": "display_data"
    },
    {
     "data": {
      "text/html": [
       "<span style=\"color:cyan\"> |-conv_1: 16</span>"
      ],
      "text/plain": [
       "<IPython.core.display.HTML object>"
      ]
     },
     "metadata": {},
     "output_type": "display_data"
    },
    {
     "data": {
      "text/html": [
       "<span style=\"color:blue\"> |-conv_2: 32</span>"
      ],
      "text/plain": [
       "<IPython.core.display.HTML object>"
      ]
     },
     "metadata": {},
     "output_type": "display_data"
    },
    {
     "data": {
      "text/html": [
       "<span style=\"color:cyan\"> |-conv_3: 64</span>"
      ],
      "text/plain": [
       "<IPython.core.display.HTML object>"
      ]
     },
     "metadata": {},
     "output_type": "display_data"
    },
    {
     "data": {
      "text/html": [
       "<span style=\"color:blue\"> |-dropout_1: 0.4</span>"
      ],
      "text/plain": [
       "<IPython.core.display.HTML object>"
      ]
     },
     "metadata": {},
     "output_type": "display_data"
    },
    {
     "data": {
      "text/html": [
       "<span style=\"color:cyan\"> |-dropout_2: 0.5</span>"
      ],
      "text/plain": [
       "<IPython.core.display.HTML object>"
      ]
     },
     "metadata": {},
     "output_type": "display_data"
    },
    {
     "data": {
      "text/html": [
       "<span style=\"color:blue\"> |-dropout_3: 0.30000000000000004</span>"
      ],
      "text/plain": [
       "<IPython.core.display.HTML object>"
      ]
     },
     "metadata": {},
     "output_type": "display_data"
    },
    {
     "data": {
      "text/html": [
       "<span style=\"color:cyan\"> |-dropout_4: 0.2</span>"
      ],
      "text/plain": [
       "<IPython.core.display.HTML object>"
      ]
     },
     "metadata": {},
     "output_type": "display_data"
    },
    {
     "data": {
      "text/html": [
       "<span style=\"color:blue\"> |-units: 896</span>"
      ],
      "text/plain": [
       "<IPython.core.display.HTML object>"
      ]
     },
     "metadata": {},
     "output_type": "display_data"
    },
    {
     "name": "stdout",
     "output_type": "stream",
     "text": [
      "WARNING:tensorflow:sample_weight modes were coerced from\n",
      "  ...\n",
      "    to  \n",
      "  ['...']\n",
      "WARNING:tensorflow:sample_weight modes were coerced from\n",
      "  ...\n",
      "    to  \n",
      "  ['...']\n",
      "Train for 400 steps, validate for 171 steps\n",
      "Epoch 1/50\n",
      "400/400 - 22s - loss: 1.7541 - accuracy: 0.7245 - val_loss: 0.4743 - val_accuracy: 0.7427\n",
      "Epoch 2/50\n",
      "400/400 - 22s - loss: 0.4631 - accuracy: 0.7703 - val_loss: 0.4693 - val_accuracy: 0.7415\n",
      "Epoch 3/50\n",
      "400/400 - 22s - loss: 0.4416 - accuracy: 0.7884 - val_loss: 0.4256 - val_accuracy: 0.7910\n",
      "Epoch 4/50\n",
      "400/400 - 22s - loss: 0.4227 - accuracy: 0.7994 - val_loss: 0.4042 - val_accuracy: 0.8071\n",
      "Epoch 5/50\n",
      "400/400 - 22s - loss: 0.4083 - accuracy: 0.8086 - val_loss: 0.3821 - val_accuracy: 0.8084\n",
      "Epoch 6/50\n",
      "400/400 - 22s - loss: 0.3907 - accuracy: 0.8203 - val_loss: 0.3682 - val_accuracy: 0.8246\n",
      "Epoch 7/50\n",
      "400/400 - 21s - loss: 0.3732 - accuracy: 0.8288 - val_loss: 0.3604 - val_accuracy: 0.8156\n",
      "Epoch 8/50\n",
      "400/400 - 22s - loss: 0.3610 - accuracy: 0.8354 - val_loss: 0.3404 - val_accuracy: 0.8563\n",
      "Epoch 9/50\n",
      "400/400 - 21s - loss: 0.3479 - accuracy: 0.8423 - val_loss: 0.3307 - val_accuracy: 0.8508\n",
      "Epoch 10/50\n",
      "400/400 - 22s - loss: 0.3328 - accuracy: 0.8500 - val_loss: 0.3203 - val_accuracy: 0.8603\n",
      "Epoch 11/50\n",
      "400/400 - 21s - loss: 0.3233 - accuracy: 0.8534 - val_loss: 0.3633 - val_accuracy: 0.8470\n",
      "Epoch 12/50\n",
      "400/400 - 22s - loss: 0.3079 - accuracy: 0.8642 - val_loss: 0.2847 - val_accuracy: 0.8788\n",
      "Epoch 13/50\n",
      "400/400 - 21s - loss: 0.2973 - accuracy: 0.8699 - val_loss: 0.2993 - val_accuracy: 0.8703\n",
      "Epoch 14/50\n",
      "400/400 - 21s - loss: 0.2949 - accuracy: 0.8706 - val_loss: 0.2863 - val_accuracy: 0.8624\n",
      "Epoch 15/50\n",
      "400/400 - 21s - loss: 0.2850 - accuracy: 0.8770 - val_loss: 0.3171 - val_accuracy: 0.8297\n",
      "Epoch 16/50\n",
      "400/400 - 21s - loss: 0.2744 - accuracy: 0.8787 - val_loss: 0.2771 - val_accuracy: 0.8689\n",
      "Epoch 17/50\n",
      "400/400 - 21s - loss: 0.2604 - accuracy: 0.8886 - val_loss: 0.2908 - val_accuracy: 0.8550\n"
     ]
    },
    {
     "data": {
      "text/html": [
       "<span style=\"color:#4527A0\"><h1 style=\"font-size:18px\">Trial complete</h1></span>"
      ],
      "text/plain": [
       "<IPython.core.display.HTML object>"
      ]
     },
     "metadata": {},
     "output_type": "display_data"
    },
    {
     "data": {
      "text/html": [
       "<span style=\"color:#4527A0\"><h1 style=\"font-size:18px\">Trial summary</h1></span>"
      ],
      "text/plain": [
       "<IPython.core.display.HTML object>"
      ]
     },
     "metadata": {},
     "output_type": "display_data"
    },
    {
     "data": {
      "text/html": [
       "<span style=\"color:cyan\"> |-Trial ID: 7b765a3358c882baaf4165e374e25f50</span>"
      ],
      "text/plain": [
       "<IPython.core.display.HTML object>"
      ]
     },
     "metadata": {},
     "output_type": "display_data"
    },
    {
     "data": {
      "text/html": [
       "<span style=\"color:cyan\"> |-Score: 0.8788114190101624</span>"
      ],
      "text/plain": [
       "<IPython.core.display.HTML object>"
      ]
     },
     "metadata": {},
     "output_type": "display_data"
    },
    {
     "data": {
      "text/html": [
       "<span style=\"color:cyan\"> |-Best step: 0</span>"
      ],
      "text/plain": [
       "<IPython.core.display.HTML object>"
      ]
     },
     "metadata": {},
     "output_type": "display_data"
    },
    {
     "data": {
      "text/html": [
       "<span style=\"color:#7E57C2\"><h2 style=\"font-size:16px\">Hyperparameters:</h2></span>"
      ],
      "text/plain": [
       "<IPython.core.display.HTML object>"
      ]
     },
     "metadata": {},
     "output_type": "display_data"
    },
    {
     "data": {
      "text/html": [
       "<span style=\"color:cyan\"> |-conv_1: 32</span>"
      ],
      "text/plain": [
       "<IPython.core.display.HTML object>"
      ]
     },
     "metadata": {},
     "output_type": "display_data"
    },
    {
     "data": {
      "text/html": [
       "<span style=\"color:blue\"> |-conv_2: 64</span>"
      ],
      "text/plain": [
       "<IPython.core.display.HTML object>"
      ]
     },
     "metadata": {},
     "output_type": "display_data"
    },
    {
     "data": {
      "text/html": [
       "<span style=\"color:cyan\"> |-conv_3: 128</span>"
      ],
      "text/plain": [
       "<IPython.core.display.HTML object>"
      ]
     },
     "metadata": {},
     "output_type": "display_data"
    },
    {
     "data": {
      "text/html": [
       "<span style=\"color:blue\"> |-dropout_1: 0.1</span>"
      ],
      "text/plain": [
       "<IPython.core.display.HTML object>"
      ]
     },
     "metadata": {},
     "output_type": "display_data"
    },
    {
     "data": {
      "text/html": [
       "<span style=\"color:cyan\"> |-dropout_2: 0.4</span>"
      ],
      "text/plain": [
       "<IPython.core.display.HTML object>"
      ]
     },
     "metadata": {},
     "output_type": "display_data"
    },
    {
     "data": {
      "text/html": [
       "<span style=\"color:blue\"> |-dropout_3: 0.1</span>"
      ],
      "text/plain": [
       "<IPython.core.display.HTML object>"
      ]
     },
     "metadata": {},
     "output_type": "display_data"
    },
    {
     "data": {
      "text/html": [
       "<span style=\"color:cyan\"> |-dropout_4: 0.1</span>"
      ],
      "text/plain": [
       "<IPython.core.display.HTML object>"
      ]
     },
     "metadata": {},
     "output_type": "display_data"
    },
    {
     "data": {
      "text/html": [
       "<span style=\"color:blue\"> |-units: 256</span>"
      ],
      "text/plain": [
       "<IPython.core.display.HTML object>"
      ]
     },
     "metadata": {},
     "output_type": "display_data"
    },
    {
     "name": "stdout",
     "output_type": "stream",
     "text": [
      "WARNING:tensorflow:sample_weight modes were coerced from\n",
      "  ...\n",
      "    to  \n",
      "  ['...']\n",
      "WARNING:tensorflow:sample_weight modes were coerced from\n",
      "  ...\n",
      "    to  \n",
      "  ['...']\n",
      "Train for 400 steps, validate for 171 steps\n",
      "Epoch 1/50\n",
      "400/400 - 22s - loss: 1.6936 - accuracy: 0.6670 - val_loss: 0.5431 - val_accuracy: 0.7600\n",
      "Epoch 2/50\n",
      "400/400 - 21s - loss: 0.4786 - accuracy: 0.7667 - val_loss: 0.4647 - val_accuracy: 0.7727\n",
      "Epoch 3/50\n",
      "400/400 - 21s - loss: 0.4606 - accuracy: 0.7771 - val_loss: 0.4537 - val_accuracy: 0.7730\n",
      "Epoch 4/50\n",
      "400/400 - 21s - loss: 0.4473 - accuracy: 0.7858 - val_loss: 0.4534 - val_accuracy: 0.7702\n",
      "Epoch 5/50\n",
      "400/400 - 21s - loss: 0.4381 - accuracy: 0.7910 - val_loss: 0.4538 - val_accuracy: 0.7612\n",
      "Epoch 6/50\n",
      "400/400 - 21s - loss: 0.4258 - accuracy: 0.7978 - val_loss: 0.4305 - val_accuracy: 0.7696\n",
      "Epoch 7/50\n",
      "400/400 - 21s - loss: 0.4145 - accuracy: 0.8044 - val_loss: 0.4123 - val_accuracy: 0.8048\n",
      "Epoch 8/50\n",
      "400/400 - 21s - loss: 0.4005 - accuracy: 0.8127 - val_loss: 0.4000 - val_accuracy: 0.7893\n",
      "Epoch 9/50\n",
      "400/400 - 21s - loss: 0.3851 - accuracy: 0.8222 - val_loss: 0.3706 - val_accuracy: 0.8114\n",
      "Epoch 10/50\n",
      "400/400 - 21s - loss: 0.3682 - accuracy: 0.8346 - val_loss: 0.3598 - val_accuracy: 0.8062\n",
      "Epoch 11/50\n",
      "400/400 - 21s - loss: 0.3547 - accuracy: 0.8428 - val_loss: 0.4243 - val_accuracy: 0.7478\n",
      "Epoch 12/50\n",
      "400/400 - 21s - loss: 0.3403 - accuracy: 0.8484 - val_loss: 0.4002 - val_accuracy: 0.7583\n",
      "Epoch 13/50\n",
      "400/400 - 21s - loss: 0.3231 - accuracy: 0.8585 - val_loss: 0.3611 - val_accuracy: 0.7891\n",
      "Epoch 14/50\n",
      "400/400 - 21s - loss: 0.3203 - accuracy: 0.8597 - val_loss: 0.2969 - val_accuracy: 0.8568\n",
      "Epoch 15/50\n",
      "400/400 - 21s - loss: 0.3135 - accuracy: 0.8635 - val_loss: 0.3175 - val_accuracy: 0.8270\n",
      "Epoch 16/50\n",
      "400/400 - 21s - loss: 0.3012 - accuracy: 0.8680 - val_loss: 0.3455 - val_accuracy: 0.8171\n",
      "Epoch 17/50\n",
      "400/400 - 21s - loss: 0.2957 - accuracy: 0.8719 - val_loss: 0.3536 - val_accuracy: 0.7851\n",
      "Epoch 18/50\n",
      "400/400 - 21s - loss: 0.2933 - accuracy: 0.8721 - val_loss: 0.3272 - val_accuracy: 0.8173\n",
      "Epoch 19/50\n",
      "400/400 - 21s - loss: 0.2861 - accuracy: 0.8756 - val_loss: 0.3288 - val_accuracy: 0.8138\n"
     ]
    },
    {
     "data": {
      "text/html": [
       "<span style=\"color:#4527A0\"><h1 style=\"font-size:18px\">Trial complete</h1></span>"
      ],
      "text/plain": [
       "<IPython.core.display.HTML object>"
      ]
     },
     "metadata": {},
     "output_type": "display_data"
    },
    {
     "data": {
      "text/html": [
       "<span style=\"color:#4527A0\"><h1 style=\"font-size:18px\">Trial summary</h1></span>"
      ],
      "text/plain": [
       "<IPython.core.display.HTML object>"
      ]
     },
     "metadata": {},
     "output_type": "display_data"
    },
    {
     "data": {
      "text/html": [
       "<span style=\"color:cyan\"> |-Trial ID: 6642b5783851388811dda929b3724914</span>"
      ],
      "text/plain": [
       "<IPython.core.display.HTML object>"
      ]
     },
     "metadata": {},
     "output_type": "display_data"
    },
    {
     "data": {
      "text/html": [
       "<span style=\"color:cyan\"> |-Score: 0.8567771315574646</span>"
      ],
      "text/plain": [
       "<IPython.core.display.HTML object>"
      ]
     },
     "metadata": {},
     "output_type": "display_data"
    },
    {
     "data": {
      "text/html": [
       "<span style=\"color:cyan\"> |-Best step: 0</span>"
      ],
      "text/plain": [
       "<IPython.core.display.HTML object>"
      ]
     },
     "metadata": {},
     "output_type": "display_data"
    },
    {
     "data": {
      "text/html": [
       "<span style=\"color:#7E57C2\"><h2 style=\"font-size:16px\">Hyperparameters:</h2></span>"
      ],
      "text/plain": [
       "<IPython.core.display.HTML object>"
      ]
     },
     "metadata": {},
     "output_type": "display_data"
    },
    {
     "data": {
      "text/html": [
       "<span style=\"color:cyan\"> |-conv_1: 32</span>"
      ],
      "text/plain": [
       "<IPython.core.display.HTML object>"
      ]
     },
     "metadata": {},
     "output_type": "display_data"
    },
    {
     "data": {
      "text/html": [
       "<span style=\"color:blue\"> |-conv_2: 32</span>"
      ],
      "text/plain": [
       "<IPython.core.display.HTML object>"
      ]
     },
     "metadata": {},
     "output_type": "display_data"
    },
    {
     "data": {
      "text/html": [
       "<span style=\"color:cyan\"> |-conv_3: 128</span>"
      ],
      "text/plain": [
       "<IPython.core.display.HTML object>"
      ]
     },
     "metadata": {},
     "output_type": "display_data"
    },
    {
     "data": {
      "text/html": [
       "<span style=\"color:blue\"> |-dropout_1: 0.2</span>"
      ],
      "text/plain": [
       "<IPython.core.display.HTML object>"
      ]
     },
     "metadata": {},
     "output_type": "display_data"
    },
    {
     "data": {
      "text/html": [
       "<span style=\"color:cyan\"> |-dropout_2: 0.4</span>"
      ],
      "text/plain": [
       "<IPython.core.display.HTML object>"
      ]
     },
     "metadata": {},
     "output_type": "display_data"
    },
    {
     "data": {
      "text/html": [
       "<span style=\"color:blue\"> |-dropout_3: 0.4</span>"
      ],
      "text/plain": [
       "<IPython.core.display.HTML object>"
      ]
     },
     "metadata": {},
     "output_type": "display_data"
    },
    {
     "data": {
      "text/html": [
       "<span style=\"color:cyan\"> |-dropout_4: 0.2</span>"
      ],
      "text/plain": [
       "<IPython.core.display.HTML object>"
      ]
     },
     "metadata": {},
     "output_type": "display_data"
    },
    {
     "data": {
      "text/html": [
       "<span style=\"color:blue\"> |-units: 512</span>"
      ],
      "text/plain": [
       "<IPython.core.display.HTML object>"
      ]
     },
     "metadata": {},
     "output_type": "display_data"
    },
    {
     "name": "stdout",
     "output_type": "stream",
     "text": [
      "WARNING:tensorflow:sample_weight modes were coerced from\n",
      "  ...\n",
      "    to  \n",
      "  ['...']\n",
      "WARNING:tensorflow:sample_weight modes were coerced from\n",
      "  ...\n",
      "    to  \n",
      "  ['...']\n",
      "Train for 400 steps, validate for 171 steps\n",
      "Epoch 1/50\n",
      "400/400 - 22s - loss: 1.0796 - accuracy: 0.6972 - val_loss: 0.4865 - val_accuracy: 0.7749\n",
      "Epoch 2/50\n",
      "400/400 - 21s - loss: 0.4560 - accuracy: 0.7776 - val_loss: 0.4780 - val_accuracy: 0.7617\n",
      "Epoch 3/50\n",
      "400/400 - 21s - loss: 0.4418 - accuracy: 0.7870 - val_loss: 0.4720 - val_accuracy: 0.7678\n",
      "Epoch 4/50\n",
      "400/400 - 21s - loss: 0.4328 - accuracy: 0.7919 - val_loss: 0.4640 - val_accuracy: 0.7566\n",
      "Epoch 5/50\n",
      "400/400 - 21s - loss: 0.4223 - accuracy: 0.7992 - val_loss: 0.4548 - val_accuracy: 0.7663\n",
      "Epoch 6/50\n",
      "400/400 - 21s - loss: 0.4116 - accuracy: 0.8071 - val_loss: 0.4594 - val_accuracy: 0.7783\n",
      "Epoch 7/50\n",
      "400/400 - 21s - loss: 0.4031 - accuracy: 0.8110 - val_loss: 0.4303 - val_accuracy: 0.8042\n",
      "Epoch 8/50\n",
      "400/400 - 21s - loss: 0.3947 - accuracy: 0.8132 - val_loss: 0.4184 - val_accuracy: 0.8151\n",
      "Epoch 9/50\n",
      "400/400 - 21s - loss: 0.3834 - accuracy: 0.8203 - val_loss: 0.4064 - val_accuracy: 0.8135\n",
      "Epoch 10/50\n",
      "400/400 - 21s - loss: 0.3740 - accuracy: 0.8263 - val_loss: 0.4178 - val_accuracy: 0.8341\n",
      "Epoch 11/50\n",
      "400/400 - 21s - loss: 0.3680 - accuracy: 0.8300 - val_loss: 0.3856 - val_accuracy: 0.8411\n",
      "Epoch 12/50\n",
      "400/400 - 21s - loss: 0.3540 - accuracy: 0.8379 - val_loss: 0.3697 - val_accuracy: 0.8433\n",
      "Epoch 13/50\n",
      "400/400 - 21s - loss: 0.3459 - accuracy: 0.8425 - val_loss: 0.3708 - val_accuracy: 0.8380\n",
      "Epoch 14/50\n",
      "400/400 - 21s - loss: 0.3356 - accuracy: 0.8477 - val_loss: 0.3718 - val_accuracy: 0.8383\n",
      "Epoch 15/50\n",
      "400/400 - 21s - loss: 0.3276 - accuracy: 0.8538 - val_loss: 0.3574 - val_accuracy: 0.8433\n",
      "Epoch 16/50\n",
      "400/400 - 21s - loss: 0.3204 - accuracy: 0.8571 - val_loss: 0.3531 - val_accuracy: 0.8437\n",
      "Epoch 17/50\n",
      "400/400 - 21s - loss: 0.3047 - accuracy: 0.8663 - val_loss: 0.3579 - val_accuracy: 0.8412\n",
      "Epoch 18/50\n",
      "400/400 - 21s - loss: 0.2895 - accuracy: 0.8732 - val_loss: 0.3589 - val_accuracy: 0.8385\n",
      "Epoch 19/50\n",
      "400/400 - 21s - loss: 0.2886 - accuracy: 0.8724 - val_loss: 0.3519 - val_accuracy: 0.8261\n",
      "Epoch 20/50\n",
      "400/400 - 21s - loss: 0.2799 - accuracy: 0.8773 - val_loss: 0.3827 - val_accuracy: 0.8118\n",
      "Epoch 21/50\n",
      "400/400 - 21s - loss: 0.2750 - accuracy: 0.8807 - val_loss: 0.3783 - val_accuracy: 0.8014\n"
     ]
    },
    {
     "data": {
      "text/html": [
       "<span style=\"color:#4527A0\"><h1 style=\"font-size:18px\">Trial complete</h1></span>"
      ],
      "text/plain": [
       "<IPython.core.display.HTML object>"
      ]
     },
     "metadata": {},
     "output_type": "display_data"
    },
    {
     "data": {
      "text/html": [
       "<span style=\"color:#4527A0\"><h1 style=\"font-size:18px\">Trial summary</h1></span>"
      ],
      "text/plain": [
       "<IPython.core.display.HTML object>"
      ]
     },
     "metadata": {},
     "output_type": "display_data"
    },
    {
     "data": {
      "text/html": [
       "<span style=\"color:cyan\"> |-Trial ID: 52f6079ad1104692597b913fbbce162b</span>"
      ],
      "text/plain": [
       "<IPython.core.display.HTML object>"
      ]
     },
     "metadata": {},
     "output_type": "display_data"
    },
    {
     "data": {
      "text/html": [
       "<span style=\"color:cyan\"> |-Score: 0.8436571359634399</span>"
      ],
      "text/plain": [
       "<IPython.core.display.HTML object>"
      ]
     },
     "metadata": {},
     "output_type": "display_data"
    },
    {
     "data": {
      "text/html": [
       "<span style=\"color:cyan\"> |-Best step: 0</span>"
      ],
      "text/plain": [
       "<IPython.core.display.HTML object>"
      ]
     },
     "metadata": {},
     "output_type": "display_data"
    },
    {
     "data": {
      "text/html": [
       "<span style=\"color:#7E57C2\"><h2 style=\"font-size:16px\">Hyperparameters:</h2></span>"
      ],
      "text/plain": [
       "<IPython.core.display.HTML object>"
      ]
     },
     "metadata": {},
     "output_type": "display_data"
    },
    {
     "data": {
      "text/html": [
       "<span style=\"color:cyan\"> |-conv_1: 16</span>"
      ],
      "text/plain": [
       "<IPython.core.display.HTML object>"
      ]
     },
     "metadata": {},
     "output_type": "display_data"
    },
    {
     "data": {
      "text/html": [
       "<span style=\"color:blue\"> |-conv_2: 32</span>"
      ],
      "text/plain": [
       "<IPython.core.display.HTML object>"
      ]
     },
     "metadata": {},
     "output_type": "display_data"
    },
    {
     "data": {
      "text/html": [
       "<span style=\"color:cyan\"> |-conv_3: 128</span>"
      ],
      "text/plain": [
       "<IPython.core.display.HTML object>"
      ]
     },
     "metadata": {},
     "output_type": "display_data"
    },
    {
     "data": {
      "text/html": [
       "<span style=\"color:blue\"> |-dropout_1: 0.5</span>"
      ],
      "text/plain": [
       "<IPython.core.display.HTML object>"
      ]
     },
     "metadata": {},
     "output_type": "display_data"
    },
    {
     "data": {
      "text/html": [
       "<span style=\"color:cyan\"> |-dropout_2: 0.1</span>"
      ],
      "text/plain": [
       "<IPython.core.display.HTML object>"
      ]
     },
     "metadata": {},
     "output_type": "display_data"
    },
    {
     "data": {
      "text/html": [
       "<span style=\"color:blue\"> |-dropout_3: 0.1</span>"
      ],
      "text/plain": [
       "<IPython.core.display.HTML object>"
      ]
     },
     "metadata": {},
     "output_type": "display_data"
    },
    {
     "data": {
      "text/html": [
       "<span style=\"color:cyan\"> |-dropout_4: 0.1</span>"
      ],
      "text/plain": [
       "<IPython.core.display.HTML object>"
      ]
     },
     "metadata": {},
     "output_type": "display_data"
    },
    {
     "data": {
      "text/html": [
       "<span style=\"color:blue\"> |-units: 256</span>"
      ],
      "text/plain": [
       "<IPython.core.display.HTML object>"
      ]
     },
     "metadata": {},
     "output_type": "display_data"
    },
    {
     "name": "stdout",
     "output_type": "stream",
     "text": [
      "WARNING:tensorflow:sample_weight modes were coerced from\n",
      "  ...\n",
      "    to  \n",
      "  ['...']\n",
      "WARNING:tensorflow:sample_weight modes were coerced from\n",
      "  ...\n",
      "    to  \n",
      "  ['...']\n",
      "Train for 400 steps, validate for 171 steps\n",
      "Epoch 1/50\n",
      "400/400 - 23s - loss: 4.1239 - accuracy: 0.6860 - val_loss: 0.7761 - val_accuracy: 0.6060\n",
      "Epoch 2/50\n",
      "400/400 - 22s - loss: 0.4709 - accuracy: 0.7676 - val_loss: 0.7810 - val_accuracy: 0.6772\n",
      "Epoch 3/50\n",
      "400/400 - 22s - loss: 0.4584 - accuracy: 0.7761 - val_loss: 0.7220 - val_accuracy: 0.7103\n",
      "Epoch 4/50\n",
      "400/400 - 22s - loss: 0.4412 - accuracy: 0.7872 - val_loss: 0.5836 - val_accuracy: 0.7833\n",
      "Epoch 5/50\n",
      "400/400 - 22s - loss: 0.4255 - accuracy: 0.8000 - val_loss: 0.5117 - val_accuracy: 0.8037\n",
      "Epoch 6/50\n",
      "400/400 - 22s - loss: 0.4087 - accuracy: 0.8086 - val_loss: 0.5281 - val_accuracy: 0.7839\n",
      "Epoch 7/50\n",
      "400/400 - 22s - loss: 0.3876 - accuracy: 0.8217 - val_loss: 0.3967 - val_accuracy: 0.8166\n",
      "Epoch 8/50\n",
      "400/400 - 22s - loss: 0.3920 - accuracy: 0.8163 - val_loss: 0.5082 - val_accuracy: 0.7940\n",
      "Epoch 9/50\n",
      "400/400 - 22s - loss: 0.4308 - accuracy: 0.7902 - val_loss: 0.5130 - val_accuracy: 0.8002\n",
      "Epoch 10/50\n",
      "400/400 - 22s - loss: 0.4043 - accuracy: 0.8078 - val_loss: 0.4883 - val_accuracy: 0.8043\n",
      "Epoch 11/50\n",
      "400/400 - 22s - loss: 0.3999 - accuracy: 0.8102 - val_loss: 0.4527 - val_accuracy: 0.8128\n",
      "Epoch 12/50\n",
      "400/400 - 22s - loss: 0.3753 - accuracy: 0.8249 - val_loss: 0.3541 - val_accuracy: 0.8470\n",
      "Epoch 13/50\n",
      "400/400 - 22s - loss: 0.3609 - accuracy: 0.8328 - val_loss: 0.3259 - val_accuracy: 0.8513\n",
      "Epoch 14/50\n",
      "400/400 - 22s - loss: 0.3500 - accuracy: 0.8399 - val_loss: 0.3347 - val_accuracy: 0.8413\n",
      "Epoch 15/50\n",
      "400/400 - 22s - loss: 0.3438 - accuracy: 0.8417 - val_loss: 0.3168 - val_accuracy: 0.8566\n",
      "Epoch 16/50\n",
      "400/400 - 22s - loss: 0.3318 - accuracy: 0.8483 - val_loss: 0.3024 - val_accuracy: 0.8602\n",
      "Epoch 17/50\n",
      "400/400 - 22s - loss: 0.3263 - accuracy: 0.8507 - val_loss: 0.3291 - val_accuracy: 0.8677\n",
      "Epoch 18/50\n",
      "400/400 - 22s - loss: 0.3179 - accuracy: 0.8573 - val_loss: 0.2910 - val_accuracy: 0.8774\n",
      "Epoch 19/50\n",
      "400/400 - 22s - loss: 0.3087 - accuracy: 0.8621 - val_loss: 0.3131 - val_accuracy: 0.8663\n",
      "Epoch 20/50\n",
      "400/400 - 22s - loss: 0.3007 - accuracy: 0.8641 - val_loss: 0.3169 - val_accuracy: 0.8774\n",
      "Epoch 21/50\n",
      "400/400 - 22s - loss: 0.2949 - accuracy: 0.8695 - val_loss: 0.2929 - val_accuracy: 0.8815\n",
      "Epoch 22/50\n",
      "400/400 - 22s - loss: 0.2911 - accuracy: 0.8725 - val_loss: 0.2857 - val_accuracy: 0.8886\n",
      "Epoch 23/50\n",
      "400/400 - 22s - loss: 0.2837 - accuracy: 0.8763 - val_loss: 0.3012 - val_accuracy: 0.8776\n",
      "Epoch 24/50\n",
      "400/400 - 22s - loss: 0.2756 - accuracy: 0.8792 - val_loss: 0.3011 - val_accuracy: 0.8804\n",
      "Epoch 25/50\n",
      "400/400 - 22s - loss: 0.2764 - accuracy: 0.8777 - val_loss: 0.3096 - val_accuracy: 0.8618\n",
      "Epoch 26/50\n",
      "400/400 - 22s - loss: 0.2691 - accuracy: 0.8821 - val_loss: 0.2819 - val_accuracy: 0.8725\n",
      "Epoch 27/50\n",
      "400/400 - 22s - loss: 0.2586 - accuracy: 0.8866 - val_loss: 0.2970 - val_accuracy: 0.8777\n"
     ]
    },
    {
     "data": {
      "text/html": [
       "<span style=\"color:#4527A0\"><h1 style=\"font-size:18px\">Trial complete</h1></span>"
      ],
      "text/plain": [
       "<IPython.core.display.HTML object>"
      ]
     },
     "metadata": {},
     "output_type": "display_data"
    },
    {
     "data": {
      "text/html": [
       "<span style=\"color:#4527A0\"><h1 style=\"font-size:18px\">Trial summary</h1></span>"
      ],
      "text/plain": [
       "<IPython.core.display.HTML object>"
      ]
     },
     "metadata": {},
     "output_type": "display_data"
    },
    {
     "data": {
      "text/html": [
       "<span style=\"color:cyan\"> |-Trial ID: 332cea05b71ef7fa543690928c7b8ccc</span>"
      ],
      "text/plain": [
       "<IPython.core.display.HTML object>"
      ]
     },
     "metadata": {},
     "output_type": "display_data"
    },
    {
     "data": {
      "text/html": [
       "<span style=\"color:cyan\"> |-Score: 0.8886399865150452</span>"
      ],
      "text/plain": [
       "<IPython.core.display.HTML object>"
      ]
     },
     "metadata": {},
     "output_type": "display_data"
    },
    {
     "data": {
      "text/html": [
       "<span style=\"color:cyan\"> |-Best step: 0</span>"
      ],
      "text/plain": [
       "<IPython.core.display.HTML object>"
      ]
     },
     "metadata": {},
     "output_type": "display_data"
    },
    {
     "data": {
      "text/html": [
       "<span style=\"color:#7E57C2\"><h2 style=\"font-size:16px\">Hyperparameters:</h2></span>"
      ],
      "text/plain": [
       "<IPython.core.display.HTML object>"
      ]
     },
     "metadata": {},
     "output_type": "display_data"
    },
    {
     "data": {
      "text/html": [
       "<span style=\"color:cyan\"> |-conv_1: 32</span>"
      ],
      "text/plain": [
       "<IPython.core.display.HTML object>"
      ]
     },
     "metadata": {},
     "output_type": "display_data"
    },
    {
     "data": {
      "text/html": [
       "<span style=\"color:blue\"> |-conv_2: 64</span>"
      ],
      "text/plain": [
       "<IPython.core.display.HTML object>"
      ]
     },
     "metadata": {},
     "output_type": "display_data"
    },
    {
     "data": {
      "text/html": [
       "<span style=\"color:cyan\"> |-conv_3: 128</span>"
      ],
      "text/plain": [
       "<IPython.core.display.HTML object>"
      ]
     },
     "metadata": {},
     "output_type": "display_data"
    },
    {
     "data": {
      "text/html": [
       "<span style=\"color:blue\"> |-dropout_1: 0.4</span>"
      ],
      "text/plain": [
       "<IPython.core.display.HTML object>"
      ]
     },
     "metadata": {},
     "output_type": "display_data"
    },
    {
     "data": {
      "text/html": [
       "<span style=\"color:cyan\"> |-dropout_2: 0.30000000000000004</span>"
      ],
      "text/plain": [
       "<IPython.core.display.HTML object>"
      ]
     },
     "metadata": {},
     "output_type": "display_data"
    },
    {
     "data": {
      "text/html": [
       "<span style=\"color:blue\"> |-dropout_3: 0.30000000000000004</span>"
      ],
      "text/plain": [
       "<IPython.core.display.HTML object>"
      ]
     },
     "metadata": {},
     "output_type": "display_data"
    },
    {
     "data": {
      "text/html": [
       "<span style=\"color:cyan\"> |-dropout_4: 0.2</span>"
      ],
      "text/plain": [
       "<IPython.core.display.HTML object>"
      ]
     },
     "metadata": {},
     "output_type": "display_data"
    },
    {
     "data": {
      "text/html": [
       "<span style=\"color:blue\"> |-units: 896</span>"
      ],
      "text/plain": [
       "<IPython.core.display.HTML object>"
      ]
     },
     "metadata": {},
     "output_type": "display_data"
    },
    {
     "name": "stdout",
     "output_type": "stream",
     "text": [
      "WARNING:tensorflow:sample_weight modes were coerced from\n",
      "  ...\n",
      "    to  \n",
      "  ['...']\n",
      "WARNING:tensorflow:sample_weight modes were coerced from\n",
      "  ...\n",
      "    to  \n",
      "  ['...']\n",
      "Train for 400 steps, validate for 171 steps\n",
      "Epoch 1/50\n",
      "400/400 - 22s - loss: 0.7431 - accuracy: 0.7017 - val_loss: 0.4807 - val_accuracy: 0.7243\n",
      "Epoch 2/50\n",
      "400/400 - 21s - loss: 0.4580 - accuracy: 0.7806 - val_loss: 0.4692 - val_accuracy: 0.7255\n",
      "Epoch 3/50\n",
      "400/400 - 21s - loss: 0.4413 - accuracy: 0.7889 - val_loss: 0.4577 - val_accuracy: 0.7361\n",
      "Epoch 4/50\n",
      "400/400 - 21s - loss: 0.4308 - accuracy: 0.7961 - val_loss: 0.4550 - val_accuracy: 0.7461\n",
      "Epoch 5/50\n",
      "400/400 - 21s - loss: 0.4201 - accuracy: 0.8031 - val_loss: 0.4431 - val_accuracy: 0.7670\n",
      "Epoch 6/50\n",
      "400/400 - 21s - loss: 0.4103 - accuracy: 0.8120 - val_loss: 0.4206 - val_accuracy: 0.7869\n",
      "Epoch 7/50\n",
      "400/400 - 21s - loss: 0.4016 - accuracy: 0.8144 - val_loss: 0.4180 - val_accuracy: 0.7824\n",
      "Epoch 8/50\n",
      "400/400 - 21s - loss: 0.3931 - accuracy: 0.8200 - val_loss: 0.4762 - val_accuracy: 0.7308\n",
      "Epoch 9/50\n",
      "400/400 - 21s - loss: 0.3892 - accuracy: 0.8203 - val_loss: 0.4631 - val_accuracy: 0.7399\n",
      "Epoch 10/50\n",
      "400/400 - 21s - loss: 0.3818 - accuracy: 0.8255 - val_loss: 0.4754 - val_accuracy: 0.7146\n",
      "Epoch 11/50\n",
      "400/400 - 21s - loss: 0.3747 - accuracy: 0.8274 - val_loss: 0.4650 - val_accuracy: 0.7589\n"
     ]
    },
    {
     "data": {
      "text/html": [
       "<span style=\"color:#4527A0\"><h1 style=\"font-size:18px\">Trial complete</h1></span>"
      ],
      "text/plain": [
       "<IPython.core.display.HTML object>"
      ]
     },
     "metadata": {},
     "output_type": "display_data"
    },
    {
     "data": {
      "text/html": [
       "<span style=\"color:#4527A0\"><h1 style=\"font-size:18px\">Trial summary</h1></span>"
      ],
      "text/plain": [
       "<IPython.core.display.HTML object>"
      ]
     },
     "metadata": {},
     "output_type": "display_data"
    },
    {
     "data": {
      "text/html": [
       "<span style=\"color:cyan\"> |-Trial ID: 987b72b1c7c3ca223e52f0f187204516</span>"
      ],
      "text/plain": [
       "<IPython.core.display.HTML object>"
      ]
     },
     "metadata": {},
     "output_type": "display_data"
    },
    {
     "data": {
      "text/html": [
       "<span style=\"color:cyan\"> |-Score: 0.7868800163269043</span>"
      ],
      "text/plain": [
       "<IPython.core.display.HTML object>"
      ]
     },
     "metadata": {},
     "output_type": "display_data"
    },
    {
     "data": {
      "text/html": [
       "<span style=\"color:cyan\"> |-Best step: 0</span>"
      ],
      "text/plain": [
       "<IPython.core.display.HTML object>"
      ]
     },
     "metadata": {},
     "output_type": "display_data"
    },
    {
     "data": {
      "text/html": [
       "<span style=\"color:#7E57C2\"><h2 style=\"font-size:16px\">Hyperparameters:</h2></span>"
      ],
      "text/plain": [
       "<IPython.core.display.HTML object>"
      ]
     },
     "metadata": {},
     "output_type": "display_data"
    },
    {
     "data": {
      "text/html": [
       "<span style=\"color:cyan\"> |-conv_1: 16</span>"
      ],
      "text/plain": [
       "<IPython.core.display.HTML object>"
      ]
     },
     "metadata": {},
     "output_type": "display_data"
    },
    {
     "data": {
      "text/html": [
       "<span style=\"color:blue\"> |-conv_2: 32</span>"
      ],
      "text/plain": [
       "<IPython.core.display.HTML object>"
      ]
     },
     "metadata": {},
     "output_type": "display_data"
    },
    {
     "data": {
      "text/html": [
       "<span style=\"color:cyan\"> |-conv_3: 64</span>"
      ],
      "text/plain": [
       "<IPython.core.display.HTML object>"
      ]
     },
     "metadata": {},
     "output_type": "display_data"
    },
    {
     "data": {
      "text/html": [
       "<span style=\"color:blue\"> |-dropout_1: 0.4</span>"
      ],
      "text/plain": [
       "<IPython.core.display.HTML object>"
      ]
     },
     "metadata": {},
     "output_type": "display_data"
    },
    {
     "data": {
      "text/html": [
       "<span style=\"color:cyan\"> |-dropout_2: 0.5</span>"
      ],
      "text/plain": [
       "<IPython.core.display.HTML object>"
      ]
     },
     "metadata": {},
     "output_type": "display_data"
    },
    {
     "data": {
      "text/html": [
       "<span style=\"color:blue\"> |-dropout_3: 0.2</span>"
      ],
      "text/plain": [
       "<IPython.core.display.HTML object>"
      ]
     },
     "metadata": {},
     "output_type": "display_data"
    },
    {
     "data": {
      "text/html": [
       "<span style=\"color:cyan\"> |-dropout_4: 0.30000000000000004</span>"
      ],
      "text/plain": [
       "<IPython.core.display.HTML object>"
      ]
     },
     "metadata": {},
     "output_type": "display_data"
    },
    {
     "data": {
      "text/html": [
       "<span style=\"color:blue\"> |-units: 128</span>"
      ],
      "text/plain": [
       "<IPython.core.display.HTML object>"
      ]
     },
     "metadata": {},
     "output_type": "display_data"
    },
    {
     "name": "stdout",
     "output_type": "stream",
     "text": [
      "WARNING:tensorflow:sample_weight modes were coerced from\n",
      "  ...\n",
      "    to  \n",
      "  ['...']\n",
      "WARNING:tensorflow:sample_weight modes were coerced from\n",
      "  ...\n",
      "    to  \n",
      "  ['...']\n",
      "Train for 400 steps, validate for 171 steps\n",
      "Epoch 1/50\n",
      "400/400 - 22s - loss: 3.3125 - accuracy: 0.6815 - val_loss: 0.5925 - val_accuracy: 0.7696\n",
      "Epoch 2/50\n",
      "400/400 - 21s - loss: 0.4738 - accuracy: 0.7689 - val_loss: 0.5282 - val_accuracy: 0.7861\n",
      "Epoch 3/50\n",
      "400/400 - 21s - loss: 0.4608 - accuracy: 0.7749 - val_loss: 0.5086 - val_accuracy: 0.7857\n",
      "Epoch 4/50\n",
      "400/400 - 21s - loss: 0.4516 - accuracy: 0.7805 - val_loss: 0.5046 - val_accuracy: 0.7966\n",
      "Epoch 5/50\n",
      "400/400 - 21s - loss: 0.4442 - accuracy: 0.7853 - val_loss: 0.4809 - val_accuracy: 0.8133\n",
      "Epoch 6/50\n",
      "400/400 - 21s - loss: 0.4308 - accuracy: 0.7929 - val_loss: 0.4546 - val_accuracy: 0.8271\n",
      "Epoch 7/50\n",
      "400/400 - 21s - loss: 0.4179 - accuracy: 0.8017 - val_loss: 0.4222 - val_accuracy: 0.8279\n",
      "Epoch 8/50\n",
      "400/400 - 21s - loss: 0.4072 - accuracy: 0.8092 - val_loss: 0.4228 - val_accuracy: 0.8397\n",
      "Epoch 9/50\n",
      "400/400 - 21s - loss: 0.4002 - accuracy: 0.8126 - val_loss: 0.4116 - val_accuracy: 0.8391\n",
      "Epoch 10/50\n",
      "400/400 - 21s - loss: 0.3936 - accuracy: 0.8184 - val_loss: 0.4016 - val_accuracy: 0.8357\n",
      "Epoch 11/50\n",
      "400/400 - 21s - loss: 0.3879 - accuracy: 0.8205 - val_loss: 0.3841 - val_accuracy: 0.8456\n",
      "Epoch 12/50\n",
      "400/400 - 21s - loss: 0.3787 - accuracy: 0.8243 - val_loss: 0.3653 - val_accuracy: 0.8536\n",
      "Epoch 13/50\n",
      "400/400 - 21s - loss: 0.3676 - accuracy: 0.8324 - val_loss: 0.3539 - val_accuracy: 0.8533\n",
      "Epoch 14/50\n",
      "400/400 - 21s - loss: 0.3665 - accuracy: 0.8317 - val_loss: 0.3620 - val_accuracy: 0.8478\n",
      "Epoch 15/50\n",
      "400/400 - 21s - loss: 0.3552 - accuracy: 0.8376 - val_loss: 0.3447 - val_accuracy: 0.8567\n",
      "Epoch 16/50\n",
      "400/400 - 21s - loss: 0.3496 - accuracy: 0.8407 - val_loss: 0.3309 - val_accuracy: 0.8493\n",
      "Epoch 17/50\n",
      "400/400 - 21s - loss: 0.3441 - accuracy: 0.8428 - val_loss: 0.3310 - val_accuracy: 0.8535\n",
      "Epoch 18/50\n",
      "400/400 - 21s - loss: 0.3404 - accuracy: 0.8469 - val_loss: 0.3030 - val_accuracy: 0.8674\n",
      "Epoch 19/50\n",
      "400/400 - 21s - loss: 0.3327 - accuracy: 0.8495 - val_loss: 0.3004 - val_accuracy: 0.8645\n",
      "Epoch 20/50\n",
      "400/400 - 21s - loss: 0.3299 - accuracy: 0.8512 - val_loss: 0.3043 - val_accuracy: 0.8559\n",
      "Epoch 21/50\n",
      "400/400 - 21s - loss: 0.3222 - accuracy: 0.8536 - val_loss: 0.3020 - val_accuracy: 0.8584\n",
      "Epoch 22/50\n",
      "400/400 - 21s - loss: 0.3158 - accuracy: 0.8573 - val_loss: 0.3099 - val_accuracy: 0.8571\n",
      "Epoch 23/50\n",
      "400/400 - 21s - loss: 0.3184 - accuracy: 0.8582 - val_loss: 0.2951 - val_accuracy: 0.8557\n"
     ]
    },
    {
     "data": {
      "text/html": [
       "<span style=\"color:#4527A0\"><h1 style=\"font-size:18px\">Trial complete</h1></span>"
      ],
      "text/plain": [
       "<IPython.core.display.HTML object>"
      ]
     },
     "metadata": {},
     "output_type": "display_data"
    },
    {
     "data": {
      "text/html": [
       "<span style=\"color:#4527A0\"><h1 style=\"font-size:18px\">Trial summary</h1></span>"
      ],
      "text/plain": [
       "<IPython.core.display.HTML object>"
      ]
     },
     "metadata": {},
     "output_type": "display_data"
    },
    {
     "data": {
      "text/html": [
       "<span style=\"color:cyan\"> |-Trial ID: 9232c0c1822a16a8cb819a7b8c22e85a</span>"
      ],
      "text/plain": [
       "<IPython.core.display.HTML object>"
      ]
     },
     "metadata": {},
     "output_type": "display_data"
    },
    {
     "data": {
      "text/html": [
       "<span style=\"color:cyan\"> |-Score: 0.8674286007881165</span>"
      ],
      "text/plain": [
       "<IPython.core.display.HTML object>"
      ]
     },
     "metadata": {},
     "output_type": "display_data"
    },
    {
     "data": {
      "text/html": [
       "<span style=\"color:cyan\"> |-Best step: 0</span>"
      ],
      "text/plain": [
       "<IPython.core.display.HTML object>"
      ]
     },
     "metadata": {},
     "output_type": "display_data"
    },
    {
     "data": {
      "text/html": [
       "<span style=\"color:#7E57C2\"><h2 style=\"font-size:16px\">Hyperparameters:</h2></span>"
      ],
      "text/plain": [
       "<IPython.core.display.HTML object>"
      ]
     },
     "metadata": {},
     "output_type": "display_data"
    },
    {
     "data": {
      "text/html": [
       "<span style=\"color:cyan\"> |-conv_1: 16</span>"
      ],
      "text/plain": [
       "<IPython.core.display.HTML object>"
      ]
     },
     "metadata": {},
     "output_type": "display_data"
    },
    {
     "data": {
      "text/html": [
       "<span style=\"color:blue\"> |-conv_2: 64</span>"
      ],
      "text/plain": [
       "<IPython.core.display.HTML object>"
      ]
     },
     "metadata": {},
     "output_type": "display_data"
    },
    {
     "data": {
      "text/html": [
       "<span style=\"color:cyan\"> |-conv_3: 128</span>"
      ],
      "text/plain": [
       "<IPython.core.display.HTML object>"
      ]
     },
     "metadata": {},
     "output_type": "display_data"
    },
    {
     "data": {
      "text/html": [
       "<span style=\"color:blue\"> |-dropout_1: 0.4</span>"
      ],
      "text/plain": [
       "<IPython.core.display.HTML object>"
      ]
     },
     "metadata": {},
     "output_type": "display_data"
    },
    {
     "data": {
      "text/html": [
       "<span style=\"color:cyan\"> |-dropout_2: 0.5</span>"
      ],
      "text/plain": [
       "<IPython.core.display.HTML object>"
      ]
     },
     "metadata": {},
     "output_type": "display_data"
    },
    {
     "data": {
      "text/html": [
       "<span style=\"color:blue\"> |-dropout_3: 0.1</span>"
      ],
      "text/plain": [
       "<IPython.core.display.HTML object>"
      ]
     },
     "metadata": {},
     "output_type": "display_data"
    },
    {
     "data": {
      "text/html": [
       "<span style=\"color:cyan\"> |-dropout_4: 0.30000000000000004</span>"
      ],
      "text/plain": [
       "<IPython.core.display.HTML object>"
      ]
     },
     "metadata": {},
     "output_type": "display_data"
    },
    {
     "data": {
      "text/html": [
       "<span style=\"color:blue\"> |-units: 768</span>"
      ],
      "text/plain": [
       "<IPython.core.display.HTML object>"
      ]
     },
     "metadata": {},
     "output_type": "display_data"
    },
    {
     "name": "stdout",
     "output_type": "stream",
     "text": [
      "WARNING:tensorflow:sample_weight modes were coerced from\n",
      "  ...\n",
      "    to  \n",
      "  ['...']\n",
      "WARNING:tensorflow:sample_weight modes were coerced from\n",
      "  ...\n",
      "    to  \n",
      "  ['...']\n",
      "Train for 400 steps, validate for 171 steps\n",
      "Epoch 1/50\n",
      "400/400 - 22s - loss: 1.4400 - accuracy: 0.7358 - val_loss: 0.4620 - val_accuracy: 0.7702\n",
      "Epoch 2/50\n",
      "400/400 - 21s - loss: 0.4640 - accuracy: 0.7769 - val_loss: 0.4467 - val_accuracy: 0.7966\n",
      "Epoch 3/50\n",
      "400/400 - 21s - loss: 0.4455 - accuracy: 0.7889 - val_loss: 0.4400 - val_accuracy: 0.8129\n",
      "Epoch 4/50\n",
      "400/400 - 21s - loss: 0.4210 - accuracy: 0.8029 - val_loss: 0.3915 - val_accuracy: 0.8203\n",
      "Epoch 5/50\n",
      "400/400 - 21s - loss: 0.3950 - accuracy: 0.8170 - val_loss: 0.3705 - val_accuracy: 0.8427\n",
      "Epoch 6/50\n",
      "400/400 - 21s - loss: 0.3637 - accuracy: 0.8328 - val_loss: 0.3594 - val_accuracy: 0.8508\n",
      "Epoch 7/50\n",
      "400/400 - 21s - loss: 0.3491 - accuracy: 0.8427 - val_loss: 0.3349 - val_accuracy: 0.8573\n",
      "Epoch 8/50\n",
      "400/400 - 21s - loss: 0.3275 - accuracy: 0.8523 - val_loss: 0.3227 - val_accuracy: 0.8673\n",
      "Epoch 9/50\n",
      "400/400 - 21s - loss: 0.3151 - accuracy: 0.8599 - val_loss: 0.3044 - val_accuracy: 0.8682\n",
      "Epoch 10/50\n",
      "400/400 - 21s - loss: 0.3062 - accuracy: 0.8644 - val_loss: 0.3096 - val_accuracy: 0.8659\n",
      "Epoch 11/50\n",
      "400/400 - 21s - loss: 0.2967 - accuracy: 0.8694 - val_loss: 0.3027 - val_accuracy: 0.8661\n",
      "Epoch 12/50\n",
      "400/400 - 21s - loss: 0.2771 - accuracy: 0.8793 - val_loss: 0.3063 - val_accuracy: 0.8707\n",
      "Epoch 13/50\n",
      "400/400 - 21s - loss: 0.2653 - accuracy: 0.8849 - val_loss: 0.3017 - val_accuracy: 0.8762\n",
      "Epoch 14/50\n",
      "400/400 - 21s - loss: 0.2609 - accuracy: 0.8859 - val_loss: 0.3195 - val_accuracy: 0.8784\n",
      "Epoch 15/50\n",
      "400/400 - 21s - loss: 0.2429 - accuracy: 0.8945 - val_loss: 0.3160 - val_accuracy: 0.8784\n",
      "Epoch 16/50\n",
      "400/400 - 21s - loss: 0.2371 - accuracy: 0.8984 - val_loss: 0.3591 - val_accuracy: 0.8416\n",
      "Epoch 17/50\n",
      "400/400 - 21s - loss: 0.2348 - accuracy: 0.8990 - val_loss: 0.3686 - val_accuracy: 0.8462\n",
      "Epoch 18/50\n",
      "400/400 - 21s - loss: 0.2119 - accuracy: 0.9107 - val_loss: 0.3774 - val_accuracy: 0.8477\n",
      "Epoch 19/50\n",
      "400/400 - 21s - loss: 0.1956 - accuracy: 0.9190 - val_loss: 0.4131 - val_accuracy: 0.8405\n",
      "Epoch 20/50\n",
      "400/400 - 21s - loss: 0.1838 - accuracy: 0.9240 - val_loss: 0.4574 - val_accuracy: 0.8473\n"
     ]
    },
    {
     "data": {
      "text/html": [
       "<span style=\"color:#4527A0\"><h1 style=\"font-size:18px\">Trial complete</h1></span>"
      ],
      "text/plain": [
       "<IPython.core.display.HTML object>"
      ]
     },
     "metadata": {},
     "output_type": "display_data"
    },
    {
     "data": {
      "text/html": [
       "<span style=\"color:#4527A0\"><h1 style=\"font-size:18px\">Trial summary</h1></span>"
      ],
      "text/plain": [
       "<IPython.core.display.HTML object>"
      ]
     },
     "metadata": {},
     "output_type": "display_data"
    },
    {
     "data": {
      "text/html": [
       "<span style=\"color:cyan\"> |-Trial ID: b4cb9af80cddcd9225567389dc5d13b6</span>"
      ],
      "text/plain": [
       "<IPython.core.display.HTML object>"
      ]
     },
     "metadata": {},
     "output_type": "display_data"
    },
    {
     "data": {
      "text/html": [
       "<span style=\"color:cyan\"> |-Score: 0.8784000277519226</span>"
      ],
      "text/plain": [
       "<IPython.core.display.HTML object>"
      ]
     },
     "metadata": {},
     "output_type": "display_data"
    },
    {
     "data": {
      "text/html": [
       "<span style=\"color:cyan\"> |-Best step: 0</span>"
      ],
      "text/plain": [
       "<IPython.core.display.HTML object>"
      ]
     },
     "metadata": {},
     "output_type": "display_data"
    },
    {
     "data": {
      "text/html": [
       "<span style=\"color:#7E57C2\"><h2 style=\"font-size:16px\">Hyperparameters:</h2></span>"
      ],
      "text/plain": [
       "<IPython.core.display.HTML object>"
      ]
     },
     "metadata": {},
     "output_type": "display_data"
    },
    {
     "data": {
      "text/html": [
       "<span style=\"color:cyan\"> |-conv_1: 32</span>"
      ],
      "text/plain": [
       "<IPython.core.display.HTML object>"
      ]
     },
     "metadata": {},
     "output_type": "display_data"
    },
    {
     "data": {
      "text/html": [
       "<span style=\"color:blue\"> |-conv_2: 64</span>"
      ],
      "text/plain": [
       "<IPython.core.display.HTML object>"
      ]
     },
     "metadata": {},
     "output_type": "display_data"
    },
    {
     "data": {
      "text/html": [
       "<span style=\"color:cyan\"> |-conv_3: 64</span>"
      ],
      "text/plain": [
       "<IPython.core.display.HTML object>"
      ]
     },
     "metadata": {},
     "output_type": "display_data"
    },
    {
     "data": {
      "text/html": [
       "<span style=\"color:blue\"> |-dropout_1: 0.0</span>"
      ],
      "text/plain": [
       "<IPython.core.display.HTML object>"
      ]
     },
     "metadata": {},
     "output_type": "display_data"
    },
    {
     "data": {
      "text/html": [
       "<span style=\"color:cyan\"> |-dropout_2: 0.30000000000000004</span>"
      ],
      "text/plain": [
       "<IPython.core.display.HTML object>"
      ]
     },
     "metadata": {},
     "output_type": "display_data"
    },
    {
     "data": {
      "text/html": [
       "<span style=\"color:blue\"> |-dropout_3: 0.1</span>"
      ],
      "text/plain": [
       "<IPython.core.display.HTML object>"
      ]
     },
     "metadata": {},
     "output_type": "display_data"
    },
    {
     "data": {
      "text/html": [
       "<span style=\"color:cyan\"> |-dropout_4: 0.1</span>"
      ],
      "text/plain": [
       "<IPython.core.display.HTML object>"
      ]
     },
     "metadata": {},
     "output_type": "display_data"
    },
    {
     "data": {
      "text/html": [
       "<span style=\"color:blue\"> |-units: 512</span>"
      ],
      "text/plain": [
       "<IPython.core.display.HTML object>"
      ]
     },
     "metadata": {},
     "output_type": "display_data"
    },
    {
     "name": "stdout",
     "output_type": "stream",
     "text": [
      "WARNING:tensorflow:sample_weight modes were coerced from\n",
      "  ...\n",
      "    to  \n",
      "  ['...']\n",
      "WARNING:tensorflow:sample_weight modes were coerced from\n",
      "  ...\n",
      "    to  \n",
      "  ['...']\n",
      "Train for 400 steps, validate for 171 steps\n",
      "Epoch 1/50\n",
      "400/400 - 22s - loss: 1.1540 - accuracy: 0.5930 - val_loss: 0.5902 - val_accuracy: 0.5907\n",
      "Epoch 2/50\n",
      "400/400 - 21s - loss: 0.5089 - accuracy: 0.7178 - val_loss: 0.4244 - val_accuracy: 0.7826\n",
      "Epoch 3/50\n",
      "400/400 - 21s - loss: 0.4261 - accuracy: 0.7960 - val_loss: 0.4374 - val_accuracy: 0.7524\n",
      "Epoch 4/50\n",
      "400/400 - 21s - loss: 0.4008 - accuracy: 0.8100 - val_loss: 0.4291 - val_accuracy: 0.7604\n",
      "Epoch 5/50\n",
      "400/400 - 21s - loss: 0.3796 - accuracy: 0.8223 - val_loss: 0.3944 - val_accuracy: 0.7962\n",
      "Epoch 6/50\n",
      "400/400 - 21s - loss: 0.3622 - accuracy: 0.8338 - val_loss: 0.3854 - val_accuracy: 0.7935\n",
      "Epoch 7/50\n",
      "400/400 - 21s - loss: 0.3487 - accuracy: 0.8399 - val_loss: 0.3952 - val_accuracy: 0.7891\n",
      "Epoch 8/50\n",
      "400/400 - 21s - loss: 0.3362 - accuracy: 0.8481 - val_loss: 0.3766 - val_accuracy: 0.8080\n",
      "Epoch 9/50\n",
      "400/400 - 21s - loss: 0.3268 - accuracy: 0.8527 - val_loss: 0.3701 - val_accuracy: 0.8175\n",
      "Epoch 10/50\n",
      "400/400 - 21s - loss: 0.3235 - accuracy: 0.8545 - val_loss: 0.4325 - val_accuracy: 0.7682\n",
      "Epoch 11/50\n",
      "400/400 - 21s - loss: 0.3135 - accuracy: 0.8590 - val_loss: 0.3318 - val_accuracy: 0.8436\n",
      "Epoch 12/50\n",
      "400/400 - 21s - loss: 0.3052 - accuracy: 0.8646 - val_loss: 0.3626 - val_accuracy: 0.8355\n",
      "Epoch 13/50\n",
      "400/400 - 21s - loss: 0.3013 - accuracy: 0.8636 - val_loss: 0.3694 - val_accuracy: 0.8176\n",
      "Epoch 14/50\n",
      "400/400 - 21s - loss: 0.2915 - accuracy: 0.8696 - val_loss: 0.3598 - val_accuracy: 0.8331\n",
      "Epoch 15/50\n",
      "400/400 - 21s - loss: 0.2848 - accuracy: 0.8718 - val_loss: 0.3469 - val_accuracy: 0.8490\n",
      "Epoch 16/50\n",
      "400/400 - 21s - loss: 0.2815 - accuracy: 0.8754 - val_loss: 0.3390 - val_accuracy: 0.8626\n",
      "Epoch 17/50\n",
      "400/400 - 21s - loss: 0.2808 - accuracy: 0.8743 - val_loss: 0.3630 - val_accuracy: 0.8563\n",
      "Epoch 18/50\n",
      "400/400 - 21s - loss: 0.2630 - accuracy: 0.8831 - val_loss: 0.3585 - val_accuracy: 0.8582\n",
      "Epoch 19/50\n",
      "400/400 - 21s - loss: 0.2603 - accuracy: 0.8859 - val_loss: 0.3739 - val_accuracy: 0.8184\n",
      "Epoch 20/50\n",
      "400/400 - 21s - loss: 0.2488 - accuracy: 0.8916 - val_loss: 0.3962 - val_accuracy: 0.8066\n",
      "Epoch 21/50\n",
      "400/400 - 21s - loss: 0.2361 - accuracy: 0.8976 - val_loss: 0.3965 - val_accuracy: 0.8285\n"
     ]
    },
    {
     "data": {
      "text/html": [
       "<span style=\"color:#4527A0\"><h1 style=\"font-size:18px\">Trial complete</h1></span>"
      ],
      "text/plain": [
       "<IPython.core.display.HTML object>"
      ]
     },
     "metadata": {},
     "output_type": "display_data"
    },
    {
     "data": {
      "text/html": [
       "<span style=\"color:#4527A0\"><h1 style=\"font-size:18px\">Trial summary</h1></span>"
      ],
      "text/plain": [
       "<IPython.core.display.HTML object>"
      ]
     },
     "metadata": {},
     "output_type": "display_data"
    },
    {
     "data": {
      "text/html": [
       "<span style=\"color:cyan\"> |-Trial ID: 91dca10923f7f8fde4999033714364c1</span>"
      ],
      "text/plain": [
       "<IPython.core.display.HTML object>"
      ]
     },
     "metadata": {},
     "output_type": "display_data"
    },
    {
     "data": {
      "text/html": [
       "<span style=\"color:cyan\"> |-Score: 0.8625828623771667</span>"
      ],
      "text/plain": [
       "<IPython.core.display.HTML object>"
      ]
     },
     "metadata": {},
     "output_type": "display_data"
    },
    {
     "data": {
      "text/html": [
       "<span style=\"color:cyan\"> |-Best step: 0</span>"
      ],
      "text/plain": [
       "<IPython.core.display.HTML object>"
      ]
     },
     "metadata": {},
     "output_type": "display_data"
    },
    {
     "data": {
      "text/html": [
       "<span style=\"color:#7E57C2\"><h2 style=\"font-size:16px\">Hyperparameters:</h2></span>"
      ],
      "text/plain": [
       "<IPython.core.display.HTML object>"
      ]
     },
     "metadata": {},
     "output_type": "display_data"
    },
    {
     "data": {
      "text/html": [
       "<span style=\"color:cyan\"> |-conv_1: 32</span>"
      ],
      "text/plain": [
       "<IPython.core.display.HTML object>"
      ]
     },
     "metadata": {},
     "output_type": "display_data"
    },
    {
     "data": {
      "text/html": [
       "<span style=\"color:blue\"> |-conv_2: 64</span>"
      ],
      "text/plain": [
       "<IPython.core.display.HTML object>"
      ]
     },
     "metadata": {},
     "output_type": "display_data"
    },
    {
     "data": {
      "text/html": [
       "<span style=\"color:cyan\"> |-conv_3: 64</span>"
      ],
      "text/plain": [
       "<IPython.core.display.HTML object>"
      ]
     },
     "metadata": {},
     "output_type": "display_data"
    },
    {
     "data": {
      "text/html": [
       "<span style=\"color:blue\"> |-dropout_1: 0.0</span>"
      ],
      "text/plain": [
       "<IPython.core.display.HTML object>"
      ]
     },
     "metadata": {},
     "output_type": "display_data"
    },
    {
     "data": {
      "text/html": [
       "<span style=\"color:cyan\"> |-dropout_2: 0.4</span>"
      ],
      "text/plain": [
       "<IPython.core.display.HTML object>"
      ]
     },
     "metadata": {},
     "output_type": "display_data"
    },
    {
     "data": {
      "text/html": [
       "<span style=\"color:blue\"> |-dropout_3: 0.30000000000000004</span>"
      ],
      "text/plain": [
       "<IPython.core.display.HTML object>"
      ]
     },
     "metadata": {},
     "output_type": "display_data"
    },
    {
     "data": {
      "text/html": [
       "<span style=\"color:cyan\"> |-dropout_4: 0.1</span>"
      ],
      "text/plain": [
       "<IPython.core.display.HTML object>"
      ]
     },
     "metadata": {},
     "output_type": "display_data"
    },
    {
     "data": {
      "text/html": [
       "<span style=\"color:blue\"> |-units: 384</span>"
      ],
      "text/plain": [
       "<IPython.core.display.HTML object>"
      ]
     },
     "metadata": {},
     "output_type": "display_data"
    },
    {
     "name": "stdout",
     "output_type": "stream",
     "text": [
      "WARNING:tensorflow:sample_weight modes were coerced from\n",
      "  ...\n",
      "    to  \n",
      "  ['...']\n",
      "WARNING:tensorflow:sample_weight modes were coerced from\n",
      "  ...\n",
      "    to  \n",
      "  ['...']\n",
      "Train for 400 steps, validate for 171 steps\n",
      "Epoch 1/50\n",
      "400/400 - 22s - loss: 3.4687 - accuracy: 0.6621 - val_loss: 0.5910 - val_accuracy: 0.5917\n",
      "Epoch 2/50\n",
      "400/400 - 21s - loss: 0.4745 - accuracy: 0.7620 - val_loss: 0.5334 - val_accuracy: 0.6933\n",
      "Epoch 3/50\n",
      "400/400 - 21s - loss: 0.4594 - accuracy: 0.7729 - val_loss: 0.5288 - val_accuracy: 0.7348\n",
      "Epoch 4/50\n",
      "400/400 - 21s - loss: 0.4436 - accuracy: 0.7828 - val_loss: 0.5171 - val_accuracy: 0.7784\n",
      "Epoch 5/50\n",
      "400/400 - 21s - loss: 0.4360 - accuracy: 0.7891 - val_loss: 0.4840 - val_accuracy: 0.7786\n",
      "Epoch 6/50\n",
      "400/400 - 21s - loss: 0.4221 - accuracy: 0.7986 - val_loss: 0.4417 - val_accuracy: 0.8273\n",
      "Epoch 7/50\n",
      "400/400 - 21s - loss: 0.4092 - accuracy: 0.8053 - val_loss: 0.4342 - val_accuracy: 0.8052\n",
      "Epoch 8/50\n",
      "400/400 - 21s - loss: 0.3933 - accuracy: 0.8166 - val_loss: 0.4091 - val_accuracy: 0.8294\n",
      "Epoch 9/50\n",
      "400/400 - 21s - loss: 0.3829 - accuracy: 0.8222 - val_loss: 0.3665 - val_accuracy: 0.8436\n",
      "Epoch 10/50\n",
      "400/400 - 21s - loss: 0.3744 - accuracy: 0.8272 - val_loss: 0.3869 - val_accuracy: 0.8175\n",
      "Epoch 11/50\n",
      "400/400 - 21s - loss: 0.3700 - accuracy: 0.8306 - val_loss: 0.3855 - val_accuracy: 0.8344\n",
      "Epoch 12/50\n",
      "400/400 - 21s - loss: 0.3670 - accuracy: 0.8328 - val_loss: 0.3824 - val_accuracy: 0.8352\n",
      "Epoch 13/50\n",
      "400/400 - 21s - loss: 0.3582 - accuracy: 0.8361 - val_loss: 0.4050 - val_accuracy: 0.8227\n",
      "Epoch 14/50\n",
      "400/400 - 21s - loss: 0.3506 - accuracy: 0.8409 - val_loss: 0.3948 - val_accuracy: 0.8053\n"
     ]
    },
    {
     "data": {
      "text/html": [
       "<span style=\"color:#4527A0\"><h1 style=\"font-size:18px\">Trial complete</h1></span>"
      ],
      "text/plain": [
       "<IPython.core.display.HTML object>"
      ]
     },
     "metadata": {},
     "output_type": "display_data"
    },
    {
     "data": {
      "text/html": [
       "<span style=\"color:#4527A0\"><h1 style=\"font-size:18px\">Trial summary</h1></span>"
      ],
      "text/plain": [
       "<IPython.core.display.HTML object>"
      ]
     },
     "metadata": {},
     "output_type": "display_data"
    },
    {
     "data": {
      "text/html": [
       "<span style=\"color:cyan\"> |-Trial ID: 9ade76e3b86ad937caf5c7e15dfd58ae</span>"
      ],
      "text/plain": [
       "<IPython.core.display.HTML object>"
      ]
     },
     "metadata": {},
     "output_type": "display_data"
    },
    {
     "data": {
      "text/html": [
       "<span style=\"color:cyan\"> |-Score: 0.8435657024383545</span>"
      ],
      "text/plain": [
       "<IPython.core.display.HTML object>"
      ]
     },
     "metadata": {},
     "output_type": "display_data"
    },
    {
     "data": {
      "text/html": [
       "<span style=\"color:cyan\"> |-Best step: 0</span>"
      ],
      "text/plain": [
       "<IPython.core.display.HTML object>"
      ]
     },
     "metadata": {},
     "output_type": "display_data"
    },
    {
     "data": {
      "text/html": [
       "<span style=\"color:#7E57C2\"><h2 style=\"font-size:16px\">Hyperparameters:</h2></span>"
      ],
      "text/plain": [
       "<IPython.core.display.HTML object>"
      ]
     },
     "metadata": {},
     "output_type": "display_data"
    },
    {
     "data": {
      "text/html": [
       "<span style=\"color:cyan\"> |-conv_1: 16</span>"
      ],
      "text/plain": [
       "<IPython.core.display.HTML object>"
      ]
     },
     "metadata": {},
     "output_type": "display_data"
    },
    {
     "data": {
      "text/html": [
       "<span style=\"color:blue\"> |-conv_2: 32</span>"
      ],
      "text/plain": [
       "<IPython.core.display.HTML object>"
      ]
     },
     "metadata": {},
     "output_type": "display_data"
    },
    {
     "data": {
      "text/html": [
       "<span style=\"color:cyan\"> |-conv_3: 64</span>"
      ],
      "text/plain": [
       "<IPython.core.display.HTML object>"
      ]
     },
     "metadata": {},
     "output_type": "display_data"
    },
    {
     "data": {
      "text/html": [
       "<span style=\"color:blue\"> |-dropout_1: 0.4</span>"
      ],
      "text/plain": [
       "<IPython.core.display.HTML object>"
      ]
     },
     "metadata": {},
     "output_type": "display_data"
    },
    {
     "data": {
      "text/html": [
       "<span style=\"color:cyan\"> |-dropout_2: 0.30000000000000004</span>"
      ],
      "text/plain": [
       "<IPython.core.display.HTML object>"
      ]
     },
     "metadata": {},
     "output_type": "display_data"
    },
    {
     "data": {
      "text/html": [
       "<span style=\"color:blue\"> |-dropout_3: 0.0</span>"
      ],
      "text/plain": [
       "<IPython.core.display.HTML object>"
      ]
     },
     "metadata": {},
     "output_type": "display_data"
    },
    {
     "data": {
      "text/html": [
       "<span style=\"color:cyan\"> |-dropout_4: 0.1</span>"
      ],
      "text/plain": [
       "<IPython.core.display.HTML object>"
      ]
     },
     "metadata": {},
     "output_type": "display_data"
    },
    {
     "data": {
      "text/html": [
       "<span style=\"color:blue\"> |-units: 512</span>"
      ],
      "text/plain": [
       "<IPython.core.display.HTML object>"
      ]
     },
     "metadata": {},
     "output_type": "display_data"
    },
    {
     "name": "stdout",
     "output_type": "stream",
     "text": [
      "WARNING:tensorflow:sample_weight modes were coerced from\n",
      "  ...\n",
      "    to  \n",
      "  ['...']\n",
      "WARNING:tensorflow:sample_weight modes were coerced from\n",
      "  ...\n",
      "    to  \n",
      "  ['...']\n",
      "Train for 400 steps, validate for 171 steps\n",
      "Epoch 1/50\n",
      "400/400 - 22s - loss: 2.8173 - accuracy: 0.6449 - val_loss: 0.5524 - val_accuracy: 0.6952\n",
      "Epoch 2/50\n",
      "400/400 - 21s - loss: 0.4876 - accuracy: 0.7577 - val_loss: 0.4944 - val_accuracy: 0.7658\n",
      "Epoch 3/50\n",
      "400/400 - 21s - loss: 0.4709 - accuracy: 0.7672 - val_loss: 0.5488 - val_accuracy: 0.7814\n",
      "Epoch 4/50\n",
      "400/400 - 21s - loss: 0.4619 - accuracy: 0.7728 - val_loss: 0.5008 - val_accuracy: 0.7872\n",
      "Epoch 5/50\n",
      "400/400 - 21s - loss: 0.4551 - accuracy: 0.7767 - val_loss: 0.5311 - val_accuracy: 0.7867\n",
      "Epoch 6/50\n",
      "400/400 - 21s - loss: 0.4503 - accuracy: 0.7823 - val_loss: 0.4630 - val_accuracy: 0.7985\n",
      "Epoch 7/50\n",
      "400/400 - 21s - loss: 0.4425 - accuracy: 0.7859 - val_loss: 0.5243 - val_accuracy: 0.7973\n",
      "Epoch 8/50\n",
      "400/400 - 21s - loss: 0.4398 - accuracy: 0.7856 - val_loss: 0.4407 - val_accuracy: 0.8037\n",
      "Epoch 9/50\n",
      "400/400 - 21s - loss: 0.4324 - accuracy: 0.7939 - val_loss: 0.4294 - val_accuracy: 0.7956\n",
      "Epoch 10/50\n",
      "400/400 - 21s - loss: 0.4244 - accuracy: 0.7987 - val_loss: 0.4571 - val_accuracy: 0.8111\n",
      "Epoch 11/50\n",
      "400/400 - 21s - loss: 0.4165 - accuracy: 0.8045 - val_loss: 0.4738 - val_accuracy: 0.8045\n",
      "Epoch 12/50\n",
      "400/400 - 21s - loss: 0.4100 - accuracy: 0.8064 - val_loss: 0.4419 - val_accuracy: 0.8145\n",
      "Epoch 13/50\n",
      "400/400 - 21s - loss: 0.3990 - accuracy: 0.8134 - val_loss: 0.4107 - val_accuracy: 0.8234\n",
      "Epoch 14/50\n",
      "400/400 - 21s - loss: 0.3950 - accuracy: 0.8173 - val_loss: 0.3995 - val_accuracy: 0.8309\n",
      "Epoch 15/50\n",
      "400/400 - 21s - loss: 0.3843 - accuracy: 0.8229 - val_loss: 0.3964 - val_accuracy: 0.8277\n",
      "Epoch 16/50\n",
      "400/400 - 21s - loss: 0.3725 - accuracy: 0.8299 - val_loss: 0.4007 - val_accuracy: 0.8324\n",
      "Epoch 17/50\n",
      "400/400 - 21s - loss: 0.3585 - accuracy: 0.8386 - val_loss: 0.3925 - val_accuracy: 0.8345\n",
      "Epoch 18/50\n",
      "400/400 - 21s - loss: 0.3534 - accuracy: 0.8423 - val_loss: 0.3919 - val_accuracy: 0.8291\n",
      "Epoch 19/50\n",
      "400/400 - 21s - loss: 0.3402 - accuracy: 0.8472 - val_loss: 0.3701 - val_accuracy: 0.8320\n",
      "Epoch 20/50\n",
      "400/400 - 21s - loss: 0.3224 - accuracy: 0.8581 - val_loss: 0.3871 - val_accuracy: 0.8286\n",
      "Epoch 21/50\n",
      "400/400 - 21s - loss: 0.3108 - accuracy: 0.8643 - val_loss: 0.3909 - val_accuracy: 0.8240\n",
      "Epoch 22/50\n",
      "400/400 - 21s - loss: 0.2948 - accuracy: 0.8737 - val_loss: 0.4019 - val_accuracy: 0.8273\n"
     ]
    },
    {
     "data": {
      "text/html": [
       "<span style=\"color:#4527A0\"><h1 style=\"font-size:18px\">Trial complete</h1></span>"
      ],
      "text/plain": [
       "<IPython.core.display.HTML object>"
      ]
     },
     "metadata": {},
     "output_type": "display_data"
    },
    {
     "data": {
      "text/html": [
       "<span style=\"color:#4527A0\"><h1 style=\"font-size:18px\">Trial summary</h1></span>"
      ],
      "text/plain": [
       "<IPython.core.display.HTML object>"
      ]
     },
     "metadata": {},
     "output_type": "display_data"
    },
    {
     "data": {
      "text/html": [
       "<span style=\"color:cyan\"> |-Trial ID: 89b1cae697b3c7bbad82e752e1fa6aa7</span>"
      ],
      "text/plain": [
       "<IPython.core.display.HTML object>"
      ]
     },
     "metadata": {},
     "output_type": "display_data"
    },
    {
     "data": {
      "text/html": [
       "<span style=\"color:cyan\"> |-Score: 0.8344685435295105</span>"
      ],
      "text/plain": [
       "<IPython.core.display.HTML object>"
      ]
     },
     "metadata": {},
     "output_type": "display_data"
    },
    {
     "data": {
      "text/html": [
       "<span style=\"color:cyan\"> |-Best step: 0</span>"
      ],
      "text/plain": [
       "<IPython.core.display.HTML object>"
      ]
     },
     "metadata": {},
     "output_type": "display_data"
    },
    {
     "data": {
      "text/html": [
       "<span style=\"color:#7E57C2\"><h2 style=\"font-size:16px\">Hyperparameters:</h2></span>"
      ],
      "text/plain": [
       "<IPython.core.display.HTML object>"
      ]
     },
     "metadata": {},
     "output_type": "display_data"
    },
    {
     "data": {
      "text/html": [
       "<span style=\"color:cyan\"> |-conv_1: 16</span>"
      ],
      "text/plain": [
       "<IPython.core.display.HTML object>"
      ]
     },
     "metadata": {},
     "output_type": "display_data"
    },
    {
     "data": {
      "text/html": [
       "<span style=\"color:blue\"> |-conv_2: 32</span>"
      ],
      "text/plain": [
       "<IPython.core.display.HTML object>"
      ]
     },
     "metadata": {},
     "output_type": "display_data"
    },
    {
     "data": {
      "text/html": [
       "<span style=\"color:cyan\"> |-conv_3: 128</span>"
      ],
      "text/plain": [
       "<IPython.core.display.HTML object>"
      ]
     },
     "metadata": {},
     "output_type": "display_data"
    },
    {
     "data": {
      "text/html": [
       "<span style=\"color:blue\"> |-dropout_1: 0.30000000000000004</span>"
      ],
      "text/plain": [
       "<IPython.core.display.HTML object>"
      ]
     },
     "metadata": {},
     "output_type": "display_data"
    },
    {
     "data": {
      "text/html": [
       "<span style=\"color:cyan\"> |-dropout_2: 0.0</span>"
      ],
      "text/plain": [
       "<IPython.core.display.HTML object>"
      ]
     },
     "metadata": {},
     "output_type": "display_data"
    },
    {
     "data": {
      "text/html": [
       "<span style=\"color:blue\"> |-dropout_3: 0.1</span>"
      ],
      "text/plain": [
       "<IPython.core.display.HTML object>"
      ]
     },
     "metadata": {},
     "output_type": "display_data"
    },
    {
     "data": {
      "text/html": [
       "<span style=\"color:cyan\"> |-dropout_4: 0.1</span>"
      ],
      "text/plain": [
       "<IPython.core.display.HTML object>"
      ]
     },
     "metadata": {},
     "output_type": "display_data"
    },
    {
     "data": {
      "text/html": [
       "<span style=\"color:blue\"> |-units: 512</span>"
      ],
      "text/plain": [
       "<IPython.core.display.HTML object>"
      ]
     },
     "metadata": {},
     "output_type": "display_data"
    },
    {
     "name": "stdout",
     "output_type": "stream",
     "text": [
      "WARNING:tensorflow:sample_weight modes were coerced from\n",
      "  ...\n",
      "    to  \n",
      "  ['...']\n",
      "WARNING:tensorflow:sample_weight modes were coerced from\n",
      "  ...\n",
      "    to  \n",
      "  ['...']\n",
      "Train for 400 steps, validate for 171 steps\n",
      "Epoch 1/50\n",
      "400/400 - 22s - loss: 3.0640 - accuracy: 0.6849 - val_loss: 0.5083 - val_accuracy: 0.7712\n",
      "Epoch 2/50\n",
      "400/400 - 21s - loss: 0.4777 - accuracy: 0.7647 - val_loss: 0.4792 - val_accuracy: 0.7784\n",
      "Epoch 3/50\n",
      "400/400 - 21s - loss: 0.4590 - accuracy: 0.7750 - val_loss: 0.4329 - val_accuracy: 0.7889\n",
      "Epoch 4/50\n",
      "400/400 - 21s - loss: 0.4451 - accuracy: 0.7838 - val_loss: 0.4372 - val_accuracy: 0.7881\n",
      "Epoch 5/50\n",
      "400/400 - 21s - loss: 0.4358 - accuracy: 0.7900 - val_loss: 0.4521 - val_accuracy: 0.7914\n",
      "Epoch 6/50\n",
      "400/400 - 21s - loss: 0.4292 - accuracy: 0.7953 - val_loss: 0.4416 - val_accuracy: 0.7979\n",
      "Epoch 7/50\n",
      "400/400 - 21s - loss: 0.4204 - accuracy: 0.7981 - val_loss: 0.4390 - val_accuracy: 0.7919\n",
      "Epoch 8/50\n",
      "400/400 - 21s - loss: 0.4177 - accuracy: 0.8001 - val_loss: 0.4528 - val_accuracy: 0.8053\n",
      "Epoch 9/50\n",
      "400/400 - 21s - loss: 0.4115 - accuracy: 0.8055 - val_loss: 0.4437 - val_accuracy: 0.7957\n",
      "Epoch 10/50\n",
      "400/400 - 21s - loss: 0.4016 - accuracy: 0.8078 - val_loss: 0.3993 - val_accuracy: 0.8097\n",
      "Epoch 11/50\n",
      "400/400 - 21s - loss: 0.3963 - accuracy: 0.8122 - val_loss: 0.4102 - val_accuracy: 0.8050\n",
      "Epoch 12/50\n",
      "400/400 - 21s - loss: 0.3937 - accuracy: 0.8151 - val_loss: 0.3919 - val_accuracy: 0.8204\n",
      "Epoch 13/50\n",
      "400/400 - 21s - loss: 0.3794 - accuracy: 0.8243 - val_loss: 0.3928 - val_accuracy: 0.8059\n",
      "Epoch 14/50\n",
      "400/400 - 21s - loss: 0.3699 - accuracy: 0.8269 - val_loss: 0.3795 - val_accuracy: 0.8394\n",
      "Epoch 15/50\n",
      "400/400 - 21s - loss: 0.3683 - accuracy: 0.8283 - val_loss: 0.3793 - val_accuracy: 0.8357\n",
      "Epoch 16/50\n",
      "400/400 - 21s - loss: 0.3611 - accuracy: 0.8333 - val_loss: 0.3846 - val_accuracy: 0.8045\n",
      "Epoch 17/50\n",
      "400/400 - 21s - loss: 0.3449 - accuracy: 0.8420 - val_loss: 0.3711 - val_accuracy: 0.8130\n",
      "Epoch 18/50\n",
      "400/400 - 21s - loss: 0.3396 - accuracy: 0.8436 - val_loss: 0.3638 - val_accuracy: 0.8347\n",
      "Epoch 19/50\n",
      "400/400 - 21s - loss: 0.3282 - accuracy: 0.8518 - val_loss: 0.3408 - val_accuracy: 0.8512\n",
      "Epoch 20/50\n",
      "400/400 - 21s - loss: 0.3125 - accuracy: 0.8577 - val_loss: 0.3396 - val_accuracy: 0.8496\n",
      "Epoch 21/50\n",
      "400/400 - 21s - loss: 0.3050 - accuracy: 0.8643 - val_loss: 0.3567 - val_accuracy: 0.8446\n",
      "Epoch 22/50\n",
      "400/400 - 21s - loss: 0.2982 - accuracy: 0.8651 - val_loss: 0.3433 - val_accuracy: 0.8484\n",
      "Epoch 23/50\n",
      "400/400 - 21s - loss: 0.2913 - accuracy: 0.8716 - val_loss: 0.3772 - val_accuracy: 0.8397\n",
      "Epoch 24/50\n",
      "400/400 - 21s - loss: 0.2804 - accuracy: 0.8753 - val_loss: 0.3668 - val_accuracy: 0.8531\n",
      "Epoch 25/50\n",
      "400/400 - 21s - loss: 0.2657 - accuracy: 0.8822 - val_loss: 0.3536 - val_accuracy: 0.8441\n",
      "Epoch 26/50\n",
      "400/400 - 21s - loss: 0.2599 - accuracy: 0.8853 - val_loss: 0.3977 - val_accuracy: 0.8440\n",
      "Epoch 27/50\n",
      "400/400 - 21s - loss: 0.2565 - accuracy: 0.8878 - val_loss: 0.3588 - val_accuracy: 0.8477\n",
      "Epoch 28/50\n",
      "400/400 - 21s - loss: 0.2402 - accuracy: 0.8961 - val_loss: 0.3712 - val_accuracy: 0.8540\n",
      "Epoch 29/50\n",
      "400/400 - 21s - loss: 0.2362 - accuracy: 0.8975 - val_loss: 0.4486 - val_accuracy: 0.8401\n",
      "Epoch 30/50\n",
      "400/400 - 21s - loss: 0.2269 - accuracy: 0.9025 - val_loss: 0.3871 - val_accuracy: 0.8500\n",
      "Epoch 31/50\n",
      "400/400 - 21s - loss: 0.2193 - accuracy: 0.9058 - val_loss: 0.4164 - val_accuracy: 0.8510\n",
      "Epoch 32/50\n",
      "400/400 - 21s - loss: 0.2123 - accuracy: 0.9112 - val_loss: 0.4147 - val_accuracy: 0.8445\n",
      "Epoch 33/50\n",
      "400/400 - 21s - loss: 0.2047 - accuracy: 0.9143 - val_loss: 0.4531 - val_accuracy: 0.8477\n"
     ]
    },
    {
     "data": {
      "text/html": [
       "<span style=\"color:#4527A0\"><h1 style=\"font-size:18px\">Trial complete</h1></span>"
      ],
      "text/plain": [
       "<IPython.core.display.HTML object>"
      ]
     },
     "metadata": {},
     "output_type": "display_data"
    },
    {
     "data": {
      "text/html": [
       "<span style=\"color:#4527A0\"><h1 style=\"font-size:18px\">Trial summary</h1></span>"
      ],
      "text/plain": [
       "<IPython.core.display.HTML object>"
      ]
     },
     "metadata": {},
     "output_type": "display_data"
    },
    {
     "data": {
      "text/html": [
       "<span style=\"color:cyan\"> |-Trial ID: b2f35e44f3eedeecf351a199fd1bd33b</span>"
      ],
      "text/plain": [
       "<IPython.core.display.HTML object>"
      ]
     },
     "metadata": {},
     "output_type": "display_data"
    },
    {
     "data": {
      "text/html": [
       "<span style=\"color:cyan\"> |-Score: 0.8540343046188354</span>"
      ],
      "text/plain": [
       "<IPython.core.display.HTML object>"
      ]
     },
     "metadata": {},
     "output_type": "display_data"
    },
    {
     "data": {
      "text/html": [
       "<span style=\"color:cyan\"> |-Best step: 0</span>"
      ],
      "text/plain": [
       "<IPython.core.display.HTML object>"
      ]
     },
     "metadata": {},
     "output_type": "display_data"
    },
    {
     "data": {
      "text/html": [
       "<span style=\"color:#7E57C2\"><h2 style=\"font-size:16px\">Hyperparameters:</h2></span>"
      ],
      "text/plain": [
       "<IPython.core.display.HTML object>"
      ]
     },
     "metadata": {},
     "output_type": "display_data"
    },
    {
     "data": {
      "text/html": [
       "<span style=\"color:cyan\"> |-conv_1: 16</span>"
      ],
      "text/plain": [
       "<IPython.core.display.HTML object>"
      ]
     },
     "metadata": {},
     "output_type": "display_data"
    },
    {
     "data": {
      "text/html": [
       "<span style=\"color:blue\"> |-conv_2: 64</span>"
      ],
      "text/plain": [
       "<IPython.core.display.HTML object>"
      ]
     },
     "metadata": {},
     "output_type": "display_data"
    },
    {
     "data": {
      "text/html": [
       "<span style=\"color:cyan\"> |-conv_3: 128</span>"
      ],
      "text/plain": [
       "<IPython.core.display.HTML object>"
      ]
     },
     "metadata": {},
     "output_type": "display_data"
    },
    {
     "data": {
      "text/html": [
       "<span style=\"color:blue\"> |-dropout_1: 0.4</span>"
      ],
      "text/plain": [
       "<IPython.core.display.HTML object>"
      ]
     },
     "metadata": {},
     "output_type": "display_data"
    },
    {
     "data": {
      "text/html": [
       "<span style=\"color:cyan\"> |-dropout_2: 0.2</span>"
      ],
      "text/plain": [
       "<IPython.core.display.HTML object>"
      ]
     },
     "metadata": {},
     "output_type": "display_data"
    },
    {
     "data": {
      "text/html": [
       "<span style=\"color:blue\"> |-dropout_3: 0.2</span>"
      ],
      "text/plain": [
       "<IPython.core.display.HTML object>"
      ]
     },
     "metadata": {},
     "output_type": "display_data"
    },
    {
     "data": {
      "text/html": [
       "<span style=\"color:cyan\"> |-dropout_4: 0.1</span>"
      ],
      "text/plain": [
       "<IPython.core.display.HTML object>"
      ]
     },
     "metadata": {},
     "output_type": "display_data"
    },
    {
     "data": {
      "text/html": [
       "<span style=\"color:blue\"> |-units: 640</span>"
      ],
      "text/plain": [
       "<IPython.core.display.HTML object>"
      ]
     },
     "metadata": {},
     "output_type": "display_data"
    },
    {
     "name": "stdout",
     "output_type": "stream",
     "text": [
      "WARNING:tensorflow:sample_weight modes were coerced from\n",
      "  ...\n",
      "    to  \n",
      "  ['...']\n",
      "WARNING:tensorflow:sample_weight modes were coerced from\n",
      "  ...\n",
      "    to  \n",
      "  ['...']\n",
      "Train for 400 steps, validate for 171 steps\n",
      "Epoch 1/50\n",
      "400/400 - 22s - loss: 0.9895 - accuracy: 0.7063 - val_loss: 0.4729 - val_accuracy: 0.7240\n",
      "Epoch 2/50\n",
      "400/400 - 21s - loss: 0.4611 - accuracy: 0.7765 - val_loss: 0.4546 - val_accuracy: 0.7609\n",
      "Epoch 3/50\n",
      "400/400 - 21s - loss: 0.4481 - accuracy: 0.7856 - val_loss: 0.4352 - val_accuracy: 0.7862\n",
      "Epoch 4/50\n",
      "400/400 - 21s - loss: 0.4307 - accuracy: 0.7978 - val_loss: 0.4164 - val_accuracy: 0.8053\n",
      "Epoch 5/50\n",
      "400/400 - 21s - loss: 0.4173 - accuracy: 0.8057 - val_loss: 0.4103 - val_accuracy: 0.8228\n",
      "Epoch 6/50\n",
      "400/400 - 21s - loss: 0.4039 - accuracy: 0.8135 - val_loss: 0.3934 - val_accuracy: 0.8220\n",
      "Epoch 7/50\n",
      "400/400 - 21s - loss: 0.3913 - accuracy: 0.8209 - val_loss: 0.3908 - val_accuracy: 0.8277\n",
      "Epoch 8/50\n",
      "400/400 - 21s - loss: 0.3738 - accuracy: 0.8287 - val_loss: 0.3563 - val_accuracy: 0.8347\n",
      "Epoch 9/50\n",
      "400/400 - 21s - loss: 0.3664 - accuracy: 0.8339 - val_loss: 0.3662 - val_accuracy: 0.8322\n",
      "Epoch 10/50\n",
      "400/400 - 21s - loss: 0.3570 - accuracy: 0.8387 - val_loss: 0.3793 - val_accuracy: 0.8040\n",
      "Epoch 11/50\n",
      "400/400 - 21s - loss: 0.3526 - accuracy: 0.8402 - val_loss: 0.3509 - val_accuracy: 0.8369\n",
      "Epoch 12/50\n",
      "400/400 - 21s - loss: 0.3391 - accuracy: 0.8484 - val_loss: 0.3443 - val_accuracy: 0.8326\n",
      "Epoch 13/50\n",
      "400/400 - 21s - loss: 0.3310 - accuracy: 0.8511 - val_loss: 0.3518 - val_accuracy: 0.8341\n",
      "Epoch 14/50\n",
      "400/400 - 21s - loss: 0.3283 - accuracy: 0.8528 - val_loss: 0.3403 - val_accuracy: 0.8281\n",
      "Epoch 15/50\n",
      "400/400 - 21s - loss: 0.3180 - accuracy: 0.8578 - val_loss: 0.3513 - val_accuracy: 0.8341\n",
      "Epoch 16/50\n",
      "400/400 - 21s - loss: 0.3092 - accuracy: 0.8633 - val_loss: 0.3293 - val_accuracy: 0.8420\n",
      "Epoch 17/50\n",
      "400/400 - 21s - loss: 0.3035 - accuracy: 0.8661 - val_loss: 0.3265 - val_accuracy: 0.8617\n",
      "Epoch 18/50\n",
      "400/400 - 21s - loss: 0.3018 - accuracy: 0.8675 - val_loss: 0.3362 - val_accuracy: 0.8519\n",
      "Epoch 19/50\n",
      "400/400 - 21s - loss: 0.2938 - accuracy: 0.8725 - val_loss: 0.3054 - val_accuracy: 0.8550\n",
      "Epoch 20/50\n",
      "400/400 - 21s - loss: 0.2905 - accuracy: 0.8729 - val_loss: 0.3840 - val_accuracy: 0.8039\n",
      "Epoch 21/50\n",
      "400/400 - 21s - loss: 0.2857 - accuracy: 0.8742 - val_loss: 0.3638 - val_accuracy: 0.8261\n",
      "Epoch 22/50\n",
      "400/400 - 21s - loss: 0.2884 - accuracy: 0.8743 - val_loss: 0.3268 - val_accuracy: 0.8508\n"
     ]
    },
    {
     "data": {
      "text/html": [
       "<span style=\"color:#4527A0\"><h1 style=\"font-size:18px\">Trial complete</h1></span>"
      ],
      "text/plain": [
       "<IPython.core.display.HTML object>"
      ]
     },
     "metadata": {},
     "output_type": "display_data"
    },
    {
     "data": {
      "text/html": [
       "<span style=\"color:#4527A0\"><h1 style=\"font-size:18px\">Trial summary</h1></span>"
      ],
      "text/plain": [
       "<IPython.core.display.HTML object>"
      ]
     },
     "metadata": {},
     "output_type": "display_data"
    },
    {
     "data": {
      "text/html": [
       "<span style=\"color:cyan\"> |-Trial ID: 8aa6177f49fc4352c4159462fbee014c</span>"
      ],
      "text/plain": [
       "<IPython.core.display.HTML object>"
      ]
     },
     "metadata": {},
     "output_type": "display_data"
    },
    {
     "data": {
      "text/html": [
       "<span style=\"color:cyan\"> |-Score: 0.8617143034934998</span>"
      ],
      "text/plain": [
       "<IPython.core.display.HTML object>"
      ]
     },
     "metadata": {},
     "output_type": "display_data"
    },
    {
     "data": {
      "text/html": [
       "<span style=\"color:cyan\"> |-Best step: 0</span>"
      ],
      "text/plain": [
       "<IPython.core.display.HTML object>"
      ]
     },
     "metadata": {},
     "output_type": "display_data"
    },
    {
     "data": {
      "text/html": [
       "<span style=\"color:#7E57C2\"><h2 style=\"font-size:16px\">Hyperparameters:</h2></span>"
      ],
      "text/plain": [
       "<IPython.core.display.HTML object>"
      ]
     },
     "metadata": {},
     "output_type": "display_data"
    },
    {
     "data": {
      "text/html": [
       "<span style=\"color:cyan\"> |-conv_1: 16</span>"
      ],
      "text/plain": [
       "<IPython.core.display.HTML object>"
      ]
     },
     "metadata": {},
     "output_type": "display_data"
    },
    {
     "data": {
      "text/html": [
       "<span style=\"color:blue\"> |-conv_2: 32</span>"
      ],
      "text/plain": [
       "<IPython.core.display.HTML object>"
      ]
     },
     "metadata": {},
     "output_type": "display_data"
    },
    {
     "data": {
      "text/html": [
       "<span style=\"color:cyan\"> |-conv_3: 64</span>"
      ],
      "text/plain": [
       "<IPython.core.display.HTML object>"
      ]
     },
     "metadata": {},
     "output_type": "display_data"
    },
    {
     "data": {
      "text/html": [
       "<span style=\"color:blue\"> |-dropout_1: 0.4</span>"
      ],
      "text/plain": [
       "<IPython.core.display.HTML object>"
      ]
     },
     "metadata": {},
     "output_type": "display_data"
    },
    {
     "data": {
      "text/html": [
       "<span style=\"color:cyan\"> |-dropout_2: 0.4</span>"
      ],
      "text/plain": [
       "<IPython.core.display.HTML object>"
      ]
     },
     "metadata": {},
     "output_type": "display_data"
    },
    {
     "data": {
      "text/html": [
       "<span style=\"color:blue\"> |-dropout_3: 0.30000000000000004</span>"
      ],
      "text/plain": [
       "<IPython.core.display.HTML object>"
      ]
     },
     "metadata": {},
     "output_type": "display_data"
    },
    {
     "data": {
      "text/html": [
       "<span style=\"color:cyan\"> |-dropout_4: 0.1</span>"
      ],
      "text/plain": [
       "<IPython.core.display.HTML object>"
      ]
     },
     "metadata": {},
     "output_type": "display_data"
    },
    {
     "data": {
      "text/html": [
       "<span style=\"color:blue\"> |-units: 128</span>"
      ],
      "text/plain": [
       "<IPython.core.display.HTML object>"
      ]
     },
     "metadata": {},
     "output_type": "display_data"
    },
    {
     "name": "stdout",
     "output_type": "stream",
     "text": [
      "WARNING:tensorflow:sample_weight modes were coerced from\n",
      "  ...\n",
      "    to  \n",
      "  ['...']\n",
      "WARNING:tensorflow:sample_weight modes were coerced from\n",
      "  ...\n",
      "    to  \n",
      "  ['...']\n",
      "Train for 400 steps, validate for 171 steps\n",
      "Epoch 1/50\n",
      "400/400 - 23s - loss: 2.5563 - accuracy: 0.6059 - val_loss: 0.6258 - val_accuracy: 0.6404\n",
      "Epoch 2/50\n",
      "400/400 - 23s - loss: 0.4923 - accuracy: 0.7591 - val_loss: 0.4924 - val_accuracy: 0.7336\n",
      "Epoch 3/50\n",
      "400/400 - 23s - loss: 0.4688 - accuracy: 0.7700 - val_loss: 0.4739 - val_accuracy: 0.7531\n",
      "Epoch 4/50\n",
      "400/400 - 23s - loss: 0.4571 - accuracy: 0.7772 - val_loss: 0.4453 - val_accuracy: 0.7748\n",
      "Epoch 5/50\n",
      "400/400 - 22s - loss: 0.4430 - accuracy: 0.7866 - val_loss: 0.4416 - val_accuracy: 0.7506\n",
      "Epoch 6/50\n",
      "400/400 - 22s - loss: 0.4324 - accuracy: 0.7931 - val_loss: 0.4260 - val_accuracy: 0.7768\n",
      "Epoch 7/50\n",
      "400/400 - 22s - loss: 0.4208 - accuracy: 0.8013 - val_loss: 0.4233 - val_accuracy: 0.7675\n",
      "Epoch 8/50\n",
      "400/400 - 21s - loss: 0.4079 - accuracy: 0.8087 - val_loss: 0.3963 - val_accuracy: 0.8015\n",
      "Epoch 9/50\n",
      "400/400 - 22s - loss: 0.3929 - accuracy: 0.8193 - val_loss: 0.3759 - val_accuracy: 0.8197\n",
      "Epoch 10/50\n",
      "400/400 - 22s - loss: 0.3849 - accuracy: 0.8244 - val_loss: 0.3596 - val_accuracy: 0.8318\n",
      "Epoch 11/50\n",
      "400/400 - 22s - loss: 0.3705 - accuracy: 0.8325 - val_loss: 0.3674 - val_accuracy: 0.8328\n",
      "Epoch 12/50\n",
      "400/400 - 22s - loss: 0.3584 - accuracy: 0.8374 - val_loss: 0.3500 - val_accuracy: 0.8251\n",
      "Epoch 13/50\n",
      "400/400 - 22s - loss: 0.3504 - accuracy: 0.8434 - val_loss: 0.3895 - val_accuracy: 0.7906\n",
      "Epoch 14/50\n",
      "400/400 - 21s - loss: 0.3385 - accuracy: 0.8491 - val_loss: 0.3818 - val_accuracy: 0.7963\n",
      "Epoch 15/50\n",
      "400/400 - 21s - loss: 0.3292 - accuracy: 0.8537 - val_loss: 0.4367 - val_accuracy: 0.7748\n",
      "Epoch 16/50\n",
      "400/400 - 22s - loss: 0.3192 - accuracy: 0.8581 - val_loss: 0.4767 - val_accuracy: 0.7745\n"
     ]
    },
    {
     "data": {
      "text/html": [
       "<span style=\"color:#4527A0\"><h1 style=\"font-size:18px\">Trial complete</h1></span>"
      ],
      "text/plain": [
       "<IPython.core.display.HTML object>"
      ]
     },
     "metadata": {},
     "output_type": "display_data"
    },
    {
     "data": {
      "text/html": [
       "<span style=\"color:#4527A0\"><h1 style=\"font-size:18px\">Trial summary</h1></span>"
      ],
      "text/plain": [
       "<IPython.core.display.HTML object>"
      ]
     },
     "metadata": {},
     "output_type": "display_data"
    },
    {
     "data": {
      "text/html": [
       "<span style=\"color:cyan\"> |-Trial ID: 256ccf1a835bc143d8cdeae3203c18e6</span>"
      ],
      "text/plain": [
       "<IPython.core.display.HTML object>"
      ]
     },
     "metadata": {},
     "output_type": "display_data"
    },
    {
     "data": {
      "text/html": [
       "<span style=\"color:cyan\"> |-Score: 0.8328307867050171</span>"
      ],
      "text/plain": [
       "<IPython.core.display.HTML object>"
      ]
     },
     "metadata": {},
     "output_type": "display_data"
    },
    {
     "data": {
      "text/html": [
       "<span style=\"color:cyan\"> |-Best step: 0</span>"
      ],
      "text/plain": [
       "<IPython.core.display.HTML object>"
      ]
     },
     "metadata": {},
     "output_type": "display_data"
    },
    {
     "data": {
      "text/html": [
       "<span style=\"color:#7E57C2\"><h2 style=\"font-size:16px\">Hyperparameters:</h2></span>"
      ],
      "text/plain": [
       "<IPython.core.display.HTML object>"
      ]
     },
     "metadata": {},
     "output_type": "display_data"
    },
    {
     "data": {
      "text/html": [
       "<span style=\"color:cyan\"> |-conv_1: 32</span>"
      ],
      "text/plain": [
       "<IPython.core.display.HTML object>"
      ]
     },
     "metadata": {},
     "output_type": "display_data"
    },
    {
     "data": {
      "text/html": [
       "<span style=\"color:blue\"> |-conv_2: 64</span>"
      ],
      "text/plain": [
       "<IPython.core.display.HTML object>"
      ]
     },
     "metadata": {},
     "output_type": "display_data"
    },
    {
     "data": {
      "text/html": [
       "<span style=\"color:cyan\"> |-conv_3: 128</span>"
      ],
      "text/plain": [
       "<IPython.core.display.HTML object>"
      ]
     },
     "metadata": {},
     "output_type": "display_data"
    },
    {
     "data": {
      "text/html": [
       "<span style=\"color:blue\"> |-dropout_1: 0.5</span>"
      ],
      "text/plain": [
       "<IPython.core.display.HTML object>"
      ]
     },
     "metadata": {},
     "output_type": "display_data"
    },
    {
     "data": {
      "text/html": [
       "<span style=\"color:cyan\"> |-dropout_2: 0.4</span>"
      ],
      "text/plain": [
       "<IPython.core.display.HTML object>"
      ]
     },
     "metadata": {},
     "output_type": "display_data"
    },
    {
     "data": {
      "text/html": [
       "<span style=\"color:blue\"> |-dropout_3: 0.0</span>"
      ],
      "text/plain": [
       "<IPython.core.display.HTML object>"
      ]
     },
     "metadata": {},
     "output_type": "display_data"
    },
    {
     "data": {
      "text/html": [
       "<span style=\"color:cyan\"> |-dropout_4: 0.1</span>"
      ],
      "text/plain": [
       "<IPython.core.display.HTML object>"
      ]
     },
     "metadata": {},
     "output_type": "display_data"
    },
    {
     "data": {
      "text/html": [
       "<span style=\"color:blue\"> |-units: 128</span>"
      ],
      "text/plain": [
       "<IPython.core.display.HTML object>"
      ]
     },
     "metadata": {},
     "output_type": "display_data"
    },
    {
     "name": "stdout",
     "output_type": "stream",
     "text": [
      "WARNING:tensorflow:sample_weight modes were coerced from\n",
      "  ...\n",
      "    to  \n",
      "  ['...']\n",
      "WARNING:tensorflow:sample_weight modes were coerced from\n",
      "  ...\n",
      "    to  \n",
      "  ['...']\n",
      "Train for 400 steps, validate for 171 steps\n",
      "Epoch 1/50\n",
      "400/400 - 22s - loss: 1.5449 - accuracy: 0.7039 - val_loss: 0.5289 - val_accuracy: 0.7793\n",
      "Epoch 2/50\n",
      "400/400 - 21s - loss: 0.4711 - accuracy: 0.7689 - val_loss: 0.5069 - val_accuracy: 0.7876\n",
      "Epoch 3/50\n",
      "400/400 - 21s - loss: 0.4623 - accuracy: 0.7739 - val_loss: 0.4633 - val_accuracy: 0.8040\n",
      "Epoch 4/50\n",
      "400/400 - 21s - loss: 0.4451 - accuracy: 0.7876 - val_loss: 0.4301 - val_accuracy: 0.8117\n",
      "Epoch 5/50\n",
      "400/400 - 21s - loss: 0.4356 - accuracy: 0.7956 - val_loss: 0.4176 - val_accuracy: 0.8194\n",
      "Epoch 6/50\n",
      "400/400 - 21s - loss: 0.4250 - accuracy: 0.8025 - val_loss: 0.4093 - val_accuracy: 0.8136\n",
      "Epoch 7/50\n",
      "400/400 - 21s - loss: 0.4114 - accuracy: 0.8107 - val_loss: 0.3915 - val_accuracy: 0.8170\n",
      "Epoch 8/50\n",
      "400/400 - 21s - loss: 0.3946 - accuracy: 0.8194 - val_loss: 0.3659 - val_accuracy: 0.8423\n",
      "Epoch 9/50\n",
      "400/400 - 21s - loss: 0.3744 - accuracy: 0.8311 - val_loss: 0.3448 - val_accuracy: 0.8498\n",
      "Epoch 10/50\n",
      "400/400 - 21s - loss: 0.3572 - accuracy: 0.8400 - val_loss: 0.3589 - val_accuracy: 0.8640\n",
      "Epoch 11/50\n",
      "400/400 - 21s - loss: 0.3427 - accuracy: 0.8475 - val_loss: 0.3399 - val_accuracy: 0.8656\n",
      "Epoch 12/50\n",
      "400/400 - 21s - loss: 0.3387 - accuracy: 0.8481 - val_loss: 0.3194 - val_accuracy: 0.8736\n",
      "Epoch 13/50\n",
      "400/400 - 21s - loss: 0.3311 - accuracy: 0.8535 - val_loss: 0.3103 - val_accuracy: 0.8647\n",
      "Epoch 14/50\n",
      "400/400 - 21s - loss: 0.3228 - accuracy: 0.8595 - val_loss: 0.3228 - val_accuracy: 0.8787\n",
      "Epoch 15/50\n",
      "400/400 - 21s - loss: 0.3231 - accuracy: 0.8588 - val_loss: 0.2970 - val_accuracy: 0.8791\n",
      "Epoch 16/50\n",
      "400/400 - 21s - loss: 0.3130 - accuracy: 0.8624 - val_loss: 0.2752 - val_accuracy: 0.8808\n",
      "Epoch 17/50\n",
      "400/400 - 21s - loss: 0.3106 - accuracy: 0.8637 - val_loss: 0.3068 - val_accuracy: 0.8575\n",
      "Epoch 18/50\n",
      "400/400 - 21s - loss: 0.3050 - accuracy: 0.8668 - val_loss: 0.3009 - val_accuracy: 0.8872\n",
      "Epoch 19/50\n",
      "400/400 - 21s - loss: 0.3024 - accuracy: 0.8681 - val_loss: 0.2941 - val_accuracy: 0.8877\n",
      "Epoch 20/50\n",
      "400/400 - 21s - loss: 0.2973 - accuracy: 0.8696 - val_loss: 0.2968 - val_accuracy: 0.8779\n",
      "Epoch 21/50\n",
      "400/400 - 21s - loss: 0.2917 - accuracy: 0.8735 - val_loss: 0.2972 - val_accuracy: 0.8863\n",
      "Epoch 22/50\n",
      "400/400 - 21s - loss: 0.2890 - accuracy: 0.8750 - val_loss: 0.2863 - val_accuracy: 0.8767\n",
      "Epoch 23/50\n",
      "400/400 - 21s - loss: 0.2835 - accuracy: 0.8765 - val_loss: 0.2795 - val_accuracy: 0.8703\n",
      "Epoch 24/50\n",
      "400/400 - 21s - loss: 0.2871 - accuracy: 0.8754 - val_loss: 0.3110 - val_accuracy: 0.8552\n"
     ]
    },
    {
     "data": {
      "text/html": [
       "<span style=\"color:#4527A0\"><h1 style=\"font-size:18px\">Trial complete</h1></span>"
      ],
      "text/plain": [
       "<IPython.core.display.HTML object>"
      ]
     },
     "metadata": {},
     "output_type": "display_data"
    },
    {
     "data": {
      "text/html": [
       "<span style=\"color:#4527A0\"><h1 style=\"font-size:18px\">Trial summary</h1></span>"
      ],
      "text/plain": [
       "<IPython.core.display.HTML object>"
      ]
     },
     "metadata": {},
     "output_type": "display_data"
    },
    {
     "data": {
      "text/html": [
       "<span style=\"color:cyan\"> |-Trial ID: 61c72bedd1d7b189f4db3d01d675001d</span>"
      ],
      "text/plain": [
       "<IPython.core.display.HTML object>"
      ]
     },
     "metadata": {},
     "output_type": "display_data"
    },
    {
     "data": {
      "text/html": [
       "<span style=\"color:cyan\"> |-Score: 0.8876799941062927</span>"
      ],
      "text/plain": [
       "<IPython.core.display.HTML object>"
      ]
     },
     "metadata": {},
     "output_type": "display_data"
    },
    {
     "data": {
      "text/html": [
       "<span style=\"color:cyan\"> |-Best step: 0</span>"
      ],
      "text/plain": [
       "<IPython.core.display.HTML object>"
      ]
     },
     "metadata": {},
     "output_type": "display_data"
    },
    {
     "data": {
      "text/html": [
       "<span style=\"color:#7E57C2\"><h2 style=\"font-size:16px\">Hyperparameters:</h2></span>"
      ],
      "text/plain": [
       "<IPython.core.display.HTML object>"
      ]
     },
     "metadata": {},
     "output_type": "display_data"
    },
    {
     "data": {
      "text/html": [
       "<span style=\"color:cyan\"> |-conv_1: 32</span>"
      ],
      "text/plain": [
       "<IPython.core.display.HTML object>"
      ]
     },
     "metadata": {},
     "output_type": "display_data"
    },
    {
     "data": {
      "text/html": [
       "<span style=\"color:blue\"> |-conv_2: 32</span>"
      ],
      "text/plain": [
       "<IPython.core.display.HTML object>"
      ]
     },
     "metadata": {},
     "output_type": "display_data"
    },
    {
     "data": {
      "text/html": [
       "<span style=\"color:cyan\"> |-conv_3: 128</span>"
      ],
      "text/plain": [
       "<IPython.core.display.HTML object>"
      ]
     },
     "metadata": {},
     "output_type": "display_data"
    },
    {
     "data": {
      "text/html": [
       "<span style=\"color:blue\"> |-dropout_1: 0.2</span>"
      ],
      "text/plain": [
       "<IPython.core.display.HTML object>"
      ]
     },
     "metadata": {},
     "output_type": "display_data"
    },
    {
     "data": {
      "text/html": [
       "<span style=\"color:cyan\"> |-dropout_2: 0.5</span>"
      ],
      "text/plain": [
       "<IPython.core.display.HTML object>"
      ]
     },
     "metadata": {},
     "output_type": "display_data"
    },
    {
     "data": {
      "text/html": [
       "<span style=\"color:blue\"> |-dropout_3: 0.30000000000000004</span>"
      ],
      "text/plain": [
       "<IPython.core.display.HTML object>"
      ]
     },
     "metadata": {},
     "output_type": "display_data"
    },
    {
     "data": {
      "text/html": [
       "<span style=\"color:cyan\"> |-dropout_4: 0.4</span>"
      ],
      "text/plain": [
       "<IPython.core.display.HTML object>"
      ]
     },
     "metadata": {},
     "output_type": "display_data"
    },
    {
     "data": {
      "text/html": [
       "<span style=\"color:blue\"> |-units: 640</span>"
      ],
      "text/plain": [
       "<IPython.core.display.HTML object>"
      ]
     },
     "metadata": {},
     "output_type": "display_data"
    },
    {
     "name": "stdout",
     "output_type": "stream",
     "text": [
      "WARNING:tensorflow:sample_weight modes were coerced from\n",
      "  ...\n",
      "    to  \n",
      "  ['...']\n",
      "WARNING:tensorflow:sample_weight modes were coerced from\n",
      "  ...\n",
      "    to  \n",
      "  ['...']\n",
      "Train for 400 steps, validate for 171 steps\n",
      "Epoch 1/50\n",
      "400/400 - 22s - loss: 1.6871 - accuracy: 0.7058 - val_loss: 0.5516 - val_accuracy: 0.7762\n",
      "Epoch 2/50\n",
      "400/400 - 21s - loss: 0.4720 - accuracy: 0.7692 - val_loss: 0.4916 - val_accuracy: 0.7939\n",
      "Epoch 3/50\n",
      "400/400 - 21s - loss: 0.4574 - accuracy: 0.7792 - val_loss: 0.4574 - val_accuracy: 0.7975\n",
      "Epoch 4/50\n",
      "400/400 - 21s - loss: 0.4482 - accuracy: 0.7829 - val_loss: 0.4339 - val_accuracy: 0.7997\n",
      "Epoch 5/50\n",
      "400/400 - 21s - loss: 0.4344 - accuracy: 0.7914 - val_loss: 0.4176 - val_accuracy: 0.8004\n",
      "Epoch 6/50\n",
      "400/400 - 21s - loss: 0.4244 - accuracy: 0.7994 - val_loss: 0.4234 - val_accuracy: 0.8080\n",
      "Epoch 7/50\n",
      "400/400 - 21s - loss: 0.4147 - accuracy: 0.8058 - val_loss: 0.4096 - val_accuracy: 0.8183\n",
      "Epoch 8/50\n",
      "400/400 - 21s - loss: 0.4015 - accuracy: 0.8130 - val_loss: 0.3840 - val_accuracy: 0.8325\n",
      "Epoch 9/50\n",
      "400/400 - 21s - loss: 0.3889 - accuracy: 0.8202 - val_loss: 0.3734 - val_accuracy: 0.8261\n",
      "Epoch 10/50\n",
      "400/400 - 21s - loss: 0.3702 - accuracy: 0.8288 - val_loss: 0.3704 - val_accuracy: 0.8127\n",
      "Epoch 11/50\n",
      "400/400 - 21s - loss: 0.3545 - accuracy: 0.8384 - val_loss: 0.3567 - val_accuracy: 0.8393\n",
      "Epoch 12/50\n",
      "400/400 - 21s - loss: 0.3406 - accuracy: 0.8474 - val_loss: 0.3231 - val_accuracy: 0.8667\n",
      "Epoch 13/50\n",
      "400/400 - 21s - loss: 0.3333 - accuracy: 0.8507 - val_loss: 0.3223 - val_accuracy: 0.8706\n",
      "Epoch 14/50\n",
      "400/400 - 21s - loss: 0.3148 - accuracy: 0.8607 - val_loss: 0.3069 - val_accuracy: 0.8671\n",
      "Epoch 15/50\n",
      "400/400 - 21s - loss: 0.3005 - accuracy: 0.8670 - val_loss: 0.3215 - val_accuracy: 0.8727\n",
      "Epoch 16/50\n",
      "400/400 - 21s - loss: 0.2974 - accuracy: 0.8677 - val_loss: 0.3955 - val_accuracy: 0.8161\n",
      "Epoch 17/50\n",
      "400/400 - 21s - loss: 0.2886 - accuracy: 0.8727 - val_loss: 0.3307 - val_accuracy: 0.8683\n",
      "Epoch 18/50\n",
      "400/400 - 21s - loss: 0.2728 - accuracy: 0.8799 - val_loss: 0.3044 - val_accuracy: 0.8748\n",
      "Epoch 19/50\n",
      "400/400 - 21s - loss: 0.2776 - accuracy: 0.8778 - val_loss: 0.3816 - val_accuracy: 0.8599\n",
      "Epoch 20/50\n",
      "400/400 - 21s - loss: 0.2575 - accuracy: 0.8879 - val_loss: 0.3492 - val_accuracy: 0.8741\n",
      "Epoch 21/50\n",
      "400/400 - 21s - loss: 0.2477 - accuracy: 0.8929 - val_loss: 0.3601 - val_accuracy: 0.8674\n",
      "Epoch 22/50\n",
      "400/400 - 21s - loss: 0.2370 - accuracy: 0.8977 - val_loss: 0.3462 - val_accuracy: 0.8408\n",
      "Epoch 23/50\n",
      "400/400 - 21s - loss: 0.2434 - accuracy: 0.8961 - val_loss: 0.3182 - val_accuracy: 0.8678\n"
     ]
    },
    {
     "data": {
      "text/html": [
       "<span style=\"color:#4527A0\"><h1 style=\"font-size:18px\">Trial complete</h1></span>"
      ],
      "text/plain": [
       "<IPython.core.display.HTML object>"
      ]
     },
     "metadata": {},
     "output_type": "display_data"
    },
    {
     "data": {
      "text/html": [
       "<span style=\"color:#4527A0\"><h1 style=\"font-size:18px\">Trial summary</h1></span>"
      ],
      "text/plain": [
       "<IPython.core.display.HTML object>"
      ]
     },
     "metadata": {},
     "output_type": "display_data"
    },
    {
     "data": {
      "text/html": [
       "<span style=\"color:cyan\"> |-Trial ID: 27503cf171e7b4400229ce41ae64fc28</span>"
      ],
      "text/plain": [
       "<IPython.core.display.HTML object>"
      ]
     },
     "metadata": {},
     "output_type": "display_data"
    },
    {
     "data": {
      "text/html": [
       "<span style=\"color:cyan\"> |-Score: 0.8748342990875244</span>"
      ],
      "text/plain": [
       "<IPython.core.display.HTML object>"
      ]
     },
     "metadata": {},
     "output_type": "display_data"
    },
    {
     "data": {
      "text/html": [
       "<span style=\"color:cyan\"> |-Best step: 0</span>"
      ],
      "text/plain": [
       "<IPython.core.display.HTML object>"
      ]
     },
     "metadata": {},
     "output_type": "display_data"
    },
    {
     "data": {
      "text/html": [
       "<span style=\"color:#7E57C2\"><h2 style=\"font-size:16px\">Hyperparameters:</h2></span>"
      ],
      "text/plain": [
       "<IPython.core.display.HTML object>"
      ]
     },
     "metadata": {},
     "output_type": "display_data"
    },
    {
     "data": {
      "text/html": [
       "<span style=\"color:cyan\"> |-conv_1: 16</span>"
      ],
      "text/plain": [
       "<IPython.core.display.HTML object>"
      ]
     },
     "metadata": {},
     "output_type": "display_data"
    },
    {
     "data": {
      "text/html": [
       "<span style=\"color:blue\"> |-conv_2: 32</span>"
      ],
      "text/plain": [
       "<IPython.core.display.HTML object>"
      ]
     },
     "metadata": {},
     "output_type": "display_data"
    },
    {
     "data": {
      "text/html": [
       "<span style=\"color:cyan\"> |-conv_3: 128</span>"
      ],
      "text/plain": [
       "<IPython.core.display.HTML object>"
      ]
     },
     "metadata": {},
     "output_type": "display_data"
    },
    {
     "data": {
      "text/html": [
       "<span style=\"color:blue\"> |-dropout_1: 0.30000000000000004</span>"
      ],
      "text/plain": [
       "<IPython.core.display.HTML object>"
      ]
     },
     "metadata": {},
     "output_type": "display_data"
    },
    {
     "data": {
      "text/html": [
       "<span style=\"color:cyan\"> |-dropout_2: 0.0</span>"
      ],
      "text/plain": [
       "<IPython.core.display.HTML object>"
      ]
     },
     "metadata": {},
     "output_type": "display_data"
    },
    {
     "data": {
      "text/html": [
       "<span style=\"color:blue\"> |-dropout_3: 0.1</span>"
      ],
      "text/plain": [
       "<IPython.core.display.HTML object>"
      ]
     },
     "metadata": {},
     "output_type": "display_data"
    },
    {
     "data": {
      "text/html": [
       "<span style=\"color:cyan\"> |-dropout_4: 0.1</span>"
      ],
      "text/plain": [
       "<IPython.core.display.HTML object>"
      ]
     },
     "metadata": {},
     "output_type": "display_data"
    },
    {
     "data": {
      "text/html": [
       "<span style=\"color:blue\"> |-units: 384</span>"
      ],
      "text/plain": [
       "<IPython.core.display.HTML object>"
      ]
     },
     "metadata": {},
     "output_type": "display_data"
    },
    {
     "name": "stdout",
     "output_type": "stream",
     "text": [
      "WARNING:tensorflow:sample_weight modes were coerced from\n",
      "  ...\n",
      "    to  \n",
      "  ['...']\n",
      "WARNING:tensorflow:sample_weight modes were coerced from\n",
      "  ...\n",
      "    to  \n",
      "  ['...']\n",
      "Train for 400 steps, validate for 171 steps\n",
      "Epoch 1/50\n",
      "400/400 - 22s - loss: 1.7851 - accuracy: 0.6850 - val_loss: 0.5190 - val_accuracy: 0.7819\n",
      "Epoch 2/50\n",
      "400/400 - 21s - loss: 0.4688 - accuracy: 0.7742 - val_loss: 0.5024 - val_accuracy: 0.7891\n",
      "Epoch 3/50\n",
      "400/400 - 21s - loss: 0.4606 - accuracy: 0.7763 - val_loss: 0.4728 - val_accuracy: 0.7963\n",
      "Epoch 4/50\n",
      "400/400 - 21s - loss: 0.4527 - accuracy: 0.7821 - val_loss: 0.4693 - val_accuracy: 0.8040\n",
      "Epoch 5/50\n",
      "400/400 - 21s - loss: 0.4437 - accuracy: 0.7875 - val_loss: 0.4635 - val_accuracy: 0.8073\n",
      "Epoch 6/50\n",
      "400/400 - 21s - loss: 0.4370 - accuracy: 0.7917 - val_loss: 0.4638 - val_accuracy: 0.8043\n",
      "Epoch 7/50\n",
      "400/400 - 21s - loss: 0.4319 - accuracy: 0.7934 - val_loss: 0.4562 - val_accuracy: 0.8128\n",
      "Epoch 8/50\n",
      "400/400 - 21s - loss: 0.4283 - accuracy: 0.7972 - val_loss: 0.4479 - val_accuracy: 0.8094\n",
      "Epoch 9/50\n",
      "400/400 - 21s - loss: 0.4236 - accuracy: 0.7984 - val_loss: 0.4454 - val_accuracy: 0.8149\n",
      "Epoch 10/50\n",
      "400/400 - 21s - loss: 0.4190 - accuracy: 0.8023 - val_loss: 0.4670 - val_accuracy: 0.8125\n",
      "Epoch 11/50\n",
      "400/400 - 21s - loss: 0.4190 - accuracy: 0.8029 - val_loss: 0.4298 - val_accuracy: 0.8187\n",
      "Epoch 12/50\n",
      "400/400 - 21s - loss: 0.4093 - accuracy: 0.8081 - val_loss: 0.4453 - val_accuracy: 0.8185\n",
      "Epoch 13/50\n",
      "400/400 - 21s - loss: 0.4081 - accuracy: 0.8075 - val_loss: 0.4533 - val_accuracy: 0.8177\n",
      "Epoch 14/50\n",
      "400/400 - 21s - loss: 0.3966 - accuracy: 0.8142 - val_loss: 0.4296 - val_accuracy: 0.8252\n",
      "Epoch 15/50\n",
      "400/400 - 21s - loss: 0.3885 - accuracy: 0.8186 - val_loss: 0.4003 - val_accuracy: 0.8267\n",
      "Epoch 16/50\n",
      "400/400 - 21s - loss: 0.3838 - accuracy: 0.8211 - val_loss: 0.4211 - val_accuracy: 0.8275\n",
      "Epoch 17/50\n",
      "400/400 - 21s - loss: 0.3777 - accuracy: 0.8243 - val_loss: 0.4256 - val_accuracy: 0.8333\n",
      "Epoch 18/50\n",
      "400/400 - 21s - loss: 0.3746 - accuracy: 0.8261 - val_loss: 0.3710 - val_accuracy: 0.8419\n",
      "Epoch 19/50\n",
      "400/400 - 21s - loss: 0.3623 - accuracy: 0.8333 - val_loss: 0.4089 - val_accuracy: 0.8417\n",
      "Epoch 20/50\n",
      "400/400 - 21s - loss: 0.3484 - accuracy: 0.8392 - val_loss: 0.4016 - val_accuracy: 0.8411\n",
      "Epoch 21/50\n",
      "400/400 - 21s - loss: 0.3441 - accuracy: 0.8426 - val_loss: 0.3776 - val_accuracy: 0.8440\n",
      "Epoch 22/50\n",
      "400/400 - 21s - loss: 0.3418 - accuracy: 0.8436 - val_loss: 0.3415 - val_accuracy: 0.8564\n",
      "Epoch 23/50\n",
      "400/400 - 21s - loss: 0.3300 - accuracy: 0.8518 - val_loss: 0.3619 - val_accuracy: 0.8348\n",
      "Epoch 24/50\n",
      "400/400 - 21s - loss: 0.3239 - accuracy: 0.8546 - val_loss: 0.3918 - val_accuracy: 0.8503\n",
      "Epoch 25/50\n",
      "400/400 - 21s - loss: 0.3086 - accuracy: 0.8621 - val_loss: 0.3425 - val_accuracy: 0.8533\n",
      "Epoch 26/50\n",
      "400/400 - 21s - loss: 0.3030 - accuracy: 0.8638 - val_loss: 0.3334 - val_accuracy: 0.8575\n",
      "Epoch 27/50\n",
      "400/400 - 21s - loss: 0.2953 - accuracy: 0.8699 - val_loss: 0.3777 - val_accuracy: 0.8534\n",
      "Epoch 28/50\n",
      "400/400 - 21s - loss: 0.2918 - accuracy: 0.8714 - val_loss: 0.3728 - val_accuracy: 0.8572\n",
      "Epoch 29/50\n",
      "400/400 - 21s - loss: 0.2902 - accuracy: 0.8723 - val_loss: 0.3445 - val_accuracy: 0.8572\n",
      "Epoch 30/50\n",
      "400/400 - 21s - loss: 0.2702 - accuracy: 0.8837 - val_loss: 0.3526 - val_accuracy: 0.8504\n",
      "Epoch 31/50\n",
      "400/400 - 21s - loss: 0.2653 - accuracy: 0.8858 - val_loss: 0.3369 - val_accuracy: 0.8545\n"
     ]
    },
    {
     "data": {
      "text/html": [
       "<span style=\"color:#4527A0\"><h1 style=\"font-size:18px\">Trial complete</h1></span>"
      ],
      "text/plain": [
       "<IPython.core.display.HTML object>"
      ]
     },
     "metadata": {},
     "output_type": "display_data"
    },
    {
     "data": {
      "text/html": [
       "<span style=\"color:#4527A0\"><h1 style=\"font-size:18px\">Trial summary</h1></span>"
      ],
      "text/plain": [
       "<IPython.core.display.HTML object>"
      ]
     },
     "metadata": {},
     "output_type": "display_data"
    },
    {
     "data": {
      "text/html": [
       "<span style=\"color:cyan\"> |-Trial ID: c9566f317dbbbae95eb1cf37d2662928</span>"
      ],
      "text/plain": [
       "<IPython.core.display.HTML object>"
      ]
     },
     "metadata": {},
     "output_type": "display_data"
    },
    {
     "data": {
      "text/html": [
       "<span style=\"color:cyan\"> |-Score: 0.8574628829956055</span>"
      ],
      "text/plain": [
       "<IPython.core.display.HTML object>"
      ]
     },
     "metadata": {},
     "output_type": "display_data"
    },
    {
     "data": {
      "text/html": [
       "<span style=\"color:cyan\"> |-Best step: 0</span>"
      ],
      "text/plain": [
       "<IPython.core.display.HTML object>"
      ]
     },
     "metadata": {},
     "output_type": "display_data"
    },
    {
     "data": {
      "text/html": [
       "<span style=\"color:#7E57C2\"><h2 style=\"font-size:16px\">Hyperparameters:</h2></span>"
      ],
      "text/plain": [
       "<IPython.core.display.HTML object>"
      ]
     },
     "metadata": {},
     "output_type": "display_data"
    },
    {
     "data": {
      "text/html": [
       "<span style=\"color:cyan\"> |-conv_1: 16</span>"
      ],
      "text/plain": [
       "<IPython.core.display.HTML object>"
      ]
     },
     "metadata": {},
     "output_type": "display_data"
    },
    {
     "data": {
      "text/html": [
       "<span style=\"color:blue\"> |-conv_2: 64</span>"
      ],
      "text/plain": [
       "<IPython.core.display.HTML object>"
      ]
     },
     "metadata": {},
     "output_type": "display_data"
    },
    {
     "data": {
      "text/html": [
       "<span style=\"color:cyan\"> |-conv_3: 64</span>"
      ],
      "text/plain": [
       "<IPython.core.display.HTML object>"
      ]
     },
     "metadata": {},
     "output_type": "display_data"
    },
    {
     "data": {
      "text/html": [
       "<span style=\"color:blue\"> |-dropout_1: 0.30000000000000004</span>"
      ],
      "text/plain": [
       "<IPython.core.display.HTML object>"
      ]
     },
     "metadata": {},
     "output_type": "display_data"
    },
    {
     "data": {
      "text/html": [
       "<span style=\"color:cyan\"> |-dropout_2: 0.2</span>"
      ],
      "text/plain": [
       "<IPython.core.display.HTML object>"
      ]
     },
     "metadata": {},
     "output_type": "display_data"
    },
    {
     "data": {
      "text/html": [
       "<span style=\"color:blue\"> |-dropout_3: 0.2</span>"
      ],
      "text/plain": [
       "<IPython.core.display.HTML object>"
      ]
     },
     "metadata": {},
     "output_type": "display_data"
    },
    {
     "data": {
      "text/html": [
       "<span style=\"color:cyan\"> |-dropout_4: 0.4</span>"
      ],
      "text/plain": [
       "<IPython.core.display.HTML object>"
      ]
     },
     "metadata": {},
     "output_type": "display_data"
    },
    {
     "data": {
      "text/html": [
       "<span style=\"color:blue\"> |-units: 512</span>"
      ],
      "text/plain": [
       "<IPython.core.display.HTML object>"
      ]
     },
     "metadata": {},
     "output_type": "display_data"
    },
    {
     "name": "stdout",
     "output_type": "stream",
     "text": [
      "WARNING:tensorflow:sample_weight modes were coerced from\n",
      "  ...\n",
      "    to  \n",
      "  ['...']\n",
      "WARNING:tensorflow:sample_weight modes were coerced from\n",
      "  ...\n",
      "    to  \n",
      "  ['...']\n",
      "Train for 400 steps, validate for 171 steps\n",
      "Epoch 1/50\n",
      "400/400 - 22s - loss: 1.1777 - accuracy: 0.5932 - val_loss: 0.6762 - val_accuracy: 0.5918\n",
      "Epoch 2/50\n",
      "400/400 - 21s - loss: 0.6754 - accuracy: 0.5946 - val_loss: 0.6762 - val_accuracy: 0.5916\n",
      "Epoch 3/50\n",
      "400/400 - 21s - loss: 0.6754 - accuracy: 0.5946 - val_loss: 0.6762 - val_accuracy: 0.5918\n",
      "Epoch 4/50\n",
      "400/400 - 21s - loss: 0.6753 - accuracy: 0.5946 - val_loss: 0.6762 - val_accuracy: 0.5918\n",
      "Epoch 5/50\n",
      "400/400 - 21s - loss: 0.6754 - accuracy: 0.5946 - val_loss: 0.6764 - val_accuracy: 0.5914\n",
      "Epoch 6/50\n",
      "400/400 - 21s - loss: 0.6755 - accuracy: 0.5946 - val_loss: 0.6762 - val_accuracy: 0.5916\n"
     ]
    },
    {
     "data": {
      "text/html": [
       "<span style=\"color:#4527A0\"><h1 style=\"font-size:18px\">Trial complete</h1></span>"
      ],
      "text/plain": [
       "<IPython.core.display.HTML object>"
      ]
     },
     "metadata": {},
     "output_type": "display_data"
    },
    {
     "data": {
      "text/html": [
       "<span style=\"color:#4527A0\"><h1 style=\"font-size:18px\">Trial summary</h1></span>"
      ],
      "text/plain": [
       "<IPython.core.display.HTML object>"
      ]
     },
     "metadata": {},
     "output_type": "display_data"
    },
    {
     "data": {
      "text/html": [
       "<span style=\"color:cyan\"> |-Trial ID: 49195803bf189cc43253a299bc557ce0</span>"
      ],
      "text/plain": [
       "<IPython.core.display.HTML object>"
      ]
     },
     "metadata": {},
     "output_type": "display_data"
    },
    {
     "data": {
      "text/html": [
       "<span style=\"color:cyan\"> |-Score: 0.5918171405792236</span>"
      ],
      "text/plain": [
       "<IPython.core.display.HTML object>"
      ]
     },
     "metadata": {},
     "output_type": "display_data"
    },
    {
     "data": {
      "text/html": [
       "<span style=\"color:cyan\"> |-Best step: 0</span>"
      ],
      "text/plain": [
       "<IPython.core.display.HTML object>"
      ]
     },
     "metadata": {},
     "output_type": "display_data"
    },
    {
     "data": {
      "text/html": [
       "<span style=\"color:#7E57C2\"><h2 style=\"font-size:16px\">Hyperparameters:</h2></span>"
      ],
      "text/plain": [
       "<IPython.core.display.HTML object>"
      ]
     },
     "metadata": {},
     "output_type": "display_data"
    },
    {
     "data": {
      "text/html": [
       "<span style=\"color:cyan\"> |-conv_1: 32</span>"
      ],
      "text/plain": [
       "<IPython.core.display.HTML object>"
      ]
     },
     "metadata": {},
     "output_type": "display_data"
    },
    {
     "data": {
      "text/html": [
       "<span style=\"color:blue\"> |-conv_2: 64</span>"
      ],
      "text/plain": [
       "<IPython.core.display.HTML object>"
      ]
     },
     "metadata": {},
     "output_type": "display_data"
    },
    {
     "data": {
      "text/html": [
       "<span style=\"color:cyan\"> |-conv_3: 64</span>"
      ],
      "text/plain": [
       "<IPython.core.display.HTML object>"
      ]
     },
     "metadata": {},
     "output_type": "display_data"
    },
    {
     "data": {
      "text/html": [
       "<span style=\"color:blue\"> |-dropout_1: 0.2</span>"
      ],
      "text/plain": [
       "<IPython.core.display.HTML object>"
      ]
     },
     "metadata": {},
     "output_type": "display_data"
    },
    {
     "data": {
      "text/html": [
       "<span style=\"color:cyan\"> |-dropout_2: 0.2</span>"
      ],
      "text/plain": [
       "<IPython.core.display.HTML object>"
      ]
     },
     "metadata": {},
     "output_type": "display_data"
    },
    {
     "data": {
      "text/html": [
       "<span style=\"color:blue\"> |-dropout_3: 0.30000000000000004</span>"
      ],
      "text/plain": [
       "<IPython.core.display.HTML object>"
      ]
     },
     "metadata": {},
     "output_type": "display_data"
    },
    {
     "data": {
      "text/html": [
       "<span style=\"color:cyan\"> |-dropout_4: 0.5</span>"
      ],
      "text/plain": [
       "<IPython.core.display.HTML object>"
      ]
     },
     "metadata": {},
     "output_type": "display_data"
    },
    {
     "data": {
      "text/html": [
       "<span style=\"color:blue\"> |-units: 768</span>"
      ],
      "text/plain": [
       "<IPython.core.display.HTML object>"
      ]
     },
     "metadata": {},
     "output_type": "display_data"
    },
    {
     "name": "stdout",
     "output_type": "stream",
     "text": [
      "WARNING:tensorflow:sample_weight modes were coerced from\n",
      "  ...\n",
      "    to  \n",
      "  ['...']\n",
      "WARNING:tensorflow:sample_weight modes were coerced from\n",
      "  ...\n",
      "    to  \n",
      "  ['...']\n",
      "Train for 400 steps, validate for 171 steps\n",
      "Epoch 1/50\n",
      "400/400 - 22s - loss: 1.1929 - accuracy: 0.6487 - val_loss: 0.4788 - val_accuracy: 0.7545\n",
      "Epoch 2/50\n",
      "400/400 - 21s - loss: 0.4732 - accuracy: 0.7685 - val_loss: 0.4455 - val_accuracy: 0.7875\n",
      "Epoch 3/50\n",
      "400/400 - 21s - loss: 0.4538 - accuracy: 0.7814 - val_loss: 0.4438 - val_accuracy: 0.7931\n",
      "Epoch 4/50\n",
      "400/400 - 21s - loss: 0.4373 - accuracy: 0.7937 - val_loss: 0.4189 - val_accuracy: 0.8018\n",
      "Epoch 5/50\n",
      "400/400 - 21s - loss: 0.4181 - accuracy: 0.8059 - val_loss: 0.4130 - val_accuracy: 0.8016\n",
      "Epoch 6/50\n",
      "400/400 - 21s - loss: 0.4029 - accuracy: 0.8127 - val_loss: 0.3742 - val_accuracy: 0.8130\n",
      "Epoch 7/50\n",
      "400/400 - 21s - loss: 0.3860 - accuracy: 0.8236 - val_loss: 0.3622 - val_accuracy: 0.8265\n",
      "Epoch 8/50\n",
      "400/400 - 21s - loss: 0.3751 - accuracy: 0.8294 - val_loss: 0.3553 - val_accuracy: 0.8414\n",
      "Epoch 9/50\n",
      "400/400 - 21s - loss: 0.3683 - accuracy: 0.8330 - val_loss: 0.3625 - val_accuracy: 0.8337\n",
      "Epoch 10/50\n",
      "400/400 - 21s - loss: 0.3658 - accuracy: 0.8333 - val_loss: 0.3363 - val_accuracy: 0.8504\n",
      "Epoch 11/50\n",
      "400/400 - 21s - loss: 0.3585 - accuracy: 0.8367 - val_loss: 0.3324 - val_accuracy: 0.8541\n",
      "Epoch 12/50\n",
      "400/400 - 21s - loss: 0.3504 - accuracy: 0.8420 - val_loss: 0.3248 - val_accuracy: 0.8459\n",
      "Epoch 13/50\n",
      "400/400 - 21s - loss: 0.3435 - accuracy: 0.8450 - val_loss: 0.3294 - val_accuracy: 0.8401\n",
      "Epoch 14/50\n",
      "400/400 - 21s - loss: 0.3429 - accuracy: 0.8457 - val_loss: 0.3147 - val_accuracy: 0.8569\n",
      "Epoch 15/50\n",
      "400/400 - 21s - loss: 0.3318 - accuracy: 0.8509 - val_loss: 0.3068 - val_accuracy: 0.8557\n",
      "Epoch 16/50\n",
      "400/400 - 21s - loss: 0.3267 - accuracy: 0.8541 - val_loss: 0.4113 - val_accuracy: 0.7813\n",
      "Epoch 17/50\n",
      "400/400 - 21s - loss: 0.3191 - accuracy: 0.8577 - val_loss: 0.3357 - val_accuracy: 0.8224\n",
      "Epoch 18/50\n",
      "400/400 - 21s - loss: 0.3177 - accuracy: 0.8569 - val_loss: 0.2926 - val_accuracy: 0.8596\n",
      "Epoch 19/50\n",
      "400/400 - 21s - loss: 0.3083 - accuracy: 0.8649 - val_loss: 0.3026 - val_accuracy: 0.8522\n",
      "Epoch 20/50\n",
      "400/400 - 21s - loss: 0.3087 - accuracy: 0.8634 - val_loss: 0.3149 - val_accuracy: 0.8471\n",
      "Epoch 21/50\n",
      "400/400 - 21s - loss: 0.3005 - accuracy: 0.8690 - val_loss: 0.2890 - val_accuracy: 0.8644\n",
      "Epoch 22/50\n",
      "400/400 - 21s - loss: 0.2928 - accuracy: 0.8718 - val_loss: 0.2885 - val_accuracy: 0.8586\n",
      "Epoch 23/50\n",
      "400/400 - 21s - loss: 0.2917 - accuracy: 0.8729 - val_loss: 0.2780 - val_accuracy: 0.8847\n",
      "Epoch 24/50\n",
      "400/400 - 21s - loss: 0.2848 - accuracy: 0.8757 - val_loss: 0.2799 - val_accuracy: 0.8604\n",
      "Epoch 25/50\n",
      "400/400 - 21s - loss: 0.2856 - accuracy: 0.8745 - val_loss: 0.2638 - val_accuracy: 0.8788\n",
      "Epoch 26/50\n",
      "400/400 - 21s - loss: 0.2799 - accuracy: 0.8780 - val_loss: 0.2628 - val_accuracy: 0.8832\n",
      "Epoch 27/50\n",
      "400/400 - 21s - loss: 0.2789 - accuracy: 0.8797 - val_loss: 0.2553 - val_accuracy: 0.8947\n",
      "Epoch 28/50\n",
      "400/400 - 21s - loss: 0.2674 - accuracy: 0.8847 - val_loss: 0.2548 - val_accuracy: 0.8981\n",
      "Epoch 29/50\n",
      "400/400 - 21s - loss: 0.2718 - accuracy: 0.8819 - val_loss: 0.2656 - val_accuracy: 0.8947\n",
      "Epoch 30/50\n",
      "400/400 - 21s - loss: 0.2662 - accuracy: 0.8857 - val_loss: 0.2688 - val_accuracy: 0.8941\n",
      "Epoch 31/50\n",
      "400/400 - 21s - loss: 0.2645 - accuracy: 0.8870 - val_loss: 0.2475 - val_accuracy: 0.8969\n",
      "Epoch 32/50\n",
      "400/400 - 21s - loss: 0.2686 - accuracy: 0.8861 - val_loss: 0.2674 - val_accuracy: 0.9036\n",
      "Epoch 33/50\n",
      "400/400 - 21s - loss: 0.2629 - accuracy: 0.8884 - val_loss: 0.2508 - val_accuracy: 0.9009\n",
      "Epoch 34/50\n",
      "400/400 - 21s - loss: 0.2605 - accuracy: 0.8895 - val_loss: 0.2503 - val_accuracy: 0.8962\n",
      "Epoch 35/50\n",
      "400/400 - 21s - loss: 0.2583 - accuracy: 0.8886 - val_loss: 0.2799 - val_accuracy: 0.8977\n",
      "Epoch 36/50\n",
      "400/400 - 21s - loss: 0.2553 - accuracy: 0.8923 - val_loss: 0.2460 - val_accuracy: 0.9039\n",
      "Epoch 37/50\n",
      "400/400 - 21s - loss: 0.2506 - accuracy: 0.8949 - val_loss: 0.2551 - val_accuracy: 0.8849\n",
      "Epoch 38/50\n",
      "400/400 - 21s - loss: 0.2455 - accuracy: 0.8965 - val_loss: 0.2482 - val_accuracy: 0.9115\n",
      "Epoch 39/50\n",
      "400/400 - 21s - loss: 0.2480 - accuracy: 0.8947 - val_loss: 0.2497 - val_accuracy: 0.9015\n",
      "Epoch 40/50\n",
      "400/400 - 21s - loss: 0.2480 - accuracy: 0.8939 - val_loss: 0.2313 - val_accuracy: 0.9099\n",
      "Epoch 41/50\n",
      "400/400 - 21s - loss: 0.2449 - accuracy: 0.8965 - val_loss: 0.2599 - val_accuracy: 0.9015\n",
      "Epoch 42/50\n",
      "400/400 - 21s - loss: 0.2427 - accuracy: 0.8977 - val_loss: 0.2550 - val_accuracy: 0.8897\n",
      "Epoch 43/50\n",
      "400/400 - 21s - loss: 0.2407 - accuracy: 0.8988 - val_loss: 0.2323 - val_accuracy: 0.9118\n",
      "Epoch 44/50\n",
      "400/400 - 183s - loss: 0.2344 - accuracy: 0.9016 - val_loss: 0.2831 - val_accuracy: 0.8971\n",
      "Epoch 45/50\n",
      "400/400 - 101s - loss: 0.2431 - accuracy: 0.8971 - val_loss: 0.2509 - val_accuracy: 0.9033\n",
      "Epoch 46/50\n",
      "400/400 - 21s - loss: 0.2387 - accuracy: 0.9003 - val_loss: 0.2427 - val_accuracy: 0.9090\n",
      "Epoch 47/50\n",
      "400/400 - 21s - loss: 0.2353 - accuracy: 0.9005 - val_loss: 0.2525 - val_accuracy: 0.9066\n",
      "Epoch 48/50\n",
      "400/400 - 21s - loss: 0.2334 - accuracy: 0.9019 - val_loss: 0.2366 - val_accuracy: 0.9072\n"
     ]
    },
    {
     "data": {
      "text/html": [
       "<span style=\"color:#4527A0\"><h1 style=\"font-size:18px\">Trial complete</h1></span>"
      ],
      "text/plain": [
       "<IPython.core.display.HTML object>"
      ]
     },
     "metadata": {},
     "output_type": "display_data"
    },
    {
     "data": {
      "text/html": [
       "<span style=\"color:#4527A0\"><h1 style=\"font-size:18px\">Trial summary</h1></span>"
      ],
      "text/plain": [
       "<IPython.core.display.HTML object>"
      ]
     },
     "metadata": {},
     "output_type": "display_data"
    },
    {
     "data": {
      "text/html": [
       "<span style=\"color:cyan\"> |-Trial ID: 5babe0abf5379f44c833c198b8fb7a25</span>"
      ],
      "text/plain": [
       "<IPython.core.display.HTML object>"
      ]
     },
     "metadata": {},
     "output_type": "display_data"
    },
    {
     "data": {
      "text/html": [
       "<span style=\"color:cyan\"> |-Score: 0.9118171334266663</span>"
      ],
      "text/plain": [
       "<IPython.core.display.HTML object>"
      ]
     },
     "metadata": {},
     "output_type": "display_data"
    },
    {
     "data": {
      "text/html": [
       "<span style=\"color:cyan\"> |-Best step: 0</span>"
      ],
      "text/plain": [
       "<IPython.core.display.HTML object>"
      ]
     },
     "metadata": {},
     "output_type": "display_data"
    },
    {
     "data": {
      "text/html": [
       "<span style=\"color:#7E57C2\"><h2 style=\"font-size:16px\">Hyperparameters:</h2></span>"
      ],
      "text/plain": [
       "<IPython.core.display.HTML object>"
      ]
     },
     "metadata": {},
     "output_type": "display_data"
    },
    {
     "data": {
      "text/html": [
       "<span style=\"color:cyan\"> |-conv_1: 32</span>"
      ],
      "text/plain": [
       "<IPython.core.display.HTML object>"
      ]
     },
     "metadata": {},
     "output_type": "display_data"
    },
    {
     "data": {
      "text/html": [
       "<span style=\"color:blue\"> |-conv_2: 32</span>"
      ],
      "text/plain": [
       "<IPython.core.display.HTML object>"
      ]
     },
     "metadata": {},
     "output_type": "display_data"
    },
    {
     "data": {
      "text/html": [
       "<span style=\"color:cyan\"> |-conv_3: 64</span>"
      ],
      "text/plain": [
       "<IPython.core.display.HTML object>"
      ]
     },
     "metadata": {},
     "output_type": "display_data"
    },
    {
     "data": {
      "text/html": [
       "<span style=\"color:blue\"> |-dropout_1: 0.2</span>"
      ],
      "text/plain": [
       "<IPython.core.display.HTML object>"
      ]
     },
     "metadata": {},
     "output_type": "display_data"
    },
    {
     "data": {
      "text/html": [
       "<span style=\"color:cyan\"> |-dropout_2: 0.5</span>"
      ],
      "text/plain": [
       "<IPython.core.display.HTML object>"
      ]
     },
     "metadata": {},
     "output_type": "display_data"
    },
    {
     "data": {
      "text/html": [
       "<span style=\"color:blue\"> |-dropout_3: 0.1</span>"
      ],
      "text/plain": [
       "<IPython.core.display.HTML object>"
      ]
     },
     "metadata": {},
     "output_type": "display_data"
    },
    {
     "data": {
      "text/html": [
       "<span style=\"color:cyan\"> |-dropout_4: 0.4</span>"
      ],
      "text/plain": [
       "<IPython.core.display.HTML object>"
      ]
     },
     "metadata": {},
     "output_type": "display_data"
    },
    {
     "data": {
      "text/html": [
       "<span style=\"color:blue\"> |-units: 1024</span>"
      ],
      "text/plain": [
       "<IPython.core.display.HTML object>"
      ]
     },
     "metadata": {},
     "output_type": "display_data"
    },
    {
     "name": "stdout",
     "output_type": "stream",
     "text": [
      "WARNING:tensorflow:sample_weight modes were coerced from\n",
      "  ...\n",
      "    to  \n",
      "  ['...']\n",
      "WARNING:tensorflow:sample_weight modes were coerced from\n",
      "  ...\n",
      "    to  \n",
      "  ['...']\n",
      "Train for 400 steps, validate for 171 steps\n",
      "Epoch 1/50\n",
      "400/400 - 22s - loss: 0.7414 - accuracy: 0.7407 - val_loss: 0.4841 - val_accuracy: 0.7904\n",
      "Epoch 2/50\n",
      "400/400 - 21s - loss: 0.4611 - accuracy: 0.7763 - val_loss: 0.4848 - val_accuracy: 0.7992\n",
      "Epoch 3/50\n",
      "400/400 - 21s - loss: 0.4477 - accuracy: 0.7841 - val_loss: 0.4649 - val_accuracy: 0.8017\n",
      "Epoch 4/50\n",
      "400/400 - 21s - loss: 0.4282 - accuracy: 0.7946 - val_loss: 0.4291 - val_accuracy: 0.8149\n",
      "Epoch 5/50\n",
      "400/400 - 21s - loss: 0.4141 - accuracy: 0.8052 - val_loss: 0.4118 - val_accuracy: 0.8219\n",
      "Epoch 6/50\n",
      "400/400 - 21s - loss: 0.4019 - accuracy: 0.8115 - val_loss: 0.4376 - val_accuracy: 0.8144\n",
      "Epoch 7/50\n",
      "400/400 - 21s - loss: 0.3768 - accuracy: 0.8262 - val_loss: 0.3770 - val_accuracy: 0.8388\n",
      "Epoch 8/50\n",
      "400/400 - 21s - loss: 0.3537 - accuracy: 0.8371 - val_loss: 0.4061 - val_accuracy: 0.8327\n",
      "Epoch 9/50\n",
      "400/400 - 21s - loss: 0.3232 - accuracy: 0.8546 - val_loss: 0.4380 - val_accuracy: 0.8295\n",
      "Epoch 10/50\n",
      "400/400 - 21s - loss: 0.3014 - accuracy: 0.8669 - val_loss: 0.3507 - val_accuracy: 0.8508\n",
      "Epoch 11/50\n",
      "400/400 - 21s - loss: 0.2781 - accuracy: 0.8797 - val_loss: 0.3516 - val_accuracy: 0.8507\n",
      "Epoch 12/50\n",
      "400/400 - 21s - loss: 0.2746 - accuracy: 0.8811 - val_loss: 0.3830 - val_accuracy: 0.8384\n",
      "Epoch 13/50\n",
      "400/400 - 21s - loss: 0.2527 - accuracy: 0.8922 - val_loss: 0.3807 - val_accuracy: 0.8544\n",
      "Epoch 14/50\n",
      "400/400 - 21s - loss: 0.2416 - accuracy: 0.8975 - val_loss: 0.3889 - val_accuracy: 0.8460\n",
      "Epoch 15/50\n",
      "400/400 - 21s - loss: 0.2285 - accuracy: 0.9036 - val_loss: 0.4096 - val_accuracy: 0.8435\n",
      "Epoch 16/50\n",
      "400/400 - 21s - loss: 0.2068 - accuracy: 0.9147 - val_loss: 0.4694 - val_accuracy: 0.8384\n",
      "Epoch 17/50\n",
      "400/400 - 21s - loss: 0.2002 - accuracy: 0.9164 - val_loss: 0.4520 - val_accuracy: 0.8496\n",
      "Epoch 18/50\n",
      "400/400 - 21s - loss: 0.1867 - accuracy: 0.9224 - val_loss: 0.4528 - val_accuracy: 0.8505\n"
     ]
    },
    {
     "data": {
      "text/html": [
       "<span style=\"color:#4527A0\"><h1 style=\"font-size:18px\">Trial complete</h1></span>"
      ],
      "text/plain": [
       "<IPython.core.display.HTML object>"
      ]
     },
     "metadata": {},
     "output_type": "display_data"
    },
    {
     "data": {
      "text/html": [
       "<span style=\"color:#4527A0\"><h1 style=\"font-size:18px\">Trial summary</h1></span>"
      ],
      "text/plain": [
       "<IPython.core.display.HTML object>"
      ]
     },
     "metadata": {},
     "output_type": "display_data"
    },
    {
     "data": {
      "text/html": [
       "<span style=\"color:cyan\"> |-Trial ID: b5a0b724002fbd496b6c924fc33b0fbd</span>"
      ],
      "text/plain": [
       "<IPython.core.display.HTML object>"
      ]
     },
     "metadata": {},
     "output_type": "display_data"
    },
    {
     "data": {
      "text/html": [
       "<span style=\"color:cyan\"> |-Score: 0.8544456958770752</span>"
      ],
      "text/plain": [
       "<IPython.core.display.HTML object>"
      ]
     },
     "metadata": {},
     "output_type": "display_data"
    },
    {
     "data": {
      "text/html": [
       "<span style=\"color:cyan\"> |-Best step: 0</span>"
      ],
      "text/plain": [
       "<IPython.core.display.HTML object>"
      ]
     },
     "metadata": {},
     "output_type": "display_data"
    },
    {
     "data": {
      "text/html": [
       "<span style=\"color:#7E57C2\"><h2 style=\"font-size:16px\">Hyperparameters:</h2></span>"
      ],
      "text/plain": [
       "<IPython.core.display.HTML object>"
      ]
     },
     "metadata": {},
     "output_type": "display_data"
    },
    {
     "data": {
      "text/html": [
       "<span style=\"color:cyan\"> |-conv_1: 16</span>"
      ],
      "text/plain": [
       "<IPython.core.display.HTML object>"
      ]
     },
     "metadata": {},
     "output_type": "display_data"
    },
    {
     "data": {
      "text/html": [
       "<span style=\"color:blue\"> |-conv_2: 64</span>"
      ],
      "text/plain": [
       "<IPython.core.display.HTML object>"
      ]
     },
     "metadata": {},
     "output_type": "display_data"
    },
    {
     "data": {
      "text/html": [
       "<span style=\"color:cyan\"> |-conv_3: 64</span>"
      ],
      "text/plain": [
       "<IPython.core.display.HTML object>"
      ]
     },
     "metadata": {},
     "output_type": "display_data"
    },
    {
     "data": {
      "text/html": [
       "<span style=\"color:blue\"> |-dropout_1: 0.0</span>"
      ],
      "text/plain": [
       "<IPython.core.display.HTML object>"
      ]
     },
     "metadata": {},
     "output_type": "display_data"
    },
    {
     "data": {
      "text/html": [
       "<span style=\"color:cyan\"> |-dropout_2: 0.1</span>"
      ],
      "text/plain": [
       "<IPython.core.display.HTML object>"
      ]
     },
     "metadata": {},
     "output_type": "display_data"
    },
    {
     "data": {
      "text/html": [
       "<span style=\"color:blue\"> |-dropout_3: 0.0</span>"
      ],
      "text/plain": [
       "<IPython.core.display.HTML object>"
      ]
     },
     "metadata": {},
     "output_type": "display_data"
    },
    {
     "data": {
      "text/html": [
       "<span style=\"color:cyan\"> |-dropout_4: 0.4</span>"
      ],
      "text/plain": [
       "<IPython.core.display.HTML object>"
      ]
     },
     "metadata": {},
     "output_type": "display_data"
    },
    {
     "data": {
      "text/html": [
       "<span style=\"color:blue\"> |-units: 384</span>"
      ],
      "text/plain": [
       "<IPython.core.display.HTML object>"
      ]
     },
     "metadata": {},
     "output_type": "display_data"
    },
    {
     "name": "stdout",
     "output_type": "stream",
     "text": [
      "WARNING:tensorflow:sample_weight modes were coerced from\n",
      "  ...\n",
      "    to  \n",
      "  ['...']\n",
      "WARNING:tensorflow:sample_weight modes were coerced from\n",
      "  ...\n",
      "    to  \n",
      "  ['...']\n",
      "Train for 400 steps, validate for 171 steps\n",
      "Epoch 1/50\n",
      "400/400 - 22s - loss: 1.0663 - accuracy: 0.6896 - val_loss: 0.5993 - val_accuracy: 0.7721\n",
      "Epoch 2/50\n",
      "400/400 - 21s - loss: 0.4664 - accuracy: 0.7733 - val_loss: 0.5477 - val_accuracy: 0.7976\n",
      "Epoch 3/50\n",
      "400/400 - 21s - loss: 0.4486 - accuracy: 0.7856 - val_loss: 0.5076 - val_accuracy: 0.8115\n",
      "Epoch 4/50\n",
      "400/400 - 21s - loss: 0.4336 - accuracy: 0.7932 - val_loss: 0.4795 - val_accuracy: 0.8170\n",
      "Epoch 5/50\n",
      "400/400 - 21s - loss: 0.4241 - accuracy: 0.7998 - val_loss: 0.4495 - val_accuracy: 0.8220\n",
      "Epoch 6/50\n",
      "400/400 - 21s - loss: 0.4170 - accuracy: 0.8046 - val_loss: 0.4220 - val_accuracy: 0.8254\n",
      "Epoch 7/50\n",
      "400/400 - 21s - loss: 0.4001 - accuracy: 0.8138 - val_loss: 0.3921 - val_accuracy: 0.8279\n",
      "Epoch 8/50\n",
      "400/400 - 21s - loss: 0.3867 - accuracy: 0.8215 - val_loss: 0.3774 - val_accuracy: 0.8297\n",
      "Epoch 9/50\n",
      "400/400 - 21s - loss: 0.3745 - accuracy: 0.8288 - val_loss: 0.3572 - val_accuracy: 0.8441\n",
      "Epoch 10/50\n",
      "400/400 - 21s - loss: 0.3647 - accuracy: 0.8343 - val_loss: 0.3477 - val_accuracy: 0.8515\n",
      "Epoch 11/50\n",
      "400/400 - 21s - loss: 0.3543 - accuracy: 0.8409 - val_loss: 0.3325 - val_accuracy: 0.8577\n",
      "Epoch 12/50\n",
      "400/400 - 21s - loss: 0.3428 - accuracy: 0.8455 - val_loss: 0.3177 - val_accuracy: 0.8566\n",
      "Epoch 13/50\n",
      "400/400 - 21s - loss: 0.3367 - accuracy: 0.8494 - val_loss: 0.3262 - val_accuracy: 0.8638\n",
      "Epoch 14/50\n",
      "400/400 - 21s - loss: 0.3295 - accuracy: 0.8530 - val_loss: 0.3163 - val_accuracy: 0.8696\n",
      "Epoch 15/50\n",
      "400/400 - 21s - loss: 0.3206 - accuracy: 0.8591 - val_loss: 0.3024 - val_accuracy: 0.8788\n",
      "Epoch 16/50\n",
      "400/400 - 21s - loss: 0.3184 - accuracy: 0.8589 - val_loss: 0.3161 - val_accuracy: 0.8752\n",
      "Epoch 17/50\n",
      "400/400 - 21s - loss: 0.3095 - accuracy: 0.8620 - val_loss: 0.2946 - val_accuracy: 0.8759\n",
      "Epoch 18/50\n",
      "400/400 - 21s - loss: 0.3025 - accuracy: 0.8672 - val_loss: 0.3027 - val_accuracy: 0.8661\n",
      "Epoch 19/50\n",
      "400/400 - 21s - loss: 0.2980 - accuracy: 0.8693 - val_loss: 0.2986 - val_accuracy: 0.8673\n",
      "Epoch 20/50\n",
      "400/400 - 21s - loss: 0.2940 - accuracy: 0.8706 - val_loss: 0.2738 - val_accuracy: 0.8805\n",
      "Epoch 21/50\n",
      "400/400 - 21s - loss: 0.2839 - accuracy: 0.8751 - val_loss: 0.2731 - val_accuracy: 0.8951\n",
      "Epoch 22/50\n",
      "400/400 - 21s - loss: 0.2810 - accuracy: 0.8777 - val_loss: 0.2596 - val_accuracy: 0.8874\n",
      "Epoch 23/50\n",
      "400/400 - 21s - loss: 0.2746 - accuracy: 0.8807 - val_loss: 0.2557 - val_accuracy: 0.8879\n",
      "Epoch 24/50\n",
      "400/400 - 21s - loss: 0.2702 - accuracy: 0.8826 - val_loss: 0.2700 - val_accuracy: 0.8997\n",
      "Epoch 25/50\n",
      "400/400 - 21s - loss: 0.2656 - accuracy: 0.8857 - val_loss: 0.2890 - val_accuracy: 0.8953\n",
      "Epoch 26/50\n",
      "400/400 - 21s - loss: 0.2592 - accuracy: 0.8889 - val_loss: 0.2601 - val_accuracy: 0.8966\n",
      "Epoch 27/50\n",
      "400/400 - 21s - loss: 0.2549 - accuracy: 0.8898 - val_loss: 0.2536 - val_accuracy: 0.8990\n",
      "Epoch 28/50\n",
      "400/400 - 21s - loss: 0.2552 - accuracy: 0.8903 - val_loss: 0.2427 - val_accuracy: 0.9013\n",
      "Epoch 29/50\n",
      "400/400 - 21s - loss: 0.2465 - accuracy: 0.8937 - val_loss: 0.2413 - val_accuracy: 0.9008\n",
      "Epoch 30/50\n",
      "400/400 - 21s - loss: 0.2531 - accuracy: 0.8910 - val_loss: 0.2380 - val_accuracy: 0.9050\n",
      "Epoch 31/50\n",
      "400/400 - 21s - loss: 0.2434 - accuracy: 0.8953 - val_loss: 0.2488 - val_accuracy: 0.8949\n",
      "Epoch 32/50\n",
      "400/400 - 21s - loss: 0.2460 - accuracy: 0.8957 - val_loss: 0.2549 - val_accuracy: 0.9027\n",
      "Epoch 33/50\n",
      "400/400 - 21s - loss: 0.2385 - accuracy: 0.8987 - val_loss: 0.2599 - val_accuracy: 0.8878\n",
      "Epoch 34/50\n",
      "400/400 - 21s - loss: 0.2367 - accuracy: 0.8986 - val_loss: 0.2425 - val_accuracy: 0.8976\n",
      "Epoch 35/50\n",
      "400/400 - 21s - loss: 0.2394 - accuracy: 0.8971 - val_loss: 0.2479 - val_accuracy: 0.9109\n",
      "Epoch 36/50\n",
      "400/400 - 21s - loss: 0.2339 - accuracy: 0.9005 - val_loss: 0.2466 - val_accuracy: 0.9088\n",
      "Epoch 37/50\n",
      "400/400 - 21s - loss: 0.2343 - accuracy: 0.9002 - val_loss: 0.2736 - val_accuracy: 0.9065\n",
      "Epoch 38/50\n",
      "400/400 - 21s - loss: 0.2237 - accuracy: 0.9062 - val_loss: 0.2380 - val_accuracy: 0.9159\n",
      "Epoch 39/50\n",
      "400/400 - 21s - loss: 0.2306 - accuracy: 0.9021 - val_loss: 0.2268 - val_accuracy: 0.9110\n",
      "Epoch 40/50\n",
      "400/400 - 21s - loss: 0.2224 - accuracy: 0.9062 - val_loss: 0.2419 - val_accuracy: 0.9061\n",
      "Epoch 41/50\n",
      "400/400 - 21s - loss: 0.2216 - accuracy: 0.9075 - val_loss: 0.2518 - val_accuracy: 0.9113\n",
      "Epoch 42/50\n",
      "400/400 - 21s - loss: 0.2193 - accuracy: 0.9094 - val_loss: 0.2480 - val_accuracy: 0.8931\n",
      "Epoch 43/50\n",
      "400/400 - 21s - loss: 0.2226 - accuracy: 0.9068 - val_loss: 0.2448 - val_accuracy: 0.9049\n"
     ]
    },
    {
     "data": {
      "text/html": [
       "<span style=\"color:#4527A0\"><h1 style=\"font-size:18px\">Trial complete</h1></span>"
      ],
      "text/plain": [
       "<IPython.core.display.HTML object>"
      ]
     },
     "metadata": {},
     "output_type": "display_data"
    },
    {
     "data": {
      "text/html": [
       "<span style=\"color:#4527A0\"><h1 style=\"font-size:18px\">Trial summary</h1></span>"
      ],
      "text/plain": [
       "<IPython.core.display.HTML object>"
      ]
     },
     "metadata": {},
     "output_type": "display_data"
    },
    {
     "data": {
      "text/html": [
       "<span style=\"color:cyan\"> |-Trial ID: f00c97cab701805d42f62c717839b770</span>"
      ],
      "text/plain": [
       "<IPython.core.display.HTML object>"
      ]
     },
     "metadata": {},
     "output_type": "display_data"
    },
    {
     "data": {
      "text/html": [
       "<span style=\"color:cyan\"> |-Score: 0.9159314036369324</span>"
      ],
      "text/plain": [
       "<IPython.core.display.HTML object>"
      ]
     },
     "metadata": {},
     "output_type": "display_data"
    },
    {
     "data": {
      "text/html": [
       "<span style=\"color:cyan\"> |-Best step: 0</span>"
      ],
      "text/plain": [
       "<IPython.core.display.HTML object>"
      ]
     },
     "metadata": {},
     "output_type": "display_data"
    },
    {
     "data": {
      "text/html": [
       "<span style=\"color:#7E57C2\"><h2 style=\"font-size:16px\">Hyperparameters:</h2></span>"
      ],
      "text/plain": [
       "<IPython.core.display.HTML object>"
      ]
     },
     "metadata": {},
     "output_type": "display_data"
    },
    {
     "data": {
      "text/html": [
       "<span style=\"color:cyan\"> |-conv_1: 32</span>"
      ],
      "text/plain": [
       "<IPython.core.display.HTML object>"
      ]
     },
     "metadata": {},
     "output_type": "display_data"
    },
    {
     "data": {
      "text/html": [
       "<span style=\"color:blue\"> |-conv_2: 64</span>"
      ],
      "text/plain": [
       "<IPython.core.display.HTML object>"
      ]
     },
     "metadata": {},
     "output_type": "display_data"
    },
    {
     "data": {
      "text/html": [
       "<span style=\"color:cyan\"> |-conv_3: 64</span>"
      ],
      "text/plain": [
       "<IPython.core.display.HTML object>"
      ]
     },
     "metadata": {},
     "output_type": "display_data"
    },
    {
     "data": {
      "text/html": [
       "<span style=\"color:blue\"> |-dropout_1: 0.4</span>"
      ],
      "text/plain": [
       "<IPython.core.display.HTML object>"
      ]
     },
     "metadata": {},
     "output_type": "display_data"
    },
    {
     "data": {
      "text/html": [
       "<span style=\"color:cyan\"> |-dropout_2: 0.30000000000000004</span>"
      ],
      "text/plain": [
       "<IPython.core.display.HTML object>"
      ]
     },
     "metadata": {},
     "output_type": "display_data"
    },
    {
     "data": {
      "text/html": [
       "<span style=\"color:blue\"> |-dropout_3: 0.30000000000000004</span>"
      ],
      "text/plain": [
       "<IPython.core.display.HTML object>"
      ]
     },
     "metadata": {},
     "output_type": "display_data"
    },
    {
     "data": {
      "text/html": [
       "<span style=\"color:cyan\"> |-dropout_4: 0.4</span>"
      ],
      "text/plain": [
       "<IPython.core.display.HTML object>"
      ]
     },
     "metadata": {},
     "output_type": "display_data"
    },
    {
     "data": {
      "text/html": [
       "<span style=\"color:blue\"> |-units: 256</span>"
      ],
      "text/plain": [
       "<IPython.core.display.HTML object>"
      ]
     },
     "metadata": {},
     "output_type": "display_data"
    },
    {
     "name": "stdout",
     "output_type": "stream",
     "text": [
      "WARNING:tensorflow:sample_weight modes were coerced from\n",
      "  ...\n",
      "    to  \n",
      "  ['...']\n",
      "WARNING:tensorflow:sample_weight modes were coerced from\n",
      "  ...\n",
      "    to  \n",
      "  ['...']\n",
      "Train for 400 steps, validate for 171 steps\n",
      "Epoch 1/50\n",
      "400/400 - 22s - loss: 1.9215 - accuracy: 0.6726 - val_loss: 0.4744 - val_accuracy: 0.7756\n",
      "Epoch 2/50\n",
      "400/400 - 21s - loss: 0.4757 - accuracy: 0.7675 - val_loss: 0.4749 - val_accuracy: 0.7898\n",
      "Epoch 3/50\n",
      "400/400 - 21s - loss: 0.4623 - accuracy: 0.7761 - val_loss: 0.4570 - val_accuracy: 0.7898\n",
      "Epoch 4/50\n",
      "400/400 - 21s - loss: 0.4555 - accuracy: 0.7826 - val_loss: 0.4890 - val_accuracy: 0.7951\n",
      "Epoch 5/50\n",
      "400/400 - 21s - loss: 0.4475 - accuracy: 0.7854 - val_loss: 0.4585 - val_accuracy: 0.7954\n",
      "Epoch 6/50\n",
      "400/400 - 21s - loss: 0.4422 - accuracy: 0.7890 - val_loss: 0.4426 - val_accuracy: 0.8046\n",
      "Epoch 7/50\n",
      "400/400 - 21s - loss: 0.4319 - accuracy: 0.7951 - val_loss: 0.4374 - val_accuracy: 0.8128\n",
      "Epoch 8/50\n",
      "400/400 - 21s - loss: 0.4221 - accuracy: 0.8015 - val_loss: 0.4106 - val_accuracy: 0.8158\n",
      "Epoch 9/50\n",
      "400/400 - 21s - loss: 0.4152 - accuracy: 0.8055 - val_loss: 0.3925 - val_accuracy: 0.8191\n",
      "Epoch 10/50\n",
      "400/400 - 21s - loss: 0.3962 - accuracy: 0.8172 - val_loss: 0.4167 - val_accuracy: 0.8015\n",
      "Epoch 11/50\n",
      "400/400 - 21s - loss: 0.3652 - accuracy: 0.8343 - val_loss: 0.3186 - val_accuracy: 0.8576\n",
      "Epoch 12/50\n",
      "400/400 - 21s - loss: 0.3367 - accuracy: 0.8490 - val_loss: 0.3599 - val_accuracy: 0.8425\n",
      "Epoch 13/50\n",
      "400/400 - 21s - loss: 0.3192 - accuracy: 0.8592 - val_loss: 0.4394 - val_accuracy: 0.8249\n",
      "Epoch 14/50\n",
      "400/400 - 21s - loss: 0.3116 - accuracy: 0.8637 - val_loss: 0.4355 - val_accuracy: 0.8118\n",
      "Epoch 15/50\n",
      "400/400 - 21s - loss: 0.3021 - accuracy: 0.8667 - val_loss: 0.4045 - val_accuracy: 0.8110\n",
      "Epoch 16/50\n",
      "400/400 - 21s - loss: 0.2939 - accuracy: 0.8720 - val_loss: 0.2801 - val_accuracy: 0.8752\n",
      "Epoch 17/50\n",
      "400/400 - 21s - loss: 0.2905 - accuracy: 0.8754 - val_loss: 0.3251 - val_accuracy: 0.8546\n",
      "Epoch 18/50\n",
      "400/400 - 21s - loss: 0.2770 - accuracy: 0.8821 - val_loss: 0.2984 - val_accuracy: 0.8567\n",
      "Epoch 19/50\n",
      "400/400 - 21s - loss: 0.2686 - accuracy: 0.8844 - val_loss: 0.3121 - val_accuracy: 0.8580\n",
      "Epoch 20/50\n",
      "400/400 - 21s - loss: 0.2650 - accuracy: 0.8845 - val_loss: 0.3065 - val_accuracy: 0.8549\n",
      "Epoch 21/50\n",
      "400/400 - 21s - loss: 0.2611 - accuracy: 0.8878 - val_loss: 0.3485 - val_accuracy: 0.8444\n"
     ]
    },
    {
     "data": {
      "text/html": [
       "<span style=\"color:#4527A0\"><h1 style=\"font-size:18px\">Trial complete</h1></span>"
      ],
      "text/plain": [
       "<IPython.core.display.HTML object>"
      ]
     },
     "metadata": {},
     "output_type": "display_data"
    },
    {
     "data": {
      "text/html": [
       "<span style=\"color:#4527A0\"><h1 style=\"font-size:18px\">Trial summary</h1></span>"
      ],
      "text/plain": [
       "<IPython.core.display.HTML object>"
      ]
     },
     "metadata": {},
     "output_type": "display_data"
    },
    {
     "data": {
      "text/html": [
       "<span style=\"color:cyan\"> |-Trial ID: b99c1c254110180ecc1c28eb11c2db6b</span>"
      ],
      "text/plain": [
       "<IPython.core.display.HTML object>"
      ]
     },
     "metadata": {},
     "output_type": "display_data"
    },
    {
     "data": {
      "text/html": [
       "<span style=\"color:cyan\"> |-Score: 0.8752456903457642</span>"
      ],
      "text/plain": [
       "<IPython.core.display.HTML object>"
      ]
     },
     "metadata": {},
     "output_type": "display_data"
    },
    {
     "data": {
      "text/html": [
       "<span style=\"color:cyan\"> |-Best step: 0</span>"
      ],
      "text/plain": [
       "<IPython.core.display.HTML object>"
      ]
     },
     "metadata": {},
     "output_type": "display_data"
    },
    {
     "data": {
      "text/html": [
       "<span style=\"color:#7E57C2\"><h2 style=\"font-size:16px\">Hyperparameters:</h2></span>"
      ],
      "text/plain": [
       "<IPython.core.display.HTML object>"
      ]
     },
     "metadata": {},
     "output_type": "display_data"
    },
    {
     "data": {
      "text/html": [
       "<span style=\"color:cyan\"> |-conv_1: 32</span>"
      ],
      "text/plain": [
       "<IPython.core.display.HTML object>"
      ]
     },
     "metadata": {},
     "output_type": "display_data"
    },
    {
     "data": {
      "text/html": [
       "<span style=\"color:blue\"> |-conv_2: 32</span>"
      ],
      "text/plain": [
       "<IPython.core.display.HTML object>"
      ]
     },
     "metadata": {},
     "output_type": "display_data"
    },
    {
     "data": {
      "text/html": [
       "<span style=\"color:cyan\"> |-conv_3: 128</span>"
      ],
      "text/plain": [
       "<IPython.core.display.HTML object>"
      ]
     },
     "metadata": {},
     "output_type": "display_data"
    },
    {
     "data": {
      "text/html": [
       "<span style=\"color:blue\"> |-dropout_1: 0.2</span>"
      ],
      "text/plain": [
       "<IPython.core.display.HTML object>"
      ]
     },
     "metadata": {},
     "output_type": "display_data"
    },
    {
     "data": {
      "text/html": [
       "<span style=\"color:cyan\"> |-dropout_2: 0.30000000000000004</span>"
      ],
      "text/plain": [
       "<IPython.core.display.HTML object>"
      ]
     },
     "metadata": {},
     "output_type": "display_data"
    },
    {
     "data": {
      "text/html": [
       "<span style=\"color:blue\"> |-dropout_3: 0.2</span>"
      ],
      "text/plain": [
       "<IPython.core.display.HTML object>"
      ]
     },
     "metadata": {},
     "output_type": "display_data"
    },
    {
     "data": {
      "text/html": [
       "<span style=\"color:cyan\"> |-dropout_4: 0.30000000000000004</span>"
      ],
      "text/plain": [
       "<IPython.core.display.HTML object>"
      ]
     },
     "metadata": {},
     "output_type": "display_data"
    },
    {
     "data": {
      "text/html": [
       "<span style=\"color:blue\"> |-units: 640</span>"
      ],
      "text/plain": [
       "<IPython.core.display.HTML object>"
      ]
     },
     "metadata": {},
     "output_type": "display_data"
    },
    {
     "name": "stdout",
     "output_type": "stream",
     "text": [
      "INFO:tensorflow:Oracle triggered exit\n"
     ]
    }
   ],
   "source": [
    "early_stopping_callback = tf.keras.callbacks.EarlyStopping(monitor='val_accuracy', patience=5)\n",
    "tuner.search(\n",
    "    data_gen(TRAIN_SET[:51200], FILE_LABELS, BATCH_SIZE), \n",
    "    steps_per_epoch=len(TRAIN_SET[:51200]) // BATCH_SIZE,\n",
    "    epochs=50, \n",
    "    validation_data=data_gen(TEST_SET, FILE_LABELS, BATCH_SIZE),\n",
    "    validation_steps=len(TEST_SET) // BATCH_SIZE,\n",
    "    callbacks=[early_stopping_callback],\n",
    "    verbose=2\n",
    ")"
   ]
  },
  {
   "cell_type": "markdown",
   "metadata": {},
   "source": [
    "# Najlepsze wyniki"
   ]
  },
  {
   "cell_type": "code",
   "execution_count": 27,
   "metadata": {},
   "outputs": [
    {
     "data": {
      "text/html": [
       "<span style=\"color:#4527A0\"><h1 style=\"font-size:18px\">Results summary</h1></span>"
      ],
      "text/plain": [
       "<IPython.core.display.HTML object>"
      ]
     },
     "metadata": {},
     "output_type": "display_data"
    },
    {
     "data": {
      "text/html": [
       "<span style=\"color:cyan\"> |-Results in my_dir\\hyperparameter-tuning1</span>"
      ],
      "text/plain": [
       "<IPython.core.display.HTML object>"
      ]
     },
     "metadata": {},
     "output_type": "display_data"
    },
    {
     "data": {
      "text/html": [
       "<span style=\"color:cyan\"> |-Showing 10 best trials</span>"
      ],
      "text/plain": [
       "<IPython.core.display.HTML object>"
      ]
     },
     "metadata": {},
     "output_type": "display_data"
    },
    {
     "data": {
      "text/html": [
       "<span style=\"color:cyan\"> |-Objective(name='val_accuracy', direction='max')</span>"
      ],
      "text/plain": [
       "<IPython.core.display.HTML object>"
      ]
     },
     "metadata": {},
     "output_type": "display_data"
    },
    {
     "data": {
      "text/html": [
       "<span style=\"color:#4527A0\"><h1 style=\"font-size:18px\">Trial summary</h1></span>"
      ],
      "text/plain": [
       "<IPython.core.display.HTML object>"
      ]
     },
     "metadata": {},
     "output_type": "display_data"
    },
    {
     "data": {
      "text/html": [
       "<span style=\"color:cyan\"> |-Trial ID: f00c97cab701805d42f62c717839b770</span>"
      ],
      "text/plain": [
       "<IPython.core.display.HTML object>"
      ]
     },
     "metadata": {},
     "output_type": "display_data"
    },
    {
     "data": {
      "text/html": [
       "<span style=\"color:cyan\"> |-Score: 0.9159314036369324</span>"
      ],
      "text/plain": [
       "<IPython.core.display.HTML object>"
      ]
     },
     "metadata": {},
     "output_type": "display_data"
    },
    {
     "data": {
      "text/html": [
       "<span style=\"color:cyan\"> |-Best step: 0</span>"
      ],
      "text/plain": [
       "<IPython.core.display.HTML object>"
      ]
     },
     "metadata": {},
     "output_type": "display_data"
    },
    {
     "data": {
      "text/html": [
       "<span style=\"color:#7E57C2\"><h2 style=\"font-size:16px\">Hyperparameters:</h2></span>"
      ],
      "text/plain": [
       "<IPython.core.display.HTML object>"
      ]
     },
     "metadata": {},
     "output_type": "display_data"
    },
    {
     "data": {
      "text/html": [
       "<span style=\"color:cyan\"> |-conv_1: 32</span>"
      ],
      "text/plain": [
       "<IPython.core.display.HTML object>"
      ]
     },
     "metadata": {},
     "output_type": "display_data"
    },
    {
     "data": {
      "text/html": [
       "<span style=\"color:blue\"> |-conv_2: 64</span>"
      ],
      "text/plain": [
       "<IPython.core.display.HTML object>"
      ]
     },
     "metadata": {},
     "output_type": "display_data"
    },
    {
     "data": {
      "text/html": [
       "<span style=\"color:cyan\"> |-conv_3: 64</span>"
      ],
      "text/plain": [
       "<IPython.core.display.HTML object>"
      ]
     },
     "metadata": {},
     "output_type": "display_data"
    },
    {
     "data": {
      "text/html": [
       "<span style=\"color:blue\"> |-dropout_1: 0.4</span>"
      ],
      "text/plain": [
       "<IPython.core.display.HTML object>"
      ]
     },
     "metadata": {},
     "output_type": "display_data"
    },
    {
     "data": {
      "text/html": [
       "<span style=\"color:cyan\"> |-dropout_2: 0.30000000000000004</span>"
      ],
      "text/plain": [
       "<IPython.core.display.HTML object>"
      ]
     },
     "metadata": {},
     "output_type": "display_data"
    },
    {
     "data": {
      "text/html": [
       "<span style=\"color:blue\"> |-dropout_3: 0.30000000000000004</span>"
      ],
      "text/plain": [
       "<IPython.core.display.HTML object>"
      ]
     },
     "metadata": {},
     "output_type": "display_data"
    },
    {
     "data": {
      "text/html": [
       "<span style=\"color:cyan\"> |-dropout_4: 0.4</span>"
      ],
      "text/plain": [
       "<IPython.core.display.HTML object>"
      ]
     },
     "metadata": {},
     "output_type": "display_data"
    },
    {
     "data": {
      "text/html": [
       "<span style=\"color:blue\"> |-units: 256</span>"
      ],
      "text/plain": [
       "<IPython.core.display.HTML object>"
      ]
     },
     "metadata": {},
     "output_type": "display_data"
    },
    {
     "data": {
      "text/html": [
       "<span style=\"color:#4527A0\"><h1 style=\"font-size:18px\">Trial summary</h1></span>"
      ],
      "text/plain": [
       "<IPython.core.display.HTML object>"
      ]
     },
     "metadata": {},
     "output_type": "display_data"
    },
    {
     "data": {
      "text/html": [
       "<span style=\"color:cyan\"> |-Trial ID: ee20308d228abd5233fd90bc29432527</span>"
      ],
      "text/plain": [
       "<IPython.core.display.HTML object>"
      ]
     },
     "metadata": {},
     "output_type": "display_data"
    },
    {
     "data": {
      "text/html": [
       "<span style=\"color:cyan\"> |-Score: 0.9148342609405518</span>"
      ],
      "text/plain": [
       "<IPython.core.display.HTML object>"
      ]
     },
     "metadata": {},
     "output_type": "display_data"
    },
    {
     "data": {
      "text/html": [
       "<span style=\"color:cyan\"> |-Best step: 0</span>"
      ],
      "text/plain": [
       "<IPython.core.display.HTML object>"
      ]
     },
     "metadata": {},
     "output_type": "display_data"
    },
    {
     "data": {
      "text/html": [
       "<span style=\"color:#7E57C2\"><h2 style=\"font-size:16px\">Hyperparameters:</h2></span>"
      ],
      "text/plain": [
       "<IPython.core.display.HTML object>"
      ]
     },
     "metadata": {},
     "output_type": "display_data"
    },
    {
     "data": {
      "text/html": [
       "<span style=\"color:cyan\"> |-conv_1: 32</span>"
      ],
      "text/plain": [
       "<IPython.core.display.HTML object>"
      ]
     },
     "metadata": {},
     "output_type": "display_data"
    },
    {
     "data": {
      "text/html": [
       "<span style=\"color:blue\"> |-conv_2: 64</span>"
      ],
      "text/plain": [
       "<IPython.core.display.HTML object>"
      ]
     },
     "metadata": {},
     "output_type": "display_data"
    },
    {
     "data": {
      "text/html": [
       "<span style=\"color:cyan\"> |-conv_3: 64</span>"
      ],
      "text/plain": [
       "<IPython.core.display.HTML object>"
      ]
     },
     "metadata": {},
     "output_type": "display_data"
    },
    {
     "data": {
      "text/html": [
       "<span style=\"color:blue\"> |-dropout_1: 0.2</span>"
      ],
      "text/plain": [
       "<IPython.core.display.HTML object>"
      ]
     },
     "metadata": {},
     "output_type": "display_data"
    },
    {
     "data": {
      "text/html": [
       "<span style=\"color:cyan\"> |-dropout_2: 0.2</span>"
      ],
      "text/plain": [
       "<IPython.core.display.HTML object>"
      ]
     },
     "metadata": {},
     "output_type": "display_data"
    },
    {
     "data": {
      "text/html": [
       "<span style=\"color:blue\"> |-dropout_3: 0.5</span>"
      ],
      "text/plain": [
       "<IPython.core.display.HTML object>"
      ]
     },
     "metadata": {},
     "output_type": "display_data"
    },
    {
     "data": {
      "text/html": [
       "<span style=\"color:cyan\"> |-dropout_4: 0.2</span>"
      ],
      "text/plain": [
       "<IPython.core.display.HTML object>"
      ]
     },
     "metadata": {},
     "output_type": "display_data"
    },
    {
     "data": {
      "text/html": [
       "<span style=\"color:blue\"> |-units: 896</span>"
      ],
      "text/plain": [
       "<IPython.core.display.HTML object>"
      ]
     },
     "metadata": {},
     "output_type": "display_data"
    },
    {
     "data": {
      "text/html": [
       "<span style=\"color:#4527A0\"><h1 style=\"font-size:18px\">Trial summary</h1></span>"
      ],
      "text/plain": [
       "<IPython.core.display.HTML object>"
      ]
     },
     "metadata": {},
     "output_type": "display_data"
    },
    {
     "data": {
      "text/html": [
       "<span style=\"color:cyan\"> |-Trial ID: 98882507f2441a26bb00f3afcbbe299e</span>"
      ],
      "text/plain": [
       "<IPython.core.display.HTML object>"
      ]
     },
     "metadata": {},
     "output_type": "display_data"
    },
    {
     "data": {
      "text/html": [
       "<span style=\"color:cyan\"> |-Score: 0.9131428599357605</span>"
      ],
      "text/plain": [
       "<IPython.core.display.HTML object>"
      ]
     },
     "metadata": {},
     "output_type": "display_data"
    },
    {
     "data": {
      "text/html": [
       "<span style=\"color:cyan\"> |-Best step: 0</span>"
      ],
      "text/plain": [
       "<IPython.core.display.HTML object>"
      ]
     },
     "metadata": {},
     "output_type": "display_data"
    },
    {
     "data": {
      "text/html": [
       "<span style=\"color:#7E57C2\"><h2 style=\"font-size:16px\">Hyperparameters:</h2></span>"
      ],
      "text/plain": [
       "<IPython.core.display.HTML object>"
      ]
     },
     "metadata": {},
     "output_type": "display_data"
    },
    {
     "data": {
      "text/html": [
       "<span style=\"color:cyan\"> |-conv_1: 32</span>"
      ],
      "text/plain": [
       "<IPython.core.display.HTML object>"
      ]
     },
     "metadata": {},
     "output_type": "display_data"
    },
    {
     "data": {
      "text/html": [
       "<span style=\"color:blue\"> |-conv_2: 32</span>"
      ],
      "text/plain": [
       "<IPython.core.display.HTML object>"
      ]
     },
     "metadata": {},
     "output_type": "display_data"
    },
    {
     "data": {
      "text/html": [
       "<span style=\"color:cyan\"> |-conv_3: 128</span>"
      ],
      "text/plain": [
       "<IPython.core.display.HTML object>"
      ]
     },
     "metadata": {},
     "output_type": "display_data"
    },
    {
     "data": {
      "text/html": [
       "<span style=\"color:blue\"> |-dropout_1: 0.2</span>"
      ],
      "text/plain": [
       "<IPython.core.display.HTML object>"
      ]
     },
     "metadata": {},
     "output_type": "display_data"
    },
    {
     "data": {
      "text/html": [
       "<span style=\"color:cyan\"> |-dropout_2: 0.2</span>"
      ],
      "text/plain": [
       "<IPython.core.display.HTML object>"
      ]
     },
     "metadata": {},
     "output_type": "display_data"
    },
    {
     "data": {
      "text/html": [
       "<span style=\"color:blue\"> |-dropout_3: 0.4</span>"
      ],
      "text/plain": [
       "<IPython.core.display.HTML object>"
      ]
     },
     "metadata": {},
     "output_type": "display_data"
    },
    {
     "data": {
      "text/html": [
       "<span style=\"color:cyan\"> |-dropout_4: 0.30000000000000004</span>"
      ],
      "text/plain": [
       "<IPython.core.display.HTML object>"
      ]
     },
     "metadata": {},
     "output_type": "display_data"
    },
    {
     "data": {
      "text/html": [
       "<span style=\"color:blue\"> |-units: 384</span>"
      ],
      "text/plain": [
       "<IPython.core.display.HTML object>"
      ]
     },
     "metadata": {},
     "output_type": "display_data"
    },
    {
     "data": {
      "text/html": [
       "<span style=\"color:#4527A0\"><h1 style=\"font-size:18px\">Trial summary</h1></span>"
      ],
      "text/plain": [
       "<IPython.core.display.HTML object>"
      ]
     },
     "metadata": {},
     "output_type": "display_data"
    },
    {
     "data": {
      "text/html": [
       "<span style=\"color:cyan\"> |-Trial ID: 5babe0abf5379f44c833c198b8fb7a25</span>"
      ],
      "text/plain": [
       "<IPython.core.display.HTML object>"
      ]
     },
     "metadata": {},
     "output_type": "display_data"
    },
    {
     "data": {
      "text/html": [
       "<span style=\"color:cyan\"> |-Score: 0.9118171334266663</span>"
      ],
      "text/plain": [
       "<IPython.core.display.HTML object>"
      ]
     },
     "metadata": {},
     "output_type": "display_data"
    },
    {
     "data": {
      "text/html": [
       "<span style=\"color:cyan\"> |-Best step: 0</span>"
      ],
      "text/plain": [
       "<IPython.core.display.HTML object>"
      ]
     },
     "metadata": {},
     "output_type": "display_data"
    },
    {
     "data": {
      "text/html": [
       "<span style=\"color:#7E57C2\"><h2 style=\"font-size:16px\">Hyperparameters:</h2></span>"
      ],
      "text/plain": [
       "<IPython.core.display.HTML object>"
      ]
     },
     "metadata": {},
     "output_type": "display_data"
    },
    {
     "data": {
      "text/html": [
       "<span style=\"color:cyan\"> |-conv_1: 32</span>"
      ],
      "text/plain": [
       "<IPython.core.display.HTML object>"
      ]
     },
     "metadata": {},
     "output_type": "display_data"
    },
    {
     "data": {
      "text/html": [
       "<span style=\"color:blue\"> |-conv_2: 32</span>"
      ],
      "text/plain": [
       "<IPython.core.display.HTML object>"
      ]
     },
     "metadata": {},
     "output_type": "display_data"
    },
    {
     "data": {
      "text/html": [
       "<span style=\"color:cyan\"> |-conv_3: 64</span>"
      ],
      "text/plain": [
       "<IPython.core.display.HTML object>"
      ]
     },
     "metadata": {},
     "output_type": "display_data"
    },
    {
     "data": {
      "text/html": [
       "<span style=\"color:blue\"> |-dropout_1: 0.2</span>"
      ],
      "text/plain": [
       "<IPython.core.display.HTML object>"
      ]
     },
     "metadata": {},
     "output_type": "display_data"
    },
    {
     "data": {
      "text/html": [
       "<span style=\"color:cyan\"> |-dropout_2: 0.5</span>"
      ],
      "text/plain": [
       "<IPython.core.display.HTML object>"
      ]
     },
     "metadata": {},
     "output_type": "display_data"
    },
    {
     "data": {
      "text/html": [
       "<span style=\"color:blue\"> |-dropout_3: 0.1</span>"
      ],
      "text/plain": [
       "<IPython.core.display.HTML object>"
      ]
     },
     "metadata": {},
     "output_type": "display_data"
    },
    {
     "data": {
      "text/html": [
       "<span style=\"color:cyan\"> |-dropout_4: 0.4</span>"
      ],
      "text/plain": [
       "<IPython.core.display.HTML object>"
      ]
     },
     "metadata": {},
     "output_type": "display_data"
    },
    {
     "data": {
      "text/html": [
       "<span style=\"color:blue\"> |-units: 1024</span>"
      ],
      "text/plain": [
       "<IPython.core.display.HTML object>"
      ]
     },
     "metadata": {},
     "output_type": "display_data"
    },
    {
     "data": {
      "text/html": [
       "<span style=\"color:#4527A0\"><h1 style=\"font-size:18px\">Trial summary</h1></span>"
      ],
      "text/plain": [
       "<IPython.core.display.HTML object>"
      ]
     },
     "metadata": {},
     "output_type": "display_data"
    },
    {
     "data": {
      "text/html": [
       "<span style=\"color:cyan\"> |-Trial ID: 7b29f78fa49c727f9455f99fbc4ed0d0</span>"
      ],
      "text/plain": [
       "<IPython.core.display.HTML object>"
      ]
     },
     "metadata": {},
     "output_type": "display_data"
    },
    {
     "data": {
      "text/html": [
       "<span style=\"color:cyan\"> |-Score: 0.9068800210952759</span>"
      ],
      "text/plain": [
       "<IPython.core.display.HTML object>"
      ]
     },
     "metadata": {},
     "output_type": "display_data"
    },
    {
     "data": {
      "text/html": [
       "<span style=\"color:cyan\"> |-Best step: 0</span>"
      ],
      "text/plain": [
       "<IPython.core.display.HTML object>"
      ]
     },
     "metadata": {},
     "output_type": "display_data"
    },
    {
     "data": {
      "text/html": [
       "<span style=\"color:#7E57C2\"><h2 style=\"font-size:16px\">Hyperparameters:</h2></span>"
      ],
      "text/plain": [
       "<IPython.core.display.HTML object>"
      ]
     },
     "metadata": {},
     "output_type": "display_data"
    },
    {
     "data": {
      "text/html": [
       "<span style=\"color:cyan\"> |-conv_1: 32</span>"
      ],
      "text/plain": [
       "<IPython.core.display.HTML object>"
      ]
     },
     "metadata": {},
     "output_type": "display_data"
    },
    {
     "data": {
      "text/html": [
       "<span style=\"color:blue\"> |-conv_2: 32</span>"
      ],
      "text/plain": [
       "<IPython.core.display.HTML object>"
      ]
     },
     "metadata": {},
     "output_type": "display_data"
    },
    {
     "data": {
      "text/html": [
       "<span style=\"color:cyan\"> |-conv_3: 64</span>"
      ],
      "text/plain": [
       "<IPython.core.display.HTML object>"
      ]
     },
     "metadata": {},
     "output_type": "display_data"
    },
    {
     "data": {
      "text/html": [
       "<span style=\"color:blue\"> |-dropout_1: 0.2</span>"
      ],
      "text/plain": [
       "<IPython.core.display.HTML object>"
      ]
     },
     "metadata": {},
     "output_type": "display_data"
    },
    {
     "data": {
      "text/html": [
       "<span style=\"color:cyan\"> |-dropout_2: 0.2</span>"
      ],
      "text/plain": [
       "<IPython.core.display.HTML object>"
      ]
     },
     "metadata": {},
     "output_type": "display_data"
    },
    {
     "data": {
      "text/html": [
       "<span style=\"color:blue\"> |-dropout_3: 0.5</span>"
      ],
      "text/plain": [
       "<IPython.core.display.HTML object>"
      ]
     },
     "metadata": {},
     "output_type": "display_data"
    },
    {
     "data": {
      "text/html": [
       "<span style=\"color:cyan\"> |-dropout_4: 0.30000000000000004</span>"
      ],
      "text/plain": [
       "<IPython.core.display.HTML object>"
      ]
     },
     "metadata": {},
     "output_type": "display_data"
    },
    {
     "data": {
      "text/html": [
       "<span style=\"color:blue\"> |-units: 512</span>"
      ],
      "text/plain": [
       "<IPython.core.display.HTML object>"
      ]
     },
     "metadata": {},
     "output_type": "display_data"
    },
    {
     "data": {
      "text/html": [
       "<span style=\"color:#4527A0\"><h1 style=\"font-size:18px\">Trial summary</h1></span>"
      ],
      "text/plain": [
       "<IPython.core.display.HTML object>"
      ]
     },
     "metadata": {},
     "output_type": "display_data"
    },
    {
     "data": {
      "text/html": [
       "<span style=\"color:cyan\"> |-Trial ID: 9c9700c7da20abf6b300fece888daef7</span>"
      ],
      "text/plain": [
       "<IPython.core.display.HTML object>"
      ]
     },
     "metadata": {},
     "output_type": "display_data"
    },
    {
     "data": {
      "text/html": [
       "<span style=\"color:cyan\"> |-Score: 0.9055542945861816</span>"
      ],
      "text/plain": [
       "<IPython.core.display.HTML object>"
      ]
     },
     "metadata": {},
     "output_type": "display_data"
    },
    {
     "data": {
      "text/html": [
       "<span style=\"color:cyan\"> |-Best step: 0</span>"
      ],
      "text/plain": [
       "<IPython.core.display.HTML object>"
      ]
     },
     "metadata": {},
     "output_type": "display_data"
    },
    {
     "data": {
      "text/html": [
       "<span style=\"color:#7E57C2\"><h2 style=\"font-size:16px\">Hyperparameters:</h2></span>"
      ],
      "text/plain": [
       "<IPython.core.display.HTML object>"
      ]
     },
     "metadata": {},
     "output_type": "display_data"
    },
    {
     "data": {
      "text/html": [
       "<span style=\"color:cyan\"> |-conv_1: 32</span>"
      ],
      "text/plain": [
       "<IPython.core.display.HTML object>"
      ]
     },
     "metadata": {},
     "output_type": "display_data"
    },
    {
     "data": {
      "text/html": [
       "<span style=\"color:blue\"> |-conv_2: 64</span>"
      ],
      "text/plain": [
       "<IPython.core.display.HTML object>"
      ]
     },
     "metadata": {},
     "output_type": "display_data"
    },
    {
     "data": {
      "text/html": [
       "<span style=\"color:cyan\"> |-conv_3: 128</span>"
      ],
      "text/plain": [
       "<IPython.core.display.HTML object>"
      ]
     },
     "metadata": {},
     "output_type": "display_data"
    },
    {
     "data": {
      "text/html": [
       "<span style=\"color:blue\"> |-dropout_1: 0.2</span>"
      ],
      "text/plain": [
       "<IPython.core.display.HTML object>"
      ]
     },
     "metadata": {},
     "output_type": "display_data"
    },
    {
     "data": {
      "text/html": [
       "<span style=\"color:cyan\"> |-dropout_2: 0.4</span>"
      ],
      "text/plain": [
       "<IPython.core.display.HTML object>"
      ]
     },
     "metadata": {},
     "output_type": "display_data"
    },
    {
     "data": {
      "text/html": [
       "<span style=\"color:blue\"> |-dropout_3: 0.5</span>"
      ],
      "text/plain": [
       "<IPython.core.display.HTML object>"
      ]
     },
     "metadata": {},
     "output_type": "display_data"
    },
    {
     "data": {
      "text/html": [
       "<span style=\"color:cyan\"> |-dropout_4: 0.1</span>"
      ],
      "text/plain": [
       "<IPython.core.display.HTML object>"
      ]
     },
     "metadata": {},
     "output_type": "display_data"
    },
    {
     "data": {
      "text/html": [
       "<span style=\"color:blue\"> |-units: 128</span>"
      ],
      "text/plain": [
       "<IPython.core.display.HTML object>"
      ]
     },
     "metadata": {},
     "output_type": "display_data"
    },
    {
     "data": {
      "text/html": [
       "<span style=\"color:#4527A0\"><h1 style=\"font-size:18px\">Trial summary</h1></span>"
      ],
      "text/plain": [
       "<IPython.core.display.HTML object>"
      ]
     },
     "metadata": {},
     "output_type": "display_data"
    },
    {
     "data": {
      "text/html": [
       "<span style=\"color:cyan\"> |-Trial ID: 059e69e59e8c15ddf9c2e3cfa5b8cf70</span>"
      ],
      "text/plain": [
       "<IPython.core.display.HTML object>"
      ]
     },
     "metadata": {},
     "output_type": "display_data"
    },
    {
     "data": {
      "text/html": [
       "<span style=\"color:cyan\"> |-Score: 0.9026742577552795</span>"
      ],
      "text/plain": [
       "<IPython.core.display.HTML object>"
      ]
     },
     "metadata": {},
     "output_type": "display_data"
    },
    {
     "data": {
      "text/html": [
       "<span style=\"color:cyan\"> |-Best step: 0</span>"
      ],
      "text/plain": [
       "<IPython.core.display.HTML object>"
      ]
     },
     "metadata": {},
     "output_type": "display_data"
    },
    {
     "data": {
      "text/html": [
       "<span style=\"color:#7E57C2\"><h2 style=\"font-size:16px\">Hyperparameters:</h2></span>"
      ],
      "text/plain": [
       "<IPython.core.display.HTML object>"
      ]
     },
     "metadata": {},
     "output_type": "display_data"
    },
    {
     "data": {
      "text/html": [
       "<span style=\"color:cyan\"> |-conv_1: 32</span>"
      ],
      "text/plain": [
       "<IPython.core.display.HTML object>"
      ]
     },
     "metadata": {},
     "output_type": "display_data"
    },
    {
     "data": {
      "text/html": [
       "<span style=\"color:blue\"> |-conv_2: 64</span>"
      ],
      "text/plain": [
       "<IPython.core.display.HTML object>"
      ]
     },
     "metadata": {},
     "output_type": "display_data"
    },
    {
     "data": {
      "text/html": [
       "<span style=\"color:cyan\"> |-conv_3: 64</span>"
      ],
      "text/plain": [
       "<IPython.core.display.HTML object>"
      ]
     },
     "metadata": {},
     "output_type": "display_data"
    },
    {
     "data": {
      "text/html": [
       "<span style=\"color:blue\"> |-dropout_1: 0.4</span>"
      ],
      "text/plain": [
       "<IPython.core.display.HTML object>"
      ]
     },
     "metadata": {},
     "output_type": "display_data"
    },
    {
     "data": {
      "text/html": [
       "<span style=\"color:cyan\"> |-dropout_2: 0.4</span>"
      ],
      "text/plain": [
       "<IPython.core.display.HTML object>"
      ]
     },
     "metadata": {},
     "output_type": "display_data"
    },
    {
     "data": {
      "text/html": [
       "<span style=\"color:blue\"> |-dropout_3: 0.4</span>"
      ],
      "text/plain": [
       "<IPython.core.display.HTML object>"
      ]
     },
     "metadata": {},
     "output_type": "display_data"
    },
    {
     "data": {
      "text/html": [
       "<span style=\"color:cyan\"> |-dropout_4: 0.2</span>"
      ],
      "text/plain": [
       "<IPython.core.display.HTML object>"
      ]
     },
     "metadata": {},
     "output_type": "display_data"
    },
    {
     "data": {
      "text/html": [
       "<span style=\"color:blue\"> |-units: 896</span>"
      ],
      "text/plain": [
       "<IPython.core.display.HTML object>"
      ]
     },
     "metadata": {},
     "output_type": "display_data"
    },
    {
     "data": {
      "text/html": [
       "<span style=\"color:#4527A0\"><h1 style=\"font-size:18px\">Trial summary</h1></span>"
      ],
      "text/plain": [
       "<IPython.core.display.HTML object>"
      ]
     },
     "metadata": {},
     "output_type": "display_data"
    },
    {
     "data": {
      "text/html": [
       "<span style=\"color:cyan\"> |-Trial ID: e7958f22a0170edef8f00d276941a87e</span>"
      ],
      "text/plain": [
       "<IPython.core.display.HTML object>"
      ]
     },
     "metadata": {},
     "output_type": "display_data"
    },
    {
     "data": {
      "text/html": [
       "<span style=\"color:cyan\"> |-Score: 0.9019885659217834</span>"
      ],
      "text/plain": [
       "<IPython.core.display.HTML object>"
      ]
     },
     "metadata": {},
     "output_type": "display_data"
    },
    {
     "data": {
      "text/html": [
       "<span style=\"color:cyan\"> |-Best step: 0</span>"
      ],
      "text/plain": [
       "<IPython.core.display.HTML object>"
      ]
     },
     "metadata": {},
     "output_type": "display_data"
    },
    {
     "data": {
      "text/html": [
       "<span style=\"color:#7E57C2\"><h2 style=\"font-size:16px\">Hyperparameters:</h2></span>"
      ],
      "text/plain": [
       "<IPython.core.display.HTML object>"
      ]
     },
     "metadata": {},
     "output_type": "display_data"
    },
    {
     "data": {
      "text/html": [
       "<span style=\"color:cyan\"> |-conv_1: 32</span>"
      ],
      "text/plain": [
       "<IPython.core.display.HTML object>"
      ]
     },
     "metadata": {},
     "output_type": "display_data"
    },
    {
     "data": {
      "text/html": [
       "<span style=\"color:blue\"> |-conv_2: 32</span>"
      ],
      "text/plain": [
       "<IPython.core.display.HTML object>"
      ]
     },
     "metadata": {},
     "output_type": "display_data"
    },
    {
     "data": {
      "text/html": [
       "<span style=\"color:cyan\"> |-conv_3: 128</span>"
      ],
      "text/plain": [
       "<IPython.core.display.HTML object>"
      ]
     },
     "metadata": {},
     "output_type": "display_data"
    },
    {
     "data": {
      "text/html": [
       "<span style=\"color:blue\"> |-dropout_1: 0.2</span>"
      ],
      "text/plain": [
       "<IPython.core.display.HTML object>"
      ]
     },
     "metadata": {},
     "output_type": "display_data"
    },
    {
     "data": {
      "text/html": [
       "<span style=\"color:cyan\"> |-dropout_2: 0.30000000000000004</span>"
      ],
      "text/plain": [
       "<IPython.core.display.HTML object>"
      ]
     },
     "metadata": {},
     "output_type": "display_data"
    },
    {
     "data": {
      "text/html": [
       "<span style=\"color:blue\"> |-dropout_3: 0.5</span>"
      ],
      "text/plain": [
       "<IPython.core.display.HTML object>"
      ]
     },
     "metadata": {},
     "output_type": "display_data"
    },
    {
     "data": {
      "text/html": [
       "<span style=\"color:cyan\"> |-dropout_4: 0.4</span>"
      ],
      "text/plain": [
       "<IPython.core.display.HTML object>"
      ]
     },
     "metadata": {},
     "output_type": "display_data"
    },
    {
     "data": {
      "text/html": [
       "<span style=\"color:blue\"> |-units: 512</span>"
      ],
      "text/plain": [
       "<IPython.core.display.HTML object>"
      ]
     },
     "metadata": {},
     "output_type": "display_data"
    },
    {
     "data": {
      "text/html": [
       "<span style=\"color:#4527A0\"><h1 style=\"font-size:18px\">Trial summary</h1></span>"
      ],
      "text/plain": [
       "<IPython.core.display.HTML object>"
      ]
     },
     "metadata": {},
     "output_type": "display_data"
    },
    {
     "data": {
      "text/html": [
       "<span style=\"color:cyan\"> |-Trial ID: edd3c9ec467f23a1839749cb369f72b7</span>"
      ],
      "text/plain": [
       "<IPython.core.display.HTML object>"
      ]
     },
     "metadata": {},
     "output_type": "display_data"
    },
    {
     "data": {
      "text/html": [
       "<span style=\"color:cyan\"> |-Score: 0.9012114405632019</span>"
      ],
      "text/plain": [
       "<IPython.core.display.HTML object>"
      ]
     },
     "metadata": {},
     "output_type": "display_data"
    },
    {
     "data": {
      "text/html": [
       "<span style=\"color:cyan\"> |-Best step: 0</span>"
      ],
      "text/plain": [
       "<IPython.core.display.HTML object>"
      ]
     },
     "metadata": {},
     "output_type": "display_data"
    },
    {
     "data": {
      "text/html": [
       "<span style=\"color:#7E57C2\"><h2 style=\"font-size:16px\">Hyperparameters:</h2></span>"
      ],
      "text/plain": [
       "<IPython.core.display.HTML object>"
      ]
     },
     "metadata": {},
     "output_type": "display_data"
    },
    {
     "data": {
      "text/html": [
       "<span style=\"color:cyan\"> |-conv_1: 16</span>"
      ],
      "text/plain": [
       "<IPython.core.display.HTML object>"
      ]
     },
     "metadata": {},
     "output_type": "display_data"
    },
    {
     "data": {
      "text/html": [
       "<span style=\"color:blue\"> |-conv_2: 32</span>"
      ],
      "text/plain": [
       "<IPython.core.display.HTML object>"
      ]
     },
     "metadata": {},
     "output_type": "display_data"
    },
    {
     "data": {
      "text/html": [
       "<span style=\"color:cyan\"> |-conv_3: 64</span>"
      ],
      "text/plain": [
       "<IPython.core.display.HTML object>"
      ]
     },
     "metadata": {},
     "output_type": "display_data"
    },
    {
     "data": {
      "text/html": [
       "<span style=\"color:blue\"> |-dropout_1: 0.30000000000000004</span>"
      ],
      "text/plain": [
       "<IPython.core.display.HTML object>"
      ]
     },
     "metadata": {},
     "output_type": "display_data"
    },
    {
     "data": {
      "text/html": [
       "<span style=\"color:cyan\"> |-dropout_2: 0.2</span>"
      ],
      "text/plain": [
       "<IPython.core.display.HTML object>"
      ]
     },
     "metadata": {},
     "output_type": "display_data"
    },
    {
     "data": {
      "text/html": [
       "<span style=\"color:blue\"> |-dropout_3: 0.30000000000000004</span>"
      ],
      "text/plain": [
       "<IPython.core.display.HTML object>"
      ]
     },
     "metadata": {},
     "output_type": "display_data"
    },
    {
     "data": {
      "text/html": [
       "<span style=\"color:cyan\"> |-dropout_4: 0.2</span>"
      ],
      "text/plain": [
       "<IPython.core.display.HTML object>"
      ]
     },
     "metadata": {},
     "output_type": "display_data"
    },
    {
     "data": {
      "text/html": [
       "<span style=\"color:blue\"> |-units: 896</span>"
      ],
      "text/plain": [
       "<IPython.core.display.HTML object>"
      ]
     },
     "metadata": {},
     "output_type": "display_data"
    },
    {
     "data": {
      "text/html": [
       "<span style=\"color:#4527A0\"><h1 style=\"font-size:18px\">Trial summary</h1></span>"
      ],
      "text/plain": [
       "<IPython.core.display.HTML object>"
      ]
     },
     "metadata": {},
     "output_type": "display_data"
    },
    {
     "data": {
      "text/html": [
       "<span style=\"color:cyan\"> |-Trial ID: 2080d2f2a64f00ddcb0ec4c5c62a7fb0</span>"
      ],
      "text/plain": [
       "<IPython.core.display.HTML object>"
      ]
     },
     "metadata": {},
     "output_type": "display_data"
    },
    {
     "data": {
      "text/html": [
       "<span style=\"color:cyan\"> |-Score: 0.8997485637664795</span>"
      ],
      "text/plain": [
       "<IPython.core.display.HTML object>"
      ]
     },
     "metadata": {},
     "output_type": "display_data"
    },
    {
     "data": {
      "text/html": [
       "<span style=\"color:cyan\"> |-Best step: 0</span>"
      ],
      "text/plain": [
       "<IPython.core.display.HTML object>"
      ]
     },
     "metadata": {},
     "output_type": "display_data"
    },
    {
     "data": {
      "text/html": [
       "<span style=\"color:#7E57C2\"><h2 style=\"font-size:16px\">Hyperparameters:</h2></span>"
      ],
      "text/plain": [
       "<IPython.core.display.HTML object>"
      ]
     },
     "metadata": {},
     "output_type": "display_data"
    },
    {
     "data": {
      "text/html": [
       "<span style=\"color:cyan\"> |-conv_1: 32</span>"
      ],
      "text/plain": [
       "<IPython.core.display.HTML object>"
      ]
     },
     "metadata": {},
     "output_type": "display_data"
    },
    {
     "data": {
      "text/html": [
       "<span style=\"color:blue\"> |-conv_2: 64</span>"
      ],
      "text/plain": [
       "<IPython.core.display.HTML object>"
      ]
     },
     "metadata": {},
     "output_type": "display_data"
    },
    {
     "data": {
      "text/html": [
       "<span style=\"color:cyan\"> |-conv_3: 128</span>"
      ],
      "text/plain": [
       "<IPython.core.display.HTML object>"
      ]
     },
     "metadata": {},
     "output_type": "display_data"
    },
    {
     "data": {
      "text/html": [
       "<span style=\"color:blue\"> |-dropout_1: 0.2</span>"
      ],
      "text/plain": [
       "<IPython.core.display.HTML object>"
      ]
     },
     "metadata": {},
     "output_type": "display_data"
    },
    {
     "data": {
      "text/html": [
       "<span style=\"color:cyan\"> |-dropout_2: 0.30000000000000004</span>"
      ],
      "text/plain": [
       "<IPython.core.display.HTML object>"
      ]
     },
     "metadata": {},
     "output_type": "display_data"
    },
    {
     "data": {
      "text/html": [
       "<span style=\"color:blue\"> |-dropout_3: 0.2</span>"
      ],
      "text/plain": [
       "<IPython.core.display.HTML object>"
      ]
     },
     "metadata": {},
     "output_type": "display_data"
    },
    {
     "data": {
      "text/html": [
       "<span style=\"color:cyan\"> |-dropout_4: 0.30000000000000004</span>"
      ],
      "text/plain": [
       "<IPython.core.display.HTML object>"
      ]
     },
     "metadata": {},
     "output_type": "display_data"
    },
    {
     "data": {
      "text/html": [
       "<span style=\"color:blue\"> |-units: 512</span>"
      ],
      "text/plain": [
       "<IPython.core.display.HTML object>"
      ]
     },
     "metadata": {},
     "output_type": "display_data"
    }
   ],
   "source": [
    "tuner.results_summary()"
   ]
  },
  {
   "cell_type": "markdown",
   "metadata": {},
   "source": [
    "# Najlepszy wynik"
   ]
  },
  {
   "cell_type": "code",
   "execution_count": 28,
   "metadata": {},
   "outputs": [
    {
     "data": {
      "text/plain": [
       "{'conv_1': 32,\n",
       " 'dropout_1': 0.4,\n",
       " 'conv_2': 64,\n",
       " 'dropout_2': 0.30000000000000004,\n",
       " 'conv_3': 64,\n",
       " 'dropout_3': 0.30000000000000004,\n",
       " 'units': 256,\n",
       " 'dropout_4': 0.4}"
      ]
     },
     "execution_count": 28,
     "metadata": {},
     "output_type": "execute_result"
    }
   ],
   "source": [
    "tuner.oracle.get_best_trials(num_trials=1)[0].hyperparameters.values"
   ]
  },
  {
   "cell_type": "code",
   "execution_count": 36,
   "metadata": {},
   "outputs": [
    {
     "name": "stdout",
     "output_type": "stream",
     "text": [
      "Model: \"sequential_3\"\n",
      "_________________________________________________________________\n",
      "Layer (type)                 Output Shape              Param #   \n",
      "=================================================================\n",
      "conv2d_18 (Conv2D)           (None, 96, 96, 16)        448       \n",
      "_________________________________________________________________\n",
      "conv2d_19 (Conv2D)           (None, 96, 96, 32)        4640      \n",
      "_________________________________________________________________\n",
      "dropout_12 (Dropout)         (None, 96, 96, 32)        0         \n",
      "_________________________________________________________________\n",
      "max_pooling2d_9 (MaxPooling2 (None, 48, 48, 32)        0         \n",
      "_________________________________________________________________\n",
      "conv2d_20 (Conv2D)           (None, 48, 48, 32)        9248      \n",
      "_________________________________________________________________\n",
      "conv2d_21 (Conv2D)           (None, 48, 48, 64)        18496     \n",
      "_________________________________________________________________\n",
      "dropout_13 (Dropout)         (None, 48, 48, 64)        0         \n",
      "_________________________________________________________________\n",
      "max_pooling2d_10 (MaxPooling (None, 24, 24, 64)        0         \n",
      "_________________________________________________________________\n",
      "conv2d_22 (Conv2D)           (None, 24, 24, 64)        36928     \n",
      "_________________________________________________________________\n",
      "conv2d_23 (Conv2D)           (None, 24, 24, 64)        36928     \n",
      "_________________________________________________________________\n",
      "dropout_14 (Dropout)         (None, 24, 24, 64)        0         \n",
      "_________________________________________________________________\n",
      "max_pooling2d_11 (MaxPooling (None, 12, 12, 64)        0         \n",
      "_________________________________________________________________\n",
      "flatten_3 (Flatten)          (None, 9216)              0         \n",
      "_________________________________________________________________\n",
      "dense_6 (Dense)              (None, 256)               2359552   \n",
      "_________________________________________________________________\n",
      "dropout_15 (Dropout)         (None, 256)               0         \n",
      "_________________________________________________________________\n",
      "dense_7 (Dense)              (None, 1)                 257       \n",
      "=================================================================\n",
      "Total params: 2,466,497\n",
      "Trainable params: 2,466,497\n",
      "Non-trainable params: 0\n",
      "_________________________________________________________________\n"
     ]
    }
   ],
   "source": [
    "final_model1 = Sequential([\n",
    "    Conv2D(16, 3, padding='same', activation='relu', input_shape=(HEIGHT, WIDTH ,CHANNEL)),\n",
    "    Conv2D(32, 3, padding='same', activation='relu'),\n",
    "    Dropout(0.4),\n",
    "    MaxPooling2D(),\n",
    "    Conv2D(32, 3, padding='same', activation='relu'),\n",
    "    Conv2D(64, 3, padding='same', activation='relu'),\n",
    "    Dropout(0.3),\n",
    "    MaxPooling2D(),\n",
    "    Conv2D(64, 3, padding='same', activation='relu'),\n",
    "    Conv2D(64, 3, padding='same', activation='relu'),\n",
    "    Dropout(0.3),\n",
    "    MaxPooling2D(),\n",
    "    Flatten(),\n",
    "    Dense(256, activation='relu'),\n",
    "    Dropout(0.4),\n",
    "    Dense(1)\n",
    "])\n",
    "\n",
    "final_model1.compile(optimizer='adam',\n",
    "              loss=tf.keras.losses.BinaryCrossentropy(from_logits=True),\n",
    "              metrics=['accuracy', get_f1, get_auc])\n",
    "\n",
    "final_model1.summary()"
   ]
  },
  {
   "cell_type": "code",
   "execution_count": 37,
   "metadata": {},
   "outputs": [
    {
     "name": "stdout",
     "output_type": "stream",
     "text": [
      "WARNING:tensorflow:sample_weight modes were coerced from\n",
      "  ...\n",
      "    to  \n",
      "  ['...']\n",
      "WARNING:tensorflow:sample_weight modes were coerced from\n",
      "  ...\n",
      "    to  \n",
      "  ['...']\n",
      "Train for 1547 steps, validate for 171 steps\n",
      "Epoch 1/1000\n",
      "INFO:tensorflow:Assets written to: C:\\MyFiles\\Thesis\\Project\\outputs\\checkpoints\\assets\n",
      "1547/1547 - 999s - loss: 1.2585 - accuracy: 0.7540 - get_f1: 0.6003 - get_auc: 0.6130 - val_loss: 0.4676 - val_accuracy: 0.7576 - val_get_f1: 0.6001 - val_get_auc: 0.6821\n",
      "Epoch 2/1000\n",
      "INFO:tensorflow:Assets written to: C:\\MyFiles\\Thesis\\Project\\outputs\\checkpoints\\assets\n",
      "1547/1547 - 936s - loss: 0.4028 - accuracy: 0.8100 - get_f1: 0.7258 - get_auc: 0.7099 - val_loss: 0.4049 - val_accuracy: 0.8186 - val_get_f1: 0.7280 - val_get_auc: 0.7872\n",
      "Epoch 3/1000\n",
      "INFO:tensorflow:Assets written to: C:\\MyFiles\\Thesis\\Project\\outputs\\checkpoints\\assets\n",
      "1547/1547 - 933s - loss: 0.3476 - accuracy: 0.8420 - get_f1: 0.7789 - get_auc: 0.7562 - val_loss: 0.3397 - val_accuracy: 0.8642 - val_get_f1: 0.8123 - val_get_auc: 0.8223\n",
      "Epoch 4/1000\n",
      "INFO:tensorflow:Assets written to: C:\\MyFiles\\Thesis\\Project\\outputs\\checkpoints\\assets\n",
      "1547/1547 - 199s - loss: 0.3093 - accuracy: 0.8633 - get_f1: 0.8121 - get_auc: 0.7851 - val_loss: 0.3080 - val_accuracy: 0.8708 - val_get_f1: 0.8194 - val_get_auc: 0.8341\n",
      "Epoch 5/1000\n",
      "INFO:tensorflow:Assets written to: C:\\MyFiles\\Thesis\\Project\\outputs\\checkpoints\\assets\n",
      "1547/1547 - 146s - loss: 0.2787 - accuracy: 0.8800 - get_f1: 0.8365 - get_auc: 0.8103 - val_loss: 0.3000 - val_accuracy: 0.8945 - val_get_f1: 0.8607 - val_get_auc: 0.8719\n",
      "Epoch 6/1000\n",
      "1547/1547 - 144s - loss: 0.2600 - accuracy: 0.8897 - get_f1: 0.8515 - get_auc: 0.8254 - val_loss: 0.2682 - val_accuracy: 0.8915 - val_get_f1: 0.8511 - val_get_auc: 0.8518\n",
      "Epoch 7/1000\n",
      "1547/1547 - 145s - loss: 0.2440 - accuracy: 0.8981 - get_f1: 0.8636 - get_auc: 0.8376 - val_loss: 0.2493 - val_accuracy: 0.8923 - val_get_f1: 0.8505 - val_get_auc: 0.8487\n",
      "Epoch 8/1000\n",
      "INFO:tensorflow:Assets written to: C:\\MyFiles\\Thesis\\Project\\outputs\\checkpoints\\assets\n",
      "1547/1547 - 147s - loss: 0.2324 - accuracy: 0.9029 - get_f1: 0.8705 - get_auc: 0.8460 - val_loss: 0.2555 - val_accuracy: 0.9190 - val_get_f1: 0.8972 - val_get_auc: 0.9014\n",
      "Epoch 9/1000\n",
      "INFO:tensorflow:Assets written to: C:\\MyFiles\\Thesis\\Project\\outputs\\checkpoints\\assets\n",
      "1547/1547 - 146s - loss: 0.2219 - accuracy: 0.9084 - get_f1: 0.8783 - get_auc: 0.8530 - val_loss: 0.2418 - val_accuracy: 0.9217 - val_get_f1: 0.8977 - val_get_auc: 0.8924\n",
      "Epoch 10/1000\n",
      "1547/1547 - 144s - loss: 0.2117 - accuracy: 0.9128 - get_f1: 0.8845 - get_auc: 0.8589 - val_loss: 0.2141 - val_accuracy: 0.9152 - val_get_f1: 0.8879 - val_get_auc: 0.8811\n",
      "Epoch 11/1000\n",
      "1547/1547 - 144s - loss: 0.2101 - accuracy: 0.9143 - get_f1: 0.8866 - get_auc: 0.8620 - val_loss: 0.2234 - val_accuracy: 0.9025 - val_get_f1: 0.8662 - val_get_auc: 0.8521\n",
      "Epoch 12/1000\n",
      "1547/1547 - 144s - loss: 0.2023 - accuracy: 0.9178 - get_f1: 0.8917 - get_auc: 0.8670 - val_loss: 0.2049 - val_accuracy: 0.9132 - val_get_f1: 0.8829 - val_get_auc: 0.8635\n",
      "Epoch 13/1000\n",
      "1547/1547 - 144s - loss: 0.2030 - accuracy: 0.9180 - get_f1: 0.8914 - get_auc: 0.8661 - val_loss: 0.2352 - val_accuracy: 0.8790 - val_get_f1: 0.8256 - val_get_auc: 0.7904\n",
      "Epoch 14/1000\n",
      "1547/1547 - 144s - loss: 0.1953 - accuracy: 0.9203 - get_f1: 0.8950 - get_auc: 0.8711 - val_loss: 0.2335 - val_accuracy: 0.8750 - val_get_f1: 0.8190 - val_get_auc: 0.7917\n",
      "Epoch 15/1000\n",
      "1547/1547 - 144s - loss: 0.1947 - accuracy: 0.9213 - get_f1: 0.8962 - get_auc: 0.8703 - val_loss: 0.2250 - val_accuracy: 0.8798 - val_get_f1: 0.8269 - val_get_auc: 0.7905\n",
      "Epoch 16/1000\n",
      "INFO:tensorflow:Assets written to: C:\\MyFiles\\Thesis\\Project\\outputs\\checkpoints\\assets\n",
      "1547/1547 - 146s - loss: 0.1913 - accuracy: 0.9220 - get_f1: 0.8970 - get_auc: 0.8708 - val_loss: 0.1810 - val_accuracy: 0.9265 - val_get_f1: 0.9030 - val_get_auc: 0.8901\n",
      "Epoch 17/1000\n",
      "1547/1547 - 144s - loss: 0.1965 - accuracy: 0.9202 - get_f1: 0.8936 - get_auc: 0.8683 - val_loss: 0.1801 - val_accuracy: 0.9206 - val_get_f1: 0.8935 - val_get_auc: 0.8690\n",
      "Epoch 18/1000\n",
      "1547/1547 - 144s - loss: 0.1887 - accuracy: 0.9236 - get_f1: 0.8991 - get_auc: 0.8727 - val_loss: 0.1997 - val_accuracy: 0.9154 - val_get_f1: 0.8855 - val_get_auc: 0.8681\n",
      "Epoch 19/1000\n",
      "1547/1547 - 144s - loss: 0.1885 - accuracy: 0.9238 - get_f1: 0.8996 - get_auc: 0.8735 - val_loss: 0.2197 - val_accuracy: 0.8864 - val_get_f1: 0.8381 - val_get_auc: 0.8009\n",
      "Epoch 20/1000\n",
      "1547/1547 - 145s - loss: 0.1938 - accuracy: 0.9211 - get_f1: 0.8952 - get_auc: 0.8693 - val_loss: 0.1953 - val_accuracy: 0.9132 - val_get_f1: 0.8815 - val_get_auc: 0.8631\n",
      "Epoch 21/1000\n",
      "1547/1547 - 144s - loss: 0.1882 - accuracy: 0.9243 - get_f1: 0.9003 - get_auc: 0.8743 - val_loss: 0.2084 - val_accuracy: 0.9129 - val_get_f1: 0.8818 - val_get_auc: 0.8658\n",
      "Epoch 22/1000\n",
      "1547/1547 - 145s - loss: 0.1826 - accuracy: 0.9259 - get_f1: 0.9025 - get_auc: 0.8766 - val_loss: 0.2069 - val_accuracy: 0.9001 - val_get_f1: 0.8604 - val_get_auc: 0.8314\n",
      "Epoch 23/1000\n",
      "INFO:tensorflow:Assets written to: C:\\MyFiles\\Thesis\\Project\\outputs\\checkpoints\\assets\n",
      "1547/1547 - 160s - loss: 0.1886 - accuracy: 0.9234 - get_f1: 0.8987 - get_auc: 0.8720 - val_loss: 0.2034 - val_accuracy: 0.9284 - val_get_f1: 0.9059 - val_get_auc: 0.8994\n",
      "Epoch 24/1000\n",
      "1547/1547 - 932s - loss: 0.1850 - accuracy: 0.9255 - get_f1: 0.9018 - get_auc: 0.8755 - val_loss: 0.2238 - val_accuracy: 0.9027 - val_get_f1: 0.8658 - val_get_auc: 0.8507\n",
      "Epoch 25/1000\n",
      "1547/1547 - 932s - loss: 0.1836 - accuracy: 0.9258 - get_f1: 0.9023 - get_auc: 0.8763 - val_loss: 0.2097 - val_accuracy: 0.9234 - val_get_f1: 0.8978 - val_get_auc: 0.8826\n",
      "Epoch 26/1000\n",
      "1547/1547 - 401s - loss: 0.1837 - accuracy: 0.9263 - get_f1: 0.9029 - get_auc: 0.8762 - val_loss: 0.2356 - val_accuracy: 0.8737 - val_get_f1: 0.8172 - val_get_auc: 0.7981\n",
      "Epoch 27/1000\n",
      "1547/1547 - 143s - loss: 0.1880 - accuracy: 0.9241 - get_f1: 0.8997 - get_auc: 0.8737 - val_loss: 0.2530 - val_accuracy: 0.8528 - val_get_f1: 0.7800 - val_get_auc: 0.7498\n",
      "Epoch 28/1000\n",
      "1547/1547 - 144s - loss: 0.2002 - accuracy: 0.9194 - get_f1: 0.8930 - get_auc: 0.8658 - val_loss: 0.2379 - val_accuracy: 0.8977 - val_get_f1: 0.8572 - val_get_auc: 0.8429\n",
      "Epoch 29/1000\n",
      "1547/1547 - 143s - loss: 0.1888 - accuracy: 0.9241 - get_f1: 0.8998 - get_auc: 0.8731 - val_loss: 0.2349 - val_accuracy: 0.8857 - val_get_f1: 0.8375 - val_get_auc: 0.8181\n",
      "Epoch 30/1000\n",
      "1547/1547 - 143s - loss: 0.1893 - accuracy: 0.9232 - get_f1: 0.8983 - get_auc: 0.8701 - val_loss: 0.2340 - val_accuracy: 0.8720 - val_get_f1: 0.8132 - val_get_auc: 0.7844\n",
      "Epoch 31/1000\n",
      "1547/1547 - 143s - loss: 0.1799 - accuracy: 0.9269 - get_f1: 0.9037 - get_auc: 0.8776 - val_loss: 0.3331 - val_accuracy: 0.7572 - val_get_f1: 0.5755 - val_get_auc: 0.5721\n",
      "Epoch 32/1000\n",
      "1547/1547 - 142s - loss: 0.1822 - accuracy: 0.9266 - get_f1: 0.9032 - get_auc: 0.8753 - val_loss: 0.2628 - val_accuracy: 0.8388 - val_get_f1: 0.7528 - val_get_auc: 0.7337\n",
      "Epoch 33/1000\n",
      "1547/1547 - 143s - loss: 0.2241 - accuracy: 0.9048 - get_f1: 0.8696 - get_auc: 0.8378 - val_loss: 0.2542 - val_accuracy: 0.9023 - val_get_f1: 0.8656 - val_get_auc: 0.8507\n"
     ]
    }
   ],
   "source": [
    "early_stopping_callback = tf.keras.callbacks.EarlyStopping(monitor='val_accuracy', patience=10)\n",
    "checkpoint_callback = tf.keras.callbacks.ModelCheckpoint(\n",
    "    filepath=ENV_SETTINGS.checkpoint,\n",
    "    save_weights_only=False,\n",
    "    monitor='val_accuracy',\n",
    "    mode='max',\n",
    "    save_best_only=True)\n",
    "\n",
    "final_model_history1 = final_model1.fit_generator(\n",
    "    data_gen(TRAIN_SET, FILE_LABELS, BATCH_SIZE),\n",
    "    steps_per_epoch=len(TRAIN_SET) // BATCH_SIZE,\n",
    "    epochs=EPOCHS,\n",
    "    validation_data=data_gen(TEST_SET, FILE_LABELS, BATCH_SIZE),\n",
    "    validation_steps=len(TEST_SET) // BATCH_SIZE,\n",
    "    callbacks=[checkpoint_callback, early_stopping_callback],\n",
    "    verbose=2\n",
    ")"
   ]
  },
  {
   "cell_type": "code",
   "execution_count": 38,
   "metadata": {},
   "outputs": [
    {
     "data": {
      "image/png": "[encoded data removed]",
      "text/plain": [
       "<Figure size 1080x360 with 4 Axes>"
      ]
     },
     "metadata": {
      "needs_background": "light"
     },
     "output_type": "display_data"
    }
   ],
   "source": [
    "show_final_history(final_model_history1)"
   ]
  }
 ],
 "metadata": {
  "kernelspec": {
   "display_name": "Python 3",
   "language": "python",
   "name": "python3"
  },
  "language_info": {
   "codemirror_mode": {
    "name": "ipython",
    "version": 3
   },
   "file_extension": ".py",
   "mimetype": "text/x-python",
   "name": "python",
   "nbconvert_exporter": "python",
   "pygments_lexer": "ipython3",
   "version": "3.7.7"
  }
 },
 "nbformat": 4,
 "nbformat_minor": 4
}
