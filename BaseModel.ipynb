{
 "cells": [
  {
   "cell_type": "code",
   "execution_count": 1,
   "metadata": {},
   "outputs": [],
   "source": [
    "import tensorflow as tf\n",
    "from tensorflow.keras.models import Sequential\n",
    "from tensorflow.keras.layers import Dense, Conv2D, Flatten, Dropout, MaxPooling2D\n",
    "from tensorflow.keras.preprocessing.image import ImageDataGenerator\n",
    "\n",
    "import pandas as pd\n",
    "import os\n",
    "from glob import glob\n",
    "from sklearn.model_selection import train_test_split\n",
    "from sklearn import metrics\n",
    "from imgaug import augmenters as iaa\n",
    "import imgaug as ia\n",
    "from random import shuffle\n",
    "import cv2\n",
    "import numpy as np\n",
    "\n",
    "from DataService import DataService\n",
    "from EnvironmentSettings import EnvironmentSettings\n",
    "\n",
    "import matplotlib.pyplot as plt"
   ]
  },
  {
   "cell_type": "code",
   "execution_count": 2,
   "metadata": {},
   "outputs": [],
   "source": [
    "ENV_SETTINGS = EnvironmentSettings(\"AZURE\")"
   ]
  },
  {
   "cell_type": "code",
   "execution_count": 3,
   "metadata": {},
   "outputs": [
    {
     "name": "stdout",
     "output_type": "stream",
     "text": [
      "labeled files size : 220025\n",
      "training size : 198022\n",
      "testing size : 22003\n"
     ]
    }
   ],
   "source": [
    "train_files = glob(ENV_SETTINGS.train + '/*.' + ENV_SETTINGS.image_extension)\n",
    "print(\"labeled files size :\", len(train_files))\n",
    "\n",
    "df_train = pd.read_csv(ENV_SETTINGS.labels)\n",
    "df_train.head()\n",
    "FILE_LABELS = {k:v for k,v in zip(df_train.id.values, df_train.label.values)}\n",
    "\n",
    "TRAIN_SET, TEST_SET = train_test_split(train_files, test_size = 0.1, random_state = 42)\n",
    "print(\"training size :\", len(TRAIN_SET))\n",
    "print(\"testing size :\", len(TEST_SET))"
   ]
  },
  {
   "cell_type": "code",
   "execution_count": 4,
   "metadata": {},
   "outputs": [],
   "source": [
    "def chunker(seq, size):\n",
    "    return (seq[pos:pos + size] for pos in range(0, len(seq), size))\n",
    "\n",
    "def get_id_from_file_path(file_path):\n",
    "    #return os.path.basename(file_path)\n",
    "    return file_path.split(os.path.sep)[-1].replace('.' + ENV_SETTINGS.image_extension, '')\n",
    "\n",
    "def data_gen(list_files, id_label_map, batch_size):\n",
    "    while True:\n",
    "        #shuffle(list_files)\n",
    "        for batch in chunker(list_files, batch_size):\n",
    "            X = [cv2.imread(x) for x in batch]\n",
    "            Y = [id_label_map[get_id_from_file_path(x)] for x in batch]\n",
    "\n",
    "            yield np.array(X), np.array(Y)\n"
   ]
  },
  {
   "cell_type": "code",
   "execution_count": 5,
   "metadata": {},
   "outputs": [],
   "source": [
    "def show_final_history(history):\n",
    "    fig, ax = plt.subplots(2, 2, figsize=(15,5))\n",
    "    ax[0][0].set_title('loss')\n",
    "    ax[0][0].plot(history.epoch, history.history[\"loss\"], label=\"Train loss\")\n",
    "    ax[0][0].plot(history.epoch, history.history[\"val_loss\"], label=\"Validation loss\")\n",
    "    ax[0][1].set_title('accuracy')\n",
    "    ax[0][1].plot(history.epoch, history.history[\"accuracy\"], label=\"Train acc\")\n",
    "    ax[0][1].plot(history.epoch, history.history[\"val_accuracy\"], label=\"Validation acc\")\n",
    "    ax[1][0].set_title('F1')\n",
    "    ax[1][0].plot(history.epoch, history.history[\"get_f1\"], label=\"Train F1\")\n",
    "    ax[1][0].plot(history.epoch, history.history[\"val_get_f1\"], label=\"Validation F1\")\n",
    "    ax[1][1].set_title('Auc')\n",
    "    ax[1][1].plot(history.epoch, history.history[\"get_auc\"], label=\"Train Auc\")\n",
    "    ax[1][1].plot(history.epoch, history.history[\"val_get_auc\"], label=\"Validation Auc\")\n",
    "    ax[0][0].legend()\n",
    "    ax[0][1].legend()\n",
    "    ax[1][0].legend()\n",
    "    ax[1][1].legend()\n",
    "    plt.show()"
   ]
  },
  {
   "cell_type": "code",
   "execution_count": 6,
   "metadata": {},
   "outputs": [],
   "source": [
    "from tensorflow.keras.callbacks import Callback,ModelCheckpoint\n",
    "from tensorflow.keras.models import Sequential,load_model\n",
    "from tensorflow.keras.layers import Dense, Dropout\n",
    "from tensorflow.keras.wrappers.scikit_learn import KerasClassifier\n",
    "import tensorflow.keras.backend as K\n",
    "def get_f1(y_true, y_pred): #taken from old keras source code\n",
    "    true_positives = K.sum(K.round(K.clip(y_true * y_pred, 0, 1)))\n",
    "    possible_positives = K.sum(K.round(K.clip(y_true, 0, 1)))\n",
    "    predicted_positives = K.sum(K.round(K.clip(y_pred, 0, 1)))\n",
    "    precision = true_positives / (predicted_positives + K.epsilon())\n",
    "    recall = true_positives / (possible_positives + K.epsilon())\n",
    "    f1_val = 2*(precision*recall)/(precision+recall+K.epsilon())\n",
    "    return f1_val\n",
    "\n",
    "\n",
    "from tensorflow.keras.callbacks import Callback\n",
    "from sklearn.metrics import roc_auc_score\n",
    "\n",
    "# AUC for a binary classifier (https://www.kaggle.com/c/porto-seguro-safe-driver-prediction/discussion/41015)\n",
    "def get_auc(y_true, y_pred):\n",
    "    ptas = tf.stack([binary_PTA(y_true,y_pred,k) for k in np.linspace(0, 1, 1000)],axis=0)\n",
    "    pfas = tf.stack([binary_PFA(y_true,y_pred,k) for k in np.linspace(0, 1, 1000)],axis=0)\n",
    "    pfas = tf.concat([tf.ones((1,)) ,pfas],axis=0)\n",
    "    binSizes = -(pfas[1:]-pfas[:-1])\n",
    "    s = ptas*binSizes\n",
    "    return K.sum(s, axis=0)\n",
    "    \n",
    "#---------------------\n",
    "# PFA, prob false alert for binary classifier\n",
    "def binary_PFA(y_true, y_pred, threshold=K.variable(value=0.5)):\n",
    "    y_pred = K.cast(y_pred >= threshold, 'float32')\n",
    "    # N = total number of negative labels\n",
    "    N = K.sum(1 - y_true)\n",
    "    # FP = total number of false alerts, alerts from the negative class labels\n",
    "    FP = K.sum(y_pred - y_pred * y_true)\n",
    "    return FP/N\n",
    "\n",
    "#----------------\n",
    "# P_TA prob true alerts for binary classifier\n",
    "def binary_PTA(y_true, y_pred, threshold=K.variable(value=0.5)):\n",
    "    y_pred = K.cast(y_pred >= threshold, 'float32')\n",
    "    # P = total number of positive labels\n",
    "    P = K.sum(y_true)\n",
    "    # TP = total number of correct alerts, alerts from the positive class labels\n",
    "    TP = K.sum(y_pred * y_true)\n",
    "    return TP/P\n",
    "    "
   ]
  },
  {
   "cell_type": "code",
   "execution_count": 7,
   "metadata": {},
   "outputs": [],
   "source": [
    "HEIGHT = WIDTH = 96\n",
    "CHANNEL = 3\n",
    "BATCH_SIZE = 128\n",
    "EPOCHS = 1000"
   ]
  },
  {
   "cell_type": "code",
   "execution_count": 8,
   "metadata": {},
   "outputs": [],
   "source": [
    "from kerastuner import HyperModel"
   ]
  },
  {
   "cell_type": "code",
   "execution_count": 9,
   "metadata": {},
   "outputs": [],
   "source": [
    "class CNNHyperModel(HyperModel):\n",
    "    def __init__(self, input_shape):\n",
    "        self.input_shape = input_shape\n",
    "\n",
    "    def build(self, hp):\n",
    "        model = Sequential()\n",
    "        model.add(\n",
    "            Conv2D(\n",
    "                filters=hp.Choice(\n",
    "                    'conv_1',\n",
    "                    values=[16, 32, 64, 128],\n",
    "                    default=64,\n",
    "                ),\n",
    "                kernel_size=3,\n",
    "                activation='relu',\n",
    "                input_shape=self.input_shape\n",
    "            )\n",
    "        )\n",
    "        model.add(MaxPooling2D())\n",
    "        model.add(Flatten())\n",
    "        model.add(Dense(1))\n",
    "\n",
    "        model.compile(optimizer='adam',\n",
    "              loss=tf.keras.losses.BinaryCrossentropy(from_logits=True),\n",
    "              metrics=['accuracy'])\n",
    "        \n",
    "        return model\n",
    "\n",
    "hypermodel = CNNHyperModel(input_shape=(HEIGHT, WIDTH, CHANNEL))"
   ]
  },
  {
   "cell_type": "code",
   "execution_count": 14,
   "metadata": {},
   "outputs": [],
   "source": [
    "from kerastuner import RandomSearch\n",
    "\n",
    "tuner = RandomSearch(\n",
    "    hypermodel,\n",
    "    objective='val_accuracy',\n",
    "    max_trials=100,\n",
    "    executions_per_trial=10,\n",
    "    directory='my_dir4',\n",
    "    project_name='hyperparameter-tuning4')"
   ]
  },
  {
   "cell_type": "code",
   "execution_count": 15,
   "metadata": {},
   "outputs": [
    {
     "data": {
      "text/html": [
       "<span style=\"color:#4527A0\"><h1 style=\"font-size:18px\">Search space summary</h1></span>"
      ],
      "text/plain": [
       "<IPython.core.display.HTML object>"
      ]
     },
     "metadata": {},
     "output_type": "display_data"
    },
    {
     "data": {
      "text/html": [
       "<span style=\"color:cyan\"> |-Default search space size: 1</span>"
      ],
      "text/plain": [
       "<IPython.core.display.HTML object>"
      ]
     },
     "metadata": {},
     "output_type": "display_data"
    },
    {
     "data": {
      "text/html": [
       "<span style=\"color:#7E57C2\"><h2 style=\"font-size:16px\">conv_1 (Choice)</h2></span>"
      ],
      "text/plain": [
       "<IPython.core.display.HTML object>"
      ]
     },
     "metadata": {},
     "output_type": "display_data"
    },
    {
     "data": {
      "text/html": [
       "<span style=\"color:cyan\"> |-default: 64</span>"
      ],
      "text/plain": [
       "<IPython.core.display.HTML object>"
      ]
     },
     "metadata": {},
     "output_type": "display_data"
    },
    {
     "data": {
      "text/html": [
       "<span style=\"color:blue\"> |-ordered: True</span>"
      ],
      "text/plain": [
       "<IPython.core.display.HTML object>"
      ]
     },
     "metadata": {},
     "output_type": "display_data"
    },
    {
     "data": {
      "text/html": [
       "<span style=\"color:cyan\"> |-values: [16, 32, 64, 128]</span>"
      ],
      "text/plain": [
       "<IPython.core.display.HTML object>"
      ]
     },
     "metadata": {},
     "output_type": "display_data"
    }
   ],
   "source": [
    "tuner.search_space_summary()"
   ]
  },
  {
   "cell_type": "code",
   "execution_count": 16,
   "metadata": {},
   "outputs": [
    {
     "name": "stdout",
     "output_type": "stream",
     "text": [
      "WARNING:tensorflow:sample_weight modes were coerced from\n",
      "  ...\n",
      "    to  \n",
      "  ['...']\n",
      "WARNING:tensorflow:sample_weight modes were coerced from\n",
      "  ...\n",
      "    to  \n",
      "  ['...']\n",
      "Train for 400 steps, validate for 171 steps\n",
      "Epoch 1/15\n",
      "400/400 - 23s - loss: 14.9945 - accuracy: 0.6516 - val_loss: 1.5360 - val_accuracy: 0.6703\n",
      "Epoch 2/15\n",
      "400/400 - 23s - loss: 0.9980 - accuracy: 0.6376 - val_loss: 0.7913 - val_accuracy: 0.5961\n",
      "Epoch 3/15\n",
      "400/400 - 22s - loss: 0.6486 - accuracy: 0.6247 - val_loss: 0.7032 - val_accuracy: 0.5887\n",
      "Epoch 4/15\n",
      "400/400 - 22s - loss: 0.5871 - accuracy: 0.6355 - val_loss: 0.6940 - val_accuracy: 0.5877\n",
      "Epoch 5/15\n",
      "400/400 - 22s - loss: 0.5619 - accuracy: 0.6483 - val_loss: 0.6988 - val_accuracy: 0.5884\n",
      "Epoch 6/15\n",
      "400/400 - 21s - loss: 0.5446 - accuracy: 0.6613 - val_loss: 0.7084 - val_accuracy: 0.5909\n",
      "WARNING:tensorflow:sample_weight modes were coerced from\n",
      "  ...\n",
      "    to  \n",
      "  ['...']\n",
      "WARNING:tensorflow:sample_weight modes were coerced from\n",
      "  ...\n",
      "    to  \n",
      "  ['...']\n",
      "Train for 400 steps, validate for 171 steps\n",
      "Epoch 1/15\n",
      "400/400 - 22s - loss: 17.3615 - accuracy: 0.6125 - val_loss: 1.3943 - val_accuracy: 0.6137\n",
      "Epoch 2/15\n",
      "400/400 - 22s - loss: 0.9546 - accuracy: 0.6217 - val_loss: 0.8622 - val_accuracy: 0.5936\n",
      "Epoch 3/15\n",
      "400/400 - 22s - loss: 0.6419 - accuracy: 0.6410 - val_loss: 0.7798 - val_accuracy: 0.5925\n",
      "Epoch 4/15\n",
      "400/400 - 21s - loss: 0.5618 - accuracy: 0.6659 - val_loss: 0.7738 - val_accuracy: 0.5912\n",
      "Epoch 5/15\n",
      "400/400 - 21s - loss: 0.5247 - accuracy: 0.6861 - val_loss: 0.7954 - val_accuracy: 0.5932\n",
      "Epoch 6/15\n",
      "400/400 - 22s - loss: 0.5022 - accuracy: 0.7039 - val_loss: 0.8250 - val_accuracy: 0.5942\n",
      "WARNING:tensorflow:sample_weight modes were coerced from\n",
      "  ...\n",
      "    to  \n",
      "  ['...']\n",
      "WARNING:tensorflow:sample_weight modes were coerced from\n",
      "  ...\n",
      "    to  \n",
      "  ['...']\n",
      "Train for 400 steps, validate for 171 steps\n",
      "Epoch 1/15\n",
      "400/400 - 22s - loss: 14.6364 - accuracy: 0.6772 - val_loss: 2.4972 - val_accuracy: 0.6625\n",
      "Epoch 2/15\n",
      "400/400 - 22s - loss: 1.5178 - accuracy: 0.6679 - val_loss: 1.1763 - val_accuracy: 0.6148\n",
      "Epoch 3/15\n",
      "400/400 - 22s - loss: 0.7343 - accuracy: 0.6589 - val_loss: 0.8928 - val_accuracy: 0.5991\n",
      "Epoch 4/15\n",
      "400/400 - 22s - loss: 0.5974 - accuracy: 0.6696 - val_loss: 0.8651 - val_accuracy: 0.5943\n",
      "Epoch 5/15\n",
      "400/400 - 21s - loss: 0.5480 - accuracy: 0.6893 - val_loss: 0.8815 - val_accuracy: 0.5970\n",
      "Epoch 6/15\n",
      "400/400 - 21s - loss: 0.5178 - accuracy: 0.7089 - val_loss: 0.9184 - val_accuracy: 0.6007\n",
      "WARNING:tensorflow:sample_weight modes were coerced from\n",
      "  ...\n",
      "    to  \n",
      "  ['...']\n",
      "WARNING:tensorflow:sample_weight modes were coerced from\n",
      "  ...\n",
      "    to  \n",
      "  ['...']\n",
      "Train for 400 steps, validate for 171 steps\n",
      "Epoch 1/15\n",
      "400/400 - 22s - loss: 27.5051 - accuracy: 0.6650 - val_loss: 8.5207 - val_accuracy: 0.6188\n",
      "Epoch 2/15\n",
      "400/400 - 22s - loss: 2.7420 - accuracy: 0.7132 - val_loss: 2.0119 - val_accuracy: 0.6863\n",
      "Epoch 3/15\n",
      "400/400 - 22s - loss: 1.1275 - accuracy: 0.7259 - val_loss: 1.4976 - val_accuracy: 0.6575\n",
      "Epoch 4/15\n",
      "400/400 - 22s - loss: 0.7618 - accuracy: 0.7468 - val_loss: 1.4065 - val_accuracy: 0.6418\n",
      "Epoch 5/15\n",
      "400/400 - 21s - loss: 0.6316 - accuracy: 0.7596 - val_loss: 1.2673 - val_accuracy: 0.6480\n",
      "Epoch 6/15\n",
      "400/400 - 22s - loss: 0.5798 - accuracy: 0.7615 - val_loss: 1.2510 - val_accuracy: 0.6212\n",
      "Epoch 7/15\n",
      "400/400 - 22s - loss: 0.5705 - accuracy: 0.7505 - val_loss: 1.0700 - val_accuracy: 0.6400\n",
      "WARNING:tensorflow:sample_weight modes were coerced from\n",
      "  ...\n",
      "    to  \n",
      "  ['...']\n",
      "WARNING:tensorflow:sample_weight modes were coerced from\n",
      "  ...\n",
      "    to  \n",
      "  ['...']\n",
      "Train for 400 steps, validate for 171 steps\n",
      "Epoch 1/15\n",
      "400/400 - 22s - loss: 21.1322 - accuracy: 0.6282 - val_loss: 1.4831 - val_accuracy: 0.6191\n",
      "Epoch 2/15\n",
      "400/400 - 22s - loss: 0.9555 - accuracy: 0.6177 - val_loss: 0.7874 - val_accuracy: 0.5814\n",
      "Epoch 3/15\n",
      "400/400 - 22s - loss: 0.6315 - accuracy: 0.6218 - val_loss: 0.7295 - val_accuracy: 0.5798\n",
      "Epoch 4/15\n",
      "400/400 - 22s - loss: 0.5695 - accuracy: 0.6424 - val_loss: 0.7293 - val_accuracy: 0.5813\n",
      "Epoch 5/15\n",
      "400/400 - 22s - loss: 0.5393 - accuracy: 0.6614 - val_loss: 0.7497 - val_accuracy: 0.5816\n",
      "Epoch 6/15\n",
      "400/400 - 22s - loss: 0.5179 - accuracy: 0.6788 - val_loss: 0.7862 - val_accuracy: 0.5774\n",
      "WARNING:tensorflow:sample_weight modes were coerced from\n",
      "  ...\n",
      "    to  \n",
      "  ['...']\n",
      "WARNING:tensorflow:sample_weight modes were coerced from\n",
      "  ...\n",
      "    to  \n",
      "  ['...']\n",
      "Train for 400 steps, validate for 171 steps\n",
      "Epoch 1/15\n",
      "400/400 - 22s - loss: 12.8265 - accuracy: 0.6454 - val_loss: 1.8712 - val_accuracy: 0.6315\n",
      "Epoch 2/15\n",
      "400/400 - 21s - loss: 0.9414 - accuracy: 0.6476 - val_loss: 0.8804 - val_accuracy: 0.6032\n",
      "Epoch 3/15\n",
      "400/400 - 21s - loss: 0.6118 - accuracy: 0.6604 - val_loss: 0.8299 - val_accuracy: 0.5856\n",
      "Epoch 4/15\n",
      "400/400 - 21s - loss: 0.5395 - accuracy: 0.6838 - val_loss: 0.8573 - val_accuracy: 0.5890\n",
      "Epoch 5/15\n",
      "400/400 - 21s - loss: 0.5021 - accuracy: 0.7122 - val_loss: 0.8938 - val_accuracy: 0.5983\n",
      "Epoch 6/15\n",
      "400/400 - 22s - loss: 0.4776 - accuracy: 0.7339 - val_loss: 0.9422 - val_accuracy: 0.6076\n",
      "WARNING:tensorflow:sample_weight modes were coerced from\n",
      "  ...\n",
      "    to  \n",
      "  ['...']\n",
      "WARNING:tensorflow:sample_weight modes were coerced from\n",
      "  ...\n",
      "    to  \n",
      "  ['...']\n",
      "Train for 400 steps, validate for 171 steps\n",
      "Epoch 1/15\n",
      "400/400 - 22s - loss: 14.1345 - accuracy: 0.6749 - val_loss: 1.3236 - val_accuracy: 0.6676\n",
      "Epoch 2/15\n",
      "400/400 - 21s - loss: 0.8909 - accuracy: 0.6912 - val_loss: 0.8977 - val_accuracy: 0.6848\n",
      "Epoch 3/15\n",
      "400/400 - 21s - loss: 0.6217 - accuracy: 0.7218 - val_loss: 0.8115 - val_accuracy: 0.6853\n",
      "Epoch 4/15\n",
      "400/400 - 22s - loss: 0.5107 - accuracy: 0.7566 - val_loss: 0.7974 - val_accuracy: 0.6963\n",
      "Epoch 5/15\n",
      "400/400 - 22s - loss: 0.4453 - accuracy: 0.7892 - val_loss: 0.8164 - val_accuracy: 0.7004\n",
      "Epoch 6/15\n",
      "400/400 - 21s - loss: 0.4054 - accuracy: 0.8084 - val_loss: 0.9642 - val_accuracy: 0.6807\n",
      "Epoch 7/15\n",
      "400/400 - 21s - loss: 0.4209 - accuracy: 0.7930 - val_loss: 0.7769 - val_accuracy: 0.6514\n",
      "Epoch 8/15\n",
      "400/400 - 21s - loss: 0.4069 - accuracy: 0.8039 - val_loss: 0.8505 - val_accuracy: 0.6996\n",
      "Epoch 9/15\n",
      "400/400 - 21s - loss: 0.3632 - accuracy: 0.8302 - val_loss: 0.8906 - val_accuracy: 0.6946\n",
      "Epoch 10/15\n",
      "400/400 - 22s - loss: 0.4650 - accuracy: 0.7545 - val_loss: 1.0138 - val_accuracy: 0.5680\n",
      "WARNING:tensorflow:sample_weight modes were coerced from\n",
      "  ...\n",
      "    to  \n",
      "  ['...']\n",
      "WARNING:tensorflow:sample_weight modes were coerced from\n",
      "  ...\n",
      "    to  \n",
      "  ['...']\n",
      "Train for 400 steps, validate for 171 steps\n",
      "Epoch 1/15\n",
      "400/400 - 23s - loss: 11.5128 - accuracy: 0.5896 - val_loss: 0.8653 - val_accuracy: 0.5904\n",
      "Epoch 2/15\n",
      "400/400 - 22s - loss: 0.7054 - accuracy: 0.6025 - val_loss: 0.7263 - val_accuracy: 0.5828\n",
      "Epoch 3/15\n",
      "400/400 - 22s - loss: 0.6021 - accuracy: 0.6220 - val_loss: 0.7167 - val_accuracy: 0.5833\n",
      "Epoch 4/15\n",
      "400/400 - 22s - loss: 0.5634 - accuracy: 0.6420 - val_loss: 0.7324 - val_accuracy: 0.5812\n",
      "Epoch 5/15\n",
      "400/400 - 22s - loss: 0.5460 - accuracy: 0.6544 - val_loss: 0.7567 - val_accuracy: 0.5809\n",
      "Epoch 6/15\n",
      "400/400 - 21s - loss: 0.5355 - accuracy: 0.6645 - val_loss: 0.7831 - val_accuracy: 0.5767\n",
      "WARNING:tensorflow:sample_weight modes were coerced from\n",
      "  ...\n",
      "    to  \n",
      "  ['...']\n",
      "WARNING:tensorflow:sample_weight modes were coerced from\n",
      "  ...\n",
      "    to  \n",
      "  ['...']\n",
      "Train for 400 steps, validate for 171 steps\n",
      "Epoch 1/15\n",
      "400/400 - 22s - loss: 14.5389 - accuracy: 0.6057 - val_loss: 0.9878 - val_accuracy: 0.6032\n",
      "Epoch 2/15\n",
      "400/400 - 21s - loss: 0.7523 - accuracy: 0.6069 - val_loss: 0.7400 - val_accuracy: 0.5830\n",
      "Epoch 3/15\n",
      "400/400 - 21s - loss: 0.6096 - accuracy: 0.6210 - val_loss: 0.7196 - val_accuracy: 0.5834\n",
      "Epoch 4/15\n",
      "400/400 - 21s - loss: 0.5662 - accuracy: 0.6395 - val_loss: 0.7351 - val_accuracy: 0.5823\n",
      "Epoch 5/15\n",
      "400/400 - 21s - loss: 0.5397 - accuracy: 0.6573 - val_loss: 0.7638 - val_accuracy: 0.5820\n",
      "Epoch 6/15\n",
      "400/400 - 22s - loss: 0.5197 - accuracy: 0.6728 - val_loss: 0.8038 - val_accuracy: 0.5835\n",
      "WARNING:tensorflow:sample_weight modes were coerced from\n",
      "  ...\n",
      "    to  \n",
      "  ['...']\n",
      "WARNING:tensorflow:sample_weight modes were coerced from\n",
      "  ...\n",
      "    to  \n",
      "  ['...']\n",
      "Train for 400 steps, validate for 171 steps\n",
      "Epoch 1/15\n",
      "400/400 - 22s - loss: 11.9403 - accuracy: 0.5952 - val_loss: 0.8663 - val_accuracy: 0.5831\n",
      "Epoch 2/15\n",
      "400/400 - 21s - loss: 0.7097 - accuracy: 0.6022 - val_loss: 0.7176 - val_accuracy: 0.5815\n",
      "Epoch 3/15\n",
      "400/400 - 21s - loss: 0.6048 - accuracy: 0.6202 - val_loss: 0.7066 - val_accuracy: 0.5813\n",
      "Epoch 4/15\n",
      "400/400 - 21s - loss: 0.5587 - accuracy: 0.6419 - val_loss: 0.7224 - val_accuracy: 0.5815\n",
      "Epoch 5/15\n",
      "400/400 - 21s - loss: 0.5326 - accuracy: 0.6605 - val_loss: 0.7521 - val_accuracy: 0.5779\n",
      "Epoch 6/15\n",
      "400/400 - 21s - loss: 0.5304 - accuracy: 0.6659 - val_loss: 0.7783 - val_accuracy: 0.5798\n"
     ]
    },
    {
     "data": {
      "text/html": [
       "<span style=\"color:#4527A0\"><h1 style=\"font-size:18px\">Trial complete</h1></span>"
      ],
      "text/plain": [
       "<IPython.core.display.HTML object>"
      ]
     },
     "metadata": {},
     "output_type": "display_data"
    },
    {
     "data": {
      "text/html": [
       "<span style=\"color:#4527A0\"><h1 style=\"font-size:18px\">Trial summary</h1></span>"
      ],
      "text/plain": [
       "<IPython.core.display.HTML object>"
      ]
     },
     "metadata": {},
     "output_type": "display_data"
    },
    {
     "data": {
      "text/html": [
       "<span style=\"color:cyan\"> |-Trial ID: a11feeb27fb730cceabbe670b325d2c2</span>"
      ],
      "text/plain": [
       "<IPython.core.display.HTML object>"
      ]
     },
     "metadata": {},
     "output_type": "display_data"
    },
    {
     "data": {
      "text/html": [
       "<span style=\"color:cyan\"> |-Score: 0.6360424160957336</span>"
      ],
      "text/plain": [
       "<IPython.core.display.HTML object>"
      ]
     },
     "metadata": {},
     "output_type": "display_data"
    },
    {
     "data": {
      "text/html": [
       "<span style=\"color:cyan\"> |-Best step: 0</span>"
      ],
      "text/plain": [
       "<IPython.core.display.HTML object>"
      ]
     },
     "metadata": {},
     "output_type": "display_data"
    },
    {
     "data": {
      "text/html": [
       "<span style=\"color:#7E57C2\"><h2 style=\"font-size:16px\">Hyperparameters:</h2></span>"
      ],
      "text/plain": [
       "<IPython.core.display.HTML object>"
      ]
     },
     "metadata": {},
     "output_type": "display_data"
    },
    {
     "data": {
      "text/html": [
       "<span style=\"color:cyan\"> |-conv_1: 16</span>"
      ],
      "text/plain": [
       "<IPython.core.display.HTML object>"
      ]
     },
     "metadata": {},
     "output_type": "display_data"
    },
    {
     "name": "stdout",
     "output_type": "stream",
     "text": [
      "WARNING:tensorflow:sample_weight modes were coerced from\n",
      "  ...\n",
      "    to  \n",
      "  ['...']\n",
      "WARNING:tensorflow:sample_weight modes were coerced from\n",
      "  ...\n",
      "    to  \n",
      "  ['...']\n",
      "Train for 400 steps, validate for 171 steps\n",
      "Epoch 1/15\n",
      "400/400 - 23s - loss: 28.9393 - accuracy: 0.5895 - val_loss: 0.6323 - val_accuracy: 0.5914\n",
      "Epoch 2/15\n",
      "400/400 - 22s - loss: 0.6076 - accuracy: 0.5975 - val_loss: 0.6335 - val_accuracy: 0.5921\n",
      "Epoch 3/15\n",
      "400/400 - 22s - loss: 0.5633 - accuracy: 0.6212 - val_loss: 0.6572 - val_accuracy: 0.5922\n",
      "Epoch 4/15\n",
      "400/400 - 22s - loss: 0.5052 - accuracy: 0.6759 - val_loss: 0.7040 - val_accuracy: 0.5961\n",
      "Epoch 5/15\n",
      "400/400 - 22s - loss: 0.4503 - accuracy: 0.7505 - val_loss: 0.8046 - val_accuracy: 0.6359\n",
      "Epoch 6/15\n",
      "400/400 - 22s - loss: 0.4202 - accuracy: 0.7970 - val_loss: 0.8813 - val_accuracy: 0.6486\n",
      "Epoch 7/15\n",
      "400/400 - 22s - loss: 0.4002 - accuracy: 0.8088 - val_loss: 1.0917 - val_accuracy: 0.6171\n",
      "Epoch 8/15\n",
      "400/400 - 22s - loss: 0.4128 - accuracy: 0.7993 - val_loss: 0.9601 - val_accuracy: 0.6352\n",
      "Epoch 9/15\n",
      "400/400 - 22s - loss: 0.4013 - accuracy: 0.7979 - val_loss: 1.2676 - val_accuracy: 0.6154\n",
      "Epoch 10/15\n",
      "400/400 - 22s - loss: 0.4054 - accuracy: 0.7888 - val_loss: 1.0795 - val_accuracy: 0.5867\n",
      "Epoch 11/15\n",
      "400/400 - 22s - loss: 0.4012 - accuracy: 0.7889 - val_loss: 1.1155 - val_accuracy: 0.5787\n",
      "WARNING:tensorflow:sample_weight modes were coerced from\n",
      "  ...\n",
      "    to  \n",
      "  ['...']\n",
      "WARNING:tensorflow:sample_weight modes were coerced from\n",
      "  ...\n",
      "    to  \n",
      "  ['...']\n",
      "Train for 400 steps, validate for 171 steps\n",
      "Epoch 1/15\n",
      "400/400 - 22s - loss: 20.6441 - accuracy: 0.5883 - val_loss: 0.6336 - val_accuracy: 0.5897\n",
      "Epoch 2/15\n",
      "400/400 - 22s - loss: 0.5952 - accuracy: 0.6040 - val_loss: 0.6399 - val_accuracy: 0.5980\n",
      "Epoch 3/15\n",
      "400/400 - 22s - loss: 0.5288 - accuracy: 0.6891 - val_loss: 0.6927 - val_accuracy: 0.6587\n",
      "Epoch 4/15\n",
      "400/400 - 22s - loss: 0.4451 - accuracy: 0.7732 - val_loss: 0.7064 - val_accuracy: 0.6786\n",
      "Epoch 5/15\n",
      "400/400 - 21s - loss: 0.4120 - accuracy: 0.7957 - val_loss: 0.8357 - val_accuracy: 0.6106\n",
      "Epoch 6/15\n",
      "400/400 - 22s - loss: 0.4195 - accuracy: 0.7812 - val_loss: 0.8860 - val_accuracy: 0.6110\n",
      "Epoch 7/15\n",
      "400/400 - 22s - loss: 0.4009 - accuracy: 0.7916 - val_loss: 1.0790 - val_accuracy: 0.5948\n",
      "Epoch 8/15\n",
      "400/400 - 22s - loss: 0.4141 - accuracy: 0.8063 - val_loss: 1.1314 - val_accuracy: 0.6099\n",
      "Epoch 9/15\n",
      "400/400 - 22s - loss: 0.3745 - accuracy: 0.8028 - val_loss: 1.2708 - val_accuracy: 0.5921\n",
      "WARNING:tensorflow:sample_weight modes were coerced from\n",
      "  ...\n",
      "    to  \n",
      "  ['...']\n",
      "WARNING:tensorflow:sample_weight modes were coerced from\n",
      "  ...\n",
      "    to  \n",
      "  ['...']\n",
      "Train for 400 steps, validate for 171 steps\n",
      "Epoch 1/15\n",
      "400/400 - 23s - loss: 29.5721 - accuracy: 0.5865 - val_loss: 0.6402 - val_accuracy: 0.5888\n",
      "Epoch 2/15\n",
      "400/400 - 22s - loss: 0.6115 - accuracy: 0.5972 - val_loss: 0.6376 - val_accuracy: 0.5891\n",
      "Epoch 3/15\n",
      "400/400 - 22s - loss: 0.5528 - accuracy: 0.6250 - val_loss: 0.6603 - val_accuracy: 0.5852\n",
      "Epoch 4/15\n",
      "400/400 - 22s - loss: 0.4942 - accuracy: 0.6751 - val_loss: 0.7170 - val_accuracy: 0.5832\n",
      "Epoch 5/15\n",
      "400/400 - 22s - loss: 0.4580 - accuracy: 0.7167 - val_loss: 0.7488 - val_accuracy: 0.5882\n",
      "Epoch 6/15\n",
      "400/400 - 22s - loss: 0.4358 - accuracy: 0.7527 - val_loss: 0.8323 - val_accuracy: 0.6102\n",
      "Epoch 7/15\n",
      "400/400 - 22s - loss: 0.4085 - accuracy: 0.7885 - val_loss: 0.8918 - val_accuracy: 0.6350\n",
      "Epoch 8/15\n",
      "400/400 - 22s - loss: 0.4020 - accuracy: 0.7888 - val_loss: 1.0437 - val_accuracy: 0.5876\n",
      "Epoch 9/15\n",
      "400/400 - 21s - loss: 0.4046 - accuracy: 0.7746 - val_loss: 1.1624 - val_accuracy: 0.5815\n",
      "Epoch 10/15\n",
      "400/400 - 21s - loss: 0.3764 - accuracy: 0.7995 - val_loss: 1.2358 - val_accuracy: 0.5551\n",
      "Epoch 11/15\n",
      "400/400 - 22s - loss: 0.3837 - accuracy: 0.8030 - val_loss: 1.4278 - val_accuracy: 0.5611\n",
      "Epoch 12/15\n",
      "400/400 - 22s - loss: 0.3603 - accuracy: 0.8172 - val_loss: 1.6220 - val_accuracy: 0.5428\n",
      "WARNING:tensorflow:sample_weight modes were coerced from\n",
      "  ...\n",
      "    to  \n",
      "  ['...']\n",
      "WARNING:tensorflow:sample_weight modes were coerced from\n",
      "  ...\n",
      "    to  \n",
      "  ['...']\n",
      "Train for 400 steps, validate for 171 steps\n",
      "Epoch 1/15\n",
      "400/400 - 22s - loss: 31.6752 - accuracy: 0.5860 - val_loss: 0.6387 - val_accuracy: 0.5900\n",
      "Epoch 2/15\n",
      "400/400 - 22s - loss: 0.6112 - accuracy: 0.6018 - val_loss: 0.6369 - val_accuracy: 0.5898\n",
      "Epoch 3/15\n",
      "400/400 - 22s - loss: 0.5781 - accuracy: 0.6150 - val_loss: 0.6439 - val_accuracy: 0.5893\n",
      "Epoch 4/15\n",
      "400/400 - 22s - loss: 0.5409 - accuracy: 0.6402 - val_loss: 0.6652 - val_accuracy: 0.5904\n",
      "Epoch 5/15\n",
      "400/400 - 22s - loss: 0.4987 - accuracy: 0.6779 - val_loss: 0.7040 - val_accuracy: 0.5931\n",
      "Epoch 6/15\n",
      "400/400 - 22s - loss: 0.4627 - accuracy: 0.7243 - val_loss: 0.7607 - val_accuracy: 0.5951\n",
      "Epoch 7/15\n",
      "400/400 - 22s - loss: 0.4248 - accuracy: 0.7832 - val_loss: 0.7828 - val_accuracy: 0.6677\n",
      "Epoch 8/15\n",
      "400/400 - 22s - loss: 0.3964 - accuracy: 0.8025 - val_loss: 0.9706 - val_accuracy: 0.6703\n",
      "Epoch 9/15\n",
      "400/400 - 22s - loss: 0.4044 - accuracy: 0.7827 - val_loss: 1.1064 - val_accuracy: 0.6386\n",
      "Epoch 10/15\n",
      "400/400 - 22s - loss: 0.3755 - accuracy: 0.8050 - val_loss: 1.1612 - val_accuracy: 0.6012\n",
      "Epoch 11/15\n",
      "400/400 - 22s - loss: 0.3829 - accuracy: 0.7913 - val_loss: 1.2857 - val_accuracy: 0.5954\n",
      "Epoch 12/15\n",
      "400/400 - 22s - loss: 0.3845 - accuracy: 0.7913 - val_loss: 1.4201 - val_accuracy: 0.5904\n",
      "Epoch 13/15\n",
      "400/400 - 22s - loss: 0.3510 - accuracy: 0.8202 - val_loss: 1.2846 - val_accuracy: 0.6040\n",
      "WARNING:tensorflow:sample_weight modes were coerced from\n",
      "  ...\n",
      "    to  \n",
      "  ['...']\n",
      "WARNING:tensorflow:sample_weight modes were coerced from\n",
      "  ...\n",
      "    to  \n",
      "  ['...']\n",
      "Train for 400 steps, validate for 171 steps\n",
      "Epoch 1/15\n",
      "400/400 - 23s - loss: 39.7458 - accuracy: 0.5893 - val_loss: 0.6365 - val_accuracy: 0.5915\n",
      "Epoch 2/15\n",
      "400/400 - 22s - loss: 0.6262 - accuracy: 0.5947 - val_loss: 0.6277 - val_accuracy: 0.5912\n",
      "Epoch 3/15\n",
      "400/400 - 22s - loss: 0.5945 - accuracy: 0.6004 - val_loss: 0.6384 - val_accuracy: 0.5910\n",
      "Epoch 4/15\n",
      "400/400 - 22s - loss: 0.5560 - accuracy: 0.6228 - val_loss: 0.6677 - val_accuracy: 0.5829\n",
      "Epoch 5/15\n",
      "400/400 - 22s - loss: 0.5125 - accuracy: 0.6614 - val_loss: 0.7277 - val_accuracy: 0.5789\n",
      "Epoch 6/15\n",
      "400/400 - 22s - loss: 0.4815 - accuracy: 0.7028 - val_loss: 0.7442 - val_accuracy: 0.5961\n",
      "Epoch 7/15\n",
      "400/400 - 22s - loss: 0.4531 - accuracy: 0.7646 - val_loss: 0.7834 - val_accuracy: 0.6628\n",
      "Epoch 8/15\n",
      "400/400 - 22s - loss: 0.4170 - accuracy: 0.8018 - val_loss: 0.8100 - val_accuracy: 0.6796\n",
      "Epoch 9/15\n",
      "400/400 - 22s - loss: 0.4015 - accuracy: 0.8004 - val_loss: 0.8388 - val_accuracy: 0.6471\n",
      "Epoch 10/15\n",
      "400/400 - 22s - loss: 0.4221 - accuracy: 0.7794 - val_loss: 1.0083 - val_accuracy: 0.5909\n",
      "Epoch 11/15\n",
      "400/400 - 22s - loss: 0.3986 - accuracy: 0.7880 - val_loss: 1.1370 - val_accuracy: 0.6047\n",
      "Epoch 12/15\n",
      "400/400 - 22s - loss: 0.4012 - accuracy: 0.7943 - val_loss: 1.2846 - val_accuracy: 0.6168\n",
      "Epoch 13/15\n",
      "400/400 - 22s - loss: 0.3770 - accuracy: 0.8061 - val_loss: 1.3224 - val_accuracy: 0.5926\n",
      "WARNING:tensorflow:sample_weight modes were coerced from\n",
      "  ...\n",
      "    to  \n",
      "  ['...']\n",
      "WARNING:tensorflow:sample_weight modes were coerced from\n",
      "  ...\n",
      "    to  \n",
      "  ['...']\n",
      "Train for 400 steps, validate for 171 steps\n",
      "Epoch 1/15\n",
      "400/400 - 22s - loss: 33.1485 - accuracy: 0.5866 - val_loss: 0.6313 - val_accuracy: 0.5915\n",
      "Epoch 2/15\n",
      "400/400 - 22s - loss: 0.6097 - accuracy: 0.5966 - val_loss: 0.6262 - val_accuracy: 0.5919\n",
      "Epoch 3/15\n",
      "400/400 - 21s - loss: 0.5754 - accuracy: 0.6124 - val_loss: 0.6391 - val_accuracy: 0.5958\n",
      "Epoch 4/15\n",
      "400/400 - 22s - loss: 0.5280 - accuracy: 0.6755 - val_loss: 0.6715 - val_accuracy: 0.6323\n",
      "Epoch 5/15\n",
      "400/400 - 22s - loss: 0.4713 - accuracy: 0.7648 - val_loss: 0.6891 - val_accuracy: 0.6969\n",
      "Epoch 6/15\n",
      "400/400 - 22s - loss: 0.4136 - accuracy: 0.8040 - val_loss: 0.7374 - val_accuracy: 0.6926\n",
      "Epoch 7/15\n",
      "400/400 - 22s - loss: 0.3944 - accuracy: 0.8084 - val_loss: 0.8254 - val_accuracy: 0.7052\n",
      "Epoch 8/15\n",
      "400/400 - 22s - loss: 0.4418 - accuracy: 0.7582 - val_loss: 0.9573 - val_accuracy: 0.6850\n",
      "Epoch 9/15\n",
      "400/400 - 22s - loss: 0.4090 - accuracy: 0.7881 - val_loss: 0.9806 - val_accuracy: 0.6470\n",
      "Epoch 10/15\n",
      "400/400 - 22s - loss: 0.3918 - accuracy: 0.8000 - val_loss: 0.9981 - val_accuracy: 0.5891\n",
      "Epoch 11/15\n",
      "400/400 - 22s - loss: 0.3714 - accuracy: 0.8050 - val_loss: 1.3264 - val_accuracy: 0.5947\n",
      "Epoch 12/15\n",
      "400/400 - 22s - loss: 0.4315 - accuracy: 0.7509 - val_loss: 1.5134 - val_accuracy: 0.5984\n",
      "WARNING:tensorflow:sample_weight modes were coerced from\n",
      "  ...\n",
      "    to  \n",
      "  ['...']\n",
      "WARNING:tensorflow:sample_weight modes were coerced from\n",
      "  ...\n",
      "    to  \n",
      "  ['...']\n",
      "Train for 400 steps, validate for 171 steps\n",
      "Epoch 1/15\n",
      "400/400 - 22s - loss: 21.3627 - accuracy: 0.5925 - val_loss: 0.6223 - val_accuracy: 0.5958\n",
      "Epoch 2/15\n",
      "400/400 - 22s - loss: 0.5943 - accuracy: 0.6094 - val_loss: 0.6202 - val_accuracy: 0.6074\n",
      "Epoch 3/15\n",
      "400/400 - 22s - loss: 0.5389 - accuracy: 0.6770 - val_loss: 0.6340 - val_accuracy: 0.6624\n",
      "Epoch 4/15\n",
      "400/400 - 22s - loss: 0.4750 - accuracy: 0.7482 - val_loss: 0.6926 - val_accuracy: 0.6671\n",
      "Epoch 5/15\n",
      "400/400 - 22s - loss: 0.4611 - accuracy: 0.7543 - val_loss: 0.8505 - val_accuracy: 0.5984\n",
      "Epoch 6/15\n",
      "400/400 - 22s - loss: 0.4491 - accuracy: 0.7563 - val_loss: 0.8279 - val_accuracy: 0.5699\n",
      "Epoch 7/15\n",
      "400/400 - 22s - loss: 0.4294 - accuracy: 0.7656 - val_loss: 1.0833 - val_accuracy: 0.5525\n",
      "Epoch 8/15\n",
      "400/400 - 22s - loss: 0.4047 - accuracy: 0.7849 - val_loss: 1.1136 - val_accuracy: 0.6166\n",
      "Epoch 9/15\n",
      "400/400 - 22s - loss: 0.4145 - accuracy: 0.7754 - val_loss: 1.1049 - val_accuracy: 0.5878\n",
      "WARNING:tensorflow:sample_weight modes were coerced from\n",
      "  ...\n",
      "    to  \n",
      "  ['...']\n",
      "WARNING:tensorflow:sample_weight modes were coerced from\n",
      "  ...\n",
      "    to  \n",
      "  ['...']\n",
      "Train for 400 steps, validate for 171 steps\n",
      "Epoch 1/15\n",
      "400/400 - 22s - loss: 33.4072 - accuracy: 0.5946 - val_loss: 0.6590 - val_accuracy: 0.5973\n",
      "Epoch 2/15\n",
      "400/400 - 22s - loss: 0.5737 - accuracy: 0.6832 - val_loss: 0.6092 - val_accuracy: 0.7064\n",
      "Epoch 3/15\n",
      "400/400 - 22s - loss: 0.4576 - accuracy: 0.7867 - val_loss: 0.6105 - val_accuracy: 0.7522\n",
      "Epoch 4/15\n",
      "400/400 - 22s - loss: 0.3777 - accuracy: 0.8218 - val_loss: 0.6068 - val_accuracy: 0.7576\n",
      "Epoch 5/15\n",
      "400/400 - 22s - loss: 0.4138 - accuracy: 0.8077 - val_loss: 0.8457 - val_accuracy: 0.6782\n",
      "Epoch 6/15\n",
      "400/400 - 22s - loss: 0.4011 - accuracy: 0.8070 - val_loss: 0.9232 - val_accuracy: 0.6678\n",
      "Epoch 7/15\n",
      "400/400 - 22s - loss: 0.3964 - accuracy: 0.7938 - val_loss: 0.9450 - val_accuracy: 0.5888\n",
      "Epoch 8/15\n",
      "400/400 - 22s - loss: 0.4147 - accuracy: 0.7646 - val_loss: 0.8881 - val_accuracy: 0.5949\n",
      "Epoch 9/15\n",
      "400/400 - 22s - loss: 0.2952 - accuracy: 0.8704 - val_loss: 1.0335 - val_accuracy: 0.6724\n",
      "WARNING:tensorflow:sample_weight modes were coerced from\n",
      "  ...\n",
      "    to  \n",
      "  ['...']\n",
      "WARNING:tensorflow:sample_weight modes were coerced from\n",
      "  ...\n",
      "    to  \n",
      "  ['...']\n",
      "Train for 400 steps, validate for 171 steps\n",
      "Epoch 1/15\n",
      "400/400 - 22s - loss: 37.6938 - accuracy: 0.5881 - val_loss: 0.6329 - val_accuracy: 0.5916\n",
      "Epoch 2/15\n",
      "400/400 - 22s - loss: 0.6237 - accuracy: 0.5947 - val_loss: 0.6287 - val_accuracy: 0.5917\n",
      "Epoch 3/15\n",
      "400/400 - 22s - loss: 0.5986 - accuracy: 0.5978 - val_loss: 0.6326 - val_accuracy: 0.5912\n",
      "Epoch 4/15\n",
      "400/400 - 22s - loss: 0.5616 - accuracy: 0.6196 - val_loss: 0.6420 - val_accuracy: 0.5925\n",
      "Epoch 5/15\n",
      "400/400 - 22s - loss: 0.5388 - accuracy: 0.6443 - val_loss: 0.6586 - val_accuracy: 0.5971\n",
      "Epoch 6/15\n",
      "400/400 - 22s - loss: 0.5024 - accuracy: 0.6844 - val_loss: 0.6951 - val_accuracy: 0.6101\n",
      "Epoch 7/15\n",
      "400/400 - 22s - loss: 0.4764 - accuracy: 0.7249 - val_loss: 0.7698 - val_accuracy: 0.6195\n",
      "Epoch 8/15\n",
      "400/400 - 22s - loss: 0.4522 - accuracy: 0.7483 - val_loss: 0.9094 - val_accuracy: 0.5920\n",
      "Epoch 9/15\n",
      "400/400 - 22s - loss: 0.4375 - accuracy: 0.7519 - val_loss: 0.9634 - val_accuracy: 0.5951\n",
      "Epoch 10/15\n",
      "400/400 - 22s - loss: 0.4225 - accuracy: 0.7598 - val_loss: 1.1418 - val_accuracy: 0.5993\n",
      "Epoch 11/15\n",
      "400/400 - 22s - loss: 0.3966 - accuracy: 0.7927 - val_loss: 1.1589 - val_accuracy: 0.6091\n",
      "Epoch 12/15\n",
      "400/400 - 22s - loss: 0.3846 - accuracy: 0.8020 - val_loss: 1.3045 - val_accuracy: 0.6140\n",
      "WARNING:tensorflow:sample_weight modes were coerced from\n",
      "  ...\n",
      "    to  \n",
      "  ['...']\n",
      "WARNING:tensorflow:sample_weight modes were coerced from\n",
      "  ...\n",
      "    to  \n",
      "  ['...']\n",
      "Train for 400 steps, validate for 171 steps\n",
      "Epoch 1/15\n",
      "400/400 - 22s - loss: 26.1761 - accuracy: 0.5885 - val_loss: 0.6325 - val_accuracy: 0.5912\n",
      "Epoch 2/15\n",
      "400/400 - 21s - loss: 0.6051 - accuracy: 0.5986 - val_loss: 0.6390 - val_accuracy: 0.5863\n",
      "Epoch 3/15\n",
      "400/400 - 21s - loss: 0.5563 - accuracy: 0.6244 - val_loss: 0.6777 - val_accuracy: 0.5882\n",
      "Epoch 4/15\n",
      "400/400 - 22s - loss: 0.5051 - accuracy: 0.6819 - val_loss: 0.8169 - val_accuracy: 0.6172\n",
      "Epoch 5/15\n",
      "400/400 - 22s - loss: 0.4637 - accuracy: 0.7602 - val_loss: 0.6901 - val_accuracy: 0.6416\n",
      "Epoch 6/15\n",
      "400/400 - 22s - loss: 0.4373 - accuracy: 0.7763 - val_loss: 0.7408 - val_accuracy: 0.6251\n",
      "Epoch 7/15\n",
      "400/400 - 22s - loss: 0.4278 - accuracy: 0.7662 - val_loss: 0.8630 - val_accuracy: 0.5900\n",
      "Epoch 8/15\n",
      "400/400 - 22s - loss: 0.3932 - accuracy: 0.7917 - val_loss: 0.9754 - val_accuracy: 0.6223\n",
      "Epoch 9/15\n",
      "400/400 - 22s - loss: 0.3721 - accuracy: 0.8128 - val_loss: 1.0794 - val_accuracy: 0.6439\n",
      "Epoch 10/15\n",
      "400/400 - 22s - loss: 0.3920 - accuracy: 0.7973 - val_loss: 1.2933 - val_accuracy: 0.5971\n",
      "Epoch 11/15\n",
      "400/400 - 22s - loss: 0.3938 - accuracy: 0.7931 - val_loss: 1.1754 - val_accuracy: 0.6129\n",
      "Epoch 12/15\n",
      "400/400 - 22s - loss: 0.3538 - accuracy: 0.8259 - val_loss: 1.4006 - val_accuracy: 0.5850\n",
      "Epoch 13/15\n",
      "400/400 - 22s - loss: 0.3219 - accuracy: 0.8442 - val_loss: 1.7006 - val_accuracy: 0.5900\n",
      "Epoch 14/15\n",
      "400/400 - 22s - loss: 0.3353 - accuracy: 0.8358 - val_loss: 1.6970 - val_accuracy: 0.6171\n"
     ]
    },
    {
     "data": {
      "text/html": [
       "<span style=\"color:#4527A0\"><h1 style=\"font-size:18px\">Trial complete</h1></span>"
      ],
      "text/plain": [
       "<IPython.core.display.HTML object>"
      ]
     },
     "metadata": {},
     "output_type": "display_data"
    },
    {
     "data": {
      "text/html": [
       "<span style=\"color:#4527A0\"><h1 style=\"font-size:18px\">Trial summary</h1></span>"
      ],
      "text/plain": [
       "<IPython.core.display.HTML object>"
      ]
     },
     "metadata": {},
     "output_type": "display_data"
    },
    {
     "data": {
      "text/html": [
       "<span style=\"color:cyan\"> |-Trial ID: dae72c6c34075198ec1b87a845e4d371</span>"
      ],
      "text/plain": [
       "<IPython.core.display.HTML object>"
      ]
     },
     "metadata": {},
     "output_type": "display_data"
    },
    {
     "data": {
      "text/html": [
       "<span style=\"color:cyan\"> |-Score: 0.6705508828163147</span>"
      ],
      "text/plain": [
       "<IPython.core.display.HTML object>"
      ]
     },
     "metadata": {},
     "output_type": "display_data"
    },
    {
     "data": {
      "text/html": [
       "<span style=\"color:cyan\"> |-Best step: 0</span>"
      ],
      "text/plain": [
       "<IPython.core.display.HTML object>"
      ]
     },
     "metadata": {},
     "output_type": "display_data"
    },
    {
     "data": {
      "text/html": [
       "<span style=\"color:#7E57C2\"><h2 style=\"font-size:16px\">Hyperparameters:</h2></span>"
      ],
      "text/plain": [
       "<IPython.core.display.HTML object>"
      ]
     },
     "metadata": {},
     "output_type": "display_data"
    },
    {
     "data": {
      "text/html": [
       "<span style=\"color:cyan\"> |-conv_1: 128</span>"
      ],
      "text/plain": [
       "<IPython.core.display.HTML object>"
      ]
     },
     "metadata": {},
     "output_type": "display_data"
    },
    {
     "name": "stdout",
     "output_type": "stream",
     "text": [
      "WARNING:tensorflow:sample_weight modes were coerced from\n",
      "  ...\n",
      "    to  \n",
      "  ['...']\n",
      "WARNING:tensorflow:sample_weight modes were coerced from\n",
      "  ...\n",
      "    to  \n",
      "  ['...']\n",
      "Train for 400 steps, validate for 171 steps\n",
      "Epoch 1/15\n",
      "400/400 - 22s - loss: 18.7067 - accuracy: 0.6092 - val_loss: 0.7301 - val_accuracy: 0.6257\n",
      "Epoch 2/15\n",
      "400/400 - 21s - loss: 0.5864 - accuracy: 0.6993 - val_loss: 0.6844 - val_accuracy: 0.6790\n",
      "Epoch 3/15\n",
      "400/400 - 21s - loss: 0.4610 - accuracy: 0.7702 - val_loss: 0.7186 - val_accuracy: 0.6833\n",
      "Epoch 4/15\n",
      "400/400 - 21s - loss: 0.3747 - accuracy: 0.8255 - val_loss: 0.7908 - val_accuracy: 0.6817\n",
      "Epoch 5/15\n",
      "400/400 - 22s - loss: 0.3293 - accuracy: 0.8546 - val_loss: 0.9318 - val_accuracy: 0.6728\n",
      "Epoch 6/15\n",
      "400/400 - 21s - loss: 0.3686 - accuracy: 0.8358 - val_loss: 1.0395 - val_accuracy: 0.6772\n",
      "Epoch 7/15\n",
      "400/400 - 21s - loss: 0.4027 - accuracy: 0.8169 - val_loss: 1.1753 - val_accuracy: 0.6491\n",
      "Epoch 8/15\n",
      "400/400 - 21s - loss: 0.4051 - accuracy: 0.7972 - val_loss: 1.2030 - val_accuracy: 0.6047\n",
      "WARNING:tensorflow:sample_weight modes were coerced from\n",
      "  ...\n",
      "    to  \n",
      "  ['...']\n",
      "WARNING:tensorflow:sample_weight modes were coerced from\n",
      "  ...\n",
      "    to  \n",
      "  ['...']\n",
      "Train for 400 steps, validate for 171 steps\n",
      "Epoch 1/15\n",
      "400/400 - 22s - loss: 16.7539 - accuracy: 0.5981 - val_loss: 0.6858 - val_accuracy: 0.5910\n",
      "Epoch 2/15\n",
      "400/400 - 21s - loss: 0.6020 - accuracy: 0.6229 - val_loss: 0.6737 - val_accuracy: 0.5919\n",
      "Epoch 3/15\n",
      "400/400 - 22s - loss: 0.5165 - accuracy: 0.6740 - val_loss: 0.7132 - val_accuracy: 0.5996\n",
      "Epoch 4/15\n",
      "400/400 - 22s - loss: 0.4529 - accuracy: 0.7406 - val_loss: 0.7866 - val_accuracy: 0.6189\n",
      "Epoch 5/15\n",
      "400/400 - 22s - loss: 0.4057 - accuracy: 0.7910 - val_loss: 0.8958 - val_accuracy: 0.6202\n",
      "Epoch 6/15\n",
      "400/400 - 22s - loss: 0.3756 - accuracy: 0.8142 - val_loss: 1.0046 - val_accuracy: 0.6355\n",
      "Epoch 7/15\n",
      "400/400 - 22s - loss: 0.4000 - accuracy: 0.7989 - val_loss: 1.0455 - val_accuracy: 0.6254\n",
      "Epoch 8/15\n",
      "400/400 - 22s - loss: 0.4142 - accuracy: 0.7860 - val_loss: 1.0614 - val_accuracy: 0.5850\n",
      "Epoch 9/15\n",
      "400/400 - 22s - loss: 0.3523 - accuracy: 0.8238 - val_loss: 1.1885 - val_accuracy: 0.6130\n",
      "Epoch 10/15\n",
      "400/400 - 22s - loss: 0.3104 - accuracy: 0.8512 - val_loss: 1.3690 - val_accuracy: 0.6181\n",
      "Epoch 11/15\n",
      "400/400 - 22s - loss: 0.3326 - accuracy: 0.8381 - val_loss: 1.4453 - val_accuracy: 0.6202\n",
      "WARNING:tensorflow:sample_weight modes were coerced from\n",
      "  ...\n",
      "    to  \n",
      "  ['...']\n",
      "WARNING:tensorflow:sample_weight modes were coerced from\n",
      "  ...\n",
      "    to  \n",
      "  ['...']\n",
      "Train for 400 steps, validate for 171 steps\n",
      "Epoch 1/15\n",
      "400/400 - 23s - loss: 21.6888 - accuracy: 0.6932 - val_loss: 0.6872 - val_accuracy: 0.7279\n",
      "Epoch 2/15\n",
      "400/400 - 22s - loss: 0.5204 - accuracy: 0.7636 - val_loss: 0.6326 - val_accuracy: 0.7390\n",
      "Epoch 3/15\n",
      "400/400 - 22s - loss: 0.3778 - accuracy: 0.8241 - val_loss: 0.6567 - val_accuracy: 0.7480\n",
      "Epoch 4/15\n",
      "400/400 - 22s - loss: 0.3028 - accuracy: 0.8641 - val_loss: 0.6840 - val_accuracy: 0.7445\n",
      "Epoch 5/15\n",
      "400/400 - 22s - loss: 0.2977 - accuracy: 0.8661 - val_loss: 0.9745 - val_accuracy: 0.6873\n",
      "Epoch 6/15\n",
      "400/400 - 22s - loss: 0.3421 - accuracy: 0.8424 - val_loss: 0.7870 - val_accuracy: 0.7306\n",
      "Epoch 7/15\n",
      "400/400 - 22s - loss: 0.3965 - accuracy: 0.8161 - val_loss: 0.9784 - val_accuracy: 0.6467\n",
      "Epoch 8/15\n",
      "400/400 - 22s - loss: 0.3859 - accuracy: 0.8228 - val_loss: 1.1226 - val_accuracy: 0.6594\n",
      "WARNING:tensorflow:sample_weight modes were coerced from\n",
      "  ...\n",
      "    to  \n",
      "  ['...']\n",
      "WARNING:tensorflow:sample_weight modes were coerced from\n",
      "  ...\n",
      "    to  \n",
      "  ['...']\n",
      "Train for 400 steps, validate for 171 steps\n",
      "Epoch 1/15\n",
      "400/400 - 22s - loss: 18.9439 - accuracy: 0.6100 - val_loss: 0.6994 - val_accuracy: 0.5886\n",
      "Epoch 2/15\n",
      "400/400 - 22s - loss: 0.6013 - accuracy: 0.6274 - val_loss: 0.6955 - val_accuracy: 0.5909\n",
      "Epoch 3/15\n",
      "400/400 - 22s - loss: 0.5064 - accuracy: 0.6940 - val_loss: 0.7429 - val_accuracy: 0.6077\n",
      "Epoch 4/15\n",
      "400/400 - 22s - loss: 0.4491 - accuracy: 0.7613 - val_loss: 0.8037 - val_accuracy: 0.6449\n",
      "Epoch 5/15\n",
      "400/400 - 21s - loss: 0.3948 - accuracy: 0.8088 - val_loss: 0.8923 - val_accuracy: 0.6580\n",
      "Epoch 6/15\n",
      "400/400 - 21s - loss: 0.3928 - accuracy: 0.8113 - val_loss: 1.0365 - val_accuracy: 0.6565\n",
      "Epoch 7/15\n",
      "400/400 - 22s - loss: 0.4223 - accuracy: 0.7884 - val_loss: 1.2954 - val_accuracy: 0.5993\n",
      "Epoch 8/15\n",
      "400/400 - 22s - loss: 0.4205 - accuracy: 0.7810 - val_loss: 1.2739 - val_accuracy: 0.6077\n",
      "Epoch 9/15\n",
      "400/400 - 22s - loss: 0.3973 - accuracy: 0.7901 - val_loss: 1.1875 - val_accuracy: 0.6256\n",
      "Epoch 10/15\n",
      "400/400 - 22s - loss: 0.3665 - accuracy: 0.8070 - val_loss: 1.3312 - val_accuracy: 0.5995\n",
      "WARNING:tensorflow:sample_weight modes were coerced from\n",
      "  ...\n",
      "    to  \n",
      "  ['...']\n",
      "WARNING:tensorflow:sample_weight modes were coerced from\n",
      "  ...\n",
      "    to  \n",
      "  ['...']\n",
      "Train for 400 steps, validate for 171 steps\n",
      "Epoch 1/15\n",
      "400/400 - 22s - loss: 12.9927 - accuracy: 0.6010 - val_loss: 0.6853 - val_accuracy: 0.5967\n",
      "Epoch 2/15\n",
      "400/400 - 22s - loss: 0.5817 - accuracy: 0.6411 - val_loss: 0.6869 - val_accuracy: 0.6071\n",
      "Epoch 3/15\n",
      "400/400 - 22s - loss: 0.4725 - accuracy: 0.7465 - val_loss: 0.7198 - val_accuracy: 0.6774\n",
      "Epoch 4/15\n",
      "400/400 - 21s - loss: 0.3754 - accuracy: 0.8294 - val_loss: 0.7781 - val_accuracy: 0.6971\n",
      "Epoch 5/15\n",
      "400/400 - 22s - loss: 0.3337 - accuracy: 0.8509 - val_loss: 0.8992 - val_accuracy: 0.6822\n",
      "Epoch 6/15\n",
      "400/400 - 22s - loss: 0.3781 - accuracy: 0.8230 - val_loss: 0.9392 - val_accuracy: 0.6464\n",
      "Epoch 7/15\n",
      "400/400 - 22s - loss: 0.3943 - accuracy: 0.8092 - val_loss: 1.1349 - val_accuracy: 0.6178\n",
      "Epoch 8/15\n",
      "400/400 - 21s - loss: 0.3612 - accuracy: 0.8245 - val_loss: 1.4706 - val_accuracy: 0.5989\n",
      "Epoch 9/15\n",
      "400/400 - 22s - loss: 0.3340 - accuracy: 0.8435 - val_loss: 1.9694 - val_accuracy: 0.5952\n",
      "WARNING:tensorflow:sample_weight modes were coerced from\n",
      "  ...\n",
      "    to  \n",
      "  ['...']\n",
      "WARNING:tensorflow:sample_weight modes were coerced from\n",
      "  ...\n",
      "    to  \n",
      "  ['...']\n",
      "Train for 400 steps, validate for 171 steps\n",
      "Epoch 1/15\n",
      "400/400 - 23s - loss: 28.9837 - accuracy: 0.5803 - val_loss: 0.6658 - val_accuracy: 0.5861\n",
      "Epoch 2/15\n",
      "400/400 - 22s - loss: 0.6234 - accuracy: 0.6007 - val_loss: 0.6548 - val_accuracy: 0.5898\n",
      "Epoch 3/15\n",
      "400/400 - 22s - loss: 0.5617 - accuracy: 0.6298 - val_loss: 0.6829 - val_accuracy: 0.5911\n",
      "Epoch 4/15\n",
      "400/400 - 22s - loss: 0.5072 - accuracy: 0.6779 - val_loss: 0.7345 - val_accuracy: 0.5971\n",
      "Epoch 5/15\n",
      "400/400 - 22s - loss: 0.4582 - accuracy: 0.7238 - val_loss: 0.8298 - val_accuracy: 0.5829\n",
      "Epoch 6/15\n",
      "400/400 - 22s - loss: 0.4341 - accuracy: 0.7500 - val_loss: 0.8810 - val_accuracy: 0.5927\n",
      "Epoch 7/15\n",
      "400/400 - 22s - loss: 0.4248 - accuracy: 0.7595 - val_loss: 0.9536 - val_accuracy: 0.5888\n",
      "Epoch 8/15\n",
      "400/400 - 22s - loss: 0.4148 - accuracy: 0.7690 - val_loss: 0.9282 - val_accuracy: 0.5911\n",
      "Epoch 9/15\n",
      "400/400 - 22s - loss: 0.3844 - accuracy: 0.7933 - val_loss: 1.0130 - val_accuracy: 0.5785\n",
      "WARNING:tensorflow:sample_weight modes were coerced from\n",
      "  ...\n",
      "    to  \n",
      "  ['...']\n",
      "WARNING:tensorflow:sample_weight modes were coerced from\n",
      "  ...\n",
      "    to  \n",
      "  ['...']\n",
      "Train for 400 steps, validate for 171 steps\n",
      "Epoch 1/15\n",
      "400/400 - 23s - loss: 18.3004 - accuracy: 0.6286 - val_loss: 0.7166 - val_accuracy: 0.6423\n",
      "Epoch 2/15\n",
      "400/400 - 22s - loss: 0.6160 - accuracy: 0.6687 - val_loss: 0.6833 - val_accuracy: 0.6417\n",
      "Epoch 3/15\n",
      "400/400 - 22s - loss: 0.5209 - accuracy: 0.7191 - val_loss: 0.7152 - val_accuracy: 0.6475\n",
      "Epoch 4/15\n",
      "400/400 - 22s - loss: 0.4518 - accuracy: 0.7677 - val_loss: 0.7609 - val_accuracy: 0.6513\n",
      "Epoch 5/15\n",
      "400/400 - 22s - loss: 0.4309 - accuracy: 0.7810 - val_loss: 0.8098 - val_accuracy: 0.6041\n",
      "Epoch 6/15\n",
      "400/400 - 22s - loss: 0.4333 - accuracy: 0.7733 - val_loss: 0.8765 - val_accuracy: 0.5832\n",
      "Epoch 7/15\n",
      "400/400 - 22s - loss: 0.4135 - accuracy: 0.7823 - val_loss: 0.9474 - val_accuracy: 0.5921\n",
      "Epoch 8/15\n",
      "400/400 - 22s - loss: 0.4042 - accuracy: 0.7848 - val_loss: 1.3301 - val_accuracy: 0.5971\n",
      "Epoch 9/15\n",
      "400/400 - 22s - loss: 0.3721 - accuracy: 0.8066 - val_loss: 1.1265 - val_accuracy: 0.5968\n",
      "WARNING:tensorflow:sample_weight modes were coerced from\n",
      "  ...\n",
      "    to  \n",
      "  ['...']\n",
      "WARNING:tensorflow:sample_weight modes were coerced from\n",
      "  ...\n",
      "    to  \n",
      "  ['...']\n",
      "Train for 400 steps, validate for 171 steps\n",
      "Epoch 1/15\n",
      "400/400 - 23s - loss: 20.0247 - accuracy: 0.5891 - val_loss: 0.6833 - val_accuracy: 0.5890\n",
      "Epoch 2/15\n",
      "400/400 - 22s - loss: 0.6185 - accuracy: 0.6121 - val_loss: 0.6614 - val_accuracy: 0.5887\n",
      "Epoch 3/15\n",
      "400/400 - 22s - loss: 0.5411 - accuracy: 0.6518 - val_loss: 0.6813 - val_accuracy: 0.5917\n",
      "Epoch 4/15\n",
      "400/400 - 22s - loss: 0.4776 - accuracy: 0.7215 - val_loss: 0.7161 - val_accuracy: 0.6410\n",
      "Epoch 5/15\n",
      "400/400 - 22s - loss: 0.4222 - accuracy: 0.7933 - val_loss: 0.7841 - val_accuracy: 0.6760\n",
      "Epoch 6/15\n",
      "400/400 - 22s - loss: 0.3867 - accuracy: 0.8202 - val_loss: 1.0440 - val_accuracy: 0.5996\n",
      "Epoch 7/15\n",
      "400/400 - 22s - loss: 0.4078 - accuracy: 0.7940 - val_loss: 0.8695 - val_accuracy: 0.5991\n",
      "Epoch 8/15\n",
      "400/400 - 22s - loss: 0.4203 - accuracy: 0.7792 - val_loss: 0.9762 - val_accuracy: 0.5903\n",
      "Epoch 9/15\n",
      "400/400 - 22s - loss: 0.3826 - accuracy: 0.8034 - val_loss: 1.1100 - val_accuracy: 0.6123\n",
      "Epoch 10/15\n",
      "400/400 - 22s - loss: 0.3407 - accuracy: 0.8288 - val_loss: 1.1909 - val_accuracy: 0.6171\n",
      "WARNING:tensorflow:sample_weight modes were coerced from\n",
      "  ...\n",
      "    to  \n",
      "  ['...']\n",
      "WARNING:tensorflow:sample_weight modes were coerced from\n",
      "  ...\n",
      "    to  \n",
      "  ['...']\n",
      "Train for 400 steps, validate for 171 steps\n",
      "Epoch 1/15\n",
      "400/400 - 23s - loss: 22.7815 - accuracy: 0.6059 - val_loss: 0.7164 - val_accuracy: 0.5963\n",
      "Epoch 2/15\n",
      "400/400 - 23s - loss: 0.6439 - accuracy: 0.6168 - val_loss: 0.6767 - val_accuracy: 0.5989\n",
      "Epoch 3/15\n",
      "400/400 - 22s - loss: 0.5733 - accuracy: 0.6475 - val_loss: 0.6785 - val_accuracy: 0.6110\n",
      "Epoch 4/15\n",
      "400/400 - 22s - loss: 0.5154 - accuracy: 0.7116 - val_loss: 0.6902 - val_accuracy: 0.6645\n",
      "Epoch 5/15\n",
      "400/400 - 22s - loss: 0.4549 - accuracy: 0.7727 - val_loss: 0.7173 - val_accuracy: 0.6806\n",
      "Epoch 6/15\n",
      "400/400 - 22s - loss: 0.4219 - accuracy: 0.7924 - val_loss: 0.8249 - val_accuracy: 0.6718\n",
      "Epoch 7/15\n",
      "400/400 - 22s - loss: 0.4145 - accuracy: 0.7976 - val_loss: 0.9934 - val_accuracy: 0.6583\n",
      "Epoch 8/15\n",
      "400/400 - 22s - loss: 0.4131 - accuracy: 0.7970 - val_loss: 0.9477 - val_accuracy: 0.6446\n",
      "Epoch 9/15\n",
      "400/400 - 22s - loss: 0.3893 - accuracy: 0.8071 - val_loss: 0.9887 - val_accuracy: 0.6278\n",
      "Epoch 10/15\n",
      "400/400 - 22s - loss: 0.3975 - accuracy: 0.7958 - val_loss: 1.1172 - val_accuracy: 0.6148\n",
      "WARNING:tensorflow:sample_weight modes were coerced from\n",
      "  ...\n",
      "    to  \n",
      "  ['...']\n",
      "WARNING:tensorflow:sample_weight modes were coerced from\n",
      "  ...\n",
      "    to  \n",
      "  ['...']\n",
      "Train for 400 steps, validate for 171 steps\n",
      "Epoch 1/15\n",
      "400/400 - 22s - loss: 27.0499 - accuracy: 0.6985 - val_loss: 0.6876 - val_accuracy: 0.7364\n",
      "Epoch 2/15\n",
      "400/400 - 22s - loss: 0.5676 - accuracy: 0.7607 - val_loss: 0.6094 - val_accuracy: 0.7489\n",
      "Epoch 3/15\n",
      "400/400 - 22s - loss: 0.4445 - accuracy: 0.7986 - val_loss: 0.6067 - val_accuracy: 0.7539\n",
      "Epoch 4/15\n",
      "400/400 - 22s - loss: 0.3665 - accuracy: 0.8343 - val_loss: 0.6160 - val_accuracy: 0.7520\n",
      "Epoch 5/15\n",
      "400/400 - 22s - loss: 0.3562 - accuracy: 0.8367 - val_loss: 0.6382 - val_accuracy: 0.7524\n",
      "Epoch 6/15\n",
      "400/400 - 22s - loss: 0.3587 - accuracy: 0.8323 - val_loss: 0.7316 - val_accuracy: 0.7500\n",
      "Epoch 7/15\n",
      "400/400 - 22s - loss: 0.4136 - accuracy: 0.7621 - val_loss: 0.8186 - val_accuracy: 0.6619\n",
      "Epoch 8/15\n",
      "400/400 - 22s - loss: 0.3222 - accuracy: 0.8355 - val_loss: 0.9305 - val_accuracy: 0.6397\n"
     ]
    },
    {
     "data": {
      "text/html": [
       "<span style=\"color:#4527A0\"><h1 style=\"font-size:18px\">Trial complete</h1></span>"
      ],
      "text/plain": [
       "<IPython.core.display.HTML object>"
      ]
     },
     "metadata": {},
     "output_type": "display_data"
    },
    {
     "data": {
      "text/html": [
       "<span style=\"color:#4527A0\"><h1 style=\"font-size:18px\">Trial summary</h1></span>"
      ],
      "text/plain": [
       "<IPython.core.display.HTML object>"
      ]
     },
     "metadata": {},
     "output_type": "display_data"
    },
    {
     "data": {
      "text/html": [
       "<span style=\"color:cyan\"> |-Trial ID: 7e51fcb8fc3dfe6b9e61f0b76e230c20</span>"
      ],
      "text/plain": [
       "<IPython.core.display.HTML object>"
      ]
     },
     "metadata": {},
     "output_type": "display_data"
    },
    {
     "data": {
      "text/html": [
       "<span style=\"color:cyan\"> |-Score: 0.6780846118927002</span>"
      ],
      "text/plain": [
       "<IPython.core.display.HTML object>"
      ]
     },
     "metadata": {},
     "output_type": "display_data"
    },
    {
     "data": {
      "text/html": [
       "<span style=\"color:cyan\"> |-Best step: 0</span>"
      ],
      "text/plain": [
       "<IPython.core.display.HTML object>"
      ]
     },
     "metadata": {},
     "output_type": "display_data"
    },
    {
     "data": {
      "text/html": [
       "<span style=\"color:#7E57C2\"><h2 style=\"font-size:16px\">Hyperparameters:</h2></span>"
      ],
      "text/plain": [
       "<IPython.core.display.HTML object>"
      ]
     },
     "metadata": {},
     "output_type": "display_data"
    },
    {
     "data": {
      "text/html": [
       "<span style=\"color:cyan\"> |-conv_1: 64</span>"
      ],
      "text/plain": [
       "<IPython.core.display.HTML object>"
      ]
     },
     "metadata": {},
     "output_type": "display_data"
    },
    {
     "name": "stdout",
     "output_type": "stream",
     "text": [
      "WARNING:tensorflow:sample_weight modes were coerced from\n",
      "  ...\n",
      "    to  \n",
      "  ['...']\n",
      "WARNING:tensorflow:sample_weight modes were coerced from\n",
      "  ...\n",
      "    to  \n",
      "  ['...']\n",
      "Train for 400 steps, validate for 171 steps\n",
      "Epoch 1/15\n",
      "400/400 - 23s - loss: 25.1361 - accuracy: 0.6124 - val_loss: 0.8617 - val_accuracy: 0.6377\n",
      "Epoch 2/15\n",
      "400/400 - 22s - loss: 0.7239 - accuracy: 0.6568 - val_loss: 0.7601 - val_accuracy: 0.6335\n",
      "Epoch 3/15\n",
      "400/400 - 22s - loss: 0.5871 - accuracy: 0.6917 - val_loss: 0.7549 - val_accuracy: 0.6456\n",
      "Epoch 4/15\n",
      "400/400 - 22s - loss: 0.5065 - accuracy: 0.7370 - val_loss: 0.8024 - val_accuracy: 0.6533\n",
      "Epoch 5/15\n",
      "400/400 - 22s - loss: 0.4543 - accuracy: 0.7704 - val_loss: 0.8642 - val_accuracy: 0.6567\n",
      "Epoch 6/15\n",
      "400/400 - 22s - loss: 0.4196 - accuracy: 0.7925 - val_loss: 0.9490 - val_accuracy: 0.6575\n",
      "Epoch 7/15\n",
      "400/400 - 22s - loss: 0.4184 - accuracy: 0.7954 - val_loss: 1.0278 - val_accuracy: 0.6548\n",
      "Epoch 8/15\n",
      "400/400 - 22s - loss: 0.4525 - accuracy: 0.7779 - val_loss: 1.1555 - val_accuracy: 0.6165\n",
      "Epoch 9/15\n",
      "400/400 - 22s - loss: 0.4425 - accuracy: 0.7835 - val_loss: 1.2468 - val_accuracy: 0.6254\n",
      "Epoch 10/15\n",
      "400/400 - 22s - loss: 0.4267 - accuracy: 0.7834 - val_loss: 1.1606 - val_accuracy: 0.5972\n",
      "Epoch 11/15\n",
      "400/400 - 22s - loss: 0.4259 - accuracy: 0.7824 - val_loss: 1.2540 - val_accuracy: 0.5777\n",
      "WARNING:tensorflow:sample_weight modes were coerced from\n",
      "  ...\n",
      "    to  \n",
      "  ['...']\n",
      "WARNING:tensorflow:sample_weight modes were coerced from\n",
      "  ...\n",
      "    to  \n",
      "  ['...']\n",
      "Train for 400 steps, validate for 171 steps\n",
      "Epoch 1/15\n",
      "400/400 - 22s - loss: 18.4909 - accuracy: 0.6101 - val_loss: 0.8665 - val_accuracy: 0.6016\n",
      "Epoch 2/15\n",
      "400/400 - 22s - loss: 0.6830 - accuracy: 0.6278 - val_loss: 0.7565 - val_accuracy: 0.5939\n",
      "Epoch 3/15\n",
      "400/400 - 22s - loss: 0.5607 - accuracy: 0.6665 - val_loss: 0.7670 - val_accuracy: 0.5963\n",
      "Epoch 4/15\n",
      "400/400 - 22s - loss: 0.4947 - accuracy: 0.7110 - val_loss: 0.8153 - val_accuracy: 0.5984\n",
      "Epoch 5/15\n",
      "400/400 - 22s - loss: 0.4452 - accuracy: 0.7493 - val_loss: 0.9052 - val_accuracy: 0.5984\n",
      "Epoch 6/15\n",
      "400/400 - 22s - loss: 0.4263 - accuracy: 0.7690 - val_loss: 0.9827 - val_accuracy: 0.5989\n",
      "WARNING:tensorflow:sample_weight modes were coerced from\n",
      "  ...\n",
      "    to  \n",
      "  ['...']\n",
      "WARNING:tensorflow:sample_weight modes were coerced from\n",
      "  ...\n",
      "    to  \n",
      "  ['...']\n",
      "Train for 400 steps, validate for 171 steps\n",
      "Epoch 1/15\n",
      "400/400 - 22s - loss: 14.7752 - accuracy: 0.6737 - val_loss: 1.1088 - val_accuracy: 0.7033\n",
      "Epoch 2/15\n",
      "400/400 - 22s - loss: 0.8018 - accuracy: 0.7482 - val_loss: 0.8797 - val_accuracy: 0.7180\n",
      "Epoch 3/15\n",
      "400/400 - 22s - loss: 0.5835 - accuracy: 0.7581 - val_loss: 0.8423 - val_accuracy: 0.6788\n",
      "Epoch 4/15\n",
      "400/400 - 22s - loss: 0.4536 - accuracy: 0.7967 - val_loss: 0.8754 - val_accuracy: 0.6813\n",
      "Epoch 5/15\n",
      "400/400 - 22s - loss: 0.4317 - accuracy: 0.7991 - val_loss: 1.0907 - val_accuracy: 0.6532\n",
      "Epoch 6/15\n",
      "400/400 - 22s - loss: 0.4856 - accuracy: 0.7631 - val_loss: 0.9768 - val_accuracy: 0.6357\n",
      "Epoch 7/15\n",
      "400/400 - 22s - loss: 0.4611 - accuracy: 0.7728 - val_loss: 1.0567 - val_accuracy: 0.6569\n",
      "WARNING:tensorflow:sample_weight modes were coerced from\n",
      "  ...\n",
      "    to  \n",
      "  ['...']\n",
      "WARNING:tensorflow:sample_weight modes were coerced from\n",
      "  ...\n",
      "    to  \n",
      "  ['...']\n",
      "Train for 400 steps, validate for 171 steps\n",
      "Epoch 1/15\n",
      "400/400 - 22s - loss: 18.8925 - accuracy: 0.6125 - val_loss: 0.8598 - val_accuracy: 0.6187\n",
      "Epoch 2/15\n",
      "400/400 - 22s - loss: 0.6768 - accuracy: 0.6501 - val_loss: 0.7695 - val_accuracy: 0.6117\n",
      "Epoch 3/15\n",
      "400/400 - 22s - loss: 0.5381 - accuracy: 0.7115 - val_loss: 0.8073 - val_accuracy: 0.6291\n",
      "Epoch 4/15\n",
      "400/400 - 22s - loss: 0.4571 - accuracy: 0.7691 - val_loss: 0.8470 - val_accuracy: 0.6447\n",
      "Epoch 5/15\n",
      "400/400 - 22s - loss: 0.3988 - accuracy: 0.8100 - val_loss: 0.9289 - val_accuracy: 0.6467\n",
      "Epoch 6/15\n",
      "400/400 - 22s - loss: 0.3570 - accuracy: 0.8351 - val_loss: 1.0005 - val_accuracy: 0.6604\n",
      "Epoch 7/15\n",
      "400/400 - 22s - loss: 0.3853 - accuracy: 0.8197 - val_loss: 1.1445 - val_accuracy: 0.6368\n",
      "Epoch 8/15\n",
      "400/400 - 22s - loss: 0.4334 - accuracy: 0.7856 - val_loss: 1.2032 - val_accuracy: 0.6018\n",
      "Epoch 9/15\n",
      "400/400 - 22s - loss: 0.4220 - accuracy: 0.7798 - val_loss: 1.2183 - val_accuracy: 0.6206\n",
      "Epoch 10/15\n",
      "400/400 - 22s - loss: 0.3813 - accuracy: 0.8035 - val_loss: 1.2985 - val_accuracy: 0.6290\n",
      "Epoch 11/15\n",
      "400/400 - 22s - loss: 0.3425 - accuracy: 0.8296 - val_loss: 1.3677 - val_accuracy: 0.6042\n",
      "WARNING:tensorflow:sample_weight modes were coerced from\n",
      "  ...\n",
      "    to  \n",
      "  ['...']\n",
      "WARNING:tensorflow:sample_weight modes were coerced from\n",
      "  ...\n",
      "    to  \n",
      "  ['...']\n",
      "Train for 400 steps, validate for 171 steps\n",
      "Epoch 1/15\n",
      "400/400 - 22s - loss: 11.3997 - accuracy: 0.6060 - val_loss: 0.7530 - val_accuracy: 0.5966\n",
      "Epoch 2/15\n",
      "400/400 - 22s - loss: 0.6434 - accuracy: 0.6276 - val_loss: 0.7052 - val_accuracy: 0.5887\n",
      "Epoch 3/15\n",
      "400/400 - 22s - loss: 0.5588 - accuracy: 0.6567 - val_loss: 0.7313 - val_accuracy: 0.5983\n",
      "Epoch 4/15\n",
      "400/400 - 22s - loss: 0.5022 - accuracy: 0.7022 - val_loss: 0.7975 - val_accuracy: 0.6066\n",
      "Epoch 5/15\n",
      "400/400 - 22s - loss: 0.4625 - accuracy: 0.7414 - val_loss: 0.8673 - val_accuracy: 0.6178\n",
      "Epoch 6/15\n",
      "400/400 - 23s - loss: 0.4283 - accuracy: 0.7693 - val_loss: 0.9476 - val_accuracy: 0.6101\n",
      "Epoch 7/15\n",
      "400/400 - 23s - loss: 0.4318 - accuracy: 0.7652 - val_loss: 1.0132 - val_accuracy: 0.5932\n",
      "Epoch 8/15\n",
      "400/400 - 22s - loss: 0.4310 - accuracy: 0.7663 - val_loss: 1.0262 - val_accuracy: 0.5935\n",
      "Epoch 9/15\n",
      "400/400 - 23s - loss: 0.4266 - accuracy: 0.7715 - val_loss: 1.0478 - val_accuracy: 0.5998\n",
      "Epoch 10/15\n",
      "400/400 - 22s - loss: 0.4360 - accuracy: 0.7657 - val_loss: 1.1539 - val_accuracy: 0.5852\n",
      "WARNING:tensorflow:sample_weight modes were coerced from\n",
      "  ...\n",
      "    to  \n",
      "  ['...']\n",
      "WARNING:tensorflow:sample_weight modes were coerced from\n",
      "  ...\n",
      "    to  \n",
      "  ['...']\n",
      "Train for 400 steps, validate for 171 steps\n",
      "Epoch 1/15\n",
      "400/400 - 23s - loss: 18.2266 - accuracy: 0.5956 - val_loss: 0.7913 - val_accuracy: 0.5882\n",
      "Epoch 2/15\n",
      "400/400 - 22s - loss: 0.6763 - accuracy: 0.6135 - val_loss: 0.7091 - val_accuracy: 0.5841\n",
      "Epoch 3/15\n",
      "400/400 - 22s - loss: 0.5770 - accuracy: 0.6446 - val_loss: 0.7220 - val_accuracy: 0.5834\n",
      "Epoch 4/15\n",
      "400/400 - 22s - loss: 0.5160 - accuracy: 0.6853 - val_loss: 0.7507 - val_accuracy: 0.5870\n",
      "Epoch 5/15\n",
      "400/400 - 22s - loss: 0.4742 - accuracy: 0.7222 - val_loss: 0.7897 - val_accuracy: 0.5951\n",
      "Epoch 6/15\n",
      "400/400 - 22s - loss: 0.4553 - accuracy: 0.7439 - val_loss: 0.8284 - val_accuracy: 0.6014\n",
      "Epoch 7/15\n",
      "400/400 - 22s - loss: 0.4347 - accuracy: 0.7584 - val_loss: 0.8922 - val_accuracy: 0.6064\n",
      "Epoch 8/15\n",
      "400/400 - 22s - loss: 0.4329 - accuracy: 0.7626 - val_loss: 0.9291 - val_accuracy: 0.5870\n",
      "Epoch 9/15\n",
      "400/400 - 22s - loss: 0.4420 - accuracy: 0.7552 - val_loss: 0.9452 - val_accuracy: 0.5905\n",
      "Epoch 10/15\n",
      "400/400 - 22s - loss: 0.4284 - accuracy: 0.7684 - val_loss: 1.0327 - val_accuracy: 0.5948\n",
      "Epoch 11/15\n",
      "400/400 - 22s - loss: 0.4114 - accuracy: 0.7789 - val_loss: 1.1974 - val_accuracy: 0.6029\n",
      "Epoch 12/15\n",
      "400/400 - 22s - loss: 0.3908 - accuracy: 0.7912 - val_loss: 1.1149 - val_accuracy: 0.5982\n",
      "WARNING:tensorflow:sample_weight modes were coerced from\n",
      "  ...\n",
      "    to  \n",
      "  ['...']\n",
      "WARNING:tensorflow:sample_weight modes were coerced from\n",
      "  ...\n",
      "    to  \n",
      "  ['...']\n",
      "Train for 400 steps, validate for 171 steps\n",
      "Epoch 1/15\n",
      "400/400 - 23s - loss: 22.5496 - accuracy: 0.5989 - val_loss: 0.7248 - val_accuracy: 0.5950\n",
      "Epoch 2/15\n",
      "400/400 - 22s - loss: 0.6642 - accuracy: 0.6027 - val_loss: 0.6730 - val_accuracy: 0.5888\n",
      "Epoch 3/15\n",
      "400/400 - 22s - loss: 0.5969 - accuracy: 0.6155 - val_loss: 0.6697 - val_accuracy: 0.5884\n",
      "Epoch 4/15\n",
      "400/400 - 22s - loss: 0.5536 - accuracy: 0.6374 - val_loss: 0.6869 - val_accuracy: 0.5895\n",
      "Epoch 5/15\n",
      "400/400 - 22s - loss: 0.5241 - accuracy: 0.6580 - val_loss: 0.7242 - val_accuracy: 0.5842\n",
      "Epoch 6/15\n",
      "400/400 - 22s - loss: 0.4913 - accuracy: 0.6871 - val_loss: 0.7783 - val_accuracy: 0.5818\n",
      "WARNING:tensorflow:sample_weight modes were coerced from\n",
      "  ...\n",
      "    to  \n",
      "  ['...']\n",
      "WARNING:tensorflow:sample_weight modes were coerced from\n",
      "  ...\n",
      "    to  \n",
      "  ['...']\n",
      "Train for 400 steps, validate for 171 steps\n",
      "Epoch 1/15\n",
      "400/400 - 23s - loss: 13.4981 - accuracy: 0.5955 - val_loss: 0.7204 - val_accuracy: 0.5903\n",
      "Epoch 2/15\n",
      "400/400 - 22s - loss: 0.6382 - accuracy: 0.6063 - val_loss: 0.6679 - val_accuracy: 0.5883\n",
      "Epoch 3/15\n",
      "400/400 - 22s - loss: 0.5637 - accuracy: 0.6295 - val_loss: 0.6792 - val_accuracy: 0.5880\n",
      "Epoch 4/15\n",
      "400/400 - 22s - loss: 0.5094 - accuracy: 0.6699 - val_loss: 0.7178 - val_accuracy: 0.5886\n",
      "Epoch 5/15\n",
      "400/400 - 22s - loss: 0.4748 - accuracy: 0.7022 - val_loss: 0.7723 - val_accuracy: 0.5924\n",
      "Epoch 6/15\n",
      "400/400 - 22s - loss: 0.4548 - accuracy: 0.7287 - val_loss: 0.8476 - val_accuracy: 0.5919\n",
      "Epoch 7/15\n",
      "400/400 - 22s - loss: 0.4307 - accuracy: 0.7525 - val_loss: 0.9651 - val_accuracy: 0.5931\n",
      "Epoch 8/15\n",
      "400/400 - 22s - loss: 0.4222 - accuracy: 0.7640 - val_loss: 1.0021 - val_accuracy: 0.5855\n",
      "Epoch 9/15\n",
      "400/400 - 22s - loss: 0.4121 - accuracy: 0.7716 - val_loss: 1.2208 - val_accuracy: 0.5685\n",
      "Epoch 10/15\n",
      "400/400 - 22s - loss: 0.4233 - accuracy: 0.7694 - val_loss: 1.2466 - val_accuracy: 0.5756\n",
      "Epoch 11/15\n",
      "400/400 - 22s - loss: 0.4173 - accuracy: 0.7751 - val_loss: 1.1852 - val_accuracy: 0.5809\n",
      "Epoch 12/15\n",
      "400/400 - 22s - loss: 0.3993 - accuracy: 0.7905 - val_loss: 1.4328 - val_accuracy: 0.5857\n",
      "WARNING:tensorflow:sample_weight modes were coerced from\n",
      "  ...\n",
      "    to  \n",
      "  ['...']\n",
      "WARNING:tensorflow:sample_weight modes were coerced from\n",
      "  ...\n",
      "    to  \n",
      "  ['...']\n",
      "Train for 400 steps, validate for 171 steps\n",
      "Epoch 1/15\n",
      "400/400 - 23s - loss: 13.9303 - accuracy: 0.6337 - val_loss: 0.7838 - val_accuracy: 0.6346\n",
      "Epoch 2/15\n",
      "400/400 - 22s - loss: 0.6597 - accuracy: 0.6434 - val_loss: 0.7157 - val_accuracy: 0.6109\n",
      "Epoch 3/15\n",
      "400/400 - 22s - loss: 0.5584 - accuracy: 0.6742 - val_loss: 0.7407 - val_accuracy: 0.6192\n",
      "Epoch 4/15\n",
      "400/400 - 22s - loss: 0.4926 - accuracy: 0.7283 - val_loss: 0.7985 - val_accuracy: 0.6367\n",
      "Epoch 5/15\n",
      "400/400 - 22s - loss: 0.4360 - accuracy: 0.7765 - val_loss: 0.8704 - val_accuracy: 0.6471\n",
      "Epoch 6/15\n",
      "400/400 - 22s - loss: 0.4019 - accuracy: 0.8035 - val_loss: 0.9597 - val_accuracy: 0.6500\n",
      "Epoch 7/15\n",
      "400/400 - 22s - loss: 0.4058 - accuracy: 0.8047 - val_loss: 1.0683 - val_accuracy: 0.6441\n",
      "Epoch 8/15\n",
      "400/400 - 22s - loss: 0.4303 - accuracy: 0.7899 - val_loss: 1.1495 - val_accuracy: 0.6449\n",
      "Epoch 9/15\n",
      "400/400 - 22s - loss: 0.4255 - accuracy: 0.7891 - val_loss: 1.3179 - val_accuracy: 0.6493\n",
      "Epoch 10/15\n",
      "400/400 - 23s - loss: 0.4203 - accuracy: 0.7847 - val_loss: 1.3211 - val_accuracy: 0.6554\n",
      "Epoch 11/15\n",
      "400/400 - 22s - loss: 0.3884 - accuracy: 0.8119 - val_loss: 1.3389 - val_accuracy: 0.6537\n",
      "Epoch 12/15\n",
      "400/400 - 22s - loss: 0.3852 - accuracy: 0.8115 - val_loss: 1.3361 - val_accuracy: 0.5867\n",
      "Epoch 13/15\n",
      "400/400 - 22s - loss: 0.3974 - accuracy: 0.7975 - val_loss: 1.3721 - val_accuracy: 0.5876\n",
      "Epoch 14/15\n",
      "400/400 - 22s - loss: 0.3997 - accuracy: 0.7961 - val_loss: 1.4122 - val_accuracy: 0.5807\n",
      "Epoch 15/15\n",
      "400/400 - 22s - loss: 0.3919 - accuracy: 0.7970 - val_loss: 1.5070 - val_accuracy: 0.5644\n",
      "WARNING:tensorflow:sample_weight modes were coerced from\n",
      "  ...\n",
      "    to  \n",
      "  ['...']\n",
      "WARNING:tensorflow:sample_weight modes were coerced from\n",
      "  ...\n",
      "    to  \n",
      "  ['...']\n",
      "Train for 400 steps, validate for 171 steps\n",
      "Epoch 1/15\n",
      "400/400 - 23s - loss: 10.2085 - accuracy: 0.6697 - val_loss: 1.1542 - val_accuracy: 0.6679\n",
      "Epoch 2/15\n",
      "400/400 - 22s - loss: 0.7848 - accuracy: 0.7228 - val_loss: 0.8094 - val_accuracy: 0.7002\n",
      "Epoch 3/15\n",
      "400/400 - 22s - loss: 0.5005 - accuracy: 0.7736 - val_loss: 0.7726 - val_accuracy: 0.6997\n",
      "Epoch 4/15\n",
      "400/400 - 22s - loss: 0.4457 - accuracy: 0.7866 - val_loss: 0.8212 - val_accuracy: 0.6557\n",
      "Epoch 5/15\n",
      "400/400 - 22s - loss: 0.4102 - accuracy: 0.7986 - val_loss: 0.8337 - val_accuracy: 0.6419\n",
      "Epoch 6/15\n",
      "400/400 - 22s - loss: 0.3941 - accuracy: 0.8055 - val_loss: 0.9002 - val_accuracy: 0.6521\n",
      "Epoch 7/15\n",
      "400/400 - 22s - loss: 0.3765 - accuracy: 0.8170 - val_loss: 1.0365 - val_accuracy: 0.6125\n"
     ]
    },
    {
     "data": {
      "text/html": [
       "<span style=\"color:#4527A0\"><h1 style=\"font-size:18px\">Trial complete</h1></span>"
      ],
      "text/plain": [
       "<IPython.core.display.HTML object>"
      ]
     },
     "metadata": {},
     "output_type": "display_data"
    },
    {
     "data": {
      "text/html": [
       "<span style=\"color:#4527A0\"><h1 style=\"font-size:18px\">Trial summary</h1></span>"
      ],
      "text/plain": [
       "<IPython.core.display.HTML object>"
      ]
     },
     "metadata": {},
     "output_type": "display_data"
    },
    {
     "data": {
      "text/html": [
       "<span style=\"color:cyan\"> |-Trial ID: 66367b38670cdfe1733f4eda5f21a811</span>"
      ],
      "text/plain": [
       "<IPython.core.display.HTML object>"
      ]
     },
     "metadata": {},
     "output_type": "display_data"
    },
    {
     "data": {
      "text/html": [
       "<span style=\"color:cyan\"> |-Score: 0.6405394077301025</span>"
      ],
      "text/plain": [
       "<IPython.core.display.HTML object>"
      ]
     },
     "metadata": {},
     "output_type": "display_data"
    },
    {
     "data": {
      "text/html": [
       "<span style=\"color:cyan\"> |-Best step: 0</span>"
      ],
      "text/plain": [
       "<IPython.core.display.HTML object>"
      ]
     },
     "metadata": {},
     "output_type": "display_data"
    },
    {
     "data": {
      "text/html": [
       "<span style=\"color:#7E57C2\"><h2 style=\"font-size:16px\">Hyperparameters:</h2></span>"
      ],
      "text/plain": [
       "<IPython.core.display.HTML object>"
      ]
     },
     "metadata": {},
     "output_type": "display_data"
    },
    {
     "data": {
      "text/html": [
       "<span style=\"color:cyan\"> |-conv_1: 32</span>"
      ],
      "text/plain": [
       "<IPython.core.display.HTML object>"
      ]
     },
     "metadata": {},
     "output_type": "display_data"
    },
    {
     "name": "stdout",
     "output_type": "stream",
     "text": [
      "INFO:tensorflow:Oracle triggered exit\n"
     ]
    }
   ],
   "source": [
    "early_stopping_callback = tf.keras.callbacks.EarlyStopping(monitor='val_accuracy', patience=5)\n",
    "tuner.search(\n",
    "    data_gen(TRAIN_SET[:51200], FILE_LABELS, BATCH_SIZE), \n",
    "    steps_per_epoch=len(TRAIN_SET[:51200]) // BATCH_SIZE,\n",
    "    epochs=15, \n",
    "    validation_data=data_gen(TEST_SET, FILE_LABELS, BATCH_SIZE),\n",
    "    validation_steps=len(TEST_SET) // BATCH_SIZE,\n",
    "    callbacks=[early_stopping_callback],\n",
    "    verbose=2\n",
    ")"
   ]
  },
  {
   "cell_type": "code",
   "execution_count": 17,
   "metadata": {},
   "outputs": [
    {
     "data": {
      "text/html": [
       "<span style=\"color:#4527A0\"><h1 style=\"font-size:18px\">Results summary</h1></span>"
      ],
      "text/plain": [
       "<IPython.core.display.HTML object>"
      ]
     },
     "metadata": {},
     "output_type": "display_data"
    },
    {
     "data": {
      "text/html": [
       "<span style=\"color:cyan\"> |-Results in my_dir4\\hyperparameter-tuning4</span>"
      ],
      "text/plain": [
       "<IPython.core.display.HTML object>"
      ]
     },
     "metadata": {},
     "output_type": "display_data"
    },
    {
     "data": {
      "text/html": [
       "<span style=\"color:cyan\"> |-Showing 10 best trials</span>"
      ],
      "text/plain": [
       "<IPython.core.display.HTML object>"
      ]
     },
     "metadata": {},
     "output_type": "display_data"
    },
    {
     "data": {
      "text/html": [
       "<span style=\"color:cyan\"> |-Objective(name='val_accuracy', direction='max')</span>"
      ],
      "text/plain": [
       "<IPython.core.display.HTML object>"
      ]
     },
     "metadata": {},
     "output_type": "display_data"
    },
    {
     "data": {
      "text/html": [
       "<span style=\"color:#4527A0\"><h1 style=\"font-size:18px\">Trial summary</h1></span>"
      ],
      "text/plain": [
       "<IPython.core.display.HTML object>"
      ]
     },
     "metadata": {},
     "output_type": "display_data"
    },
    {
     "data": {
      "text/html": [
       "<span style=\"color:cyan\"> |-Trial ID: 7e51fcb8fc3dfe6b9e61f0b76e230c20</span>"
      ],
      "text/plain": [
       "<IPython.core.display.HTML object>"
      ]
     },
     "metadata": {},
     "output_type": "display_data"
    },
    {
     "data": {
      "text/html": [
       "<span style=\"color:cyan\"> |-Score: 0.6780846118927002</span>"
      ],
      "text/plain": [
       "<IPython.core.display.HTML object>"
      ]
     },
     "metadata": {},
     "output_type": "display_data"
    },
    {
     "data": {
      "text/html": [
       "<span style=\"color:cyan\"> |-Best step: 0</span>"
      ],
      "text/plain": [
       "<IPython.core.display.HTML object>"
      ]
     },
     "metadata": {},
     "output_type": "display_data"
    },
    {
     "data": {
      "text/html": [
       "<span style=\"color:#7E57C2\"><h2 style=\"font-size:16px\">Hyperparameters:</h2></span>"
      ],
      "text/plain": [
       "<IPython.core.display.HTML object>"
      ]
     },
     "metadata": {},
     "output_type": "display_data"
    },
    {
     "data": {
      "text/html": [
       "<span style=\"color:cyan\"> |-conv_1: 64</span>"
      ],
      "text/plain": [
       "<IPython.core.display.HTML object>"
      ]
     },
     "metadata": {},
     "output_type": "display_data"
    },
    {
     "data": {
      "text/html": [
       "<span style=\"color:#4527A0\"><h1 style=\"font-size:18px\">Trial summary</h1></span>"
      ],
      "text/plain": [
       "<IPython.core.display.HTML object>"
      ]
     },
     "metadata": {},
     "output_type": "display_data"
    },
    {
     "data": {
      "text/html": [
       "<span style=\"color:cyan\"> |-Trial ID: dae72c6c34075198ec1b87a845e4d371</span>"
      ],
      "text/plain": [
       "<IPython.core.display.HTML object>"
      ]
     },
     "metadata": {},
     "output_type": "display_data"
    },
    {
     "data": {
      "text/html": [
       "<span style=\"color:cyan\"> |-Score: 0.6705508828163147</span>"
      ],
      "text/plain": [
       "<IPython.core.display.HTML object>"
      ]
     },
     "metadata": {},
     "output_type": "display_data"
    },
    {
     "data": {
      "text/html": [
       "<span style=\"color:cyan\"> |-Best step: 0</span>"
      ],
      "text/plain": [
       "<IPython.core.display.HTML object>"
      ]
     },
     "metadata": {},
     "output_type": "display_data"
    },
    {
     "data": {
      "text/html": [
       "<span style=\"color:#7E57C2\"><h2 style=\"font-size:16px\">Hyperparameters:</h2></span>"
      ],
      "text/plain": [
       "<IPython.core.display.HTML object>"
      ]
     },
     "metadata": {},
     "output_type": "display_data"
    },
    {
     "data": {
      "text/html": [
       "<span style=\"color:cyan\"> |-conv_1: 128</span>"
      ],
      "text/plain": [
       "<IPython.core.display.HTML object>"
      ]
     },
     "metadata": {},
     "output_type": "display_data"
    },
    {
     "data": {
      "text/html": [
       "<span style=\"color:#4527A0\"><h1 style=\"font-size:18px\">Trial summary</h1></span>"
      ],
      "text/plain": [
       "<IPython.core.display.HTML object>"
      ]
     },
     "metadata": {},
     "output_type": "display_data"
    },
    {
     "data": {
      "text/html": [
       "<span style=\"color:cyan\"> |-Trial ID: 66367b38670cdfe1733f4eda5f21a811</span>"
      ],
      "text/plain": [
       "<IPython.core.display.HTML object>"
      ]
     },
     "metadata": {},
     "output_type": "display_data"
    },
    {
     "data": {
      "text/html": [
       "<span style=\"color:cyan\"> |-Score: 0.6405394077301025</span>"
      ],
      "text/plain": [
       "<IPython.core.display.HTML object>"
      ]
     },
     "metadata": {},
     "output_type": "display_data"
    },
    {
     "data": {
      "text/html": [
       "<span style=\"color:cyan\"> |-Best step: 0</span>"
      ],
      "text/plain": [
       "<IPython.core.display.HTML object>"
      ]
     },
     "metadata": {},
     "output_type": "display_data"
    },
    {
     "data": {
      "text/html": [
       "<span style=\"color:#7E57C2\"><h2 style=\"font-size:16px\">Hyperparameters:</h2></span>"
      ],
      "text/plain": [
       "<IPython.core.display.HTML object>"
      ]
     },
     "metadata": {},
     "output_type": "display_data"
    },
    {
     "data": {
      "text/html": [
       "<span style=\"color:cyan\"> |-conv_1: 32</span>"
      ],
      "text/plain": [
       "<IPython.core.display.HTML object>"
      ]
     },
     "metadata": {},
     "output_type": "display_data"
    },
    {
     "data": {
      "text/html": [
       "<span style=\"color:#4527A0\"><h1 style=\"font-size:18px\">Trial summary</h1></span>"
      ],
      "text/plain": [
       "<IPython.core.display.HTML object>"
      ]
     },
     "metadata": {},
     "output_type": "display_data"
    },
    {
     "data": {
      "text/html": [
       "<span style=\"color:cyan\"> |-Trial ID: a11feeb27fb730cceabbe670b325d2c2</span>"
      ],
      "text/plain": [
       "<IPython.core.display.HTML object>"
      ]
     },
     "metadata": {},
     "output_type": "display_data"
    },
    {
     "data": {
      "text/html": [
       "<span style=\"color:cyan\"> |-Score: 0.6360424160957336</span>"
      ],
      "text/plain": [
       "<IPython.core.display.HTML object>"
      ]
     },
     "metadata": {},
     "output_type": "display_data"
    },
    {
     "data": {
      "text/html": [
       "<span style=\"color:cyan\"> |-Best step: 0</span>"
      ],
      "text/plain": [
       "<IPython.core.display.HTML object>"
      ]
     },
     "metadata": {},
     "output_type": "display_data"
    },
    {
     "data": {
      "text/html": [
       "<span style=\"color:#7E57C2\"><h2 style=\"font-size:16px\">Hyperparameters:</h2></span>"
      ],
      "text/plain": [
       "<IPython.core.display.HTML object>"
      ]
     },
     "metadata": {},
     "output_type": "display_data"
    },
    {
     "data": {
      "text/html": [
       "<span style=\"color:cyan\"> |-conv_1: 16</span>"
      ],
      "text/plain": [
       "<IPython.core.display.HTML object>"
      ]
     },
     "metadata": {},
     "output_type": "display_data"
    }
   ],
   "source": [
    "tuner.results_summary()"
   ]
  },
  {
   "cell_type": "code",
   "execution_count": 8,
   "metadata": {},
   "outputs": [],
   "source": [
    "from kerastuner import HyperModel\n",
    "class CNNHyperModel(HyperModel):\n",
    "    def __init__(self, input_shape):\n",
    "        self.input_shape = input_shape\n",
    "\n",
    "    def build(self, hp):\n",
    "        model = Sequential()\n",
    "        model.add(\n",
    "            Conv2D(\n",
    "                filters=hp.Choice(\n",
    "                    'conv_filter_1',\n",
    "                    values=[16, 32, 64, 128],\n",
    "                    default=64,\n",
    "                ),\n",
    "                kernel_size=hp.Choice(\n",
    "                    'conv_kernel_1',\n",
    "                    values=[3, 5, 7, 9, 11],\n",
    "                    default=3,\n",
    "                ),\n",
    "                activation='relu',\n",
    "                padding='same',\n",
    "                input_shape=self.input_shape\n",
    "            )\n",
    "        )\n",
    "        model.add(MaxPooling2D())\n",
    "        model.add(Flatten())\n",
    "        model.add(Dense(1))\n",
    "\n",
    "        model.compile(optimizer='adam',\n",
    "              loss=tf.keras.losses.BinaryCrossentropy(from_logits=True),\n",
    "              metrics=['accuracy'])\n",
    "        \n",
    "        return model\n",
    "\n",
    "hypermodel = CNNHyperModel(input_shape=(HEIGHT, WIDTH, CHANNEL))"
   ]
  },
  {
   "cell_type": "code",
   "execution_count": 9,
   "metadata": {},
   "outputs": [],
   "source": [
    "from kerastuner import RandomSearch\n",
    "tuner = RandomSearch(\n",
    "    hypermodel,\n",
    "    objective='val_accuracy',\n",
    "    max_trials=100,\n",
    "    executions_per_trial=6,\n",
    "    directory='my_dir10',\n",
    "    project_name='hyperparameter-10')"
   ]
  },
  {
   "cell_type": "code",
   "execution_count": 10,
   "metadata": {},
   "outputs": [
    {
     "name": "stdout",
     "output_type": "stream",
     "text": [
      "WARNING:tensorflow:sample_weight modes were coerced from\n",
      "  ...\n",
      "    to  \n",
      "  ['...']\n",
      "WARNING:tensorflow:sample_weight modes were coerced from\n",
      "  ...\n",
      "    to  \n",
      "  ['...']\n",
      "Train for 400 steps, validate for 171 steps\n",
      "Epoch 1/15\n",
      "400/400 - 1133s - loss: 14.6885 - accuracy: 0.6374 - val_loss: 0.5505 - val_accuracy: 0.7042\n",
      "Epoch 2/15\n",
      "400/400 - 32s - loss: 0.5285 - accuracy: 0.7208 - val_loss: 0.5371 - val_accuracy: 0.7157\n",
      "Epoch 3/15\n",
      "400/400 - 33s - loss: 0.5068 - accuracy: 0.7361 - val_loss: 0.5220 - val_accuracy: 0.7445\n",
      "Epoch 4/15\n",
      "400/400 - 33s - loss: 0.4942 - accuracy: 0.7482 - val_loss: 0.5260 - val_accuracy: 0.7457\n",
      "Epoch 5/15\n",
      "400/400 - 32s - loss: 0.4810 - accuracy: 0.7548 - val_loss: 0.5387 - val_accuracy: 0.7509\n",
      "Epoch 6/15\n",
      "400/400 - 32s - loss: 0.4759 - accuracy: 0.7591 - val_loss: 0.5632 - val_accuracy: 0.7031\n",
      "Epoch 7/15\n",
      "400/400 - 32s - loss: 0.4751 - accuracy: 0.7613 - val_loss: 0.5356 - val_accuracy: 0.7455\n",
      "Epoch 8/15\n",
      "400/400 - 32s - loss: 0.4576 - accuracy: 0.7701 - val_loss: 0.5327 - val_accuracy: 0.7574\n",
      "Epoch 9/15\n",
      "400/400 - 32s - loss: 0.4519 - accuracy: 0.7746 - val_loss: 0.5597 - val_accuracy: 0.7550\n",
      "Epoch 10/15\n",
      "400/400 - 32s - loss: 0.4621 - accuracy: 0.7706 - val_loss: 0.5291 - val_accuracy: 0.7413\n",
      "Epoch 11/15\n",
      "400/400 - 32s - loss: 0.4368 - accuracy: 0.7844 - val_loss: 0.7377 - val_accuracy: 0.7152\n",
      "Epoch 12/15\n",
      "400/400 - 33s - loss: 0.4505 - accuracy: 0.7796 - val_loss: 0.5343 - val_accuracy: 0.7585\n",
      "Epoch 13/15\n",
      "400/400 - 32s - loss: 0.4457 - accuracy: 0.7834 - val_loss: 0.5363 - val_accuracy: 0.7616\n",
      "Epoch 14/15\n",
      "400/400 - 32s - loss: 0.4558 - accuracy: 0.7786 - val_loss: 0.5469 - val_accuracy: 0.7593\n",
      "Epoch 15/15\n",
      "400/400 - 32s - loss: 0.4455 - accuracy: 0.7820 - val_loss: 0.5605 - val_accuracy: 0.7578\n",
      "WARNING:tensorflow:sample_weight modes were coerced from\n",
      "  ...\n",
      "    to  \n",
      "  ['...']\n",
      "WARNING:tensorflow:sample_weight modes were coerced from\n",
      "  ...\n",
      "    to  \n",
      "  ['...']\n",
      "Train for 400 steps, validate for 171 steps\n",
      "Epoch 1/15\n",
      "400/400 - 33s - loss: 12.3401 - accuracy: 0.6657 - val_loss: 0.5203 - val_accuracy: 0.7486\n",
      "Epoch 2/15\n",
      "400/400 - 32s - loss: 0.5109 - accuracy: 0.7472 - val_loss: 0.5191 - val_accuracy: 0.7499\n",
      "Epoch 3/15\n",
      "400/400 - 32s - loss: 0.4969 - accuracy: 0.7553 - val_loss: 0.5390 - val_accuracy: 0.7396\n",
      "Epoch 4/15\n",
      "400/400 - 32s - loss: 0.4873 - accuracy: 0.7608 - val_loss: 0.5224 - val_accuracy: 0.7533\n",
      "Epoch 5/15\n",
      "400/400 - 32s - loss: 0.4861 - accuracy: 0.7600 - val_loss: 0.5091 - val_accuracy: 0.7478\n",
      "Epoch 6/15\n",
      "400/400 - 32s - loss: 0.4866 - accuracy: 0.7626 - val_loss: 0.5189 - val_accuracy: 0.7567\n",
      "Epoch 7/15\n",
      "400/400 - 32s - loss: 0.4867 - accuracy: 0.7608 - val_loss: 0.5201 - val_accuracy: 0.7590\n",
      "Epoch 8/15\n",
      "400/400 - 32s - loss: 0.4801 - accuracy: 0.7663 - val_loss: 0.5125 - val_accuracy: 0.7582\n",
      "Epoch 9/15\n",
      "400/400 - 32s - loss: 0.4774 - accuracy: 0.7659 - val_loss: 0.5131 - val_accuracy: 0.7573\n",
      "Epoch 10/15\n",
      "400/400 - 32s - loss: 0.4786 - accuracy: 0.7663 - val_loss: 0.5334 - val_accuracy: 0.7469\n",
      "Epoch 11/15\n",
      "400/400 - 32s - loss: 0.4768 - accuracy: 0.7680 - val_loss: 0.5032 - val_accuracy: 0.7547\n",
      "WARNING:tensorflow:sample_weight modes were coerced from\n",
      "  ...\n",
      "    to  \n",
      "  ['...']\n",
      "WARNING:tensorflow:sample_weight modes were coerced from\n",
      "  ...\n",
      "    to  \n",
      "  ['...']\n",
      "Train for 400 steps, validate for 171 steps\n",
      "Epoch 1/15\n",
      "400/400 - 33s - loss: 15.6471 - accuracy: 0.6018 - val_loss: 0.5632 - val_accuracy: 0.6843\n",
      "Epoch 2/15\n",
      "400/400 - 32s - loss: 0.5515 - accuracy: 0.7061 - val_loss: 0.5437 - val_accuracy: 0.7259\n",
      "Epoch 3/15\n",
      "400/400 - 32s - loss: 0.5232 - accuracy: 0.7314 - val_loss: 0.5342 - val_accuracy: 0.7371\n",
      "Epoch 4/15\n",
      "400/400 - 32s - loss: 0.5122 - accuracy: 0.7415 - val_loss: 0.5196 - val_accuracy: 0.7420\n",
      "Epoch 5/15\n",
      "400/400 - 32s - loss: 0.4982 - accuracy: 0.7492 - val_loss: 0.5162 - val_accuracy: 0.7401\n",
      "Epoch 6/15\n",
      "400/400 - 32s - loss: 0.4878 - accuracy: 0.7555 - val_loss: 0.5308 - val_accuracy: 0.7413\n",
      "Epoch 7/15\n",
      "400/400 - 32s - loss: 0.4756 - accuracy: 0.7613 - val_loss: 0.5480 - val_accuracy: 0.7415\n",
      "Epoch 8/15\n",
      "400/400 - 32s - loss: 0.4684 - accuracy: 0.7657 - val_loss: 0.5500 - val_accuracy: 0.7425\n",
      "Epoch 9/15\n",
      "400/400 - 32s - loss: 0.4571 - accuracy: 0.7742 - val_loss: 0.5715 - val_accuracy: 0.7383\n",
      "Epoch 10/15\n",
      "400/400 - 32s - loss: 0.4538 - accuracy: 0.7762 - val_loss: 0.5868 - val_accuracy: 0.7386\n",
      "Epoch 11/15\n",
      "400/400 - 32s - loss: 0.4452 - accuracy: 0.7821 - val_loss: 0.5538 - val_accuracy: 0.7473\n",
      "Epoch 12/15\n",
      "400/400 - 32s - loss: 0.4436 - accuracy: 0.7817 - val_loss: 0.6231 - val_accuracy: 0.7336\n",
      "Epoch 13/15\n",
      "400/400 - 32s - loss: 0.4316 - accuracy: 0.7916 - val_loss: 0.5944 - val_accuracy: 0.7354\n",
      "Epoch 14/15\n",
      "400/400 - 32s - loss: 0.4312 - accuracy: 0.7926 - val_loss: 0.5902 - val_accuracy: 0.7440\n",
      "Epoch 15/15\n",
      "400/400 - 32s - loss: 0.4425 - accuracy: 0.7884 - val_loss: 0.5606 - val_accuracy: 0.7363\n",
      "WARNING:tensorflow:sample_weight modes were coerced from\n",
      "  ...\n",
      "    to  \n",
      "  ['...']\n",
      "WARNING:tensorflow:sample_weight modes were coerced from\n",
      "  ...\n",
      "    to  \n",
      "  ['...']\n",
      "Train for 400 steps, validate for 171 steps\n",
      "Epoch 1/15\n",
      "400/400 - 33s - loss: 8.1660 - accuracy: 0.5944 - val_loss: 0.6024 - val_accuracy: 0.6101\n",
      "Epoch 2/15\n",
      "400/400 - 32s - loss: 0.5614 - accuracy: 0.6809 - val_loss: 0.5493 - val_accuracy: 0.7227\n",
      "Epoch 3/15\n",
      "400/400 - 32s - loss: 0.5241 - accuracy: 0.7262 - val_loss: 0.5437 - val_accuracy: 0.7436\n",
      "Epoch 4/15\n",
      "400/400 - 32s - loss: 0.4974 - accuracy: 0.7541 - val_loss: 0.5406 - val_accuracy: 0.7564\n",
      "Epoch 5/15\n",
      "400/400 - 32s - loss: 0.4820 - accuracy: 0.7646 - val_loss: 0.5484 - val_accuracy: 0.7454\n",
      "Epoch 6/15\n",
      "400/400 - 32s - loss: 0.4671 - accuracy: 0.7727 - val_loss: 0.5138 - val_accuracy: 0.7600\n",
      "Epoch 7/15\n",
      "400/400 - 32s - loss: 0.4608 - accuracy: 0.7751 - val_loss: 0.5180 - val_accuracy: 0.7587\n",
      "Epoch 8/15\n",
      "400/400 - 32s - loss: 0.4551 - accuracy: 0.7786 - val_loss: 0.5202 - val_accuracy: 0.7576\n",
      "Epoch 9/15\n",
      "400/400 - 33s - loss: 0.4522 - accuracy: 0.7805 - val_loss: 0.5370 - val_accuracy: 0.7585\n",
      "Epoch 10/15\n",
      "400/400 - 32s - loss: 0.4379 - accuracy: 0.7895 - val_loss: 0.5603 - val_accuracy: 0.7519\n",
      "WARNING:tensorflow:sample_weight modes were coerced from\n",
      "  ...\n",
      "    to  \n",
      "  ['...']\n",
      "WARNING:tensorflow:sample_weight modes were coerced from\n",
      "  ...\n",
      "    to  \n",
      "  ['...']\n",
      "Train for 400 steps, validate for 171 steps\n",
      "Epoch 1/15\n",
      "400/400 - 33s - loss: 11.8458 - accuracy: 0.6015 - val_loss: 0.5789 - val_accuracy: 0.6705\n",
      "Epoch 2/15\n",
      "400/400 - 32s - loss: 0.5617 - accuracy: 0.6906 - val_loss: 0.5462 - val_accuracy: 0.7090\n",
      "Epoch 3/15\n",
      "400/400 - 32s - loss: 0.5285 - accuracy: 0.7235 - val_loss: 0.5219 - val_accuracy: 0.7275\n",
      "Epoch 4/15\n",
      "400/400 - 32s - loss: 0.5114 - accuracy: 0.7353 - val_loss: 0.5230 - val_accuracy: 0.7195\n",
      "Epoch 5/15\n",
      "400/400 - 32s - loss: 0.4977 - accuracy: 0.7446 - val_loss: 0.5225 - val_accuracy: 0.7192\n",
      "Epoch 6/15\n",
      "400/400 - 32s - loss: 0.4846 - accuracy: 0.7537 - val_loss: 0.5277 - val_accuracy: 0.7314\n",
      "Epoch 7/15\n",
      "400/400 - 32s - loss: 0.4751 - accuracy: 0.7609 - val_loss: 0.5320 - val_accuracy: 0.7387\n",
      "Epoch 8/15\n",
      "400/400 - 32s - loss: 0.4671 - accuracy: 0.7651 - val_loss: 0.5556 - val_accuracy: 0.7325\n",
      "Epoch 9/15\n",
      "400/400 - 32s - loss: 0.4587 - accuracy: 0.7716 - val_loss: 0.5944 - val_accuracy: 0.7263\n",
      "Epoch 10/15\n",
      "400/400 - 32s - loss: 0.4448 - accuracy: 0.7790 - val_loss: 0.6274 - val_accuracy: 0.7248\n",
      "Epoch 11/15\n",
      "400/400 - 32s - loss: 0.4336 - accuracy: 0.7878 - val_loss: 0.6507 - val_accuracy: 0.7158\n",
      "WARNING:tensorflow:sample_weight modes were coerced from\n",
      "  ...\n",
      "    to  \n",
      "  ['...']\n",
      "WARNING:tensorflow:sample_weight modes were coerced from\n",
      "  ...\n",
      "    to  \n",
      "  ['...']\n",
      "Train for 400 steps, validate for 171 steps\n",
      "Epoch 1/15\n",
      "400/400 - 33s - loss: 10.2746 - accuracy: 0.6727 - val_loss: 0.5357 - val_accuracy: 0.6925\n",
      "Epoch 2/15\n",
      "400/400 - 32s - loss: 0.5118 - accuracy: 0.7416 - val_loss: 0.5216 - val_accuracy: 0.7036\n",
      "Epoch 3/15\n",
      "400/400 - 32s - loss: 0.4959 - accuracy: 0.7533 - val_loss: 0.5171 - val_accuracy: 0.7083\n",
      "Epoch 4/15\n",
      "400/400 - 32s - loss: 0.4804 - accuracy: 0.7623 - val_loss: 0.4899 - val_accuracy: 0.7591\n",
      "Epoch 5/15\n",
      "400/400 - 33s - loss: 0.4615 - accuracy: 0.7766 - val_loss: 0.4906 - val_accuracy: 0.7715\n",
      "Epoch 6/15\n",
      "400/400 - 33s - loss: 0.4468 - accuracy: 0.7861 - val_loss: 0.4967 - val_accuracy: 0.7717\n",
      "Epoch 7/15\n",
      "400/400 - 33s - loss: 0.4328 - accuracy: 0.7941 - val_loss: 0.5011 - val_accuracy: 0.7755\n",
      "Epoch 8/15\n",
      "400/400 - 32s - loss: 0.4291 - accuracy: 0.7972 - val_loss: 0.5169 - val_accuracy: 0.7678\n",
      "Epoch 9/15\n",
      "400/400 - 32s - loss: 0.4262 - accuracy: 0.7980 - val_loss: 0.5338 - val_accuracy: 0.7582\n",
      "Epoch 10/15\n",
      "400/400 - 32s - loss: 0.4107 - accuracy: 0.8081 - val_loss: 0.5314 - val_accuracy: 0.7644\n",
      "Epoch 11/15\n",
      "400/400 - 32s - loss: 0.3977 - accuracy: 0.8138 - val_loss: 0.5501 - val_accuracy: 0.7604\n"
     ]
    },
    {
     "data": {
      "text/html": [
       "<span style=\"color:#4527A0\"><h1 style=\"font-size:18px\">Trial complete</h1></span>"
      ],
      "text/plain": [
       "<IPython.core.display.HTML object>"
      ]
     },
     "metadata": {},
     "output_type": "display_data"
    },
    {
     "data": {
      "text/html": [
       "<span style=\"color:#4527A0\"><h1 style=\"font-size:18px\">Trial summary</h1></span>"
      ],
      "text/plain": [
       "<IPython.core.display.HTML object>"
      ]
     },
     "metadata": {},
     "output_type": "display_data"
    },
    {
     "data": {
      "text/html": [
       "<span style=\"color:cyan\"> |-Trial ID: 8201f052a554af63daa9f4ac8b2d2725</span>"
      ],
      "text/plain": [
       "<IPython.core.display.HTML object>"
      ]
     },
     "metadata": {},
     "output_type": "display_data"
    },
    {
     "data": {
      "text/html": [
       "<span style=\"color:cyan\"> |-Score: 0.7570133209228516</span>"
      ],
      "text/plain": [
       "<IPython.core.display.HTML object>"
      ]
     },
     "metadata": {},
     "output_type": "display_data"
    },
    {
     "data": {
      "text/html": [
       "<span style=\"color:cyan\"> |-Best step: 0</span>"
      ],
      "text/plain": [
       "<IPython.core.display.HTML object>"
      ]
     },
     "metadata": {},
     "output_type": "display_data"
    },
    {
     "data": {
      "text/html": [
       "<span style=\"color:#7E57C2\"><h2 style=\"font-size:16px\">Hyperparameters:</h2></span>"
      ],
      "text/plain": [
       "<IPython.core.display.HTML object>"
      ]
     },
     "metadata": {},
     "output_type": "display_data"
    },
    {
     "data": {
      "text/html": [
       "<span style=\"color:cyan\"> |-conv_filter_1: 64</span>"
      ],
      "text/plain": [
       "<IPython.core.display.HTML object>"
      ]
     },
     "metadata": {},
     "output_type": "display_data"
    },
    {
     "data": {
      "text/html": [
       "<span style=\"color:blue\"> |-conv_kernel_1: 5</span>"
      ],
      "text/plain": [
       "<IPython.core.display.HTML object>"
      ]
     },
     "metadata": {},
     "output_type": "display_data"
    },
    {
     "name": "stdout",
     "output_type": "stream",
     "text": [
      "WARNING:tensorflow:sample_weight modes were coerced from\n",
      "  ...\n",
      "    to  \n",
      "  ['...']\n",
      "WARNING:tensorflow:sample_weight modes were coerced from\n",
      "  ...\n",
      "    to  \n",
      "  ['...']\n",
      "Train for 400 steps, validate for 171 steps\n",
      "Epoch 1/15\n",
      "400/400 - 55s - loss: 19.5752 - accuracy: 0.6186 - val_loss: 0.5795 - val_accuracy: 0.6890\n",
      "Epoch 2/15\n",
      "400/400 - 54s - loss: 0.5171 - accuracy: 0.7429 - val_loss: 0.5155 - val_accuracy: 0.7477\n",
      "Epoch 3/15\n",
      "400/400 - 54s - loss: 0.5005 - accuracy: 0.7539 - val_loss: 0.5112 - val_accuracy: 0.7569\n",
      "Epoch 4/15\n",
      "400/400 - 54s - loss: 0.4916 - accuracy: 0.7603 - val_loss: 0.5105 - val_accuracy: 0.7611\n",
      "Epoch 5/15\n",
      "400/400 - 53s - loss: 0.4862 - accuracy: 0.7645 - val_loss: 0.5074 - val_accuracy: 0.7601\n",
      "Epoch 6/15\n",
      "400/400 - 53s - loss: 0.4874 - accuracy: 0.7626 - val_loss: 0.5021 - val_accuracy: 0.7593\n",
      "Epoch 7/15\n",
      "400/400 - 54s - loss: 0.4814 - accuracy: 0.7661 - val_loss: 0.5039 - val_accuracy: 0.7618\n",
      "Epoch 8/15\n",
      "400/400 - 54s - loss: 0.4705 - accuracy: 0.7717 - val_loss: 0.5011 - val_accuracy: 0.7636\n",
      "Epoch 9/15\n",
      "400/400 - 53s - loss: 0.4668 - accuracy: 0.7736 - val_loss: 0.5187 - val_accuracy: 0.7584\n",
      "Epoch 10/15\n",
      "400/400 - 53s - loss: 0.4648 - accuracy: 0.7743 - val_loss: 0.5194 - val_accuracy: 0.7550\n",
      "Epoch 11/15\n",
      "400/400 - 53s - loss: 0.4568 - accuracy: 0.7784 - val_loss: 0.5235 - val_accuracy: 0.7557\n",
      "Epoch 12/15\n",
      "400/400 - 53s - loss: 0.4530 - accuracy: 0.7809 - val_loss: 0.5016 - val_accuracy: 0.7678\n",
      "Epoch 13/15\n",
      "400/400 - 54s - loss: 0.4454 - accuracy: 0.7851 - val_loss: 0.5027 - val_accuracy: 0.7697\n",
      "Epoch 14/15\n",
      "400/400 - 59s - loss: 0.4499 - accuracy: 0.7827 - val_loss: 0.5130 - val_accuracy: 0.7666\n",
      "Epoch 15/15\n",
      "400/400 - 53s - loss: 0.4425 - accuracy: 0.7885 - val_loss: 0.5246 - val_accuracy: 0.7637\n",
      "WARNING:tensorflow:sample_weight modes were coerced from\n",
      "  ...\n",
      "    to  \n",
      "  ['...']\n",
      "WARNING:tensorflow:sample_weight modes were coerced from\n",
      "  ...\n",
      "    to  \n",
      "  ['...']\n",
      "Train for 400 steps, validate for 171 steps\n",
      "Epoch 1/15\n",
      "400/400 - 54s - loss: 17.6218 - accuracy: 0.5957 - val_loss: 0.5763 - val_accuracy: 0.6134\n",
      "Epoch 2/15\n",
      "400/400 - 53s - loss: 0.5423 - accuracy: 0.6979 - val_loss: 0.5357 - val_accuracy: 0.7197\n",
      "Epoch 3/15\n",
      "400/400 - 53s - loss: 0.5153 - accuracy: 0.7345 - val_loss: 0.5235 - val_accuracy: 0.7535\n",
      "Epoch 4/15\n",
      "400/400 - 53s - loss: 0.4985 - accuracy: 0.7490 - val_loss: 0.5295 - val_accuracy: 0.7524\n",
      "Epoch 5/15\n",
      "400/400 - 53s - loss: 0.4946 - accuracy: 0.7527 - val_loss: 0.5127 - val_accuracy: 0.7538\n",
      "Epoch 6/15\n",
      "400/400 - 68s - loss: 0.4777 - accuracy: 0.7631 - val_loss: 0.5295 - val_accuracy: 0.7522\n",
      "Epoch 7/15\n",
      "400/400 - 54s - loss: 0.4798 - accuracy: 0.7629 - val_loss: 0.5339 - val_accuracy: 0.7525\n",
      "Epoch 8/15\n",
      "400/400 - 60s - loss: 0.4775 - accuracy: 0.7646 - val_loss: 0.5414 - val_accuracy: 0.7511\n",
      "Epoch 9/15\n",
      "400/400 - 53s - loss: 0.4731 - accuracy: 0.7664 - val_loss: 0.5729 - val_accuracy: 0.7402\n",
      "WARNING:tensorflow:sample_weight modes were coerced from\n",
      "  ...\n",
      "    to  \n",
      "  ['...']\n",
      "WARNING:tensorflow:sample_weight modes were coerced from\n",
      "  ...\n",
      "    to  \n",
      "  ['...']\n",
      "Train for 400 steps, validate for 171 steps\n",
      "Epoch 1/15\n",
      "400/400 - 54s - loss: 16.2681 - accuracy: 0.5933 - val_loss: 0.6102 - val_accuracy: 0.5920\n",
      "Epoch 2/15\n",
      "400/400 - 53s - loss: 0.5801 - accuracy: 0.6293 - val_loss: 0.5658 - val_accuracy: 0.6704\n",
      "Epoch 3/15\n",
      "400/400 - 53s - loss: 0.5437 - accuracy: 0.7029 - val_loss: 0.5330 - val_accuracy: 0.7208\n",
      "Epoch 4/15\n",
      "400/400 - 53s - loss: 0.5158 - accuracy: 0.7349 - val_loss: 0.5208 - val_accuracy: 0.7433\n",
      "Epoch 5/15\n",
      "400/400 - 53s - loss: 0.4991 - accuracy: 0.7480 - val_loss: 0.5175 - val_accuracy: 0.7490\n",
      "Epoch 6/15\n",
      "400/400 - 53s - loss: 0.4884 - accuracy: 0.7565 - val_loss: 0.5351 - val_accuracy: 0.7523\n",
      "Epoch 7/15\n",
      "400/400 - 53s - loss: 0.4790 - accuracy: 0.7623 - val_loss: 0.6212 - val_accuracy: 0.7375\n",
      "Epoch 8/15\n",
      "400/400 - 53s - loss: 0.4708 - accuracy: 0.7677 - val_loss: 0.5277 - val_accuracy: 0.7520\n",
      "Epoch 9/15\n",
      "400/400 - 53s - loss: 0.4656 - accuracy: 0.7700 - val_loss: 0.5368 - val_accuracy: 0.7522\n",
      "Epoch 10/15\n",
      "400/400 - 53s - loss: 0.4648 - accuracy: 0.7700 - val_loss: 0.5566 - val_accuracy: 0.7458\n",
      "WARNING:tensorflow:sample_weight modes were coerced from\n",
      "  ...\n",
      "    to  \n",
      "  ['...']\n",
      "WARNING:tensorflow:sample_weight modes were coerced from\n",
      "  ...\n",
      "    to  \n",
      "  ['...']\n",
      "Train for 400 steps, validate for 171 steps\n",
      "Epoch 1/15\n",
      "400/400 - 54s - loss: 14.8220 - accuracy: 0.6106 - val_loss: 0.5711 - val_accuracy: 0.6678\n",
      "Epoch 2/15\n",
      "400/400 - 53s - loss: 0.5479 - accuracy: 0.7002 - val_loss: 0.5438 - val_accuracy: 0.7079\n",
      "Epoch 3/15\n",
      "400/400 - 53s - loss: 0.5254 - accuracy: 0.7216 - val_loss: 0.5445 - val_accuracy: 0.7089\n",
      "Epoch 4/15\n",
      "400/400 - 53s - loss: 0.5120 - accuracy: 0.7352 - val_loss: 0.5301 - val_accuracy: 0.7303\n",
      "Epoch 5/15\n",
      "400/400 - 53s - loss: 0.4991 - accuracy: 0.7472 - val_loss: 0.5245 - val_accuracy: 0.7441\n",
      "Epoch 6/15\n",
      "400/400 - 53s - loss: 0.4914 - accuracy: 0.7544 - val_loss: 0.5242 - val_accuracy: 0.7483\n",
      "Epoch 7/15\n",
      "400/400 - 53s - loss: 0.4786 - accuracy: 0.7622 - val_loss: 0.5258 - val_accuracy: 0.7475\n",
      "Epoch 8/15\n",
      "400/400 - 53s - loss: 0.4663 - accuracy: 0.7698 - val_loss: 0.5392 - val_accuracy: 0.7462\n",
      "Epoch 9/15\n",
      "400/400 - 53s - loss: 0.4553 - accuracy: 0.7775 - val_loss: 0.5858 - val_accuracy: 0.7351\n",
      "Epoch 10/15\n",
      "400/400 - 53s - loss: 0.4462 - accuracy: 0.7816 - val_loss: 0.5883 - val_accuracy: 0.7397\n",
      "WARNING:tensorflow:sample_weight modes were coerced from\n",
      "  ...\n",
      "    to  \n",
      "  ['...']\n",
      "WARNING:tensorflow:sample_weight modes were coerced from\n",
      "  ...\n",
      "    to  \n",
      "  ['...']\n",
      "Train for 400 steps, validate for 171 steps\n",
      "Epoch 1/15\n",
      "400/400 - 54s - loss: 20.2589 - accuracy: 0.5931 - val_loss: 0.6024 - val_accuracy: 0.5933\n",
      "Epoch 2/15\n",
      "400/400 - 53s - loss: 0.5801 - accuracy: 0.6512 - val_loss: 0.5738 - val_accuracy: 0.6704\n",
      "Epoch 3/15\n",
      "400/400 - 53s - loss: 0.5547 - accuracy: 0.6991 - val_loss: 0.5547 - val_accuracy: 0.7071\n",
      "Epoch 4/15\n",
      "400/400 - 53s - loss: 0.5272 - accuracy: 0.7284 - val_loss: 0.5326 - val_accuracy: 0.7280\n",
      "Epoch 5/15\n",
      "400/400 - 53s - loss: 0.5169 - accuracy: 0.7361 - val_loss: 0.5287 - val_accuracy: 0.7326\n",
      "Epoch 6/15\n",
      "400/400 - 53s - loss: 0.5063 - accuracy: 0.7428 - val_loss: 0.5322 - val_accuracy: 0.7334\n",
      "Epoch 7/15\n",
      "400/400 - 53s - loss: 0.5046 - accuracy: 0.7439 - val_loss: 0.5169 - val_accuracy: 0.7416\n",
      "Epoch 8/15\n",
      "400/400 - 53s - loss: 0.4957 - accuracy: 0.7511 - val_loss: 0.5109 - val_accuracy: 0.7448\n",
      "Epoch 9/15\n",
      "400/400 - 53s - loss: 0.4900 - accuracy: 0.7563 - val_loss: 0.5128 - val_accuracy: 0.7429\n",
      "Epoch 10/15\n",
      "400/400 - 53s - loss: 0.4875 - accuracy: 0.7588 - val_loss: 0.5176 - val_accuracy: 0.7396\n",
      "Epoch 11/15\n",
      "400/400 - 53s - loss: 0.4879 - accuracy: 0.7569 - val_loss: 0.5351 - val_accuracy: 0.7317\n",
      "Epoch 12/15\n",
      "400/400 - 53s - loss: 0.4827 - accuracy: 0.7651 - val_loss: 0.5174 - val_accuracy: 0.7512\n",
      "Epoch 13/15\n",
      "400/400 - 53s - loss: 0.4670 - accuracy: 0.7716 - val_loss: 0.5187 - val_accuracy: 0.7523\n",
      "Epoch 14/15\n",
      "400/400 - 53s - loss: 0.4649 - accuracy: 0.7752 - val_loss: 0.5129 - val_accuracy: 0.7586\n",
      "Epoch 15/15\n",
      "400/400 - 53s - loss: 0.4608 - accuracy: 0.7766 - val_loss: 0.5563 - val_accuracy: 0.7351\n",
      "WARNING:tensorflow:sample_weight modes were coerced from\n",
      "  ...\n",
      "    to  \n",
      "  ['...']\n",
      "WARNING:tensorflow:sample_weight modes were coerced from\n",
      "  ...\n",
      "    to  \n",
      "  ['...']\n",
      "Train for 400 steps, validate for 171 steps\n",
      "Epoch 1/15\n",
      "400/400 - 54s - loss: 11.7283 - accuracy: 0.6234 - val_loss: 0.5588 - val_accuracy: 0.7187\n",
      "Epoch 2/15\n",
      "400/400 - 53s - loss: 0.5320 - accuracy: 0.7250 - val_loss: 0.5491 - val_accuracy: 0.7477\n",
      "Epoch 3/15\n",
      "400/400 - 53s - loss: 0.5032 - accuracy: 0.7497 - val_loss: 0.5010 - val_accuracy: 0.7589\n",
      "Epoch 4/15\n",
      "400/400 - 53s - loss: 0.4849 - accuracy: 0.7651 - val_loss: 0.5082 - val_accuracy: 0.7620\n",
      "Epoch 5/15\n",
      "400/400 - 53s - loss: 0.4763 - accuracy: 0.7705 - val_loss: 0.5182 - val_accuracy: 0.7567\n",
      "Epoch 6/15\n",
      "400/400 - 53s - loss: 0.4666 - accuracy: 0.7745 - val_loss: 0.5192 - val_accuracy: 0.7577\n",
      "Epoch 7/15\n",
      "400/400 - 53s - loss: 0.4602 - accuracy: 0.7775 - val_loss: 0.5325 - val_accuracy: 0.7564\n",
      "Epoch 8/15\n",
      "400/400 - 53s - loss: 0.4548 - accuracy: 0.7806 - val_loss: 0.5364 - val_accuracy: 0.7583\n"
     ]
    },
    {
     "data": {
      "text/html": [
       "<span style=\"color:#4527A0\"><h1 style=\"font-size:18px\">Trial complete</h1></span>"
      ],
      "text/plain": [
       "<IPython.core.display.HTML object>"
      ]
     },
     "metadata": {},
     "output_type": "display_data"
    },
    {
     "data": {
      "text/html": [
       "<span style=\"color:#4527A0\"><h1 style=\"font-size:18px\">Trial summary</h1></span>"
      ],
      "text/plain": [
       "<IPython.core.display.HTML object>"
      ]
     },
     "metadata": {},
     "output_type": "display_data"
    },
    {
     "data": {
      "text/html": [
       "<span style=\"color:cyan\"> |-Trial ID: 813b8f792c4a13608b459af62d4dda62</span>"
      ],
      "text/plain": [
       "<IPython.core.display.HTML object>"
      ]
     },
     "metadata": {},
     "output_type": "display_data"
    },
    {
     "data": {
      "text/html": [
       "<span style=\"color:cyan\"> |-Score: 0.7574567794799805</span>"
      ],
      "text/plain": [
       "<IPython.core.display.HTML object>"
      ]
     },
     "metadata": {},
     "output_type": "display_data"
    },
    {
     "data": {
      "text/html": [
       "<span style=\"color:cyan\"> |-Best step: 0</span>"
      ],
      "text/plain": [
       "<IPython.core.display.HTML object>"
      ]
     },
     "metadata": {},
     "output_type": "display_data"
    },
    {
     "data": {
      "text/html": [
       "<span style=\"color:#7E57C2\"><h2 style=\"font-size:16px\">Hyperparameters:</h2></span>"
      ],
      "text/plain": [
       "<IPython.core.display.HTML object>"
      ]
     },
     "metadata": {},
     "output_type": "display_data"
    },
    {
     "data": {
      "text/html": [
       "<span style=\"color:cyan\"> |-conv_filter_1: 128</span>"
      ],
      "text/plain": [
       "<IPython.core.display.HTML object>"
      ]
     },
     "metadata": {},
     "output_type": "display_data"
    },
    {
     "data": {
      "text/html": [
       "<span style=\"color:blue\"> |-conv_kernel_1: 5</span>"
      ],
      "text/plain": [
       "<IPython.core.display.HTML object>"
      ]
     },
     "metadata": {},
     "output_type": "display_data"
    },
    {
     "name": "stdout",
     "output_type": "stream",
     "text": [
      "WARNING:tensorflow:sample_weight modes were coerced from\n",
      "  ...\n",
      "    to  \n",
      "  ['...']\n",
      "WARNING:tensorflow:sample_weight modes were coerced from\n",
      "  ...\n",
      "    to  \n",
      "  ['...']\n",
      "Train for 400 steps, validate for 171 steps\n",
      "Epoch 1/15\n",
      "400/400 - 68s - loss: 15.3463 - accuracy: 0.5936 - val_loss: 0.6391 - val_accuracy: 0.5918\n",
      "Epoch 2/15\n",
      "400/400 - 66s - loss: 0.6409 - accuracy: 0.5947 - val_loss: 0.6382 - val_accuracy: 0.5915\n",
      "Epoch 3/15\n",
      "400/400 - 66s - loss: 0.6352 - accuracy: 0.5950 - val_loss: 0.6398 - val_accuracy: 0.5903\n",
      "Epoch 4/15\n",
      "400/400 - 67s - loss: 0.6381 - accuracy: 0.5952 - val_loss: 0.6546 - val_accuracy: 0.5878\n",
      "Epoch 5/15\n",
      "400/400 - 66s - loss: 0.6401 - accuracy: 0.5957 - val_loss: 0.6676 - val_accuracy: 0.5898\n",
      "WARNING:tensorflow:sample_weight modes were coerced from\n",
      "  ...\n",
      "    to  \n",
      "  ['...']\n",
      "WARNING:tensorflow:sample_weight modes were coerced from\n",
      "  ...\n",
      "    to  \n",
      "  ['...']\n",
      "Train for 400 steps, validate for 171 steps\n",
      "Epoch 1/15\n",
      "400/400 - 67s - loss: 18.9856 - accuracy: 0.5913 - val_loss: 0.6416 - val_accuracy: 0.5916\n",
      "Epoch 2/15\n",
      "400/400 - 67s - loss: 0.5871 - accuracy: 0.6405 - val_loss: 0.5978 - val_accuracy: 0.6731\n",
      "Epoch 3/15\n",
      "400/400 - 66s - loss: 0.5929 - accuracy: 0.5946 - val_loss: 0.6079 - val_accuracy: 0.5910\n",
      "Epoch 4/15\n",
      "400/400 - 66s - loss: 0.5800 - accuracy: 0.5958 - val_loss: 0.5990 - val_accuracy: 0.5913\n",
      "Epoch 5/15\n",
      "400/400 - 66s - loss: 0.5799 - accuracy: 0.5995 - val_loss: 0.6086 - val_accuracy: 0.5905\n",
      "Epoch 6/15\n",
      "400/400 - 67s - loss: 0.5751 - accuracy: 0.6534 - val_loss: 0.5999 - val_accuracy: 0.6944\n",
      "Epoch 7/15\n",
      "400/400 - 67s - loss: 0.5690 - accuracy: 0.6872 - val_loss: 0.6223 - val_accuracy: 0.6770\n",
      "Epoch 8/15\n",
      "400/400 - 67s - loss: 0.5653 - accuracy: 0.6940 - val_loss: 0.6651 - val_accuracy: 0.6654\n",
      "Epoch 9/15\n",
      "400/400 - 76s - loss: 0.5658 - accuracy: 0.6974 - val_loss: 0.6357 - val_accuracy: 0.6841\n",
      "Epoch 10/15\n",
      "400/400 - 66s - loss: 0.5662 - accuracy: 0.6966 - val_loss: 0.6234 - val_accuracy: 0.6896\n",
      "WARNING:tensorflow:sample_weight modes were coerced from\n",
      "  ...\n",
      "    to  \n",
      "  ['...']\n",
      "WARNING:tensorflow:sample_weight modes were coerced from\n",
      "  ...\n",
      "    to  \n",
      "  ['...']\n",
      "Train for 400 steps, validate for 171 steps\n",
      "Epoch 1/15\n",
      "400/400 - 67s - loss: 11.5806 - accuracy: 0.5924 - val_loss: 0.6096 - val_accuracy: 0.5912\n",
      "Epoch 2/15\n",
      "400/400 - 79s - loss: 0.5764 - accuracy: 0.6471 - val_loss: 0.5473 - val_accuracy: 0.6825\n",
      "Epoch 3/15\n",
      "400/400 - 85s - loss: 0.5329 - accuracy: 0.7169 - val_loss: 0.5294 - val_accuracy: 0.7081\n",
      "Epoch 4/15\n",
      "400/400 - 90s - loss: 0.5095 - accuracy: 0.7412 - val_loss: 0.4890 - val_accuracy: 0.7527\n",
      "Epoch 5/15\n",
      "400/400 - 66s - loss: 0.4870 - accuracy: 0.7627 - val_loss: 0.4959 - val_accuracy: 0.7446\n",
      "Epoch 6/15\n",
      "400/400 - 66s - loss: 0.4770 - accuracy: 0.7698 - val_loss: 0.4969 - val_accuracy: 0.7496\n",
      "Epoch 7/15\n",
      "400/400 - 67s - loss: 0.4719 - accuracy: 0.7726 - val_loss: 0.5027 - val_accuracy: 0.7549\n",
      "Epoch 8/15\n",
      "400/400 - 66s - loss: 0.4641 - accuracy: 0.7773 - val_loss: 0.5115 - val_accuracy: 0.7467\n",
      "Epoch 9/15\n",
      "400/400 - 66s - loss: 0.4613 - accuracy: 0.7791 - val_loss: 0.5171 - val_accuracy: 0.7464\n",
      "Epoch 10/15\n",
      "400/400 - 67s - loss: 0.4565 - accuracy: 0.7807 - val_loss: 0.5265 - val_accuracy: 0.7586\n",
      "Epoch 11/15\n",
      "400/400 - 67s - loss: 0.4560 - accuracy: 0.7825 - val_loss: 0.5720 - val_accuracy: 0.7369\n",
      "Epoch 12/15\n",
      "400/400 - 66s - loss: 0.4580 - accuracy: 0.7801 - val_loss: 0.5614 - val_accuracy: 0.7387\n",
      "Epoch 13/15\n",
      "400/400 - 66s - loss: 0.4566 - accuracy: 0.7822 - val_loss: 0.5793 - val_accuracy: 0.7304\n",
      "Epoch 14/15\n",
      "400/400 - 66s - loss: 0.4647 - accuracy: 0.7801 - val_loss: 0.5453 - val_accuracy: 0.7435\n",
      "WARNING:tensorflow:sample_weight modes were coerced from\n",
      "  ...\n",
      "    to  \n",
      "  ['...']\n",
      "WARNING:tensorflow:sample_weight modes were coerced from\n",
      "  ...\n",
      "    to  \n",
      "  ['...']\n",
      "Train for 400 steps, validate for 171 steps\n",
      "Epoch 1/15\n",
      "400/400 - 67s - loss: 15.0184 - accuracy: 0.5929 - val_loss: 0.6295 - val_accuracy: 0.5916\n",
      "Epoch 2/15\n",
      "400/400 - 66s - loss: 0.6218 - accuracy: 0.5945 - val_loss: 0.6063 - val_accuracy: 0.5917\n",
      "Epoch 3/15\n",
      "400/400 - 67s - loss: 0.6085 - accuracy: 0.5944 - val_loss: 0.6188 - val_accuracy: 0.5913\n",
      "Epoch 4/15\n",
      "400/400 - 66s - loss: 0.6001 - accuracy: 0.5948 - val_loss: 0.6187 - val_accuracy: 0.5895\n",
      "Epoch 5/15\n",
      "400/400 - 66s - loss: 0.5881 - accuracy: 0.5952 - val_loss: 0.6194 - val_accuracy: 0.5879\n",
      "Epoch 6/15\n",
      "400/400 - 66s - loss: 0.5851 - accuracy: 0.5958 - val_loss: 0.6078 - val_accuracy: 0.5862\n",
      "WARNING:tensorflow:sample_weight modes were coerced from\n",
      "  ...\n",
      "    to  \n",
      "  ['...']\n",
      "WARNING:tensorflow:sample_weight modes were coerced from\n",
      "  ...\n",
      "    to  \n",
      "  ['...']\n",
      "Train for 400 steps, validate for 171 steps\n",
      "Epoch 1/15\n",
      "400/400 - 67s - loss: 8.7709 - accuracy: 0.5929 - val_loss: 0.6524 - val_accuracy: 0.5916\n",
      "Epoch 2/15\n",
      "400/400 - 66s - loss: 0.6355 - accuracy: 0.5946 - val_loss: 0.6144 - val_accuracy: 0.5916\n",
      "Epoch 3/15\n",
      "400/400 - 66s - loss: 0.5778 - accuracy: 0.6366 - val_loss: 0.5503 - val_accuracy: 0.6917\n",
      "Epoch 4/15\n",
      "400/400 - 66s - loss: 0.5377 - accuracy: 0.7238 - val_loss: 0.5333 - val_accuracy: 0.7177\n",
      "Epoch 5/15\n",
      "400/400 - 66s - loss: 0.5228 - accuracy: 0.7381 - val_loss: 0.5262 - val_accuracy: 0.7235\n",
      "Epoch 6/15\n",
      "400/400 - 66s - loss: 0.5112 - accuracy: 0.7429 - val_loss: 0.5231 - val_accuracy: 0.7308\n",
      "Epoch 7/15\n",
      "400/400 - 66s - loss: 0.5047 - accuracy: 0.7461 - val_loss: 0.5257 - val_accuracy: 0.7274\n",
      "Epoch 8/15\n",
      "400/400 - 66s - loss: 0.5038 - accuracy: 0.7467 - val_loss: 0.5223 - val_accuracy: 0.7211\n",
      "Epoch 9/15\n",
      "400/400 - 67s - loss: 0.5015 - accuracy: 0.7488 - val_loss: 0.5405 - val_accuracy: 0.7094\n",
      "Epoch 10/15\n",
      "400/400 - 67s - loss: 0.5153 - accuracy: 0.7377 - val_loss: 0.5422 - val_accuracy: 0.7003\n",
      "WARNING:tensorflow:sample_weight modes were coerced from\n",
      "  ...\n",
      "    to  \n",
      "  ['...']\n",
      "WARNING:tensorflow:sample_weight modes were coerced from\n",
      "  ...\n",
      "    to  \n",
      "  ['...']\n",
      "Train for 400 steps, validate for 171 steps\n",
      "Epoch 1/15\n",
      "400/400 - 67s - loss: 15.0842 - accuracy: 0.5934 - val_loss: 0.6796 - val_accuracy: 0.5921\n",
      "Epoch 2/15\n",
      "400/400 - 66s - loss: 0.6767 - accuracy: 0.5946 - val_loss: 0.6765 - val_accuracy: 0.5915\n",
      "Epoch 3/15\n",
      "400/400 - 67s - loss: 0.6752 - accuracy: 0.5946 - val_loss: 0.6761 - val_accuracy: 0.5920\n",
      "Epoch 4/15\n",
      "400/400 - 67s - loss: 0.6759 - accuracy: 0.5946 - val_loss: 0.6761 - val_accuracy: 0.5920\n",
      "Epoch 5/15\n",
      "400/400 - 67s - loss: 0.6754 - accuracy: 0.5947 - val_loss: 0.6764 - val_accuracy: 0.5914\n"
     ]
    },
    {
     "data": {
      "text/html": [
       "<span style=\"color:#4527A0\"><h1 style=\"font-size:18px\">Trial complete</h1></span>"
      ],
      "text/plain": [
       "<IPython.core.display.HTML object>"
      ]
     },
     "metadata": {},
     "output_type": "display_data"
    },
    {
     "data": {
      "text/html": [
       "<span style=\"color:#4527A0\"><h1 style=\"font-size:18px\">Trial summary</h1></span>"
      ],
      "text/plain": [
       "<IPython.core.display.HTML object>"
      ]
     },
     "metadata": {},
     "output_type": "display_data"
    },
    {
     "data": {
      "text/html": [
       "<span style=\"color:cyan\"> |-Trial ID: 1307860a07ce640358add93c203edcbb</span>"
      ],
      "text/plain": [
       "<IPython.core.display.HTML object>"
      ]
     },
     "metadata": {},
     "output_type": "display_data"
    },
    {
     "data": {
      "text/html": [
       "<span style=\"color:cyan\"> |-Score: 0.659900963306427</span>"
      ],
      "text/plain": [
       "<IPython.core.display.HTML object>"
      ]
     },
     "metadata": {},
     "output_type": "display_data"
    },
    {
     "data": {
      "text/html": [
       "<span style=\"color:cyan\"> |-Best step: 0</span>"
      ],
      "text/plain": [
       "<IPython.core.display.HTML object>"
      ]
     },
     "metadata": {},
     "output_type": "display_data"
    },
    {
     "data": {
      "text/html": [
       "<span style=\"color:#7E57C2\"><h2 style=\"font-size:16px\">Hyperparameters:</h2></span>"
      ],
      "text/plain": [
       "<IPython.core.display.HTML object>"
      ]
     },
     "metadata": {},
     "output_type": "display_data"
    },
    {
     "data": {
      "text/html": [
       "<span style=\"color:cyan\"> |-conv_filter_1: 128</span>"
      ],
      "text/plain": [
       "<IPython.core.display.HTML object>"
      ]
     },
     "metadata": {},
     "output_type": "display_data"
    },
    {
     "data": {
      "text/html": [
       "<span style=\"color:blue\"> |-conv_kernel_1: 9</span>"
      ],
      "text/plain": [
       "<IPython.core.display.HTML object>"
      ]
     },
     "metadata": {},
     "output_type": "display_data"
    },
    {
     "name": "stdout",
     "output_type": "stream",
     "text": [
      "WARNING:tensorflow:sample_weight modes were coerced from\n",
      "  ...\n",
      "    to  \n",
      "  ['...']\n",
      "WARNING:tensorflow:sample_weight modes were coerced from\n",
      "  ...\n",
      "    to  \n",
      "  ['...']\n",
      "Train for 400 steps, validate for 171 steps\n",
      "Epoch 1/15\n",
      "400/400 - 24s - loss: 4.1555 - accuracy: 0.5893 - val_loss: 0.6806 - val_accuracy: 0.5915\n",
      "Epoch 2/15\n",
      "400/400 - 23s - loss: 0.6771 - accuracy: 0.5946 - val_loss: 0.6762 - val_accuracy: 0.5912\n",
      "Epoch 3/15\n",
      "400/400 - 23s - loss: 0.6721 - accuracy: 0.5946 - val_loss: 0.6697 - val_accuracy: 0.5919\n",
      "Epoch 4/15\n",
      "400/400 - 23s - loss: 0.6649 - accuracy: 0.5946 - val_loss: 0.6568 - val_accuracy: 0.5912\n",
      "Epoch 5/15\n",
      "400/400 - 23s - loss: 0.6504 - accuracy: 0.5947 - val_loss: 0.6406 - val_accuracy: 0.5915\n",
      "Epoch 6/15\n",
      "400/400 - 23s - loss: 0.6440 - accuracy: 0.5947 - val_loss: 0.6341 - val_accuracy: 0.5913\n",
      "Epoch 7/15\n",
      "400/400 - 23s - loss: 0.5870 - accuracy: 0.6505 - val_loss: 0.5873 - val_accuracy: 0.6265\n",
      "Epoch 8/15\n",
      "400/400 - 23s - loss: 0.5662 - accuracy: 0.6834 - val_loss: 0.5809 - val_accuracy: 0.6387\n",
      "Epoch 9/15\n",
      "400/400 - 23s - loss: 0.5656 - accuracy: 0.6849 - val_loss: 0.5704 - val_accuracy: 0.6886\n",
      "Epoch 10/15\n",
      "400/400 - 23s - loss: 0.5600 - accuracy: 0.6897 - val_loss: 0.5641 - val_accuracy: 0.6839\n",
      "Epoch 11/15\n",
      "400/400 - 23s - loss: 0.5525 - accuracy: 0.7011 - val_loss: 0.5747 - val_accuracy: 0.7197\n",
      "Epoch 12/15\n",
      "400/400 - 23s - loss: 0.5444 - accuracy: 0.7150 - val_loss: 0.5624 - val_accuracy: 0.7141\n",
      "Epoch 13/15\n",
      "400/400 - 23s - loss: 0.5470 - accuracy: 0.7198 - val_loss: 0.5906 - val_accuracy: 0.6762\n",
      "Epoch 14/15\n",
      "400/400 - 23s - loss: 0.5521 - accuracy: 0.7105 - val_loss: 0.5971 - val_accuracy: 0.6901\n",
      "Epoch 15/15\n",
      "400/400 - 23s - loss: 0.5682 - accuracy: 0.6604 - val_loss: 0.6053 - val_accuracy: 0.6929\n",
      "WARNING:tensorflow:sample_weight modes were coerced from\n",
      "  ...\n",
      "    to  \n",
      "  ['...']\n",
      "WARNING:tensorflow:sample_weight modes were coerced from\n",
      "  ...\n",
      "    to  \n",
      "  ['...']\n",
      "Train for 400 steps, validate for 171 steps\n",
      "Epoch 1/15\n",
      "400/400 - 24s - loss: 3.4591 - accuracy: 0.5915 - val_loss: 0.6768 - val_accuracy: 0.5914\n",
      "Epoch 2/15\n",
      "400/400 - 23s - loss: 0.6716 - accuracy: 0.5946 - val_loss: 0.6621 - val_accuracy: 0.5920\n",
      "Epoch 3/15\n",
      "400/400 - 23s - loss: 0.6519 - accuracy: 0.5946 - val_loss: 0.6442 - val_accuracy: 0.5920\n",
      "Epoch 4/15\n",
      "400/400 - 23s - loss: 0.6348 - accuracy: 0.5946 - val_loss: 0.6274 - val_accuracy: 0.5914\n",
      "Epoch 5/15\n",
      "400/400 - 23s - loss: 0.6174 - accuracy: 0.5946 - val_loss: 0.6043 - val_accuracy: 0.5911\n",
      "Epoch 6/15\n",
      "400/400 - 23s - loss: 0.5899 - accuracy: 0.5952 - val_loss: 0.5785 - val_accuracy: 0.6160\n",
      "Epoch 7/15\n",
      "400/400 - 23s - loss: 0.5729 - accuracy: 0.6563 - val_loss: 0.5857 - val_accuracy: 0.6682\n",
      "Epoch 8/15\n",
      "400/400 - 24s - loss: 0.5592 - accuracy: 0.6976 - val_loss: 0.5883 - val_accuracy: 0.6799\n",
      "Epoch 9/15\n",
      "400/400 - 23s - loss: 0.5582 - accuracy: 0.7020 - val_loss: 0.5847 - val_accuracy: 0.6921\n",
      "Epoch 10/15\n",
      "400/400 - 23s - loss: 0.5528 - accuracy: 0.7105 - val_loss: 0.5788 - val_accuracy: 0.7023\n",
      "Epoch 11/15\n",
      "400/400 - 23s - loss: 0.5483 - accuracy: 0.7149 - val_loss: 0.5981 - val_accuracy: 0.6866\n",
      "Epoch 12/15\n",
      "400/400 - 23s - loss: 0.5485 - accuracy: 0.7168 - val_loss: 0.5812 - val_accuracy: 0.7067\n",
      "Epoch 13/15\n",
      "400/400 - 23s - loss: 0.5485 - accuracy: 0.7119 - val_loss: 0.5971 - val_accuracy: 0.7109\n",
      "Epoch 14/15\n",
      "400/400 - 23s - loss: 0.5458 - accuracy: 0.7156 - val_loss: 0.5844 - val_accuracy: 0.6992\n",
      "Epoch 15/15\n",
      "400/400 - 23s - loss: 0.5421 - accuracy: 0.7230 - val_loss: 0.5875 - val_accuracy: 0.6936\n",
      "WARNING:tensorflow:sample_weight modes were coerced from\n",
      "  ...\n",
      "    to  \n",
      "  ['...']\n",
      "WARNING:tensorflow:sample_weight modes were coerced from\n",
      "  ...\n",
      "    to  \n",
      "  ['...']\n",
      "Train for 400 steps, validate for 171 steps\n",
      "Epoch 1/15\n",
      "400/400 - 24s - loss: 6.6316 - accuracy: 0.5937 - val_loss: 0.6275 - val_accuracy: 0.5915\n",
      "Epoch 2/15\n",
      "400/400 - 23s - loss: 0.5852 - accuracy: 0.6584 - val_loss: 0.5843 - val_accuracy: 0.6672\n",
      "Epoch 3/15\n",
      "400/400 - 23s - loss: 0.5660 - accuracy: 0.7029 - val_loss: 0.5763 - val_accuracy: 0.6800\n",
      "Epoch 4/15\n",
      "400/400 - 23s - loss: 0.5589 - accuracy: 0.7098 - val_loss: 0.5851 - val_accuracy: 0.6778\n",
      "Epoch 5/15\n",
      "400/400 - 23s - loss: 0.5542 - accuracy: 0.7148 - val_loss: 0.5896 - val_accuracy: 0.6773\n",
      "Epoch 6/15\n",
      "400/400 - 23s - loss: 0.5535 - accuracy: 0.7161 - val_loss: 0.5869 - val_accuracy: 0.6794\n",
      "Epoch 7/15\n",
      "400/400 - 23s - loss: 0.5575 - accuracy: 0.7100 - val_loss: 0.5807 - val_accuracy: 0.6752\n",
      "WARNING:tensorflow:sample_weight modes were coerced from\n",
      "  ...\n",
      "    to  \n",
      "  ['...']\n",
      "WARNING:tensorflow:sample_weight modes were coerced from\n",
      "  ...\n",
      "    to  \n",
      "  ['...']\n",
      "Train for 400 steps, validate for 171 steps\n",
      "Epoch 1/15\n",
      "400/400 - 24s - loss: 3.5366 - accuracy: 0.5930 - val_loss: 0.6793 - val_accuracy: 0.5915\n",
      "Epoch 2/15\n",
      "400/400 - 23s - loss: 0.6765 - accuracy: 0.5947 - val_loss: 0.6764 - val_accuracy: 0.5915\n",
      "Epoch 3/15\n",
      "400/400 - 23s - loss: 0.6752 - accuracy: 0.5946 - val_loss: 0.6761 - val_accuracy: 0.5918\n",
      "Epoch 4/15\n",
      "400/400 - 24s - loss: 0.6755 - accuracy: 0.5946 - val_loss: 0.6761 - val_accuracy: 0.5916\n",
      "Epoch 5/15\n",
      "400/400 - 23s - loss: 0.6749 - accuracy: 0.5946 - val_loss: 0.6760 - val_accuracy: 0.5918\n",
      "Epoch 6/15\n",
      "400/400 - 23s - loss: 0.6745 - accuracy: 0.5946 - val_loss: 0.6752 - val_accuracy: 0.5912\n",
      "Epoch 7/15\n",
      "400/400 - 23s - loss: 0.6728 - accuracy: 0.5946 - val_loss: 0.6727 - val_accuracy: 0.5912\n",
      "WARNING:tensorflow:sample_weight modes were coerced from\n",
      "  ...\n",
      "    to  \n",
      "  ['...']\n",
      "WARNING:tensorflow:sample_weight modes were coerced from\n",
      "  ...\n",
      "    to  \n",
      "  ['...']\n",
      "Train for 400 steps, validate for 171 steps\n",
      "Epoch 1/15\n",
      "400/400 - 24s - loss: 4.6793 - accuracy: 0.5928 - val_loss: 0.6734 - val_accuracy: 0.5912\n",
      "Epoch 2/15\n",
      "400/400 - 23s - loss: 0.6425 - accuracy: 0.5945 - val_loss: 0.6179 - val_accuracy: 0.5917\n",
      "Epoch 3/15\n",
      "400/400 - 23s - loss: 0.6152 - accuracy: 0.5945 - val_loss: 0.6344 - val_accuracy: 0.5910\n",
      "Epoch 4/15\n",
      "400/400 - 24s - loss: 0.6062 - accuracy: 0.5945 - val_loss: 0.6079 - val_accuracy: 0.5901\n",
      "Epoch 5/15\n",
      "400/400 - 23s - loss: 0.5942 - accuracy: 0.5947 - val_loss: 0.6442 - val_accuracy: 0.5893\n",
      "Epoch 6/15\n",
      "400/400 - 23s - loss: 0.5893 - accuracy: 0.5951 - val_loss: 0.6125 - val_accuracy: 0.5873\n",
      "WARNING:tensorflow:sample_weight modes were coerced from\n",
      "  ...\n",
      "    to  \n",
      "  ['...']\n",
      "WARNING:tensorflow:sample_weight modes were coerced from\n",
      "  ...\n",
      "    to  \n",
      "  ['...']\n",
      "Train for 400 steps, validate for 171 steps\n",
      "Epoch 1/15\n",
      "400/400 - 25s - loss: 5.9570 - accuracy: 0.5919 - val_loss: 0.6807 - val_accuracy: 0.5919\n",
      "Epoch 2/15\n",
      "400/400 - 23s - loss: 0.6759 - accuracy: 0.5946 - val_loss: 0.6751 - val_accuracy: 0.5920\n",
      "Epoch 3/15\n",
      "400/400 - 23s - loss: 0.6735 - accuracy: 0.5946 - val_loss: 0.6742 - val_accuracy: 0.5920\n",
      "Epoch 4/15\n",
      "400/400 - 24s - loss: 0.6727 - accuracy: 0.5946 - val_loss: 0.6734 - val_accuracy: 0.5914\n",
      "Epoch 5/15\n",
      "400/400 - 23s - loss: 0.6695 - accuracy: 0.5947 - val_loss: 0.6656 - val_accuracy: 0.5920\n",
      "Epoch 6/15\n",
      "400/400 - 23s - loss: 0.6417 - accuracy: 0.5973 - val_loss: 0.6202 - val_accuracy: 0.6032\n",
      "Epoch 7/15\n",
      "400/400 - 24s - loss: 0.6133 - accuracy: 0.6371 - val_loss: 0.5997 - val_accuracy: 0.6351\n",
      "Epoch 8/15\n",
      "400/400 - 24s - loss: 0.5997 - accuracy: 0.6540 - val_loss: 0.5916 - val_accuracy: 0.6521\n",
      "Epoch 9/15\n",
      "400/400 - 24s - loss: 0.5893 - accuracy: 0.6643 - val_loss: 0.5934 - val_accuracy: 0.6487\n",
      "Epoch 10/15\n",
      "400/400 - 23s - loss: 0.5828 - accuracy: 0.6683 - val_loss: 0.5956 - val_accuracy: 0.6502\n",
      "Epoch 11/15\n",
      "400/400 - 23s - loss: 0.5759 - accuracy: 0.6706 - val_loss: 0.5962 - val_accuracy: 0.6554\n",
      "Epoch 12/15\n",
      "400/400 - 24s - loss: 0.5729 - accuracy: 0.6719 - val_loss: 0.5997 - val_accuracy: 0.6566\n",
      "Epoch 13/15\n",
      "400/400 - 24s - loss: 0.5710 - accuracy: 0.6746 - val_loss: 0.6013 - val_accuracy: 0.6529\n",
      "Epoch 14/15\n",
      "400/400 - 23s - loss: 0.5688 - accuracy: 0.6758 - val_loss: 0.6020 - val_accuracy: 0.6550\n",
      "Epoch 15/15\n",
      "400/400 - 45s - loss: 0.5683 - accuracy: 0.6776 - val_loss: 0.6062 - val_accuracy: 0.6421\n"
     ]
    },
    {
     "data": {
      "text/html": [
       "<span style=\"color:#4527A0\"><h1 style=\"font-size:18px\">Trial complete</h1></span>"
      ],
      "text/plain": [
       "<IPython.core.display.HTML object>"
      ]
     },
     "metadata": {},
     "output_type": "display_data"
    },
    {
     "data": {
      "text/html": [
       "<span style=\"color:#4527A0\"><h1 style=\"font-size:18px\">Trial summary</h1></span>"
      ],
      "text/plain": [
       "<IPython.core.display.HTML object>"
      ]
     },
     "metadata": {},
     "output_type": "display_data"
    },
    {
     "data": {
      "text/html": [
       "<span style=\"color:cyan\"> |-Trial ID: 5058ad6ef3d5d52f018e40796795a8b3</span>"
      ],
      "text/plain": [
       "<IPython.core.display.HTML object>"
      ]
     },
     "metadata": {},
     "output_type": "display_data"
    },
    {
     "data": {
      "text/html": [
       "<span style=\"color:cyan\"> |-Score: 0.6584457159042358</span>"
      ],
      "text/plain": [
       "<IPython.core.display.HTML object>"
      ]
     },
     "metadata": {},
     "output_type": "display_data"
    },
    {
     "data": {
      "text/html": [
       "<span style=\"color:cyan\"> |-Best step: 0</span>"
      ],
      "text/plain": [
       "<IPython.core.display.HTML object>"
      ]
     },
     "metadata": {},
     "output_type": "display_data"
    },
    {
     "data": {
      "text/html": [
       "<span style=\"color:#7E57C2\"><h2 style=\"font-size:16px\">Hyperparameters:</h2></span>"
      ],
      "text/plain": [
       "<IPython.core.display.HTML object>"
      ]
     },
     "metadata": {},
     "output_type": "display_data"
    },
    {
     "data": {
      "text/html": [
       "<span style=\"color:cyan\"> |-conv_filter_1: 16</span>"
      ],
      "text/plain": [
       "<IPython.core.display.HTML object>"
      ]
     },
     "metadata": {},
     "output_type": "display_data"
    },
    {
     "data": {
      "text/html": [
       "<span style=\"color:blue\"> |-conv_kernel_1: 11</span>"
      ],
      "text/plain": [
       "<IPython.core.display.HTML object>"
      ]
     },
     "metadata": {},
     "output_type": "display_data"
    },
    {
     "name": "stdout",
     "output_type": "stream",
     "text": [
      "WARNING:tensorflow:sample_weight modes were coerced from\n",
      "  ...\n",
      "    to  \n",
      "  ['...']\n",
      "WARNING:tensorflow:sample_weight modes were coerced from\n",
      "  ...\n",
      "    to  \n",
      "  ['...']\n",
      "Train for 400 steps, validate for 171 steps\n",
      "Epoch 1/15\n",
      "400/400 - 24s - loss: 14.5933 - accuracy: 0.6572 - val_loss: 0.8161 - val_accuracy: 0.7008\n",
      "Epoch 2/15\n",
      "400/400 - 23s - loss: 0.6221 - accuracy: 0.7334 - val_loss: 0.6529 - val_accuracy: 0.7219\n",
      "Epoch 3/15\n",
      "400/400 - 26s - loss: 0.4963 - accuracy: 0.7696 - val_loss: 0.6310 - val_accuracy: 0.7301\n",
      "Epoch 4/15\n",
      "400/400 - 23s - loss: 0.4482 - accuracy: 0.7909 - val_loss: 0.6375 - val_accuracy: 0.7326\n",
      "Epoch 5/15\n",
      "400/400 - 23s - loss: 0.4204 - accuracy: 0.8039 - val_loss: 0.6533 - val_accuracy: 0.7322\n",
      "Epoch 6/15\n",
      "400/400 - 23s - loss: 0.4031 - accuracy: 0.8119 - val_loss: 0.6801 - val_accuracy: 0.7307\n",
      "Epoch 7/15\n",
      "400/400 - 23s - loss: 0.3999 - accuracy: 0.8143 - val_loss: 0.7139 - val_accuracy: 0.7378\n",
      "Epoch 8/15\n",
      "400/400 - 23s - loss: 0.3871 - accuracy: 0.8209 - val_loss: 0.7506 - val_accuracy: 0.7399\n",
      "Epoch 9/15\n",
      "400/400 - 23s - loss: 0.3799 - accuracy: 0.8239 - val_loss: 0.8034 - val_accuracy: 0.7394\n",
      "Epoch 10/15\n",
      "400/400 - 23s - loss: 0.3600 - accuracy: 0.8330 - val_loss: 0.8211 - val_accuracy: 0.7355\n",
      "Epoch 11/15\n",
      "400/400 - 23s - loss: 0.3516 - accuracy: 0.8389 - val_loss: 0.8558 - val_accuracy: 0.7344\n",
      "Epoch 12/15\n",
      "400/400 - 23s - loss: 0.3612 - accuracy: 0.8333 - val_loss: 0.8795 - val_accuracy: 0.7291\n",
      "WARNING:tensorflow:sample_weight modes were coerced from\n",
      "  ...\n",
      "    to  \n",
      "  ['...']\n",
      "WARNING:tensorflow:sample_weight modes were coerced from\n",
      "  ...\n",
      "    to  \n",
      "  ['...']\n",
      "Train for 400 steps, validate for 171 steps\n",
      "Epoch 1/15\n",
      "400/400 - 24s - loss: 4.3377 - accuracy: 0.6865 - val_loss: 0.8236 - val_accuracy: 0.6974\n",
      "Epoch 2/15\n",
      "400/400 - 23s - loss: 0.5911 - accuracy: 0.7465 - val_loss: 0.6488 - val_accuracy: 0.7136\n",
      "Epoch 3/15\n",
      "400/400 - 23s - loss: 0.4632 - accuracy: 0.7841 - val_loss: 0.6437 - val_accuracy: 0.7258\n",
      "Epoch 4/15\n",
      "400/400 - 23s - loss: 0.4072 - accuracy: 0.8096 - val_loss: 0.6799 - val_accuracy: 0.7235\n",
      "Epoch 5/15\n",
      "400/400 - 23s - loss: 0.3768 - accuracy: 0.8260 - val_loss: 0.7283 - val_accuracy: 0.7207\n",
      "Epoch 6/15\n",
      "400/400 - 23s - loss: 0.3556 - accuracy: 0.8361 - val_loss: 0.8626 - val_accuracy: 0.6894\n",
      "Epoch 7/15\n",
      "400/400 - 23s - loss: 0.3611 - accuracy: 0.8339 - val_loss: 0.7961 - val_accuracy: 0.7253\n",
      "WARNING:tensorflow:sample_weight modes were coerced from\n",
      "  ...\n",
      "    to  \n",
      "  ['...']\n",
      "WARNING:tensorflow:sample_weight modes were coerced from\n",
      "  ...\n",
      "    to  \n",
      "  ['...']\n",
      "Train for 400 steps, validate for 171 steps\n",
      "Epoch 1/15\n",
      "400/400 - 24s - loss: 15.4798 - accuracy: 0.6812 - val_loss: 2.4669 - val_accuracy: 0.7091\n",
      "Epoch 2/15\n",
      "400/400 - 24s - loss: 1.6231 - accuracy: 0.7227 - val_loss: 1.2369 - val_accuracy: 0.6996\n",
      "Epoch 3/15\n",
      "400/400 - 23s - loss: 0.6831 - accuracy: 0.7602 - val_loss: 0.8502 - val_accuracy: 0.7176\n",
      "Epoch 4/15\n",
      "400/400 - 23s - loss: 0.4703 - accuracy: 0.7981 - val_loss: 0.7793 - val_accuracy: 0.7273\n",
      "Epoch 5/15\n",
      "400/400 - 23s - loss: 0.3978 - accuracy: 0.8241 - val_loss: 0.7722 - val_accuracy: 0.7303\n",
      "Epoch 6/15\n",
      "400/400 - 23s - loss: 0.3621 - accuracy: 0.8406 - val_loss: 0.7871 - val_accuracy: 0.7299\n",
      "Epoch 7/15\n",
      "400/400 - 23s - loss: 0.3580 - accuracy: 0.8405 - val_loss: 0.8145 - val_accuracy: 0.7277\n",
      "Epoch 8/15\n",
      "400/400 - 23s - loss: 0.3589 - accuracy: 0.8406 - val_loss: 0.8267 - val_accuracy: 0.7268\n",
      "Epoch 9/15\n",
      "400/400 - 23s - loss: 0.3595 - accuracy: 0.8417 - val_loss: 0.8912 - val_accuracy: 0.7243\n",
      "WARNING:tensorflow:sample_weight modes were coerced from\n",
      "  ...\n",
      "    to  \n",
      "  ['...']\n",
      "WARNING:tensorflow:sample_weight modes were coerced from\n",
      "  ...\n",
      "    to  \n",
      "  ['...']\n",
      "Train for 400 steps, validate for 171 steps\n",
      "Epoch 1/15\n",
      "400/400 - 24s - loss: 13.9415 - accuracy: 0.6824 - val_loss: 1.3984 - val_accuracy: 0.7022\n",
      "Epoch 2/15\n",
      "400/400 - 23s - loss: 0.7514 - accuracy: 0.7368 - val_loss: 0.6748 - val_accuracy: 0.7258\n",
      "Epoch 3/15\n",
      "400/400 - 23s - loss: 0.4935 - accuracy: 0.7765 - val_loss: 0.6380 - val_accuracy: 0.7339\n",
      "Epoch 4/15\n",
      "400/400 - 23s - loss: 0.4261 - accuracy: 0.8035 - val_loss: 0.6508 - val_accuracy: 0.7369\n",
      "Epoch 5/15\n",
      "400/400 - 23s - loss: 0.3916 - accuracy: 0.8195 - val_loss: 0.6848 - val_accuracy: 0.7357\n",
      "Epoch 6/15\n",
      "400/400 - 23s - loss: 0.3704 - accuracy: 0.8309 - val_loss: 0.7248 - val_accuracy: 0.7325\n",
      "Epoch 7/15\n",
      "400/400 - 24s - loss: 0.3681 - accuracy: 0.8316 - val_loss: 0.8075 - val_accuracy: 0.7099\n",
      "Epoch 8/15\n",
      "400/400 - 23s - loss: 0.3752 - accuracy: 0.8290 - val_loss: 0.8447 - val_accuracy: 0.7007\n",
      "WARNING:tensorflow:sample_weight modes were coerced from\n",
      "  ...\n",
      "    to  \n",
      "  ['...']\n",
      "WARNING:tensorflow:sample_weight modes were coerced from\n",
      "  ...\n",
      "    to  \n",
      "  ['...']\n",
      "Train for 400 steps, validate for 171 steps\n",
      "Epoch 1/15\n",
      "400/400 - 24s - loss: 22.1210 - accuracy: 0.6828 - val_loss: 0.9993 - val_accuracy: 0.7066\n",
      "Epoch 2/15\n",
      "400/400 - 24s - loss: 0.6904 - accuracy: 0.7392 - val_loss: 0.6528 - val_accuracy: 0.7445\n",
      "Epoch 3/15\n",
      "400/400 - 23s - loss: 0.5016 - accuracy: 0.7754 - val_loss: 0.6020 - val_accuracy: 0.7542\n",
      "Epoch 4/15\n",
      "400/400 - 23s - loss: 0.4345 - accuracy: 0.7993 - val_loss: 0.6066 - val_accuracy: 0.7571\n",
      "Epoch 5/15\n",
      "400/400 - 23s - loss: 0.3992 - accuracy: 0.8139 - val_loss: 0.6242 - val_accuracy: 0.7568\n",
      "Epoch 6/15\n",
      "400/400 - 23s - loss: 0.3761 - accuracy: 0.8264 - val_loss: 0.6660 - val_accuracy: 0.7512\n",
      "Epoch 7/15\n",
      "400/400 - 23s - loss: 0.3603 - accuracy: 0.8345 - val_loss: 0.7105 - val_accuracy: 0.7493\n",
      "Epoch 8/15\n",
      "400/400 - 23s - loss: 0.3477 - accuracy: 0.8417 - val_loss: 0.7531 - val_accuracy: 0.7463\n",
      "WARNING:tensorflow:sample_weight modes were coerced from\n",
      "  ...\n",
      "    to  \n",
      "  ['...']\n",
      "WARNING:tensorflow:sample_weight modes were coerced from\n",
      "  ...\n",
      "    to  \n",
      "  ['...']\n",
      "Train for 400 steps, validate for 171 steps\n",
      "Epoch 1/15\n",
      "400/400 - 24s - loss: 12.4955 - accuracy: 0.6632 - val_loss: 0.9714 - val_accuracy: 0.6909\n",
      "Epoch 2/15\n",
      "400/400 - 23s - loss: 0.6975 - accuracy: 0.7191 - val_loss: 0.6441 - val_accuracy: 0.7220\n",
      "Epoch 3/15\n",
      "400/400 - 23s - loss: 0.5142 - accuracy: 0.7583 - val_loss: 0.6072 - val_accuracy: 0.7336\n",
      "Epoch 4/15\n",
      "400/400 - 23s - loss: 0.4651 - accuracy: 0.7773 - val_loss: 0.6075 - val_accuracy: 0.7307\n",
      "Epoch 5/15\n",
      "400/400 - 23s - loss: 0.4401 - accuracy: 0.7878 - val_loss: 0.6196 - val_accuracy: 0.7306\n",
      "Epoch 6/15\n",
      "400/400 - 23s - loss: 0.4255 - accuracy: 0.7963 - val_loss: 0.6337 - val_accuracy: 0.7303\n",
      "Epoch 7/15\n",
      "400/400 - 23s - loss: 0.4125 - accuracy: 0.8035 - val_loss: 0.6537 - val_accuracy: 0.7293\n"
     ]
    },
    {
     "data": {
      "text/html": [
       "<span style=\"color:#4527A0\"><h1 style=\"font-size:18px\">Trial complete</h1></span>"
      ],
      "text/plain": [
       "<IPython.core.display.HTML object>"
      ]
     },
     "metadata": {},
     "output_type": "display_data"
    },
    {
     "data": {
      "text/html": [
       "<span style=\"color:#4527A0\"><h1 style=\"font-size:18px\">Trial summary</h1></span>"
      ],
      "text/plain": [
       "<IPython.core.display.HTML object>"
      ]
     },
     "metadata": {},
     "output_type": "display_data"
    },
    {
     "data": {
      "text/html": [
       "<span style=\"color:cyan\"> |-Trial ID: 025c87633db3978ff81ad15bf1a7836d</span>"
      ],
      "text/plain": [
       "<IPython.core.display.HTML object>"
      ]
     },
     "metadata": {},
     "output_type": "display_data"
    },
    {
     "data": {
      "text/html": [
       "<span style=\"color:cyan\"> |-Score: 0.7372724413871765</span>"
      ],
      "text/plain": [
       "<IPython.core.display.HTML object>"
      ]
     },
     "metadata": {},
     "output_type": "display_data"
    },
    {
     "data": {
      "text/html": [
       "<span style=\"color:cyan\"> |-Best step: 0</span>"
      ],
      "text/plain": [
       "<IPython.core.display.HTML object>"
      ]
     },
     "metadata": {},
     "output_type": "display_data"
    },
    {
     "data": {
      "text/html": [
       "<span style=\"color:#7E57C2\"><h2 style=\"font-size:16px\">Hyperparameters:</h2></span>"
      ],
      "text/plain": [
       "<IPython.core.display.HTML object>"
      ]
     },
     "metadata": {},
     "output_type": "display_data"
    },
    {
     "data": {
      "text/html": [
       "<span style=\"color:cyan\"> |-conv_filter_1: 16</span>"
      ],
      "text/plain": [
       "<IPython.core.display.HTML object>"
      ]
     },
     "metadata": {},
     "output_type": "display_data"
    },
    {
     "data": {
      "text/html": [
       "<span style=\"color:blue\"> |-conv_kernel_1: 3</span>"
      ],
      "text/plain": [
       "<IPython.core.display.HTML object>"
      ]
     },
     "metadata": {},
     "output_type": "display_data"
    },
    {
     "name": "stdout",
     "output_type": "stream",
     "text": [
      "WARNING:tensorflow:sample_weight modes were coerced from\n",
      "  ...\n",
      "    to  \n",
      "  ['...']\n",
      "WARNING:tensorflow:sample_weight modes were coerced from\n",
      "  ...\n",
      "    to  \n",
      "  ['...']\n",
      "Train for 400 steps, validate for 171 steps\n",
      "Epoch 1/15\n",
      "400/400 - 24s - loss: 8.4631 - accuracy: 0.6439 - val_loss: 0.6193 - val_accuracy: 0.6884\n",
      "Epoch 2/15\n",
      "400/400 - 24s - loss: 0.5698 - accuracy: 0.7174 - val_loss: 0.5632 - val_accuracy: 0.7197\n",
      "Epoch 3/15\n",
      "400/400 - 24s - loss: 0.5177 - accuracy: 0.7426 - val_loss: 0.5423 - val_accuracy: 0.7249\n",
      "Epoch 4/15\n",
      "400/400 - 23s - loss: 0.4816 - accuracy: 0.7614 - val_loss: 0.5523 - val_accuracy: 0.7220\n",
      "Epoch 5/15\n",
      "400/400 - 23s - loss: 0.4656 - accuracy: 0.7716 - val_loss: 0.5612 - val_accuracy: 0.7376\n",
      "Epoch 6/15\n",
      "400/400 - 24s - loss: 0.4441 - accuracy: 0.7846 - val_loss: 0.5587 - val_accuracy: 0.7430\n",
      "Epoch 7/15\n",
      "400/400 - 23s - loss: 0.4465 - accuracy: 0.7836 - val_loss: 0.6329 - val_accuracy: 0.7373\n",
      "Epoch 8/15\n",
      "400/400 - 23s - loss: 0.4556 - accuracy: 0.7787 - val_loss: 0.5789 - val_accuracy: 0.7252\n",
      "Epoch 9/15\n",
      "400/400 - 23s - loss: 0.4352 - accuracy: 0.7916 - val_loss: 0.5707 - val_accuracy: 0.7530\n",
      "Epoch 10/15\n",
      "400/400 - 23s - loss: 0.4193 - accuracy: 0.8012 - val_loss: 0.6140 - val_accuracy: 0.7564\n",
      "Epoch 11/15\n",
      "400/400 - 23s - loss: 0.4213 - accuracy: 0.7988 - val_loss: 0.6323 - val_accuracy: 0.7175\n",
      "Epoch 12/15\n",
      "400/400 - 23s - loss: 0.4237 - accuracy: 0.7970 - val_loss: 0.6642 - val_accuracy: 0.7096\n",
      "Epoch 13/15\n",
      "400/400 - 23s - loss: 0.4377 - accuracy: 0.7904 - val_loss: 0.6167 - val_accuracy: 0.7457\n",
      "Epoch 14/15\n",
      "400/400 - 23s - loss: 0.4314 - accuracy: 0.7913 - val_loss: 0.6133 - val_accuracy: 0.7397\n",
      "WARNING:tensorflow:sample_weight modes were coerced from\n",
      "  ...\n",
      "    to  \n",
      "  ['...']\n",
      "WARNING:tensorflow:sample_weight modes were coerced from\n",
      "  ...\n",
      "    to  \n",
      "  ['...']\n",
      "Train for 400 steps, validate for 171 steps\n",
      "Epoch 1/15\n",
      "400/400 - 24s - loss: 5.1162 - accuracy: 0.6706 - val_loss: 0.5569 - val_accuracy: 0.7154\n",
      "Epoch 2/15\n",
      "400/400 - 23s - loss: 0.5358 - accuracy: 0.7275 - val_loss: 0.5365 - val_accuracy: 0.7344\n",
      "Epoch 3/15\n",
      "400/400 - 23s - loss: 0.5115 - accuracy: 0.7396 - val_loss: 0.5280 - val_accuracy: 0.7408\n",
      "Epoch 4/15\n",
      "400/400 - 23s - loss: 0.4935 - accuracy: 0.7495 - val_loss: 0.5294 - val_accuracy: 0.7486\n",
      "Epoch 5/15\n",
      "400/400 - 23s - loss: 0.4785 - accuracy: 0.7587 - val_loss: 0.5405 - val_accuracy: 0.7467\n",
      "Epoch 6/15\n",
      "400/400 - 23s - loss: 0.4646 - accuracy: 0.7691 - val_loss: 0.5455 - val_accuracy: 0.7471\n",
      "Epoch 7/15\n",
      "400/400 - 23s - loss: 0.4623 - accuracy: 0.7717 - val_loss: 0.5429 - val_accuracy: 0.7445\n",
      "Epoch 8/15\n",
      "400/400 - 23s - loss: 0.4549 - accuracy: 0.7767 - val_loss: 0.5551 - val_accuracy: 0.7430\n",
      "WARNING:tensorflow:sample_weight modes were coerced from\n",
      "  ...\n",
      "    to  \n",
      "  ['...']\n",
      "WARNING:tensorflow:sample_weight modes were coerced from\n",
      "  ...\n",
      "    to  \n",
      "  ['...']\n",
      "Train for 400 steps, validate for 171 steps\n",
      "Epoch 1/15\n",
      "400/400 - 24s - loss: 7.5489 - accuracy: 0.6705 - val_loss: 0.5791 - val_accuracy: 0.7173\n",
      "Epoch 2/15\n",
      "400/400 - 23s - loss: 0.5368 - accuracy: 0.7419 - val_loss: 0.5264 - val_accuracy: 0.7354\n",
      "Epoch 3/15\n",
      "400/400 - 23s - loss: 0.4957 - accuracy: 0.7610 - val_loss: 0.5220 - val_accuracy: 0.7374\n",
      "Epoch 4/15\n",
      "400/400 - 23s - loss: 0.4780 - accuracy: 0.7688 - val_loss: 0.5225 - val_accuracy: 0.7392\n",
      "Epoch 5/15\n",
      "400/400 - 23s - loss: 0.4689 - accuracy: 0.7735 - val_loss: 0.5412 - val_accuracy: 0.7337\n",
      "Epoch 6/15\n",
      "400/400 - 23s - loss: 0.4787 - accuracy: 0.7662 - val_loss: 0.5406 - val_accuracy: 0.7287\n",
      "Epoch 7/15\n",
      "400/400 - 23s - loss: 0.4816 - accuracy: 0.7629 - val_loss: 0.5456 - val_accuracy: 0.7182\n",
      "Epoch 8/15\n",
      "400/400 - 23s - loss: 0.4691 - accuracy: 0.7681 - val_loss: 0.5459 - val_accuracy: 0.7173\n",
      "WARNING:tensorflow:sample_weight modes were coerced from\n",
      "  ...\n",
      "    to  \n",
      "  ['...']\n",
      "WARNING:tensorflow:sample_weight modes were coerced from\n",
      "  ...\n",
      "    to  \n",
      "  ['...']\n",
      "Train for 400 steps, validate for 171 steps\n",
      "Epoch 1/15\n",
      "400/400 - 24s - loss: 9.5283 - accuracy: 0.6579 - val_loss: 0.5801 - val_accuracy: 0.7027\n",
      "Epoch 2/15\n",
      "400/400 - 23s - loss: 0.5484 - accuracy: 0.7216 - val_loss: 0.5377 - val_accuracy: 0.7208\n",
      "Epoch 3/15\n",
      "400/400 - 23s - loss: 0.5115 - accuracy: 0.7371 - val_loss: 0.5335 - val_accuracy: 0.7285\n",
      "Epoch 4/15\n",
      "400/400 - 23s - loss: 0.4913 - accuracy: 0.7496 - val_loss: 0.5386 - val_accuracy: 0.7397\n",
      "Epoch 5/15\n",
      "400/400 - 23s - loss: 0.4782 - accuracy: 0.7570 - val_loss: 0.5424 - val_accuracy: 0.7463\n",
      "Epoch 6/15\n",
      "400/400 - 23s - loss: 0.4781 - accuracy: 0.7558 - val_loss: 0.5305 - val_accuracy: 0.7484\n",
      "Epoch 7/15\n",
      "400/400 - 23s - loss: 0.4725 - accuracy: 0.7623 - val_loss: 0.5353 - val_accuracy: 0.7474\n",
      "Epoch 8/15\n",
      "400/400 - 24s - loss: 0.4635 - accuracy: 0.7689 - val_loss: 0.5388 - val_accuracy: 0.7503\n",
      "Epoch 9/15\n",
      "400/400 - 23s - loss: 0.4475 - accuracy: 0.7802 - val_loss: 0.5503 - val_accuracy: 0.7555\n",
      "Epoch 10/15\n",
      "400/400 - 23s - loss: 0.4367 - accuracy: 0.7875 - val_loss: 0.5718 - val_accuracy: 0.7552\n",
      "Epoch 11/15\n",
      "400/400 - 23s - loss: 0.4250 - accuracy: 0.7950 - val_loss: 0.5876 - val_accuracy: 0.7533\n",
      "Epoch 12/15\n",
      "400/400 - 23s - loss: 0.4406 - accuracy: 0.7876 - val_loss: 0.6111 - val_accuracy: 0.7484\n",
      "Epoch 13/15\n",
      "400/400 - 23s - loss: 0.4300 - accuracy: 0.7935 - val_loss: 0.6175 - val_accuracy: 0.7496\n",
      "WARNING:tensorflow:sample_weight modes were coerced from\n",
      "  ...\n",
      "    to  \n",
      "  ['...']\n",
      "WARNING:tensorflow:sample_weight modes were coerced from\n",
      "  ...\n",
      "    to  \n",
      "  ['...']\n",
      "Train for 400 steps, validate for 171 steps\n",
      "Epoch 1/15\n",
      "400/400 - 24s - loss: 6.2574 - accuracy: 0.6190 - val_loss: 0.5974 - val_accuracy: 0.6939\n",
      "Epoch 2/15\n",
      "400/400 - 23s - loss: 0.5604 - accuracy: 0.7129 - val_loss: 0.5537 - val_accuracy: 0.7265\n",
      "Epoch 3/15\n",
      "400/400 - 23s - loss: 0.5288 - accuracy: 0.7280 - val_loss: 0.5527 - val_accuracy: 0.7258\n",
      "Epoch 4/15\n",
      "400/400 - 23s - loss: 0.5110 - accuracy: 0.7362 - val_loss: 0.5616 - val_accuracy: 0.7284\n",
      "Epoch 5/15\n",
      "400/400 - 23s - loss: 0.4940 - accuracy: 0.7456 - val_loss: 0.5718 - val_accuracy: 0.7285\n",
      "Epoch 6/15\n",
      "400/400 - 23s - loss: 0.4811 - accuracy: 0.7529 - val_loss: 0.5942 - val_accuracy: 0.7280\n",
      "Epoch 7/15\n",
      "400/400 - 23s - loss: 0.4716 - accuracy: 0.7588 - val_loss: 0.6222 - val_accuracy: 0.7154\n",
      "Epoch 8/15\n",
      "400/400 - 23s - loss: 0.4625 - accuracy: 0.7646 - val_loss: 0.6262 - val_accuracy: 0.7124\n",
      "Epoch 9/15\n",
      "400/400 - 23s - loss: 0.4577 - accuracy: 0.7687 - val_loss: 0.6559 - val_accuracy: 0.7136\n",
      "WARNING:tensorflow:sample_weight modes were coerced from\n",
      "  ...\n",
      "    to  \n",
      "  ['...']\n",
      "WARNING:tensorflow:sample_weight modes were coerced from\n",
      "  ...\n",
      "    to  \n",
      "  ['...']\n",
      "Train for 400 steps, validate for 171 steps\n",
      "Epoch 1/15\n",
      "400/400 - 24s - loss: 9.5825 - accuracy: 0.6756 - val_loss: 0.6279 - val_accuracy: 0.7069\n",
      "Epoch 2/15\n",
      "400/400 - 23s - loss: 0.5644 - accuracy: 0.7308 - val_loss: 0.5491 - val_accuracy: 0.7318\n",
      "Epoch 3/15\n",
      "400/400 - 23s - loss: 0.5113 - accuracy: 0.7505 - val_loss: 0.5287 - val_accuracy: 0.7455\n",
      "Epoch 4/15\n",
      "400/400 - 23s - loss: 0.4788 - accuracy: 0.7660 - val_loss: 0.5309 - val_accuracy: 0.7535\n",
      "Epoch 5/15\n",
      "400/400 - 23s - loss: 0.4546 - accuracy: 0.7795 - val_loss: 0.5415 - val_accuracy: 0.7564\n",
      "Epoch 6/15\n",
      "400/400 - 23s - loss: 0.4347 - accuracy: 0.7893 - val_loss: 0.5704 - val_accuracy: 0.7524\n",
      "Epoch 7/15\n",
      "400/400 - 23s - loss: 0.4168 - accuracy: 0.7993 - val_loss: 0.6197 - val_accuracy: 0.7502\n",
      "Epoch 8/15\n",
      "400/400 - 24s - loss: 0.4003 - accuracy: 0.8096 - val_loss: 0.6525 - val_accuracy: 0.7490\n",
      "Epoch 9/15\n",
      "400/400 - 23s - loss: 0.3867 - accuracy: 0.8178 - val_loss: 0.7470 - val_accuracy: 0.7390\n"
     ]
    },
    {
     "data": {
      "text/html": [
       "<span style=\"color:#4527A0\"><h1 style=\"font-size:18px\">Trial complete</h1></span>"
      ],
      "text/plain": [
       "<IPython.core.display.HTML object>"
      ]
     },
     "metadata": {},
     "output_type": "display_data"
    },
    {
     "data": {
      "text/html": [
       "<span style=\"color:#4527A0\"><h1 style=\"font-size:18px\">Trial summary</h1></span>"
      ],
      "text/plain": [
       "<IPython.core.display.HTML object>"
      ]
     },
     "metadata": {},
     "output_type": "display_data"
    },
    {
     "data": {
      "text/html": [
       "<span style=\"color:cyan\"> |-Trial ID: 3e6073c5970f0c9b777e77637f8db28a</span>"
      ],
      "text/plain": [
       "<IPython.core.display.HTML object>"
      ]
     },
     "metadata": {},
     "output_type": "display_data"
    },
    {
     "data": {
      "text/html": [
       "<span style=\"color:cyan\"> |-Score: 0.7474285960197449</span>"
      ],
      "text/plain": [
       "<IPython.core.display.HTML object>"
      ]
     },
     "metadata": {},
     "output_type": "display_data"
    },
    {
     "data": {
      "text/html": [
       "<span style=\"color:cyan\"> |-Best step: 0</span>"
      ],
      "text/plain": [
       "<IPython.core.display.HTML object>"
      ]
     },
     "metadata": {},
     "output_type": "display_data"
    },
    {
     "data": {
      "text/html": [
       "<span style=\"color:#7E57C2\"><h2 style=\"font-size:16px\">Hyperparameters:</h2></span>"
      ],
      "text/plain": [
       "<IPython.core.display.HTML object>"
      ]
     },
     "metadata": {},
     "output_type": "display_data"
    },
    {
     "data": {
      "text/html": [
       "<span style=\"color:cyan\"> |-conv_filter_1: 16</span>"
      ],
      "text/plain": [
       "<IPython.core.display.HTML object>"
      ]
     },
     "metadata": {},
     "output_type": "display_data"
    },
    {
     "data": {
      "text/html": [
       "<span style=\"color:blue\"> |-conv_kernel_1: 5</span>"
      ],
      "text/plain": [
       "<IPython.core.display.HTML object>"
      ]
     },
     "metadata": {},
     "output_type": "display_data"
    },
    {
     "name": "stdout",
     "output_type": "stream",
     "text": [
      "WARNING:tensorflow:sample_weight modes were coerced from\n",
      "  ...\n",
      "    to  \n",
      "  ['...']\n",
      "WARNING:tensorflow:sample_weight modes were coerced from\n",
      "  ...\n",
      "    to  \n",
      "  ['...']\n",
      "Train for 400 steps, validate for 171 steps\n",
      "Epoch 1/15\n",
      "400/400 - 41s - loss: 7.0469 - accuracy: 0.5943 - val_loss: 0.6205 - val_accuracy: 0.5916\n",
      "Epoch 2/15\n",
      "400/400 - 40s - loss: 0.5900 - accuracy: 0.6499 - val_loss: 0.5980 - val_accuracy: 0.6746\n",
      "Epoch 3/15\n",
      "400/400 - 40s - loss: 0.5645 - accuracy: 0.6910 - val_loss: 0.5856 - val_accuracy: 0.6645\n",
      "Epoch 4/15\n",
      "400/400 - 40s - loss: 0.5494 - accuracy: 0.7064 - val_loss: 0.5694 - val_accuracy: 0.6947\n",
      "Epoch 5/15\n",
      "400/400 - 40s - loss: 0.5336 - accuracy: 0.7211 - val_loss: 0.5705 - val_accuracy: 0.7057\n",
      "Epoch 6/15\n",
      "400/400 - 40s - loss: 0.5166 - accuracy: 0.7360 - val_loss: 0.5326 - val_accuracy: 0.7376\n",
      "Epoch 7/15\n",
      "400/400 - 41s - loss: 0.5039 - accuracy: 0.7477 - val_loss: 0.5243 - val_accuracy: 0.7429\n",
      "Epoch 8/15\n",
      "400/400 - 41s - loss: 0.4994 - accuracy: 0.7517 - val_loss: 0.5147 - val_accuracy: 0.7445\n",
      "Epoch 9/15\n",
      "400/400 - 40s - loss: 0.4981 - accuracy: 0.7546 - val_loss: 0.5165 - val_accuracy: 0.7434\n",
      "Epoch 10/15\n",
      "400/400 - 40s - loss: 0.4933 - accuracy: 0.7589 - val_loss: 0.5199 - val_accuracy: 0.7378\n",
      "Epoch 11/15\n",
      "400/400 - 40s - loss: 0.4950 - accuracy: 0.7583 - val_loss: 0.5134 - val_accuracy: 0.7494\n",
      "Epoch 12/15\n",
      "400/400 - 45s - loss: 0.4892 - accuracy: 0.7610 - val_loss: 0.5241 - val_accuracy: 0.7483\n",
      "Epoch 13/15\n",
      "400/400 - 40s - loss: 0.4873 - accuracy: 0.7604 - val_loss: 0.5240 - val_accuracy: 0.7495\n",
      "Epoch 14/15\n",
      "400/400 - 40s - loss: 0.4826 - accuracy: 0.7649 - val_loss: 0.5499 - val_accuracy: 0.7375\n",
      "Epoch 15/15\n",
      "400/400 - 40s - loss: 0.4842 - accuracy: 0.7625 - val_loss: 0.5324 - val_accuracy: 0.7424\n",
      "WARNING:tensorflow:sample_weight modes were coerced from\n",
      "  ...\n",
      "    to  \n",
      "  ['...']\n",
      "WARNING:tensorflow:sample_weight modes were coerced from\n",
      "  ...\n",
      "    to  \n",
      "  ['...']\n",
      "Train for 400 steps, validate for 171 steps\n",
      "Epoch 1/15\n",
      "400/400 - 40s - loss: 8.5867 - accuracy: 0.5936 - val_loss: 0.6412 - val_accuracy: 0.5921\n",
      "Epoch 2/15\n",
      "400/400 - 40s - loss: 0.6421 - accuracy: 0.5948 - val_loss: 0.6441 - val_accuracy: 0.5915\n",
      "Epoch 3/15\n",
      "400/400 - 40s - loss: 0.6314 - accuracy: 0.5950 - val_loss: 0.6352 - val_accuracy: 0.5919\n",
      "Epoch 4/15\n",
      "400/400 - 40s - loss: 0.6222 - accuracy: 0.6026 - val_loss: 0.6405 - val_accuracy: 0.6213\n",
      "Epoch 5/15\n",
      "400/400 - 51s - loss: 0.6018 - accuracy: 0.6407 - val_loss: 0.6362 - val_accuracy: 0.6670\n",
      "Epoch 6/15\n",
      "400/400 - 40s - loss: 0.5774 - accuracy: 0.6770 - val_loss: 0.5666 - val_accuracy: 0.6768\n",
      "Epoch 7/15\n",
      "400/400 - 41s - loss: 0.5337 - accuracy: 0.7242 - val_loss: 0.5347 - val_accuracy: 0.7205\n",
      "Epoch 8/15\n",
      "400/400 - 40s - loss: 0.5202 - accuracy: 0.7379 - val_loss: 0.5192 - val_accuracy: 0.7424\n",
      "Epoch 9/15\n",
      "400/400 - 49s - loss: 0.5083 - accuracy: 0.7447 - val_loss: 0.5190 - val_accuracy: 0.7555\n",
      "Epoch 10/15\n",
      "400/400 - 40s - loss: 0.5105 - accuracy: 0.7451 - val_loss: 0.5188 - val_accuracy: 0.7508\n",
      "Epoch 11/15\n",
      "400/400 - 40s - loss: 0.5078 - accuracy: 0.7476 - val_loss: 0.5174 - val_accuracy: 0.7423\n",
      "Epoch 12/15\n",
      "400/400 - 40s - loss: 0.5062 - accuracy: 0.7461 - val_loss: 0.5212 - val_accuracy: 0.7535\n",
      "Epoch 13/15\n",
      "400/400 - 40s - loss: 0.5192 - accuracy: 0.7359 - val_loss: 0.5517 - val_accuracy: 0.7205\n",
      "WARNING:tensorflow:sample_weight modes were coerced from\n",
      "  ...\n",
      "    to  \n",
      "  ['...']\n",
      "WARNING:tensorflow:sample_weight modes were coerced from\n",
      "  ...\n",
      "    to  \n",
      "  ['...']\n",
      "Train for 400 steps, validate for 171 steps\n",
      "Epoch 1/15\n",
      "400/400 - 41s - loss: 11.5702 - accuracy: 0.6321 - val_loss: 0.5841 - val_accuracy: 0.7049\n",
      "Epoch 2/15\n",
      "400/400 - 40s - loss: 0.5544 - accuracy: 0.7083 - val_loss: 0.5524 - val_accuracy: 0.6879\n",
      "Epoch 3/15\n",
      "400/400 - 40s - loss: 0.5379 - accuracy: 0.7203 - val_loss: 0.5479 - val_accuracy: 0.7081\n",
      "Epoch 4/15\n",
      "400/400 - 40s - loss: 0.5441 - accuracy: 0.7089 - val_loss: 0.5656 - val_accuracy: 0.7225\n",
      "Epoch 5/15\n",
      "400/400 - 40s - loss: 0.5333 - accuracy: 0.7252 - val_loss: 0.5566 - val_accuracy: 0.6965\n",
      "Epoch 6/15\n",
      "400/400 - 40s - loss: 0.5352 - accuracy: 0.7211 - val_loss: 0.5965 - val_accuracy: 0.6668\n",
      "Epoch 7/15\n",
      "400/400 - 40s - loss: 0.5549 - accuracy: 0.6922 - val_loss: 0.6025 - val_accuracy: 0.6999\n",
      "Epoch 8/15\n",
      "400/400 - 40s - loss: 0.5282 - accuracy: 0.7212 - val_loss: 0.5663 - val_accuracy: 0.7200\n",
      "WARNING:tensorflow:sample_weight modes were coerced from\n",
      "  ...\n",
      "    to  \n",
      "  ['...']\n",
      "WARNING:tensorflow:sample_weight modes were coerced from\n",
      "  ...\n",
      "    to  \n",
      "  ['...']\n",
      "Train for 400 steps, validate for 171 steps\n",
      "Epoch 1/15\n",
      "400/400 - 41s - loss: 6.5856 - accuracy: 0.5924 - val_loss: 0.6064 - val_accuracy: 0.5920\n",
      "Epoch 2/15\n",
      "400/400 - 40s - loss: 0.6047 - accuracy: 0.5947 - val_loss: 0.6051 - val_accuracy: 0.5905\n",
      "Epoch 3/15\n",
      "400/400 - 40s - loss: 0.5906 - accuracy: 0.5959 - val_loss: 0.6058 - val_accuracy: 0.5881\n",
      "Epoch 4/15\n",
      "400/400 - 40s - loss: 0.5725 - accuracy: 0.5964 - val_loss: 0.5934 - val_accuracy: 0.5885\n",
      "Epoch 5/15\n",
      "400/400 - 40s - loss: 0.5618 - accuracy: 0.6434 - val_loss: 0.6118 - val_accuracy: 0.6639\n",
      "Epoch 6/15\n",
      "400/400 - 40s - loss: 0.5572 - accuracy: 0.6832 - val_loss: 0.6282 - val_accuracy: 0.6806\n",
      "Epoch 7/15\n",
      "400/400 - 40s - loss: 0.5612 - accuracy: 0.6890 - val_loss: 0.6472 - val_accuracy: 0.6806\n",
      "Epoch 8/15\n",
      "400/400 - 40s - loss: 0.5608 - accuracy: 0.6944 - val_loss: 0.6278 - val_accuracy: 0.6750\n",
      "Epoch 9/15\n",
      "400/400 - 40s - loss: 0.5622 - accuracy: 0.6934 - val_loss: 0.6215 - val_accuracy: 0.6893\n",
      "Epoch 10/15\n",
      "400/400 - 40s - loss: 0.5677 - accuracy: 0.6894 - val_loss: 0.6449 - val_accuracy: 0.6580\n",
      "Epoch 11/15\n",
      "400/400 - 40s - loss: 0.5641 - accuracy: 0.6912 - val_loss: 0.5949 - val_accuracy: 0.6699\n",
      "Epoch 12/15\n",
      "400/400 - 40s - loss: 0.5598 - accuracy: 0.6934 - val_loss: 0.5912 - val_accuracy: 0.6791\n",
      "Epoch 13/15\n",
      "400/400 - 40s - loss: 0.5575 - accuracy: 0.6978 - val_loss: 0.5865 - val_accuracy: 0.6919\n",
      "Epoch 14/15\n",
      "400/400 - 40s - loss: 0.5539 - accuracy: 0.7033 - val_loss: 0.5906 - val_accuracy: 0.6906\n",
      "Epoch 15/15\n",
      "400/400 - 40s - loss: 0.5592 - accuracy: 0.7010 - val_loss: 0.5867 - val_accuracy: 0.6859\n",
      "WARNING:tensorflow:sample_weight modes were coerced from\n",
      "  ...\n",
      "    to  \n",
      "  ['...']\n",
      "WARNING:tensorflow:sample_weight modes were coerced from\n",
      "  ...\n",
      "    to  \n",
      "  ['...']\n",
      "Train for 400 steps, validate for 171 steps\n",
      "Epoch 1/15\n",
      "400/400 - 41s - loss: 6.0393 - accuracy: 0.5930 - val_loss: 0.6436 - val_accuracy: 0.5917\n",
      "Epoch 2/15\n",
      "400/400 - 40s - loss: 0.6402 - accuracy: 0.5946 - val_loss: 0.6358 - val_accuracy: 0.5917\n",
      "Epoch 3/15\n",
      "400/400 - 40s - loss: 0.6165 - accuracy: 0.6286 - val_loss: 0.6013 - val_accuracy: 0.6554\n",
      "Epoch 4/15\n",
      "400/400 - 40s - loss: 0.5914 - accuracy: 0.6750 - val_loss: 0.5852 - val_accuracy: 0.6809\n",
      "Epoch 5/15\n",
      "400/400 - 40s - loss: 0.5794 - accuracy: 0.6856 - val_loss: 0.5798 - val_accuracy: 0.6844\n",
      "Epoch 6/15\n",
      "400/400 - 40s - loss: 0.5606 - accuracy: 0.6962 - val_loss: 0.5467 - val_accuracy: 0.7144\n",
      "Epoch 7/15\n",
      "400/400 - 40s - loss: 0.5315 - accuracy: 0.7251 - val_loss: 0.5238 - val_accuracy: 0.7416\n",
      "Epoch 8/15\n",
      "400/400 - 40s - loss: 0.5179 - accuracy: 0.7397 - val_loss: 0.5145 - val_accuracy: 0.7411\n",
      "Epoch 9/15\n",
      "400/400 - 40s - loss: 0.5111 - accuracy: 0.7453 - val_loss: 0.5200 - val_accuracy: 0.7365\n",
      "Epoch 10/15\n",
      "400/400 - 40s - loss: 0.5070 - accuracy: 0.7479 - val_loss: 0.5235 - val_accuracy: 0.7389\n",
      "Epoch 11/15\n",
      "400/400 - 40s - loss: 0.5017 - accuracy: 0.7503 - val_loss: 0.5197 - val_accuracy: 0.7416\n",
      "Epoch 12/15\n",
      "400/400 - 40s - loss: 0.4943 - accuracy: 0.7538 - val_loss: 0.5427 - val_accuracy: 0.7455\n",
      "Epoch 13/15\n",
      "400/400 - 40s - loss: 0.4878 - accuracy: 0.7591 - val_loss: 0.5242 - val_accuracy: 0.7438\n",
      "Epoch 14/15\n",
      "400/400 - 40s - loss: 0.4951 - accuracy: 0.7542 - val_loss: 0.5251 - val_accuracy: 0.7530\n",
      "Epoch 15/15\n",
      "400/400 - 40s - loss: 0.5017 - accuracy: 0.7515 - val_loss: 0.5370 - val_accuracy: 0.7174\n",
      "WARNING:tensorflow:sample_weight modes were coerced from\n",
      "  ...\n",
      "    to  \n",
      "  ['...']\n",
      "WARNING:tensorflow:sample_weight modes were coerced from\n",
      "  ...\n",
      "    to  \n",
      "  ['...']\n",
      "Train for 400 steps, validate for 171 steps\n",
      "Epoch 1/15\n",
      "400/400 - 41s - loss: 9.2716 - accuracy: 0.5933 - val_loss: 0.6652 - val_accuracy: 0.5915\n",
      "Epoch 2/15\n",
      "400/400 - 40s - loss: 0.6287 - accuracy: 0.5997 - val_loss: 0.6070 - val_accuracy: 0.6271\n",
      "Epoch 3/15\n",
      "400/400 - 40s - loss: 0.5679 - accuracy: 0.6816 - val_loss: 0.5462 - val_accuracy: 0.7104\n",
      "Epoch 4/15\n",
      "400/400 - 40s - loss: 0.5340 - accuracy: 0.7263 - val_loss: 0.5400 - val_accuracy: 0.7259\n",
      "Epoch 5/15\n",
      "400/400 - 40s - loss: 0.5267 - accuracy: 0.7308 - val_loss: 0.5370 - val_accuracy: 0.7377\n",
      "Epoch 6/15\n",
      "400/400 - 40s - loss: 0.5203 - accuracy: 0.7353 - val_loss: 0.5371 - val_accuracy: 0.7389\n",
      "Epoch 7/15\n",
      "400/400 - 40s - loss: 0.5106 - accuracy: 0.7420 - val_loss: 0.5280 - val_accuracy: 0.7460\n",
      "Epoch 8/15\n",
      "400/400 - 40s - loss: 0.5109 - accuracy: 0.7417 - val_loss: 0.5332 - val_accuracy: 0.7446\n",
      "Epoch 9/15\n",
      "400/400 - 40s - loss: 0.5112 - accuracy: 0.7406 - val_loss: 0.5317 - val_accuracy: 0.7469\n",
      "Epoch 10/15\n",
      "400/400 - 40s - loss: 0.5328 - accuracy: 0.7241 - val_loss: 0.5393 - val_accuracy: 0.7269\n",
      "Epoch 11/15\n",
      "400/400 - 40s - loss: 0.5280 - accuracy: 0.7299 - val_loss: 0.5265 - val_accuracy: 0.7376\n",
      "Epoch 12/15\n",
      "400/400 - 40s - loss: 0.5218 - accuracy: 0.7363 - val_loss: 0.5163 - val_accuracy: 0.7464\n",
      "Epoch 13/15\n",
      "400/400 - 40s - loss: 0.5134 - accuracy: 0.7431 - val_loss: 0.5177 - val_accuracy: 0.7452\n"
     ]
    },
    {
     "data": {
      "text/html": [
       "<span style=\"color:#4527A0\"><h1 style=\"font-size:18px\">Trial complete</h1></span>"
      ],
      "text/plain": [
       "<IPython.core.display.HTML object>"
      ]
     },
     "metadata": {},
     "output_type": "display_data"
    },
    {
     "data": {
      "text/html": [
       "<span style=\"color:#4527A0\"><h1 style=\"font-size:18px\">Trial summary</h1></span>"
      ],
      "text/plain": [
       "<IPython.core.display.HTML object>"
      ]
     },
     "metadata": {},
     "output_type": "display_data"
    },
    {
     "data": {
      "text/html": [
       "<span style=\"color:cyan\"> |-Trial ID: 8a5c13ce6fada83202bf857b39e1450f</span>"
      ],
      "text/plain": [
       "<IPython.core.display.HTML object>"
      ]
     },
     "metadata": {},
     "output_type": "display_data"
    },
    {
     "data": {
      "text/html": [
       "<span style=\"color:cyan\"> |-Score: 0.7365486025810242</span>"
      ],
      "text/plain": [
       "<IPython.core.display.HTML object>"
      ]
     },
     "metadata": {},
     "output_type": "display_data"
    },
    {
     "data": {
      "text/html": [
       "<span style=\"color:cyan\"> |-Best step: 0</span>"
      ],
      "text/plain": [
       "<IPython.core.display.HTML object>"
      ]
     },
     "metadata": {},
     "output_type": "display_data"
    },
    {
     "data": {
      "text/html": [
       "<span style=\"color:#7E57C2\"><h2 style=\"font-size:16px\">Hyperparameters:</h2></span>"
      ],
      "text/plain": [
       "<IPython.core.display.HTML object>"
      ]
     },
     "metadata": {},
     "output_type": "display_data"
    },
    {
     "data": {
      "text/html": [
       "<span style=\"color:cyan\"> |-conv_filter_1: 64</span>"
      ],
      "text/plain": [
       "<IPython.core.display.HTML object>"
      ]
     },
     "metadata": {},
     "output_type": "display_data"
    },
    {
     "data": {
      "text/html": [
       "<span style=\"color:blue\"> |-conv_kernel_1: 7</span>"
      ],
      "text/plain": [
       "<IPython.core.display.HTML object>"
      ]
     },
     "metadata": {},
     "output_type": "display_data"
    },
    {
     "name": "stdout",
     "output_type": "stream",
     "text": [
      "WARNING:tensorflow:sample_weight modes were coerced from\n",
      "  ...\n",
      "    to  \n",
      "  ['...']\n",
      "WARNING:tensorflow:sample_weight modes were coerced from\n",
      "  ...\n",
      "    to  \n",
      "  ['...']\n",
      "Train for 400 steps, validate for 171 steps\n",
      "Epoch 1/15\n",
      "400/400 - 28s - loss: 24.1741 - accuracy: 0.6974 - val_loss: 0.5578 - val_accuracy: 0.7368\n",
      "Epoch 2/15\n",
      "400/400 - 27s - loss: 0.5085 - accuracy: 0.7601 - val_loss: 0.5174 - val_accuracy: 0.7576\n",
      "Epoch 3/15\n",
      "400/400 - 27s - loss: 0.4519 - accuracy: 0.7851 - val_loss: 0.5188 - val_accuracy: 0.7550\n",
      "Epoch 4/15\n",
      "400/400 - 27s - loss: 0.4086 - accuracy: 0.8072 - val_loss: 0.5226 - val_accuracy: 0.7628\n",
      "Epoch 5/15\n",
      "400/400 - 27s - loss: 0.3658 - accuracy: 0.8290 - val_loss: 0.5778 - val_accuracy: 0.7544\n",
      "Epoch 6/15\n",
      "400/400 - 27s - loss: 0.3479 - accuracy: 0.8394 - val_loss: 0.5627 - val_accuracy: 0.7626\n",
      "Epoch 7/15\n",
      "400/400 - 27s - loss: 0.3405 - accuracy: 0.8448 - val_loss: 0.6576 - val_accuracy: 0.7357\n",
      "Epoch 8/15\n",
      "400/400 - 27s - loss: 0.3171 - accuracy: 0.8575 - val_loss: 0.6451 - val_accuracy: 0.7439\n",
      "WARNING:tensorflow:sample_weight modes were coerced from\n",
      "  ...\n",
      "    to  \n",
      "  ['...']\n",
      "WARNING:tensorflow:sample_weight modes were coerced from\n",
      "  ...\n",
      "    to  \n",
      "  ['...']\n",
      "Train for 400 steps, validate for 171 steps\n",
      "Epoch 1/15\n",
      "400/400 - 27s - loss: 28.4718 - accuracy: 0.7063 - val_loss: 0.5280 - val_accuracy: 0.7588\n",
      "Epoch 2/15\n",
      "400/400 - 27s - loss: 0.4862 - accuracy: 0.7744 - val_loss: 0.4969 - val_accuracy: 0.7713\n",
      "Epoch 3/15\n",
      "400/400 - 27s - loss: 0.4290 - accuracy: 0.7979 - val_loss: 0.5041 - val_accuracy: 0.7765\n",
      "Epoch 4/15\n",
      "400/400 - 27s - loss: 0.3883 - accuracy: 0.8189 - val_loss: 0.5285 - val_accuracy: 0.7762\n",
      "Epoch 5/15\n",
      "400/400 - 27s - loss: 0.3702 - accuracy: 0.8287 - val_loss: 0.5545 - val_accuracy: 0.7721\n",
      "Epoch 6/15\n",
      "400/400 - 27s - loss: 0.3591 - accuracy: 0.8349 - val_loss: 0.6482 - val_accuracy: 0.7472\n",
      "Epoch 7/15\n",
      "400/400 - 27s - loss: 0.3340 - accuracy: 0.8480 - val_loss: 0.7254 - val_accuracy: 0.7381\n",
      "WARNING:tensorflow:sample_weight modes were coerced from\n",
      "  ...\n",
      "    to  \n",
      "  ['...']\n",
      "WARNING:tensorflow:sample_weight modes were coerced from\n",
      "  ...\n",
      "    to  \n",
      "  ['...']\n",
      "Train for 400 steps, validate for 171 steps\n",
      "Epoch 1/15\n",
      "400/400 - 27s - loss: 27.2938 - accuracy: 0.7066 - val_loss: 0.5284 - val_accuracy: 0.7620\n",
      "Epoch 2/15\n",
      "400/400 - 27s - loss: 0.4711 - accuracy: 0.7800 - val_loss: 0.5056 - val_accuracy: 0.7726\n",
      "Epoch 3/15\n",
      "400/400 - 27s - loss: 0.4055 - accuracy: 0.8097 - val_loss: 0.5249 - val_accuracy: 0.7707\n",
      "Epoch 4/15\n",
      "400/400 - 27s - loss: 0.3508 - accuracy: 0.8404 - val_loss: 0.5615 - val_accuracy: 0.7649\n",
      "Epoch 5/15\n",
      "400/400 - 27s - loss: 0.3018 - accuracy: 0.8677 - val_loss: 0.6175 - val_accuracy: 0.7560\n",
      "Epoch 6/15\n",
      "400/400 - 27s - loss: 0.2873 - accuracy: 0.8750 - val_loss: 0.6662 - val_accuracy: 0.7642\n",
      "WARNING:tensorflow:sample_weight modes were coerced from\n",
      "  ...\n",
      "    to  \n",
      "  ['...']\n",
      "WARNING:tensorflow:sample_weight modes were coerced from\n",
      "  ...\n",
      "    to  \n",
      "  ['...']\n",
      "Train for 400 steps, validate for 171 steps\n",
      "Epoch 1/15\n",
      "400/400 - 27s - loss: 19.9260 - accuracy: 0.7027 - val_loss: 0.5933 - val_accuracy: 0.7551\n",
      "Epoch 2/15\n",
      "400/400 - 27s - loss: 0.4889 - accuracy: 0.7755 - val_loss: 0.5496 - val_accuracy: 0.7660\n",
      "Epoch 3/15\n",
      "400/400 - 27s - loss: 0.4012 - accuracy: 0.8145 - val_loss: 0.5411 - val_accuracy: 0.7669\n",
      "Epoch 4/15\n",
      "400/400 - 27s - loss: 0.3468 - accuracy: 0.8448 - val_loss: 0.5676 - val_accuracy: 0.7659\n",
      "Epoch 5/15\n",
      "400/400 - 27s - loss: 0.3424 - accuracy: 0.8471 - val_loss: 0.6118 - val_accuracy: 0.7716\n",
      "Epoch 6/15\n",
      "400/400 - 27s - loss: 0.3147 - accuracy: 0.8612 - val_loss: 0.6762 - val_accuracy: 0.7418\n",
      "Epoch 7/15\n",
      "400/400 - 27s - loss: 0.2818 - accuracy: 0.8752 - val_loss: 0.6914 - val_accuracy: 0.7467\n",
      "Epoch 8/15\n",
      "400/400 - 27s - loss: 0.2796 - accuracy: 0.8755 - val_loss: 0.7775 - val_accuracy: 0.7450\n",
      "Epoch 9/15\n",
      "400/400 - 27s - loss: 0.2995 - accuracy: 0.8673 - val_loss: 0.8053 - val_accuracy: 0.7467\n",
      "WARNING:tensorflow:sample_weight modes were coerced from\n",
      "  ...\n",
      "    to  \n",
      "  ['...']\n",
      "WARNING:tensorflow:sample_weight modes were coerced from\n",
      "  ...\n",
      "    to  \n",
      "  ['...']\n",
      "Train for 400 steps, validate for 171 steps\n",
      "Epoch 1/15\n",
      "400/400 - 27s - loss: 26.4086 - accuracy: 0.7143 - val_loss: 0.5399 - val_accuracy: 0.7601\n",
      "Epoch 2/15\n",
      "400/400 - 27s - loss: 0.4823 - accuracy: 0.7778 - val_loss: 0.5138 - val_accuracy: 0.7693\n",
      "Epoch 3/15\n",
      "400/400 - 27s - loss: 0.4251 - accuracy: 0.8011 - val_loss: 0.5274 - val_accuracy: 0.7688\n",
      "Epoch 4/15\n",
      "400/400 - 27s - loss: 0.3786 - accuracy: 0.8241 - val_loss: 0.5463 - val_accuracy: 0.7652\n",
      "Epoch 5/15\n",
      "400/400 - 27s - loss: 0.3439 - accuracy: 0.8434 - val_loss: 0.5882 - val_accuracy: 0.7606\n",
      "Epoch 6/15\n",
      "400/400 - 27s - loss: 0.3194 - accuracy: 0.8560 - val_loss: 0.6407 - val_accuracy: 0.7487\n",
      "WARNING:tensorflow:sample_weight modes were coerced from\n",
      "  ...\n",
      "    to  \n",
      "  ['...']\n",
      "WARNING:tensorflow:sample_weight modes were coerced from\n",
      "  ...\n",
      "    to  \n",
      "  ['...']\n",
      "Train for 400 steps, validate for 171 steps\n",
      "Epoch 1/15\n",
      "400/400 - 27s - loss: 27.7793 - accuracy: 0.7015 - val_loss: 0.5436 - val_accuracy: 0.7509\n",
      "Epoch 2/15\n",
      "400/400 - 27s - loss: 0.4901 - accuracy: 0.7697 - val_loss: 0.5129 - val_accuracy: 0.7604\n",
      "Epoch 3/15\n",
      "400/400 - 27s - loss: 0.4213 - accuracy: 0.7992 - val_loss: 0.5168 - val_accuracy: 0.7669\n",
      "Epoch 4/15\n",
      "400/400 - 27s - loss: 0.3680 - accuracy: 0.8286 - val_loss: 0.5449 - val_accuracy: 0.7633\n",
      "Epoch 5/15\n",
      "400/400 - 32s - loss: 0.3276 - accuracy: 0.8506 - val_loss: 0.5887 - val_accuracy: 0.7626\n",
      "Epoch 6/15\n",
      "400/400 - 27s - loss: 0.3219 - accuracy: 0.8558 - val_loss: 0.6963 - val_accuracy: 0.7471\n",
      "Epoch 7/15\n",
      "400/400 - 27s - loss: 0.3254 - accuracy: 0.8509 - val_loss: 0.7525 - val_accuracy: 0.7322\n"
     ]
    },
    {
     "data": {
      "text/html": [
       "<span style=\"color:#4527A0\"><h1 style=\"font-size:18px\">Trial complete</h1></span>"
      ],
      "text/plain": [
       "<IPython.core.display.HTML object>"
      ]
     },
     "metadata": {},
     "output_type": "display_data"
    },
    {
     "data": {
      "text/html": [
       "<span style=\"color:#4527A0\"><h1 style=\"font-size:18px\">Trial summary</h1></span>"
      ],
      "text/plain": [
       "<IPython.core.display.HTML object>"
      ]
     },
     "metadata": {},
     "output_type": "display_data"
    },
    {
     "data": {
      "text/html": [
       "<span style=\"color:cyan\"> |-Trial ID: 61ee903e9e10f3086a1e3976258f9486</span>"
      ],
      "text/plain": [
       "<IPython.core.display.HTML object>"
      ]
     },
     "metadata": {},
     "output_type": "display_data"
    },
    {
     "data": {
      "text/html": [
       "<span style=\"color:cyan\"> |-Score: 0.7699657082557678</span>"
      ],
      "text/plain": [
       "<IPython.core.display.HTML object>"
      ]
     },
     "metadata": {},
     "output_type": "display_data"
    },
    {
     "data": {
      "text/html": [
       "<span style=\"color:cyan\"> |-Best step: 0</span>"
      ],
      "text/plain": [
       "<IPython.core.display.HTML object>"
      ]
     },
     "metadata": {},
     "output_type": "display_data"
    },
    {
     "data": {
      "text/html": [
       "<span style=\"color:#7E57C2\"><h2 style=\"font-size:16px\">Hyperparameters:</h2></span>"
      ],
      "text/plain": [
       "<IPython.core.display.HTML object>"
      ]
     },
     "metadata": {},
     "output_type": "display_data"
    },
    {
     "data": {
      "text/html": [
       "<span style=\"color:cyan\"> |-conv_filter_1: 64</span>"
      ],
      "text/plain": [
       "<IPython.core.display.HTML object>"
      ]
     },
     "metadata": {},
     "output_type": "display_data"
    },
    {
     "data": {
      "text/html": [
       "<span style=\"color:blue\"> |-conv_kernel_1: 3</span>"
      ],
      "text/plain": [
       "<IPython.core.display.HTML object>"
      ]
     },
     "metadata": {},
     "output_type": "display_data"
    },
    {
     "name": "stdout",
     "output_type": "stream",
     "text": [
      "WARNING:tensorflow:sample_weight modes were coerced from\n",
      "  ...\n",
      "    to  \n",
      "  ['...']\n",
      "WARNING:tensorflow:sample_weight modes were coerced from\n",
      "  ...\n",
      "    to  \n",
      "  ['...']\n",
      "Train for 400 steps, validate for 171 steps\n",
      "Epoch 1/15\n",
      "400/400 - 38s - loss: 5.5101 - accuracy: 0.5924 - val_loss: 0.6549 - val_accuracy: 0.5918\n",
      "Epoch 2/15\n",
      "400/400 - 27s - loss: 0.6367 - accuracy: 0.6014 - val_loss: 0.6139 - val_accuracy: 0.6236\n",
      "Epoch 3/15\n",
      "400/400 - 24s - loss: 0.6052 - accuracy: 0.6537 - val_loss: 0.6408 - val_accuracy: 0.6395\n",
      "Epoch 4/15\n",
      "400/400 - 28s - loss: 0.5896 - accuracy: 0.6707 - val_loss: 0.6128 - val_accuracy: 0.6661\n",
      "Epoch 5/15\n",
      "400/400 - 23s - loss: 0.5787 - accuracy: 0.6766 - val_loss: 0.6575 - val_accuracy: 0.6704\n",
      "Epoch 6/15\n",
      "400/400 - 39s - loss: 0.5724 - accuracy: 0.6791 - val_loss: 0.7111 - val_accuracy: 0.6758\n",
      "Epoch 7/15\n",
      "400/400 - 24s - loss: 0.5743 - accuracy: 0.6767 - val_loss: 0.8193 - val_accuracy: 0.6692\n",
      "Epoch 8/15\n",
      "400/400 - 24s - loss: 0.5604 - accuracy: 0.6899 - val_loss: 0.7046 - val_accuracy: 0.6619\n",
      "Epoch 9/15\n",
      "400/400 - 24s - loss: 0.5410 - accuracy: 0.7077 - val_loss: 0.7604 - val_accuracy: 0.6755\n",
      "Epoch 10/15\n",
      "400/400 - 24s - loss: 0.5402 - accuracy: 0.7122 - val_loss: 0.5829 - val_accuracy: 0.6914\n",
      "Epoch 11/15\n",
      "400/400 - 24s - loss: 0.5366 - accuracy: 0.7158 - val_loss: 0.7117 - val_accuracy: 0.6760\n",
      "Epoch 12/15\n",
      "400/400 - 23s - loss: 0.5324 - accuracy: 0.7194 - val_loss: 0.7808 - val_accuracy: 0.6874\n",
      "Epoch 13/15\n",
      "400/400 - 23s - loss: 0.5338 - accuracy: 0.7187 - val_loss: 0.5648 - val_accuracy: 0.6622\n",
      "Epoch 14/15\n",
      "400/400 - 23s - loss: 0.5317 - accuracy: 0.7201 - val_loss: 0.6753 - val_accuracy: 0.6860\n",
      "WARNING:tensorflow:sample_weight modes were coerced from\n",
      "  ...\n",
      "    to  \n",
      "  ['...']\n",
      "WARNING:tensorflow:sample_weight modes were coerced from\n",
      "  ...\n",
      "    to  \n",
      "  ['...']\n",
      "Train for 400 steps, validate for 171 steps\n",
      "Epoch 1/15\n",
      "400/400 - 24s - loss: 3.9616 - accuracy: 0.6051 - val_loss: 0.5875 - val_accuracy: 0.6627\n",
      "Epoch 2/15\n",
      "400/400 - 23s - loss: 0.5741 - accuracy: 0.6865 - val_loss: 0.5785 - val_accuracy: 0.7083\n",
      "Epoch 3/15\n",
      "400/400 - 24s - loss: 0.5548 - accuracy: 0.7059 - val_loss: 0.5674 - val_accuracy: 0.7245\n",
      "Epoch 4/15\n",
      "400/400 - 24s - loss: 0.5443 - accuracy: 0.7162 - val_loss: 0.5522 - val_accuracy: 0.7286\n",
      "Epoch 5/15\n",
      "400/400 - 23s - loss: 0.5353 - accuracy: 0.7241 - val_loss: 0.5570 - val_accuracy: 0.7359\n",
      "Epoch 6/15\n",
      "400/400 - 24s - loss: 0.5283 - accuracy: 0.7287 - val_loss: 0.5564 - val_accuracy: 0.7360\n",
      "Epoch 7/15\n",
      "400/400 - 23s - loss: 0.5226 - accuracy: 0.7329 - val_loss: 0.5644 - val_accuracy: 0.7386\n",
      "Epoch 8/15\n",
      "400/400 - 23s - loss: 0.5175 - accuracy: 0.7368 - val_loss: 0.5613 - val_accuracy: 0.7433\n",
      "Epoch 9/15\n",
      "400/400 - 23s - loss: 0.5177 - accuracy: 0.7384 - val_loss: 0.5706 - val_accuracy: 0.7427\n",
      "Epoch 10/15\n",
      "400/400 - 23s - loss: 0.5149 - accuracy: 0.7411 - val_loss: 0.5496 - val_accuracy: 0.7454\n",
      "Epoch 11/15\n",
      "400/400 - 23s - loss: 0.5086 - accuracy: 0.7449 - val_loss: 0.5680 - val_accuracy: 0.7499\n",
      "Epoch 12/15\n",
      "400/400 - 23s - loss: 0.5040 - accuracy: 0.7463 - val_loss: 0.5629 - val_accuracy: 0.7517\n",
      "Epoch 13/15\n",
      "400/400 - 24s - loss: 0.5026 - accuracy: 0.7479 - val_loss: 0.5586 - val_accuracy: 0.7534\n",
      "Epoch 14/15\n",
      "400/400 - 23s - loss: 0.5036 - accuracy: 0.7470 - val_loss: 0.5635 - val_accuracy: 0.7472\n",
      "Epoch 15/15\n",
      "400/400 - 23s - loss: 0.5087 - accuracy: 0.7432 - val_loss: 0.5595 - val_accuracy: 0.7486\n",
      "WARNING:tensorflow:sample_weight modes were coerced from\n",
      "  ...\n",
      "    to  \n",
      "  ['...']\n",
      "WARNING:tensorflow:sample_weight modes were coerced from\n",
      "  ...\n",
      "    to  \n",
      "  ['...']\n",
      "Train for 400 steps, validate for 171 steps\n",
      "Epoch 1/15\n",
      "400/400 - 24s - loss: 7.5464 - accuracy: 0.5902 - val_loss: 0.6765 - val_accuracy: 0.5911\n",
      "Epoch 2/15\n",
      "400/400 - 23s - loss: 0.6731 - accuracy: 0.5946 - val_loss: 0.6695 - val_accuracy: 0.5916\n",
      "Epoch 3/15\n",
      "400/400 - 23s - loss: 0.6475 - accuracy: 0.5977 - val_loss: 0.6222 - val_accuracy: 0.6087\n",
      "Epoch 4/15\n",
      "400/400 - 23s - loss: 0.6161 - accuracy: 0.6304 - val_loss: 0.6338 - val_accuracy: 0.6247\n",
      "Epoch 5/15\n",
      "400/400 - 23s - loss: 0.6041 - accuracy: 0.6447 - val_loss: 0.6114 - val_accuracy: 0.6544\n",
      "Epoch 6/15\n",
      "400/400 - 23s - loss: 0.5878 - accuracy: 0.6600 - val_loss: 0.5934 - val_accuracy: 0.6822\n",
      "Epoch 7/15\n",
      "400/400 - 23s - loss: 0.5632 - accuracy: 0.6877 - val_loss: 0.5906 - val_accuracy: 0.6854\n",
      "Epoch 8/15\n",
      "400/400 - 23s - loss: 0.5479 - accuracy: 0.7048 - val_loss: 0.5978 - val_accuracy: 0.6909\n",
      "Epoch 9/15\n",
      "400/400 - 23s - loss: 0.5413 - accuracy: 0.7140 - val_loss: 0.6103 - val_accuracy: 0.6927\n",
      "Epoch 10/15\n",
      "400/400 - 23s - loss: 0.5389 - accuracy: 0.7174 - val_loss: 0.6145 - val_accuracy: 0.6875\n",
      "Epoch 11/15\n",
      "400/400 - 23s - loss: 0.5399 - accuracy: 0.7159 - val_loss: 0.6585 - val_accuracy: 0.6750\n",
      "Epoch 12/15\n",
      "400/400 - 23s - loss: 0.5434 - accuracy: 0.7131 - val_loss: 0.5732 - val_accuracy: 0.6835\n",
      "Epoch 13/15\n",
      "400/400 - 23s - loss: 0.5579 - accuracy: 0.7138 - val_loss: 0.5546 - val_accuracy: 0.7011\n",
      "Epoch 14/15\n",
      "400/400 - 24s - loss: 0.5504 - accuracy: 0.7193 - val_loss: 0.5476 - val_accuracy: 0.7104\n",
      "Epoch 15/15\n",
      "400/400 - 23s - loss: 0.5415 - accuracy: 0.7240 - val_loss: 0.6292 - val_accuracy: 0.7003\n",
      "WARNING:tensorflow:sample_weight modes were coerced from\n",
      "  ...\n",
      "    to  \n",
      "  ['...']\n",
      "WARNING:tensorflow:sample_weight modes were coerced from\n",
      "  ...\n",
      "    to  \n",
      "  ['...']\n",
      "Train for 400 steps, validate for 171 steps\n",
      "Epoch 1/15\n",
      "400/400 - 24s - loss: 3.1487 - accuracy: 0.5906 - val_loss: 0.6126 - val_accuracy: 0.5919\n",
      "Epoch 2/15\n",
      "400/400 - 23s - loss: 0.6068 - accuracy: 0.5946 - val_loss: 0.6067 - val_accuracy: 0.5909\n",
      "Epoch 3/15\n",
      "400/400 - 23s - loss: 0.5859 - accuracy: 0.5947 - val_loss: 0.5946 - val_accuracy: 0.5901\n",
      "Epoch 4/15\n",
      "400/400 - 23s - loss: 0.5790 - accuracy: 0.5955 - val_loss: 0.6018 - val_accuracy: 0.5887\n",
      "Epoch 5/15\n",
      "400/400 - 23s - loss: 0.5713 - accuracy: 0.5970 - val_loss: 0.5965 - val_accuracy: 0.5877\n",
      "WARNING:tensorflow:sample_weight modes were coerced from\n",
      "  ...\n",
      "    to  \n",
      "  ['...']\n",
      "WARNING:tensorflow:sample_weight modes were coerced from\n",
      "  ...\n",
      "    to  \n",
      "  ['...']\n",
      "Train for 400 steps, validate for 171 steps\n",
      "Epoch 1/15\n",
      "400/400 - 24s - loss: 6.3389 - accuracy: 0.5893 - val_loss: 0.6465 - val_accuracy: 0.5912\n",
      "Epoch 2/15\n",
      "400/400 - 23s - loss: 0.6372 - accuracy: 0.5952 - val_loss: 0.6297 - val_accuracy: 0.5981\n",
      "Epoch 3/15\n",
      "400/400 - 23s - loss: 0.6210 - accuracy: 0.6074 - val_loss: 0.6129 - val_accuracy: 0.6221\n",
      "Epoch 4/15\n",
      "400/400 - 23s - loss: 0.6023 - accuracy: 0.6366 - val_loss: 0.5942 - val_accuracy: 0.6588\n",
      "Epoch 5/15\n",
      "400/400 - 23s - loss: 0.5836 - accuracy: 0.6706 - val_loss: 0.5771 - val_accuracy: 0.6680\n",
      "Epoch 6/15\n",
      "400/400 - 23s - loss: 0.5644 - accuracy: 0.6950 - val_loss: 0.5587 - val_accuracy: 0.7142\n",
      "Epoch 7/15\n",
      "400/400 - 23s - loss: 0.5515 - accuracy: 0.7108 - val_loss: 0.5459 - val_accuracy: 0.7156\n",
      "Epoch 8/15\n",
      "400/400 - 23s - loss: 0.5436 - accuracy: 0.7191 - val_loss: 0.5389 - val_accuracy: 0.7216\n",
      "Epoch 9/15\n",
      "400/400 - 23s - loss: 0.5391 - accuracy: 0.7250 - val_loss: 0.5351 - val_accuracy: 0.7249\n",
      "Epoch 10/15\n",
      "400/400 - 23s - loss: 0.5360 - accuracy: 0.7279 - val_loss: 0.5305 - val_accuracy: 0.7312\n",
      "Epoch 11/15\n",
      "400/400 - 23s - loss: 0.5332 - accuracy: 0.7311 - val_loss: 0.5288 - val_accuracy: 0.7357\n",
      "Epoch 12/15\n",
      "400/400 - 23s - loss: 0.5312 - accuracy: 0.7327 - val_loss: 0.5266 - val_accuracy: 0.7393\n",
      "Epoch 13/15\n",
      "400/400 - 23s - loss: 0.5296 - accuracy: 0.7343 - val_loss: 0.5244 - val_accuracy: 0.7410\n",
      "Epoch 14/15\n",
      "400/400 - 23s - loss: 0.5263 - accuracy: 0.7380 - val_loss: 0.5204 - val_accuracy: 0.7466\n",
      "Epoch 15/15\n",
      "400/400 - 23s - loss: 0.5226 - accuracy: 0.7418 - val_loss: 0.5196 - val_accuracy: 0.7483\n",
      "WARNING:tensorflow:sample_weight modes were coerced from\n",
      "  ...\n",
      "    to  \n",
      "  ['...']\n",
      "WARNING:tensorflow:sample_weight modes were coerced from\n",
      "  ...\n",
      "    to  \n",
      "  ['...']\n",
      "Train for 400 steps, validate for 171 steps\n",
      "Epoch 1/15\n",
      "400/400 - 24s - loss: 6.0924 - accuracy: 0.5909 - val_loss: 0.6743 - val_accuracy: 0.5914\n",
      "Epoch 2/15\n",
      "400/400 - 23s - loss: 0.6678 - accuracy: 0.5944 - val_loss: 0.6606 - val_accuracy: 0.5914\n",
      "Epoch 3/15\n",
      "400/400 - 23s - loss: 0.6523 - accuracy: 0.5946 - val_loss: 0.6478 - val_accuracy: 0.5911\n",
      "Epoch 4/15\n",
      "400/400 - 23s - loss: 0.6461 - accuracy: 0.5946 - val_loss: 0.6433 - val_accuracy: 0.5918\n",
      "Epoch 5/15\n",
      "400/400 - 23s - loss: 0.6407 - accuracy: 0.5946 - val_loss: 0.6063 - val_accuracy: 0.5920\n",
      "Epoch 6/15\n",
      "400/400 - 23s - loss: 0.6389 - accuracy: 0.5946 - val_loss: 0.6386 - val_accuracy: 0.5920\n",
      "Epoch 7/15\n",
      "400/400 - 23s - loss: 0.6393 - accuracy: 0.5946 - val_loss: 0.6385 - val_accuracy: 0.5913\n",
      "Epoch 8/15\n",
      "400/400 - 23s - loss: 0.6375 - accuracy: 0.5946 - val_loss: 0.6359 - val_accuracy: 0.5919\n",
      "Epoch 9/15\n",
      "400/400 - 23s - loss: 0.6189 - accuracy: 0.6213 - val_loss: 0.5870 - val_accuracy: 0.6734\n",
      "Epoch 10/15\n",
      "400/400 - 23s - loss: 0.5711 - accuracy: 0.6828 - val_loss: 0.5784 - val_accuracy: 0.7097\n",
      "Epoch 11/15\n",
      "400/400 - 23s - loss: 0.5608 - accuracy: 0.6939 - val_loss: 0.5771 - val_accuracy: 0.7104\n",
      "Epoch 12/15\n",
      "400/400 - 23s - loss: 0.5575 - accuracy: 0.6990 - val_loss: 0.5714 - val_accuracy: 0.7174\n",
      "Epoch 13/15\n",
      "400/400 - 23s - loss: 0.5507 - accuracy: 0.7024 - val_loss: 0.5744 - val_accuracy: 0.7116\n",
      "Epoch 14/15\n",
      "400/400 - 23s - loss: 0.5488 - accuracy: 0.7049 - val_loss: 0.5748 - val_accuracy: 0.7045\n",
      "Epoch 15/15\n",
      "400/400 - 23s - loss: 0.5440 - accuracy: 0.7113 - val_loss: 0.5761 - val_accuracy: 0.6513\n"
     ]
    },
    {
     "data": {
      "text/html": [
       "<span style=\"color:#4527A0\"><h1 style=\"font-size:18px\">Trial complete</h1></span>"
      ],
      "text/plain": [
       "<IPython.core.display.HTML object>"
      ]
     },
     "metadata": {},
     "output_type": "display_data"
    },
    {
     "data": {
      "text/html": [
       "<span style=\"color:#4527A0\"><h1 style=\"font-size:18px\">Trial summary</h1></span>"
      ],
      "text/plain": [
       "<IPython.core.display.HTML object>"
      ]
     },
     "metadata": {},
     "output_type": "display_data"
    },
    {
     "data": {
      "text/html": [
       "<span style=\"color:cyan\"> |-Trial ID: 8014f810203c68d061349ef69b3a29f3</span>"
      ],
      "text/plain": [
       "<IPython.core.display.HTML object>"
      ]
     },
     "metadata": {},
     "output_type": "display_data"
    },
    {
     "data": {
      "text/html": [
       "<span style=\"color:cyan\"> |-Score: 0.7021257281303406</span>"
      ],
      "text/plain": [
       "<IPython.core.display.HTML object>"
      ]
     },
     "metadata": {},
     "output_type": "display_data"
    },
    {
     "data": {
      "text/html": [
       "<span style=\"color:cyan\"> |-Best step: 0</span>"
      ],
      "text/plain": [
       "<IPython.core.display.HTML object>"
      ]
     },
     "metadata": {},
     "output_type": "display_data"
    },
    {
     "data": {
      "text/html": [
       "<span style=\"color:#7E57C2\"><h2 style=\"font-size:16px\">Hyperparameters:</h2></span>"
      ],
      "text/plain": [
       "<IPython.core.display.HTML object>"
      ]
     },
     "metadata": {},
     "output_type": "display_data"
    },
    {
     "data": {
      "text/html": [
       "<span style=\"color:cyan\"> |-conv_filter_1: 16</span>"
      ],
      "text/plain": [
       "<IPython.core.display.HTML object>"
      ]
     },
     "metadata": {},
     "output_type": "display_data"
    },
    {
     "data": {
      "text/html": [
       "<span style=\"color:blue\"> |-conv_kernel_1: 9</span>"
      ],
      "text/plain": [
       "<IPython.core.display.HTML object>"
      ]
     },
     "metadata": {},
     "output_type": "display_data"
    },
    {
     "name": "stdout",
     "output_type": "stream",
     "text": [
      "WARNING:tensorflow:sample_weight modes were coerced from\n",
      "  ...\n",
      "    to  \n",
      "  ['...']\n",
      "WARNING:tensorflow:sample_weight modes were coerced from\n",
      "  ...\n",
      "    to  \n",
      "  ['...']\n",
      "Train for 400 steps, validate for 171 steps\n",
      "Epoch 1/15\n",
      "400/400 - 87s - loss: 16.5133 - accuracy: 0.5933 - val_loss: 0.6825 - val_accuracy: 0.5916\n",
      "Epoch 2/15\n",
      "400/400 - 85s - loss: 0.6794 - accuracy: 0.5946 - val_loss: 0.6767 - val_accuracy: 0.5919\n",
      "Epoch 3/15\n",
      "400/400 - 85s - loss: 0.6754 - accuracy: 0.5946 - val_loss: 0.6763 - val_accuracy: 0.5915\n",
      "Epoch 4/15\n",
      "400/400 - 85s - loss: 0.6752 - accuracy: 0.5946 - val_loss: 0.6763 - val_accuracy: 0.5916\n",
      "Epoch 5/15\n",
      "400/400 - 86s - loss: 0.6751 - accuracy: 0.5946 - val_loss: 0.6760 - val_accuracy: 0.5923\n",
      "Epoch 6/15\n",
      "400/400 - 85s - loss: 0.6751 - accuracy: 0.5946 - val_loss: 0.6763 - val_accuracy: 0.5915\n",
      "Epoch 7/15\n",
      "400/400 - 85s - loss: 0.6751 - accuracy: 0.5946 - val_loss: 0.6759 - val_accuracy: 0.5918\n",
      "Epoch 8/15\n",
      "400/400 - 85s - loss: 0.6752 - accuracy: 0.5946 - val_loss: 0.6763 - val_accuracy: 0.5916\n",
      "Epoch 9/15\n",
      "400/400 - 85s - loss: 0.6751 - accuracy: 0.5946 - val_loss: 0.6763 - val_accuracy: 0.5916\n",
      "WARNING:tensorflow:sample_weight modes were coerced from\n",
      "  ...\n",
      "    to  \n",
      "  ['...']\n",
      "WARNING:tensorflow:sample_weight modes were coerced from\n",
      "  ...\n",
      "    to  \n",
      "  ['...']\n",
      "Train for 400 steps, validate for 171 steps\n",
      "Epoch 1/15\n",
      "400/400 - 86s - loss: 10.1454 - accuracy: 0.5937 - val_loss: 0.6054 - val_accuracy: 0.5916\n",
      "Epoch 2/15\n",
      "400/400 - 85s - loss: 0.6086 - accuracy: 0.6096 - val_loss: 0.6490 - val_accuracy: 0.5915\n",
      "Epoch 3/15\n",
      "400/400 - 86s - loss: 0.6267 - accuracy: 0.6111 - val_loss: 0.5823 - val_accuracy: 0.6885\n",
      "Epoch 4/15\n",
      "400/400 - 86s - loss: 0.5806 - accuracy: 0.6811 - val_loss: 0.5669 - val_accuracy: 0.7002\n",
      "Epoch 5/15\n",
      "400/400 - 86s - loss: 0.5735 - accuracy: 0.6893 - val_loss: 0.5675 - val_accuracy: 0.7097\n",
      "Epoch 6/15\n",
      "400/400 - 85s - loss: 0.5701 - accuracy: 0.6981 - val_loss: 0.5844 - val_accuracy: 0.7066\n",
      "Epoch 7/15\n",
      "400/400 - 86s - loss: 0.5642 - accuracy: 0.7054 - val_loss: 0.5656 - val_accuracy: 0.7178\n",
      "Epoch 8/15\n",
      "400/400 - 85s - loss: 0.5594 - accuracy: 0.7081 - val_loss: 0.5842 - val_accuracy: 0.7089\n",
      "Epoch 9/15\n",
      "400/400 - 85s - loss: 0.5581 - accuracy: 0.7100 - val_loss: 0.6267 - val_accuracy: 0.6762\n",
      "Epoch 10/15\n",
      "400/400 - 85s - loss: 0.5610 - accuracy: 0.7049 - val_loss: 0.6393 - val_accuracy: 0.6801\n",
      "Epoch 11/15\n",
      "400/400 - 85s - loss: 0.5594 - accuracy: 0.7053 - val_loss: 0.6043 - val_accuracy: 0.6992\n",
      "WARNING:tensorflow:sample_weight modes were coerced from\n",
      "  ...\n",
      "    to  \n",
      "  ['...']\n",
      "WARNING:tensorflow:sample_weight modes were coerced from\n",
      "  ...\n",
      "    to  \n",
      "  ['...']\n",
      "Train for 400 steps, validate for 171 steps\n",
      "Epoch 1/15\n",
      "400/400 - 107s - loss: 19.0821 - accuracy: 0.5931 - val_loss: 0.6396 - val_accuracy: 0.5918\n",
      "Epoch 2/15\n",
      "400/400 - 85s - loss: 0.6103 - accuracy: 0.5947 - val_loss: 0.6102 - val_accuracy: 0.5915\n",
      "Epoch 3/15\n",
      "400/400 - 99s - loss: 0.6242 - accuracy: 0.5946 - val_loss: 0.6128 - val_accuracy: 0.5917\n",
      "Epoch 4/15\n",
      "400/400 - 85s - loss: 0.6054 - accuracy: 0.5948 - val_loss: 0.6103 - val_accuracy: 0.5912\n",
      "Epoch 5/15\n",
      "400/400 - 85s - loss: 0.6015 - accuracy: 0.5950 - val_loss: 0.6014 - val_accuracy: 0.5909\n",
      "WARNING:tensorflow:sample_weight modes were coerced from\n",
      "  ...\n",
      "    to  \n",
      "  ['...']\n",
      "WARNING:tensorflow:sample_weight modes were coerced from\n",
      "  ...\n",
      "    to  \n",
      "  ['...']\n",
      "Train for 400 steps, validate for 171 steps\n",
      "Epoch 1/15\n",
      "400/400 - 86s - loss: 12.9705 - accuracy: 0.5929 - val_loss: 0.6078 - val_accuracy: 0.5921\n",
      "Epoch 2/15\n",
      "400/400 - 85s - loss: 0.6020 - accuracy: 0.5946 - val_loss: 0.5886 - val_accuracy: 0.5915\n",
      "Epoch 3/15\n",
      "400/400 - 85s - loss: 0.5900 - accuracy: 0.5946 - val_loss: 0.5814 - val_accuracy: 0.5920\n",
      "Epoch 4/15\n",
      "400/400 - 85s - loss: 0.5822 - accuracy: 0.5947 - val_loss: 0.5747 - val_accuracy: 0.5920\n",
      "Epoch 5/15\n",
      "400/400 - 85s - loss: 0.5767 - accuracy: 0.6658 - val_loss: 0.5666 - val_accuracy: 0.6733\n",
      "Epoch 6/15\n",
      "400/400 - 85s - loss: 0.5711 - accuracy: 0.6879 - val_loss: 0.5636 - val_accuracy: 0.6877\n",
      "Epoch 7/15\n",
      "400/400 - 85s - loss: 0.5686 - accuracy: 0.6962 - val_loss: 0.5604 - val_accuracy: 0.6956\n",
      "Epoch 8/15\n",
      "400/400 - 85s - loss: 0.5674 - accuracy: 0.6990 - val_loss: 0.5615 - val_accuracy: 0.6887\n",
      "Epoch 9/15\n",
      "400/400 - 85s - loss: 0.5660 - accuracy: 0.7026 - val_loss: 0.5590 - val_accuracy: 0.6975\n",
      "Epoch 10/15\n",
      "400/400 - 85s - loss: 0.5635 - accuracy: 0.7067 - val_loss: 0.5580 - val_accuracy: 0.7003\n",
      "Epoch 11/15\n",
      "400/400 - 85s - loss: 0.5627 - accuracy: 0.7089 - val_loss: 0.5573 - val_accuracy: 0.7045\n",
      "Epoch 12/15\n",
      "400/400 - 85s - loss: 0.5615 - accuracy: 0.7108 - val_loss: 0.5559 - val_accuracy: 0.7067\n",
      "Epoch 13/15\n",
      "400/400 - 85s - loss: 0.5599 - accuracy: 0.7124 - val_loss: 0.5547 - val_accuracy: 0.7109\n",
      "Epoch 14/15\n",
      "400/400 - 85s - loss: 0.5585 - accuracy: 0.7149 - val_loss: 0.5532 - val_accuracy: 0.7124\n",
      "Epoch 15/15\n",
      "400/400 - 85s - loss: 0.5576 - accuracy: 0.7161 - val_loss: 0.5528 - val_accuracy: 0.7136\n",
      "WARNING:tensorflow:sample_weight modes were coerced from\n",
      "  ...\n",
      "    to  \n",
      "  ['...']\n",
      "WARNING:tensorflow:sample_weight modes were coerced from\n",
      "  ...\n",
      "    to  \n",
      "  ['...']\n",
      "Train for 400 steps, validate for 171 steps\n",
      "Epoch 1/15\n",
      "400/400 - 86s - loss: 15.1499 - accuracy: 0.5932 - val_loss: 0.6798 - val_accuracy: 0.5911\n",
      "Epoch 2/15\n",
      "400/400 - 85s - loss: 0.6768 - accuracy: 0.5946 - val_loss: 0.6765 - val_accuracy: 0.5916\n",
      "Epoch 3/15\n",
      "400/400 - 85s - loss: 0.6754 - accuracy: 0.5946 - val_loss: 0.6763 - val_accuracy: 0.5915\n",
      "Epoch 4/15\n",
      "400/400 - 85s - loss: 0.6751 - accuracy: 0.5946 - val_loss: 0.6761 - val_accuracy: 0.5920\n",
      "Epoch 5/15\n",
      "400/400 - 85s - loss: 0.6750 - accuracy: 0.5947 - val_loss: 0.6763 - val_accuracy: 0.5915\n",
      "Epoch 6/15\n",
      "400/400 - 85s - loss: 0.6751 - accuracy: 0.5946 - val_loss: 0.6761 - val_accuracy: 0.5920\n",
      "Epoch 7/15\n",
      "400/400 - 85s - loss: 0.6751 - accuracy: 0.5946 - val_loss: 0.6761 - val_accuracy: 0.5920\n",
      "Epoch 8/15\n",
      "400/400 - 85s - loss: 0.6751 - accuracy: 0.5946 - val_loss: 0.6763 - val_accuracy: 0.5914\n",
      "Epoch 9/15\n",
      "400/400 - 85s - loss: 0.6751 - accuracy: 0.5946 - val_loss: 0.6764 - val_accuracy: 0.5913\n",
      "Epoch 10/15\n",
      "400/400 - 85s - loss: 0.6751 - accuracy: 0.5946 - val_loss: 0.6762 - val_accuracy: 0.5918\n",
      "WARNING:tensorflow:sample_weight modes were coerced from\n",
      "  ...\n",
      "    to  \n",
      "  ['...']\n",
      "WARNING:tensorflow:sample_weight modes were coerced from\n",
      "  ...\n",
      "    to  \n",
      "  ['...']\n",
      "Train for 400 steps, validate for 171 steps\n",
      "Epoch 1/15\n",
      "400/400 - 86s - loss: 11.5605 - accuracy: 0.5940 - val_loss: 0.6796 - val_accuracy: 0.5915\n",
      "Epoch 2/15\n",
      "400/400 - 85s - loss: 0.6768 - accuracy: 0.5946 - val_loss: 0.6765 - val_accuracy: 0.5915\n",
      "Epoch 3/15\n",
      "400/400 - 85s - loss: 0.6753 - accuracy: 0.5946 - val_loss: 0.6762 - val_accuracy: 0.5918\n",
      "Epoch 4/15\n",
      "400/400 - 85s - loss: 0.6751 - accuracy: 0.5946 - val_loss: 0.6763 - val_accuracy: 0.5915\n",
      "Epoch 5/15\n",
      "400/400 - 85s - loss: 0.6751 - accuracy: 0.5946 - val_loss: 0.6761 - val_accuracy: 0.5919\n",
      "Epoch 6/15\n",
      "400/400 - 85s - loss: 0.6751 - accuracy: 0.5946 - val_loss: 0.6763 - val_accuracy: 0.5914\n",
      "Epoch 7/15\n",
      "400/400 - 85s - loss: 0.6751 - accuracy: 0.5946 - val_loss: 0.6761 - val_accuracy: 0.5920\n",
      "Epoch 8/15\n",
      "400/400 - 95s - loss: 0.6751 - accuracy: 0.5946 - val_loss: 0.6762 - val_accuracy: 0.5917\n",
      "Epoch 9/15\n",
      "400/400 - 85s - loss: 0.6751 - accuracy: 0.5946 - val_loss: 0.6763 - val_accuracy: 0.5914\n",
      "Epoch 10/15\n",
      "400/400 - 85s - loss: 0.6751 - accuracy: 0.5946 - val_loss: 0.6762 - val_accuracy: 0.5917\n",
      "Epoch 11/15\n",
      "400/400 - 96s - loss: 0.6752 - accuracy: 0.5946 - val_loss: 0.6762 - val_accuracy: 0.5919\n"
     ]
    },
    {
     "data": {
      "text/html": [
       "<span style=\"color:#4527A0\"><h1 style=\"font-size:18px\">Trial complete</h1></span>"
      ],
      "text/plain": [
       "<IPython.core.display.HTML object>"
      ]
     },
     "metadata": {},
     "output_type": "display_data"
    },
    {
     "data": {
      "text/html": [
       "<span style=\"color:#4527A0\"><h1 style=\"font-size:18px\">Trial summary</h1></span>"
      ],
      "text/plain": [
       "<IPython.core.display.HTML object>"
      ]
     },
     "metadata": {},
     "output_type": "display_data"
    },
    {
     "data": {
      "text/html": [
       "<span style=\"color:cyan\"> |-Trial ID: 70bb68e258101d0e8911aa041ed6cb9d</span>"
      ],
      "text/plain": [
       "<IPython.core.display.HTML object>"
      ]
     },
     "metadata": {},
     "output_type": "display_data"
    },
    {
     "data": {
      "text/html": [
       "<span style=\"color:cyan\"> |-Score: 0.6332724094390869</span>"
      ],
      "text/plain": [
       "<IPython.core.display.HTML object>"
      ]
     },
     "metadata": {},
     "output_type": "display_data"
    },
    {
     "data": {
      "text/html": [
       "<span style=\"color:cyan\"> |-Best step: 0</span>"
      ],
      "text/plain": [
       "<IPython.core.display.HTML object>"
      ]
     },
     "metadata": {},
     "output_type": "display_data"
    },
    {
     "data": {
      "text/html": [
       "<span style=\"color:#7E57C2\"><h2 style=\"font-size:16px\">Hyperparameters:</h2></span>"
      ],
      "text/plain": [
       "<IPython.core.display.HTML object>"
      ]
     },
     "metadata": {},
     "output_type": "display_data"
    },
    {
     "data": {
      "text/html": [
       "<span style=\"color:cyan\"> |-conv_filter_1: 128</span>"
      ],
      "text/plain": [
       "<IPython.core.display.HTML object>"
      ]
     },
     "metadata": {},
     "output_type": "display_data"
    },
    {
     "data": {
      "text/html": [
       "<span style=\"color:blue\"> |-conv_kernel_1: 11</span>"
      ],
      "text/plain": [
       "<IPython.core.display.HTML object>"
      ]
     },
     "metadata": {},
     "output_type": "display_data"
    },
    {
     "name": "stdout",
     "output_type": "stream",
     "text": [
      "WARNING:tensorflow:sample_weight modes were coerced from\n",
      "  ...\n",
      "    to  \n",
      "  ['...']\n",
      "WARNING:tensorflow:sample_weight modes were coerced from\n",
      "  ...\n",
      "    to  \n",
      "  ['...']\n",
      "Train for 400 steps, validate for 171 steps\n",
      "Epoch 1/15\n",
      "400/400 - 40s - loss: 10.2967 - accuracy: 0.5935 - val_loss: 0.6653 - val_accuracy: 0.5914\n",
      "Epoch 2/15\n",
      "400/400 - 39s - loss: 0.6543 - accuracy: 0.5946 - val_loss: 0.6509 - val_accuracy: 0.5916\n",
      "Epoch 3/15\n",
      "400/400 - 39s - loss: 0.6457 - accuracy: 0.5946 - val_loss: 0.6447 - val_accuracy: 0.5920\n",
      "Epoch 4/15\n",
      "400/400 - 46s - loss: 0.6254 - accuracy: 0.5946 - val_loss: 0.6112 - val_accuracy: 0.5915\n",
      "Epoch 5/15\n",
      "400/400 - 39s - loss: 0.5940 - accuracy: 0.5946 - val_loss: 0.5940 - val_accuracy: 0.5911\n",
      "Epoch 6/15\n",
      "400/400 - 39s - loss: 0.5772 - accuracy: 0.5948 - val_loss: 0.5920 - val_accuracy: 0.5897\n",
      "Epoch 7/15\n",
      "400/400 - 39s - loss: 0.5775 - accuracy: 0.6113 - val_loss: 0.5960 - val_accuracy: 0.6829\n",
      "Epoch 8/15\n",
      "400/400 - 53s - loss: 0.5756 - accuracy: 0.6764 - val_loss: 0.5848 - val_accuracy: 0.6887\n",
      "Epoch 9/15\n",
      "400/400 - 47s - loss: 0.5732 - accuracy: 0.6869 - val_loss: 0.5874 - val_accuracy: 0.6892\n",
      "Epoch 10/15\n",
      "400/400 - 39s - loss: 0.5705 - accuracy: 0.6897 - val_loss: 0.5840 - val_accuracy: 0.6992\n",
      "Epoch 11/15\n",
      "400/400 - 39s - loss: 0.5720 - accuracy: 0.6832 - val_loss: 0.5738 - val_accuracy: 0.7172\n",
      "Epoch 12/15\n",
      "400/400 - 39s - loss: 0.5445 - accuracy: 0.7168 - val_loss: 0.5665 - val_accuracy: 0.7268\n",
      "Epoch 13/15\n",
      "400/400 - 39s - loss: 0.5407 - accuracy: 0.7261 - val_loss: 0.5651 - val_accuracy: 0.7212\n",
      "Epoch 14/15\n",
      "400/400 - 39s - loss: 0.5414 - accuracy: 0.7270 - val_loss: 0.5630 - val_accuracy: 0.7217\n",
      "Epoch 15/15\n",
      "400/400 - 39s - loss: 0.5368 - accuracy: 0.7316 - val_loss: 0.5600 - val_accuracy: 0.7275\n",
      "WARNING:tensorflow:sample_weight modes were coerced from\n",
      "  ...\n",
      "    to  \n",
      "  ['...']\n",
      "WARNING:tensorflow:sample_weight modes were coerced from\n",
      "  ...\n",
      "    to  \n",
      "  ['...']\n",
      "Train for 400 steps, validate for 171 steps\n",
      "Epoch 1/15\n",
      "400/400 - 40s - loss: 6.1055 - accuracy: 0.5918 - val_loss: 0.6119 - val_accuracy: 0.5920\n",
      "Epoch 2/15\n",
      "400/400 - 39s - loss: 0.6222 - accuracy: 0.5947 - val_loss: 0.6667 - val_accuracy: 0.5920\n",
      "Epoch 3/15\n",
      "400/400 - 39s - loss: 0.6144 - accuracy: 0.5950 - val_loss: 0.6278 - val_accuracy: 0.5901\n",
      "Epoch 4/15\n",
      "400/400 - 39s - loss: 0.6438 - accuracy: 0.5945 - val_loss: 0.6972 - val_accuracy: 0.5920\n",
      "Epoch 5/15\n",
      "400/400 - 39s - loss: 0.6366 - accuracy: 0.5953 - val_loss: 0.6259 - val_accuracy: 0.5904\n",
      "WARNING:tensorflow:sample_weight modes were coerced from\n",
      "  ...\n",
      "    to  \n",
      "  ['...']\n",
      "WARNING:tensorflow:sample_weight modes were coerced from\n",
      "  ...\n",
      "    to  \n",
      "  ['...']\n",
      "Train for 400 steps, validate for 171 steps\n",
      "Epoch 1/15\n",
      "400/400 - 39s - loss: 6.8862 - accuracy: 0.5918 - val_loss: 0.6798 - val_accuracy: 0.5919\n",
      "Epoch 2/15\n",
      "400/400 - 39s - loss: 0.6767 - accuracy: 0.5946 - val_loss: 0.6764 - val_accuracy: 0.5914\n",
      "Epoch 3/15\n",
      "400/400 - 39s - loss: 0.6748 - accuracy: 0.5946 - val_loss: 0.6757 - val_accuracy: 0.5916\n",
      "Epoch 4/15\n",
      "400/400 - 39s - loss: 0.6680 - accuracy: 0.5946 - val_loss: 0.6559 - val_accuracy: 0.5914\n",
      "Epoch 5/15\n",
      "400/400 - 39s - loss: 0.6503 - accuracy: 0.5946 - val_loss: 0.6420 - val_accuracy: 0.5918\n",
      "WARNING:tensorflow:sample_weight modes were coerced from\n",
      "  ...\n",
      "    to  \n",
      "  ['...']\n",
      "WARNING:tensorflow:sample_weight modes were coerced from\n",
      "  ...\n",
      "    to  \n",
      "  ['...']\n",
      "Train for 400 steps, validate for 171 steps\n",
      "Epoch 1/15\n",
      "400/400 - 40s - loss: 8.9797 - accuracy: 0.5929 - val_loss: 0.6886 - val_accuracy: 0.5918\n",
      "Epoch 2/15\n",
      "400/400 - 39s - loss: 0.6203 - accuracy: 0.5944 - val_loss: 0.6138 - val_accuracy: 0.5904\n",
      "Epoch 3/15\n",
      "400/400 - 39s - loss: 0.5986 - accuracy: 0.5942 - val_loss: 0.6426 - val_accuracy: 0.5881\n",
      "Epoch 4/15\n",
      "400/400 - 39s - loss: 0.5966 - accuracy: 0.5943 - val_loss: 0.6559 - val_accuracy: 0.5878\n",
      "Epoch 5/15\n",
      "400/400 - 39s - loss: 0.6093 - accuracy: 0.5941 - val_loss: 0.6457 - val_accuracy: 0.5828\n",
      "WARNING:tensorflow:sample_weight modes were coerced from\n",
      "  ...\n",
      "    to  \n",
      "  ['...']\n",
      "WARNING:tensorflow:sample_weight modes were coerced from\n",
      "  ...\n",
      "    to  \n",
      "  ['...']\n",
      "Train for 400 steps, validate for 171 steps\n",
      "Epoch 1/15\n",
      "400/400 - 40s - loss: 8.9037 - accuracy: 0.5917 - val_loss: 0.6806 - val_accuracy: 0.5922\n",
      "Epoch 2/15\n",
      "400/400 - 39s - loss: 0.6773 - accuracy: 0.5946 - val_loss: 0.6767 - val_accuracy: 0.5916\n",
      "Epoch 3/15\n",
      "400/400 - 39s - loss: 0.6754 - accuracy: 0.5946 - val_loss: 0.6762 - val_accuracy: 0.5918\n",
      "Epoch 4/15\n",
      "400/400 - 39s - loss: 0.6751 - accuracy: 0.5946 - val_loss: 0.6761 - val_accuracy: 0.5920\n",
      "Epoch 5/15\n",
      "400/400 - 39s - loss: 0.6750 - accuracy: 0.5946 - val_loss: 0.6760 - val_accuracy: 0.5917\n",
      "WARNING:tensorflow:sample_weight modes were coerced from\n",
      "  ...\n",
      "    to  \n",
      "  ['...']\n",
      "WARNING:tensorflow:sample_weight modes were coerced from\n",
      "  ...\n",
      "    to  \n",
      "  ['...']\n",
      "Train for 400 steps, validate for 171 steps\n",
      "Epoch 1/15\n",
      "400/400 - 40s - loss: 9.6184 - accuracy: 0.5926 - val_loss: 0.6270 - val_accuracy: 0.5917\n",
      "Epoch 2/15\n",
      "400/400 - 39s - loss: 0.6203 - accuracy: 0.5947 - val_loss: 0.6252 - val_accuracy: 0.5915\n",
      "Epoch 3/15\n",
      "400/400 - 39s - loss: 0.6037 - accuracy: 0.5949 - val_loss: 0.6050 - val_accuracy: 0.5915\n",
      "Epoch 4/15\n",
      "400/400 - 39s - loss: 0.5947 - accuracy: 0.5951 - val_loss: 0.5998 - val_accuracy: 0.5906\n",
      "Epoch 5/15\n",
      "400/400 - 39s - loss: 0.5861 - accuracy: 0.5960 - val_loss: 0.5995 - val_accuracy: 0.5894\n"
     ]
    },
    {
     "data": {
      "text/html": [
       "<span style=\"color:#4527A0\"><h1 style=\"font-size:18px\">Trial complete</h1></span>"
      ],
      "text/plain": [
       "<IPython.core.display.HTML object>"
      ]
     },
     "metadata": {},
     "output_type": "display_data"
    },
    {
     "data": {
      "text/html": [
       "<span style=\"color:#4527A0\"><h1 style=\"font-size:18px\">Trial summary</h1></span>"
      ],
      "text/plain": [
       "<IPython.core.display.HTML object>"
      ]
     },
     "metadata": {},
     "output_type": "display_data"
    },
    {
     "data": {
      "text/html": [
       "<span style=\"color:cyan\"> |-Trial ID: bd35b307a837663a3f486202ed460bb8</span>"
      ],
      "text/plain": [
       "<IPython.core.display.HTML object>"
      ]
     },
     "metadata": {},
     "output_type": "display_data"
    },
    {
     "data": {
      "text/html": [
       "<span style=\"color:cyan\"> |-Score: 0.6145066618919373</span>"
      ],
      "text/plain": [
       "<IPython.core.display.HTML object>"
      ]
     },
     "metadata": {},
     "output_type": "display_data"
    },
    {
     "data": {
      "text/html": [
       "<span style=\"color:cyan\"> |-Best step: 0</span>"
      ],
      "text/plain": [
       "<IPython.core.display.HTML object>"
      ]
     },
     "metadata": {},
     "output_type": "display_data"
    },
    {
     "data": {
      "text/html": [
       "<span style=\"color:#7E57C2\"><h2 style=\"font-size:16px\">Hyperparameters:</h2></span>"
      ],
      "text/plain": [
       "<IPython.core.display.HTML object>"
      ]
     },
     "metadata": {},
     "output_type": "display_data"
    },
    {
     "data": {
      "text/html": [
       "<span style=\"color:cyan\"> |-conv_filter_1: 64</span>"
      ],
      "text/plain": [
       "<IPython.core.display.HTML object>"
      ]
     },
     "metadata": {},
     "output_type": "display_data"
    },
    {
     "data": {
      "text/html": [
       "<span style=\"color:blue\"> |-conv_kernel_1: 9</span>"
      ],
      "text/plain": [
       "<IPython.core.display.HTML object>"
      ]
     },
     "metadata": {},
     "output_type": "display_data"
    },
    {
     "name": "stdout",
     "output_type": "stream",
     "text": [
      "WARNING:tensorflow:sample_weight modes were coerced from\n",
      "  ...\n",
      "    to  \n",
      "  ['...']\n",
      "WARNING:tensorflow:sample_weight modes were coerced from\n",
      "  ...\n",
      "    to  \n",
      "  ['...']\n",
      "Train for 400 steps, validate for 171 steps\n",
      "Epoch 1/15\n",
      "400/400 - 29s - loss: 7.3728 - accuracy: 0.5926 - val_loss: 0.6808 - val_accuracy: 0.5920\n",
      "Epoch 2/15\n",
      "400/400 - 27s - loss: 0.6343 - accuracy: 0.5946 - val_loss: 0.6173 - val_accuracy: 0.5915\n",
      "Epoch 3/15\n",
      "400/400 - 27s - loss: 0.6042 - accuracy: 0.5945 - val_loss: 0.6174 - val_accuracy: 0.5905\n",
      "Epoch 4/15\n",
      "400/400 - 27s - loss: 0.5974 - accuracy: 0.5950 - val_loss: 0.6288 - val_accuracy: 0.5894\n",
      "Epoch 5/15\n",
      "400/400 - 27s - loss: 0.5866 - accuracy: 0.5948 - val_loss: 0.6260 - val_accuracy: 0.5883\n",
      "WARNING:tensorflow:sample_weight modes were coerced from\n",
      "  ...\n",
      "    to  \n",
      "  ['...']\n",
      "WARNING:tensorflow:sample_weight modes were coerced from\n",
      "  ...\n",
      "    to  \n",
      "  ['...']\n",
      "Train for 400 steps, validate for 171 steps\n",
      "Epoch 1/15\n",
      "400/400 - 28s - loss: 4.6861 - accuracy: 0.5922 - val_loss: 0.6796 - val_accuracy: 0.5916\n",
      "Epoch 2/15\n",
      "400/400 - 27s - loss: 0.6767 - accuracy: 0.5946 - val_loss: 0.6763 - val_accuracy: 0.5918\n",
      "Epoch 3/15\n",
      "400/400 - 27s - loss: 0.6748 - accuracy: 0.5946 - val_loss: 0.6754 - val_accuracy: 0.5915\n",
      "Epoch 4/15\n",
      "400/400 - 28s - loss: 0.6738 - accuracy: 0.5946 - val_loss: 0.6747 - val_accuracy: 0.5916\n",
      "Epoch 5/15\n",
      "400/400 - 28s - loss: 0.6732 - accuracy: 0.5946 - val_loss: 0.6742 - val_accuracy: 0.5912\n",
      "Epoch 6/15\n",
      "400/400 - 28s - loss: 0.6727 - accuracy: 0.5946 - val_loss: 0.6737 - val_accuracy: 0.5915\n",
      "WARNING:tensorflow:sample_weight modes were coerced from\n",
      "  ...\n",
      "    to  \n",
      "  ['...']\n",
      "WARNING:tensorflow:sample_weight modes were coerced from\n",
      "  ...\n",
      "    to  \n",
      "  ['...']\n",
      "Train for 400 steps, validate for 171 steps\n",
      "Epoch 1/15\n",
      "400/400 - 28s - loss: 3.0439 - accuracy: 0.5939 - val_loss: 0.6818 - val_accuracy: 0.5915\n",
      "Epoch 2/15\n",
      "400/400 - 27s - loss: 0.6775 - accuracy: 0.5946 - val_loss: 0.6765 - val_accuracy: 0.5920\n",
      "Epoch 3/15\n",
      "400/400 - 27s - loss: 0.6753 - accuracy: 0.5946 - val_loss: 0.6762 - val_accuracy: 0.5916\n",
      "Epoch 4/15\n",
      "400/400 - 27s - loss: 0.6751 - accuracy: 0.5946 - val_loss: 0.6764 - val_accuracy: 0.5912\n",
      "Epoch 5/15\n",
      "400/400 - 27s - loss: 0.6749 - accuracy: 0.5946 - val_loss: 0.6757 - val_accuracy: 0.5912\n",
      "Epoch 6/15\n",
      "400/400 - 27s - loss: 0.6719 - accuracy: 0.5946 - val_loss: 0.6720 - val_accuracy: 0.5915\n",
      "WARNING:tensorflow:sample_weight modes were coerced from\n",
      "  ...\n",
      "    to  \n",
      "  ['...']\n",
      "WARNING:tensorflow:sample_weight modes were coerced from\n",
      "  ...\n",
      "    to  \n",
      "  ['...']\n",
      "Train for 400 steps, validate for 171 steps\n",
      "Epoch 1/15\n",
      "400/400 - 28s - loss: 4.8285 - accuracy: 0.5932 - val_loss: 0.6795 - val_accuracy: 0.5915\n",
      "Epoch 2/15\n",
      "400/400 - 27s - loss: 0.6767 - accuracy: 0.5946 - val_loss: 0.6765 - val_accuracy: 0.5914\n",
      "Epoch 3/15\n",
      "400/400 - 27s - loss: 0.6753 - accuracy: 0.5946 - val_loss: 0.6763 - val_accuracy: 0.5915\n",
      "Epoch 4/15\n",
      "400/400 - 27s - loss: 0.6751 - accuracy: 0.5946 - val_loss: 0.6763 - val_accuracy: 0.5915\n",
      "Epoch 5/15\n",
      "400/400 - 27s - loss: 0.6751 - accuracy: 0.5946 - val_loss: 0.6764 - val_accuracy: 0.5913\n",
      "WARNING:tensorflow:sample_weight modes were coerced from\n",
      "  ...\n",
      "    to  \n",
      "  ['...']\n",
      "WARNING:tensorflow:sample_weight modes were coerced from\n",
      "  ...\n",
      "    to  \n",
      "  ['...']\n",
      "Train for 400 steps, validate for 171 steps\n",
      "Epoch 1/15\n",
      "400/400 - 28s - loss: 4.9884 - accuracy: 0.5911 - val_loss: 0.6803 - val_accuracy: 0.5913\n",
      "Epoch 2/15\n",
      "400/400 - 27s - loss: 0.6771 - accuracy: 0.5946 - val_loss: 0.6766 - val_accuracy: 0.5917\n",
      "Epoch 3/15\n",
      "400/400 - 27s - loss: 0.6753 - accuracy: 0.5946 - val_loss: 0.6762 - val_accuracy: 0.5918\n",
      "Epoch 4/15\n",
      "400/400 - 28s - loss: 0.6751 - accuracy: 0.5946 - val_loss: 0.6761 - val_accuracy: 0.5921\n",
      "Epoch 5/15\n",
      "400/400 - 27s - loss: 0.6751 - accuracy: 0.5946 - val_loss: 0.6763 - val_accuracy: 0.5916\n",
      "Epoch 6/15\n",
      "400/400 - 27s - loss: 0.6751 - accuracy: 0.5946 - val_loss: 0.6760 - val_accuracy: 0.5919\n",
      "Epoch 7/15\n",
      "400/400 - 27s - loss: 0.6746 - accuracy: 0.5946 - val_loss: 0.6763 - val_accuracy: 0.5915\n",
      "Epoch 8/15\n",
      "400/400 - 27s - loss: 0.6738 - accuracy: 0.5947 - val_loss: 0.6761 - val_accuracy: 0.5920\n",
      "WARNING:tensorflow:sample_weight modes were coerced from\n",
      "  ...\n",
      "    to  \n",
      "  ['...']\n",
      "WARNING:tensorflow:sample_weight modes were coerced from\n",
      "  ...\n",
      "    to  \n",
      "  ['...']\n",
      "Train for 400 steps, validate for 171 steps\n",
      "Epoch 1/15\n",
      "400/400 - 28s - loss: 5.0179 - accuracy: 0.5930 - val_loss: 0.6766 - val_accuracy: 0.5920\n",
      "Epoch 2/15\n",
      "400/400 - 27s - loss: 0.6765 - accuracy: 0.5946 - val_loss: 0.6764 - val_accuracy: 0.5915\n",
      "Epoch 3/15\n",
      "400/400 - 27s - loss: 0.6749 - accuracy: 0.5946 - val_loss: 0.6755 - val_accuracy: 0.5915\n",
      "Epoch 4/15\n",
      "400/400 - 27s - loss: 0.6736 - accuracy: 0.5946 - val_loss: 0.6741 - val_accuracy: 0.5916\n",
      "Epoch 5/15\n",
      "400/400 - 27s - loss: 0.6731 - accuracy: 0.5946 - val_loss: 0.6738 - val_accuracy: 0.5918\n"
     ]
    },
    {
     "data": {
      "text/html": [
       "<span style=\"color:#4527A0\"><h1 style=\"font-size:18px\">Trial complete</h1></span>"
      ],
      "text/plain": [
       "<IPython.core.display.HTML object>"
      ]
     },
     "metadata": {},
     "output_type": "display_data"
    },
    {
     "data": {
      "text/html": [
       "<span style=\"color:#4527A0\"><h1 style=\"font-size:18px\">Trial summary</h1></span>"
      ],
      "text/plain": [
       "<IPython.core.display.HTML object>"
      ]
     },
     "metadata": {},
     "output_type": "display_data"
    },
    {
     "data": {
      "text/html": [
       "<span style=\"color:cyan\"> |-Trial ID: 03499050600729ce7fde298e4cd496a4</span>"
      ],
      "text/plain": [
       "<IPython.core.display.HTML object>"
      ]
     },
     "metadata": {},
     "output_type": "display_data"
    },
    {
     "data": {
      "text/html": [
       "<span style=\"color:cyan\"> |-Score: 0.5919009447097778</span>"
      ],
      "text/plain": [
       "<IPython.core.display.HTML object>"
      ]
     },
     "metadata": {},
     "output_type": "display_data"
    },
    {
     "data": {
      "text/html": [
       "<span style=\"color:cyan\"> |-Best step: 0</span>"
      ],
      "text/plain": [
       "<IPython.core.display.HTML object>"
      ]
     },
     "metadata": {},
     "output_type": "display_data"
    },
    {
     "data": {
      "text/html": [
       "<span style=\"color:#7E57C2\"><h2 style=\"font-size:16px\">Hyperparameters:</h2></span>"
      ],
      "text/plain": [
       "<IPython.core.display.HTML object>"
      ]
     },
     "metadata": {},
     "output_type": "display_data"
    },
    {
     "data": {
      "text/html": [
       "<span style=\"color:cyan\"> |-conv_filter_1: 32</span>"
      ],
      "text/plain": [
       "<IPython.core.display.HTML object>"
      ]
     },
     "metadata": {},
     "output_type": "display_data"
    },
    {
     "data": {
      "text/html": [
       "<span style=\"color:blue\"> |-conv_kernel_1: 11</span>"
      ],
      "text/plain": [
       "<IPython.core.display.HTML object>"
      ]
     },
     "metadata": {},
     "output_type": "display_data"
    },
    {
     "name": "stdout",
     "output_type": "stream",
     "text": [
      "WARNING:tensorflow:sample_weight modes were coerced from\n",
      "  ...\n",
      "    to  \n",
      "  ['...']\n",
      "WARNING:tensorflow:sample_weight modes were coerced from\n",
      "  ...\n",
      "    to  \n",
      "  ['...']\n",
      "Train for 400 steps, validate for 171 steps\n",
      "Epoch 1/15\n",
      "400/400 - 24s - loss: 15.0945 - accuracy: 0.6963 - val_loss: 0.8098 - val_accuracy: 0.7269\n",
      "Epoch 2/15\n",
      "400/400 - 24s - loss: 0.6027 - accuracy: 0.7590 - val_loss: 0.6371 - val_accuracy: 0.7384\n",
      "Epoch 3/15\n",
      "400/400 - 24s - loss: 0.4513 - accuracy: 0.7976 - val_loss: 0.6327 - val_accuracy: 0.7397\n",
      "Epoch 4/15\n",
      "400/400 - 23s - loss: 0.3998 - accuracy: 0.8216 - val_loss: 0.6508 - val_accuracy: 0.7400\n",
      "Epoch 5/15\n",
      "400/400 - 23s - loss: 0.3886 - accuracy: 0.8258 - val_loss: 0.7260 - val_accuracy: 0.7292\n",
      "Epoch 6/15\n",
      "400/400 - 23s - loss: 0.3571 - accuracy: 0.8405 - val_loss: 0.7800 - val_accuracy: 0.7310\n",
      "Epoch 7/15\n",
      "400/400 - 23s - loss: 0.3440 - accuracy: 0.8433 - val_loss: 0.7199 - val_accuracy: 0.7402\n",
      "Epoch 8/15\n",
      "400/400 - 23s - loss: 0.3454 - accuracy: 0.8465 - val_loss: 0.8421 - val_accuracy: 0.7310\n",
      "Epoch 9/15\n",
      "400/400 - 23s - loss: 0.3237 - accuracy: 0.8542 - val_loss: 0.8736 - val_accuracy: 0.7172\n",
      "Epoch 10/15\n",
      "400/400 - 23s - loss: 0.3174 - accuracy: 0.8594 - val_loss: 0.9014 - val_accuracy: 0.7150\n",
      "Epoch 11/15\n",
      "400/400 - 23s - loss: 0.3054 - accuracy: 0.8646 - val_loss: 0.9711 - val_accuracy: 0.7090\n",
      "WARNING:tensorflow:sample_weight modes were coerced from\n",
      "  ...\n",
      "    to  \n",
      "  ['...']\n",
      "WARNING:tensorflow:sample_weight modes were coerced from\n",
      "  ...\n",
      "    to  \n",
      "  ['...']\n",
      "Train for 400 steps, validate for 171 steps\n",
      "Epoch 1/15\n",
      "400/400 - 24s - loss: 20.2041 - accuracy: 0.6877 - val_loss: 0.6776 - val_accuracy: 0.7156\n",
      "Epoch 2/15\n",
      "400/400 - 23s - loss: 0.5603 - accuracy: 0.7545 - val_loss: 0.5779 - val_accuracy: 0.7290\n",
      "Epoch 3/15\n",
      "400/400 - 23s - loss: 0.4507 - accuracy: 0.7910 - val_loss: 0.5747 - val_accuracy: 0.7327\n",
      "Epoch 4/15\n",
      "400/400 - 23s - loss: 0.3912 - accuracy: 0.8188 - val_loss: 0.5820 - val_accuracy: 0.7385\n",
      "Epoch 5/15\n",
      "400/400 - 23s - loss: 0.3645 - accuracy: 0.8340 - val_loss: 0.5986 - val_accuracy: 0.7468\n",
      "Epoch 6/15\n",
      "400/400 - 23s - loss: 0.3422 - accuracy: 0.8441 - val_loss: 0.6768 - val_accuracy: 0.7301\n",
      "Epoch 7/15\n",
      "400/400 - 23s - loss: 0.3191 - accuracy: 0.8548 - val_loss: 0.7654 - val_accuracy: 0.7275\n",
      "Epoch 8/15\n",
      "400/400 - 23s - loss: 0.3104 - accuracy: 0.8601 - val_loss: 0.7294 - val_accuracy: 0.7416\n",
      "Epoch 9/15\n",
      "400/400 - 23s - loss: 0.3024 - accuracy: 0.8651 - val_loss: 0.8839 - val_accuracy: 0.7032\n",
      "WARNING:tensorflow:sample_weight modes were coerced from\n",
      "  ...\n",
      "    to  \n",
      "  ['...']\n",
      "WARNING:tensorflow:sample_weight modes were coerced from\n",
      "  ...\n",
      "    to  \n",
      "  ['...']\n",
      "Train for 400 steps, validate for 171 steps\n",
      "Epoch 1/15\n",
      "400/400 - 24s - loss: 22.4138 - accuracy: 0.6781 - val_loss: 0.7794 - val_accuracy: 0.7216\n",
      "Epoch 2/15\n",
      "400/400 - 23s - loss: 0.5847 - accuracy: 0.7502 - val_loss: 0.6627 - val_accuracy: 0.7369\n",
      "Epoch 3/15\n",
      "400/400 - 23s - loss: 0.4536 - accuracy: 0.7892 - val_loss: 0.6449 - val_accuracy: 0.7461\n",
      "Epoch 4/15\n",
      "400/400 - 23s - loss: 0.3911 - accuracy: 0.8192 - val_loss: 0.6770 - val_accuracy: 0.7458\n",
      "Epoch 5/15\n",
      "400/400 - 23s - loss: 0.3542 - accuracy: 0.8385 - val_loss: 0.7162 - val_accuracy: 0.7434\n",
      "Epoch 6/15\n",
      "400/400 - 23s - loss: 0.3306 - accuracy: 0.8513 - val_loss: 0.7599 - val_accuracy: 0.7392\n",
      "Epoch 7/15\n",
      "400/400 - 23s - loss: 0.3092 - accuracy: 0.8625 - val_loss: 0.8374 - val_accuracy: 0.7350\n",
      "WARNING:tensorflow:sample_weight modes were coerced from\n",
      "  ...\n",
      "    to  \n",
      "  ['...']\n",
      "WARNING:tensorflow:sample_weight modes were coerced from\n",
      "  ...\n",
      "    to  \n",
      "  ['...']\n",
      "Train for 400 steps, validate for 171 steps\n",
      "Epoch 1/15\n",
      "400/400 - 24s - loss: 23.9216 - accuracy: 0.6812 - val_loss: 0.7273 - val_accuracy: 0.7069\n",
      "Epoch 2/15\n",
      "400/400 - 23s - loss: 0.5613 - accuracy: 0.7583 - val_loss: 0.6128 - val_accuracy: 0.7363\n",
      "Epoch 3/15\n",
      "400/400 - 24s - loss: 0.4316 - accuracy: 0.8003 - val_loss: 0.6045 - val_accuracy: 0.7442\n",
      "Epoch 4/15\n",
      "400/400 - 24s - loss: 0.3654 - accuracy: 0.8330 - val_loss: 0.6259 - val_accuracy: 0.7463\n",
      "Epoch 5/15\n",
      "400/400 - 24s - loss: 0.3242 - accuracy: 0.8529 - val_loss: 0.6681 - val_accuracy: 0.7436\n",
      "Epoch 6/15\n",
      "400/400 - 23s - loss: 0.2979 - accuracy: 0.8684 - val_loss: 0.7273 - val_accuracy: 0.7335\n",
      "Epoch 7/15\n",
      "400/400 - 23s - loss: 0.3061 - accuracy: 0.8641 - val_loss: 0.8236 - val_accuracy: 0.7083\n",
      "Epoch 8/15\n",
      "400/400 - 23s - loss: 0.3188 - accuracy: 0.8591 - val_loss: 0.8383 - val_accuracy: 0.7237\n",
      "WARNING:tensorflow:sample_weight modes were coerced from\n",
      "  ...\n",
      "    to  \n",
      "  ['...']\n",
      "WARNING:tensorflow:sample_weight modes were coerced from\n",
      "  ...\n",
      "    to  \n",
      "  ['...']\n",
      "Train for 400 steps, validate for 171 steps\n",
      "Epoch 1/15\n",
      "400/400 - 24s - loss: 12.1025 - accuracy: 0.6864 - val_loss: 0.8151 - val_accuracy: 0.7040\n",
      "Epoch 2/15\n",
      "400/400 - 23s - loss: 0.5696 - accuracy: 0.7611 - val_loss: 0.6250 - val_accuracy: 0.7253\n",
      "Epoch 3/15\n",
      "400/400 - 24s - loss: 0.4109 - accuracy: 0.8107 - val_loss: 0.6172 - val_accuracy: 0.7397\n",
      "Epoch 4/15\n",
      "400/400 - 24s - loss: 0.3465 - accuracy: 0.8428 - val_loss: 0.6684 - val_accuracy: 0.7415\n",
      "Epoch 5/15\n",
      "400/400 - 23s - loss: 0.3136 - accuracy: 0.8602 - val_loss: 0.7493 - val_accuracy: 0.7285\n",
      "Epoch 6/15\n",
      "400/400 - 23s - loss: 0.3183 - accuracy: 0.8584 - val_loss: 0.7402 - val_accuracy: 0.7488\n",
      "Epoch 7/15\n",
      "400/400 - 23s - loss: 0.3624 - accuracy: 0.8402 - val_loss: 0.8920 - val_accuracy: 0.7179\n",
      "Epoch 8/15\n",
      "400/400 - 24s - loss: 0.3311 - accuracy: 0.8518 - val_loss: 0.8774 - val_accuracy: 0.7333\n",
      "Epoch 9/15\n",
      "400/400 - 23s - loss: 0.2858 - accuracy: 0.8739 - val_loss: 1.0011 - val_accuracy: 0.7141\n",
      "Epoch 10/15\n",
      "400/400 - 23s - loss: 0.2989 - accuracy: 0.8684 - val_loss: 1.0278 - val_accuracy: 0.6890\n",
      "WARNING:tensorflow:sample_weight modes were coerced from\n",
      "  ...\n",
      "    to  \n",
      "  ['...']\n",
      "WARNING:tensorflow:sample_weight modes were coerced from\n",
      "  ...\n",
      "    to  \n",
      "  ['...']\n",
      "Train for 400 steps, validate for 171 steps\n",
      "Epoch 1/15\n",
      "400/400 - 24s - loss: 8.8850 - accuracy: 0.6938 - val_loss: 0.6832 - val_accuracy: 0.6848\n",
      "Epoch 2/15\n",
      "400/400 - 23s - loss: 0.5342 - accuracy: 0.7561 - val_loss: 0.6315 - val_accuracy: 0.6932\n",
      "Epoch 3/15\n",
      "400/400 - 23s - loss: 0.4502 - accuracy: 0.7868 - val_loss: 0.6124 - val_accuracy: 0.7057\n",
      "Epoch 4/15\n",
      "400/400 - 23s - loss: 0.3993 - accuracy: 0.8118 - val_loss: 0.6301 - val_accuracy: 0.7042\n",
      "Epoch 5/15\n",
      "400/400 - 23s - loss: 0.3900 - accuracy: 0.8206 - val_loss: 0.6798 - val_accuracy: 0.6919\n",
      "Epoch 6/15\n",
      "400/400 - 24s - loss: 0.3899 - accuracy: 0.8193 - val_loss: 0.6642 - val_accuracy: 0.7052\n",
      "Epoch 7/15\n",
      "400/400 - 24s - loss: 0.3391 - accuracy: 0.8448 - val_loss: 0.7030 - val_accuracy: 0.7246\n",
      "Epoch 8/15\n",
      "400/400 - 24s - loss: 0.3328 - accuracy: 0.8492 - val_loss: 0.7559 - val_accuracy: 0.7212\n",
      "Epoch 9/15\n",
      "400/400 - 23s - loss: 0.3183 - accuracy: 0.8559 - val_loss: 0.8224 - val_accuracy: 0.7106\n",
      "Epoch 10/15\n",
      "400/400 - 24s - loss: 0.3158 - accuracy: 0.8582 - val_loss: 0.9660 - val_accuracy: 0.7137\n",
      "Epoch 11/15\n",
      "400/400 - 24s - loss: 0.3216 - accuracy: 0.8552 - val_loss: 0.9095 - val_accuracy: 0.7115\n"
     ]
    },
    {
     "data": {
      "text/html": [
       "<span style=\"color:#4527A0\"><h1 style=\"font-size:18px\">Trial complete</h1></span>"
      ],
      "text/plain": [
       "<IPython.core.display.HTML object>"
      ]
     },
     "metadata": {},
     "output_type": "display_data"
    },
    {
     "data": {
      "text/html": [
       "<span style=\"color:#4527A0\"><h1 style=\"font-size:18px\">Trial summary</h1></span>"
      ],
      "text/plain": [
       "<IPython.core.display.HTML object>"
      ]
     },
     "metadata": {},
     "output_type": "display_data"
    },
    {
     "data": {
      "text/html": [
       "<span style=\"color:cyan\"> |-Trial ID: eb597a75f1224e35c80cffd5f82f796b</span>"
      ],
      "text/plain": [
       "<IPython.core.display.HTML object>"
      ]
     },
     "metadata": {},
     "output_type": "display_data"
    },
    {
     "data": {
      "text/html": [
       "<span style=\"color:cyan\"> |-Score: 0.7421409487724304</span>"
      ],
      "text/plain": [
       "<IPython.core.display.HTML object>"
      ]
     },
     "metadata": {},
     "output_type": "display_data"
    },
    {
     "data": {
      "text/html": [
       "<span style=\"color:cyan\"> |-Best step: 0</span>"
      ],
      "text/plain": [
       "<IPython.core.display.HTML object>"
      ]
     },
     "metadata": {},
     "output_type": "display_data"
    },
    {
     "data": {
      "text/html": [
       "<span style=\"color:#7E57C2\"><h2 style=\"font-size:16px\">Hyperparameters:</h2></span>"
      ],
      "text/plain": [
       "<IPython.core.display.HTML object>"
      ]
     },
     "metadata": {},
     "output_type": "display_data"
    },
    {
     "data": {
      "text/html": [
       "<span style=\"color:cyan\"> |-conv_filter_1: 32</span>"
      ],
      "text/plain": [
       "<IPython.core.display.HTML object>"
      ]
     },
     "metadata": {},
     "output_type": "display_data"
    },
    {
     "data": {
      "text/html": [
       "<span style=\"color:blue\"> |-conv_kernel_1: 3</span>"
      ],
      "text/plain": [
       "<IPython.core.display.HTML object>"
      ]
     },
     "metadata": {},
     "output_type": "display_data"
    },
    {
     "name": "stdout",
     "output_type": "stream",
     "text": [
      "WARNING:tensorflow:sample_weight modes were coerced from\n",
      "  ...\n",
      "    to  \n",
      "  ['...']\n",
      "WARNING:tensorflow:sample_weight modes were coerced from\n",
      "  ...\n",
      "    to  \n",
      "  ['...']\n",
      "Train for 400 steps, validate for 171 steps\n",
      "Epoch 1/15\n",
      "400/400 - 55s - loss: 23.7293 - accuracy: 0.7191 - val_loss: 0.4886 - val_accuracy: 0.7769\n",
      "Epoch 2/15\n",
      "400/400 - 55s - loss: 0.4429 - accuracy: 0.7879 - val_loss: 0.4898 - val_accuracy: 0.7829\n",
      "Epoch 3/15\n",
      "400/400 - 47s - loss: 0.3880 - accuracy: 0.8158 - val_loss: 0.5069 - val_accuracy: 0.7804\n",
      "Epoch 4/15\n",
      "400/400 - 47s - loss: 0.3312 - accuracy: 0.8488 - val_loss: 0.5519 - val_accuracy: 0.7736\n",
      "Epoch 5/15\n",
      "400/400 - 47s - loss: 0.2827 - accuracy: 0.8778 - val_loss: 0.6150 - val_accuracy: 0.7609\n",
      "Epoch 6/15\n",
      "400/400 - 47s - loss: 0.2970 - accuracy: 0.8678 - val_loss: 0.7791 - val_accuracy: 0.7326\n",
      "WARNING:tensorflow:sample_weight modes were coerced from\n",
      "  ...\n",
      "    to  \n",
      "  ['...']\n",
      "WARNING:tensorflow:sample_weight modes were coerced from\n",
      "  ...\n",
      "    to  \n",
      "  ['...']\n",
      "Train for 400 steps, validate for 171 steps\n",
      "Epoch 1/15\n",
      "400/400 - 47s - loss: 37.0135 - accuracy: 0.7150 - val_loss: 0.5108 - val_accuracy: 0.7627\n",
      "Epoch 2/15\n",
      "400/400 - 47s - loss: 0.4837 - accuracy: 0.7717 - val_loss: 0.4833 - val_accuracy: 0.7699\n",
      "Epoch 3/15\n",
      "400/400 - 47s - loss: 0.4492 - accuracy: 0.7854 - val_loss: 0.4750 - val_accuracy: 0.7766\n",
      "Epoch 4/15\n",
      "400/400 - 47s - loss: 0.4236 - accuracy: 0.7967 - val_loss: 0.4822 - val_accuracy: 0.7842\n",
      "Epoch 5/15\n",
      "400/400 - 47s - loss: 0.3983 - accuracy: 0.8108 - val_loss: 0.4895 - val_accuracy: 0.7803\n",
      "Epoch 6/15\n",
      "400/400 - 47s - loss: 0.3739 - accuracy: 0.8246 - val_loss: 0.5005 - val_accuracy: 0.7777\n",
      "Epoch 7/15\n",
      "400/400 - 47s - loss: 0.3466 - accuracy: 0.8398 - val_loss: 0.5312 - val_accuracy: 0.7698\n",
      "Epoch 8/15\n",
      "400/400 - 47s - loss: 0.3256 - accuracy: 0.8514 - val_loss: 0.5682 - val_accuracy: 0.7661\n",
      "WARNING:tensorflow:sample_weight modes were coerced from\n",
      "  ...\n",
      "    to  \n",
      "  ['...']\n",
      "WARNING:tensorflow:sample_weight modes were coerced from\n",
      "  ...\n",
      "    to  \n",
      "  ['...']\n",
      "Train for 400 steps, validate for 171 steps\n",
      "Epoch 1/15\n",
      "400/400 - 48s - loss: 21.1626 - accuracy: 0.7199 - val_loss: 0.5084 - val_accuracy: 0.7587\n",
      "Epoch 2/15\n",
      "400/400 - 47s - loss: 0.4443 - accuracy: 0.7910 - val_loss: 0.5049 - val_accuracy: 0.7671\n",
      "Epoch 3/15\n",
      "400/400 - 47s - loss: 0.3703 - accuracy: 0.8273 - val_loss: 0.5348 - val_accuracy: 0.7572\n",
      "Epoch 4/15\n",
      "400/400 - 47s - loss: 0.3264 - accuracy: 0.8520 - val_loss: 0.5818 - val_accuracy: 0.7518\n",
      "Epoch 5/15\n",
      "400/400 - 47s - loss: 0.3429 - accuracy: 0.8449 - val_loss: 0.6111 - val_accuracy: 0.7406\n",
      "Epoch 6/15\n",
      "400/400 - 47s - loss: 0.2865 - accuracy: 0.8703 - val_loss: 0.6743 - val_accuracy: 0.7370\n",
      "WARNING:tensorflow:sample_weight modes were coerced from\n",
      "  ...\n",
      "    to  \n",
      "  ['...']\n",
      "WARNING:tensorflow:sample_weight modes were coerced from\n",
      "  ...\n",
      "    to  \n",
      "  ['...']\n",
      "Train for 400 steps, validate for 171 steps\n",
      "Epoch 1/15\n",
      "400/400 - 47s - loss: 28.1747 - accuracy: 0.7181 - val_loss: 0.5582 - val_accuracy: 0.6991\n",
      "Epoch 2/15\n",
      "400/400 - 47s - loss: 0.4674 - accuracy: 0.7811 - val_loss: 0.5285 - val_accuracy: 0.7249\n",
      "Epoch 3/15\n",
      "400/400 - 47s - loss: 0.4202 - accuracy: 0.8028 - val_loss: 0.5231 - val_accuracy: 0.7427\n",
      "Epoch 4/15\n",
      "400/400 - 47s - loss: 0.3810 - accuracy: 0.8211 - val_loss: 0.5341 - val_accuracy: 0.7486\n",
      "Epoch 5/15\n",
      "400/400 - 47s - loss: 0.3421 - accuracy: 0.8429 - val_loss: 0.5615 - val_accuracy: 0.7504\n",
      "Epoch 6/15\n",
      "400/400 - 47s - loss: 0.3108 - accuracy: 0.8617 - val_loss: 0.6121 - val_accuracy: 0.7485\n",
      "Epoch 7/15\n",
      "400/400 - 47s - loss: 0.3208 - accuracy: 0.8539 - val_loss: 0.6299 - val_accuracy: 0.7352\n",
      "Epoch 8/15\n",
      "400/400 - 47s - loss: 0.3155 - accuracy: 0.8587 - val_loss: 0.6902 - val_accuracy: 0.7366\n",
      "Epoch 9/15\n",
      "400/400 - 47s - loss: 0.2955 - accuracy: 0.8666 - val_loss: 1.0735 - val_accuracy: 0.6864\n",
      "WARNING:tensorflow:sample_weight modes were coerced from\n",
      "  ...\n",
      "    to  \n",
      "  ['...']\n",
      "WARNING:tensorflow:sample_weight modes were coerced from\n",
      "  ...\n",
      "    to  \n",
      "  ['...']\n",
      "Train for 400 steps, validate for 171 steps\n",
      "Epoch 1/15\n",
      "400/400 - 47s - loss: 18.9924 - accuracy: 0.7128 - val_loss: 0.4971 - val_accuracy: 0.7583\n",
      "Epoch 2/15\n",
      "400/400 - 47s - loss: 0.4562 - accuracy: 0.7785 - val_loss: 0.4905 - val_accuracy: 0.7520\n",
      "Epoch 3/15\n",
      "400/400 - 47s - loss: 0.4045 - accuracy: 0.8087 - val_loss: 0.5210 - val_accuracy: 0.7411\n",
      "Epoch 4/15\n",
      "400/400 - 47s - loss: 0.3627 - accuracy: 0.8297 - val_loss: 0.5486 - val_accuracy: 0.7653\n",
      "Epoch 5/15\n",
      "400/400 - 47s - loss: 0.3313 - accuracy: 0.8469 - val_loss: 0.6124 - val_accuracy: 0.7455\n",
      "Epoch 6/15\n",
      "400/400 - 47s - loss: 0.3118 - accuracy: 0.8581 - val_loss: 0.6824 - val_accuracy: 0.7393\n",
      "Epoch 7/15\n",
      "400/400 - 47s - loss: 0.3164 - accuracy: 0.8565 - val_loss: 0.7560 - val_accuracy: 0.7333\n",
      "Epoch 8/15\n",
      "400/400 - 47s - loss: 0.3015 - accuracy: 0.8632 - val_loss: 0.8056 - val_accuracy: 0.7232\n",
      "WARNING:tensorflow:sample_weight modes were coerced from\n",
      "  ...\n",
      "    to  \n",
      "  ['...']\n",
      "WARNING:tensorflow:sample_weight modes were coerced from\n",
      "  ...\n",
      "    to  \n",
      "  ['...']\n",
      "Train for 400 steps, validate for 171 steps\n",
      "Epoch 1/15\n",
      "400/400 - 47s - loss: 34.2619 - accuracy: 0.7112 - val_loss: 0.5223 - val_accuracy: 0.7264\n",
      "Epoch 2/15\n",
      "400/400 - 47s - loss: 0.4882 - accuracy: 0.7652 - val_loss: 0.4800 - val_accuracy: 0.7584\n",
      "Epoch 3/15\n",
      "400/400 - 47s - loss: 0.4487 - accuracy: 0.7852 - val_loss: 0.4704 - val_accuracy: 0.7792\n",
      "Epoch 4/15\n",
      "400/400 - 47s - loss: 0.4177 - accuracy: 0.8006 - val_loss: 0.4791 - val_accuracy: 0.7802\n",
      "Epoch 5/15\n",
      "400/400 - 47s - loss: 0.3879 - accuracy: 0.8165 - val_loss: 0.5099 - val_accuracy: 0.7768\n",
      "Epoch 6/15\n",
      "400/400 - 47s - loss: 0.3635 - accuracy: 0.8302 - val_loss: 0.5520 - val_accuracy: 0.7678\n",
      "Epoch 7/15\n",
      "400/400 - 47s - loss: 0.3362 - accuracy: 0.8459 - val_loss: 0.5891 - val_accuracy: 0.7636\n",
      "Epoch 8/15\n",
      "400/400 - 47s - loss: 0.3334 - accuracy: 0.8461 - val_loss: 0.6366 - val_accuracy: 0.7518\n"
     ]
    },
    {
     "data": {
      "text/html": [
       "<span style=\"color:#4527A0\"><h1 style=\"font-size:18px\">Trial complete</h1></span>"
      ],
      "text/plain": [
       "<IPython.core.display.HTML object>"
      ]
     },
     "metadata": {},
     "output_type": "display_data"
    },
    {
     "data": {
      "text/html": [
       "<span style=\"color:#4527A0\"><h1 style=\"font-size:18px\">Trial summary</h1></span>"
      ],
      "text/plain": [
       "<IPython.core.display.HTML object>"
      ]
     },
     "metadata": {},
     "output_type": "display_data"
    },
    {
     "data": {
      "text/html": [
       "<span style=\"color:cyan\"> |-Trial ID: 5ee892b832c9179c1ba271e8a4508db9</span>"
      ],
      "text/plain": [
       "<IPython.core.display.HTML object>"
      ]
     },
     "metadata": {},
     "output_type": "display_data"
    },
    {
     "data": {
      "text/html": [
       "<span style=\"color:cyan\"> |-Score: 0.7716800570487976</span>"
      ],
      "text/plain": [
       "<IPython.core.display.HTML object>"
      ]
     },
     "metadata": {},
     "output_type": "display_data"
    },
    {
     "data": {
      "text/html": [
       "<span style=\"color:cyan\"> |-Best step: 0</span>"
      ],
      "text/plain": [
       "<IPython.core.display.HTML object>"
      ]
     },
     "metadata": {},
     "output_type": "display_data"
    },
    {
     "data": {
      "text/html": [
       "<span style=\"color:#7E57C2\"><h2 style=\"font-size:16px\">Hyperparameters:</h2></span>"
      ],
      "text/plain": [
       "<IPython.core.display.HTML object>"
      ]
     },
     "metadata": {},
     "output_type": "display_data"
    },
    {
     "data": {
      "text/html": [
       "<span style=\"color:cyan\"> |-conv_filter_1: 128</span>"
      ],
      "text/plain": [
       "<IPython.core.display.HTML object>"
      ]
     },
     "metadata": {},
     "output_type": "display_data"
    },
    {
     "data": {
      "text/html": [
       "<span style=\"color:blue\"> |-conv_kernel_1: 3</span>"
      ],
      "text/plain": [
       "<IPython.core.display.HTML object>"
      ]
     },
     "metadata": {},
     "output_type": "display_data"
    },
    {
     "name": "stdout",
     "output_type": "stream",
     "text": [
      "WARNING:tensorflow:sample_weight modes were coerced from\n",
      "  ...\n",
      "    to  \n",
      "  ['...']\n",
      "WARNING:tensorflow:sample_weight modes were coerced from\n",
      "  ...\n",
      "    to  \n",
      "  ['...']\n",
      "Train for 400 steps, validate for 171 steps\n",
      "Epoch 1/15\n",
      "400/400 - 25s - loss: 7.9754 - accuracy: 0.5899 - val_loss: 0.6334 - val_accuracy: 0.5913\n",
      "Epoch 2/15\n",
      "400/400 - 24s - loss: 0.6254 - accuracy: 0.5947 - val_loss: 0.6233 - val_accuracy: 0.5915\n",
      "Epoch 3/15\n",
      "400/400 - 24s - loss: 0.6015 - accuracy: 0.6088 - val_loss: 0.5943 - val_accuracy: 0.6425\n",
      "Epoch 4/15\n",
      "400/400 - 24s - loss: 0.5773 - accuracy: 0.6724 - val_loss: 0.5717 - val_accuracy: 0.6746\n",
      "Epoch 5/15\n",
      "400/400 - 24s - loss: 0.5600 - accuracy: 0.7017 - val_loss: 0.5625 - val_accuracy: 0.7115\n",
      "Epoch 6/15\n",
      "400/400 - 24s - loss: 0.5435 - accuracy: 0.7189 - val_loss: 0.5460 - val_accuracy: 0.7318\n",
      "Epoch 7/15\n",
      "400/400 - 24s - loss: 0.5327 - accuracy: 0.7308 - val_loss: 0.5398 - val_accuracy: 0.7375\n",
      "Epoch 8/15\n",
      "400/400 - 24s - loss: 0.5251 - accuracy: 0.7358 - val_loss: 0.5368 - val_accuracy: 0.7431\n",
      "Epoch 9/15\n",
      "400/400 - 24s - loss: 0.5164 - accuracy: 0.7406 - val_loss: 0.5383 - val_accuracy: 0.7475\n",
      "Epoch 10/15\n",
      "400/400 - 24s - loss: 0.5063 - accuracy: 0.7471 - val_loss: 0.5452 - val_accuracy: 0.7456\n",
      "Epoch 11/15\n",
      "400/400 - 24s - loss: 0.4977 - accuracy: 0.7505 - val_loss: 0.5637 - val_accuracy: 0.7437\n",
      "Epoch 12/15\n",
      "400/400 - 24s - loss: 0.4911 - accuracy: 0.7548 - val_loss: 0.5968 - val_accuracy: 0.7387\n",
      "Epoch 13/15\n",
      "400/400 - 24s - loss: 0.4886 - accuracy: 0.7562 - val_loss: 0.6549 - val_accuracy: 0.7319\n",
      "WARNING:tensorflow:sample_weight modes were coerced from\n",
      "  ...\n",
      "    to  \n",
      "  ['...']\n",
      "WARNING:tensorflow:sample_weight modes were coerced from\n",
      "  ...\n",
      "    to  \n",
      "  ['...']\n",
      "Train for 400 steps, validate for 171 steps\n",
      "Epoch 1/15\n",
      "400/400 - 25s - loss: 7.3244 - accuracy: 0.5941 - val_loss: 0.5900 - val_accuracy: 0.6211\n",
      "Epoch 2/15\n",
      "400/400 - 24s - loss: 0.5565 - accuracy: 0.6996 - val_loss: 0.5646 - val_accuracy: 0.7344\n",
      "Epoch 3/15\n",
      "400/400 - 24s - loss: 0.5307 - accuracy: 0.7334 - val_loss: 0.5643 - val_accuracy: 0.7388\n",
      "Epoch 4/15\n",
      "400/400 - 24s - loss: 0.5236 - accuracy: 0.7384 - val_loss: 0.5482 - val_accuracy: 0.7433\n",
      "Epoch 5/15\n",
      "400/400 - 24s - loss: 0.5101 - accuracy: 0.7444 - val_loss: 0.5442 - val_accuracy: 0.7465\n",
      "Epoch 6/15\n",
      "400/400 - 24s - loss: 0.5020 - accuracy: 0.7493 - val_loss: 0.5355 - val_accuracy: 0.7451\n",
      "Epoch 7/15\n",
      "400/400 - 24s - loss: 0.5017 - accuracy: 0.7529 - val_loss: 0.5256 - val_accuracy: 0.7535\n",
      "Epoch 8/15\n",
      "400/400 - 24s - loss: 0.4989 - accuracy: 0.7535 - val_loss: 0.5387 - val_accuracy: 0.7488\n",
      "Epoch 9/15\n",
      "400/400 - 24s - loss: 0.4966 - accuracy: 0.7560 - val_loss: 0.5338 - val_accuracy: 0.7443\n",
      "Epoch 10/15\n",
      "400/400 - 24s - loss: 0.4913 - accuracy: 0.7574 - val_loss: 0.5268 - val_accuracy: 0.7504\n",
      "Epoch 11/15\n",
      "400/400 - 24s - loss: 0.4933 - accuracy: 0.7574 - val_loss: 0.5316 - val_accuracy: 0.7253\n",
      "WARNING:tensorflow:sample_weight modes were coerced from\n",
      "  ...\n",
      "    to  \n",
      "  ['...']\n",
      "WARNING:tensorflow:sample_weight modes were coerced from\n",
      "  ...\n",
      "    to  \n",
      "  ['...']\n",
      "Train for 400 steps, validate for 171 steps\n",
      "Epoch 1/15\n",
      "400/400 - 25s - loss: 5.0555 - accuracy: 0.5903 - val_loss: 0.6368 - val_accuracy: 0.5920\n",
      "Epoch 2/15\n",
      "400/400 - 24s - loss: 0.6231 - accuracy: 0.5946 - val_loss: 0.6063 - val_accuracy: 0.5918\n",
      "Epoch 3/15\n",
      "400/400 - 24s - loss: 0.5811 - accuracy: 0.6471 - val_loss: 0.5601 - val_accuracy: 0.7001\n",
      "Epoch 4/15\n",
      "400/400 - 24s - loss: 0.5484 - accuracy: 0.7141 - val_loss: 0.5421 - val_accuracy: 0.7250\n",
      "Epoch 5/15\n",
      "400/400 - 24s - loss: 0.5291 - accuracy: 0.7324 - val_loss: 0.5338 - val_accuracy: 0.7327\n",
      "Epoch 6/15\n",
      "400/400 - 24s - loss: 0.5166 - accuracy: 0.7399 - val_loss: 0.5254 - val_accuracy: 0.7342\n",
      "Epoch 7/15\n",
      "400/400 - 24s - loss: 0.5188 - accuracy: 0.7413 - val_loss: 0.5282 - val_accuracy: 0.7362\n",
      "Epoch 8/15\n",
      "400/400 - 24s - loss: 0.5211 - accuracy: 0.7373 - val_loss: 0.5313 - val_accuracy: 0.7407\n",
      "Epoch 9/15\n",
      "400/400 - 24s - loss: 0.5048 - accuracy: 0.7478 - val_loss: 0.5246 - val_accuracy: 0.7456\n",
      "Epoch 10/15\n",
      "400/400 - 24s - loss: 0.5015 - accuracy: 0.7500 - val_loss: 0.5108 - val_accuracy: 0.7588\n",
      "Epoch 11/15\n",
      "400/400 - 24s - loss: 0.4980 - accuracy: 0.7532 - val_loss: 0.5353 - val_accuracy: 0.7501\n",
      "Epoch 12/15\n",
      "400/400 - 25s - loss: 0.5170 - accuracy: 0.7380 - val_loss: 0.5212 - val_accuracy: 0.7377\n",
      "Epoch 13/15\n",
      "400/400 - 24s - loss: 0.5174 - accuracy: 0.7435 - val_loss: 0.5073 - val_accuracy: 0.7517\n",
      "Epoch 14/15\n",
      "400/400 - 24s - loss: 0.5107 - accuracy: 0.7462 - val_loss: 0.5072 - val_accuracy: 0.7545\n",
      "WARNING:tensorflow:sample_weight modes were coerced from\n",
      "  ...\n",
      "    to  \n",
      "  ['...']\n",
      "WARNING:tensorflow:sample_weight modes were coerced from\n",
      "  ...\n",
      "    to  \n",
      "  ['...']\n",
      "Train for 400 steps, validate for 171 steps\n",
      "Epoch 1/15\n",
      "400/400 - 25s - loss: 9.6780 - accuracy: 0.5925 - val_loss: 0.6389 - val_accuracy: 0.5917\n",
      "Epoch 2/15\n",
      "400/400 - 25s - loss: 0.6246 - accuracy: 0.5953 - val_loss: 0.6107 - val_accuracy: 0.5946\n",
      "Epoch 3/15\n",
      "400/400 - 24s - loss: 0.5916 - accuracy: 0.6477 - val_loss: 0.5811 - val_accuracy: 0.6980\n",
      "Epoch 4/15\n",
      "400/400 - 24s - loss: 0.5712 - accuracy: 0.6781 - val_loss: 0.5703 - val_accuracy: 0.6843\n",
      "Epoch 5/15\n",
      "400/400 - 24s - loss: 0.5589 - accuracy: 0.6909 - val_loss: 0.5643 - val_accuracy: 0.6904\n",
      "Epoch 6/15\n",
      "400/400 - 24s - loss: 0.5495 - accuracy: 0.7034 - val_loss: 0.5562 - val_accuracy: 0.7097\n",
      "Epoch 7/15\n",
      "400/400 - 24s - loss: 0.5340 - accuracy: 0.7209 - val_loss: 0.5334 - val_accuracy: 0.7199\n",
      "Epoch 8/15\n",
      "400/400 - 24s - loss: 0.5233 - accuracy: 0.7357 - val_loss: 0.5246 - val_accuracy: 0.7316\n",
      "Epoch 9/15\n",
      "400/400 - 24s - loss: 0.5114 - accuracy: 0.7468 - val_loss: 0.5136 - val_accuracy: 0.7352\n",
      "Epoch 10/15\n",
      "400/400 - 24s - loss: 0.5039 - accuracy: 0.7525 - val_loss: 0.5135 - val_accuracy: 0.7509\n",
      "Epoch 11/15\n",
      "400/400 - 25s - loss: 0.4991 - accuracy: 0.7572 - val_loss: 0.5240 - val_accuracy: 0.7549\n",
      "Epoch 12/15\n",
      "400/400 - 24s - loss: 0.4922 - accuracy: 0.7588 - val_loss: 0.5266 - val_accuracy: 0.7563\n",
      "Epoch 13/15\n",
      "400/400 - 24s - loss: 0.4866 - accuracy: 0.7619 - val_loss: 0.5319 - val_accuracy: 0.7519\n",
      "Epoch 14/15\n",
      "400/400 - 24s - loss: 0.4823 - accuracy: 0.7632 - val_loss: 0.5537 - val_accuracy: 0.7498\n",
      "Epoch 15/15\n",
      "400/400 - 24s - loss: 0.4820 - accuracy: 0.7641 - val_loss: 0.5291 - val_accuracy: 0.7435\n",
      "WARNING:tensorflow:sample_weight modes were coerced from\n",
      "  ...\n",
      "    to  \n",
      "  ['...']\n",
      "WARNING:tensorflow:sample_weight modes were coerced from\n",
      "  ...\n",
      "    to  \n",
      "  ['...']\n",
      "Train for 400 steps, validate for 171 steps\n",
      "Epoch 1/15\n",
      "400/400 - 25s - loss: 10.4254 - accuracy: 0.5916 - val_loss: 0.6197 - val_accuracy: 0.5919\n",
      "Epoch 2/15\n",
      "400/400 - 24s - loss: 0.6060 - accuracy: 0.6056 - val_loss: 0.6081 - val_accuracy: 0.6481\n",
      "Epoch 3/15\n",
      "400/400 - 25s - loss: 0.5696 - accuracy: 0.6772 - val_loss: 0.5744 - val_accuracy: 0.6923\n",
      "Epoch 4/15\n",
      "400/400 - 25s - loss: 0.5522 - accuracy: 0.7044 - val_loss: 0.5545 - val_accuracy: 0.7227\n",
      "Epoch 5/15\n",
      "400/400 - 24s - loss: 0.5352 - accuracy: 0.7198 - val_loss: 0.5615 - val_accuracy: 0.7173\n",
      "Epoch 6/15\n",
      "400/400 - 24s - loss: 0.5322 - accuracy: 0.7202 - val_loss: 0.5586 - val_accuracy: 0.7008\n",
      "Epoch 7/15\n",
      "400/400 - 24s - loss: 0.5275 - accuracy: 0.7242 - val_loss: 0.5493 - val_accuracy: 0.7234\n",
      "Epoch 8/15\n",
      "400/400 - 24s - loss: 0.5211 - accuracy: 0.7292 - val_loss: 0.5339 - val_accuracy: 0.7216\n",
      "Epoch 9/15\n",
      "400/400 - 24s - loss: 0.5089 - accuracy: 0.7412 - val_loss: 0.5274 - val_accuracy: 0.7300\n",
      "Epoch 10/15\n",
      "400/400 - 24s - loss: 0.5123 - accuracy: 0.7417 - val_loss: 0.5167 - val_accuracy: 0.7431\n",
      "Epoch 11/15\n",
      "400/400 - 24s - loss: 0.5071 - accuracy: 0.7468 - val_loss: 0.5161 - val_accuracy: 0.7419\n",
      "Epoch 12/15\n",
      "400/400 - 24s - loss: 0.5048 - accuracy: 0.7467 - val_loss: 0.5162 - val_accuracy: 0.7457\n",
      "Epoch 13/15\n",
      "400/400 - 25s - loss: 0.5023 - accuracy: 0.7543 - val_loss: 0.5140 - val_accuracy: 0.7609\n",
      "Epoch 14/15\n",
      "400/400 - 24s - loss: 0.5028 - accuracy: 0.7510 - val_loss: 0.5147 - val_accuracy: 0.7519\n",
      "Epoch 15/15\n",
      "400/400 - 24s - loss: 0.5007 - accuracy: 0.7508 - val_loss: 0.5117 - val_accuracy: 0.7518\n",
      "WARNING:tensorflow:sample_weight modes were coerced from\n",
      "  ...\n",
      "    to  \n",
      "  ['...']\n",
      "WARNING:tensorflow:sample_weight modes were coerced from\n",
      "  ...\n",
      "    to  \n",
      "  ['...']\n",
      "Train for 400 steps, validate for 171 steps\n",
      "Epoch 1/15\n",
      "400/400 - 25s - loss: 9.5016 - accuracy: 0.5925 - val_loss: 0.6154 - val_accuracy: 0.5914\n",
      "Epoch 2/15\n",
      "400/400 - 24s - loss: 0.5876 - accuracy: 0.6132 - val_loss: 0.5701 - val_accuracy: 0.6849\n",
      "Epoch 3/15\n",
      "400/400 - 24s - loss: 0.5561 - accuracy: 0.6984 - val_loss: 0.5530 - val_accuracy: 0.7136\n",
      "Epoch 4/15\n",
      "400/400 - 24s - loss: 0.5441 - accuracy: 0.7180 - val_loss: 0.5504 - val_accuracy: 0.7269\n",
      "Epoch 5/15\n",
      "400/400 - 24s - loss: 0.5358 - accuracy: 0.7269 - val_loss: 0.5471 - val_accuracy: 0.7300\n",
      "Epoch 6/15\n",
      "400/400 - 24s - loss: 0.5268 - accuracy: 0.7330 - val_loss: 0.5492 - val_accuracy: 0.7284\n",
      "Epoch 7/15\n",
      "400/400 - 24s - loss: 0.5176 - accuracy: 0.7374 - val_loss: 0.5502 - val_accuracy: 0.7238\n",
      "Epoch 8/15\n",
      "400/400 - 24s - loss: 0.5086 - accuracy: 0.7413 - val_loss: 0.5684 - val_accuracy: 0.6759\n",
      "Epoch 9/15\n",
      "400/400 - 24s - loss: 0.5057 - accuracy: 0.7426 - val_loss: 0.5576 - val_accuracy: 0.7305\n",
      "Epoch 10/15\n",
      "400/400 - 24s - loss: 0.5040 - accuracy: 0.7439 - val_loss: 0.5486 - val_accuracy: 0.7290\n",
      "Epoch 11/15\n",
      "400/400 - 24s - loss: 0.5037 - accuracy: 0.7455 - val_loss: 0.5635 - val_accuracy: 0.7239\n",
      "Epoch 12/15\n",
      "400/400 - 24s - loss: 0.5037 - accuracy: 0.7440 - val_loss: 0.5729 - val_accuracy: 0.7332\n",
      "Epoch 13/15\n",
      "400/400 - 24s - loss: 0.5053 - accuracy: 0.7461 - val_loss: 0.5682 - val_accuracy: 0.7311\n",
      "Epoch 14/15\n",
      "400/400 - 24s - loss: 0.5049 - accuracy: 0.7452 - val_loss: 0.5775 - val_accuracy: 0.7230\n",
      "Epoch 15/15\n",
      "400/400 - 24s - loss: 0.5125 - accuracy: 0.7406 - val_loss: 0.5919 - val_accuracy: 0.7210\n"
     ]
    },
    {
     "data": {
      "text/html": [
       "<span style=\"color:#4527A0\"><h1 style=\"font-size:18px\">Trial complete</h1></span>"
      ],
      "text/plain": [
       "<IPython.core.display.HTML object>"
      ]
     },
     "metadata": {},
     "output_type": "display_data"
    },
    {
     "data": {
      "text/html": [
       "<span style=\"color:#4527A0\"><h1 style=\"font-size:18px\">Trial summary</h1></span>"
      ],
      "text/plain": [
       "<IPython.core.display.HTML object>"
      ]
     },
     "metadata": {},
     "output_type": "display_data"
    },
    {
     "data": {
      "text/html": [
       "<span style=\"color:cyan\"> |-Trial ID: ea2849a96408e64025a674d765da2577</span>"
      ],
      "text/plain": [
       "<IPython.core.display.HTML object>"
      ]
     },
     "metadata": {},
     "output_type": "display_data"
    },
    {
     "data": {
      "text/html": [
       "<span style=\"color:cyan\"> |-Score: 0.7516799569129944</span>"
      ],
      "text/plain": [
       "<IPython.core.display.HTML object>"
      ]
     },
     "metadata": {},
     "output_type": "display_data"
    },
    {
     "data": {
      "text/html": [
       "<span style=\"color:cyan\"> |-Best step: 0</span>"
      ],
      "text/plain": [
       "<IPython.core.display.HTML object>"
      ]
     },
     "metadata": {},
     "output_type": "display_data"
    },
    {
     "data": {
      "text/html": [
       "<span style=\"color:#7E57C2\"><h2 style=\"font-size:16px\">Hyperparameters:</h2></span>"
      ],
      "text/plain": [
       "<IPython.core.display.HTML object>"
      ]
     },
     "metadata": {},
     "output_type": "display_data"
    },
    {
     "data": {
      "text/html": [
       "<span style=\"color:cyan\"> |-conv_filter_1: 32</span>"
      ],
      "text/plain": [
       "<IPython.core.display.HTML object>"
      ]
     },
     "metadata": {},
     "output_type": "display_data"
    },
    {
     "data": {
      "text/html": [
       "<span style=\"color:blue\"> |-conv_kernel_1: 7</span>"
      ],
      "text/plain": [
       "<IPython.core.display.HTML object>"
      ]
     },
     "metadata": {},
     "output_type": "display_data"
    },
    {
     "name": "stdout",
     "output_type": "stream",
     "text": [
      "WARNING:tensorflow:sample_weight modes were coerced from\n",
      "  ...\n",
      "    to  \n",
      "  ['...']\n",
      "WARNING:tensorflow:sample_weight modes were coerced from\n",
      "  ...\n",
      "    to  \n",
      "  ['...']\n",
      "Train for 400 steps, validate for 171 steps\n",
      "Epoch 1/15\n",
      "400/400 - 26s - loss: 6.4690 - accuracy: 0.5919 - val_loss: 0.6797 - val_accuracy: 0.5918\n",
      "Epoch 2/15\n",
      "400/400 - 25s - loss: 0.6767 - accuracy: 0.5946 - val_loss: 0.6763 - val_accuracy: 0.5919\n",
      "Epoch 3/15\n",
      "400/400 - 25s - loss: 0.6751 - accuracy: 0.5946 - val_loss: 0.6759 - val_accuracy: 0.5917\n",
      "Epoch 4/15\n",
      "400/400 - 25s - loss: 0.6745 - accuracy: 0.5946 - val_loss: 0.6748 - val_accuracy: 0.5916\n",
      "Epoch 5/15\n",
      "400/400 - 25s - loss: 0.6734 - accuracy: 0.5946 - val_loss: 0.6741 - val_accuracy: 0.5915\n",
      "Epoch 6/15\n",
      "400/400 - 25s - loss: 0.6714 - accuracy: 0.5946 - val_loss: 0.6711 - val_accuracy: 0.5921\n",
      "Epoch 7/15\n",
      "400/400 - 25s - loss: 0.6784 - accuracy: 0.5946 - val_loss: 0.6693 - val_accuracy: 0.5915\n",
      "Epoch 8/15\n",
      "400/400 - 25s - loss: 0.6612 - accuracy: 0.5945 - val_loss: 0.6493 - val_accuracy: 0.5921\n",
      "Epoch 9/15\n",
      "400/400 - 25s - loss: 0.6279 - accuracy: 0.6154 - val_loss: 0.6162 - val_accuracy: 0.6198\n",
      "Epoch 10/15\n",
      "400/400 - 25s - loss: 0.6065 - accuracy: 0.6532 - val_loss: 0.6033 - val_accuracy: 0.6387\n",
      "Epoch 11/15\n",
      "400/400 - 25s - loss: 0.5933 - accuracy: 0.6644 - val_loss: 0.5961 - val_accuracy: 0.6677\n",
      "Epoch 12/15\n",
      "400/400 - 25s - loss: 0.5860 - accuracy: 0.6701 - val_loss: 0.6659 - val_accuracy: 0.6668\n",
      "Epoch 13/15\n",
      "400/400 - 25s - loss: 0.5796 - accuracy: 0.6742 - val_loss: 0.6075 - val_accuracy: 0.6475\n",
      "Epoch 14/15\n",
      "400/400 - 25s - loss: 0.5831 - accuracy: 0.6713 - val_loss: 0.6591 - val_accuracy: 0.6112\n",
      "Epoch 15/15\n",
      "400/400 - 25s - loss: 0.5738 - accuracy: 0.6779 - val_loss: 0.6484 - val_accuracy: 0.6252\n",
      "WARNING:tensorflow:sample_weight modes were coerced from\n",
      "  ...\n",
      "    to  \n",
      "  ['...']\n",
      "WARNING:tensorflow:sample_weight modes were coerced from\n",
      "  ...\n",
      "    to  \n",
      "  ['...']\n",
      "Train for 400 steps, validate for 171 steps\n",
      "Epoch 1/15\n",
      "400/400 - 25s - loss: 8.6405 - accuracy: 0.5929 - val_loss: 0.6467 - val_accuracy: 0.5915\n",
      "Epoch 2/15\n",
      "400/400 - 25s - loss: 0.6340 - accuracy: 0.5946 - val_loss: 0.6304 - val_accuracy: 0.5920\n",
      "Epoch 3/15\n",
      "400/400 - 25s - loss: 0.6084 - accuracy: 0.5943 - val_loss: 0.5920 - val_accuracy: 0.5905\n",
      "Epoch 4/15\n",
      "400/400 - 25s - loss: 0.5793 - accuracy: 0.6236 - val_loss: 0.5669 - val_accuracy: 0.6485\n",
      "Epoch 5/15\n",
      "400/400 - 25s - loss: 0.5584 - accuracy: 0.6876 - val_loss: 0.5479 - val_accuracy: 0.7083\n",
      "Epoch 6/15\n",
      "400/400 - 25s - loss: 0.5455 - accuracy: 0.7140 - val_loss: 0.5406 - val_accuracy: 0.7088\n",
      "Epoch 7/15\n",
      "400/400 - 25s - loss: 0.5407 - accuracy: 0.7215 - val_loss: 0.5410 - val_accuracy: 0.7049\n",
      "Epoch 8/15\n",
      "400/400 - 25s - loss: 0.5363 - accuracy: 0.7261 - val_loss: 0.5377 - val_accuracy: 0.7097\n",
      "Epoch 9/15\n",
      "400/400 - 25s - loss: 0.5370 - accuracy: 0.7261 - val_loss: 0.5335 - val_accuracy: 0.7168\n",
      "Epoch 10/15\n",
      "400/400 - 25s - loss: 0.5318 - accuracy: 0.7307 - val_loss: 0.5427 - val_accuracy: 0.7090\n",
      "Epoch 11/15\n",
      "400/400 - 25s - loss: 0.5289 - accuracy: 0.7340 - val_loss: 0.5562 - val_accuracy: 0.7002\n",
      "Epoch 12/15\n",
      "400/400 - 25s - loss: 0.5257 - accuracy: 0.7369 - val_loss: 0.5720 - val_accuracy: 0.6946\n",
      "Epoch 13/15\n",
      "400/400 - 25s - loss: 0.5228 - accuracy: 0.7395 - val_loss: 0.5549 - val_accuracy: 0.7122\n",
      "WARNING:tensorflow:sample_weight modes were coerced from\n",
      "  ...\n",
      "    to  \n",
      "  ['...']\n",
      "WARNING:tensorflow:sample_weight modes were coerced from\n",
      "  ...\n",
      "    to  \n",
      "  ['...']\n",
      "Train for 400 steps, validate for 171 steps\n",
      "Epoch 1/15\n",
      "400/400 - 25s - loss: 7.9876 - accuracy: 0.5930 - val_loss: 0.6352 - val_accuracy: 0.5916\n",
      "Epoch 2/15\n",
      "400/400 - 25s - loss: 0.6197 - accuracy: 0.6232 - val_loss: 0.6067 - val_accuracy: 0.6864\n",
      "Epoch 3/15\n",
      "400/400 - 25s - loss: 0.6050 - accuracy: 0.6599 - val_loss: 0.5993 - val_accuracy: 0.6457\n",
      "Epoch 4/15\n",
      "400/400 - 25s - loss: 0.5963 - accuracy: 0.6661 - val_loss: 0.6084 - val_accuracy: 0.6773\n",
      "Epoch 5/15\n",
      "400/400 - 25s - loss: 0.5799 - accuracy: 0.6753 - val_loss: 0.6679 - val_accuracy: 0.6676\n",
      "Epoch 6/15\n",
      "400/400 - 25s - loss: 0.5600 - accuracy: 0.6960 - val_loss: 0.6685 - val_accuracy: 0.7006\n",
      "Epoch 7/15\n",
      "400/400 - 25s - loss: 0.5437 - accuracy: 0.7109 - val_loss: 0.6820 - val_accuracy: 0.7019\n",
      "Epoch 8/15\n",
      "400/400 - 25s - loss: 0.5429 - accuracy: 0.7110 - val_loss: 0.6724 - val_accuracy: 0.7015\n",
      "Epoch 9/15\n",
      "400/400 - 25s - loss: 0.5397 - accuracy: 0.7131 - val_loss: 0.6168 - val_accuracy: 0.6980\n",
      "Epoch 10/15\n",
      "400/400 - 25s - loss: 0.5350 - accuracy: 0.7152 - val_loss: 0.6280 - val_accuracy: 0.7109\n",
      "Epoch 11/15\n",
      "400/400 - 25s - loss: 0.5305 - accuracy: 0.7205 - val_loss: 0.6015 - val_accuracy: 0.7090\n",
      "Epoch 12/15\n",
      "400/400 - 25s - loss: 0.5295 - accuracy: 0.7198 - val_loss: 0.5693 - val_accuracy: 0.6916\n",
      "Epoch 13/15\n",
      "400/400 - 25s - loss: 0.5254 - accuracy: 0.7291 - val_loss: 0.6465 - val_accuracy: 0.7125\n",
      "Epoch 14/15\n",
      "400/400 - 25s - loss: 0.5311 - accuracy: 0.7223 - val_loss: 0.5573 - val_accuracy: 0.6838\n",
      "Epoch 15/15\n",
      "400/400 - 25s - loss: 0.5427 - accuracy: 0.7180 - val_loss: 0.5353 - val_accuracy: 0.7322\n",
      "WARNING:tensorflow:sample_weight modes were coerced from\n",
      "  ...\n",
      "    to  \n",
      "  ['...']\n",
      "WARNING:tensorflow:sample_weight modes were coerced from\n",
      "  ...\n",
      "    to  \n",
      "  ['...']\n",
      "Train for 400 steps, validate for 171 steps\n",
      "Epoch 1/15\n",
      "400/400 - 25s - loss: 10.4244 - accuracy: 0.6044 - val_loss: 0.6333 - val_accuracy: 0.6162\n",
      "Epoch 2/15\n",
      "400/400 - 25s - loss: 0.5563 - accuracy: 0.7093 - val_loss: 0.6056 - val_accuracy: 0.6776\n",
      "Epoch 3/15\n",
      "400/400 - 25s - loss: 0.5463 - accuracy: 0.7179 - val_loss: 0.5353 - val_accuracy: 0.7362\n",
      "Epoch 4/15\n",
      "400/400 - 25s - loss: 0.5336 - accuracy: 0.7290 - val_loss: 0.5402 - val_accuracy: 0.7351\n",
      "Epoch 5/15\n",
      "400/400 - 25s - loss: 0.5242 - accuracy: 0.7342 - val_loss: 0.5513 - val_accuracy: 0.7335\n",
      "Epoch 6/15\n",
      "400/400 - 25s - loss: 0.5250 - accuracy: 0.7341 - val_loss: 0.5422 - val_accuracy: 0.7375\n",
      "Epoch 7/15\n",
      "400/400 - 25s - loss: 0.5167 - accuracy: 0.7404 - val_loss: 0.5519 - val_accuracy: 0.7266\n",
      "Epoch 8/15\n",
      "400/400 - 25s - loss: 0.5161 - accuracy: 0.7405 - val_loss: 0.5417 - val_accuracy: 0.7359\n",
      "Epoch 9/15\n",
      "400/400 - 25s - loss: 0.5166 - accuracy: 0.7406 - val_loss: 0.5594 - val_accuracy: 0.7304\n",
      "Epoch 10/15\n",
      "400/400 - 25s - loss: 0.5040 - accuracy: 0.7484 - val_loss: 0.5515 - val_accuracy: 0.7359\n",
      "WARNING:tensorflow:sample_weight modes were coerced from\n",
      "  ...\n",
      "    to  \n",
      "  ['...']\n",
      "WARNING:tensorflow:sample_weight modes were coerced from\n",
      "  ...\n",
      "    to  \n",
      "  ['...']\n",
      "Train for 400 steps, validate for 171 steps\n",
      "Epoch 1/15\n",
      "400/400 - 25s - loss: 6.5871 - accuracy: 0.5928 - val_loss: 0.6908 - val_accuracy: 0.5916\n",
      "Epoch 2/15\n",
      "400/400 - 25s - loss: 0.6532 - accuracy: 0.5960 - val_loss: 0.6893 - val_accuracy: 0.5918\n",
      "Epoch 3/15\n",
      "400/400 - 25s - loss: 0.6412 - accuracy: 0.5943 - val_loss: 0.6051 - val_accuracy: 0.5913\n",
      "Epoch 4/15\n",
      "400/400 - 25s - loss: 0.6134 - accuracy: 0.5952 - val_loss: 0.6049 - val_accuracy: 0.5919\n",
      "Epoch 5/15\n",
      "400/400 - 25s - loss: 0.5905 - accuracy: 0.6279 - val_loss: 0.5887 - val_accuracy: 0.6179\n",
      "Epoch 6/15\n",
      "400/400 - 25s - loss: 0.5663 - accuracy: 0.6852 - val_loss: 0.5571 - val_accuracy: 0.6992\n",
      "Epoch 7/15\n",
      "400/400 - 25s - loss: 0.5461 - accuracy: 0.7157 - val_loss: 0.5433 - val_accuracy: 0.7182\n",
      "Epoch 8/15\n",
      "400/400 - 25s - loss: 0.5396 - accuracy: 0.7211 - val_loss: 0.5431 - val_accuracy: 0.7370\n",
      "Epoch 9/15\n",
      "400/400 - 25s - loss: 0.5311 - accuracy: 0.7306 - val_loss: 0.5383 - val_accuracy: 0.7438\n",
      "Epoch 10/15\n",
      "400/400 - 25s - loss: 0.5247 - accuracy: 0.7364 - val_loss: 0.5422 - val_accuracy: 0.7446\n",
      "Epoch 11/15\n",
      "400/400 - 25s - loss: 0.5241 - accuracy: 0.7340 - val_loss: 0.5518 - val_accuracy: 0.7204\n",
      "Epoch 12/15\n",
      "400/400 - 25s - loss: 0.5334 - accuracy: 0.7306 - val_loss: 0.5343 - val_accuracy: 0.7351\n",
      "Epoch 13/15\n",
      "400/400 - 25s - loss: 0.5253 - accuracy: 0.7386 - val_loss: 0.5329 - val_accuracy: 0.7419\n",
      "Epoch 14/15\n",
      "400/400 - 25s - loss: 0.5224 - accuracy: 0.7394 - val_loss: 0.5402 - val_accuracy: 0.7434\n",
      "WARNING:tensorflow:sample_weight modes were coerced from\n",
      "  ...\n",
      "    to  \n",
      "  ['...']\n",
      "WARNING:tensorflow:sample_weight modes were coerced from\n",
      "  ...\n",
      "    to  \n",
      "  ['...']\n",
      "Train for 400 steps, validate for 171 steps\n",
      "Epoch 1/15\n",
      "400/400 - 25s - loss: 5.8258 - accuracy: 0.5932 - val_loss: 0.6795 - val_accuracy: 0.5915\n",
      "Epoch 2/15\n",
      "400/400 - 25s - loss: 0.6755 - accuracy: 0.5946 - val_loss: 0.6747 - val_accuracy: 0.5916\n",
      "Epoch 3/15\n",
      "400/400 - 25s - loss: 0.6637 - accuracy: 0.5946 - val_loss: 0.6685 - val_accuracy: 0.5912\n",
      "Epoch 4/15\n",
      "400/400 - 25s - loss: 0.6659 - accuracy: 0.5946 - val_loss: 0.6618 - val_accuracy: 0.5915\n",
      "Epoch 5/15\n",
      "400/400 - 25s - loss: 0.6544 - accuracy: 0.5946 - val_loss: 0.6502 - val_accuracy: 0.5920\n",
      "Epoch 6/15\n",
      "400/400 - 25s - loss: 0.6465 - accuracy: 0.5946 - val_loss: 0.6420 - val_accuracy: 0.5916\n",
      "Epoch 7/15\n",
      "400/400 - 25s - loss: 0.6373 - accuracy: 0.5986 - val_loss: 0.6288 - val_accuracy: 0.6255\n",
      "Epoch 8/15\n",
      "400/400 - 25s - loss: 0.5818 - accuracy: 0.6671 - val_loss: 0.5531 - val_accuracy: 0.6870\n",
      "Epoch 9/15\n",
      "400/400 - 25s - loss: 0.5500 - accuracy: 0.7099 - val_loss: 0.5413 - val_accuracy: 0.7051\n",
      "Epoch 10/15\n",
      "400/400 - 25s - loss: 0.5348 - accuracy: 0.7274 - val_loss: 0.5505 - val_accuracy: 0.6784\n",
      "Epoch 11/15\n",
      "400/400 - 25s - loss: 0.5298 - accuracy: 0.7359 - val_loss: 0.5762 - val_accuracy: 0.7350\n",
      "Epoch 12/15\n",
      "400/400 - 25s - loss: 0.5286 - accuracy: 0.7390 - val_loss: 0.5649 - val_accuracy: 0.7353\n",
      "Epoch 13/15\n",
      "400/400 - 25s - loss: 0.5271 - accuracy: 0.7415 - val_loss: 0.5576 - val_accuracy: 0.7380\n",
      "Epoch 14/15\n",
      "400/400 - 25s - loss: 0.5238 - accuracy: 0.7452 - val_loss: 0.5478 - val_accuracy: 0.7450\n",
      "Epoch 15/15\n",
      "400/400 - 25s - loss: 0.5190 - accuracy: 0.7489 - val_loss: 0.5366 - val_accuracy: 0.7492\n"
     ]
    },
    {
     "data": {
      "text/html": [
       "<span style=\"color:#4527A0\"><h1 style=\"font-size:18px\">Trial complete</h1></span>"
      ],
      "text/plain": [
       "<IPython.core.display.HTML object>"
      ]
     },
     "metadata": {},
     "output_type": "display_data"
    },
    {
     "data": {
      "text/html": [
       "<span style=\"color:#4527A0\"><h1 style=\"font-size:18px\">Trial summary</h1></span>"
      ],
      "text/plain": [
       "<IPython.core.display.HTML object>"
      ]
     },
     "metadata": {},
     "output_type": "display_data"
    },
    {
     "data": {
      "text/html": [
       "<span style=\"color:cyan\"> |-Trial ID: f722c6478d5d3b5fe2297b0de45561eb</span>"
      ],
      "text/plain": [
       "<IPython.core.display.HTML object>"
      ]
     },
     "metadata": {},
     "output_type": "display_data"
    },
    {
     "data": {
      "text/html": [
       "<span style=\"color:cyan\"> |-Score: 0.7246552109718323</span>"
      ],
      "text/plain": [
       "<IPython.core.display.HTML object>"
      ]
     },
     "metadata": {},
     "output_type": "display_data"
    },
    {
     "data": {
      "text/html": [
       "<span style=\"color:cyan\"> |-Best step: 0</span>"
      ],
      "text/plain": [
       "<IPython.core.display.HTML object>"
      ]
     },
     "metadata": {},
     "output_type": "display_data"
    },
    {
     "data": {
      "text/html": [
       "<span style=\"color:#7E57C2\"><h2 style=\"font-size:16px\">Hyperparameters:</h2></span>"
      ],
      "text/plain": [
       "<IPython.core.display.HTML object>"
      ]
     },
     "metadata": {},
     "output_type": "display_data"
    },
    {
     "data": {
      "text/html": [
       "<span style=\"color:cyan\"> |-conv_filter_1: 32</span>"
      ],
      "text/plain": [
       "<IPython.core.display.HTML object>"
      ]
     },
     "metadata": {},
     "output_type": "display_data"
    },
    {
     "data": {
      "text/html": [
       "<span style=\"color:blue\"> |-conv_kernel_1: 9</span>"
      ],
      "text/plain": [
       "<IPython.core.display.HTML object>"
      ]
     },
     "metadata": {},
     "output_type": "display_data"
    },
    {
     "name": "stdout",
     "output_type": "stream",
     "text": [
      "WARNING:tensorflow:sample_weight modes were coerced from\n",
      "  ...\n",
      "    to  \n",
      "  ['...']\n",
      "WARNING:tensorflow:sample_weight modes were coerced from\n",
      "  ...\n",
      "    to  \n",
      "  ['...']\n",
      "Train for 400 steps, validate for 171 steps\n",
      "Epoch 1/15\n",
      "400/400 - 68s - loss: 13.6574 - accuracy: 0.5932 - val_loss: 0.5993 - val_accuracy: 0.5921\n",
      "Epoch 2/15\n",
      "400/400 - 67s - loss: 0.5742 - accuracy: 0.6708 - val_loss: 0.5855 - val_accuracy: 0.7180\n",
      "Epoch 3/15\n",
      "400/400 - 67s - loss: 0.5648 - accuracy: 0.6994 - val_loss: 0.5638 - val_accuracy: 0.7106\n",
      "Epoch 4/15\n",
      "400/400 - 67s - loss: 0.5628 - accuracy: 0.6986 - val_loss: 0.5738 - val_accuracy: 0.7084\n",
      "Epoch 5/15\n",
      "400/400 - 67s - loss: 0.5604 - accuracy: 0.7017 - val_loss: 0.5763 - val_accuracy: 0.7029\n",
      "Epoch 6/15\n",
      "400/400 - 67s - loss: 0.5567 - accuracy: 0.7046 - val_loss: 0.5773 - val_accuracy: 0.7024\n",
      "WARNING:tensorflow:sample_weight modes were coerced from\n",
      "  ...\n",
      "    to  \n",
      "  ['...']\n",
      "WARNING:tensorflow:sample_weight modes were coerced from\n",
      "  ...\n",
      "    to  \n",
      "  ['...']\n",
      "Train for 400 steps, validate for 171 steps\n",
      "Epoch 1/15\n",
      "400/400 - 67s - loss: 12.8547 - accuracy: 0.5928 - val_loss: 0.6424 - val_accuracy: 0.5915\n",
      "Epoch 2/15\n",
      "400/400 - 67s - loss: 0.6269 - accuracy: 0.5952 - val_loss: 0.6220 - val_accuracy: 0.5936\n",
      "Epoch 3/15\n",
      "400/400 - 67s - loss: 0.6002 - accuracy: 0.6167 - val_loss: 0.5810 - val_accuracy: 0.6621\n",
      "Epoch 4/15\n",
      "400/400 - 67s - loss: 0.5325 - accuracy: 0.7220 - val_loss: 0.5394 - val_accuracy: 0.7200\n",
      "Epoch 5/15\n",
      "400/400 - 85s - loss: 0.5124 - accuracy: 0.7410 - val_loss: 0.5086 - val_accuracy: 0.7526\n",
      "Epoch 6/15\n",
      "400/400 - 68s - loss: 0.5003 - accuracy: 0.7481 - val_loss: 0.5123 - val_accuracy: 0.7587\n",
      "Epoch 7/15\n",
      "400/400 - 67s - loss: 0.4983 - accuracy: 0.7488 - val_loss: 0.5194 - val_accuracy: 0.7604\n",
      "Epoch 8/15\n",
      "400/400 - 79s - loss: 0.4993 - accuracy: 0.7491 - val_loss: 0.5151 - val_accuracy: 0.7587\n",
      "Epoch 9/15\n",
      "400/400 - 87s - loss: 0.5106 - accuracy: 0.7393 - val_loss: 0.5356 - val_accuracy: 0.7429\n",
      "Epoch 10/15\n",
      "400/400 - 90s - loss: 0.5047 - accuracy: 0.7461 - val_loss: 0.5368 - val_accuracy: 0.7605\n",
      "Epoch 11/15\n",
      "400/400 - 67s - loss: 0.5167 - accuracy: 0.7369 - val_loss: 0.5654 - val_accuracy: 0.7268\n",
      "Epoch 12/15\n",
      "400/400 - 67s - loss: 0.5039 - accuracy: 0.7498 - val_loss: 0.5201 - val_accuracy: 0.7655\n",
      "Epoch 13/15\n",
      "400/400 - 67s - loss: 0.5135 - accuracy: 0.7392 - val_loss: 0.6824 - val_accuracy: 0.5915\n",
      "Epoch 14/15\n",
      "400/400 - 67s - loss: 0.6068 - accuracy: 0.6453 - val_loss: 0.5751 - val_accuracy: 0.7044\n",
      "Epoch 15/15\n",
      "400/400 - 67s - loss: 0.5592 - accuracy: 0.7099 - val_loss: 0.5806 - val_accuracy: 0.6799\n",
      "WARNING:tensorflow:sample_weight modes were coerced from\n",
      "  ...\n",
      "    to  \n",
      "  ['...']\n",
      "WARNING:tensorflow:sample_weight modes were coerced from\n",
      "  ...\n",
      "    to  \n",
      "  ['...']\n",
      "Train for 400 steps, validate for 171 steps\n",
      "Epoch 1/15\n",
      "400/400 - 67s - loss: 12.6827 - accuracy: 0.6628 - val_loss: 0.5401 - val_accuracy: 0.7211\n",
      "Epoch 2/15\n",
      "400/400 - 67s - loss: 0.5260 - accuracy: 0.7308 - val_loss: 0.5365 - val_accuracy: 0.7512\n",
      "Epoch 3/15\n",
      "400/400 - 67s - loss: 0.5139 - accuracy: 0.7372 - val_loss: 0.5350 - val_accuracy: 0.7562\n",
      "Epoch 4/15\n",
      "400/400 - 67s - loss: 0.5040 - accuracy: 0.7444 - val_loss: 0.5337 - val_accuracy: 0.7523\n",
      "Epoch 5/15\n",
      "400/400 - 67s - loss: 0.4969 - accuracy: 0.7512 - val_loss: 0.5316 - val_accuracy: 0.7621\n",
      "Epoch 6/15\n",
      "400/400 - 67s - loss: 0.4882 - accuracy: 0.7573 - val_loss: 0.5022 - val_accuracy: 0.7636\n",
      "Epoch 7/15\n",
      "400/400 - 67s - loss: 0.4846 - accuracy: 0.7610 - val_loss: 0.5099 - val_accuracy: 0.7617\n",
      "Epoch 8/15\n",
      "400/400 - 67s - loss: 0.4852 - accuracy: 0.7641 - val_loss: 0.5009 - val_accuracy: 0.7582\n",
      "Epoch 9/15\n",
      "400/400 - 67s - loss: 0.4697 - accuracy: 0.7699 - val_loss: 0.5018 - val_accuracy: 0.7599\n",
      "Epoch 10/15\n",
      "400/400 - 67s - loss: 0.4650 - accuracy: 0.7725 - val_loss: 0.5086 - val_accuracy: 0.7651\n",
      "Epoch 11/15\n",
      "400/400 - 67s - loss: 0.4639 - accuracy: 0.7713 - val_loss: 0.5125 - val_accuracy: 0.7335\n",
      "Epoch 12/15\n",
      "400/400 - 67s - loss: 0.4848 - accuracy: 0.7577 - val_loss: 0.5275 - val_accuracy: 0.7548\n",
      "Epoch 13/15\n",
      "400/400 - 67s - loss: 0.4711 - accuracy: 0.7686 - val_loss: 0.5570 - val_accuracy: 0.7494\n",
      "Epoch 14/15\n",
      "400/400 - 67s - loss: 0.4688 - accuracy: 0.7699 - val_loss: 0.5569 - val_accuracy: 0.7501\n",
      "WARNING:tensorflow:sample_weight modes were coerced from\n",
      "  ...\n",
      "    to  \n",
      "  ['...']\n",
      "WARNING:tensorflow:sample_weight modes were coerced from\n",
      "  ...\n",
      "    to  \n",
      "  ['...']\n",
      "Train for 400 steps, validate for 171 steps\n",
      "Epoch 1/15\n",
      "400/400 - 67s - loss: 10.6553 - accuracy: 0.5920 - val_loss: 0.6555 - val_accuracy: 0.5918\n",
      "Epoch 2/15\n",
      "400/400 - 67s - loss: 0.6347 - accuracy: 0.5946 - val_loss: 0.6423 - val_accuracy: 0.5912\n",
      "Epoch 3/15\n",
      "400/400 - 67s - loss: 0.6183 - accuracy: 0.5976 - val_loss: 0.6190 - val_accuracy: 0.5923\n",
      "Epoch 4/15\n",
      "400/400 - 67s - loss: 0.5778 - accuracy: 0.6580 - val_loss: 0.5808 - val_accuracy: 0.6831\n",
      "Epoch 5/15\n",
      "400/400 - 67s - loss: 0.5453 - accuracy: 0.7063 - val_loss: 0.5516 - val_accuracy: 0.7435\n",
      "Epoch 6/15\n",
      "400/400 - 67s - loss: 0.5149 - accuracy: 0.7412 - val_loss: 0.5415 - val_accuracy: 0.7492\n",
      "Epoch 7/15\n",
      "400/400 - 67s - loss: 0.5122 - accuracy: 0.7450 - val_loss: 0.5435 - val_accuracy: 0.7502\n",
      "Epoch 8/15\n",
      "400/400 - 67s - loss: 0.5111 - accuracy: 0.7465 - val_loss: 0.5319 - val_accuracy: 0.7524\n",
      "Epoch 9/15\n",
      "400/400 - 67s - loss: 0.5040 - accuracy: 0.7500 - val_loss: 0.5326 - val_accuracy: 0.7530\n",
      "Epoch 10/15\n",
      "400/400 - 67s - loss: 0.4986 - accuracy: 0.7539 - val_loss: 0.5242 - val_accuracy: 0.7607\n",
      "Epoch 11/15\n",
      "400/400 - 67s - loss: 0.4998 - accuracy: 0.7558 - val_loss: 0.5403 - val_accuracy: 0.7521\n",
      "Epoch 12/15\n",
      "400/400 - 67s - loss: 0.4938 - accuracy: 0.7572 - val_loss: 0.5328 - val_accuracy: 0.7511\n",
      "Epoch 13/15\n",
      "400/400 - 67s - loss: 0.4868 - accuracy: 0.7612 - val_loss: 0.5366 - val_accuracy: 0.7552\n",
      "Epoch 14/15\n",
      "400/400 - 67s - loss: 0.4901 - accuracy: 0.7597 - val_loss: 0.5187 - val_accuracy: 0.7495\n",
      "WARNING:tensorflow:sample_weight modes were coerced from\n",
      "  ...\n",
      "    to  \n",
      "  ['...']\n",
      "WARNING:tensorflow:sample_weight modes were coerced from\n",
      "  ...\n",
      "    to  \n",
      "  ['...']\n",
      "Train for 400 steps, validate for 171 steps\n",
      "Epoch 1/15\n",
      "400/400 - 67s - loss: 8.7222 - accuracy: 0.5929 - val_loss: 0.6569 - val_accuracy: 0.5916\n",
      "Epoch 2/15\n",
      "400/400 - 67s - loss: 0.6376 - accuracy: 0.5947 - val_loss: 0.6372 - val_accuracy: 0.5921\n",
      "Epoch 3/15\n",
      "400/400 - 67s - loss: 0.6299 - accuracy: 0.5943 - val_loss: 0.6362 - val_accuracy: 0.5912\n",
      "Epoch 4/15\n",
      "400/400 - 67s - loss: 0.6268 - accuracy: 0.5946 - val_loss: 0.6436 - val_accuracy: 0.5899\n",
      "Epoch 5/15\n",
      "400/400 - 67s - loss: 0.6317 - accuracy: 0.5950 - val_loss: 0.6428 - val_accuracy: 0.5881\n",
      "Epoch 6/15\n",
      "400/400 - 67s - loss: 0.6308 - accuracy: 0.5955 - val_loss: 0.6442 - val_accuracy: 0.5876\n",
      "WARNING:tensorflow:sample_weight modes were coerced from\n",
      "  ...\n",
      "    to  \n",
      "  ['...']\n",
      "WARNING:tensorflow:sample_weight modes were coerced from\n",
      "  ...\n",
      "    to  \n",
      "  ['...']\n",
      "Train for 400 steps, validate for 171 steps\n",
      "Epoch 1/15\n",
      "400/400 - 68s - loss: 13.0380 - accuracy: 0.6074 - val_loss: 0.6471 - val_accuracy: 0.6070\n",
      "Epoch 2/15\n",
      "400/400 - 67s - loss: 0.6002 - accuracy: 0.6503 - val_loss: 0.6331 - val_accuracy: 0.6329\n",
      "Epoch 3/15\n",
      "400/400 - 67s - loss: 0.5825 - accuracy: 0.6690 - val_loss: 0.6060 - val_accuracy: 0.6601\n",
      "Epoch 4/15\n",
      "400/400 - 67s - loss: 0.5734 - accuracy: 0.6763 - val_loss: 0.6011 - val_accuracy: 0.6664\n",
      "Epoch 5/15\n",
      "400/400 - 67s - loss: 0.5730 - accuracy: 0.6776 - val_loss: 0.6198 - val_accuracy: 0.6473\n",
      "Epoch 6/15\n",
      "400/400 - 67s - loss: 0.5784 - accuracy: 0.6694 - val_loss: 0.5960 - val_accuracy: 0.6662\n",
      "Epoch 7/15\n",
      "400/400 - 67s - loss: 0.5727 - accuracy: 0.6730 - val_loss: 0.6009 - val_accuracy: 0.6635\n",
      "Epoch 8/15\n",
      "400/400 - 67s - loss: 0.5710 - accuracy: 0.6745 - val_loss: 0.6051 - val_accuracy: 0.6675\n",
      "Epoch 9/15\n",
      "400/400 - 67s - loss: 0.5640 - accuracy: 0.6801 - val_loss: 0.5986 - val_accuracy: 0.6725\n",
      "Epoch 10/15\n",
      "400/400 - 78s - loss: 0.5847 - accuracy: 0.6667 - val_loss: 0.6141 - val_accuracy: 0.6766\n",
      "Epoch 11/15\n",
      "400/400 - 67s - loss: 0.5698 - accuracy: 0.6764 - val_loss: 0.6066 - val_accuracy: 0.6817\n",
      "Epoch 12/15\n",
      "400/400 - 67s - loss: 0.5600 - accuracy: 0.6841 - val_loss: 0.6052 - val_accuracy: 0.6753\n",
      "Epoch 13/15\n",
      "400/400 - 67s - loss: 0.5526 - accuracy: 0.6970 - val_loss: 0.5784 - val_accuracy: 0.6971\n",
      "Epoch 14/15\n",
      "400/400 - 67s - loss: 0.5355 - accuracy: 0.7179 - val_loss: 0.5819 - val_accuracy: 0.6923\n",
      "Epoch 15/15\n",
      "400/400 - 67s - loss: 0.5332 - accuracy: 0.7217 - val_loss: 0.5727 - val_accuracy: 0.7138\n"
     ]
    },
    {
     "data": {
      "text/html": [
       "<span style=\"color:#4527A0\"><h1 style=\"font-size:18px\">Trial complete</h1></span>"
      ],
      "text/plain": [
       "<IPython.core.display.HTML object>"
      ]
     },
     "metadata": {},
     "output_type": "display_data"
    },
    {
     "data": {
      "text/html": [
       "<span style=\"color:#4527A0\"><h1 style=\"font-size:18px\">Trial summary</h1></span>"
      ],
      "text/plain": [
       "<IPython.core.display.HTML object>"
      ]
     },
     "metadata": {},
     "output_type": "display_data"
    },
    {
     "data": {
      "text/html": [
       "<span style=\"color:cyan\"> |-Trial ID: 583db138c123f1217079a149c27d213c</span>"
      ],
      "text/plain": [
       "<IPython.core.display.HTML object>"
      ]
     },
     "metadata": {},
     "output_type": "display_data"
    },
    {
     "data": {
      "text/html": [
       "<span style=\"color:cyan\"> |-Score: 0.7191999554634094</span>"
      ],
      "text/plain": [
       "<IPython.core.display.HTML object>"
      ]
     },
     "metadata": {},
     "output_type": "display_data"
    },
    {
     "data": {
      "text/html": [
       "<span style=\"color:cyan\"> |-Best step: 0</span>"
      ],
      "text/plain": [
       "<IPython.core.display.HTML object>"
      ]
     },
     "metadata": {},
     "output_type": "display_data"
    },
    {
     "data": {
      "text/html": [
       "<span style=\"color:#7E57C2\"><h2 style=\"font-size:16px\">Hyperparameters:</h2></span>"
      ],
      "text/plain": [
       "<IPython.core.display.HTML object>"
      ]
     },
     "metadata": {},
     "output_type": "display_data"
    },
    {
     "data": {
      "text/html": [
       "<span style=\"color:cyan\"> |-conv_filter_1: 128</span>"
      ],
      "text/plain": [
       "<IPython.core.display.HTML object>"
      ]
     },
     "metadata": {},
     "output_type": "display_data"
    },
    {
     "data": {
      "text/html": [
       "<span style=\"color:blue\"> |-conv_kernel_1: 7</span>"
      ],
      "text/plain": [
       "<IPython.core.display.HTML object>"
      ]
     },
     "metadata": {},
     "output_type": "display_data"
    },
    {
     "name": "stdout",
     "output_type": "stream",
     "text": [
      "INFO:tensorflow:Oracle triggered exit\n"
     ]
    }
   ],
   "source": [
    "early_stopping_callback = tf.keras.callbacks.EarlyStopping(monitor='val_accuracy', patience=4)\n",
    "tuner.search(\n",
    "    data_gen(TRAIN_SET[:51200], FILE_LABELS, BATCH_SIZE), \n",
    "    steps_per_epoch=len(TRAIN_SET[:51200]) // BATCH_SIZE,\n",
    "    epochs=15, \n",
    "    validation_data=data_gen(TEST_SET, FILE_LABELS, BATCH_SIZE),\n",
    "    validation_steps=len(TEST_SET) // BATCH_SIZE,\n",
    "    callbacks=[early_stopping_callback],\n",
    "    verbose=2\n",
    ")"
   ]
  },
  {
   "cell_type": "code",
   "execution_count": 11,
   "metadata": {},
   "outputs": [
    {
     "data": {
      "text/html": [
       "<span style=\"color:#4527A0\"><h1 style=\"font-size:18px\">Results summary</h1></span>"
      ],
      "text/plain": [
       "<IPython.core.display.HTML object>"
      ]
     },
     "metadata": {},
     "output_type": "display_data"
    },
    {
     "data": {
      "text/html": [
       "<span style=\"color:cyan\"> |-Results in my_dir10\\hyperparameter-10</span>"
      ],
      "text/plain": [
       "<IPython.core.display.HTML object>"
      ]
     },
     "metadata": {},
     "output_type": "display_data"
    },
    {
     "data": {
      "text/html": [
       "<span style=\"color:cyan\"> |-Showing 10 best trials</span>"
      ],
      "text/plain": [
       "<IPython.core.display.HTML object>"
      ]
     },
     "metadata": {},
     "output_type": "display_data"
    },
    {
     "data": {
      "text/html": [
       "<span style=\"color:cyan\"> |-Objective(name='val_accuracy', direction='max')</span>"
      ],
      "text/plain": [
       "<IPython.core.display.HTML object>"
      ]
     },
     "metadata": {},
     "output_type": "display_data"
    },
    {
     "data": {
      "text/html": [
       "<span style=\"color:#4527A0\"><h1 style=\"font-size:18px\">Trial summary</h1></span>"
      ],
      "text/plain": [
       "<IPython.core.display.HTML object>"
      ]
     },
     "metadata": {},
     "output_type": "display_data"
    },
    {
     "data": {
      "text/html": [
       "<span style=\"color:cyan\"> |-Trial ID: 5ee892b832c9179c1ba271e8a4508db9</span>"
      ],
      "text/plain": [
       "<IPython.core.display.HTML object>"
      ]
     },
     "metadata": {},
     "output_type": "display_data"
    },
    {
     "data": {
      "text/html": [
       "<span style=\"color:cyan\"> |-Score: 0.7716800570487976</span>"
      ],
      "text/plain": [
       "<IPython.core.display.HTML object>"
      ]
     },
     "metadata": {},
     "output_type": "display_data"
    },
    {
     "data": {
      "text/html": [
       "<span style=\"color:cyan\"> |-Best step: 0</span>"
      ],
      "text/plain": [
       "<IPython.core.display.HTML object>"
      ]
     },
     "metadata": {},
     "output_type": "display_data"
    },
    {
     "data": {
      "text/html": [
       "<span style=\"color:#7E57C2\"><h2 style=\"font-size:16px\">Hyperparameters:</h2></span>"
      ],
      "text/plain": [
       "<IPython.core.display.HTML object>"
      ]
     },
     "metadata": {},
     "output_type": "display_data"
    },
    {
     "data": {
      "text/html": [
       "<span style=\"color:cyan\"> |-conv_filter_1: 128</span>"
      ],
      "text/plain": [
       "<IPython.core.display.HTML object>"
      ]
     },
     "metadata": {},
     "output_type": "display_data"
    },
    {
     "data": {
      "text/html": [
       "<span style=\"color:blue\"> |-conv_kernel_1: 3</span>"
      ],
      "text/plain": [
       "<IPython.core.display.HTML object>"
      ]
     },
     "metadata": {},
     "output_type": "display_data"
    },
    {
     "data": {
      "text/html": [
       "<span style=\"color:#4527A0\"><h1 style=\"font-size:18px\">Trial summary</h1></span>"
      ],
      "text/plain": [
       "<IPython.core.display.HTML object>"
      ]
     },
     "metadata": {},
     "output_type": "display_data"
    },
    {
     "data": {
      "text/html": [
       "<span style=\"color:cyan\"> |-Trial ID: 61ee903e9e10f3086a1e3976258f9486</span>"
      ],
      "text/plain": [
       "<IPython.core.display.HTML object>"
      ]
     },
     "metadata": {},
     "output_type": "display_data"
    },
    {
     "data": {
      "text/html": [
       "<span style=\"color:cyan\"> |-Score: 0.7699657082557678</span>"
      ],
      "text/plain": [
       "<IPython.core.display.HTML object>"
      ]
     },
     "metadata": {},
     "output_type": "display_data"
    },
    {
     "data": {
      "text/html": [
       "<span style=\"color:cyan\"> |-Best step: 0</span>"
      ],
      "text/plain": [
       "<IPython.core.display.HTML object>"
      ]
     },
     "metadata": {},
     "output_type": "display_data"
    },
    {
     "data": {
      "text/html": [
       "<span style=\"color:#7E57C2\"><h2 style=\"font-size:16px\">Hyperparameters:</h2></span>"
      ],
      "text/plain": [
       "<IPython.core.display.HTML object>"
      ]
     },
     "metadata": {},
     "output_type": "display_data"
    },
    {
     "data": {
      "text/html": [
       "<span style=\"color:cyan\"> |-conv_filter_1: 64</span>"
      ],
      "text/plain": [
       "<IPython.core.display.HTML object>"
      ]
     },
     "metadata": {},
     "output_type": "display_data"
    },
    {
     "data": {
      "text/html": [
       "<span style=\"color:blue\"> |-conv_kernel_1: 3</span>"
      ],
      "text/plain": [
       "<IPython.core.display.HTML object>"
      ]
     },
     "metadata": {},
     "output_type": "display_data"
    },
    {
     "data": {
      "text/html": [
       "<span style=\"color:#4527A0\"><h1 style=\"font-size:18px\">Trial summary</h1></span>"
      ],
      "text/plain": [
       "<IPython.core.display.HTML object>"
      ]
     },
     "metadata": {},
     "output_type": "display_data"
    },
    {
     "data": {
      "text/html": [
       "<span style=\"color:cyan\"> |-Trial ID: 813b8f792c4a13608b459af62d4dda62</span>"
      ],
      "text/plain": [
       "<IPython.core.display.HTML object>"
      ]
     },
     "metadata": {},
     "output_type": "display_data"
    },
    {
     "data": {
      "text/html": [
       "<span style=\"color:cyan\"> |-Score: 0.7574567794799805</span>"
      ],
      "text/plain": [
       "<IPython.core.display.HTML object>"
      ]
     },
     "metadata": {},
     "output_type": "display_data"
    },
    {
     "data": {
      "text/html": [
       "<span style=\"color:cyan\"> |-Best step: 0</span>"
      ],
      "text/plain": [
       "<IPython.core.display.HTML object>"
      ]
     },
     "metadata": {},
     "output_type": "display_data"
    },
    {
     "data": {
      "text/html": [
       "<span style=\"color:#7E57C2\"><h2 style=\"font-size:16px\">Hyperparameters:</h2></span>"
      ],
      "text/plain": [
       "<IPython.core.display.HTML object>"
      ]
     },
     "metadata": {},
     "output_type": "display_data"
    },
    {
     "data": {
      "text/html": [
       "<span style=\"color:cyan\"> |-conv_filter_1: 128</span>"
      ],
      "text/plain": [
       "<IPython.core.display.HTML object>"
      ]
     },
     "metadata": {},
     "output_type": "display_data"
    },
    {
     "data": {
      "text/html": [
       "<span style=\"color:blue\"> |-conv_kernel_1: 5</span>"
      ],
      "text/plain": [
       "<IPython.core.display.HTML object>"
      ]
     },
     "metadata": {},
     "output_type": "display_data"
    },
    {
     "data": {
      "text/html": [
       "<span style=\"color:#4527A0\"><h1 style=\"font-size:18px\">Trial summary</h1></span>"
      ],
      "text/plain": [
       "<IPython.core.display.HTML object>"
      ]
     },
     "metadata": {},
     "output_type": "display_data"
    },
    {
     "data": {
      "text/html": [
       "<span style=\"color:cyan\"> |-Trial ID: 8201f052a554af63daa9f4ac8b2d2725</span>"
      ],
      "text/plain": [
       "<IPython.core.display.HTML object>"
      ]
     },
     "metadata": {},
     "output_type": "display_data"
    },
    {
     "data": {
      "text/html": [
       "<span style=\"color:cyan\"> |-Score: 0.7570133209228516</span>"
      ],
      "text/plain": [
       "<IPython.core.display.HTML object>"
      ]
     },
     "metadata": {},
     "output_type": "display_data"
    },
    {
     "data": {
      "text/html": [
       "<span style=\"color:cyan\"> |-Best step: 0</span>"
      ],
      "text/plain": [
       "<IPython.core.display.HTML object>"
      ]
     },
     "metadata": {},
     "output_type": "display_data"
    },
    {
     "data": {
      "text/html": [
       "<span style=\"color:#7E57C2\"><h2 style=\"font-size:16px\">Hyperparameters:</h2></span>"
      ],
      "text/plain": [
       "<IPython.core.display.HTML object>"
      ]
     },
     "metadata": {},
     "output_type": "display_data"
    },
    {
     "data": {
      "text/html": [
       "<span style=\"color:cyan\"> |-conv_filter_1: 64</span>"
      ],
      "text/plain": [
       "<IPython.core.display.HTML object>"
      ]
     },
     "metadata": {},
     "output_type": "display_data"
    },
    {
     "data": {
      "text/html": [
       "<span style=\"color:blue\"> |-conv_kernel_1: 5</span>"
      ],
      "text/plain": [
       "<IPython.core.display.HTML object>"
      ]
     },
     "metadata": {},
     "output_type": "display_data"
    },
    {
     "data": {
      "text/html": [
       "<span style=\"color:#4527A0\"><h1 style=\"font-size:18px\">Trial summary</h1></span>"
      ],
      "text/plain": [
       "<IPython.core.display.HTML object>"
      ]
     },
     "metadata": {},
     "output_type": "display_data"
    },
    {
     "data": {
      "text/html": [
       "<span style=\"color:cyan\"> |-Trial ID: ea2849a96408e64025a674d765da2577</span>"
      ],
      "text/plain": [
       "<IPython.core.display.HTML object>"
      ]
     },
     "metadata": {},
     "output_type": "display_data"
    },
    {
     "data": {
      "text/html": [
       "<span style=\"color:cyan\"> |-Score: 0.7516799569129944</span>"
      ],
      "text/plain": [
       "<IPython.core.display.HTML object>"
      ]
     },
     "metadata": {},
     "output_type": "display_data"
    },
    {
     "data": {
      "text/html": [
       "<span style=\"color:cyan\"> |-Best step: 0</span>"
      ],
      "text/plain": [
       "<IPython.core.display.HTML object>"
      ]
     },
     "metadata": {},
     "output_type": "display_data"
    },
    {
     "data": {
      "text/html": [
       "<span style=\"color:#7E57C2\"><h2 style=\"font-size:16px\">Hyperparameters:</h2></span>"
      ],
      "text/plain": [
       "<IPython.core.display.HTML object>"
      ]
     },
     "metadata": {},
     "output_type": "display_data"
    },
    {
     "data": {
      "text/html": [
       "<span style=\"color:cyan\"> |-conv_filter_1: 32</span>"
      ],
      "text/plain": [
       "<IPython.core.display.HTML object>"
      ]
     },
     "metadata": {},
     "output_type": "display_data"
    },
    {
     "data": {
      "text/html": [
       "<span style=\"color:blue\"> |-conv_kernel_1: 7</span>"
      ],
      "text/plain": [
       "<IPython.core.display.HTML object>"
      ]
     },
     "metadata": {},
     "output_type": "display_data"
    },
    {
     "data": {
      "text/html": [
       "<span style=\"color:#4527A0\"><h1 style=\"font-size:18px\">Trial summary</h1></span>"
      ],
      "text/plain": [
       "<IPython.core.display.HTML object>"
      ]
     },
     "metadata": {},
     "output_type": "display_data"
    },
    {
     "data": {
      "text/html": [
       "<span style=\"color:cyan\"> |-Trial ID: 3e6073c5970f0c9b777e77637f8db28a</span>"
      ],
      "text/plain": [
       "<IPython.core.display.HTML object>"
      ]
     },
     "metadata": {},
     "output_type": "display_data"
    },
    {
     "data": {
      "text/html": [
       "<span style=\"color:cyan\"> |-Score: 0.7474285960197449</span>"
      ],
      "text/plain": [
       "<IPython.core.display.HTML object>"
      ]
     },
     "metadata": {},
     "output_type": "display_data"
    },
    {
     "data": {
      "text/html": [
       "<span style=\"color:cyan\"> |-Best step: 0</span>"
      ],
      "text/plain": [
       "<IPython.core.display.HTML object>"
      ]
     },
     "metadata": {},
     "output_type": "display_data"
    },
    {
     "data": {
      "text/html": [
       "<span style=\"color:#7E57C2\"><h2 style=\"font-size:16px\">Hyperparameters:</h2></span>"
      ],
      "text/plain": [
       "<IPython.core.display.HTML object>"
      ]
     },
     "metadata": {},
     "output_type": "display_data"
    },
    {
     "data": {
      "text/html": [
       "<span style=\"color:cyan\"> |-conv_filter_1: 16</span>"
      ],
      "text/plain": [
       "<IPython.core.display.HTML object>"
      ]
     },
     "metadata": {},
     "output_type": "display_data"
    },
    {
     "data": {
      "text/html": [
       "<span style=\"color:blue\"> |-conv_kernel_1: 5</span>"
      ],
      "text/plain": [
       "<IPython.core.display.HTML object>"
      ]
     },
     "metadata": {},
     "output_type": "display_data"
    },
    {
     "data": {
      "text/html": [
       "<span style=\"color:#4527A0\"><h1 style=\"font-size:18px\">Trial summary</h1></span>"
      ],
      "text/plain": [
       "<IPython.core.display.HTML object>"
      ]
     },
     "metadata": {},
     "output_type": "display_data"
    },
    {
     "data": {
      "text/html": [
       "<span style=\"color:cyan\"> |-Trial ID: eb597a75f1224e35c80cffd5f82f796b</span>"
      ],
      "text/plain": [
       "<IPython.core.display.HTML object>"
      ]
     },
     "metadata": {},
     "output_type": "display_data"
    },
    {
     "data": {
      "text/html": [
       "<span style=\"color:cyan\"> |-Score: 0.7421409487724304</span>"
      ],
      "text/plain": [
       "<IPython.core.display.HTML object>"
      ]
     },
     "metadata": {},
     "output_type": "display_data"
    },
    {
     "data": {
      "text/html": [
       "<span style=\"color:cyan\"> |-Best step: 0</span>"
      ],
      "text/plain": [
       "<IPython.core.display.HTML object>"
      ]
     },
     "metadata": {},
     "output_type": "display_data"
    },
    {
     "data": {
      "text/html": [
       "<span style=\"color:#7E57C2\"><h2 style=\"font-size:16px\">Hyperparameters:</h2></span>"
      ],
      "text/plain": [
       "<IPython.core.display.HTML object>"
      ]
     },
     "metadata": {},
     "output_type": "display_data"
    },
    {
     "data": {
      "text/html": [
       "<span style=\"color:cyan\"> |-conv_filter_1: 32</span>"
      ],
      "text/plain": [
       "<IPython.core.display.HTML object>"
      ]
     },
     "metadata": {},
     "output_type": "display_data"
    },
    {
     "data": {
      "text/html": [
       "<span style=\"color:blue\"> |-conv_kernel_1: 3</span>"
      ],
      "text/plain": [
       "<IPython.core.display.HTML object>"
      ]
     },
     "metadata": {},
     "output_type": "display_data"
    },
    {
     "data": {
      "text/html": [
       "<span style=\"color:#4527A0\"><h1 style=\"font-size:18px\">Trial summary</h1></span>"
      ],
      "text/plain": [
       "<IPython.core.display.HTML object>"
      ]
     },
     "metadata": {},
     "output_type": "display_data"
    },
    {
     "data": {
      "text/html": [
       "<span style=\"color:cyan\"> |-Trial ID: 025c87633db3978ff81ad15bf1a7836d</span>"
      ],
      "text/plain": [
       "<IPython.core.display.HTML object>"
      ]
     },
     "metadata": {},
     "output_type": "display_data"
    },
    {
     "data": {
      "text/html": [
       "<span style=\"color:cyan\"> |-Score: 0.7372724413871765</span>"
      ],
      "text/plain": [
       "<IPython.core.display.HTML object>"
      ]
     },
     "metadata": {},
     "output_type": "display_data"
    },
    {
     "data": {
      "text/html": [
       "<span style=\"color:cyan\"> |-Best step: 0</span>"
      ],
      "text/plain": [
       "<IPython.core.display.HTML object>"
      ]
     },
     "metadata": {},
     "output_type": "display_data"
    },
    {
     "data": {
      "text/html": [
       "<span style=\"color:#7E57C2\"><h2 style=\"font-size:16px\">Hyperparameters:</h2></span>"
      ],
      "text/plain": [
       "<IPython.core.display.HTML object>"
      ]
     },
     "metadata": {},
     "output_type": "display_data"
    },
    {
     "data": {
      "text/html": [
       "<span style=\"color:cyan\"> |-conv_filter_1: 16</span>"
      ],
      "text/plain": [
       "<IPython.core.display.HTML object>"
      ]
     },
     "metadata": {},
     "output_type": "display_data"
    },
    {
     "data": {
      "text/html": [
       "<span style=\"color:blue\"> |-conv_kernel_1: 3</span>"
      ],
      "text/plain": [
       "<IPython.core.display.HTML object>"
      ]
     },
     "metadata": {},
     "output_type": "display_data"
    },
    {
     "data": {
      "text/html": [
       "<span style=\"color:#4527A0\"><h1 style=\"font-size:18px\">Trial summary</h1></span>"
      ],
      "text/plain": [
       "<IPython.core.display.HTML object>"
      ]
     },
     "metadata": {},
     "output_type": "display_data"
    },
    {
     "data": {
      "text/html": [
       "<span style=\"color:cyan\"> |-Trial ID: 8a5c13ce6fada83202bf857b39e1450f</span>"
      ],
      "text/plain": [
       "<IPython.core.display.HTML object>"
      ]
     },
     "metadata": {},
     "output_type": "display_data"
    },
    {
     "data": {
      "text/html": [
       "<span style=\"color:cyan\"> |-Score: 0.7365486025810242</span>"
      ],
      "text/plain": [
       "<IPython.core.display.HTML object>"
      ]
     },
     "metadata": {},
     "output_type": "display_data"
    },
    {
     "data": {
      "text/html": [
       "<span style=\"color:cyan\"> |-Best step: 0</span>"
      ],
      "text/plain": [
       "<IPython.core.display.HTML object>"
      ]
     },
     "metadata": {},
     "output_type": "display_data"
    },
    {
     "data": {
      "text/html": [
       "<span style=\"color:#7E57C2\"><h2 style=\"font-size:16px\">Hyperparameters:</h2></span>"
      ],
      "text/plain": [
       "<IPython.core.display.HTML object>"
      ]
     },
     "metadata": {},
     "output_type": "display_data"
    },
    {
     "data": {
      "text/html": [
       "<span style=\"color:cyan\"> |-conv_filter_1: 64</span>"
      ],
      "text/plain": [
       "<IPython.core.display.HTML object>"
      ]
     },
     "metadata": {},
     "output_type": "display_data"
    },
    {
     "data": {
      "text/html": [
       "<span style=\"color:blue\"> |-conv_kernel_1: 7</span>"
      ],
      "text/plain": [
       "<IPython.core.display.HTML object>"
      ]
     },
     "metadata": {},
     "output_type": "display_data"
    },
    {
     "data": {
      "text/html": [
       "<span style=\"color:#4527A0\"><h1 style=\"font-size:18px\">Trial summary</h1></span>"
      ],
      "text/plain": [
       "<IPython.core.display.HTML object>"
      ]
     },
     "metadata": {},
     "output_type": "display_data"
    },
    {
     "data": {
      "text/html": [
       "<span style=\"color:cyan\"> |-Trial ID: f722c6478d5d3b5fe2297b0de45561eb</span>"
      ],
      "text/plain": [
       "<IPython.core.display.HTML object>"
      ]
     },
     "metadata": {},
     "output_type": "display_data"
    },
    {
     "data": {
      "text/html": [
       "<span style=\"color:cyan\"> |-Score: 0.7246552109718323</span>"
      ],
      "text/plain": [
       "<IPython.core.display.HTML object>"
      ]
     },
     "metadata": {},
     "output_type": "display_data"
    },
    {
     "data": {
      "text/html": [
       "<span style=\"color:cyan\"> |-Best step: 0</span>"
      ],
      "text/plain": [
       "<IPython.core.display.HTML object>"
      ]
     },
     "metadata": {},
     "output_type": "display_data"
    },
    {
     "data": {
      "text/html": [
       "<span style=\"color:#7E57C2\"><h2 style=\"font-size:16px\">Hyperparameters:</h2></span>"
      ],
      "text/plain": [
       "<IPython.core.display.HTML object>"
      ]
     },
     "metadata": {},
     "output_type": "display_data"
    },
    {
     "data": {
      "text/html": [
       "<span style=\"color:cyan\"> |-conv_filter_1: 32</span>"
      ],
      "text/plain": [
       "<IPython.core.display.HTML object>"
      ]
     },
     "metadata": {},
     "output_type": "display_data"
    },
    {
     "data": {
      "text/html": [
       "<span style=\"color:blue\"> |-conv_kernel_1: 9</span>"
      ],
      "text/plain": [
       "<IPython.core.display.HTML object>"
      ]
     },
     "metadata": {},
     "output_type": "display_data"
    }
   ],
   "source": [
    "tuner.results_summary()"
   ]
  },
  {
   "cell_type": "code",
   "execution_count": null,
   "metadata": {},
   "outputs": [],
   "source": []
  }
 ],
 "metadata": {
  "kernelspec": {
   "display_name": "Python 3",
   "language": "python",
   "name": "python3"
  },
  "language_info": {
   "codemirror_mode": {
    "name": "ipython",
    "version": 3
   },
   "file_extension": ".py",
   "mimetype": "text/x-python",
   "name": "python",
   "nbconvert_exporter": "python",
   "pygments_lexer": "ipython3",
   "version": "3.7.7"
  }
 },
 "nbformat": 4,
 "nbformat_minor": 4
}
